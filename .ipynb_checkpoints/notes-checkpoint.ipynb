{
 "cells": [
  {
   "cell_type": "code",
   "execution_count": 1,
   "id": "cd8a4836-0563-47b0-a7fb-88a9287f24d6",
   "metadata": {},
   "outputs": [],
   "source": [
    "from collections import namedtuple"
   ]
  },
  {
   "cell_type": "code",
   "execution_count": 2,
   "id": "68ffa957-1f6b-44c2-8ee7-669cd2b7576d",
   "metadata": {},
   "outputs": [],
   "source": [
    "atr = ['a' , 'b']\n",
    "MyNamedTuple = namedtuple('MyNamedTuple', atr)"
   ]
  },
  {
   "cell_type": "code",
   "execution_count": 14,
   "id": "54229215-3113-4474-8b4d-0d480e11444e",
   "metadata": {},
   "outputs": [],
   "source": [
    "ins1 = MyNamedTuple('','')"
   ]
  },
  {
   "cell_type": "markdown",
   "id": "367ad9aa-f63d-45fa-b008-cf1e1551960b",
   "metadata": {},
   "source": [
    "_repalce\n",
    "یک اینستنس جدید ایجاد می کنه (اینستنس قبلی رو آپدیت نمی کنه)"
   ]
  },
  {
   "cell_type": "code",
   "execution_count": 16,
   "id": "29275177-3f60-47c5-8085-a892f7ea64bf",
   "metadata": {},
   "outputs": [
    {
     "data": {
      "text/plain": [
       "MyNamedTuple(a=10, b=20)"
      ]
     },
     "execution_count": 16,
     "metadata": {},
     "output_type": "execute_result"
    }
   ],
   "source": [
    "dic = {'a':10, 'b':20}\n",
    "ins1._replace(**dic)"
   ]
  },
  {
   "cell_type": "code",
   "execution_count": 17,
   "id": "fda96436-252a-42ca-8ad3-dea4bf916c1a",
   "metadata": {},
   "outputs": [
    {
     "data": {
      "text/plain": [
       "MyNamedTuple(a='', b='')"
      ]
     },
     "execution_count": 17,
     "metadata": {},
     "output_type": "execute_result"
    }
   ],
   "source": [
    "ins1"
   ]
  },
  {
   "cell_type": "code",
   "execution_count": 19,
   "id": "b7a5af67-5de4-43b8-9d2c-88859920caae",
   "metadata": {},
   "outputs": [
    {
     "data": {
      "text/plain": [
       "(MyNamedTuple(a=10, b=20), MyNamedTuple(a='', b=''))"
      ]
     },
     "execution_count": 19,
     "metadata": {},
     "output_type": "execute_result"
    }
   ],
   "source": [
    "dic = {'a':10, 'b':20}\n",
    "ins2 = ins1._replace(**dic)\n",
    "ins2 , ins1"
   ]
  },
  {
   "cell_type": "code",
   "execution_count": 56,
   "id": "24ab8f7e-62a2-442d-8694-242f66db1632",
   "metadata": {},
   "outputs": [],
   "source": [
    "class Newcls(MyNamedTuple):\n",
    "    def sing(slef):\n",
    "        print('hahaha')\n",
    "    @property\n",
    "    def x(self):\n",
    "        return self.a\n",
    "    @x.setter\n",
    "    def x(self, new_value):\n",
    "        print('I am in setter')\n",
    "        # self.a = new_value"
   ]
  },
  {
   "cell_type": "code",
   "execution_count": 57,
   "id": "2716a8d3-5014-4e83-92c9-1dc0e2ab9b05",
   "metadata": {},
   "outputs": [],
   "source": [
    "obj = Newcls(**dic)"
   ]
  },
  {
   "cell_type": "code",
   "execution_count": 58,
   "id": "0ab46e4f-4650-43c6-a873-4f4461ee8c80",
   "metadata": {},
   "outputs": [
    {
     "name": "stdout",
     "output_type": "stream",
     "text": [
      "hahaha\n"
     ]
    }
   ],
   "source": [
    "obj.sing()"
   ]
  },
  {
   "cell_type": "code",
   "execution_count": 59,
   "id": "a6c322c7-8cdf-451e-b74b-8238cae29bed",
   "metadata": {},
   "outputs": [
    {
     "data": {
      "text/plain": [
       "10"
      ]
     },
     "execution_count": 59,
     "metadata": {},
     "output_type": "execute_result"
    }
   ],
   "source": [
    "obj.a"
   ]
  },
  {
   "cell_type": "code",
   "execution_count": 60,
   "id": "9c552451-63c1-4b8e-ba51-ef2805802925",
   "metadata": {},
   "outputs": [
    {
     "ename": "AttributeError",
     "evalue": "can't set attribute",
     "output_type": "error",
     "traceback": [
      "\u001b[31m---------------------------------------------------------------------------\u001b[39m",
      "\u001b[31mAttributeError\u001b[39m                            Traceback (most recent call last)",
      "\u001b[36mCell\u001b[39m\u001b[36m \u001b[39m\u001b[32mIn[60]\u001b[39m\u001b[32m, line 1\u001b[39m\n\u001b[32m----> \u001b[39m\u001b[32m1\u001b[39m \u001b[43mobj\u001b[49m\u001b[43m.\u001b[49m\u001b[43ma\u001b[49m = \u001b[32m11\u001b[39m\n",
      "\u001b[31mAttributeError\u001b[39m: can't set attribute"
     ]
    }
   ],
   "source": [
    "obj.a = 11"
   ]
  },
  {
   "cell_type": "code",
   "execution_count": 61,
   "id": "3335a666-0d26-436e-9d76-e3b0f9f229c0",
   "metadata": {},
   "outputs": [
    {
     "data": {
      "text/plain": [
       "10"
      ]
     },
     "execution_count": 61,
     "metadata": {},
     "output_type": "execute_result"
    }
   ],
   "source": [
    "obj.x"
   ]
  },
  {
   "cell_type": "code",
   "execution_count": 62,
   "id": "cf606e33-f1df-4074-a02c-72c590a294c0",
   "metadata": {},
   "outputs": [
    {
     "name": "stdout",
     "output_type": "stream",
     "text": [
      "I am in setter\n"
     ]
    }
   ],
   "source": [
    "obj.x = 5"
   ]
  },
  {
   "cell_type": "code",
   "execution_count": 63,
   "id": "b89ee615-ff2a-4eff-a233-1deb07bd33c0",
   "metadata": {},
   "outputs": [
    {
     "data": {
      "text/plain": [
       "Newcls(a=5, b=20)"
      ]
     },
     "execution_count": 63,
     "metadata": {},
     "output_type": "execute_result"
    }
   ],
   "source": [
    "obj._replace(a=5)"
   ]
  },
  {
   "cell_type": "code",
   "execution_count": 64,
   "id": "bb9df906-b081-4f3d-98cf-9455b991fea5",
   "metadata": {},
   "outputs": [
    {
     "data": {
      "text/plain": [
       "10"
      ]
     },
     "execution_count": 64,
     "metadata": {},
     "output_type": "execute_result"
    }
   ],
   "source": [
    "obj.x"
   ]
  },
  {
   "cell_type": "raw",
   "id": "4009dab2-a8c3-494a-9f25-ccf7d0160eb7",
   "metadata": {},
   "source": [
    "هر چند خیلی خوب رید اونلی بود اتریبیوت ها ولی بازم میشه کلا آبج رو به یک آبجکت دیگه در مموری وصل کرد از طریق ریپلیس"
   ]
  },
  {
   "cell_type": "code",
   "execution_count": 65,
   "id": "52e058e3-28a7-4e01-acf2-47914cd786d1",
   "metadata": {},
   "outputs": [],
   "source": [
    "obj = obj._replace(a=5)"
   ]
  },
  {
   "cell_type": "code",
   "execution_count": 66,
   "id": "8a755445-740b-4b00-bc86-f3004d431a4b",
   "metadata": {},
   "outputs": [
    {
     "data": {
      "text/plain": [
       "5"
      ]
     },
     "execution_count": 66,
     "metadata": {},
     "output_type": "execute_result"
    }
   ],
   "source": [
    "obj.x"
   ]
  },
  {
   "cell_type": "code",
   "execution_count": 68,
   "id": "5842a7c3-35cc-44f8-a8cc-30e9876db062",
   "metadata": {},
   "outputs": [
    {
     "name": "stdout",
     "output_type": "stream",
     "text": [
      "hahaha\n"
     ]
    }
   ],
   "source": [
    "obj.sing()"
   ]
  },
  {
   "cell_type": "raw",
   "id": "73c3f580-ea41-47c9-9835-6d2d5c8baaf2",
   "metadata": {},
   "source": [
    "ژنراتور کاکپرهنشن ها را وقتی به عنوان آرگیومنت می دهیم دیگر به پرانتز نیاز ندارن"
   ]
  },
  {
   "cell_type": "markdown",
   "id": "51f6cc0d-2364-46c2-9b3b-00145e2d5759",
   "metadata": {},
   "source": [
    "<h1>کامپرینهنشن</h1>"
   ]
  },
  {
   "cell_type": "markdown",
   "id": "fd83b7b2-da00-48e0-b9a0-bedfd0633d42",
   "metadata": {},
   "source": [
    "<p style=\"color: purple;\">expr for source if condition</p>"
   ]
  },
  {
   "cell_type": "code",
   "execution_count": 22,
   "id": "05807d8d-4b34-4960-bfe4-6365424b54d5",
   "metadata": {},
   "outputs": [],
   "source": [
    "source = [1, 2, 3]"
   ]
  },
  {
   "cell_type": "code",
   "execution_count": 27,
   "id": "721bd74d-c9c4-4fc4-9bf4-7571a60caa9e",
   "metadata": {},
   "outputs": [
    {
     "data": {
      "text/plain": [
       "[(1, 1), (2, 1)]"
      ]
     },
     "execution_count": 27,
     "metadata": {},
     "output_type": "execute_result"
    }
   ],
   "source": [
    "[(a,b) for a in source if a < 3 for b in source if b < 2]"
   ]
  },
  {
   "cell_type": "code",
   "execution_count": null,
   "id": "5250e1e9-7d23-475f-a5b2-c4ec3738e110",
   "metadata": {},
   "outputs": [],
   "source": []
  },
  {
   "cell_type": "code",
   "execution_count": null,
   "id": "b49082e6-1439-4027-86ce-017b746078dc",
   "metadata": {},
   "outputs": [],
   "source": [
    "import os\n",
    "\n",
    "cwd = os.getcwd()\n",
    "\n",
    "files = os.listdir(cwd)"
   ]
  },
  {
   "cell_type": "code",
   "execution_count": 75,
   "id": "6365fdd6-8ad3-4ea7-825b-6947c3496a0a",
   "metadata": {},
   "outputs": [],
   "source": [
    "str1 = '1'"
   ]
  },
  {
   "cell_type": "code",
   "execution_count": 76,
   "id": "a423f779-ae9d-4406-ab98-3582c3d5b931",
   "metadata": {},
   "outputs": [
    {
     "name": "stdout",
     "output_type": "stream",
     "text": [
      "Help on built-in function endswith:\n",
      "\n",
      "endswith(...) method of builtins.str instance\n",
      "    S.endswith(suffix[, start[, end]]) -> bool\n",
      "\n",
      "    Return True if S ends with the specified suffix, False otherwise.\n",
      "    With optional start, test S beginning at that position.\n",
      "    With optional end, stop comparing S at that position.\n",
      "    suffix can also be a tuple of strings to try.\n",
      "\n"
     ]
    }
   ],
   "source": [
    "help(str1.endswith)"
   ]
  },
  {
   "cell_type": "code",
   "execution_count": 79,
   "id": "8fb9906c-7780-4745-8004-60539fa72c7e",
   "metadata": {},
   "outputs": [
    {
     "data": {
      "text/plain": [
       "True"
      ]
     },
     "execution_count": 79,
     "metadata": {},
     "output_type": "execute_result"
    }
   ],
   "source": [
    "str1.endswith('1')"
   ]
  },
  {
   "cell_type": "code",
   "execution_count": 81,
   "id": "e97b0e4e-ca33-444e-9c54-87e574b93b05",
   "metadata": {},
   "outputs": [
    {
     "data": {
      "text/plain": [
       "True"
      ]
     },
     "execution_count": 81,
     "metadata": {},
     "output_type": "execute_result"
    }
   ],
   "source": [
    "str1.endswith(('1', '2'))"
   ]
  },
  {
   "cell_type": "code",
   "execution_count": 82,
   "id": "b154d2d8-025d-47c2-a865-ce6c97a0dedd",
   "metadata": {},
   "outputs": [
    {
     "data": {
      "text/plain": [
       "True"
      ]
     },
     "execution_count": 82,
     "metadata": {},
     "output_type": "execute_result"
    }
   ],
   "source": [
    "str1.startswith(('1', '2'))"
   ]
  },
  {
   "cell_type": "raw",
   "id": "4b83db06-b32e-44e4-8337-940a6bf013ea",
   "metadata": {},
   "source": [
    "any(itrable)"
   ]
  },
  {
   "cell_type": "code",
   "execution_count": 83,
   "id": "41996457-34f3-4213-8395-b2710dc16626",
   "metadata": {},
   "outputs": [],
   "source": [
    "it = (file for file in files if file.endswith('pdf'))"
   ]
  },
  {
   "cell_type": "code",
   "execution_count": 84,
   "id": "696aebc9-a933-407c-8fb4-db49af6cc812",
   "metadata": {},
   "outputs": [
    {
     "data": {
      "text/plain": [
       "False"
      ]
     },
     "execution_count": 84,
     "metadata": {},
     "output_type": "execute_result"
    }
   ],
   "source": [
    "any(it)"
   ]
  },
  {
   "cell_type": "code",
   "execution_count": 85,
   "id": "26aa2eb0-f09f-4f86-9f41-fbba8ce5d7b6",
   "metadata": {},
   "outputs": [],
   "source": [
    "it = (file for file in files if file.endswith('txt'))\n"
   ]
  },
  {
   "cell_type": "code",
   "execution_count": 86,
   "id": "a8617271-7208-4636-a954-99b3c4c560a5",
   "metadata": {},
   "outputs": [
    {
     "data": {
      "text/plain": [
       "True"
      ]
     },
     "execution_count": 86,
     "metadata": {},
     "output_type": "execute_result"
    }
   ],
   "source": [
    "any(it)"
   ]
  },
  {
   "cell_type": "code",
   "execution_count": 87,
   "id": "c5f24aba-2188-49f0-840d-983e6f04d468",
   "metadata": {},
   "outputs": [
    {
     "data": {
      "text/plain": [
       "['test.txt']"
      ]
     },
     "execution_count": 87,
     "metadata": {},
     "output_type": "execute_result"
    }
   ],
   "source": [
    "it = (file for file in files if file.endswith('txt'))\n",
    "list(it)"
   ]
  },
  {
   "cell_type": "code",
   "execution_count": 90,
   "id": "97537f7f-b92b-4308-8c44-500c43fb2a6a",
   "metadata": {},
   "outputs": [
    {
     "data": {
      "text/plain": [
       "(True, False, False)"
      ]
     },
     "execution_count": 90,
     "metadata": {},
     "output_type": "execute_result"
    }
   ],
   "source": [
    "lst1 =[1,0]\n",
    "lst2 = [0.0]\n",
    "lst3 =[]\n",
    "any(lst1), any(lst2), any(lst3)"
   ]
  },
  {
   "cell_type": "code",
   "execution_count": 91,
   "id": "94d04a3f-4f5b-45af-bc56-34a77bd18e21",
   "metadata": {},
   "outputs": [
    {
     "data": {
      "text/plain": [
       "'1,2,3'"
      ]
     },
     "execution_count": 91,
     "metadata": {},
     "output_type": "execute_result"
    }
   ],
   "source": [
    "tpl = ('1', '2', '3')\n",
    "','.join(tpl)"
   ]
  },
  {
   "cell_type": "code",
   "execution_count": 92,
   "id": "40d84d55-8dd0-4d46-a56f-38f212095827",
   "metadata": {},
   "outputs": [
    {
     "ename": "TypeError",
     "evalue": "sequence item 1: expected str instance, int found",
     "output_type": "error",
     "traceback": [
      "\u001b[31m---------------------------------------------------------------------------\u001b[39m",
      "\u001b[31mTypeError\u001b[39m                                 Traceback (most recent call last)",
      "\u001b[36mCell\u001b[39m\u001b[36m \u001b[39m\u001b[32mIn[92]\u001b[39m\u001b[32m, line 2\u001b[39m\n\u001b[32m      1\u001b[39m tpl = (\u001b[33m'\u001b[39m\u001b[33m1\u001b[39m\u001b[33m'\u001b[39m, \u001b[32m2\u001b[39m, \u001b[33m'\u001b[39m\u001b[33m3\u001b[39m\u001b[33m'\u001b[39m)\n\u001b[32m----> \u001b[39m\u001b[32m2\u001b[39m \u001b[33;43m'\u001b[39;49m\u001b[33;43m,\u001b[39;49m\u001b[33;43m'\u001b[39;49m\u001b[43m.\u001b[49m\u001b[43mjoin\u001b[49m\u001b[43m(\u001b[49m\u001b[43mtpl\u001b[49m\u001b[43m)\u001b[49m\n",
      "\u001b[31mTypeError\u001b[39m: sequence item 1: expected str instance, int found"
     ]
    }
   ],
   "source": [
    "tpl = ('1', 2, '3')\n",
    "','.join(tpl)"
   ]
  },
  {
   "cell_type": "code",
   "execution_count": 93,
   "id": "c571c0f4-ac95-4120-985c-569bad2c4556",
   "metadata": {},
   "outputs": [
    {
     "data": {
      "text/plain": [
       "'1,2,3'"
      ]
     },
     "execution_count": 93,
     "metadata": {},
     "output_type": "execute_result"
    }
   ],
   "source": [
    "tpl = ('1', 2, '3')\n",
    "it = (str(x) for x in tpl) \n",
    "','.join(it)"
   ]
  },
  {
   "cell_type": "code",
   "execution_count": 94,
   "id": "b236ffde-4399-490c-b506-78478cde7160",
   "metadata": {},
   "outputs": [
    {
     "data": {
      "text/plain": [
       "'1,2,3'"
      ]
     },
     "execution_count": 94,
     "metadata": {},
     "output_type": "execute_result"
    }
   ],
   "source": [
    "tpl = ('1', 2, '3')\n",
    "','.join(str(x) for x in tpl)"
   ]
  },
  {
   "cell_type": "markdown",
   "id": "912d0b25-40b3-49fd-a130-9e1a7c12ba64",
   "metadata": {},
   "source": [
    "<h1 style=\"color:purple;\">ChainMap</h1>"
   ]
  },
  {
   "cell_type": "code",
   "execution_count": 101,
   "id": "f8850548-c7c2-499d-9187-9e7cbb437962",
   "metadata": {},
   "outputs": [
    {
     "data": {
      "text/plain": [
       "(ChainMap({'a': 5, 'b': 6}, {'c': 8, 'b': 7}),\n",
       " [('c', 8), ('b', 6), ('a', 5)],\n",
       " ['c', 'b', 'a'],\n",
       " [8, 6, 5])"
      ]
     },
     "execution_count": 101,
     "metadata": {},
     "output_type": "execute_result"
    }
   ],
   "source": [
    "dic1 = {'a':5, 'b':6}\n",
    "dic2 = {'c':8, 'b':7}\n",
    "from collections import ChainMap\n",
    "cm = ChainMap(dic1,dic2)\n",
    "# khabari az b:7 nist\n",
    "cm, list(cm.items()), list(cm.keys()),list(cm.values())"
   ]
  },
  {
   "cell_type": "code",
   "execution_count": 102,
   "id": "c458669a-8e19-4d79-8fe0-c8049825eff8",
   "metadata": {},
   "outputs": [],
   "source": [
    "cm['b'] = 66"
   ]
  },
  {
   "cell_type": "code",
   "execution_count": 103,
   "id": "a594ebdf-32fd-4398-8c66-65186fbe88d6",
   "metadata": {},
   "outputs": [],
   "source": [
    "cm['d'] = 10"
   ]
  },
  {
   "cell_type": "code",
   "execution_count": 105,
   "id": "cf0939d8-749a-4cba-8620-727f92f521f9",
   "metadata": {},
   "outputs": [
    {
     "data": {
      "text/plain": [
       "ChainMap({'a': 5, 'b': 66, 'd': 10}, {'c': 8, 'b': 7})"
      ]
     },
     "execution_count": 105,
     "metadata": {},
     "output_type": "execute_result"
    }
   ],
   "source": [
    "cm\n",
    "# chon dic1 asli hast taghirat ro ruie un emal mikone ta hamvare efektiv bashe, dic2 fallback hast"
   ]
  },
  {
   "cell_type": "code",
   "execution_count": 135,
   "id": "dd8897a8-de3b-4106-913d-a0418453548a",
   "metadata": {},
   "outputs": [
    {
     "data": {
      "text/plain": [
       "{'a': 5, 'b': 6}"
      ]
     },
     "execution_count": 135,
     "metadata": {},
     "output_type": "execute_result"
    }
   ],
   "source": [
    "dic1"
   ]
  },
  {
   "cell_type": "code",
   "execution_count": 136,
   "id": "16221dc2-5f63-4e09-9359-8fc60f37b1c2",
   "metadata": {},
   "outputs": [
    {
     "data": {
      "text/plain": [
       "{'c': 8, 'b': 7}"
      ]
     },
     "execution_count": 136,
     "metadata": {},
     "output_type": "execute_result"
    }
   ],
   "source": [
    "dic2"
   ]
  },
  {
   "cell_type": "markdown",
   "id": "c9037e05-5c41-43d3-b3ce-7887a65489f3",
   "metadata": {},
   "source": [
    "<h1 style=\"color:purple;\">Update Dict</h1>"
   ]
  },
  {
   "cell_type": "code",
   "execution_count": 107,
   "id": "055049f6-bf2d-45b5-bd1a-e71dbb194b37",
   "metadata": {},
   "outputs": [
    {
     "data": {
      "text/plain": [
       "{'a': 5, 'b': 7, 'c': 8}"
      ]
     },
     "execution_count": 107,
     "metadata": {},
     "output_type": "execute_result"
    }
   ],
   "source": [
    "dic1 = {'a':5, 'b':6}\n",
    "dic2 = {'c':8, 'b':7}\n",
    "merged = dic1\n",
    "merged.update(dic2)\n",
    "# khabari az b:6 nist\n",
    "merged"
   ]
  },
  {
   "cell_type": "code",
   "execution_count": 108,
   "id": "0ebc1567-adc4-4829-9283-b5ce48b5b523",
   "metadata": {},
   "outputs": [
    {
     "data": {
      "text/plain": [
       "{'a': 5, 'b': 7, 'c': 8}"
      ]
     },
     "execution_count": 108,
     "metadata": {},
     "output_type": "execute_result"
    }
   ],
   "source": [
    "dic1\n",
    "# khod dic1 taghir karde"
   ]
  },
  {
   "cell_type": "code",
   "execution_count": null,
   "id": "60422225-ff9c-4146-b8a8-d6282c13913d",
   "metadata": {},
   "outputs": [],
   "source": []
  },
  {
   "cell_type": "code",
   "execution_count": 119,
   "id": "a18e368f-2efb-48fd-90f9-e7434097e1d0",
   "metadata": {},
   "outputs": [
    {
     "data": {
      "text/plain": [
       "(5, 6, 8)"
      ]
     },
     "execution_count": 119,
     "metadata": {},
     "output_type": "execute_result"
    }
   ],
   "source": [
    "dic1 = {'a':5, 'b':6}\n",
    "dic2 = {'c':8, 'b':7}\n",
    "cm = ChainMap(dic1, dic2)\n",
    "dic3 = {'a':5, 'b':6}\n",
    "dic4 = {'c':8, 'b':7}\n",
    "dic4.update(dic3)\n",
    "\n",
    "cm['a'], cm['b'], cm['c']\n",
    "dic3,dic4\n",
    "dic4['a'], dic4['b'], dic4['c']"
   ]
  },
  {
   "cell_type": "code",
   "execution_count": 120,
   "id": "d502d881-e33b-461c-b448-e47aff2c7e19",
   "metadata": {},
   "outputs": [
    {
     "data": {
      "text/plain": [
       "({'a': 5, 'b': 6}, {'c': 8, 'b': 7})"
      ]
     },
     "execution_count": 120,
     "metadata": {},
     "output_type": "execute_result"
    }
   ],
   "source": [
    "dic1,dic2"
   ]
  },
  {
   "cell_type": "code",
   "execution_count": 121,
   "id": "e82f50c5-c562-4648-a312-ffb9422e5620",
   "metadata": {},
   "outputs": [
    {
     "data": {
      "text/plain": [
       "({'a': 5, 'b': 6}, {'c': 8, 'b': 6, 'a': 5})"
      ]
     },
     "execution_count": 121,
     "metadata": {},
     "output_type": "execute_result"
    }
   ],
   "source": [
    "dic3,dic4"
   ]
  },
  {
   "cell_type": "code",
   "execution_count": 122,
   "id": "5fe05395-81bd-4cf7-a2fc-aa612fd7b8a3",
   "metadata": {},
   "outputs": [
    {
     "data": {
      "text/plain": [
       "{'c': 8, 'b': 6, 'a': 5}"
      ]
     },
     "execution_count": 122,
     "metadata": {},
     "output_type": "execute_result"
    }
   ],
   "source": [
    "dic1 = {'a':5, 'b':6}\n",
    "dic2 = {'c':8, 'b':7}\n",
    "cm = ChainMap(dic1, dic2)\n",
    "dic3 = {'a':5, 'b':6}\n",
    "dic4 = {'c':8, 'b':7}\n",
    "merged = dic4\n",
    "merged.update(dic3)\n",
    "merged"
   ]
  },
  {
   "cell_type": "code",
   "execution_count": 123,
   "id": "74c712e5-d246-43e6-b3e6-960e252b2340",
   "metadata": {},
   "outputs": [
    {
     "data": {
      "text/plain": [
       "{'c': 8, 'b': 6, 'a': 5}"
      ]
     },
     "execution_count": 123,
     "metadata": {},
     "output_type": "execute_result"
    }
   ],
   "source": [
    "dic4"
   ]
  },
  {
   "cell_type": "code",
   "execution_count": 124,
   "id": "52ae868e-78de-4ae9-9a1e-825fa9a41d1e",
   "metadata": {},
   "outputs": [
    {
     "data": {
      "text/plain": [
       "{'a': 5, 'b': 6}"
      ]
     },
     "execution_count": 124,
     "metadata": {},
     "output_type": "execute_result"
    }
   ],
   "source": [
    "dic3"
   ]
  },
  {
   "cell_type": "code",
   "execution_count": 127,
   "id": "466b6add-c845-4278-b2c7-b51b45092aa1",
   "metadata": {},
   "outputs": [
    {
     "data": {
      "text/plain": [
       "{'c': 8, 'b': 100, 'a': 5}"
      ]
     },
     "execution_count": 127,
     "metadata": {},
     "output_type": "execute_result"
    }
   ],
   "source": [
    "merged['b']= 100\n",
    "merged"
   ]
  },
  {
   "cell_type": "code",
   "execution_count": 128,
   "id": "11f612c7-a17b-4bd7-8f47-da58ff45e0fe",
   "metadata": {},
   "outputs": [
    {
     "data": {
      "text/plain": [
       "{'c': 8, 'b': 100, 'a': 5}"
      ]
     },
     "execution_count": 128,
     "metadata": {},
     "output_type": "execute_result"
    }
   ],
   "source": [
    "dic4"
   ]
  },
  {
   "cell_type": "code",
   "execution_count": 129,
   "id": "63dd5b23-0dae-4322-bd8c-935236709121",
   "metadata": {},
   "outputs": [
    {
     "data": {
      "text/plain": [
       "{'a': 5, 'b': 6}"
      ]
     },
     "execution_count": 129,
     "metadata": {},
     "output_type": "execute_result"
    }
   ],
   "source": [
    "dic3"
   ]
  },
  {
   "cell_type": "code",
   "execution_count": 130,
   "id": "f15e540e-4f94-4302-95cb-3bc2bf20af35",
   "metadata": {},
   "outputs": [
    {
     "data": {
      "text/plain": [
       "{'c': 8, 'b': 600, 'a': 5}"
      ]
     },
     "execution_count": 130,
     "metadata": {},
     "output_type": "execute_result"
    }
   ],
   "source": [
    "dic4['b'] = 600\n",
    "dic4"
   ]
  },
  {
   "cell_type": "code",
   "execution_count": 131,
   "id": "cbc7ef38-d1e7-4c1a-8768-75272099b740",
   "metadata": {},
   "outputs": [
    {
     "data": {
      "text/plain": [
       "{'c': 8, 'b': 600, 'a': 5}"
      ]
     },
     "execution_count": 131,
     "metadata": {},
     "output_type": "execute_result"
    }
   ],
   "source": [
    "merged"
   ]
  },
  {
   "cell_type": "code",
   "execution_count": 132,
   "id": "80ee4ff6-86b0-4f48-a006-6207bf07049a",
   "metadata": {},
   "outputs": [
    {
     "name": "stdout",
     "output_type": "stream",
     "text": [
      "Help on built-in function update:\n",
      "\n",
      "update(...) method of builtins.dict instance\n",
      "    D.update([E, ]**F) -> None.  Update D from mapping/iterable E and F.\n",
      "    If E is present and has a .keys() method, then does:  for k in E.keys(): D[k] = E[k]\n",
      "    If E is present and lacks a .keys() method, then does:  for k, v in E: D[k] = v\n",
      "    In either case, this is followed by: for k in F:  D[k] = F[k]\n",
      "\n"
     ]
    }
   ],
   "source": [
    "help(dic4.update)"
   ]
  },
  {
   "cell_type": "markdown",
   "id": "afa3f1ea-e717-4eef-9423-7ba890dac8f4",
   "metadata": {},
   "source": [
    "<h1>merging dict with **</h1> "
   ]
  },
  {
   "cell_type": "code",
   "execution_count": 1,
   "id": "372aa67f-b841-4390-b908-033f8b0545d0",
   "metadata": {},
   "outputs": [
    {
     "data": {
      "text/plain": [
       "{'a': 1, 'b': 2.5, 'c': 3}"
      ]
     },
     "execution_count": 1,
     "metadata": {},
     "output_type": "execute_result"
    }
   ],
   "source": [
    "dict1 = {'a' : 1, 'b' : 2} ; dict2 = {'b' : 2.5, 'c' : 3}; {**dict1, **dict2}"
   ]
  },
  {
   "cell_type": "code",
   "execution_count": 4,
   "id": "9e05b27a-d1d9-4e61-8146-c1db0a1aaa52",
   "metadata": {},
   "outputs": [
    {
     "data": {
      "text/plain": [
       "{'a': 1, 'b': 2.5, 'c': 3}"
      ]
     },
     "execution_count": 4,
     "metadata": {},
     "output_type": "execute_result"
    }
   ],
   "source": [
    "dict1.update(dict2); dict1"
   ]
  },
  {
   "cell_type": "markdown",
   "id": "b3043bf8-a767-4ce4-a20f-4675fc8fe7ea",
   "metadata": {},
   "source": [
    "<h1>merging list,tuple, set with *</h1> "
   ]
  },
  {
   "cell_type": "code",
   "execution_count": 9,
   "id": "fc538bcc-728b-4949-8439-144acc85871a",
   "metadata": {},
   "outputs": [
    {
     "data": {
      "text/plain": [
       "[1, 2, 3, 4, 5, 6]"
      ]
     },
     "execution_count": 9,
     "metadata": {},
     "output_type": "execute_result"
    }
   ],
   "source": [
    "a = [1, 2, 3]; b = [4, 5, 6]; [*a, *b]"
   ]
  },
  {
   "cell_type": "code",
   "execution_count": 10,
   "id": "ae4d999c-de7a-4167-815b-97f80e96bb75",
   "metadata": {},
   "outputs": [
    {
     "data": {
      "text/plain": [
       "[1, 2, 3]"
      ]
     },
     "execution_count": 10,
     "metadata": {},
     "output_type": "execute_result"
    }
   ],
   "source": [
    "a"
   ]
  },
  {
   "cell_type": "code",
   "execution_count": 11,
   "id": "05ed826b-0589-4446-b39c-95697405ddc9",
   "metadata": {},
   "outputs": [
    {
     "data": {
      "text/plain": [
       "[4, 5, 6]"
      ]
     },
     "execution_count": 11,
     "metadata": {},
     "output_type": "execute_result"
    }
   ],
   "source": [
    "b"
   ]
  },
  {
   "cell_type": "code",
   "execution_count": 12,
   "id": "eac0afde-af32-44dd-9cab-8789c7d78697",
   "metadata": {},
   "outputs": [
    {
     "data": {
      "text/plain": [
       "[1, 2, 3, 4, 5, 6]"
      ]
     },
     "execution_count": 12,
     "metadata": {},
     "output_type": "execute_result"
    }
   ],
   "source": [
    "a.extend(b); a"
   ]
  },
  {
   "cell_type": "code",
   "execution_count": 13,
   "id": "63446dcf-0cf3-45d9-bb88-a7eb63d14de8",
   "metadata": {},
   "outputs": [
    {
     "data": {
      "text/plain": [
       "(1, 2, 3, 4, 5, 6)"
      ]
     },
     "execution_count": 13,
     "metadata": {},
     "output_type": "execute_result"
    }
   ],
   "source": [
    "a = (1, 2, 3); b = (4, 5, 6); (*a, *b)"
   ]
  },
  {
   "cell_type": "code",
   "execution_count": 18,
   "id": "43b8832a-20ad-4cc1-b80f-0f1f0c03928f",
   "metadata": {},
   "outputs": [
    {
     "data": {
      "text/plain": [
       "{1, 2, 3, 4, 5, 6}"
      ]
     },
     "execution_count": 18,
     "metadata": {},
     "output_type": "execute_result"
    }
   ],
   "source": [
    "a = {1, 2, 3}; b = {4, 5, 6}; {*a, *b}"
   ]
  },
  {
   "cell_type": "code",
   "execution_count": 14,
   "id": "fe6b44f8-993d-415e-8fd8-7913e8e88495",
   "metadata": {},
   "outputs": [
    {
     "data": {
      "text/plain": [
       "[1, 2, 3, 4, 5, 6]"
      ]
     },
     "execution_count": 14,
     "metadata": {},
     "output_type": "execute_result"
    }
   ],
   "source": [
    "[*a, *b]"
   ]
  },
  {
   "cell_type": "code",
   "execution_count": 15,
   "id": "fa16ee82-e3fe-4ad2-826f-556404ea1adc",
   "metadata": {},
   "outputs": [
    {
     "data": {
      "text/plain": [
       "{1, 2, 3, 4, 5, 6}"
      ]
     },
     "execution_count": 15,
     "metadata": {},
     "output_type": "execute_result"
    }
   ],
   "source": [
    "{*a,*b}"
   ]
  },
  {
   "cell_type": "code",
   "execution_count": 21,
   "id": "9eba968c-b6f2-4fcf-9ef4-75b15d13fe27",
   "metadata": {},
   "outputs": [],
   "source": [
    "a.update(b)"
   ]
  },
  {
   "cell_type": "code",
   "execution_count": 22,
   "id": "058c8603-05d0-4fe8-bab2-b6ae8ff24c76",
   "metadata": {},
   "outputs": [
    {
     "data": {
      "text/plain": [
       "{1, 2, 3, 4, 5, 6}"
      ]
     },
     "execution_count": 22,
     "metadata": {},
     "output_type": "execute_result"
    }
   ],
   "source": [
    "a"
   ]
  },
  {
   "cell_type": "code",
   "execution_count": 23,
   "id": "3a8d4b67-0ee4-4fec-8545-d1df78787583",
   "metadata": {},
   "outputs": [],
   "source": [
    "a = {1, 2, 3}; b = {4, 5, 6};"
   ]
  },
  {
   "cell_type": "code",
   "execution_count": 24,
   "id": "5628fa4e-6124-422f-9014-5cf8958b6aef",
   "metadata": {},
   "outputs": [
    {
     "data": {
      "text/plain": [
       "{1, 2, 3, 4, 5, 6}"
      ]
     },
     "execution_count": 24,
     "metadata": {},
     "output_type": "execute_result"
    }
   ],
   "source": [
    "a.union(b) "
   ]
  },
  {
   "cell_type": "markdown",
   "id": "16600fd2-dddb-4d94-97a7-1b2ed91530a5",
   "metadata": {},
   "source": [
    "<h1>using * for unpacking any iterable</h1>"
   ]
  },
  {
   "cell_type": "code",
   "execution_count": 31,
   "id": "4eaec1c2-ce51-4faf-9d52-58cef1593d61",
   "metadata": {},
   "outputs": [],
   "source": [
    "st='salam'"
   ]
  },
  {
   "cell_type": "code",
   "execution_count": 32,
   "id": "e020c81b-600c-413a-8eeb-0857a19c6f94",
   "metadata": {},
   "outputs": [
    {
     "data": {
      "text/plain": [
       "['s', 'a', 'l', 'a', 'm']"
      ]
     },
     "execution_count": 32,
     "metadata": {},
     "output_type": "execute_result"
    }
   ],
   "source": [
    "[*st]"
   ]
  },
  {
   "cell_type": "code",
   "execution_count": 34,
   "id": "736016ac-2b05-4b23-9a6a-001cf5b87610",
   "metadata": {},
   "outputs": [],
   "source": [
    "with open('text1.txt') as f:\n",
    "    lst = [*f]"
   ]
  },
  {
   "cell_type": "code",
   "execution_count": 36,
   "id": "c2dc2e49-95fb-491e-9fad-9c051eee0335",
   "metadata": {},
   "outputs": [
    {
     "data": {
      "text/plain": [
       "['Python is an interpreted, high-level, general-purpose programming language. \\n',\n",
       " \"Created by Guido van Rossum and first released in 1991, Python's design philosophy emphasizes code readability with its notable use of significant whitespace. \\n\",\n",
       " 'Its language constructs and object-oriented approach aim to help programmers write clear, logical code for small and large-scale projects.\\n',\n",
       " 'Python is dynamically typed and garbage-collected. \\n',\n",
       " 'It supports multiple programming paradigms, including structured (particularly, procedural), object-oriented, and functional programming. \\n',\n",
       " 'Python is often described as a \"batteries included\" language due to its comprehensive standard library.\\n',\n",
       " 'Python was conceived in the late 1980s as a successor to the ABC language. \\n',\n",
       " 'Python 2.0, released in 2000, introduced features like list comprehensions and a garbage collection system with reference counting.\\n',\n",
       " 'Python 3.0, released in 2008, was a major revision of the language that is not completely backward-compatible, and much Python 2 code does not run unmodified on Python 3.\\n',\n",
       " 'The Python 2 language was officially discontinued in 2020 (first planned for 2015), and \"Python 2.7.18 is the last Python 2.7 release and therefore the last Python 2 release.\"[30] \\n',\n",
       " 'No more security patches or other improvements will be released for it.\\n',\n",
       " 'A global community of programmers develops and maintains CPython, a free and open-source[34] reference implementation. \\n',\n",
       " 'A non-profit organization, the Python Software Foundation, manages and directs resources for Python and CPython development.']"
      ]
     },
     "execution_count": 36,
     "metadata": {},
     "output_type": "execute_result"
    }
   ],
   "source": [
    "lst"
   ]
  },
  {
   "cell_type": "code",
   "execution_count": null,
   "id": "47a7ca32-bb84-4cae-b8c1-b698a8265b3b",
   "metadata": {},
   "outputs": [],
   "source": []
  },
  {
   "cell_type": "code",
   "execution_count": null,
   "id": "bcbdaddf-f309-44ca-ab1d-da4eb2f9ab61",
   "metadata": {},
   "outputs": [],
   "source": []
  },
  {
   "cell_type": "code",
   "execution_count": null,
   "id": "4f6575e5-7585-4563-b349-8faf6f314f13",
   "metadata": {},
   "outputs": [],
   "source": []
  },
  {
   "cell_type": "markdown",
   "id": "7545941d-22b3-42b5-91a3-056b65b14a77",
   "metadata": {},
   "source": [
    "<h1>using ** for unpacking series</h1>"
   ]
  },
  {
   "cell_type": "code",
   "execution_count": 37,
   "id": "7ceb26b1-f391-476d-ab4a-88d8826891e2",
   "metadata": {},
   "outputs": [],
   "source": [
    "import pandas as pd"
   ]
  },
  {
   "cell_type": "code",
   "execution_count": 38,
   "id": "17873aae-290c-4286-ad8c-e1e1c5a4b7f5",
   "metadata": {},
   "outputs": [],
   "source": [
    "s = pd.Series([1, 2, 3])"
   ]
  },
  {
   "cell_type": "code",
   "execution_count": 39,
   "id": "df1b167c-12b6-4c74-9e29-ecfae7c53310",
   "metadata": {},
   "outputs": [
    {
     "data": {
      "text/plain": [
       "{0: np.int64(1), 1: np.int64(2), 2: np.int64(3)}"
      ]
     },
     "execution_count": 39,
     "metadata": {},
     "output_type": "execute_result"
    }
   ],
   "source": [
    "{**s}"
   ]
  },
  {
   "cell_type": "code",
   "execution_count": null,
   "id": "7741c027-6357-4d89-99aa-f56732e4f227",
   "metadata": {},
   "outputs": [],
   "source": []
  },
  {
   "cell_type": "code",
   "execution_count": null,
   "id": "45cb3ac6-3be8-417b-9db3-e62481371f67",
   "metadata": {},
   "outputs": [],
   "source": []
  },
  {
   "cell_type": "markdown",
   "id": "e2525ed6-5dbf-4bbf-8600-0afe65c5a434",
   "metadata": {},
   "source": [
    "<h1>set.update vs set.union</h1>"
   ]
  },
  {
   "cell_type": "markdown",
   "id": "e4ec5969-2eec-47a1-866e-3cb7767f33d1",
   "metadata": {},
   "source": [
    "<p>union iek set jadid misaze vali update set aval ro taghir mide</p>"
   ]
  },
  {
   "cell_type": "code",
   "execution_count": 25,
   "id": "c6f4762d-ab36-463e-9ade-2f4035f52530",
   "metadata": {},
   "outputs": [],
   "source": [
    "a = {1, 2, 3}; b = {4, 5, 6}"
   ]
  },
  {
   "cell_type": "code",
   "execution_count": 26,
   "id": "7a8f2bc6-868e-424b-89e6-2f4523991705",
   "metadata": {},
   "outputs": [
    {
     "data": {
      "text/plain": [
       "{1, 2, 3, 4, 5, 6}"
      ]
     },
     "execution_count": 26,
     "metadata": {},
     "output_type": "execute_result"
    }
   ],
   "source": [
    "a.union(b)"
   ]
  },
  {
   "cell_type": "code",
   "execution_count": 27,
   "id": "d9b01a2b-4f1f-40c0-9bf6-8e59a92404d0",
   "metadata": {},
   "outputs": [
    {
     "data": {
      "text/plain": [
       "{1, 2, 3}"
      ]
     },
     "execution_count": 27,
     "metadata": {},
     "output_type": "execute_result"
    }
   ],
   "source": [
    "a"
   ]
  },
  {
   "cell_type": "code",
   "execution_count": 28,
   "id": "1970cd24-f669-41a9-b90c-1a1c411b60c1",
   "metadata": {},
   "outputs": [
    {
     "data": {
      "text/plain": [
       "{4, 5, 6}"
      ]
     },
     "execution_count": 28,
     "metadata": {},
     "output_type": "execute_result"
    }
   ],
   "source": [
    "b"
   ]
  },
  {
   "cell_type": "code",
   "execution_count": 29,
   "id": "a7013ae0-9717-46ce-9cef-a30717e8af9b",
   "metadata": {},
   "outputs": [],
   "source": [
    "a.update(b)"
   ]
  },
  {
   "cell_type": "code",
   "execution_count": 30,
   "id": "f39911e5-c4ab-43a6-afbb-1c1c7bdb3bb2",
   "metadata": {},
   "outputs": [
    {
     "data": {
      "text/plain": [
       "{1, 2, 3, 4, 5, 6}"
      ]
     },
     "execution_count": 30,
     "metadata": {},
     "output_type": "execute_result"
    }
   ],
   "source": [
    "a"
   ]
  },
  {
   "cell_type": "code",
   "execution_count": null,
   "id": "afc9ec25-582c-4061-aded-c7a8e2d2578e",
   "metadata": {},
   "outputs": [],
   "source": []
  },
  {
   "cell_type": "code",
   "execution_count": null,
   "id": "b6ef4a67-551d-49f3-8153-6b213b8e4889",
   "metadata": {},
   "outputs": [],
   "source": []
  },
  {
   "cell_type": "code",
   "execution_count": null,
   "id": "77469300-a30c-45cc-b274-ee67a3e91f84",
   "metadata": {},
   "outputs": [],
   "source": []
  },
  {
   "cell_type": "code",
   "execution_count": null,
   "id": "397107ba-0da6-445c-9b0f-3d4b3fb62890",
   "metadata": {},
   "outputs": [],
   "source": []
  },
  {
   "cell_type": "markdown",
   "id": "5ed79fb7-2337-4b57-a166-21a1f7fe898c",
   "metadata": {},
   "source": [
    "<h1>chain.from_iterable</h1>"
   ]
  },
  {
   "cell_type": "code",
   "execution_count": 137,
   "id": "56902b0f-737a-442b-84e3-f2618be154f8",
   "metadata": {},
   "outputs": [
    {
     "name": "stdout",
     "output_type": "stream",
     "text": [
      "[1, 2, 3, 4, 5, 6, 7, 8]\n"
     ]
    }
   ],
   "source": [
    "from itertools import chain\n",
    "\n",
    "nested_list = [[1, 2, 3], [4, 5], [6, 7, 8]]\n",
    "\n",
    "flattened = chain.from_iterable(nested_list)\n",
    "\n",
    "print(list(flattened))  \n",
    "\n"
   ]
  },
  {
   "cell_type": "code",
   "execution_count": null,
   "id": "754932fc-f328-4457-8508-ac60f28b8607",
   "metadata": {},
   "outputs": [],
   "source": []
  },
  {
   "cell_type": "code",
   "execution_count": null,
   "id": "b52551ab-d364-4eb0-84f4-13c489caf30a",
   "metadata": {},
   "outputs": [],
   "source": []
  },
  {
   "cell_type": "code",
   "execution_count": 1,
   "id": "352047cd-775e-4a6c-b876-38bb58fbcb0d",
   "metadata": {},
   "outputs": [],
   "source": [
    "from typing import NamedTuple\n",
    "class ReadOnly(NamedTuple):\n",
    "    a:int=0\n",
    "    b:int=0\n",
    "obj1 = ReadOnly()\n",
    "obj2 = ReadOnly(3,4)\n",
    "obj3 = ReadOnly(b =4 , a=4)"
   ]
  },
  {
   "cell_type": "code",
   "execution_count": 2,
   "id": "e05833b1-4206-4501-8b99-79abce715bf3",
   "metadata": {},
   "outputs": [
    {
     "data": {
      "text/plain": [
       "ReadOnly(a=0, b=0)"
      ]
     },
     "execution_count": 2,
     "metadata": {},
     "output_type": "execute_result"
    }
   ],
   "source": [
    "obj1"
   ]
  },
  {
   "cell_type": "code",
   "execution_count": 3,
   "id": "518d45a3-9a8a-4980-821c-bc3ed385567c",
   "metadata": {},
   "outputs": [
    {
     "data": {
      "text/plain": [
       "ReadOnly(a=3, b=4)"
      ]
     },
     "execution_count": 3,
     "metadata": {},
     "output_type": "execute_result"
    }
   ],
   "source": [
    "obj2"
   ]
  },
  {
   "cell_type": "code",
   "execution_count": 4,
   "id": "d9832135-cad5-4e2d-9363-8a9bafd88ea5",
   "metadata": {},
   "outputs": [
    {
     "data": {
      "text/plain": [
       "ReadOnly(a=4, b=4)"
      ]
     },
     "execution_count": 4,
     "metadata": {},
     "output_type": "execute_result"
    }
   ],
   "source": [
    "obj3"
   ]
  },
  {
   "cell_type": "code",
   "execution_count": 5,
   "id": "d13db73e-c1e4-481a-bb24-0b53396b57e3",
   "metadata": {},
   "outputs": [
    {
     "ename": "AttributeError",
     "evalue": "can't set attribute",
     "output_type": "error",
     "traceback": [
      "\u001b[31m---------------------------------------------------------------------------\u001b[39m",
      "\u001b[31mAttributeError\u001b[39m                            Traceback (most recent call last)",
      "\u001b[36mCell\u001b[39m\u001b[36m \u001b[39m\u001b[32mIn[5]\u001b[39m\u001b[32m, line 1\u001b[39m\n\u001b[32m----> \u001b[39m\u001b[32m1\u001b[39m \u001b[43mobj1\u001b[49m\u001b[43m.\u001b[49m\u001b[43ma\u001b[49m = \u001b[32m8\u001b[39m\n",
      "\u001b[31mAttributeError\u001b[39m: can't set attribute"
     ]
    }
   ],
   "source": [
    "obj1.a = 8"
   ]
  },
  {
   "cell_type": "code",
   "execution_count": null,
   "id": "b1760ef2-d380-44f4-9722-2f03ce3f342a",
   "metadata": {},
   "outputs": [],
   "source": []
  },
  {
   "cell_type": "code",
   "execution_count": 10,
   "id": "b77a9cc5-6ee4-4456-b265-ff0610c89d07",
   "metadata": {},
   "outputs": [
    {
     "data": {
      "text/plain": [
       "('nima', 'nima')"
      ]
     },
     "execution_count": 10,
     "metadata": {},
     "output_type": "execute_result"
    }
   ],
   "source": [
    "lst = ['ali', 'nima']\n",
    "# vaghti mikhai ie func be key bedi afe func esma dare niaz be () va arg nist. \n",
    "max(lst, key = len), max(lst, key=lambda member:len(member))\n",
    "\n"
   ]
  },
  {
   "cell_type": "code",
   "execution_count": 9,
   "id": "ed63b83d-6b2e-4dfa-a6f7-08f7fcb5d454",
   "metadata": {},
   "outputs": [
    {
     "name": "stdout",
     "output_type": "stream",
     "text": [
      "nima nima\n"
     ]
    }
   ],
   "source": [
    "# print iek tuple un ro be surat bedune () preint mishe\n",
    "print(max(lst, key = len), max(lst, key=lambda member:len(member)))"
   ]
  },
  {
   "cell_type": "code",
   "execution_count": 30,
   "id": "f35d8dc4-4041-4e4c-9562-fd49a6d2d479",
   "metadata": {},
   "outputs": [
    {
     "data": {
      "text/plain": [
       "True"
      ]
     },
     "execution_count": 30,
     "metadata": {},
     "output_type": "execute_result"
    }
   ],
   "source": [
    "# 3 ravesh baraie tulid byte object az string dar surati ke hame charha az jens ascii bashan. vali tanha\n",
    "# akharin rah baraie gheire asccii javab hast\n",
    "byte_obj1 = b'nima'\n",
    "byte_obj2 = 'nima'.encode('ascii')\n",
    "byte_obj3 = 'nima'.encode('utf-8')\n",
    "byte_obj1 == byte_obj2 and byte_obj2 == byte_obj3"
   ]
  },
  {
   "cell_type": "code",
   "execution_count": 12,
   "id": "6dc60d6a-05aa-441f-bea9-346e9ca3144e",
   "metadata": {},
   "outputs": [
    {
     "data": {
      "text/plain": [
       "True"
      ]
     },
     "execution_count": 12,
     "metadata": {},
     "output_type": "execute_result"
    }
   ],
   "source": [
    "byte_obj1 == byte_obj2 == byte_obj3"
   ]
  },
  {
   "cell_type": "code",
   "execution_count": 48,
   "id": "f8b78e8b-5229-41d2-a78b-018fcde8495c",
   "metadata": {},
   "outputs": [
    {
     "name": "stdout",
     "output_type": "stream",
     "text": [
      "😀\n",
      "128512\n",
      "😀\n"
     ]
    }
   ],
   "source": [
    "print(chr(0x1F600))\n",
    "print(int(0x1F600))\n",
    "print(chr(128512))"
   ]
  },
  {
   "cell_type": "code",
   "execution_count": 49,
   "id": "a48038f3-d1f5-4ad3-be38-c719fd8374a9",
   "metadata": {},
   "outputs": [
    {
     "data": {
      "text/plain": [
       "'😀'"
      ]
     },
     "execution_count": 49,
     "metadata": {},
     "output_type": "execute_result"
    }
   ],
   "source": [
    "chr(0x1F600)"
   ]
  },
  {
   "cell_type": "code",
   "execution_count": 50,
   "id": "770bfe6c-0e66-4095-bf8d-478fcee01f30",
   "metadata": {},
   "outputs": [
    {
     "ename": "TypeError",
     "evalue": "'str' object cannot be interpreted as an integer",
     "output_type": "error",
     "traceback": [
      "\u001b[31m---------------------------------------------------------------------------\u001b[39m",
      "\u001b[31mTypeError\u001b[39m                                 Traceback (most recent call last)",
      "\u001b[36mCell\u001b[39m\u001b[36m \u001b[39m\u001b[32mIn[50]\u001b[39m\u001b[32m, line 3\u001b[39m\n\u001b[32m      1\u001b[39m \u001b[38;5;66;03m# chr int migire hala ia decimal ia hex. tu jadavel code ke dade mishe motmaen nistem vali fekr konam mamulan hex hast \u001b[39;00m\n\u001b[32m      2\u001b[39m \u001b[38;5;66;03m# pas harchi tu jadavel didi ie 0x bezar avalesh\u001b[39;00m\n\u001b[32m----> \u001b[39m\u001b[32m3\u001b[39m \u001b[38;5;28;43mchr\u001b[39;49m\u001b[43m(\u001b[49m\u001b[33;43m'\u001b[39;49m\u001b[33;43m😀\u001b[39;49m\u001b[33;43m'\u001b[39;49m\u001b[43m)\u001b[49m\n",
      "\u001b[31mTypeError\u001b[39m: 'str' object cannot be interpreted as an integer"
     ]
    }
   ],
   "source": [
    "# chr int migire hala ia decimal ia hex. tu jadavel code ke dade mishe motmaen nistem vali fekr konam mamulan hex hast \n",
    "# pas harchi tu jadavel didi ie 0x bezar avalesh\n",
    "chr('😀')"
   ]
  },
  {
   "cell_type": "code",
   "execution_count": 52,
   "id": "6c15da60-6d1d-4886-9615-7a1af04654eb",
   "metadata": {},
   "outputs": [
    {
     "data": {
      "text/plain": [
       "(128512, int, '0x1f600')"
      ]
     },
     "execution_count": 52,
     "metadata": {},
     "output_type": "execute_result"
    }
   ],
   "source": [
    "ord('😀'), type(ord('😀')), hex(ord('😀'))"
   ]
  },
  {
   "cell_type": "code",
   "execution_count": 22,
   "id": "582de33a-1301-4ad9-bd41-3a466d6cf9b9",
   "metadata": {},
   "outputs": [],
   "source": [
    "smile= '😀'"
   ]
  },
  {
   "cell_type": "code",
   "execution_count": 23,
   "id": "082872fa-d1e1-47ee-9323-0c82ef7fe8fb",
   "metadata": {},
   "outputs": [
    {
     "ename": "SyntaxError",
     "evalue": "bytes can only contain ASCII literal characters (1560314990.py, line 1)",
     "output_type": "error",
     "traceback": [
      "  \u001b[36mCell\u001b[39m\u001b[36m \u001b[39m\u001b[32mIn[23]\u001b[39m\u001b[32m, line 1\u001b[39m\n\u001b[31m    \u001b[39m\u001b[31msmile_byte1 = b'😀'\u001b[39m\n                  ^\n\u001b[31mSyntaxError\u001b[39m\u001b[31m:\u001b[39m bytes can only contain ASCII literal characters\n"
     ]
    }
   ],
   "source": [
    "smile_byte1 = b'😀'"
   ]
  },
  {
   "cell_type": "code",
   "execution_count": 24,
   "id": "5a58e5be-88e3-4b7f-9094-4aa5ee713729",
   "metadata": {},
   "outputs": [
    {
     "ename": "UnicodeEncodeError",
     "evalue": "'ascii' codec can't encode character '\\U0001f600' in position 0: ordinal not in range(128)",
     "output_type": "error",
     "traceback": [
      "\u001b[31m---------------------------------------------------------------------------\u001b[39m",
      "\u001b[31mUnicodeEncodeError\u001b[39m                        Traceback (most recent call last)",
      "\u001b[36mCell\u001b[39m\u001b[36m \u001b[39m\u001b[32mIn[24]\u001b[39m\u001b[32m, line 1\u001b[39m\n\u001b[32m----> \u001b[39m\u001b[32m1\u001b[39m smile_byte1 = \u001b[43msmile\u001b[49m\u001b[43m.\u001b[49m\u001b[43mencode\u001b[49m\u001b[43m(\u001b[49m\u001b[33;43m'\u001b[39;49m\u001b[33;43mascii\u001b[39;49m\u001b[33;43m'\u001b[39;49m\u001b[43m)\u001b[49m\n",
      "\u001b[31mUnicodeEncodeError\u001b[39m: 'ascii' codec can't encode character '\\U0001f600' in position 0: ordinal not in range(128)"
     ]
    }
   ],
   "source": [
    "smile_byte1 = smile.encode('ascii')"
   ]
  },
  {
   "cell_type": "code",
   "execution_count": 27,
   "id": "cb139897-4b89-4e6f-a62c-1228f3c19ffe",
   "metadata": {},
   "outputs": [
    {
     "data": {
      "text/plain": [
       "b'\\xf0\\x9f\\x98\\x80'"
      ]
     },
     "execution_count": 27,
     "metadata": {},
     "output_type": "execute_result"
    }
   ],
   "source": [
    "smile_byte1 = smile.encode('utf-8') ; smile_byte1"
   ]
  },
  {
   "cell_type": "code",
   "execution_count": 28,
   "id": "491a7eee-dda9-417f-aa95-5f5ba728626e",
   "metadata": {},
   "outputs": [
    {
     "data": {
      "text/plain": [
       "b'\\xff\\xfe=\\xd8\\x00\\xde'"
      ]
     },
     "execution_count": 28,
     "metadata": {},
     "output_type": "execute_result"
    }
   ],
   "source": [
    "smile_byte2 = smile.encode('utf-16'); smile_byte2"
   ]
  },
  {
   "cell_type": "code",
   "execution_count": 29,
   "id": "9bf2ed9a-971f-4827-b2c3-8d33d176ace6",
   "metadata": {},
   "outputs": [
    {
     "name": "stdout",
     "output_type": "stream",
     "text": [
      "😀\n"
     ]
    }
   ],
   "source": [
    "print(smile_byte1.decode('utf-8'))"
   ]
  },
  {
   "cell_type": "code",
   "execution_count": null,
   "id": "c602c34c-86e4-428c-aa6f-f9b92fb7572f",
   "metadata": {},
   "outputs": [],
   "source": [
    "# | Method                 | Description                                      | Example                          | Mutable? |\n",
    "# |------------------------|--------------------------------------------------|----------------------------------|----------|\n",
    "# | b'...'                 | Literal for ASCII byte sequences                 | b'hello'                         | ❌       |\n",
    "# | bytes(str, encoding)   | Convert string to bytes with encoding            | bytes('hi', 'utf-8')             | ❌       |\n",
    "# | str.encode()           | More Pythonic way to encode string               | 'hi'.encode('utf-8')             | ❌       |\n",
    "# | bytes.fromhex()        | Convert hex string to bytes                      | bytes.fromhex('6869')            | ❌       |\n",
    "# | bytearray(...)         | Mutable version of bytes                         | bytearray('hi', 'utf-8')         | ✅       |\n",
    "# | bytearray.fromhex()    | Mutable version from hex                         | bytearray.fromhex('6869')        | ✅       |\n"
   ]
  },
  {
   "cell_type": "code",
   "execution_count": null,
   "id": "6d762b8c-51d6-4933-8483-17172c346e30",
   "metadata": {},
   "outputs": [],
   "source": []
  },
  {
   "cell_type": "code",
   "execution_count": null,
   "id": "2f23811c-df0c-4326-8d02-0ceca6c43548",
   "metadata": {},
   "outputs": [],
   "source": []
  },
  {
   "cell_type": "markdown",
   "id": "baa7e1e7-d364-4e6d-bbab-99b8170e1878",
   "metadata": {},
   "source": [
    "<h1 style=\"color:purple;\">format vs F string</h1>"
   ]
  },
  {
   "cell_type": "code",
   "execution_count": 20,
   "id": "654a8adb-c63e-4457-a18f-d09a200fd335",
   "metadata": {},
   "outputs": [],
   "source": [
    "# format va f string\n",
    "# string barmigardune hala age __format__ bashe un ro bamigardune dar gheir in surat__str__"
   ]
  },
  {
   "cell_type": "code",
   "execution_count": 9,
   "id": "8441117d-6076-44fd-b3e5-4ab3750fcd7d",
   "metadata": {},
   "outputs": [],
   "source": [
    "a , b = 15.123456 , 20"
   ]
  },
  {
   "cell_type": "code",
   "execution_count": 17,
   "id": "b65efa9c-8062-4006-9756-33054e1c77e5",
   "metadata": {},
   "outputs": [
    {
     "name": "stdout",
     "output_type": "stream",
     "text": [
      "1.23 μs ± 476 ns per loop (mean ± std. dev. of 7 runs, 100,000 loops each)\n"
     ]
    }
   ],
   "source": [
    "%timeit '{:*>15.3f} ... {:+^40}'.format(a, b)"
   ]
  },
  {
   "cell_type": "code",
   "execution_count": 15,
   "id": "fd0840fc-557f-4579-851f-e00cfa631fd1",
   "metadata": {},
   "outputs": [
    {
     "data": {
      "text/plain": [
       "'15.123456 ... 20'"
      ]
     },
     "execution_count": 15,
     "metadata": {},
     "output_type": "execute_result"
    }
   ],
   "source": [
    "f'{a} ... {b}'"
   ]
  },
  {
   "cell_type": "code",
   "execution_count": 18,
   "id": "cde893f4-bd9c-48a7-931a-14e6e4e0f673",
   "metadata": {},
   "outputs": [
    {
     "name": "stdout",
     "output_type": "stream",
     "text": [
      "881 ns ± 18.3 ns per loop (mean ± std. dev. of 7 runs, 1,000,000 loops each)\n"
     ]
    }
   ],
   "source": [
    "%timeit f'{a:*>15.3f} ... {b:+^40}'"
   ]
  },
  {
   "cell_type": "code",
   "execution_count": 19,
   "id": "8e300a7e-991e-4b8f-8ee7-650674817a90",
   "metadata": {},
   "outputs": [
    {
     "data": {
      "text/plain": [
       "('*********15.123 ... +++++++++++++++++++20+++++++++++++++++++',\n",
       " '*********15.123 ... +++++++++++++++++++20+++++++++++++++++++')"
      ]
     },
     "execution_count": 19,
     "metadata": {},
     "output_type": "execute_result"
    }
   ],
   "source": [
    "f'{a:*>15.3f} ... {b:+^40}' , '{:*>15.3f} ... {:+^40}'.format(a, b)"
   ]
  },
  {
   "cell_type": "code",
   "execution_count": null,
   "id": "c6b77e4c-464f-463a-a7aa-b282a7106b59",
   "metadata": {},
   "outputs": [],
   "source": []
  },
  {
   "cell_type": "code",
   "execution_count": null,
   "id": "7c97f469-9c80-482d-803c-9fb6a305ae91",
   "metadata": {},
   "outputs": [],
   "source": []
  },
  {
   "cell_type": "markdown",
   "id": "3e3e04e7-15b1-4e25-9170-0773338254ee",
   "metadata": {},
   "source": [
    "<h1 style=\"color:purple;\">var() and __missing__ and __getattr__ and getattr</h1>"
   ]
  },
  {
   "cell_type": "code",
   "execution_count": 68,
   "id": "fe1fece1-5f70-4102-969f-b972b9218d27",
   "metadata": {},
   "outputs": [],
   "source": [
    "class custom_dict(dict):\n",
    "    def __init__(self, input, val):\n",
    "        super().__init__(input)\n",
    "        self.val = val\n",
    "    def __missing__(self,key):\n",
    "        return f'{key} as a key not found'\n",
    "    def __getattr__(self,attr):\n",
    "        return f'{attr} as attr not found'"
   ]
  },
  {
   "cell_type": "code",
   "execution_count": 69,
   "id": "934f6eba-a91b-4c1b-a02b-8b417210e3ab",
   "metadata": {},
   "outputs": [],
   "source": [
    "obj = custom_dict({'key':'value'}, 5)"
   ]
  },
  {
   "cell_type": "code",
   "execution_count": 70,
   "id": "72110b97-eac7-4310-a99e-6509a878e58d",
   "metadata": {},
   "outputs": [
    {
     "data": {
      "text/plain": [
       "{'key': 'value'}"
      ]
     },
     "execution_count": 70,
     "metadata": {},
     "output_type": "execute_result"
    }
   ],
   "source": [
    "obj"
   ]
  },
  {
   "cell_type": "code",
   "execution_count": 71,
   "id": "7ed2a026-4dd8-49ec-bcd2-45084cc2c587",
   "metadata": {},
   "outputs": [
    {
     "data": {
      "text/plain": [
       "'a as a key not found'"
      ]
     },
     "execution_count": 71,
     "metadata": {},
     "output_type": "execute_result"
    }
   ],
   "source": [
    "obj['a']"
   ]
  },
  {
   "cell_type": "code",
   "execution_count": 72,
   "id": "65c623b9-ce8a-42bd-8d5a-3f83c5f5444e",
   "metadata": {},
   "outputs": [
    {
     "data": {
      "text/plain": [
       "'a as attr not found'"
      ]
     },
     "execution_count": 72,
     "metadata": {},
     "output_type": "execute_result"
    }
   ],
   "source": [
    "obj.a"
   ]
  },
  {
   "cell_type": "code",
   "execution_count": 73,
   "id": "d9e4a1ee-1cd9-46da-aeb7-3de3c2ff9b9e",
   "metadata": {},
   "outputs": [
    {
     "data": {
      "text/plain": [
       "5"
      ]
     },
     "execution_count": 73,
     "metadata": {},
     "output_type": "execute_result"
    }
   ],
   "source": [
    "obj.val"
   ]
  },
  {
   "cell_type": "code",
   "execution_count": 74,
   "id": "a9a8f377-09a7-4b66-b8ec-0192adfdeb33",
   "metadata": {},
   "outputs": [
    {
     "data": {
      "text/plain": [
       "{'val': 5}"
      ]
     },
     "execution_count": 74,
     "metadata": {},
     "output_type": "execute_result"
    }
   ],
   "source": [
    "vars(obj) #__dict__ ro barmigardune"
   ]
  },
  {
   "cell_type": "code",
   "execution_count": null,
   "id": "4f38652f-394e-4c65-a2b7-afb52887089c",
   "metadata": {},
   "outputs": [],
   "source": [
    "vars() #ejra koni hameie local symbol table ro barmigdune ke bakhshish moteghaierhaie tarif shode ast"
   ]
  },
  {
   "cell_type": "code",
   "execution_count": 77,
   "id": "2e219822-6e0d-47ce-801c-0b48d6d309a1",
   "metadata": {},
   "outputs": [
    {
     "data": {
      "text/plain": [
       "'my name is nima'"
      ]
     },
     "execution_count": 77,
     "metadata": {},
     "output_type": "execute_result"
    }
   ],
   "source": [
    "s = 'my name is {name}'\n",
    "name = 'nima'\n",
    "s.format_map(vars()) #format_map ie dictionary migire. vars ham ie dictionary barmigardune"
   ]
  },
  {
   "cell_type": "code",
   "execution_count": 80,
   "id": "e4e512d7-3f53-4586-ae03-406c28a57181",
   "metadata": {},
   "outputs": [
    {
     "data": {
      "text/plain": [
       "'fake attr as attr not found'"
      ]
     },
     "execution_count": 80,
     "metadata": {},
     "output_type": "execute_result"
    }
   ],
   "source": [
    "getattr(obj, 'fake attr')"
   ]
  },
  {
   "cell_type": "code",
   "execution_count": 82,
   "id": "592dec32-b792-467a-b718-39dc52372292",
   "metadata": {},
   "outputs": [
    {
     "data": {
      "text/plain": [
       "5"
      ]
     },
     "execution_count": 82,
     "metadata": {},
     "output_type": "execute_result"
    }
   ],
   "source": [
    "getattr(obj, 'val')"
   ]
  },
  {
   "cell_type": "code",
   "execution_count": 89,
   "id": "97846e16-b16b-4f7e-991d-9fb340b6ead7",
   "metadata": {},
   "outputs": [
    {
     "data": {
      "text/plain": [
       "'no as attr not found'"
      ]
     },
     "execution_count": 89,
     "metadata": {},
     "output_type": "execute_result"
    }
   ],
   "source": [
    "getattr(obj, 'no', 'default')"
   ]
  },
  {
   "cell_type": "code",
   "execution_count": 86,
   "id": "944d825c-ca23-415c-b4a8-6113c6918031",
   "metadata": {},
   "outputs": [],
   "source": [
    "class fake:\n",
    "    pass"
   ]
  },
  {
   "cell_type": "code",
   "execution_count": 88,
   "id": "e2beb764-1e16-4fa7-ae66-d008e4e3dd1f",
   "metadata": {},
   "outputs": [
    {
     "data": {
      "text/plain": [
       "'default'"
      ]
     },
     "execution_count": 88,
     "metadata": {},
     "output_type": "execute_result"
    }
   ],
   "source": [
    "obj_fake = fake()\n",
    "getattr(obj_fake, 'no', 'default')"
   ]
  },
  {
   "cell_type": "code",
   "execution_count": 151,
   "id": "a5bcfc3b-f550-4047-802f-714dbd66894b",
   "metadata": {},
   "outputs": [],
   "source": [
    "from copy import deepcopy\n",
    "\n",
    "class custom_dict2(dict):\n",
    "    def __init__(self, input, val):\n",
    "        super().__init__(input)  # Initialize dictionary part\n",
    "        self.val = val  # Store additional attribute\n",
    "\n",
    "    def __missing__(self, key):\n",
    "        return f'{key} as a key not found'\n",
    "\n",
    "    def __getattr__(self, attr):\n",
    "        return f'{attr} as attr not found'\n",
    "\n",
    "    def get_dict(self):\n",
    "        dct = deepcopy(dict(self))  # Deep Copy the dictionary part\n",
    "        dct.update(deepcopy(vars(self)) ) # Add the Deep Copy of instance attributes\n",
    "        return dct"
   ]
  },
  {
   "cell_type": "code",
   "execution_count": 152,
   "id": "54970a74-1e7b-4dee-ad0b-d53965a24d4d",
   "metadata": {},
   "outputs": [],
   "source": [
    "obj2 = custom_dict2({'key':'value'}, 5)"
   ]
  },
  {
   "cell_type": "code",
   "execution_count": 153,
   "id": "8a444641-6091-485a-b1ff-1f10ffc45cff",
   "metadata": {},
   "outputs": [
    {
     "data": {
      "text/plain": [
       "{'key': 'value', 'val': 5}"
      ]
     },
     "execution_count": 153,
     "metadata": {},
     "output_type": "execute_result"
    }
   ],
   "source": [
    "obj2.get_dict()"
   ]
  },
  {
   "cell_type": "code",
   "execution_count": 138,
   "id": "151e0d93-d6d6-49d5-a2c1-5844a7c35a51",
   "metadata": {},
   "outputs": [],
   "source": [
    "# __dict__ haman vars()\n",
    "# dict() ie shallow copy as ghesmat dictionary object cosntruct mikone"
   ]
  },
  {
   "cell_type": "code",
   "execution_count": null,
   "id": "e72c756c-fa96-4fb4-8cfd-eb9d30d0d3f1",
   "metadata": {},
   "outputs": [],
   "source": []
  },
  {
   "cell_type": "code",
   "execution_count": null,
   "id": "99a27093-803a-4e9d-8e83-d3ce5deaccfe",
   "metadata": {},
   "outputs": [],
   "source": []
  },
  {
   "cell_type": "markdown",
   "id": "e686ff28-1fa5-4f51-a2de-2f996b8c9c6a",
   "metadata": {},
   "source": [
    "<h1 style=\"color:purple;\">_getframe()</h1>"
   ]
  },
  {
   "cell_type": "code",
   "execution_count": 169,
   "id": "6a74daef-5342-4c78-9bfd-28302a1a8570",
   "metadata": {},
   "outputs": [],
   "source": [
    "from sys import _getframe\n",
    "name = 'nima'"
   ]
  },
  {
   "cell_type": "code",
   "execution_count": 160,
   "id": "d93e59ae-8c8b-49e6-9ae4-6a834d03c7a0",
   "metadata": {},
   "outputs": [],
   "source": [
    "def sub_stupid():\n",
    "    print ('salam {name}'.format_map(var()))"
   ]
  },
  {
   "cell_type": "code",
   "execution_count": 172,
   "id": "9744b9cc-5464-4c9e-a0fd-b9266cf278c1",
   "metadata": {},
   "outputs": [],
   "source": [
    "def sub():\n",
    "    print ('salam {name}'.format_map(_getframe(1).f_locals))"
   ]
  },
  {
   "cell_type": "code",
   "execution_count": 162,
   "id": "cc2577c2-6f54-4ecf-8689-14bcbe8eb175",
   "metadata": {},
   "outputs": [
    {
     "ename": "NameError",
     "evalue": "name 'var' is not defined",
     "output_type": "error",
     "traceback": [
      "\u001b[31m---------------------------------------------------------------------------\u001b[39m",
      "\u001b[31mNameError\u001b[39m                                 Traceback (most recent call last)",
      "\u001b[36mCell\u001b[39m\u001b[36m \u001b[39m\u001b[32mIn[162]\u001b[39m\u001b[32m, line 1\u001b[39m\n\u001b[32m----> \u001b[39m\u001b[32m1\u001b[39m \u001b[43msub_stupid\u001b[49m\u001b[43m(\u001b[49m\u001b[43m)\u001b[49m\n",
      "\u001b[36mCell\u001b[39m\u001b[36m \u001b[39m\u001b[32mIn[160]\u001b[39m\u001b[32m, line 2\u001b[39m, in \u001b[36msub_stupid\u001b[39m\u001b[34m()\u001b[39m\n\u001b[32m      1\u001b[39m \u001b[38;5;28;01mdef\u001b[39;00m\u001b[38;5;250m \u001b[39m\u001b[34msub_stupid\u001b[39m():\n\u001b[32m----> \u001b[39m\u001b[32m2\u001b[39m     \u001b[38;5;28mprint\u001b[39m (\u001b[33m'\u001b[39m\u001b[33msalam \u001b[39m\u001b[38;5;132;01m{name}\u001b[39;00m\u001b[33m'\u001b[39m.format_map(\u001b[43mvar\u001b[49m()))\n",
      "\u001b[31mNameError\u001b[39m: name 'var' is not defined"
     ]
    }
   ],
   "source": [
    "sub_stupid()"
   ]
  },
  {
   "cell_type": "code",
   "execution_count": 173,
   "id": "1814b583-7355-41ca-9385-6d9501f95bf2",
   "metadata": {},
   "outputs": [
    {
     "name": "stdout",
     "output_type": "stream",
     "text": [
      "salam nima\n"
     ]
    }
   ],
   "source": [
    "sub()"
   ]
  },
  {
   "cell_type": "code",
   "execution_count": null,
   "id": "05ab04eb-5474-4775-a32d-fd7250741f3e",
   "metadata": {},
   "outputs": [],
   "source": []
  },
  {
   "cell_type": "code",
   "execution_count": null,
   "id": "454a0f37-cc8c-4d6b-9e9e-df79a0b843f3",
   "metadata": {},
   "outputs": [],
   "source": []
  },
  {
   "cell_type": "code",
   "execution_count": null,
   "id": "28cde7e0-f96a-4503-9f22-22d454eb6896",
   "metadata": {},
   "outputs": [],
   "source": []
  },
  {
   "cell_type": "code",
   "execution_count": null,
   "id": "a71e71b9-cc5c-48c9-89b3-634d103298a5",
   "metadata": {},
   "outputs": [],
   "source": []
  },
  {
   "cell_type": "markdown",
   "id": "59c268a5-936d-4940-bb04-c09509f32b3c",
   "metadata": {},
   "source": [
    "<h1 style=\"color:purple;\">fnmatch.fnmatchcae vs re.match</h1>"
   ]
  },
  {
   "cell_type": "code",
   "execution_count": 1,
   "id": "3140a095-94d7-445f-bc0f-f143e8de797b",
   "metadata": {},
   "outputs": [],
   "source": [
    "from fnmatch import fnmatchcase, translate\n",
    "from re import compile"
   ]
  },
  {
   "cell_type": "code",
   "execution_count": 8,
   "id": "0e25ed47-faf3-494e-866f-709e0cec14aa",
   "metadata": {},
   "outputs": [],
   "source": [
    "target1 = 'nima.txt'\n",
    "target2 = 'NIMA.TXT'\n",
    "st_pattern = '*.txt'\n",
    "re_obj = compile(translate(st_pattern))\n"
   ]
  },
  {
   "cell_type": "code",
   "execution_count": 9,
   "id": "b08d9622-835e-4332-b833-86ee7e4d362f",
   "metadata": {},
   "outputs": [
    {
     "data": {
      "text/plain": [
       "(True, False)"
      ]
     },
     "execution_count": 9,
     "metadata": {},
     "output_type": "execute_result"
    }
   ],
   "source": [
    "fnmatchcase(target1, st_pattern), fnmatchcase(target2, st_pattern)"
   ]
  },
  {
   "cell_type": "code",
   "execution_count": 11,
   "id": "d531ccee-e3f1-43d7-9ca2-ad60dca8b50c",
   "metadata": {},
   "outputs": [
    {
     "data": {
      "text/plain": [
       "'(?s:.*\\\\.txt)\\\\Z'"
      ]
     },
     "execution_count": 11,
     "metadata": {},
     "output_type": "execute_result"
    }
   ],
   "source": [
    "translate(st_pattern)"
   ]
  },
  {
   "cell_type": "code",
   "execution_count": 12,
   "id": "1b43ad4c-3ae7-4759-9182-aebba909338a",
   "metadata": {},
   "outputs": [
    {
     "data": {
      "text/plain": [
       "re.compile(r'(?s:.*\\.txt)\\Z', re.UNICODE)"
      ]
     },
     "execution_count": 12,
     "metadata": {},
     "output_type": "execute_result"
    }
   ],
   "source": [
    "re_obj"
   ]
  },
  {
   "cell_type": "code",
   "execution_count": 15,
   "id": "003bb4c6-ba9d-44a5-ada4-de480844553c",
   "metadata": {},
   "outputs": [
    {
     "data": {
      "text/plain": [
       "(<re.Match object; span=(0, 8), match='nima.txt'>, None)"
      ]
     },
     "execution_count": 15,
     "metadata": {},
     "output_type": "execute_result"
    }
   ],
   "source": [
    "re_obj.match(target1), re_obj.match(target2)"
   ]
  },
  {
   "cell_type": "code",
   "execution_count": 18,
   "id": "86418b14-ec47-447f-b8be-305f92936f1f",
   "metadata": {},
   "outputs": [
    {
     "data": {
      "text/plain": [
       "(True, False)"
      ]
     },
     "execution_count": 18,
     "metadata": {},
     "output_type": "execute_result"
    }
   ],
   "source": [
    "bool(re_obj.match(target1)), bool(re_obj.match(target2))"
   ]
  },
  {
   "cell_type": "code",
   "execution_count": null,
   "id": "33734974-9b83-46e5-aa64-91e0c7d49d96",
   "metadata": {},
   "outputs": [],
   "source": []
  },
  {
   "cell_type": "code",
   "execution_count": null,
   "id": "7ac65c7d-8737-4294-a912-8d1f6d613b58",
   "metadata": {},
   "outputs": [],
   "source": []
  },
  {
   "cell_type": "markdown",
   "id": "daaa036d-fba2-404e-8616-fd9ee0c2f8dd",
   "metadata": {},
   "source": [
    "<h1 style=\"color:purple;\">Outer function as a funtion factory</h1>"
   ]
  },
  {
   "cell_type": "code",
   "execution_count": 19,
   "id": "45d0dce6-f8da-4232-96f0-05976a0b9d50",
   "metadata": {},
   "outputs": [],
   "source": [
    "def factory_func(factory_param):\n",
    "    def func(func_param):\n",
    "        print(f'in this func considition is {factory_param}')\n",
    "    return func"
   ]
  },
  {
   "cell_type": "code",
   "execution_count": 20,
   "id": "818d0de4-a76f-4c79-93da-e3cdd3235b36",
   "metadata": {},
   "outputs": [],
   "source": [
    "func1 = factory_func('type a')\n",
    "func2 = factory_func('type b')"
   ]
  },
  {
   "cell_type": "code",
   "execution_count": 22,
   "id": "0bfdb779-c124-44f0-abd8-cc3a0be59c7b",
   "metadata": {},
   "outputs": [
    {
     "name": "stdout",
     "output_type": "stream",
     "text": [
      "in this func considition is type a\n"
     ]
    }
   ],
   "source": [
    "func1(1)"
   ]
  },
  {
   "cell_type": "code",
   "execution_count": 23,
   "id": "b9e5f34a-4d9e-42a6-ad67-edb83443d7ac",
   "metadata": {},
   "outputs": [
    {
     "name": "stdout",
     "output_type": "stream",
     "text": [
      "in this func considition is type b\n"
     ]
    }
   ],
   "source": [
    "func2(1)"
   ]
  },
  {
   "cell_type": "code",
   "execution_count": 24,
   "id": "b2b277e3-e55e-4c6f-937c-1894fc7f4ea3",
   "metadata": {},
   "outputs": [
    {
     "data": {
      "text/plain": [
       "function"
      ]
     },
     "execution_count": 24,
     "metadata": {},
     "output_type": "execute_result"
    }
   ],
   "source": [
    "type(factory_func)"
   ]
  },
  {
   "cell_type": "code",
   "execution_count": null,
   "id": "2191448f-6bf9-4f0f-b52f-04cc1ba6ba8d",
   "metadata": {},
   "outputs": [],
   "source": []
  },
  {
   "cell_type": "markdown",
   "id": "c53d61f6-1a0a-4463-b7dc-8a76b8b53401",
   "metadata": {},
   "source": [
    "<h1 style=\"color:purple;\">Tokenizing</h1>"
   ]
  },
  {
   "cell_type": "code",
   "execution_count": null,
   "id": "edab057f-f1d9-44f4-8d2f-7d27312304e1",
   "metadata": {},
   "outputs": [],
   "source": [
    "# ?P<token_name>"
   ]
  },
  {
   "cell_type": "code",
   "execution_count": 79,
   "id": "83ebe8a9-51fd-4434-b4dd-aead6cd5a63c",
   "metadata": {},
   "outputs": [],
   "source": [
    "from re import compile"
   ]
  },
  {
   "cell_type": "code",
   "execution_count": 80,
   "id": "ca526e43-d435-4197-8af5-c221e81c85c0",
   "metadata": {},
   "outputs": [
    {
     "data": {
      "text/plain": [
       "'(?P<EQ>=)|(?P<VAR>[a-zA-Z_][a-zA-Z_0-9]*)|(?P<NUM>[0-9]+)|(?P<WS>\\\\s+)'"
      ]
     },
     "execution_count": 80,
     "metadata": {},
     "output_type": "execute_result"
    }
   ],
   "source": [
    "eq = r'(?P<EQ>=)'\n",
    "var = r'(?P<VAR>[a-zA-Z_][a-zA-Z_0-9]*)'\n",
    "num = r'(?P<NUM>[0-9]+)'\n",
    "white_space = r'(?P<WS>\\s+)'\n",
    "string_pattern = '|'.join([eq, var, num, white_space])\n",
    "string_pattern"
   ]
  },
  {
   "cell_type": "code",
   "execution_count": 81,
   "id": "042b906e-df46-467e-bb03-4c5f75c8ae80",
   "metadata": {},
   "outputs": [],
   "source": [
    "re_obj = compile(string_pattern)"
   ]
  },
  {
   "cell_type": "code",
   "execution_count": 85,
   "id": "e433be24-b6e8-418a-9ba2-3c5fc75ea7e7",
   "metadata": {},
   "outputs": [],
   "source": [
    "target = 'a = 14'"
   ]
  },
  {
   "cell_type": "code",
   "execution_count": 86,
   "id": "75b2a608-d723-46c0-9e1e-eb49de7956a5",
   "metadata": {},
   "outputs": [],
   "source": [
    "scanner_obj= re_obj.scanner(target)"
   ]
  },
  {
   "cell_type": "code",
   "execution_count": 87,
   "id": "b6d6be67-2521-4eaf-8c24-3b28ec2ef416",
   "metadata": {},
   "outputs": [
    {
     "name": "stdout",
     "output_type": "stream",
     "text": [
      "VAR: 'a'\n",
      "WS: ' '\n",
      "EQ: '='\n",
      "WS: ' '\n",
      "NUM: '14'\n"
     ]
    }
   ],
   "source": [
    "while (match := scanner_obj.match()):\n",
    "    print(f\"{match.lastgroup}: '{match.group()}'\")"
   ]
  },
  {
   "cell_type": "code",
   "execution_count": 90,
   "id": "3df32789-b5db-4886-9570-9b7206dc72e7",
   "metadata": {},
   "outputs": [],
   "source": [
    "scanner_obj= re_obj.scanner('!a = 14')"
   ]
  },
  {
   "cell_type": "code",
   "execution_count": 91,
   "id": "cc51964d-2b7c-4e08-838e-9bb2d48da3fc",
   "metadata": {},
   "outputs": [],
   "source": [
    "while (match := scanner_obj.match()):\n",
    "    print(f\"{match.lastgroup}: '{match.group()}'\")"
   ]
  },
  {
   "cell_type": "code",
   "execution_count": null,
   "id": "d551a1ab-db86-40f9-9199-4434616fff06",
   "metadata": {},
   "outputs": [],
   "source": [
    "# match age dar un jaiy ke curser hast match peida nakone None bar mi gardune vali search un ro rad mikone\n",
    "# ta be matche badi berese"
   ]
  },
  {
   "cell_type": "code",
   "execution_count": 93,
   "id": "e32a9b02-4a77-4ac2-9fd3-73e6e4c20a60",
   "metadata": {},
   "outputs": [],
   "source": [
    "scanner_obj= re_obj.scanner('!a = 14')"
   ]
  },
  {
   "cell_type": "code",
   "execution_count": 94,
   "id": "fe23637f-ba2a-48dd-bee6-c92566617aa4",
   "metadata": {},
   "outputs": [
    {
     "name": "stdout",
     "output_type": "stream",
     "text": [
      "VAR: 'a'\n",
      "WS: ' '\n",
      "EQ: '='\n",
      "WS: ' '\n",
      "NUM: '14'\n"
     ]
    }
   ],
   "source": [
    "while (match := scanner_obj.search()):\n",
    "    print(f\"{match.lastgroup}: '{match.group()}'\")"
   ]
  },
  {
   "cell_type": "code",
   "execution_count": 95,
   "id": "7d19a650-7ae1-424a-9724-102affd3712f",
   "metadata": {},
   "outputs": [],
   "source": [
    "scanner_obj= re_obj.scanner('a != 14')"
   ]
  },
  {
   "cell_type": "code",
   "execution_count": 96,
   "id": "93eae7de-6844-4dd8-b8cc-2fc64dad15ff",
   "metadata": {},
   "outputs": [
    {
     "name": "stdout",
     "output_type": "stream",
     "text": [
      "VAR: 'a'\n",
      "WS: ' '\n"
     ]
    }
   ],
   "source": [
    "while (match := scanner_obj.match()):\n",
    "    print(f\"{match.lastgroup}: '{match.group()}'\")"
   ]
  },
  {
   "cell_type": "code",
   "execution_count": 97,
   "id": "34e74eb9-2473-4eaf-b654-e1b3bf179abb",
   "metadata": {},
   "outputs": [],
   "source": [
    "scanner_obj= re_obj.scanner('a != 14')"
   ]
  },
  {
   "cell_type": "code",
   "execution_count": 98,
   "id": "bf16503a-83d4-4841-97e4-d7e94a344cd0",
   "metadata": {},
   "outputs": [
    {
     "name": "stdout",
     "output_type": "stream",
     "text": [
      "VAR: 'a'\n",
      "WS: ' '\n",
      "EQ: '='\n",
      "WS: ' '\n",
      "NUM: '14'\n"
     ]
    }
   ],
   "source": [
    "while (match := scanner_obj.search()):\n",
    "    print(f\"{match.lastgroup}: '{match.group()}'\")"
   ]
  },
  {
   "cell_type": "code",
   "execution_count": 101,
   "id": "6c743321-ad02-40f1-be71-436f3aa80387",
   "metadata": {},
   "outputs": [
    {
     "name": "stdout",
     "output_type": "stream",
     "text": [
      "VAR: 'a'\n",
      "WS: ' '\n",
      "EQ: '='\n",
      "WS: ' '\n",
      "NUM: '14'\n"
     ]
    }
   ],
   "source": [
    "# make scanner_obj iterable\n",
    "def itrable_scanner(scanner_obj):\n",
    "    while (match := scanner_obj.search()):\n",
    "        yield match\n",
    "\n",
    "scanner_obj= re_obj.scanner('a != 14')\n",
    "it = itrable_scanner(scanner_obj)\n",
    "for match in it:\n",
    "    print(f\"{match.lastgroup}: '{match.group()}'\")\n"
   ]
  },
  {
   "cell_type": "code",
   "execution_count": null,
   "id": "b42c905a-e13f-4a30-9f55-63e0fd0f2acd",
   "metadata": {},
   "outputs": [],
   "source": []
  },
  {
   "cell_type": "markdown",
   "id": "b3b60a68-3a1c-40bc-a596-d40d82df5483",
   "metadata": {},
   "source": [
    "<h1 style=\"color:purple;\">Walrus</h1>"
   ]
  },
  {
   "cell_type": "code",
   "execution_count": null,
   "id": "c6fb9c26-7c9f-4368-8eb8-05604d9d233a",
   "metadata": {},
   "outputs": [],
   "source": []
  },
  {
   "cell_type": "code",
   "execution_count": null,
   "id": "595d4d05-b0e0-48b8-a0e8-ba1b34f7c0e9",
   "metadata": {},
   "outputs": [],
   "source": []
  },
  {
   "cell_type": "code",
   "execution_count": null,
   "id": "fa122278-4d29-4c05-87c5-b71a2a7ddb1e",
   "metadata": {},
   "outputs": [],
   "source": []
  },
  {
   "cell_type": "code",
   "execution_count": null,
   "id": "e61d2b29-8e3b-4efd-9a62-f05c14a31d16",
   "metadata": {},
   "outputs": [],
   "source": [
    "# match = scanner_obj.match()\n",
    "# while match:\n",
    "#     print(f'{match.lastgroup}: {match.group()}')\n",
    "#     match = scanner_obj.match()\n",
    "\n",
    "# is similar to\n",
    "\n",
    "# while (match := scanner_obj.match()):\n",
    "#     print(f\"{match.lastgroup}: '{match.group()}'\")"
   ]
  },
  {
   "cell_type": "code",
   "execution_count": null,
   "id": "c51cb29c-388c-4f1a-8be7-bf21420c01cb",
   "metadata": {},
   "outputs": [],
   "source": [
    "# results = [y for x in data if (y := compute(x)) > 10]\n",
    "\n",
    "# is similar to\n",
    "\n",
    "# results = [compute(x) for x in data if  compute(x)> 10]\n",
    "\n",
    "# khubish ine ke compute iek bar ejra mishe ke baes mishe ham behine tar bashe ham age compute be gheir az\n",
    "# mohasebe asarat jabnebi dashte bashe, un asarat dobar etefagh naiofte"
   ]
  },
  {
   "cell_type": "code",
   "execution_count": null,
   "id": "b486b02a-94cf-425a-8457-44acca4e69fd",
   "metadata": {},
   "outputs": [],
   "source": []
  },
  {
   "cell_type": "code",
   "execution_count": null,
   "id": "e4464933-f082-4832-b3de-5423baaff989",
   "metadata": {},
   "outputs": [],
   "source": []
  },
  {
   "cell_type": "markdown",
   "id": "e2076f35-6a46-4333-877e-a33102c3b232",
   "metadata": {},
   "source": [
    "<h1>partial</h1>"
   ]
  },
  {
   "cell_type": "code",
   "execution_count": 8,
   "id": "ac382d31-3612-40c8-9998-937ad3f989c9",
   "metadata": {},
   "outputs": [
    {
     "name": "stdout",
     "output_type": "stream",
     "text": [
      "a=5 b=1\n"
     ]
    },
    {
     "data": {
      "text/plain": [
       "6"
      ]
     },
     "execution_count": 8,
     "metadata": {},
     "output_type": "execute_result"
    }
   ],
   "source": [
    "from functools import partial\n",
    "\n",
    "def add(a , b):\n",
    "    print(f'{a=} {b=}')\n",
    "    return a + b\n",
    "\n",
    "add_one = partial(add, b =1)\n",
    "add_one(5)"
   ]
  },
  {
   "cell_type": "code",
   "execution_count": 11,
   "id": "82e4842d-4ebe-414e-b742-13f1130aa8e7",
   "metadata": {},
   "outputs": [
    {
     "name": "stdout",
     "output_type": "stream",
     "text": [
      "a=1 b=5\n"
     ]
    },
    {
     "data": {
      "text/plain": [
       "6"
      ]
     },
     "execution_count": 11,
     "metadata": {},
     "output_type": "execute_result"
    }
   ],
   "source": [
    "add_one_v3 = partial(add, 1)\n",
    "add_one_v3(5)"
   ]
  },
  {
   "cell_type": "code",
   "execution_count": 5,
   "id": "de944c9f-93ce-4e52-9ad7-7701fc1ab3e3",
   "metadata": {},
   "outputs": [
    {
     "data": {
      "text/plain": [
       "6"
      ]
     },
     "execution_count": 5,
     "metadata": {},
     "output_type": "execute_result"
    }
   ],
   "source": [
    "def add_factory(b):\n",
    "    def add(a):\n",
    "        return a + b\n",
    "    return add\n",
    "\n",
    "add_one_v2 = add_factory(1)\n",
    "add_one_v2(5)"
   ]
  },
  {
   "cell_type": "code",
   "execution_count": null,
   "id": "655e504a-7c91-4f6c-862f-ea5892e64884",
   "metadata": {},
   "outputs": [],
   "source": []
  },
  {
   "cell_type": "code",
   "execution_count": null,
   "id": "2444cff1-3734-41d1-bd49-e7696e9af23f",
   "metadata": {},
   "outputs": [],
   "source": []
  },
  {
   "cell_type": "markdown",
   "id": "61fc739f-104f-485c-ace2-0c9b0b6c0955",
   "metadata": {},
   "source": [
    "<h1>Vowel Count</h1>"
   ]
  },
  {
   "cell_type": "code",
   "execution_count": 14,
   "id": "ec7dcb74-28c2-49a2-8b4b-c079a5f64517",
   "metadata": {},
   "outputs": [],
   "source": [
    "vowels = 'ioueaIOUEA'\n",
    "from collections import Counter\n",
    "def f1(st):\n",
    "    dic = Counter(st)\n",
    "    total = sum(dic[ch] for ch in dic if ch in vowels)\n",
    "    del dic\n",
    "    return total\n",
    "def f2(st):\n",
    "    return sum(1 for ch in st if ch in vowels)\n",
    "\n",
    "with open('text1.txt') as f:\n",
    "    text = f.read()"
   ]
  },
  {
   "cell_type": "code",
   "execution_count": 15,
   "id": "15911c3a-c85d-44d1-92ed-f5001ed65b44",
   "metadata": {},
   "outputs": [
    {
     "name": "stdout",
     "output_type": "stream",
     "text": [
      "96.5 μs ± 31.3 μs per loop (mean ± std. dev. of 7 runs, 10,000 loops each)\n"
     ]
    }
   ],
   "source": [
    "%timeit f1(text)"
   ]
  },
  {
   "cell_type": "code",
   "execution_count": 16,
   "id": "f2b0eb40-1a80-40b7-a767-a694999ee913",
   "metadata": {},
   "outputs": [
    {
     "name": "stdout",
     "output_type": "stream",
     "text": [
      "110 μs ± 34.8 μs per loop (mean ± std. dev. of 7 runs, 10,000 loops each)\n"
     ]
    }
   ],
   "source": [
    "%timeit f2(text)"
   ]
  },
  {
   "cell_type": "code",
   "execution_count": 17,
   "id": "953d41cc-d32e-46ff-b9f8-3b00e1c05cb5",
   "metadata": {},
   "outputs": [
    {
     "data": {
      "text/plain": [
       "True"
      ]
     },
     "execution_count": 17,
     "metadata": {},
     "output_type": "execute_result"
    }
   ],
   "source": [
    "f1(text) == f2(text)"
   ]
  },
  {
   "cell_type": "code",
   "execution_count": 18,
   "id": "9642b70d-852b-43ed-a580-77b6579e3119",
   "metadata": {},
   "outputs": [
    {
     "name": "stdout",
     "output_type": "stream",
     "text": [
      "The memory_profiler extension is already loaded. To reload it, use:\n",
      "  %reload_ext memory_profiler\n"
     ]
    }
   ],
   "source": [
    "%load_ext memory_profiler"
   ]
  },
  {
   "cell_type": "code",
   "execution_count": 19,
   "id": "25e4446f-6549-4c6e-8500-f6ffbf43c976",
   "metadata": {},
   "outputs": [
    {
     "name": "stdout",
     "output_type": "stream",
     "text": [
      "peak memory: 72.52 MiB, increment: 0.00 MiB\n"
     ]
    }
   ],
   "source": [
    "%memit f1(text)"
   ]
  },
  {
   "cell_type": "code",
   "execution_count": 20,
   "id": "f2d5b609-5086-43f2-8c19-18b43fe9eb7d",
   "metadata": {},
   "outputs": [
    {
     "name": "stdout",
     "output_type": "stream",
     "text": [
      "peak memory: 72.52 MiB, increment: 0.00 MiB\n"
     ]
    }
   ],
   "source": [
    "%memit f2(text)"
   ]
  },
  {
   "cell_type": "code",
   "execution_count": null,
   "id": "bec6ad8a-60b6-4c12-b218-a07240114f6f",
   "metadata": {},
   "outputs": [],
   "source": []
  },
  {
   "cell_type": "code",
   "execution_count": null,
   "id": "11a401ed-3242-4476-a0b9-9424bc358380",
   "metadata": {},
   "outputs": [],
   "source": []
  },
  {
   "cell_type": "markdown",
   "id": "7407228e-f782-49d2-bdc7-f7dbba4e654a",
   "metadata": {},
   "source": [
    "<h1>removing prefix</h1>"
   ]
  },
  {
   "cell_type": "code",
   "execution_count": 33,
   "id": "2d455edc-9a5c-4f76-86d7-e7d00f02b44d",
   "metadata": {},
   "outputs": [],
   "source": [
    "lst1 = ['www.r1', 'www.r2']\n",
    "\n",
    "import re\n",
    "\n",
    "def f1(st):\n",
    "    return st.removeprefix('www.')\n",
    "\n",
    "def f2(st):\n",
    "    re_obj = re.compile(r'www.')\n",
    "    return re_obj.sub('', st)\n",
    "\n",
    "def f3(st):\n",
    "    return st.replace('www.', '')\n",
    "\n",
    "    \n",
    "    \n",
    "    "
   ]
  },
  {
   "cell_type": "code",
   "execution_count": 37,
   "id": "2c5edaaa-d66c-4692-b8e2-0210dea76783",
   "metadata": {},
   "outputs": [
    {
     "name": "stdout",
     "output_type": "stream",
     "text": [
      "509 ns ± 15.5 ns per loop (mean ± std. dev. of 7 runs, 1,000,000 loops each)\n"
     ]
    }
   ],
   "source": [
    "%timeit list(map(f1, lst))"
   ]
  },
  {
   "cell_type": "code",
   "execution_count": 38,
   "id": "960b9dfd-3112-4765-8c40-5f33fb8d7523",
   "metadata": {},
   "outputs": [
    {
     "name": "stdout",
     "output_type": "stream",
     "text": [
      "2.88 μs ± 80 ns per loop (mean ± std. dev. of 7 runs, 100,000 loops each)\n"
     ]
    }
   ],
   "source": [
    "%timeit list(map(f2, lst))"
   ]
  },
  {
   "cell_type": "code",
   "execution_count": 39,
   "id": "cf33cc59-58e3-42c8-b86c-a5c1b70a185d",
   "metadata": {},
   "outputs": [
    {
     "name": "stdout",
     "output_type": "stream",
     "text": [
      "795 ns ± 299 ns per loop (mean ± std. dev. of 7 runs, 1,000,000 loops each)\n"
     ]
    }
   ],
   "source": [
    "%timeit list(map(f3, lst))"
   ]
  },
  {
   "cell_type": "code",
   "execution_count": null,
   "id": "c03df9bb-c994-4873-9a2d-6312892be88b",
   "metadata": {},
   "outputs": [],
   "source": []
  },
  {
   "cell_type": "code",
   "execution_count": null,
   "id": "e74fff4d-a0fd-4735-b3d8-36f28c1c394b",
   "metadata": {},
   "outputs": [],
   "source": []
  },
  {
   "cell_type": "markdown",
   "id": "93ff8241-ca34-42bf-b0b3-0a32786c41b4",
   "metadata": {},
   "source": [
    "<h1> counting number of trues</h1>"
   ]
  },
  {
   "cell_type": "code",
   "execution_count": 6,
   "id": "78e7246c-16cd-4d37-ada3-9e296f0a4657",
   "metadata": {},
   "outputs": [],
   "source": [
    "lst= [True, True, False, True]\n"
   ]
  },
  {
   "cell_type": "code",
   "execution_count": 7,
   "id": "92167de7-663c-45e0-bf53-66aea83ac9ec",
   "metadata": {},
   "outputs": [
    {
     "data": {
      "text/plain": [
       "3"
      ]
     },
     "execution_count": 7,
     "metadata": {},
     "output_type": "execute_result"
    }
   ],
   "source": [
    "sum(1 for memebr in lst if memebr)"
   ]
  },
  {
   "cell_type": "code",
   "execution_count": 8,
   "id": "b67f5651-31a5-49bc-ab2c-200acd190ab8",
   "metadata": {},
   "outputs": [
    {
     "data": {
      "text/plain": [
       "3"
      ]
     },
     "execution_count": 8,
     "metadata": {},
     "output_type": "execute_result"
    }
   ],
   "source": [
    "# True = 1 va False = 0\n",
    "sum(lst)"
   ]
  },
  {
   "cell_type": "code",
   "execution_count": null,
   "id": "f07df940-a297-42d1-9627-24c6b4d8f11a",
   "metadata": {},
   "outputs": [],
   "source": []
  },
  {
   "cell_type": "code",
   "execution_count": null,
   "id": "c0979e1c-7390-4a6a-9854-49ca11dab4c5",
   "metadata": {},
   "outputs": [],
   "source": []
  },
  {
   "cell_type": "markdown",
   "id": "29be7471-54a4-45e8-8cfe-ccd7e66d96ae",
   "metadata": {},
   "source": [
    "<h1>tabdil str to datetime obj</h1>"
   ]
  },
  {
   "cell_type": "code",
   "execution_count": 14,
   "id": "c94513cd-62f1-4412-aa4f-fbee70e436bc",
   "metadata": {},
   "outputs": [
    {
     "data": {
      "text/plain": [
       "datetime.datetime(1994, 2, 1, 0, 0)"
      ]
     },
     "execution_count": 14,
     "metadata": {},
     "output_type": "execute_result"
    }
   ],
   "source": [
    "# str_time = '94-2-1' No No No\n",
    "str_time = '1994-2-1'\n",
    "\n",
    "from datetime import datetime\n",
    "datetime_obj = datetime.strptime(str_time, '%Y-%m-%d')\n",
    "datetime_obj"
   ]
  },
  {
   "cell_type": "code",
   "execution_count": 15,
   "id": "0c83812e-0b5b-4a8f-b83f-b0f96e3eff7d",
   "metadata": {},
   "outputs": [
    {
     "data": {
      "text/plain": [
       "datetime.datetime"
      ]
     },
     "execution_count": 15,
     "metadata": {},
     "output_type": "execute_result"
    }
   ],
   "source": [
    "type(datetime_obj)"
   ]
  },
  {
   "cell_type": "code",
   "execution_count": 16,
   "id": "4cae1232-ebcb-4b91-8552-62ff93a631d1",
   "metadata": {},
   "outputs": [
    {
     "data": {
      "text/plain": [
       "datetime.datetime(1994, 2, 1, 0, 0)"
      ]
     },
     "execution_count": 16,
     "metadata": {},
     "output_type": "execute_result"
    }
   ],
   "source": [
    "str_time = '94-2-1'\n",
    "\n",
    "from datetime import datetime\n",
    "datetime_obj = datetime.strptime(str_time, '%y-%m-%d')\n",
    "datetime_obj"
   ]
  },
  {
   "cell_type": "code",
   "execution_count": null,
   "id": "c13aae6d-4211-4195-b285-d321738e4a89",
   "metadata": {},
   "outputs": [],
   "source": []
  },
  {
   "cell_type": "code",
   "execution_count": null,
   "id": "e5727a4d-ad6f-4d3f-b30c-657d822d6dde",
   "metadata": {},
   "outputs": [],
   "source": []
  },
  {
   "cell_type": "markdown",
   "id": "fcd9fee0-a6b6-4c7e-8a4f-dfd4cd8c46f7",
   "metadata": {},
   "source": [
    "<h1> match case</h1>"
   ]
  },
  {
   "cell_type": "raw",
   "id": "f304d2f9-b821-4c81-84d9-8167a3273ea1",
   "metadata": {},
   "source": [
    "data1 , a ->\n",
    "\n",
    "math data:\n",
    "    case data1, x if gaurd:\n",
    "        agar gaurd ejaze bede miaim tu in block va \n",
    "        x = a mishe\n",
    "        ...\n",
    "\n",
    "    case _:\n",
    "        no case mathed"
   ]
  },
  {
   "cell_type": "raw",
   "id": "3952f906-c658-40f5-92fd-b6e41757db6e",
   "metadata": {},
   "source": [
    "In Structural Pattern Matching — you have:\n",
    "\n",
    "1️⃣ Sequence Patterns wiht (,) or [,] or , :\n",
    "✅ Accepted types:\n",
    "\n",
    "tuple\n",
    "\n",
    "list\n",
    "\n",
    "\n",
    "2️⃣ Mapping Patterns {key: value}\n",
    "✅ Accepted types:\n",
    "\n",
    "dict\n"
   ]
  },
  {
   "cell_type": "code",
   "execution_count": 90,
   "id": "191d98d7-910b-447c-b0a9-34ba2c172f97",
   "metadata": {},
   "outputs": [],
   "source": [
    "import math\n",
    "\n",
    "def calcuale_area(data):\n",
    "    match data:\n",
    "        case 'square' | 'rectangle', a if a > 0:\n",
    "            print (type(data))\n",
    "            return a**2\n",
    "        case ('circle', r) if r > 0:\n",
    "            return math.pi * r**2\n",
    "        case _:\n",
    "            return -1"
   ]
  },
  {
   "cell_type": "code",
   "execution_count": 91,
   "id": "2b582ee3-23df-4651-b2c1-bd1387feb0d3",
   "metadata": {},
   "outputs": [],
   "source": [
    "data1 = 'square', 10\n",
    "data2 = 'circle', 10\n",
    "data3 = 'square', -10\n",
    "data4 = 'nothing', 10\n",
    "data5 = ['square', 10]\n",
    "data6 = {'square', 10}\n",
    "data7 = 'rectangle', 10"
   ]
  },
  {
   "cell_type": "code",
   "execution_count": 80,
   "id": "177f590e-d79e-4dd0-90d2-959d4cc2b3b2",
   "metadata": {},
   "outputs": [
    {
     "name": "stdout",
     "output_type": "stream",
     "text": [
      "<class 'tuple'>\n"
     ]
    },
    {
     "data": {
      "text/plain": [
       "100"
      ]
     },
     "execution_count": 80,
     "metadata": {},
     "output_type": "execute_result"
    }
   ],
   "source": [
    "calcuale_area(data1)"
   ]
  },
  {
   "cell_type": "code",
   "execution_count": 81,
   "id": "c6d76124-ac6f-41c2-a053-d52d451dd197",
   "metadata": {},
   "outputs": [
    {
     "data": {
      "text/plain": [
       "314.1592653589793"
      ]
     },
     "execution_count": 81,
     "metadata": {},
     "output_type": "execute_result"
    }
   ],
   "source": [
    "calcuale_area(data2)"
   ]
  },
  {
   "cell_type": "code",
   "execution_count": 82,
   "id": "9d7b49aa-6320-4410-9e35-4ea9b365c9f0",
   "metadata": {},
   "outputs": [
    {
     "data": {
      "text/plain": [
       "-1"
      ]
     },
     "execution_count": 82,
     "metadata": {},
     "output_type": "execute_result"
    }
   ],
   "source": [
    "calcuale_area(data3)"
   ]
  },
  {
   "cell_type": "code",
   "execution_count": 83,
   "id": "6a073ade-b3cd-4b6a-9fec-4286a4c2e776",
   "metadata": {},
   "outputs": [
    {
     "data": {
      "text/plain": [
       "-1"
      ]
     },
     "execution_count": 83,
     "metadata": {},
     "output_type": "execute_result"
    }
   ],
   "source": [
    "calcuale_area(data4)"
   ]
  },
  {
   "cell_type": "code",
   "execution_count": 84,
   "id": "11a0fdb1-b4fe-46e2-8f5c-339de7782276",
   "metadata": {},
   "outputs": [
    {
     "name": "stdout",
     "output_type": "stream",
     "text": [
      "<class 'list'>\n"
     ]
    },
    {
     "data": {
      "text/plain": [
       "100"
      ]
     },
     "execution_count": 84,
     "metadata": {},
     "output_type": "execute_result"
    }
   ],
   "source": [
    "# The pattern ('square', a) is treated as a sequence pattern\n",
    "# → as long as the input is a sequence (like a tuple or list) with 2 elements, and the first element equals 'square', the match works.\n",
    "\n",
    "calcuale_area(data5)"
   ]
  },
  {
   "cell_type": "code",
   "execution_count": 85,
   "id": "2ad01ac9-1f92-4dfe-aa11-2e6e94aeae33",
   "metadata": {},
   "outputs": [
    {
     "data": {
      "text/plain": [
       "-1"
      ]
     },
     "execution_count": 85,
     "metadata": {},
     "output_type": "execute_result"
    }
   ],
   "source": [
    "calcuale_area(data6)"
   ]
  },
  {
   "cell_type": "code",
   "execution_count": 86,
   "id": "4ea4f9cd-1c86-4bf4-86a1-4b6a05b9f75a",
   "metadata": {},
   "outputs": [
    {
     "name": "stdout",
     "output_type": "stream",
     "text": [
      "True\n",
      "True\n",
      "False\n"
     ]
    }
   ],
   "source": [
    "from collections.abc import Sequence\n",
    "\n",
    "print(isinstance(('square', 10), Sequence))   # True\n",
    "print(isinstance(['square', 10], Sequence))   # True\n",
    "print(isinstance({'square', 10}, Sequence))   # False\n"
   ]
  },
  {
   "cell_type": "code",
   "execution_count": 92,
   "id": "d654c4ab-6780-41ed-b50b-510f8a0461a6",
   "metadata": {},
   "outputs": [
    {
     "name": "stdout",
     "output_type": "stream",
     "text": [
      "<class 'tuple'>\n"
     ]
    },
    {
     "data": {
      "text/plain": [
       "100"
      ]
     },
     "execution_count": 92,
     "metadata": {},
     "output_type": "execute_result"
    }
   ],
   "source": [
    "calcuale_area(data7)"
   ]
  },
  {
   "cell_type": "code",
   "execution_count": null,
   "id": "a856a013-f296-4105-a8e3-17086007dda5",
   "metadata": {},
   "outputs": [],
   "source": []
  },
  {
   "cell_type": "markdown",
   "id": "6ed9ec91-748b-4fa6-ac5e-2e8503f833fa",
   "metadata": {},
   "source": [
    "<h1>Ternary or Conditional expresion</h1>"
   ]
  },
  {
   "cell_type": "code",
   "execution_count": 87,
   "id": "f390a6e9-8745-46a3-b5b9-37741dca5668",
   "metadata": {},
   "outputs": [
    {
     "name": "stdout",
     "output_type": "stream",
     "text": [
      "Ten\n"
     ]
    }
   ],
   "source": [
    "x = 10\n",
    "print('Ten' if x == 10 else 'other')"
   ]
  },
  {
   "cell_type": "code",
   "execution_count": 88,
   "id": "83effebc-03aa-4ac2-8c8c-64775ddd3310",
   "metadata": {},
   "outputs": [
    {
     "name": "stdout",
     "output_type": "stream",
     "text": [
      "Ten\n"
     ]
    }
   ],
   "source": [
    "x = 10\n",
    "expr = 'Ten' if x == 10 else 'other'\n",
    "print(expr)"
   ]
  },
  {
   "cell_type": "code",
   "execution_count": null,
   "id": "03e38a94-1578-4229-bc7d-4c03325cb501",
   "metadata": {},
   "outputs": [],
   "source": []
  },
  {
   "cell_type": "markdown",
   "id": "038aab9d-9ebe-47b2-8a7f-f0ab890f6c71",
   "metadata": {},
   "source": [
    "<h1>slicing creates a shallow copy</h1>"
   ]
  },
  {
   "cell_type": "code",
   "execution_count": 104,
   "id": "649c793d-f7ba-4ee5-bdbf-d23276c6cfd0",
   "metadata": {},
   "outputs": [],
   "source": [
    "a = [[1000], 2, 3, 4, 5]\n",
    "b = a[:2]"
   ]
  },
  {
   "cell_type": "code",
   "execution_count": 105,
   "id": "e4d5aad0-41ae-493b-8297-8445f67ef94c",
   "metadata": {},
   "outputs": [
    {
     "data": {
      "text/plain": [
       "[[1000], 2, 3, 4, 5]"
      ]
     },
     "execution_count": 105,
     "metadata": {},
     "output_type": "execute_result"
    }
   ],
   "source": [
    "a"
   ]
  },
  {
   "cell_type": "code",
   "execution_count": 106,
   "id": "6072cdca-d62e-41ad-bea5-4fcf3b58d834",
   "metadata": {},
   "outputs": [
    {
     "data": {
      "text/plain": [
       "[[1000], 2]"
      ]
     },
     "execution_count": 106,
     "metadata": {},
     "output_type": "execute_result"
    }
   ],
   "source": [
    "b"
   ]
  },
  {
   "cell_type": "code",
   "execution_count": 107,
   "id": "0f1ec41a-e17c-4427-b81f-03057c9f3169",
   "metadata": {},
   "outputs": [],
   "source": [
    "b[0][0] = 100"
   ]
  },
  {
   "cell_type": "code",
   "execution_count": 108,
   "id": "709b8c27-eee1-4f96-b441-880f5102129e",
   "metadata": {},
   "outputs": [
    {
     "data": {
      "text/plain": [
       "[[100], 2, 3, 4, 5]"
      ]
     },
     "execution_count": 108,
     "metadata": {},
     "output_type": "execute_result"
    }
   ],
   "source": [
    "a"
   ]
  },
  {
   "cell_type": "code",
   "execution_count": 103,
   "id": "9dae8178-8a4e-4da2-b9e3-69914c9cd8b0",
   "metadata": {},
   "outputs": [
    {
     "data": {
      "text/plain": [
       "[[100], 2]"
      ]
     },
     "execution_count": 103,
     "metadata": {},
     "output_type": "execute_result"
    }
   ],
   "source": [
    "b"
   ]
  },
  {
   "cell_type": "code",
   "execution_count": null,
   "id": "3bd3bd9f-0df2-412c-8686-b6393a1d98fd",
   "metadata": {},
   "outputs": [],
   "source": []
  },
  {
   "cell_type": "code",
   "execution_count": null,
   "id": "4f7f9ac4-92ef-4430-9411-64cdadfc5006",
   "metadata": {},
   "outputs": [],
   "source": []
  },
  {
   "cell_type": "markdown",
   "id": "a08218ab-66fb-49a9-8ae2-e692bc4ca691",
   "metadata": {},
   "source": [
    "<h1>str(x) vs f'{x}'</h1>"
   ]
  },
  {
   "cell_type": "raw",
   "id": "e0ad4b48-cfd3-4902-9097-0a5f4991be70",
   "metadata": {},
   "source": [
    "str(x) = f'{x}'"
   ]
  },
  {
   "cell_type": "markdown",
   "id": "b1de78a5-bc79-47ce-9f57-0133bd7c0b6c",
   "metadata": {},
   "source": [
    "<h1>f'{x!r}' vs f'{x!s}'</h1>"
   ]
  },
  {
   "cell_type": "raw",
   "id": "31adabca-79eb-4c5b-b90c-c3c36a2c1111",
   "metadata": {},
   "source": [
    "f'{x!r}'   # calls repr(x)\n",
    "f'{x!s}'   # calls str(x) or f'{x}'"
   ]
  },
  {
   "cell_type": "markdown",
   "id": "d775979f-f7a7-4cba-b1ba-c13ad8a138cc",
   "metadata": {},
   "source": [
    "<h1>reduce vs map vs gen comprehension vs list comprehension</h1>"
   ]
  },
  {
   "cell_type": "code",
   "execution_count": 112,
   "id": "dab0e7ed-115b-4dbc-aa39-3c026b8f63aa",
   "metadata": {},
   "outputs": [],
   "source": [
    "from functools import reduce\n",
    "r = range(0,10000)"
   ]
  },
  {
   "cell_type": "code",
   "execution_count": 114,
   "id": "205c345f-51e0-44cf-8b6a-2c315d9576df",
   "metadata": {},
   "outputs": [
    {
     "name": "stdout",
     "output_type": "stream",
     "text": [
      "1.65 ms ± 294 μs per loop (mean ± std. dev. of 7 runs, 1,000 loops each)\n"
     ]
    }
   ],
   "source": [
    "%timeit ''.join(str(x) for x in r)"
   ]
  },
  {
   "cell_type": "code",
   "execution_count": 115,
   "id": "aeaaf9b3-9044-4c83-a8e3-ff1e4721bbb8",
   "metadata": {},
   "outputs": [
    {
     "name": "stdout",
     "output_type": "stream",
     "text": [
      "1.4 ms ± 202 μs per loop (mean ± std. dev. of 7 runs, 1,000 loops each)\n"
     ]
    }
   ],
   "source": [
    "%timeit ''.join(map(str, r))"
   ]
  },
  {
   "cell_type": "code",
   "execution_count": 116,
   "id": "ae55828f-efd4-4902-938c-bfafe290ccf6",
   "metadata": {},
   "outputs": [
    {
     "name": "stdout",
     "output_type": "stream",
     "text": [
      "17.8 ms ± 5.72 ms per loop (mean ± std. dev. of 7 runs, 100 loops each)\n"
     ]
    }
   ],
   "source": [
    "%timeit reduce(lambda x,y: str(x)+str(y), r)"
   ]
  },
  {
   "cell_type": "code",
   "execution_count": 117,
   "id": "fb0ae15b-b907-431f-82c6-8dafbf1616fa",
   "metadata": {},
   "outputs": [
    {
     "name": "stdout",
     "output_type": "stream",
     "text": [
      "1.65 ms ± 567 μs per loop (mean ± std. dev. of 7 runs, 1,000 loops each)\n"
     ]
    }
   ],
   "source": [
    "%timeit ''.join([str(x) for x in r])"
   ]
  },
  {
   "cell_type": "code",
   "execution_count": null,
   "id": "5958ba4f-bd35-4cfc-baaf-ef6622704eaf",
   "metadata": {},
   "outputs": [],
   "source": []
  },
  {
   "cell_type": "code",
   "execution_count": null,
   "id": "1ce6a710-3c32-4e48-9f54-9b62d1d52a40",
   "metadata": {},
   "outputs": [],
   "source": []
  },
  {
   "cell_type": "markdown",
   "id": "f5222f62-0c47-466f-8a5e-6c2f24b2b775",
   "metadata": {},
   "source": [
    "<h1>itetools.product vs حلقه تو در تو</h1>"
   ]
  },
  {
   "cell_type": "code",
   "execution_count": 3,
   "id": "72cdaf6d-b612-4d4f-a06d-ca678d9a5f56",
   "metadata": {},
   "outputs": [],
   "source": [
    "from itertools import product\n",
    "l1 = [1, 2, 3]\n",
    "l2 = [4, 5, 6]"
   ]
  },
  {
   "cell_type": "code",
   "execution_count": 4,
   "id": "b9af0738-718b-4723-a4ec-96097f03e0d2",
   "metadata": {},
   "outputs": [
    {
     "name": "stdout",
     "output_type": "stream",
     "text": [
      "1 4\n",
      "1 5\n",
      "1 6\n",
      "2 4\n",
      "2 5\n",
      "2 6\n",
      "3 4\n",
      "3 5\n",
      "3 6\n"
     ]
    }
   ],
   "source": [
    "for x in l1:\n",
    "    for y in l2:\n",
    "        print(x,y)"
   ]
  },
  {
   "cell_type": "code",
   "execution_count": 5,
   "id": "1ff7ccca-b640-4991-a4a2-3bc8c1d8ae9a",
   "metadata": {},
   "outputs": [
    {
     "name": "stdout",
     "output_type": "stream",
     "text": [
      "1 4\n",
      "1 5\n",
      "1 6\n",
      "2 4\n",
      "2 5\n",
      "2 6\n",
      "3 4\n",
      "3 5\n",
      "3 6\n"
     ]
    }
   ],
   "source": [
    "for x,y in product(l1, l2):\n",
    "    print(x,y)"
   ]
  },
  {
   "cell_type": "code",
   "execution_count": null,
   "id": "030478fb-2947-49e5-a9d8-6481cf531449",
   "metadata": {},
   "outputs": [],
   "source": []
  },
  {
   "cell_type": "code",
   "execution_count": null,
   "id": "238d7565-1688-46ff-9164-29e0976c1527",
   "metadata": {},
   "outputs": [],
   "source": []
  },
  {
   "cell_type": "markdown",
   "id": "68230771-52ee-4b2d-8866-3b46b38d48cf",
   "metadata": {},
   "source": [
    "<h1>zip(lst, lst[1:])</h1>"
   ]
  },
  {
   "cell_type": "code",
   "execution_count": 9,
   "id": "a22675ec-4888-4dc8-a3ba-c46d436f5a0f",
   "metadata": {},
   "outputs": [],
   "source": [
    "l = [1, 2, 3]"
   ]
  },
  {
   "cell_type": "code",
   "execution_count": 12,
   "id": "4db34a71-8974-4b18-a959-a556cdc8ec1b",
   "metadata": {},
   "outputs": [
    {
     "data": {
      "text/plain": [
       "[2, 3]"
      ]
     },
     "execution_count": 12,
     "metadata": {},
     "output_type": "execute_result"
    }
   ],
   "source": [
    "l[1:]"
   ]
  },
  {
   "cell_type": "code",
   "execution_count": 11,
   "id": "faf5eec6-5399-49b3-b812-9abfdf74af0c",
   "metadata": {},
   "outputs": [
    {
     "data": {
      "text/plain": [
       "[(1, 2), (2, 3)]"
      ]
     },
     "execution_count": 11,
     "metadata": {},
     "output_type": "execute_result"
    }
   ],
   "source": [
    "list(zip(l, l[1:]))"
   ]
  },
  {
   "cell_type": "markdown",
   "id": "371fb5f0-4486-447a-b0e5-c6c6c501a189",
   "metadata": {},
   "source": [
    "<h1>zip_longest(lst, lst[1:], fillvalue=lst[0])</h1>"
   ]
  },
  {
   "cell_type": "code",
   "execution_count": 18,
   "id": "1d35361d-c620-4dfd-b193-2ba6aac2b287",
   "metadata": {},
   "outputs": [],
   "source": [
    "from itertools import zip_longest"
   ]
  },
  {
   "cell_type": "code",
   "execution_count": 19,
   "id": "41f81500-f02f-4eda-9c90-2579acda30d2",
   "metadata": {},
   "outputs": [],
   "source": [
    "lst = [1, 2, 3]"
   ]
  },
  {
   "cell_type": "code",
   "execution_count": 21,
   "id": "aad005e2-ac00-479d-97de-b712fba1c42f",
   "metadata": {},
   "outputs": [
    {
     "data": {
      "text/plain": [
       "[(1, 2), (2, 3), (3, 1)]"
      ]
     },
     "execution_count": 21,
     "metadata": {},
     "output_type": "execute_result"
    }
   ],
   "source": [
    "list(zip_longest(lst, lst[1:], fillvalue=lst[0]))"
   ]
  },
  {
   "cell_type": "code",
   "execution_count": null,
   "id": "49fb95d1-8aac-4c1d-93ae-3e995aa22f27",
   "metadata": {},
   "outputs": [],
   "source": []
  },
  {
   "cell_type": "markdown",
   "id": "b29c11f1-140f-4681-b742-b5328f0151b8",
   "metadata": {},
   "source": [
    "<h1>reversing a list</h1>"
   ]
  },
  {
   "cell_type": "code",
   "execution_count": 23,
   "id": "b3ecc654-e578-42b3-8ff9-641f38b0a49e",
   "metadata": {},
   "outputs": [],
   "source": [
    "l = [1, 2, 3]"
   ]
  },
  {
   "cell_type": "code",
   "execution_count": 24,
   "id": "7746ee53-00d2-45e7-beae-c64b13caa04c",
   "metadata": {},
   "outputs": [
    {
     "data": {
      "text/plain": [
       "<list_reverseiterator at 0x7f6736b644f0>"
      ]
     },
     "execution_count": 24,
     "metadata": {},
     "output_type": "execute_result"
    }
   ],
   "source": [
    "reversed(l) #iek iterator barmigardanad ke masrafi hast"
   ]
  },
  {
   "cell_type": "code",
   "execution_count": 26,
   "id": "5ee2cf59-8e20-414d-a725-05e6d06126f5",
   "metadata": {},
   "outputs": [
    {
     "data": {
      "text/plain": [
       "[3, 2, 1]"
      ]
     },
     "execution_count": 26,
     "metadata": {},
     "output_type": "execute_result"
    }
   ],
   "source": [
    "l[::-1] #iek list kamel barax shode bamigardanad"
   ]
  },
  {
   "cell_type": "code",
   "execution_count": 27,
   "id": "2d7e10ef-0785-4849-b712-12ef05d5fafd",
   "metadata": {},
   "outputs": [],
   "source": [
    "l.reverse() #khod list ra reverse mikonad va high chizi barnemgardanad"
   ]
  },
  {
   "cell_type": "code",
   "execution_count": 28,
   "id": "0af7eb2a-1cb7-4aa1-8cf3-79a54b677767",
   "metadata": {},
   "outputs": [
    {
     "data": {
      "text/plain": [
       "[3, 2, 1]"
      ]
     },
     "execution_count": 28,
     "metadata": {},
     "output_type": "execute_result"
    }
   ],
   "source": [
    "l"
   ]
  },
  {
   "cell_type": "code",
   "execution_count": null,
   "id": "25d49da6-9aca-4977-a046-afdc140b5e9e",
   "metadata": {},
   "outputs": [],
   "source": []
  },
  {
   "cell_type": "markdown",
   "id": "e2d103ba-6fcd-434a-bf2c-79e4dd3a9256",
   "metadata": {},
   "source": [
    "<h1>zip(*lst))</h1>"
   ]
  },
  {
   "cell_type": "code",
   "execution_count": 38,
   "id": "4398bb26-7a56-41e1-b82b-145979db5aff",
   "metadata": {},
   "outputs": [
    {
     "data": {
      "text/plain": [
       "[(1, 3), (2, 4)]"
      ]
     },
     "execution_count": 38,
     "metadata": {},
     "output_type": "execute_result"
    }
   ],
   "source": [
    "lst = [[1, 2], [3, 4]]\n",
    "list(zip(*lst))"
   ]
  },
  {
   "cell_type": "code",
   "execution_count": null,
   "id": "60deb32d-3389-4367-b191-7112db6dcfc6",
   "metadata": {},
   "outputs": [],
   "source": []
  },
  {
   "cell_type": "markdown",
   "id": "163bfd4f-4e3c-40ea-aa96-1d026b7c248a",
   "metadata": {},
   "source": [
    "<h1> enumarate of str</h1>"
   ]
  },
  {
   "cell_type": "code",
   "execution_count": 40,
   "id": "46fa74f6-3e2c-48b2-b499-8724bf9ad246",
   "metadata": {},
   "outputs": [
    {
     "name": "stdout",
     "output_type": "stream",
     "text": [
      "0:n\n",
      "1:i\n",
      "2:m\n",
      "3:a\n"
     ]
    }
   ],
   "source": [
    "for i,ch in enumerate('nima'):\n",
    "    print(f'{i}:{ch}')"
   ]
  },
  {
   "cell_type": "markdown",
   "id": "9a0799c5-49fc-4c22-a395-f7e803f8179b",
   "metadata": {},
   "source": [
    "<h1> random choice</h1>"
   ]
  },
  {
   "cell_type": "code",
   "execution_count": 41,
   "id": "3996b27d-7b97-45f0-9100-987d6f0233db",
   "metadata": {},
   "outputs": [],
   "source": [
    "l = [1, 2, 3]"
   ]
  },
  {
   "cell_type": "code",
   "execution_count": 42,
   "id": "2fa4ac45-5a45-45db-9cc8-d1e69be94766",
   "metadata": {},
   "outputs": [],
   "source": [
    "import random\n",
    "import secrets"
   ]
  },
  {
   "cell_type": "code",
   "execution_count": 46,
   "id": "acd5e01b-3cbb-48be-8347-88ac40a4e2ee",
   "metadata": {},
   "outputs": [
    {
     "name": "stdout",
     "output_type": "stream",
     "text": [
      "secret choice:1\n",
      "random choice:3\n",
      "**********\n",
      "secret choice:1\n",
      "random choice:2\n",
      "**********\n",
      "secret choice:1\n",
      "random choice:1\n",
      "**********\n",
      "secret choice:2\n",
      "random choice:2\n",
      "**********\n"
     ]
    }
   ],
   "source": [
    "for _ in range(4):\n",
    "    print(f'secret choice:{secrets.choice(l)}')\n",
    "    print(f'random choice:{random.choice(l)}') #secure because it is harder to predict but a bit slower\n",
    "    print(10 * '*')"
   ]
  },
  {
   "cell_type": "markdown",
   "id": "f1cc9122-a451-470c-a00d-b0577af1b429",
   "metadata": {},
   "source": [
    "<h1>randint</h1>"
   ]
  },
  {
   "cell_type": "code",
   "execution_count": 52,
   "id": "9998d9ee-5f19-4678-a495-23f9d5e7df34",
   "metadata": {},
   "outputs": [
    {
     "data": {
      "text/plain": [
       "6"
      ]
     },
     "execution_count": 52,
     "metadata": {},
     "output_type": "execute_result"
    }
   ],
   "source": [
    "random.randint(1,6) #shabihsazi tas"
   ]
  },
  {
   "cell_type": "code",
   "execution_count": null,
   "id": "59b8654b-e839-407a-a5c0-277256d3a98f",
   "metadata": {},
   "outputs": [],
   "source": []
  },
  {
   "cell_type": "markdown",
   "id": "7a10a98b-3b46-48ba-bd62-d50d32b5fbac",
   "metadata": {},
   "source": [
    "<h1>two dices</h1>"
   ]
  },
  {
   "cell_type": "code",
   "execution_count": 54,
   "id": "70dce008-8d9b-4cd1-8180-eb9d0af596ba",
   "metadata": {},
   "outputs": [
    {
     "data": {
      "text/plain": [
       "Counter({7: 6, 6: 5, 8: 5, 5: 4, 9: 4, 4: 3, 10: 3, 3: 2, 11: 2, 2: 1, 12: 1})"
      ]
     },
     "execution_count": 54,
     "metadata": {},
     "output_type": "execute_result"
    }
   ],
   "source": [
    "#1\n",
    "lst = [1 ,2 , 3, 4, 5, 6]\n",
    "from itertools import product\n",
    "from collections import Counter\n",
    "Counter(map(lambda a: a[0] + a[1], product(lst, lst)))"
   ]
  },
  {
   "cell_type": "code",
   "execution_count": 63,
   "id": "c6493b4d-2ff1-4dab-b67c-b816f635a0db",
   "metadata": {},
   "outputs": [
    {
     "data": {
      "text/plain": [
       "Counter({7: 6, 6: 5, 8: 5, 5: 4, 9: 4, 4: 3, 10: 3, 3: 2, 11: 2, 2: 1, 12: 1})"
      ]
     },
     "execution_count": 63,
     "metadata": {},
     "output_type": "execute_result"
    }
   ],
   "source": [
    "#2\n",
    "lst = [1 ,2 , 3, 4, 5, 6]\n",
    "Counter(a+b for a in lst for b in lst)"
   ]
  },
  {
   "cell_type": "code",
   "execution_count": 14,
   "id": "ca4247fb-fe7e-49ee-9870-bd68b9619bf2",
   "metadata": {},
   "outputs": [],
   "source": [
    "#3\n",
    "lst = [1 ,2 , 3, 4, 5, 6]\n",
    "from itertools import product\n",
    "from collections import Counter\n",
    "result = Counter(sum(pair) for pair in product(lst, lst))"
   ]
  },
  {
   "cell_type": "code",
   "execution_count": null,
   "id": "9c43451a-0691-4e4a-9bdf-602a7cabcc71",
   "metadata": {},
   "outputs": [],
   "source": []
  },
  {
   "cell_type": "markdown",
   "id": "6d137256-027c-4f5b-8bdd-93c976a91d74",
   "metadata": {},
   "source": [
    "<h1>plot counter</h1>"
   ]
  },
  {
   "cell_type": "code",
   "execution_count": 15,
   "id": "292b9bff-92f1-47b3-98a0-a032eae1359c",
   "metadata": {},
   "outputs": [],
   "source": [
    "import matplotlib.pyplot as plt"
   ]
  },
  {
   "cell_type": "code",
   "execution_count": 16,
   "id": "78f4207b-d5e5-42b4-b231-d87d3a7709ad",
   "metadata": {},
   "outputs": [],
   "source": [
    "# x = sorted(result.keys())  ba piaiyni ieky hast\n",
    "# When you call sorted() on a dictionary, it implicitly iterates over the keys of the dictionary.\n",
    "# So sorted(counter) is shorthand for sorted(counter.keys())\n",
    "\n",
    "\n",
    "x = sorted(result)"
   ]
  },
  {
   "cell_type": "code",
   "execution_count": 17,
   "id": "cc9d5a56-8fcc-43d1-8f95-ef96aebb4646",
   "metadata": {},
   "outputs": [],
   "source": [
    "y = [result[a] for a in x] "
   ]
  },
  {
   "cell_type": "code",
   "execution_count": 18,
   "id": "cf64243a-1506-4a65-a0a0-ca49cddabc36",
   "metadata": {},
   "outputs": [
    {
     "data": {
      "text/plain": [
       "[<matplotlib.lines.Line2D at 0x7f9a2ffa99d0>]"
      ]
     },
     "execution_count": 18,
     "metadata": {},
     "output_type": "execute_result"
    },
    {
     "data": {
      "image/png": "[encoded data removed]",
      "text/plain": [
       "<Figure size 640x480 with 1 Axes>"
      ]
     },
     "metadata": {},
     "output_type": "display_data"
    }
   ],
   "source": [
    "plt.plot(x,y)"
   ]
  },
  {
   "cell_type": "code",
   "execution_count": 19,
   "id": "a3a10010-a6ed-4598-bb7c-3ced841d1cc1",
   "metadata": {},
   "outputs": [
    {
     "data": {
      "text/plain": [
       "<BarContainer object of 11 artists>"
      ]
     },
     "execution_count": 19,
     "metadata": {},
     "output_type": "execute_result"
    },
    {
     "data": {
      "image/png": "[encoded data removed]",
      "text/plain": [
       "<Figure size 640x480 with 1 Axes>"
      ]
     },
     "metadata": {},
     "output_type": "display_data"
    }
   ],
   "source": [
    "plt.bar(x,y)"
   ]
  },
  {
   "cell_type": "markdown",
   "id": "c4615010-f5bb-4035-9f1e-f4f73ccb9c47",
   "metadata": {},
   "source": [
    "<h1>sorted for other iterables than list</h1>"
   ]
  },
  {
   "cell_type": "raw",
   "id": "7d8b4840-9375-4560-a764-16a244b29f5f",
   "metadata": {},
   "source": [
    "sorted iek list bermigardune"
   ]
  },
  {
   "cell_type": "code",
   "execution_count": 2,
   "id": "a237c872-bb3d-4f41-b9b6-c289cfdb8888",
   "metadata": {},
   "outputs": [
    {
     "data": {
      "text/plain": [
       "[1, 3, 5]"
      ]
     },
     "execution_count": 2,
     "metadata": {},
     "output_type": "execute_result"
    }
   ],
   "source": [
    "#tuple\n",
    "sorted((5,1,3))"
   ]
  },
  {
   "cell_type": "code",
   "execution_count": 3,
   "id": "4c910933-5423-4acc-960e-65edcbd03084",
   "metadata": {},
   "outputs": [
    {
     "data": {
      "text/plain": [
       "[1, 3, 5]"
      ]
     },
     "execution_count": 3,
     "metadata": {},
     "output_type": "execute_result"
    }
   ],
   "source": [
    "#set\n",
    "sorted({5,1,3})"
   ]
  },
  {
   "cell_type": "code",
   "execution_count": 4,
   "id": "c618998b-ebdf-45eb-87aa-db0bdb14831e",
   "metadata": {},
   "outputs": [
    {
     "data": {
      "text/plain": [
       "[0, 1, 2]"
      ]
     },
     "execution_count": 4,
     "metadata": {},
     "output_type": "execute_result"
    }
   ],
   "source": [
    "#range iterable\n",
    "sorted(range(3))"
   ]
  },
  {
   "cell_type": "code",
   "execution_count": 5,
   "id": "db4ef920-43d4-4dbf-b96e-a58ba5e95f90",
   "metadata": {},
   "outputs": [
    {
     "data": {
      "text/plain": [
       "[0, 1, 2]"
      ]
     },
     "execution_count": 5,
     "metadata": {},
     "output_type": "execute_result"
    }
   ],
   "source": [
    "#generator\n",
    "sorted(x for x in range(3))"
   ]
  },
  {
   "cell_type": "code",
   "execution_count": 8,
   "id": "80fc8d90-0acc-44fa-8987-9934418a4e0c",
   "metadata": {},
   "outputs": [
    {
     "data": {
      "text/plain": [
       "['a', 'i', 'm', 'n']"
      ]
     },
     "execution_count": 8,
     "metadata": {},
     "output_type": "execute_result"
    }
   ],
   "source": [
    "#str\n",
    "sorted('nima')"
   ]
  },
  {
   "cell_type": "code",
   "execution_count": 10,
   "id": "f90525ac-3676-4a7e-a9c0-181452770200",
   "metadata": {},
   "outputs": [
    {
     "data": {
      "text/plain": [
       "[1, 3, 5]"
      ]
     },
     "execution_count": 10,
     "metadata": {},
     "output_type": "execute_result"
    }
   ],
   "source": [
    "#dict (faghat key ha)\n",
    "sorted({5:'a', 1:'b', 3:'c'})"
   ]
  },
  {
   "cell_type": "code",
   "execution_count": 12,
   "id": "3710d2a7-12bc-4356-919d-14f052575da6",
   "metadata": {},
   "outputs": [
    {
     "data": {
      "text/plain": [
       "['a', 'i', 'm', 'n']"
      ]
     },
     "execution_count": 12,
     "metadata": {},
     "output_type": "execute_result"
    }
   ],
   "source": [
    "from collections import Counter\n",
    "sorted(Counter('niima'))"
   ]
  },
  {
   "cell_type": "code",
   "execution_count": null,
   "id": "4433587b-899d-4c5d-bbea-e38e5db371a8",
   "metadata": {},
   "outputs": [],
   "source": []
  },
  {
   "cell_type": "code",
   "execution_count": null,
   "id": "29c45a6e-460e-4216-93f2-f10620b273ad",
   "metadata": {},
   "outputs": [],
   "source": []
  },
  {
   "cell_type": "code",
   "execution_count": 3,
   "id": "9e865862-79b0-4555-8d67-0fe4abe6cb2a",
   "metadata": {},
   "outputs": [],
   "source": [
    "import asyncio"
   ]
  },
  {
   "cell_type": "code",
   "execution_count": 12,
   "id": "b39bedad-10f2-45e5-84d9-3ac6399f14b6",
   "metadata": {},
   "outputs": [],
   "source": [
    "async def coroutine_function(sec):\n",
    "    print(f'start_{sec}')\n",
    "    await asyncio.sleep(sec)\n",
    "    print(f'end_{sec}')"
   ]
  },
  {
   "cell_type": "code",
   "execution_count": 13,
   "id": "9a603c6a-68e1-46ae-82b0-e769f6d0fa49",
   "metadata": {},
   "outputs": [],
   "source": [
    "coroutine_object = coroutine_function(1)"
   ]
  },
  {
   "cell_type": "code",
   "execution_count": null,
   "id": "75e3f15a-7cb9-4639-bd83-8e79d3d05676",
   "metadata": {},
   "outputs": [],
   "source": [
    "# asyncio.run(coroutine_object_1) iek event loop jadid ijad mikone baraie ejrarie coroutine obj\n",
    "# dade shode. dar surati ke ghablan iek event loop digar dar jarian bashe bad mishavad.\n",
    "# await miaiad iek awaitble obj (couroutine-task-future) ro dar event loop mizare. ia\n",
    "# ba event.wait() ke khodesh iek coroutin hast barie rokh dadan iek event sabr mikonad\n",
    "# ma vaghti az httpx ia fastapi estefade mikonim un khodesh kar rah andazi even loop ro anjam mide\n",
    "# dar gheir in surat ma ba zanjireiy az await ha dar nahaiat iek coroutine obj madar ro misazim\n",
    "# va un ro be Run midim ke un ro be rah mi andazim\n",
    "\n",
    "# There are only two situations where the event loop can switch to other tasks:\n",
    "\n",
    "# Either the coroutine finishes its execution\n",
    "\n",
    "# Or it reaches an await on something it’s waiting for (like I/O, a timer, or another coroutine)\n",
    "\n",
    "# Additionally, a coroutine can voluntarily give up control by calling await asyncio.sleep(0)\n",
    "\n"
   ]
  },
  {
   "cell_type": "raw",
   "id": "e00cae85-a953-4695-bf0a-556cd0f51691",
   "metadata": {},
   "source": [
    "In multithreading, task switching is not voluntary.\n",
    "The operating system’s thread scheduler is responsible for deciding when to pause a running thread and switch to another one. This process is called preemptive scheduling. It happens automatically, without the running thread’s awareness or consent — the OS can interrupt any thread at almost any time, according to its internal scheduling rules (like time slices, thread priority, or system load).\n",
    "\n",
    "In contrast:\n",
    "In asynchronous programming with asyncio in Python, task switching is cooperative.\n",
    "The event loop cannot forcibly interrupt a running coroutine.\n",
    "A coroutine must voluntarily yield control by:\n",
    "\n",
    "Reaching an await statement on something that’s not immediately ready (like I/O)\n",
    "\n",
    "Finishing its execution\n",
    "\n",
    "Or explicitly calling something like await asyncio.sleep(0) to give control back to the event loop\n",
    "\n",
    "If a coroutine runs a long, blocking operation without any await, it will monopolize the event loop and prevent other tasks from running — which is one of the most important limitations of Python’s async model compared to multithreading."
   ]
  },
  {
   "cell_type": "code",
   "execution_count": 14,
   "id": "60580fef-7316-4d78-83da-ead17c97cba6",
   "metadata": {},
   "outputs": [
    {
     "name": "stdout",
     "output_type": "stream",
     "text": [
      "start_1\n",
      "end_1\n"
     ]
    }
   ],
   "source": [
    "await coroutine_object"
   ]
  },
  {
   "cell_type": "code",
   "execution_count": 8,
   "id": "05e0259b-8dab-4501-8579-d69244a554a4",
   "metadata": {},
   "outputs": [],
   "source": [
    " # coroutine object، یک‌بار مصرفه.\n",
    "# یعنی اگه یک‌بار await یا run بشه و اجراش تموم شه، دیگه نمی‌تونی ازش دوباره استفاده کنی\n",
    "# await coroutine_object NO NO NO ejraie dobare iek coroutine masraf shode"
   ]
  },
  {
   "cell_type": "code",
   "execution_count": 14,
   "id": "e21eaf78-2237-4177-aa80-3457af9b58e9",
   "metadata": {},
   "outputs": [
    {
     "name": "stdout",
     "output_type": "stream",
     "text": [
      "start_1\n",
      "end_1\n",
      "start_2\n",
      "end_2\n"
     ]
    }
   ],
   "source": [
    "# coroutine obj be khodi khodi emkan ejaraie hamzaman nadarand balke chahar ravesh baraie ejraie hamzaman vojud dare\n",
    "# 1-task\n",
    "# 2-gather coroutine function\n",
    "# 3-wait coroutine function\n",
    "# 4-taskgroup\n",
    "coroutine_object_1 = coroutine_function(1)\n",
    "coroutine_object_2 = coroutine_function(2)\n",
    "await coroutine_object_1\n",
    "await coroutine_object_2"
   ]
  },
  {
   "cell_type": "code",
   "execution_count": 26,
   "id": "71e275e5-9af5-4a4b-aff2-cbefcbaf3100",
   "metadata": {},
   "outputs": [
    {
     "name": "stdout",
     "output_type": "stream",
     "text": [
      "start_1\n",
      "start_2\n",
      "end_1\n",
      "end_2\n",
      "after both\n",
      "None None\n"
     ]
    }
   ],
   "source": [
    "# 1-task\n",
    "coroutine_object_1 = coroutine_function(1)\n",
    "coroutine_object_2 = coroutine_function(2)\n",
    "task_1 = asyncio.create_task(coroutine_object_1)\n",
    "task_2 = asyncio.create_task(coroutine_object_2)\n",
    "result_1 = await task_1\n",
    "result_2 = await task_2\n",
    "print('after both')\n",
    "print(result_1, result_2)"
   ]
  },
  {
   "cell_type": "code",
   "execution_count": 27,
   "id": "cfd7f416-d930-4c8c-b555-93833594d3fd",
   "metadata": {},
   "outputs": [
    {
     "name": "stdout",
     "output_type": "stream",
     "text": [
      "start_1\n",
      "start_2\n",
      "end_1\n",
      "end_2\n",
      "after both\n",
      "[None, None]\n"
     ]
    }
   ],
   "source": [
    "# 2-gather coroutine function\n",
    "coroutine_object_1 = coroutine_function(1)\n",
    "coroutine_object_2 = coroutine_function(2)\n",
    "gather_coroutine_object =  asyncio.gather(coroutine_object_1, coroutine_object_2)\n",
    "results = await gather_coroutine_object\n",
    "print('after both')\n",
    "print(results)"
   ]
  },
  {
   "cell_type": "code",
   "execution_count": 85,
   "id": "865abe85-5284-437d-8102-0a4425a340db",
   "metadata": {},
   "outputs": [
    {
     "name": "stdout",
     "output_type": "stream",
     "text": [
      "start_1\n",
      "start_2\n",
      "end_1\n",
      "end_2\n",
      "after both\n",
      "iek:None\n",
      "do:None\n"
     ]
    }
   ],
   "source": [
    "# 3-wait coroutine function\n",
    "coroutine_object_1 = coroutine_function(1)\n",
    "coroutine_object_2 = coroutine_function(2)\n",
    "task_1 = asyncio.create_task(coroutine_object_1, name = 'iek')\n",
    "task_2 = asyncio.create_task(coroutine_object_2, name = 'do')\n",
    "task_list = [task_1, task_2]\n",
    "wait_coroutine_object =  asyncio.wait(task_list, return_when=asyncio.ALL_COMPLETED)\n",
    "done, pending  = await wait_coroutine_object\n",
    "print('after both')\n",
    "for task in done:\n",
    "    print(f'{task.get_name()}:{task.result()}')"
   ]
  },
  {
   "cell_type": "code",
   "execution_count": 33,
   "id": "75a28d0f-294f-4205-ad07-b6f43f359162",
   "metadata": {},
   "outputs": [
    {
     "name": "stdout",
     "output_type": "stream",
     "text": [
      "start_1\n",
      "start_2\n",
      "end_1\n",
      "end_2\n",
      "after both\n",
      "None None\n"
     ]
    }
   ],
   "source": [
    "# 4-TaskGroup\n",
    "coroutine_object_1 = coroutine_function(1)\n",
    "coroutine_object_2 = coroutine_function(2)\n",
    "\n",
    "async with asyncio.TaskGroup() as tg:\n",
    "    task_1 = tg.create_task(coroutine_object_1)\n",
    "    task_2 = tg.create_task(coroutine_object_2)\n",
    "print('after both')\n",
    "print(task_1.result(), task_2.result())"
   ]
  },
  {
   "cell_type": "code",
   "execution_count": null,
   "id": "8cfb97ea-4c4c-4a7c-8925-cc1a239337e0",
   "metadata": {},
   "outputs": [],
   "source": []
  },
  {
   "cell_type": "raw",
   "id": "3d9d2b65-167c-4f99-b636-29e7ad6a7884",
   "metadata": {},
   "source": [
    "حالا ببینیم این ۴ روش با اکسپشن چه می شود\n",
    "پس روند کلی اینه که از خود تسک به صورت مستقیم یا gather کوروتین ها اجتناب می کنیم\n",
    "اگه بخوایم سالم ها اجرا بشن می ریم سراغ ویت\n",
    "اون هم در قسمت done\n",
    "اگه اکسپشن نان بود به ریزالت دسترسی داریم\n",
    "اگه بخوایم در صورتی مه همه سالم هستند احرا داشته باشیم میریم سراغ تسک گروپ\n",
    "برای هندل بهتره ارور ها مچ اکسپشن اتفاده یم کییم\n",
    "اگه هم همه با موقیت باشن یه الس می نویسیم و به ریزات تسک ها دسترسی داریم\n",
    "\n",
    "\n",
    "📌 OVERALL ASYNCIO EXECUTION STRATEGY\n",
    "➊ WHEN YOU WANT ALL TASKS TO RUN AND ONLY CONTINUE IF ALL SUCCEED:\n",
    "✅ TASKGROUP (PYTHON 3.11+)\n",
    "\n",
    "IF ONE FAILS → OTHERS GET CANCELLED.\n",
    "\n",
    "USE TRY-EXCEPT* BLOCK TO CATCH EXCEPTIONGROUP.\n",
    "\n",
    "IF NO EXCEPTIONS → USE ELSE BLOCK TO SAFELY ACCESS TASK.RESULT().\n",
    "\n",
    "➋ WHEN YOU WANT ALL TASKS TO RUN, REGARDLESS OF OUTCOME:\n",
    "✅ ASYNCIO.WAIT(TASKS, RETURN_WHEN=...)\n",
    "\n",
    "IF RETURN_WHEN=ALL_COMPLETED → WAITS FOR EVERYTHING.\n",
    "\n",
    "RETURNS DONE AND PENDING SETS.\n",
    "\n",
    "IN DONE:\n",
    "\n",
    "IF TASK.EXCEPTION() → ERROR OCCURRED.\n",
    "\n",
    "IF NONE → SAFE TO CALL RESULT().\n",
    "\n",
    "➌ WHEN YOU NEED TO REACT TO THE FASTEST TASK\n",
    "✅ ASYNCIO.WAIT(TASKS, RETURN_WHEN=FIRST_COMPLETED)\n",
    "\n",
    "➍ WHEN YOU NEED ALL RESULTS BUT DON'T WANT TO STOP ON ERRORS\n",
    "✅ ASYNCIO.GATHER(*TASKS, RETURN_EXCEPTIONS=TRUE)\n",
    "\n",
    "WITHOUT RETURN_EXCEPTIONS → FAILS IMMEDIATELY ON FIRST ERROR.\n",
    "\n",
    "WITH RETURN_EXCEPTIONS=TRUE:\n",
    "\n",
    "RESULTS ARE A LIST OF EITHER VALUES OR EXCEPTION OBJECTS.\n",
    "\n",
    "YOU CAN THEN MANUALLY CHECK AND HANDLE THEM.\n",
    "\n",
    "⚠️ GATHER CAN BE RISKY IN CRITICAL OR FAIL-FAST SITUATIONS\n",
    "BECAUSE IT CAN STOP EVERYTHING ON ONE FAILURE (UNLESS YOU RETURN EXCEPTIONS).\n",
    "\n",
    "➎ WHEN TASK ORDER DOESN’T MATTER, AND YOU JUST NEED THEM DONE\n",
    "✅ CREATE_TASK + INDIVIDUAL AWAIT\n",
    "\n",
    "LESS EFFICIENT, LIMITED CONTROL — NOT RECOMMENDED FOR STRUCTURED TASK MANAGEMENT.\n",
    "\n",
    "📌 ERROR HANDLING STRATEGY:\n",
    "EXCEPTIONGROUP OCCURS WHEN MULTIPLE TASKS RAISE ERRORS SIMULTANEOUSLY.\n",
    "\n",
    "BEST PRACTICE:\n",
    "\n",
    "USE EXCEPT* TO MATCH AND HANDLE BY TYPE.\n",
    "\n",
    "IN ELSE, DEAL WITH SUCCESSFUL TASKS.\n",
    "\n",
    "CAN ALSO MANUALLY INSPECT AND GROUP EXCEPTIONS (LIKE YOUR EXAMPLE WITH .EXCEPTIONS LIST).\n",
    "\n",
    "🎨 QUICK MENTAL MAP:\n",
    "TASKGROUP  → ALL OK OR ALL FAIL → ELSE OR EXCEPT*\n",
    "WAIT       → DONE/PENDING → RESULT() / EXCEPTION()\n",
    "GATHER     → RESULTS IN LIST → IF RETURN_EXCEPTIONS=TRUE\n",
    "CREATE_TASK→ LIMITED CONTROL, SEPARATE AWAITS\n"
   ]
  },
  {
   "cell_type": "raw",
   "id": "e2ff2d0b-84e4-4461-8c5b-38db5a9bc9c1",
   "metadata": {},
   "source": [
    "✅ asyncio.wait()\n",
    "it can accept:\n",
    "\n",
    "future objects\n",
    "\n",
    "Task objects\n",
    "\n",
    "A mix of both\n",
    "\n",
    "✅ asyncio.gather()\n",
    "The asyncio.gather() function is quite flexible — it can accept:\n",
    "\n",
    "coroutine objects\n",
    "\n",
    "Task objects\n",
    "\n",
    "A mix of both"
   ]
  },
  {
   "cell_type": "code",
   "execution_count": 39,
   "id": "5560ea3f-18de-4973-8960-c0d07add512d",
   "metadata": {},
   "outputs": [],
   "source": [
    "async def coroutine_function(sec):\n",
    "    print(f'start_{sec}')\n",
    "    if sec == 2:\n",
    "        raise ValueError('fake error')\n",
    "    await asyncio.sleep(sec)\n",
    "    print(f'end_{sec}')"
   ]
  },
  {
   "cell_type": "code",
   "execution_count": 45,
   "id": "5fcdee1a-0018-4491-90da-caf67251bffc",
   "metadata": {},
   "outputs": [
    {
     "name": "stdout",
     "output_type": "stream",
     "text": [
      "start_1\n",
      "start_2\n",
      "end_1\n",
      "result_1=None\n",
      "error=ValueError('fake error')\n"
     ]
    }
   ],
   "source": [
    "# 1-task\n",
    "coroutine_object_1 = coroutine_function(1)\n",
    "coroutine_object_2 = coroutine_function(2)\n",
    "task_1 = asyncio.create_task(coroutine_object_1)\n",
    "task_2 = asyncio.create_task(coroutine_object_2)\n",
    "try:\n",
    "    result_1 = await task_1\n",
    "    print(f'{result_1=}')\n",
    "    result_2 = await task_2\n",
    "    print(f'{result_2=}')\n",
    "except ValueError as error:\n",
    "    print(f'{error=}')"
   ]
  },
  {
   "cell_type": "code",
   "execution_count": 46,
   "id": "444f3428-26c5-41f3-8c36-5b1d2c5e56af",
   "metadata": {},
   "outputs": [
    {
     "name": "stdout",
     "output_type": "stream",
     "text": [
      "start_1\n",
      "start_2\n",
      "error=ValueError('fake error')\n",
      "end_1\n"
     ]
    }
   ],
   "source": [
    "# 1-task\n",
    "coroutine_object_1 = coroutine_function(1)\n",
    "coroutine_object_2 = coroutine_function(2)\n",
    "task_1 = asyncio.create_task(coroutine_object_1)\n",
    "task_2 = asyncio.create_task(coroutine_object_2)\n",
    "try:\n",
    "    result_2 = await task_2\n",
    "    print(f'{result_2=}')\n",
    "    result_1 = await task_1\n",
    "    print(f'{result_1=}')\n",
    "    print('after both')\n",
    "    print(result_1, result_2)\n",
    "except ValueError as error:\n",
    "    print(f'{error=}')"
   ]
  },
  {
   "cell_type": "code",
   "execution_count": 78,
   "id": "8d1bb071-651e-4cfc-bdba-781253567f35",
   "metadata": {},
   "outputs": [
    {
     "name": "stdout",
     "output_type": "stream",
     "text": [
      "start_1\n",
      "start_2\n",
      "error=ValueError('fake error')\n",
      "end_1\n"
     ]
    }
   ],
   "source": [
    "# 2-gather coroutine function\n",
    "coroutine_object_1 = coroutine_function(1)\n",
    "coroutine_object_2 = coroutine_function(2)\n",
    "gather_coroutine_object =  asyncio.gather(coroutine_object_1, coroutine_object_2)\n",
    "try:\n",
    "    results = await gather_coroutine_object\n",
    "    print('after both')\n",
    "    print(results)\n",
    "except ValueError as error:\n",
    "    print(f'{error=}')"
   ]
  },
  {
   "cell_type": "code",
   "execution_count": 79,
   "id": "a7d4ee0b-ddfb-4aed-890a-c2c0ea57a5bc",
   "metadata": {},
   "outputs": [
    {
     "name": "stdout",
     "output_type": "stream",
     "text": [
      "start_1\n",
      "start_2\n",
      "end_1\n",
      "after both\n",
      "result: None\n",
      "error: fake error\n"
     ]
    }
   ],
   "source": [
    "# 3-wait coroutine function\n",
    "coroutine_object_1 = coroutine_function(1)\n",
    "coroutine_object_2 = coroutine_function(2)\n",
    "task_1 = asyncio.create_task(coroutine_object_1)\n",
    "task_2 = asyncio.create_task(coroutine_object_2)\n",
    "task_list = [task_1, task_2]\n",
    "wait_coroutine_object =  asyncio.wait(task_list, return_when=asyncio.ALL_COMPLETED)\n",
    "\n",
    "done, pending  = await wait_coroutine_object\n",
    "print('after both')\n",
    "    \n",
    "for task in done:\n",
    "    if task.exception() is None:\n",
    "        print(f\"result: {task.result()}\")\n",
    "    else:\n",
    "        print(f\"error: {task.exception()}\")"
   ]
  },
  {
   "cell_type": "code",
   "execution_count": 82,
   "id": "504da624-af02-431b-9376-8edc7558e161",
   "metadata": {},
   "outputs": [
    {
     "name": "stdout",
     "output_type": "stream",
     "text": [
      "start_1\n",
      "start_2\n",
      "end_1\n",
      "after both\n",
      "error:task do sanie: fake error\n",
      "result:task iek sanie: None\n"
     ]
    }
   ],
   "source": [
    "# 3-wait coroutine function with named tasks\n",
    "coroutine_object_1 = coroutine_function(1)\n",
    "coroutine_object_2 = coroutine_function(2)\n",
    "task_1 = asyncio.create_task(coroutine_object_1, name = 'task iek sanie')\n",
    "task_2 = asyncio.create_task(coroutine_object_2, name = 'task do sanie')\n",
    "task_list = [task_1, task_2]\n",
    "wait_coroutine_object =  asyncio.wait(task_list, return_when=asyncio.ALL_COMPLETED)\n",
    "\n",
    "done, pending  = await wait_coroutine_object\n",
    "print('after both')\n",
    "    \n",
    "for task in done:\n",
    "    if task.exception() is None:\n",
    "        print(f\"result:{task.get_name()}: {task.result()}\")\n",
    "    else:\n",
    "        print(f\"error:{task.get_name()}: {task.exception()}\")"
   ]
  },
  {
   "cell_type": "code",
   "execution_count": 75,
   "id": "f5bb5459-2145-40c2-94c9-ab25ae5e414a",
   "metadata": {},
   "outputs": [
    {
     "name": "stdout",
     "output_type": "stream",
     "text": [
      "start_1\n",
      "start_2\n",
      "start_10\n",
      "after wait\n",
      "error: fake error\n",
      "end_1\n",
      "end_10\n"
     ]
    }
   ],
   "source": [
    "# 3-wait coroutine function with FIRST_COMPLETED activating on exception\n",
    "coroutine_object_1 = coroutine_function(1)\n",
    "coroutine_object_2 = coroutine_function(2)\n",
    "coroutine_object_10= coroutine_function(10)\n",
    "task_1 = asyncio.create_task(coroutine_object_1)\n",
    "task_2 = asyncio.create_task(coroutine_object_2)\n",
    "task_10 = asyncio.create_task(coroutine_object_10)\n",
    "task_list = [task_1, task_2, task_10]\n",
    "wait_coroutine_object =  asyncio.wait(task_list, return_when=asyncio.FIRST_COMPLETED)\n",
    "# hata ba exeption ham obur mikone\n",
    "\n",
    "done, pending  = await wait_coroutine_object\n",
    "print('after wait')\n",
    "    \n",
    "for task in done:\n",
    "    if task.exception() is None:\n",
    "        print(f\"result: {task.result()}\")\n",
    "    else:\n",
    "        print(f\"error: {task.exception()}\")"
   ]
  },
  {
   "cell_type": "code",
   "execution_count": 80,
   "id": "9435e7a4-1fa5-475c-8d7b-706032a41b50",
   "metadata": {},
   "outputs": [
    {
     "name": "stdout",
     "output_type": "stream",
     "text": [
      "start_5\n",
      "start_3\n",
      "start_10\n",
      "end_3\n",
      "after wait\n",
      "result: None\n",
      "end_5\n",
      "end_10\n"
     ]
    }
   ],
   "source": [
    "# 3-wait coroutine function with FIRST_COMPLETED activating on success\n",
    "coroutine_object_5 = coroutine_function(5)\n",
    "coroutine_object_3 = coroutine_function(3)\n",
    "coroutine_object_10= coroutine_function(10)\n",
    "task_5 = asyncio.create_task(coroutine_object_5)\n",
    "task_3 = asyncio.create_task(coroutine_object_3)\n",
    "task_10 = asyncio.create_task(coroutine_object_10)\n",
    "task_list = [task_5, task_3, task_10]\n",
    "wait_coroutine_object =  asyncio.wait(task_list, return_when=asyncio.FIRST_COMPLETED)\n",
    "\n",
    "\n",
    "done, pending  = await wait_coroutine_object\n",
    "print('after wait')\n",
    "    \n",
    "for task in done:\n",
    "    if task.exception() is None:\n",
    "        print(f\"result: {task.result()}\")\n",
    "    else:\n",
    "        print(f\"error: {task.exception()}\")"
   ]
  },
  {
   "cell_type": "code",
   "execution_count": 55,
   "id": "42bfe96b-be1b-4e36-be8f-5012e0c0d585",
   "metadata": {},
   "outputs": [],
   "source": [
    "# # exception digar az noe ValueError nist\n",
    "# # 4-TaskGroup\n",
    "# coroutine_object_1 = coroutine_function(1)\n",
    "# coroutine_object_2 = coroutine_function(2)\n",
    "# try:\n",
    "#     async with asyncio.TaskGroup() as tg:\n",
    "#         task_1 = tg.create_task(coroutine_object_1)\n",
    "#         task_2 = tg.create_task(coroutine_object_2)\n",
    "# except ValueError as error:\n",
    "#     print(f'{error=}')\n",
    "# print('after both')\n",
    "# # print(task_1.result(), task_2.result())"
   ]
  },
  {
   "cell_type": "markdown",
   "id": "6b7d2dbc-56ba-419b-8ba5-cc57a3654efa",
   "metadata": {},
   "source": [
    "<h1> except* as match for handling ExceptionGroup</h1>"
   ]
  },
  {
   "cell_type": "code",
   "execution_count": 67,
   "id": "b14971fc-91da-4fa4-ae73-95bcdd75f5ce",
   "metadata": {},
   "outputs": [
    {
     "name": "stdout",
     "output_type": "stream",
     "text": [
      "start_1\n",
      "start_2\n",
      "start_2\n",
      "ValEr=fake error\n",
      "ValEr=fake error\n",
      "after both\n"
     ]
    }
   ],
   "source": [
    "# 4-TaskGroup\n",
    "coroutine_object_1 = coroutine_function(1)\n",
    "coroutine_object_2 = coroutine_function(2)\n",
    "coroutine_object_2_2 = coroutine_function(2)\n",
    "try:\n",
    "    async with asyncio.TaskGroup() as tg:\n",
    "        task_1 = tg.create_task(coroutine_object_1)\n",
    "        task_2 = tg.create_task(coroutine_object_2)\n",
    "        task_2_2 = tg.create_task(coroutine_object_2_2)\n",
    "except* ValueError as e_v:\n",
    "    for sub_excep in e_v.exceptions:\n",
    "        print(f'ValueEr={sub_excep}')\n",
    "except* RuntimeError as e_r:\n",
    "    for sub_excep in e_r.exceptions:\n",
    "        print(f'RunEr={sub_excep}')\n",
    "except* Exception as e_g:\n",
    "    for sub_excep in e_g.exceptions:\n",
    "        print(f'GeneralEr={sub_excep}')\n",
    "\n",
    "\n",
    "# except ExceptionGroup as group:\n",
    "#     e_v_group = []\n",
    "#     e_r_group = []\n",
    "#     e_g_group = []\n",
    "\n",
    "#     for ex in group.exceptions:\n",
    "#         if isinstance(ex, ValueError):\n",
    "#             e_v_group.append(ex)\n",
    "#         elif isinstance(ex, RuntimeError):\n",
    "#             e_r_group.append(ex)\n",
    "#         else:\n",
    "#             e_g_group.append(ex)\n",
    "#     for sub_excep in e_v_group:\n",
    "#         print(f'ValEr={sub_excep}')\n",
    "#     for sub_excep in e_r_group:\n",
    "#         print(f'RunEr={sub_excep}')\n",
    "#     for sub_excep in e_g_group:\n",
    "#         print(f'GeneralEr={sub_excep}')\n",
    "\n",
    "else:\n",
    "    print(task_1.result(), task_2.result())\n",
    "print('after both')"
   ]
  },
  {
   "cell_type": "code",
   "execution_count": null,
   "id": "072c0ed5-0807-4fb2-9bc0-bb5c17efeb8a",
   "metadata": {},
   "outputs": [],
   "source": []
  },
  {
   "cell_type": "code",
   "execution_count": null,
   "id": "dd2cd473-caf9-4692-a37a-b40fb08e7984",
   "metadata": {},
   "outputs": [],
   "source": []
  },
  {
   "cell_type": "code",
   "execution_count": null,
   "id": "eaaaf007-3163-42fa-a3b0-b39904902142",
   "metadata": {},
   "outputs": [],
   "source": []
  },
  {
   "cell_type": "markdown",
   "id": "f49992c7-eea6-4b5c-9632-df581bbf882c",
   "metadata": {},
   "source": [
    "<h1> cancel kardan pending tasks</h1>"
   ]
  },
  {
   "cell_type": "code",
   "execution_count": 81,
   "id": "27388fd5-06d2-4c06-acea-a07418c0f5e2",
   "metadata": {},
   "outputs": [
    {
     "name": "stdout",
     "output_type": "stream",
     "text": [
      "start_5\n",
      "start_3\n",
      "start_10\n",
      "end_3\n",
      "after wait\n",
      "✅ result: None\n",
      "🚫 all pending tasks cancelled\n"
     ]
    }
   ],
   "source": [
    "coroutine_object_5 = coroutine_function(5)\n",
    "coroutine_object_3 = coroutine_function(3)\n",
    "coroutine_object_10= coroutine_function(10)\n",
    "\n",
    "task_5 = asyncio.create_task(coroutine_object_5)\n",
    "task_3 = asyncio.create_task(coroutine_object_3)\n",
    "task_10 = asyncio.create_task(coroutine_object_10)\n",
    "\n",
    "task_list = [task_5, task_3, task_10]\n",
    "\n",
    "# صبر کن تا یکی کامل بشه\n",
    "done, pending = await asyncio.wait(task_list, return_when=asyncio.FIRST_COMPLETED)\n",
    "\n",
    "print('after wait')\n",
    "\n",
    "# مدیریت done‌ها\n",
    "for task in done:\n",
    "    if task.exception() is None:\n",
    "        print(f\"✅ result: {task.result()}\")\n",
    "    else:\n",
    "        print(f\"❌ error: {task.exception()}\")\n",
    "\n",
    "# کنسل کردن pending‌ها\n",
    "for task in pending:\n",
    "    task.cancel()   # درخواست کنسل شدن می‌فرسته\n",
    "\n",
    "# صبر کن تا واقعاً کنسل بشن\n",
    "# be ieky az in do ravesh\n",
    "# await asyncio.gather(*pending, return_exceptions=True) pending ie list az task(dar hal cancel shodan) hast ke be * unpack mikonim\n",
    "await asyncio.wait(pending, return_when=asyncio.ALL_COMPLETED)\n",
    "\n",
    "print(\"🚫 all pending tasks cancelled\")\n"
   ]
  },
  {
   "cell_type": "markdown",
   "id": "d93cd4f6-e3cd-4a35-93c8-e5447ea8dd6e",
   "metadata": {},
   "source": [
    "<h1>asyncio.Lock()</h1>"
   ]
  },
  {
   "cell_type": "markdown",
   "id": "9bb7c9ac-6d7b-4c7a-b200-5f37b7eca90d",
   "metadata": {},
   "source": [
    "<h1>global for variables shared by val </h1>"
   ]
  },
  {
   "cell_type": "raw",
   "id": "a655ac0d-cdcb-4409-8800-1857f7ea3e5f",
   "metadata": {},
   "source": [
    "In Python:\n",
    "\n",
    "When you assign a value to a variable inside a function, Python by default assumes it’s a local variable (specific to that function's scope).\n",
    "\n",
    "If you try to assign to a global variable without telling Python it's global, you'll get an UnboundLocalError because Python thinks you're referencing a local variable before assignment.\n",
    "\n",
    "To prevent that, you use the global keyword\n",
    "With mutable types, like a list, dict, or set, you don't need the global keyword when modifying the contents. You can update the values directly."
   ]
  },
  {
   "cell_type": "code",
   "execution_count": 1,
   "id": "fa064e6d-cfbd-445b-b241-f7f472c3fffb",
   "metadata": {},
   "outputs": [
    {
     "name": "stdout",
     "output_type": "stream",
     "text": [
      "start_1\n",
      "end_1\n",
      "start_5\n",
      "end_5\n"
     ]
    }
   ],
   "source": [
    "import asyncio\n",
    "lock = asyncio.Lock()\n",
    "shared_resources_shared_by_val = 0\n",
    "shared_resources_shared_by_ref = {'count': 0}\n",
    "async def coroutine_function(sec):\n",
    "    global shared_resources_shared_by_val\n",
    "    async with lock:\n",
    "        print(f'start_{sec}')\n",
    "        shared_resources_shared_by_val+=1\n",
    "        shared_resources_shared_by_ref['count']+=1\n",
    "        await asyncio.sleep(sec)\n",
    "        print(f'end_{sec}')\n",
    "async with asyncio.TaskGroup() as tg:\n",
    "    tg.create_task(coroutine_function(1))\n",
    "    tg.create_task(coroutine_function(5))"
   ]
  },
  {
   "cell_type": "code",
   "execution_count": 21,
   "id": "a7a0486d-615f-48b9-90d6-751168159f87",
   "metadata": {},
   "outputs": [
    {
     "data": {
      "text/plain": [
       "2"
      ]
     },
     "execution_count": 21,
     "metadata": {},
     "output_type": "execute_result"
    }
   ],
   "source": [
    "shared_resources_shared_by_val"
   ]
  },
  {
   "cell_type": "code",
   "execution_count": 22,
   "id": "7fd125cc-1eee-4416-8403-c0d43df5f0c0",
   "metadata": {},
   "outputs": [
    {
     "data": {
      "text/plain": [
       "{'count': 2}"
      ]
     },
     "execution_count": 22,
     "metadata": {},
     "output_type": "execute_result"
    }
   ],
   "source": [
    "shared_resources_shared_by_ref"
   ]
  },
  {
   "cell_type": "code",
   "execution_count": 1,
   "id": "37925773-29e9-42aa-8bd9-b7c46cbadd72",
   "metadata": {},
   "outputs": [
    {
     "name": "stdout",
     "output_type": "stream",
     "text": [
      "start_1\n",
      "start_5\n",
      "end_1\n",
      "end_5\n"
     ]
    }
   ],
   "source": [
    "import asyncio\n",
    "\n",
    "async def coroutine_function(sec):\n",
    "    print(f'start_{sec}')\n",
    "    await asyncio.sleep(sec)\n",
    "    print(f'end_{sec}')\n",
    "async with asyncio.TaskGroup() as tg:\n",
    "    tg.create_task(coroutine_function(1))\n",
    "    tg.create_task(coroutine_function(5))"
   ]
  },
  {
   "cell_type": "code",
   "execution_count": null,
   "id": "75a9d6b0-c0c4-4157-9aba-fa4bb8ade3b8",
   "metadata": {},
   "outputs": [],
   "source": []
  },
  {
   "cell_type": "markdown",
   "id": "d1def932-49ec-4396-9629-8cecd0e00d66",
   "metadata": {},
   "source": [
    "<h1>asyncio.Semaphore</h1>"
   ]
  },
  {
   "cell_type": "code",
   "execution_count": 21,
   "id": "b9011436-b04a-4496-9819-37aa6148c311",
   "metadata": {},
   "outputs": [
    {
     "name": "stdout",
     "output_type": "stream",
     "text": [
      "start_10\n",
      "start_5\n",
      "end_5\n",
      "start_1\n",
      "end_1\n",
      "end_10\n"
     ]
    }
   ],
   "source": [
    "import asyncio\n",
    "semaphore = asyncio.Semaphore(2)\n",
    "async def coroutine_function(sec):\n",
    "    async with semaphore:\n",
    "        print(f'start_{sec}')\n",
    "        await asyncio.sleep(sec)\n",
    "        print(f'end_{sec}')\n",
    "async with asyncio.TaskGroup() as tg:\n",
    "    tg.create_task(coroutine_function(10))\n",
    "    tg.create_task(coroutine_function(5))\n",
    "    tg.create_task(coroutine_function(1))"
   ]
  },
  {
   "cell_type": "markdown",
   "id": "3f4c0277-9d15-4945-b8a1-6ac0a4f5badc",
   "metadata": {},
   "source": [
    "<h1>asyncio.Event()</h1>"
   ]
  },
  {
   "cell_type": "code",
   "execution_count": 11,
   "id": "0d3324c4-2bf0-4d7a-a4cd-fe1a2ee50277",
   "metadata": {},
   "outputs": [
    {
     "name": "stdout",
     "output_type": "stream",
     "text": [
      "setter started\n",
      "setter ended\n",
      "waiter started\n",
      "waiter ended\n"
     ]
    }
   ],
   "source": [
    "import asyncio\n",
    "event = asyncio.Event()\n",
    "\n",
    "async def coroutine_function_waiter():\n",
    "    await event.wait()\n",
    "    print('waiter started')\n",
    "    await asyncio.sleep(5)\n",
    "    print('waiter ended')\n",
    "\n",
    "async def coroutine_function_setter():\n",
    "    print('setter started')\n",
    "    await asyncio.sleep(5)\n",
    "    event.set()\n",
    "    print('setter ended')\n",
    "\n",
    "async with asyncio.TaskGroup() as tg:\n",
    "    tg.create_task(coroutine_function_waiter())\n",
    "    tg.create_task(coroutine_function_setter())"
   ]
  },
  {
   "cell_type": "markdown",
   "id": "31a94aac-34a4-4326-b6c8-e3e94b4fe4c1",
   "metadata": {},
   "source": [
    "<h1> ThreadPoolExecutor, ProcessPoolExecutor</h1>"
   ]
  },
  {
   "cell_type": "raw",
   "id": "bfe19b95-86a2-4dd6-be16-3d6060b92a34",
   "metadata": {},
   "source": [
    "import asyncio\n",
    "from concurrent.futures import ThreadPoolExecutor, ProcessPoolExecutor\n",
    "from os import cpu_count\n",
    "import inspect\n",
    "\n",
    "async def thread_blue_print(func) -> any:\n",
    "    if inspect.iscoroutinefunction(func):\n",
    "        return await func()\n",
    "    else: #faghat sync func ro midim be Executer\n",
    "        loop = asyncio.get_running_loop()\n",
    "        max_workers = min(32, (cpu_count() or 1) + 4) #cpu count momkene none bede\n",
    "        with ThreadPoolExecutor(max_workers=max_workers) as executor:\n",
    "            return await loop.run_in_executor(executor, func)\n",
    "\n",
    "async def process_blue_print(func) -> any:\n",
    "    if inspect.iscoroutinefunction(func):\n",
    "        return await func()\n",
    "    else: #faghat sync func ro midim be Executer\n",
    "        loop = asyncio.get_running_loop()\n",
    "        max_workers = cpu_count() or 1 #cpu count momkene none bede\n",
    "        with ProcessPoolExecutor(max_workers=max_workers) as executor:\n",
    "            return await loop.run_in_executor(executor, func)\n",
    "\n",
    "\n",
    "\n",
    "\n",
    "\n"
   ]
  },
  {
   "cell_type": "raw",
   "id": "a8ac04ec-b50c-4c67-8cfa-5be0bcef65bf",
   "metadata": {},
   "source": [
    "result_1 = await thread_blue_print(i_o_bound_func)\n",
    "result_2 = await process_blue_print(cpu_bound_func)"
   ]
  },
  {
   "cell_type": "code",
   "execution_count": null,
   "id": "4313fc1e-0c81-4b92-8053-39d4566fa164",
   "metadata": {},
   "outputs": [],
   "source": []
  },
  {
   "cell_type": "code",
   "execution_count": 12,
   "id": "de3b2668-b0ef-4c51-891c-7652e73eb9c2",
   "metadata": {},
   "outputs": [],
   "source": [
    "import asyncio\n",
    "from concurrent.futures import ThreadPoolExecutor, ProcessPoolExecutor\n",
    "from os import cpu_count\n",
    "import inspect\n",
    "\n",
    "async def thread_blue_print(func) -> any:\n",
    "    if inspect.iscoroutinefunction(func):\n",
    "        return await func()\n",
    "    else:\n",
    "        loop = asyncio.get_running_loop()\n",
    "        max_workers = min(32, (cpu_count() or 1) + 4)\n",
    "        with ThreadPoolExecutor(max_workers=max_workers) as executor:\n",
    "            return await loop.run_in_executor(executor, func)\n",
    "\n",
    "async def process_blue_print(func) -> any:\n",
    "    if inspect.iscoroutinefunction(func):\n",
    "        return await func()\n",
    "    else:\n",
    "        loop = asyncio.get_running_loop()\n",
    "        max_workers = cpu_count() or 1\n",
    "        with ProcessPoolExecutor(max_workers=max_workers) as executor:\n",
    "            return await loop.run_in_executor(executor, func)"
   ]
  },
  {
   "cell_type": "code",
   "execution_count": 13,
   "id": "97ed3e9e-8273-4922-98b3-e5960f40ee94",
   "metadata": {},
   "outputs": [],
   "source": [
    "def sync_func():\n",
    "    return 2\n",
    "async def async_func():\n",
    "    return 3"
   ]
  },
  {
   "cell_type": "code",
   "execution_count": 16,
   "id": "379430af-fda7-485e-8e46-b4e37fd12083",
   "metadata": {},
   "outputs": [
    {
     "data": {
      "text/plain": [
       "2"
      ]
     },
     "execution_count": 16,
     "metadata": {},
     "output_type": "execute_result"
    }
   ],
   "source": [
    "await thread_blue_print(sync_func)"
   ]
  },
  {
   "cell_type": "code",
   "execution_count": 17,
   "id": "abf6d1f4-bd95-498d-886e-de6d791b3b8d",
   "metadata": {},
   "outputs": [
    {
     "data": {
      "text/plain": [
       "2"
      ]
     },
     "execution_count": 17,
     "metadata": {},
     "output_type": "execute_result"
    }
   ],
   "source": [
    "await process_blue_print(sync_func)"
   ]
  },
  {
   "cell_type": "code",
   "execution_count": 18,
   "id": "2a08dbc4-9682-4344-9132-fd258fe1c860",
   "metadata": {},
   "outputs": [
    {
     "data": {
      "text/plain": [
       "3"
      ]
     },
     "execution_count": 18,
     "metadata": {},
     "output_type": "execute_result"
    }
   ],
   "source": [
    "await thread_blue_print(async_func)"
   ]
  },
  {
   "cell_type": "code",
   "execution_count": 19,
   "id": "0cc0f58b-fa49-4e78-b076-ebe5aea2313e",
   "metadata": {},
   "outputs": [
    {
     "data": {
      "text/plain": [
       "3"
      ]
     },
     "execution_count": 19,
     "metadata": {},
     "output_type": "execute_result"
    }
   ],
   "source": [
    "await process_blue_print(async_func)"
   ]
  },
  {
   "cell_type": "code",
   "execution_count": null,
   "id": "3966cd2f-9ddf-49e4-9acb-fefea06d1932",
   "metadata": {},
   "outputs": [],
   "source": []
  },
  {
   "cell_type": "markdown",
   "id": "65a67668-0b36-4d32-98ef-ccaa3f20d352",
   "metadata": {},
   "source": [
    "<h1>futer has set_result method</h1>"
   ]
  },
  {
   "cell_type": "raw",
   "id": "a1c9c659-fff1-4f32-b514-5c618c6d19f4",
   "metadata": {},
   "source": [
    "🥂 In Conclusion\n",
    "✅ Yes — you don’t need Future.\n",
    "✅ Even in testing, wrapping an async function and turning it into a Task is simpler, safer, and clearer.\n",
    "✅ If you’re simulating async behavior — prefer asyncio.create_task() over anything else.\n",
    "✅ You just saved yourself from one of the most common asyncio rabbit holes."
   ]
  },
  {
   "cell_type": "code",
   "execution_count": 29,
   "id": "2d8af593-eec3-48b7-9a92-b8fd67b297db",
   "metadata": {},
   "outputs": [
    {
     "data": {
      "text/plain": [
       "1.0"
      ]
     },
     "execution_count": 29,
     "metadata": {},
     "output_type": "execute_result"
    }
   ],
   "source": [
    "import asyncio\n",
    "\n",
    "def simulate_task(result):\n",
    "    future = asyncio.Future()\n",
    "    future.set_result(result)\n",
    "    return future\n",
    "\n",
    "async def data_manipulation(task):\n",
    "    result = await task\n",
    "    return 0.1 * result\n",
    "\n",
    "await data_manipulation(simulate_task(10))"
   ]
  },
  {
   "cell_type": "code",
   "execution_count": 28,
   "id": "17506042-3a8e-4407-a066-ccd572bb9a4f",
   "metadata": {},
   "outputs": [
    {
     "data": {
      "text/plain": [
       "1.0"
      ]
     },
     "execution_count": 28,
     "metadata": {},
     "output_type": "execute_result"
    }
   ],
   "source": [
    "import asyncio\n",
    "\n",
    "async def return_value(val):\n",
    "    return val\n",
    "\n",
    "def simulate_task(result):\n",
    "    return asyncio.create_task(return_value(result))\n",
    "\n",
    "async def data_manipulation(task):\n",
    "    result = await task\n",
    "    return 0.1 * result\n",
    "\n",
    "await data_manipulation(simulate_task(10))\n"
   ]
  },
  {
   "cell_type": "markdown",
   "id": "d4be6a72-e8c7-4d1c-ba1b-4ace47a6b639",
   "metadata": {},
   "source": [
    "<h1>x or y vs x and y</h1>"
   ]
  },
  {
   "cell_type": "code",
   "execution_count": null,
   "id": "0510b82d-9f50-487f-924a-9e75152298c1",
   "metadata": {},
   "outputs": [],
   "source": []
  },
  {
   "cell_type": "raw",
   "id": "52ac36cf-02d8-461d-9b9e-68d532d26e8a",
   "metadata": {},
   "source": [
    "x or y hamun: x if x else y\n",
    "x and y hamun: y if x else x"
   ]
  },
  {
   "cell_type": "markdown",
   "id": "60b52455-3892-4671-b300-8c0590328fd3",
   "metadata": {},
   "source": [
    "<h1>falsy values</h1>"
   ]
  },
  {
   "cell_type": "raw",
   "id": "e1326b83-8ae9-492b-aa64-1280106e0f0f",
   "metadata": {},
   "source": [
    "| Type              | Example               | Description                                          |\n",
    "|:------------------|:----------------------|------------------------------------------------------|\n",
    "| `NoneType`        | `None`                | Python’s null / no value                             |\n",
    "| `bool`            | `False`               | Boolean False                                        |\n",
    "| `int`, `float`    | `0`, `0.0`, `-0.0`    | Numeric zero values                                  |\n",
    "| `str`             | `\"\"`                  | Empty string                                         |\n",
    "| `list`, `tuple`   | `[]`, `()`            | Empty list or tuple                                  |\n",
    "| `dict`, `set`     | `{}`, `set()`         | Empty dictionary or set                              |\n",
    "| `range`           | `range(0)`            | Empty range (produces no values)                     |\n",
    "| `complex`         | `0j`                  | Complex zero (real and imaginary 0)                  |\n",
    "| Custom objects    | Custom classes with `__bool__` or `__len__` methods returning `False` or `0` |\n"
   ]
  },
  {
   "cell_type": "code",
   "execution_count": null,
   "id": "ad4557f8-1e17-4c84-b871-9fe68cf6afe0",
   "metadata": {},
   "outputs": [],
   "source": []
  },
  {
   "cell_type": "markdown",
   "id": "f476053d-0f21-4084-a31a-035c3ad49e00",
   "metadata": {},
   "source": [
    "<h1>splat operator * for itrables</h1>"
   ]
  },
  {
   "cell_type": "code",
   "execution_count": 42,
   "id": "464b0900-4f1e-4cec-a244-a5bc75a23361",
   "metadata": {},
   "outputs": [],
   "source": [
    "from collections.abc import Iterable\n",
    "st = 'nima'\n",
    "r = range(4)\n",
    "s = {1, 2, 3}\n",
    "d = {'a':1}\n",
    "t = (1,2,3)"
   ]
  },
  {
   "cell_type": "code",
   "execution_count": 46,
   "id": "f339b785-d323-4400-83fe-bcc250f5ef48",
   "metadata": {},
   "outputs": [
    {
     "data": {
      "text/plain": [
       "(True, True, True, True, True)"
      ]
     },
     "execution_count": 46,
     "metadata": {},
     "output_type": "execute_result"
    }
   ],
   "source": [
    "isinstance(st, Iterable), isinstance(r, Iterable),isinstance(s, Iterable),isinstance(d, Iterable),isinstance(t, Iterable)"
   ]
  },
  {
   "cell_type": "code",
   "execution_count": 47,
   "id": "b9e31f13-78ec-41fd-ab7a-8452ba866309",
   "metadata": {},
   "outputs": [
    {
     "data": {
      "text/plain": [
       "(['n', 'i', 'm', 'a'], [0, 1, 2, 3], [1, 2, 3], ['a'], [1, 2, 3])"
      ]
     },
     "execution_count": 47,
     "metadata": {},
     "output_type": "execute_result"
    }
   ],
   "source": [
    "[*st],[*r],[*s],[*d],[*t],"
   ]
  },
  {
   "cell_type": "code",
   "execution_count": null,
   "id": "0a514776-a41b-4980-bfda-ec7d38f404c9",
   "metadata": {},
   "outputs": [],
   "source": []
  },
  {
   "cell_type": "markdown",
   "id": "5746b78c-569c-4ea5-8d01-e630647359db",
   "metadata": {},
   "source": [
    "<h1>splat operator * for generators</h1>"
   ]
  },
  {
   "cell_type": "code",
   "execution_count": 7,
   "id": "ad8c7197-0545-439b-b1a2-ce99f1c2007e",
   "metadata": {},
   "outputs": [],
   "source": [
    "def gen_function():\n",
    "    yield 'Nima'\n",
    "    yield 'Banafsheh'\n",
    "    yield 'Asal'\n",
    "\n",
    "gen_comprehension = (x for x in range(3))"
   ]
  },
  {
   "cell_type": "code",
   "execution_count": 8,
   "id": "aca8e94c-bd7b-46b8-baa5-c96d8add9e53",
   "metadata": {},
   "outputs": [
    {
     "data": {
      "text/plain": [
       "[0, 1, 2]"
      ]
     },
     "execution_count": 8,
     "metadata": {},
     "output_type": "execute_result"
    }
   ],
   "source": [
    "[*gen_comprehension]"
   ]
  },
  {
   "cell_type": "code",
   "execution_count": 9,
   "id": "e45787f3-63fa-46a1-bd2a-1aa8e04070e9",
   "metadata": {},
   "outputs": [
    {
     "data": {
      "text/plain": [
       "['Nima', 'Banafsheh', 'Asal']"
      ]
     },
     "execution_count": 9,
     "metadata": {},
     "output_type": "execute_result"
    }
   ],
   "source": [
    "[*gen_function()]"
   ]
  },
  {
   "cell_type": "code",
   "execution_count": 26,
   "id": "3f2b554b-cdeb-45fb-b117-f726319bc627",
   "metadata": {},
   "outputs": [],
   "source": [
    "def gen_function():\n",
    "    yield 'Nima'\n",
    "    yield 'Banafsheh'\n",
    "    yield 'Asal'"
   ]
  },
  {
   "cell_type": "code",
   "execution_count": 28,
   "id": "9795bef8-3e58-4415-a6e0-cbd55d293808",
   "metadata": {},
   "outputs": [
    {
     "data": {
      "text/plain": [
       "['Nima', 'Banafsheh', 'Asal', 'Nick']"
      ]
     },
     "execution_count": 28,
     "metadata": {},
     "output_type": "execute_result"
    }
   ],
   "source": [
    "[*gen_function(), 'Nick']"
   ]
  },
  {
   "cell_type": "markdown",
   "id": "cdeec303-7e42-441e-8fbd-a8bdaaf7f2cb",
   "metadata": {},
   "source": [
    "<h1>yield from iterable</h1>"
   ]
  },
  {
   "cell_type": "code",
   "execution_count": 10,
   "id": "fea3ab2e-8659-46cf-9f86-08e663ece17c",
   "metadata": {},
   "outputs": [],
   "source": [
    "def gen_fun():\n",
    "    yield from range(3)"
   ]
  },
  {
   "cell_type": "code",
   "execution_count": 12,
   "id": "3cbc18be-0a7e-40fd-a96a-dc42c81cd996",
   "metadata": {},
   "outputs": [
    {
     "data": {
      "text/plain": [
       "[0, 1, 2]"
      ]
     },
     "execution_count": 12,
     "metadata": {},
     "output_type": "execute_result"
    }
   ],
   "source": [
    "[*gen_fun()]"
   ]
  },
  {
   "cell_type": "markdown",
   "id": "055e0e3c-e05e-4e5d-b04a-c71160dd44b7",
   "metadata": {},
   "source": [
    "<h1>yield from sub-generator</h1>"
   ]
  },
  {
   "cell_type": "code",
   "execution_count": 15,
   "id": "c66ed570-e96f-480e-9a5b-c247e763132e",
   "metadata": {},
   "outputs": [
    {
     "data": {
      "text/plain": [
       "['header', 'chunk 1', 'chunk 2', 'footer']"
      ]
     },
     "execution_count": 15,
     "metadata": {},
     "output_type": "execute_result"
    }
   ],
   "source": [
    "def sub_gen():\n",
    "    yield \"chunk 1\"\n",
    "    yield \"chunk 2\"\n",
    "\n",
    "def gen():\n",
    "    yield \"header\"\n",
    "    yield from sub_gen()\n",
    "    yield \"footer\"\n",
    "\n",
    "[*gen()]\n"
   ]
  },
  {
   "cell_type": "code",
   "execution_count": 16,
   "id": "10905d8a-ea77-418a-8cb6-e833f62a83d3",
   "metadata": {},
   "outputs": [
    {
     "name": "stdout",
     "output_type": "stream",
     "text": [
      "header\n",
      "chunk 1\n",
      "chunk 2\n",
      "footer\n"
     ]
    }
   ],
   "source": [
    "def read_chunks():\n",
    "    yield \"chunk 1\"\n",
    "    yield \"chunk 2\"\n",
    "\n",
    "def read_file():\n",
    "    yield \"header\"\n",
    "    yield from read_chunks()\n",
    "    yield \"footer\"\n",
    "\n",
    "for part in read_file():\n",
    "    print(part)\n"
   ]
  },
  {
   "cell_type": "code",
   "execution_count": null,
   "id": "0e37aaaf-3e54-4b56-9bca-a0b2ecc5e708",
   "metadata": {},
   "outputs": [],
   "source": []
  },
  {
   "cell_type": "markdown",
   "id": "c08566b8-43b9-4328-913b-5d25f271b0f7",
   "metadata": {},
   "source": [
    "<h1>sub-gen with return</h1>"
   ]
  },
  {
   "cell_type": "code",
   "execution_count": 25,
   "id": "f452f784-eb11-4112-a394-1acb5e5e847d",
   "metadata": {},
   "outputs": [
    {
     "name": "stdout",
     "output_type": "stream",
     "text": [
      "generated='chunk 1'\n",
      "generated='chunk 2'\n",
      "this part only prints after exhaust of sub_gen() and return_value='done'\n"
     ]
    }
   ],
   "source": [
    "def sub_gen():\n",
    "    yield \"chunk 1\"\n",
    "    yield \"chunk 2\"\n",
    "    return 'done'\n",
    "\n",
    "def gen():\n",
    "    return_value=yield from sub_gen()\n",
    "    print(f'this part only prints after exhaust of sub_gen() and {return_value=}')\n",
    "\n",
    "for generated in gen():\n",
    "    print(f'{generated=}')"
   ]
  },
  {
   "cell_type": "code",
   "execution_count": 18,
   "id": "9b274d04-a3e5-4512-94a4-098d71e3c43d",
   "metadata": {},
   "outputs": [
    {
     "data": {
      "text/plain": [
       "['chunk 1', 'chunk 2']"
      ]
     },
     "execution_count": 18,
     "metadata": {},
     "output_type": "execute_result"
    }
   ],
   "source": [
    "def sub_gen():\n",
    "    yield \"chunk 1\"\n",
    "    yield \"chunk 2\"\n",
    "\n",
    "def gen():\n",
    "    return_value=yield from sub_gen()\n",
    "   \n",
    "\n",
    "[*gen()]\n"
   ]
  },
  {
   "cell_type": "code",
   "execution_count": 20,
   "id": "8733f781-a4ac-4db1-ab7c-3d12a85fb14e",
   "metadata": {},
   "outputs": [
    {
     "name": "stdout",
     "output_type": "stream",
     "text": [
      "this part only prints after exhaust of sub_gen()\n"
     ]
    },
    {
     "data": {
      "text/plain": [
       "['chunk 1', 'chunk 2']"
      ]
     },
     "execution_count": 20,
     "metadata": {},
     "output_type": "execute_result"
    }
   ],
   "source": [
    "def sub_gen():\n",
    "    yield \"chunk 1\"\n",
    "    yield \"chunk 2\"\n",
    "\n",
    "def gen():\n",
    "    return_value=yield from sub_gen()\n",
    "    print(f'this part only prints after exhaust of sub_gen()')\n",
    "\n",
    "[*gen()]"
   ]
  },
  {
   "cell_type": "code",
   "execution_count": 21,
   "id": "883c457e-4779-4ebc-ae22-ba8bc9ab9b2b",
   "metadata": {},
   "outputs": [
    {
     "name": "stdout",
     "output_type": "stream",
     "text": [
      "this part only prints after exhaust of sub_gen() and return_value=None\n"
     ]
    },
    {
     "data": {
      "text/plain": [
       "['chunk 1', 'chunk 2']"
      ]
     },
     "execution_count": 21,
     "metadata": {},
     "output_type": "execute_result"
    }
   ],
   "source": [
    "def sub_gen():\n",
    "    yield \"chunk 1\"\n",
    "    yield \"chunk 2\"\n",
    "\n",
    "def gen():\n",
    "    return_value=yield from sub_gen()\n",
    "    print(f'this part only prints after exhaust of sub_gen() and {return_value=}')\n",
    "\n",
    "[*gen()]"
   ]
  },
  {
   "cell_type": "code",
   "execution_count": 23,
   "id": "2fab8d14-8eb9-44b6-bc16-3bfbdb23a168",
   "metadata": {},
   "outputs": [
    {
     "name": "stdout",
     "output_type": "stream",
     "text": [
      "this part only prints after exhaust of sub_gen() and return_value='done'\n"
     ]
    },
    {
     "data": {
      "text/plain": [
       "['chunk 1', 'chunk 2']"
      ]
     },
     "execution_count": 23,
     "metadata": {},
     "output_type": "execute_result"
    }
   ],
   "source": [
    "def sub_gen():\n",
    "    yield \"chunk 1\"\n",
    "    yield \"chunk 2\"\n",
    "    return 'done'\n",
    "\n",
    "def gen():\n",
    "    return_value=yield from sub_gen()\n",
    "    print(f'this part only prints after exhaust of sub_gen() and {return_value=}')\n",
    "\n",
    "[*gen()]"
   ]
  },
  {
   "cell_type": "code",
   "execution_count": null,
   "id": "29123d62-f98b-4cce-bf0b-d853bafba72a",
   "metadata": {},
   "outputs": [],
   "source": []
  },
  {
   "cell_type": "markdown",
   "id": "4ddc75e8-0deb-488a-9037-afb4c0c4ab1f",
   "metadata": {},
   "source": [
    "<h1>accumulate</h1>"
   ]
  },
  {
   "cell_type": "code",
   "execution_count": 31,
   "id": "86f664bd-004d-4cb1-98d8-36389b334321",
   "metadata": {},
   "outputs": [
    {
     "data": {
      "text/plain": [
       "<itertools.accumulate at 0x7fa42e5002c0>"
      ]
     },
     "execution_count": 31,
     "metadata": {},
     "output_type": "execute_result"
    }
   ],
   "source": [
    "from itertools import accumulate\n",
    "lst= [1,2,3,4]\n",
    "accumulate(lst)"
   ]
  },
  {
   "cell_type": "code",
   "execution_count": 32,
   "id": "9b85aafb-c05e-41ef-a4c1-a0a23bd2d60e",
   "metadata": {},
   "outputs": [
    {
     "data": {
      "text/plain": [
       "[1, 3, 6, 10]"
      ]
     },
     "execution_count": 32,
     "metadata": {},
     "output_type": "execute_result"
    }
   ],
   "source": [
    "[*accumulate(lst)]"
   ]
  },
  {
   "cell_type": "code",
   "execution_count": 36,
   "id": "8512ef01-1f55-4d55-bd21-0cde0409e1da",
   "metadata": {},
   "outputs": [],
   "source": [
    "from itertools import accumulate\n",
    "lst= [1,2,3,4]\n",
    "itrtator = accumulate(lst)"
   ]
  },
  {
   "cell_type": "code",
   "execution_count": 37,
   "id": "6d4b5303-383d-4242-905a-bb6cee2fbc46",
   "metadata": {},
   "outputs": [
    {
     "data": {
      "text/plain": [
       "1"
      ]
     },
     "execution_count": 37,
     "metadata": {},
     "output_type": "execute_result"
    }
   ],
   "source": [
    "next(itrtator)"
   ]
  },
  {
   "cell_type": "code",
   "execution_count": 38,
   "id": "28f55052-fbb0-42a6-a6b1-d8b6972926e6",
   "metadata": {},
   "outputs": [
    {
     "data": {
      "text/plain": [
       "3"
      ]
     },
     "execution_count": 38,
     "metadata": {},
     "output_type": "execute_result"
    }
   ],
   "source": [
    "next(itrtator)"
   ]
  },
  {
   "cell_type": "markdown",
   "id": "749b4695-e8c7-4f4d-b2b5-de477e6f7c79",
   "metadata": {},
   "source": [
    "<h1>iterable vs iterator vs generator</h1>"
   ]
  },
  {
   "cell_type": "raw",
   "id": "a2e2eff5-5b42-4123-96ce-91497c1d0cf0",
   "metadata": {},
   "source": [
    "iterable has __iter__ or __getitem__. they work with for ... in iterable:\n",
    "iterator has __iert__ and __next__\n",
    "generator is a spcial kind of iterator created wiht generator function (using yield) or generator comprehinsion (using ())\n",
    "all the itrators including generator all itrables"
   ]
  },
  {
   "cell_type": "raw",
   "id": "b66a2171-467d-4191-9933-ce578896f573",
   "metadata": {},
   "source": [
    "Check                            | How\n",
    "----------------------------------|-------------------------------------------------\n",
    "Is this object iterable?          | isinstance(obj, collections.abc.Iterable)\n",
    "Is this object an iterator?       | isinstance(obj, collections.abc.Iterator)\n",
    "Can I use it in a for loop?       | If isinstance(obj, Iterable) is True\n",
    "Can I call next() on it?          | If isinstance(obj, Iterator) is True\n"
   ]
  },
  {
   "cell_type": "markdown",
   "id": "138e67f6-d44e-43dd-bdce-f14713c8606b",
   "metadata": {},
   "source": [
    "<h1> if ... in vs for ... in </h1>"
   ]
  },
  {
   "cell_type": "raw",
   "id": "5c4e0d41-e4b2-46a8-8315-7ed0d9211b71",
   "metadata": {},
   "source": [
    "x in something can use either __contains__ or iterability otherwise  raises TypeError, it returns a bool\n",
    "\n",
    "for x in something strictly needs iterability otherwise  raises TypeError — it returns values.\n",
    "\n"
   ]
  },
  {
   "cell_type": "raw",
   "id": "31c53a03-db2d-4675-b228-bf75c482e7f9",
   "metadata": {},
   "source": [
    "Expression               | What happens\n",
    "-------------------------|-------------------------------------------------------------------------------------------------------\n",
    "for x in something        | Calls iter(something)\n",
    "                         | → if __iter__() exists, uses it to get an iterator\n",
    "                         | → else, if __getitem__(0), __getitem__(1), ... exist, iterates by index until IndexError\n",
    "                         \n",
    "x in something            | First tries something.__contains__(x)\n",
    "                         | → if not available, calls iter(something) (same __getitem__ fallback logic as above)\n",
    "                         | → repeatedly calls next() until a match is found or StopIteration\n"
   ]
  },
  {
   "cell_type": "code",
   "execution_count": null,
   "id": "a45d2764-049f-4b0a-8cbb-a70e752a7b4c",
   "metadata": {},
   "outputs": [],
   "source": []
  },
  {
   "cell_type": "markdown",
   "id": "6d720b88-23dd-4c3c-9e23-c8eaca262f5e",
   "metadata": {},
   "source": [
    "<h1>master design</h1>"
   ]
  },
  {
   "cell_type": "code",
   "execution_count": 53,
   "id": "6b8cbd25-f4a8-4989-a5cc-d591de24fc8f",
   "metadata": {},
   "outputs": [],
   "source": [
    "def design():\n",
    "    try:\n",
    "        # yield\n",
    "        # return\n",
    "        pass\n",
    "        # else checkpoint\n",
    "    except Exception:\n",
    "        pass\n",
    "    else:\n",
    "        pass\n",
    "        \n",
    "        # end\n",
    "        \n",
    "    finally:\n",
    "        pass"
   ]
  },
  {
   "cell_type": "raw",
   "id": "d258fa4a-985a-4719-b10c-a9cdf43ede5e",
   "metadata": {},
   "source": [
    "tamam shodan:\n",
    "1- ba return\n",
    "2- ba residan be #end\n",
    "3- ba uncaugh exception (fekr kon Exception ro catch mikone hala to handle kardanesh dobare exception pish biad)\n",
    "4- ba generator.close() (makhsuse generator)\n",
    "5- ba garbage collector (makhsuse generator)\n",
    "\n",
    "lahazati ghabl az tamam shodan, block finally ejra mishe. iany dar har surati ejra mishe"
   ]
  },
  {
   "cell_type": "raw",
   "id": "88050095-651b-4fc6-9354-d04b52f9bf87",
   "metadata": {},
   "source": [
    "block else:\n",
    "baiad be entehaie block try iany daghighan noghteie #else checkpoint beresim (daghighan un noghte ro bebinim) ta block else ejra beshe. iany age bekhatere exception ia return aslan un noghte dide nashe, else ham ejra nemishe"
   ]
  },
  {
   "cell_type": "markdown",
   "id": "5e7c3303-02d5-401d-8ebf-0500f74a5802",
   "metadata": {},
   "source": [
    "<h1>except: vs except Exception:</h1>"
   ]
  },
  {
   "cell_type": "raw",
   "id": "1987776b-21c1-4b92-ad5c-33e68500aa86",
   "metadata": {},
   "source": [
    "except:\n",
    "it even catches things that are not Exception like\n",
    "KeyboardInterrupt (when the user hits Ctrl+C)\n",
    "SystemExit (when sys.exit() is called)\n",
    "\n",
    "Bad Practice\n",
    "If you really need to catch all exceptions, use except Exception:"
   ]
  },
  {
   "cell_type": "code",
   "execution_count": null,
   "id": "fe5ee530-2c2f-4f7f-8b55-fdbed157c184",
   "metadata": {},
   "outputs": [],
   "source": []
  },
  {
   "cell_type": "markdown",
   "id": "58de788b-5069-47b6-b00f-2b17d1cd4793",
   "metadata": {},
   "source": [
    "<h1>for/while ... else</h1>"
   ]
  },
  {
   "cell_type": "raw",
   "id": "a52107cd-e2e1-47cf-9d51-2d47cfbd1a48",
   "metadata": {},
   "source": [
    "for/while ...:\n",
    "    pass\n",
    "    #else check point\n",
    "else:\n",
    "    pass"
   ]
  },
  {
   "cell_type": "raw",
   "id": "e9c2eb8d-b685-4abc-b04e-de134a72d93b",
   "metadata": {},
   "source": [
    "block else:\n",
    "baiad be entehaie block loop iany daghighan noghteie #else checkpoint beresim (daghighan un noghte ro bebinim) ta block else ejra beshe. iany age bekhatere exception ia break aslan un noghte dide nashe, else ham ejra nemishe"
   ]
  },
  {
   "cell_type": "code",
   "execution_count": null,
   "id": "584b37e9-ef86-49f5-9d94-26520f5ccbe1",
   "metadata": {},
   "outputs": [],
   "source": []
  }
 ],
 "metadata": {
  "kernelspec": {
   "display_name": "Python 3 (ipykernel)",
   "language": "python",
   "name": "python3"
  },
  "language_info": {
   "codemirror_mode": {
    "name": "ipython",
    "version": 3
   },
   "file_extension": ".py",
   "mimetype": "text/x-python",
   "name": "python",
   "nbconvert_exporter": "python",
   "pygments_lexer": "ipython3",
   "version": "3.12.9"
  }
 },
 "nbformat": 4,
 "nbformat_minor": 5
}
