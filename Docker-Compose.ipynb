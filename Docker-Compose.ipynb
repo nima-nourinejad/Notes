{
 "cells": [
  {
   "cell_type": "markdown",
   "id": "6b266c90-77fb-4b2d-a29c-7e9e63ce9bcf",
   "metadata": {},
   "source": [
    "# What is it for?"
   ]
  },
  {
   "cell_type": "raw",
   "id": "66c487e7-683c-409a-aac7-3459555fd6fc",
   "metadata": {},
   "source": [
    "Docker Compose is used for simply running a multi-container application — where each part of the system (like a backend, database, or frontend) runs in its own container, and Docker Compose coordinates them all."
   ]
  },
  {
   "cell_type": "markdown",
   "id": "9ad1aa61-84f9-41e1-99d7-2fae62461b93",
   "metadata": {},
   "source": [
    "# What is it?"
   ]
  },
  {
   "cell_type": "raw",
   "id": "0c65ed81-89b2-4380-80ec-20ff1d183159",
   "metadata": {},
   "source": [
    "Docker Compose is a lightweight orchestration tool for managing multi-container applications.\n",
    "It starts with Dockerfiles or pre-built images, and ends with a set of well-connected, coordinated, and running containers — each representing a part of the application (e.g. backend, frontend, database), all brought to life with a single command."
   ]
  },
  {
   "cell_type": "raw",
   "id": "13e43679-2a43-459a-82e5-d50e34fe7a0b",
   "metadata": {},
   "source": [
    "Docker Compose includes several services, and each service can be based on its own Dockerfile, or an existing image. It also defines how these services relate to and communicate with each other.\n",
    "\n",
    "🧩 Let’s break it down in steps:\n",
    "Each service = one part of your app\n",
    "\n",
    "e.g. backend, database, frontend, Redis, etc.\n",
    "\n",
    "Each of these can either:\n",
    "\n",
    "Be built from a Dockerfile (custom build)\n",
    "\n",
    "Or pulled directly as a pre-made image (e.g. postgres, nginx, redis)\n",
    "\n",
    "Docker Compose connects them\n",
    "It defines:\n",
    "\n",
    "how services talk to each other (e.g. backend connects to db:5432)\n",
    "\n",
    "shared environment variables\n",
    "\n",
    "volumes (for shared data)\n",
    "\n",
    "ports (which ports are exposed)\n",
    "\n",
    "dependencies (who should start first, like db before backend)\n",
    "\n",
    "Docker Compose is a lightweight orchestration tool for managing multi-container applications.\n",
    "It starts with Dockerfiles or pre-built images, and ends with a set of well-connected, coordinated, and running containers — each representing a part of the application (e.g. backend, frontend, database), all brought to life with a single command.\n",
    "\n",
    "🔁 The full lifecycle using Compose looks like this:\n",
    "Start Point\n",
    "\n",
    "Each service in your app is either:\n",
    "\n",
    "Built from a Dockerfile (build: directive), or\n",
    "\n",
    "Pulled from a registry as a prebuilt image: (like postgres, redis)\n",
    "\n",
    "Orchestration Layer\n",
    "Docker Compose (via docker-compose.yml):\n",
    "\n",
    "Defines how many containers to run\n",
    "\n",
    "Sets their configuration (ports, environment variables, volumes)\n",
    "\n",
    "Manages their dependencies (e.g., backend starts after db is ready)\n",
    "\n",
    "Defines the network — containers can talk to each other by service name (e.g. backend connects to db:5432)\n",
    "\n",
    "End Point\n",
    "\n",
    "One command: docker-compose up\n",
    "\n",
    "You get a running system with:\n",
    "\n",
    "Multiple containers (services)\n",
    "\n",
    "Automatically connected\n",
    "\n",
    "Consistently configured\n",
    "\n",
    "Isolated in a shared private network"
   ]
  },
  {
   "cell_type": "markdown",
   "id": "f2cd71ff-4c2f-4e98-8e1b-2455f76bf272",
   "metadata": {},
   "source": [
    "# How does it work?"
   ]
  },
  {
   "cell_type": "raw",
   "id": "4a90c300-7253-4e54-9a19-5da7084a51a8",
   "metadata": {},
   "source": [
    "You should have a docker-compose.yml in the root of the project\n",
    "then in the terminal. move to the root of the proejct and this command\n",
    "docker-compose up"
   ]
  },
  {
   "cell_type": "raw",
   "id": "09709b25-9788-49d5-a867-4f648cba14b8",
   "metadata": {},
   "source": [
    "How Does Docker Compose Work? (Step-by-Step)\n",
    "📄 Create a docker-compose.yml File\n",
    "In the root of your project folder, you create a file named:\n",
    "docker-compose.yml\n",
    "This file defines all the services (containers) your app needs — like backend, database, frontend — and how they connect.\n",
    "\n",
    "✏️ Define Your Services\n",
    "Inside the file, you describe:\n",
    "\n",
    "Which images to use or which Dockerfiles to build from\n",
    "\n",
    "Port mappings (e.g. 8000:8000)\n",
    "\n",
    "Environment variables (e.g. DB passwords)\n",
    "\n",
    "Dependencies (who should start first)\n",
    "\n",
    "Volumes (shared folders)\n",
    "\n",
    "Open Terminal in the Root of the Project\n",
    "Navigate to the project’s root directory where the docker-compose.yml file lives:\n",
    "cd path/to/your/project\n",
    "\n",
    "\n",
    "🚀 Run Docker Compose\n",
    "To build and start all services, just run:\n",
    "docker-compose up\n",
    "This will build images (if needed), start containers, and set up the network.\n",
    "\n",
    "All services start up and can talk to each other.\n",
    "\n",
    "You’ll see their logs in the terminal.\n",
    "\n",
    "🛑 To Stop Everything\n",
    "Press Ctrl + C, or run:\n",
    "docker-compose down\n",
    "This stops and removes the containers it started.\n",
    "\n",
    "🔁 Optional flags:\n",
    "docker-compose up -d: run in the background (detached mode)\n",
    "\n",
    "docker-compose build: just build images, don’t run them\n",
    "\n",
    "docker-compose logs: see logs from all containers\n",
    "\n",
    "🧠 In simple words:\n",
    "Docker Compose works by reading your docker-compose.yml file, building and starting all the containers as defined, and setting up their connections automatically — so your app is ready to go with one command."
   ]
  }
 ],
 "metadata": {
  "kernelspec": {
   "display_name": "Python 3 (ipykernel)",
   "language": "python",
   "name": "python3"
  },
  "language_info": {
   "codemirror_mode": {
    "name": "ipython",
    "version": 3
   },
   "file_extension": ".py",
   "mimetype": "text/x-python",
   "name": "python",
   "nbconvert_exporter": "python",
   "pygments_lexer": "ipython3",
   "version": "3.12.9"
  }
 },
 "nbformat": 4,
 "nbformat_minor": 5
}
