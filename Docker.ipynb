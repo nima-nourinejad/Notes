{
 "cells": [
  {
   "cell_type": "markdown",
   "id": "ab6d416a-5542-4ecf-bf65-8d9345c18b11",
   "metadata": {},
   "source": [
    "# Client vs Daemon"
   ]
  },
  {
   "cell_type": "raw",
   "id": "8884268b-1e2f-4bc2-83c4-f62ddf0dfca0",
   "metadata": {},
   "source": [
    "Docker consists of two main parts: the Docker Client and the Docker Daemon. The Docker Client is the command-line tool that you use to interact with Docker. When you type commands like docker run, the Client takes your input and sends these commands to the Docker Daemon. The Daemon is the background service running on your machine that is responsible for actually creating, running, and managing containers. In the output of docker version, you’ll see two sections labeled “Client” and “Server.” The “Server” corresponds to the Docker Daemon. Without the Daemon running, the Client’s commands can’t be executed because the Daemon is the engine that does the real work behind the scenes. So, while you interact with the Client, the Daemon is the part that manages and executes containers on your system."
   ]
  },
  {
   "cell_type": "markdown",
   "id": "f9a16058-ab65-483d-a643-a1842d8591c1",
   "metadata": {},
   "source": [
    "# Image-Container-Commit-Snapshot"
   ]
  },
  {
   "cell_type": "raw",
   "id": "123843fa-8b3b-4e01-8796-3ab73e9b0e1f",
   "metadata": {},
   "source": [
    "An image is like a blueprint. It’s a read-only package that contains everything needed to run an application—code, runtime, libraries, environment variables, and settings.\n",
    "\n",
    "A container is a running instance of an image. When you run a Docker image, Docker creates a container, which is a lightweight, isolated environment where your application runs. Containers start from the read-only image but have their own writable layer, allowing changes while running. Each container has its own filesystem, processes, and network interfaces. Containers can be started, stopped, deleted, and recreated easily.\n",
    "\n",
    "In a development environment, the workflow often looks like this:\n",
    "Start from image_version_one.\n",
    "\n",
    "Run it as a container.\n",
    "\n",
    "Modify the container (e.g., install packages, change configs).\n",
    "\n",
    "Create a snapshot (called a commit in Docker) of the container’s current state.\n",
    "\n",
    "This snapshot becomes image_version_two, a new image version including your changes.\n",
    "\n",
    "In a production environment, the process is usually simpler:\n",
    "Run a final_image as a container without modification, ensuring consistency and reliability.\n",
    "\n",
    "Why snapshots matter:\n",
    "Snapshots let you capture the exact state of a container’s filesystem at any moment. Since the original image is read-only, any changes made in a running container exist only temporarily in the container’s writable layer. If you stop or delete the container, those changes are lost by default. By creating a snapshot (committing), you save these changes permanently as a new image version, which can be reused, shared, and deployed consistently."
   ]
  },
  {
   "cell_type": "markdown",
   "id": "4a5fe3c9-df6d-4e63-a665-9bfd4e8999f6",
   "metadata": {},
   "source": [
    "# Dockerfile: a blueprint of the blueprint"
   ]
  },
  {
   "cell_type": "raw",
   "id": "4f156950-4b56-4dac-b64e-d7ca67ea24c2",
   "metadata": {},
   "source": [
    "image_v1 → container → modify manually → snapshot → image_v2\n",
    "While technically valid, it has major drawbacks:\n",
    "It relies on manual changes inside a running container (e.g., installing things interactively via bash).\n",
    "It’s not reproducible unless you commit every little step to memory or a log.\n",
    "It’s hard to collaborate or track what's changed between versions.\n",
    "It’s fragile — if the container is lost and you forgot to snapshot, your work is gone.\n",
    "this is not how professionals manage image versioning in development workflows\n",
    "\n",
    "\n",
    "✅ Enter the Dockerfile — your proper blueprint \n",
    "A Dockerfile is a text file that defines how to build a Docker image.\n",
    "It’s the true blueprint that produces the image.\n",
    "\n",
    "1. Write a Dockerfile\n",
    "This acts as the blueprint for your application environment — defining everything from base image to dependencies and run commands.\n",
    "\n",
    "2. Build a Docker image from the Dockerfile\n",
    "docker build -t myapp:1.0 .\n",
    "This creates an image tagged myapp:1.0 based on your Dockerfile and local app files.\n",
    "\n",
    "3. Run a container from the image\n",
    "docker run myapp:1.0\n",
    "This launches the app in an isolated container.\n",
    "\n",
    "4. Push the image to a Docker registry\n",
    "🔹 The Dockerfile itself is usually pushed to Git (e.g., GitHub), not to the Docker registry.\n",
    "🔹 The image (a binary artifact) is what goes to the Docker registry (e.g., Docker Hub, GHCR, etc.).\n",
    "Dockerfile → goes to GitHub\n",
    "Built image → goes to Docker registry\n",
    "\n",
    "5. If changes are needed:\n",
    "Update the Dockerfile (e.g., change Python version, install new dependencies)\n",
    "Rebuild the image:\n",
    "docker build -t yourusername/myapp:1.1 .\n",
    "Push the new image\n",
    "Also commit and push the updated Dockerfile to GitHub.\n",
    "\n",
    "6. Teammates:\n",
    "Pull the updated Dockerfile from GitHub (to see exactly what has changed in the build process).\n",
    "Pull the image(s) from the Docker registry to run them directly.\n",
    "If they want to make new changes:\n",
    "They edit the Dockerfile\n",
    "Build a new image (myapp:1.2)\n",
    "Push the updated Dockerfile to GitHub\n",
    "Push the image to Docker Hub (or private registry)"
   ]
  },
  {
   "cell_type": "markdown",
   "id": "e3b7c906-3d7a-41f3-a1b3-f372ad2c6664",
   "metadata": {},
   "source": [
    "# Final stage: move from development to production"
   ]
  },
  {
   "cell_type": "raw",
   "id": "0d9410c9-b2ee-42d8-8a60-6480715c71f0",
   "metadata": {},
   "source": [
    "When we want to deploy to production, do we:\n",
    "\n",
    "Pull the latest Dockerfile, build a new image, and run a container?\n",
    "OR\n",
    "\n",
    "Pull the latest built image, and just run the container?\n",
    "\n",
    "✅ The correct and professional answer is Option 2:\n",
    "\n",
    "In production, you pull the latest image and run the container.\n",
    "\n",
    "Why we don’t build images in production\n",
    "Speed – Building an image takes time (downloading dependencies, compiling, etc.). Production needs to be fast and predictable.\n",
    "\n",
    "Consistency – If you build in production, the environment, base images, or tools might be different — leading to subtle bugs or differences from staging/dev.\n",
    "\n",
    "Security – Building means access to source code, build secrets, internet. Production should not have to deal with this. It should run known, tested, final images.\n",
    "\n",
    "Separation of concerns – We build and test images in CI/CD pipelines or dev environments. Production only runs prebuilt, tested artifacts — nothing more."
   ]
  },
  {
   "cell_type": "markdown",
   "id": "fbf58e6f-b19b-460a-af3b-add1b9cbeee4",
   "metadata": {},
   "source": [
    "# What Is a Registry?"
   ]
  },
  {
   "cell_type": "raw",
   "id": "99bdf45a-bf8c-462d-bcd3-8e86a80dcb9d",
   "metadata": {},
   "source": [
    "A container registry is a storage and distribution system for container images (like Docker images)\n",
    "\n",
    "You can think of it as:\n",
    "\n",
    "A specialized repository (like GitHub is for code) — but instead of storing source code, it stores built images that are ready to run as containers\n",
    "\n",
    "Docker Hub is the most well-known example of a container registry."
   ]
  },
  {
   "cell_type": "markdown",
   "id": "6cdb4b7d-29e8-4662-befd-239e08c53d5b",
   "metadata": {},
   "source": [
    "# naming of images"
   ]
  },
  {
   "cell_type": "raw",
   "id": "be612651-2eb3-436a-928e-4a26c8886ad4",
   "metadata": {},
   "source": [
    "name_of_image:tag\n",
    "\n",
    "If you don’t specify :tag, Docker automatically assumes:\n",
    "\n",
    "name_of_image:latest"
   ]
  },
  {
   "cell_type": "markdown",
   "id": "507002b9-a5fe-4a3f-8874-3ecde40e660e",
   "metadata": {},
   "source": [
    "# docker --help"
   ]
  },
  {
   "cell_type": "raw",
   "id": "fa9d0a55-8eb8-41ad-b7ca-e17988b9fce8",
   "metadata": {},
   "source": [
    "know about availbe docker commands"
   ]
  },
  {
   "cell_type": "markdown",
   "id": "d3de4b11-0981-4f19-bf23-2376205031ea",
   "metadata": {},
   "source": [
    "# docker + command + --help"
   ]
  },
  {
   "cell_type": "raw",
   "id": "1554ce7e-170b-4c6f-8d61-d6a50b9efff4",
   "metadata": {},
   "source": [
    "more information on a command like availble flags"
   ]
  },
  {
   "cell_type": "markdown",
   "id": "779e7665-d831-4d03-b8b9-db46c40fdf3a",
   "metadata": {},
   "source": [
    "# docker pull "
   ]
  },
  {
   "cell_type": "raw",
   "id": "bfa53ff2-7285-4308-a239-6108c9709b86",
   "metadata": {},
   "source": [
    "docker pull is the universal command for pulling container images\n",
    "docker pull [REGISTRY_HOST[:PORT]/]REPOSITORY_NAME[:TAG]\n",
    "\n",
    "but simply:\n",
    "\n",
    "docker pull name_of_image_of_an_official_image_in_public_library_in_docker_hub\n",
    "docker pull yourusername_in_docker_hub/name_of_image\n",
    "docker pull full_address_of_image"
   ]
  },
  {
   "cell_type": "markdown",
   "id": "f722e0a5-1257-4087-a5a6-57cac7aaff08",
   "metadata": {},
   "source": [
    "# docker images or docker image ls"
   ]
  },
  {
   "cell_type": "raw",
   "id": "eff84138-8336-443f-ba04-294d8c7c9fd4",
   "metadata": {},
   "source": [
    "docker images command (now technically aliased as docker image ls) is the standard way to list all images that are available locally on your system, whether they were:\n",
    "\n",
    "Pulled from a remote registry (e.g., Docker Hub, GHCR, ECR)\n",
    "\n",
    "Built locally using docker build\n",
    "\n"
   ]
  },
  {
   "cell_type": "markdown",
   "id": "4d3943cb-d80b-4746-9089-5cbadcfb349a",
   "metadata": {},
   "source": [
    "# docker run name_of_imag:tag"
   ]
  },
  {
   "cell_type": "raw",
   "id": "4c311804-fb33-4864-8930-7888bc50c70f",
   "metadata": {},
   "source": [
    "docker run is the command used to run a container from an image"
   ]
  },
  {
   "cell_type": "markdown",
   "id": "955d43d1-dc8c-44da-b3b2-460099c24892",
   "metadata": {},
   "source": [
    "# docker run image_name --name container_name"
   ]
  },
  {
   "cell_type": "raw",
   "id": "3e8c1623-995e-411b-bd55-409a7d76bb1a",
   "metadata": {},
   "source": [
    "docker run is the command used to run a named container from an image"
   ]
  },
  {
   "cell_type": "markdown",
   "id": "4aaffa0a-ed77-4926-a48a-c1fbd4d3d2af",
   "metadata": {},
   "source": [
    "# docker run -d"
   ]
  },
  {
   "cell_type": "raw",
   "id": "639f7a6f-d0bf-4762-97b9-303f5ce563ac",
   "metadata": {},
   "source": [
    "The -d flag tells Docker to run the container in detached mode, meaning it runs in the background and doesn't tie up your terminal. Start the container, but don’t show me the output — just give me back my terminal."
   ]
  },
  {
   "cell_type": "markdown",
   "id": "11822394-7849-4f89-b55d-f45e5b5287ef",
   "metadata": {},
   "source": [
    "# docker stop container_id or docker stop container_name"
   ]
  },
  {
   "cell_type": "raw",
   "id": "297083ef-2b9c-49fa-a4e3-c527d7cb35d5",
   "metadata": {},
   "source": [
    "if you run a container in detached mode, you can not stop it by Ctrl + c any more. first you should find the container_id by docker container ls. then use it with docker stop to stop this running container"
   ]
  },
  {
   "cell_type": "markdown",
   "id": "2e75a5f3-b0af-4841-a2d4-86a50c3d160e",
   "metadata": {},
   "source": [
    "# docker container ls or docker ps"
   ]
  },
  {
   "cell_type": "raw",
   "id": "f0a178b6-7c7a-4827-bfb8-94df37509579",
   "metadata": {},
   "source": [
    "Use this to view all the containers that are currently running on your system.\n",
    "if you add -a flag it shows all the containers running or stopped"
   ]
  },
  {
   "cell_type": "markdown",
   "id": "77fac187-bd02-4caa-b7fc-864a61cc4207",
   "metadata": {},
   "source": [
    "# docker run -p host_port:container_port"
   ]
  },
  {
   "cell_type": "raw",
   "id": "3d6690f0-0fba-4888-a90d-c531609bea31",
   "metadata": {},
   "source": [
    "it is your way to expose container services outside the container, making them reachable on your local machine or network.\n",
    "Traffic arriving at the host’s port is forwarded into the container’s corresponding port. This is called por mapping\n",
    "\n",
    "Most images declare the ports they use in the Dockerfile with the EXPOSE instruction:\n",
    "EXPOSE 80\n",
    "\n",
    "or\n",
    "\n",
    "You can start the container detached, then inspect it to see exposed ports:\n",
    "docker run -d --name temp-container myimage\n",
    "docker container inspect temp-container\n",
    "In the output JSON, look for ExposedPorts under Config or NetworkSettings → Ports.\n",
    "\n",
    "host_port is the port number on your local machine (the host) where you want to expose the container’s service.\n",
    "You get to choose this port freely, based on what’s available or what you want to use.\n",
    "\n",
    "if more than one mapping:\n",
    "docker run -p hp1:cp -p hp2:cp"
   ]
  },
  {
   "cell_type": "markdown",
   "id": "200dabdf-a222-474a-81ac-283383612174",
   "metadata": {},
   "source": [
    "# operations on container"
   ]
  },
  {
   "cell_type": "raw",
   "id": "06edfc29-9278-43ed-a950-2d7d13363598",
   "metadata": {},
   "source": [
    "run + image_name \n",
    "stop + container_name/id\n",
    "start + container_name/id\n",
    "remove + container_name/id"
   ]
  },
  {
   "cell_type": "markdown",
   "id": "a90b39b9-275d-4669-99da-20dbfa8695e7",
   "metadata": {},
   "source": [
    "## 🐳 Docker Container Lifecycle — Your Core Command Set\n",
    "\n",
    "| Action     | Command                             | Explanation                                                                 |\n",
    "|------------|-------------------------------------|-----------------------------------------------------------------------------|\n",
    "| ✅ Run      | `docker run IMAGE_NAME`             | Creates **and** starts a new container from the image. Pulls image if needed. |\n",
    "| 🛑 Stop     | `docker stop CONTAINER_ID_OR_NAME`  | Gracefully stops a **running** container using SIGTERM.                     |\n",
    "| 🔁 Start    | `docker start CONTAINER_ID_OR_NAME` | Starts a **stopped** container (previously created).                        |\n",
    "| ❌ Remove   | `docker rm CONTAINER_ID_OR_NAME`    | Deletes a **stopped** container. Frees up resources.                        |\n"
   ]
  },
  {
   "cell_type": "code",
   "execution_count": null,
   "id": "a23914d0-4d48-478b-a7b2-5be47f022e68",
   "metadata": {},
   "outputs": [],
   "source": []
  }
 ],
 "metadata": {
  "kernelspec": {
   "display_name": "Python 3 (ipykernel)",
   "language": "python",
   "name": "python3"
  },
  "language_info": {
   "codemirror_mode": {
    "name": "ipython",
    "version": 3
   },
   "file_extension": ".py",
   "mimetype": "text/x-python",
   "name": "python",
   "nbconvert_exporter": "python",
   "pygments_lexer": "ipython3",
   "version": "3.12.9"
  }
 },
 "nbformat": 4,
 "nbformat_minor": 5
}
