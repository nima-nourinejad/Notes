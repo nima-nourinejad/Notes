{
 "cells": [
  {
   "cell_type": "markdown",
   "id": "ab6d416a-5542-4ecf-bf65-8d9345c18b11",
   "metadata": {},
   "source": [
    "# Client vs Daemon"
   ]
  },
  {
   "cell_type": "raw",
   "id": "8884268b-1e2f-4bc2-83c4-f62ddf0dfca0",
   "metadata": {},
   "source": [
    "Docker consists of two main parts: the Docker Client and the Docker Daemon. The Docker Client is the command-line tool that you use to interact with Docker. When you type commands like docker run, the Client takes your input and sends these commands to the Docker Daemon. The Daemon is the background service running on your machine that is responsible for actually creating, running, and managing containers. In the output of docker version, you’ll see two sections labeled “Client” and “Server.” The “Server” corresponds to the Docker Daemon. Without the Daemon running, the Client’s commands can’t be executed because the Daemon is the engine that does the real work behind the scenes. So, while you interact with the Client, the Daemon is the part that manages and executes containers on your system."
   ]
  },
  {
   "cell_type": "markdown",
   "id": "f9a16058-ab65-483d-a643-a1842d8591c1",
   "metadata": {},
   "source": [
    "# Image-Container-Commit-Snapshot"
   ]
  },
  {
   "cell_type": "raw",
   "id": "123843fa-8b3b-4e01-8796-3ab73e9b0e1f",
   "metadata": {},
   "source": [
    "An image is like a blueprint. It’s a read-only package that contains everything needed to run an application—code, runtime, libraries, environment variables, and settings.\n",
    "\n",
    "A container is a running instance of an image. When you run a Docker image, Docker creates a container, which is a lightweight, isolated environment where your application runs. Containers start from the read-only image but have their own writable layer, allowing changes while running. Each container has its own filesystem, processes, and network interfaces. Containers can be started, stopped, deleted, and recreated easily.\n",
    "\n",
    "In a development environment, the workflow often looks like this:\n",
    "Start from image_version_one.\n",
    "\n",
    "Run it as a container.\n",
    "\n",
    "Modify the container (e.g., install packages, change configs).\n",
    "\n",
    "Create a snapshot (called a commit in Docker) of the container’s current state.\n",
    "\n",
    "This snapshot becomes image_version_two, a new image version including your changes.\n",
    "\n",
    "In a production environment, the process is usually simpler:\n",
    "Run a final_image as a container without modification, ensuring consistency and reliability.\n",
    "\n",
    "Why snapshots matter:\n",
    "Snapshots let you capture the exact state of a container’s filesystem at any moment. Since the original image is read-only, any changes made in a running container exist only temporarily in the container’s writable layer. If you stop or delete the container, those changes are lost by default. By creating a snapshot (committing), you save these changes permanently as a new image version, which can be reused, shared, and deployed consistently."
   ]
  },
  {
   "cell_type": "markdown",
   "id": "4a5fe3c9-df6d-4e63-a665-9bfd4e8999f6",
   "metadata": {},
   "source": [
    "# Dockerfile: a blueprint of the blueprint"
   ]
  },
  {
   "cell_type": "raw",
   "id": "4f156950-4b56-4dac-b64e-d7ca67ea24c2",
   "metadata": {},
   "source": [
    "image_v1 → container → modify manually → snapshot → image_v2\n",
    "While technically valid, it has major drawbacks:\n",
    "It relies on manual changes inside a running container (e.g., installing things interactively via bash).\n",
    "It’s not reproducible unless you commit every little step to memory or a log.\n",
    "It’s hard to collaborate or track what's changed between versions.\n",
    "It’s fragile — if the container is lost and you forgot to snapshot, your work is gone.\n",
    "this is not how professionals manage image versioning in development workflows\n",
    "\n",
    "\n",
    "✅ Enter the Dockerfile — your proper blueprint \n",
    "A Dockerfile is a text file that defines how to build a Docker image.\n",
    "It’s the true blueprint that produces the image.\n",
    "\n",
    "1. Write a Dockerfile\n",
    "This acts as the blueprint for your application environment — defining everything from base image to dependencies and run commands.\n",
    "\n",
    "2. Build a Docker image from the Dockerfile\n",
    "docker build -t myapp:1.0 .\n",
    "This creates an image tagged myapp:1.0 based on your Dockerfile and local app files.\n",
    "\n",
    "3. Run a container from the image\n",
    "docker run myapp:1.0\n",
    "This launches the app in an isolated container.\n",
    "\n",
    "4. Push the image to a Docker registry\n",
    "🔹 The Dockerfile itself is usually pushed to Git (e.g., GitHub), not to the Docker registry.\n",
    "🔹 The image (a binary artifact) is what goes to the Docker registry (e.g., Docker Hub, GHCR, etc.).\n",
    "Dockerfile → goes to GitHub\n",
    "Built image → goes to Docker registry\n",
    "\n",
    "5. If changes are needed:\n",
    "Update the Dockerfile (e.g., change Python version, install new dependencies)\n",
    "Rebuild the image:\n",
    "docker build -t yourusername/myapp:1.1 .\n",
    "Push the new image\n",
    "Also commit and push the updated Dockerfile to GitHub.\n",
    "\n",
    "6. Teammates:\n",
    "Pull the updated Dockerfile from GitHub (to see exactly what has changed in the build process).\n",
    "Pull the image(s) from the Docker registry to run them directly.\n",
    "If they want to make new changes:\n",
    "They edit the Dockerfile\n",
    "Build a new image (myapp:1.2)\n",
    "Push the updated Dockerfile to GitHub\n",
    "Push the image to Docker Hub (or private registry)"
   ]
  },
  {
   "cell_type": "markdown",
   "id": "e3b7c906-3d7a-41f3-a1b3-f372ad2c6664",
   "metadata": {},
   "source": [
    "# Final stage: move from development to production"
   ]
  },
  {
   "cell_type": "raw",
   "id": "0d9410c9-b2ee-42d8-8a60-6480715c71f0",
   "metadata": {},
   "source": [
    "When we want to deploy to production, do we:\n",
    "\n",
    "Pull the latest Dockerfile, build a new image, and run a container?\n",
    "OR\n",
    "\n",
    "Pull the latest built image, and just run the container?\n",
    "\n",
    "✅ The correct and professional answer is Option 2:\n",
    "\n",
    "In production, you pull the latest image and run the container.\n",
    "\n",
    "Why we don’t build images in production\n",
    "Speed – Building an image takes time (downloading dependencies, compiling, etc.). Production needs to be fast and predictable.\n",
    "\n",
    "Consistency – If you build in production, the environment, base images, or tools might be different — leading to subtle bugs or differences from staging/dev.\n",
    "\n",
    "Security – Building means access to source code, build secrets, internet. Production should not have to deal with this. It should run known, tested, final images.\n",
    "\n",
    "Separation of concerns – We build and test images in CI/CD pipelines or dev environments. Production only runs prebuilt, tested artifacts — nothing more."
   ]
  },
  {
   "cell_type": "markdown",
   "id": "fbf58e6f-b19b-460a-af3b-add1b9cbeee4",
   "metadata": {},
   "source": [
    "# What Is a Registry?"
   ]
  },
  {
   "cell_type": "raw",
   "id": "99bdf45a-bf8c-462d-bcd3-8e86a80dcb9d",
   "metadata": {},
   "source": [
    "A container registry is a storage and distribution system for container images (like Docker images)\n",
    "\n",
    "You can think of it as:\n",
    "\n",
    "A specialized repository (like GitHub is for code) — but instead of storing source code, it stores built images that are ready to run as containers\n",
    "\n",
    "Docker Hub is the most well-known example of a container registry."
   ]
  },
  {
   "cell_type": "markdown",
   "id": "6cdb4b7d-29e8-4662-befd-239e08c53d5b",
   "metadata": {},
   "source": [
    "# naming of images"
   ]
  },
  {
   "cell_type": "raw",
   "id": "be612651-2eb3-436a-928e-4a26c8886ad4",
   "metadata": {},
   "source": [
    "name_of_image:tag\n",
    "\n",
    "If you don’t specify :tag, Docker automatically assumes:\n",
    "\n",
    "name_of_image:latest"
   ]
  },
  {
   "cell_type": "markdown",
   "id": "507002b9-a5fe-4a3f-8874-3ecde40e660e",
   "metadata": {},
   "source": [
    "# docker --help"
   ]
  },
  {
   "cell_type": "raw",
   "id": "fa9d0a55-8eb8-41ad-b7ca-e17988b9fce8",
   "metadata": {},
   "source": [
    "know about availbe docker commands"
   ]
  },
  {
   "cell_type": "markdown",
   "id": "d3de4b11-0981-4f19-bf23-2376205031ea",
   "metadata": {},
   "source": [
    "# docker + command + --help"
   ]
  },
  {
   "cell_type": "raw",
   "id": "1554ce7e-170b-4c6f-8d61-d6a50b9efff4",
   "metadata": {},
   "source": [
    "more information on a command like availble flags"
   ]
  },
  {
   "cell_type": "markdown",
   "id": "779e7665-d831-4d03-b8b9-db46c40fdf3a",
   "metadata": {},
   "source": [
    "# docker pull "
   ]
  },
  {
   "cell_type": "raw",
   "id": "bfa53ff2-7285-4308-a239-6108c9709b86",
   "metadata": {},
   "source": [
    "docker pull is the universal command for pulling container images\n",
    "docker pull [REGISTRY_HOST[:PORT]/]REPOSITORY_NAME[:TAG]\n",
    "\n",
    "but simply:\n",
    "\n",
    "docker pull name_of_image_of_an_official_image_in_public_library_in_docker_hub\n",
    "docker pull yourusername_in_docker_hub/name_of_image\n",
    "docker pull full_address_of_image"
   ]
  },
  {
   "cell_type": "markdown",
   "id": "f722e0a5-1257-4087-a5a6-57cac7aaff08",
   "metadata": {},
   "source": [
    "# docker images or docker image ls"
   ]
  },
  {
   "cell_type": "raw",
   "id": "eff84138-8336-443f-ba04-294d8c7c9fd4",
   "metadata": {},
   "source": [
    "docker images command (now technically aliased as docker image ls) is the standard way to list all images that are available locally on your system, whether they were:\n",
    "\n",
    "Pulled from a remote registry (e.g., Docker Hub, GHCR, ECR)\n",
    "\n",
    "Built locally using docker build\n",
    "\n"
   ]
  },
  {
   "cell_type": "markdown",
   "id": "4d3943cb-d80b-4746-9089-5cbadcfb349a",
   "metadata": {},
   "source": [
    "# docker run name_of_imag:tag"
   ]
  },
  {
   "cell_type": "raw",
   "id": "4c311804-fb33-4864-8930-7888bc50c70f",
   "metadata": {},
   "source": [
    "docker run is the command used to run a container from an image"
   ]
  },
  {
   "cell_type": "markdown",
   "id": "955d43d1-dc8c-44da-b3b2-460099c24892",
   "metadata": {},
   "source": [
    "# docker run image_name --name container_name"
   ]
  },
  {
   "cell_type": "raw",
   "id": "3e8c1623-995e-411b-bd55-409a7d76bb1a",
   "metadata": {},
   "source": [
    "docker run is the command used to run a named container from an image"
   ]
  },
  {
   "cell_type": "markdown",
   "id": "4aaffa0a-ed77-4926-a48a-c1fbd4d3d2af",
   "metadata": {},
   "source": [
    "# docker run -d"
   ]
  },
  {
   "cell_type": "raw",
   "id": "639f7a6f-d0bf-4762-97b9-303f5ce563ac",
   "metadata": {},
   "source": [
    "The -d flag tells Docker to run the container in detached mode, meaning it runs in the background and doesn't tie up your terminal. Start the container, but don’t show me the output — just give me back my terminal."
   ]
  },
  {
   "cell_type": "markdown",
   "id": "11822394-7849-4f89-b55d-f45e5b5287ef",
   "metadata": {},
   "source": [
    "# docker stop container_id or docker stop container_name"
   ]
  },
  {
   "cell_type": "raw",
   "id": "297083ef-2b9c-49fa-a4e3-c527d7cb35d5",
   "metadata": {},
   "source": [
    "if you run a container in detached mode, you can not stop it by Ctrl + c any more. first you should find the container_id by docker container ls. then use it with docker stop to stop this running container"
   ]
  },
  {
   "cell_type": "markdown",
   "id": "2e75a5f3-b0af-4841-a2d4-86a50c3d160e",
   "metadata": {},
   "source": [
    "# docker container ls or docker ps"
   ]
  },
  {
   "cell_type": "raw",
   "id": "f0a178b6-7c7a-4827-bfb8-94df37509579",
   "metadata": {},
   "source": [
    "Use this to view all the containers that are currently running on your system.\n",
    "if you add -a flag it shows all the containers running or stopped"
   ]
  },
  {
   "cell_type": "markdown",
   "id": "77fac187-bd02-4caa-b7fc-864a61cc4207",
   "metadata": {},
   "source": [
    "# docker run -p host_port:container_port"
   ]
  },
  {
   "cell_type": "raw",
   "id": "3d6690f0-0fba-4888-a90d-c531609bea31",
   "metadata": {},
   "source": [
    "it is your way to expose container services outside the container, making them reachable on your local machine or network.\n",
    "Traffic arriving at the host’s port is forwarded into the container’s corresponding port. This is called por mapping\n",
    "\n",
    "Port Mapping: Is it Two-Way?\n",
    "When a request is sent to port 8080 on the host, Docker forwards it to port 80 inside the container. This setup primarily enables communication from outside the container (host or external clients) into the container.\n",
    "\n",
    "However, communication from inside the container to the outside (e.g., to the internet or the host network) generally does not require port mapping. Containers usually have direct access to external networks unless specifically restricted by network settings or firewall rules.\n",
    "\n",
    "If a container wants to connect to a specific port on the host or another device in the network, it depends on the network configuration. Port mapping mainly serves to expose container services to the outside world; it is not primarily designed for traffic originating inside the container going out.\n",
    "\n",
    "\n",
    "\n",
    "Most images declare the ports they use in the Dockerfile with the EXPOSE instruction:\n",
    "EXPOSE 80\n",
    "\n",
    "or\n",
    "\n",
    "You can start the container detached, then inspect it to see exposed ports:\n",
    "docker run -d --name temp-container myimage\n",
    "docker container inspect temp-container\n",
    "In the output JSON, look for ExposedPorts under Config or NetworkSettings → Ports.\n",
    "\n",
    "host_port is the port number on your local machine (the host) where you want to expose the container’s service.\n",
    "You get to choose this port freely, based on what’s available or what you want to use.\n",
    "\n",
    "if more than one mapping:\n",
    "docker run -p hp1:cp -p hp2:cp"
   ]
  },
  {
   "cell_type": "markdown",
   "id": "200dabdf-a222-474a-81ac-283383612174",
   "metadata": {},
   "source": [
    "# operations on container"
   ]
  },
  {
   "cell_type": "raw",
   "id": "06edfc29-9278-43ed-a950-2d7d13363598",
   "metadata": {},
   "source": [
    "run + image_name \n",
    "stop + container_name/id\n",
    "start + container_name/id\n",
    "rm + container_name/id\n",
    "\n",
    "\n",
    "docker run image_name\n",
    "docker stop + container_name/id\n",
    "docker start + container_name/id\n",
    "docker rm + container_name/id\n",
    "\n",
    "and\n",
    "\n",
    "docker container run image_name\n",
    "docker container stop + container_name/id\n",
    "docker container start + container_name/id\n",
    "docker container rm + container_name/id\n",
    "\n",
    "\n",
    "rm can not delete runnig container"
   ]
  },
  {
   "cell_type": "markdown",
   "id": "a90b39b9-275d-4669-99da-20dbfa8695e7",
   "metadata": {},
   "source": [
    "## 🐳 Docker Container Lifecycle — Your Core Command Set\n",
    "\n",
    "| Action     | Command                             | Explanation                                                                 |\n",
    "|------------|-------------------------------------|-----------------------------------------------------------------------------|\n",
    "| ✅ Run      | `docker run IMAGE_NAME`             | Creates **and** starts a new container from the image. Pulls image if needed. |\n",
    "| 🛑 Stop     | `docker stop CONTAINER_ID_OR_NAME`  | Gracefully stops a **running** container using SIGTERM.                     |\n",
    "| 🔁 Start    | `docker start CONTAINER_ID_OR_NAME` | Starts a **stopped** container (previously created).                        |\n",
    "| ❌ Remove   | `docker rm CONTAINER_ID_OR_NAME`    | Deletes a **stopped** container. Frees up resources.                        |\n"
   ]
  },
  {
   "cell_type": "markdown",
   "id": "04673285-7ee9-4a21-a60b-8c4c21e30663",
   "metadata": {},
   "source": [
    "# remove all the containers: using ls -aq with $()"
   ]
  },
  {
   "cell_type": "raw",
   "id": "f2fc152d-c4a4-4f8a-a037-712d687ee1c4",
   "metadata": {},
   "source": [
    "instead of docker rm con_id one by one\n",
    "we get all the ids at once, docker container ls -aq\n",
    "then give it to rm via $()\n",
    "\n",
    "docker rm $(docker container ls -aq)\n",
    "or\n",
    "docker container rm $(docker container ls -aq)\n",
    "\n",
    "\n",
    "-q, --quiet           Only show container IDs"
   ]
  },
  {
   "cell_type": "markdown",
   "id": "22463e8f-44d0-418a-a51f-776861cab383",
   "metadata": {},
   "source": [
    "# remove all the images: using ls -q with $()"
   ]
  },
  {
   "cell_type": "raw",
   "id": "03e8b626-24aa-476f-96ab-ec67ebddae87",
   "metadata": {},
   "source": [
    "docker image rm $(docker image ls -q)\n",
    "\n",
    "-q, --quiet           Only show image IDs"
   ]
  },
  {
   "cell_type": "markdown",
   "id": "c513262f-ee25-4c6e-b7d7-03a7a47b58db",
   "metadata": {},
   "source": [
    "# rm -f or rm --force"
   ]
  },
  {
   "cell_type": "markdown",
   "id": "075a9394-7442-4716-82bb-caa9d177d4dc",
   "metadata": {},
   "source": [
    "### 🔍 Understanding the `-f` (force) Flag in Docker\n",
    "\n",
    "The `-f` or `--force` flag behaves differently depending on whether it's used with containers or images. Here's a clear summary of how it works in each case:\n",
    "\n",
    "- With `docker container rm`, the `-f` flag forcibly stops (SIGKILL) a running container before removing it.\n",
    "- With `docker image rm`, the `-f` flag removes **all containers (running or stopped)** that were created from the image **before** deleting the image itself.\n",
    "\n",
    "| Command                     | What `-f` Does                                                      |\n",
    "|----------------------------|----------------------------------------------------------------------|\n",
    "| `docker container rm -f`   | Sends SIGKILL to a running container and then removes it             |\n",
    "| `docker image rm -f`       | Deletes all containers created from the image and then removes the image itself |\n",
    "\n",
    "🛑 **Warning:** Use `docker image rm -f` carefully — it can delete containers you didn’t realize were still needed.\n",
    "\n",
    "🧠 **Tip:** To check which containers are using a specific image before removal, run:\n",
    "\n",
    "```bash\n",
    "docker container ls -a --filter ancestor=IMAGE_NAME_OR_ID\n"
   ]
  },
  {
   "cell_type": "markdown",
   "id": "912e0f9b-7511-4e54-b61f-6ea69765ec20",
   "metadata": {},
   "source": [
    "# port mapping vs mounting a volume"
   ]
  },
  {
   "cell_type": "raw",
   "id": "495b6df6-cbef-4871-a671-b5f5f1cddd37",
   "metadata": {},
   "source": [
    "با پورت مپینگ یه پورت از هاسن رو برای ترافیک ورودی به کانتینر استفاده می کنیم\n",
    "\n",
    "\n",
    " با ماونتینگ یک پوشه از هاست رو در اختیار کانتینر قرار می دیم تا به عنوان حافظه ی داخلی خودش استفاده کنه"
   ]
  },
  {
   "cell_type": "markdown",
   "id": "d7aaf853-a6f2-4e78-9a0d-0c586865b58d",
   "metadata": {},
   "source": [
    "# What is docker exec?"
   ]
  },
  {
   "cell_type": "raw",
   "id": "a9740db3-bd71-4f2b-9acc-5949f157eead",
   "metadata": {},
   "source": [
    "The docker exec command lets you run a command inside a running container.\n",
    "\n",
    " Basic Syntax\n",
    "\n",
    "docker exec [OPTIONS] <container_id_or_name> <command>\n",
    "for example : docker exec my_container ls /app\n",
    "for options you can use:\n",
    "-it lets you interactively communicate with the container via a terminal — like running a shell session.\n",
    "\n",
    "docker exec -it my_container bash\n",
    "If the container has bash, this opens a full interactive shell session inside it.\n",
    "If not, you can try:\n",
    "docker exec -it my_container sh\n",
    "Which is more universal across Linux-based containers."
   ]
  },
  {
   "cell_type": "markdown",
   "id": "0933260c-4388-426d-9807-230b16a91dc6",
   "metadata": {},
   "source": [
    "# Volume"
   ]
  },
  {
   "cell_type": "raw",
   "id": "de85175b-a051-4232-9bd7-9c66a5d05825",
   "metadata": {},
   "source": [
    "A Docker Volume is a persistent storage space on the host machine's filesystem that is mounted into a container at a specific path. The syntax typically looks like this:\n",
    "\n",
    "<volume_name> : <path_inside_container>\n",
    "For example:\n",
    "docker run -v my_volume:/app/data my_image\n",
    "This means the my_volume storage on the host is mapped to /app/data inside the container.\n",
    "\n",
    "The connection is two-way:\n",
    "Any file created or modified inside /app/data within the container is actually stored in the volume on the host.\n",
    "Conversely, if you add or modify files directly in the volume on the host (or from another container using the same volume), those changes are immediately visible inside /app/data in the container.\n",
    "\n",
    "Volumes allow data to persist beyond the lifecycle of a container, making them ideal for databases, logs, or any files that need to survive container restarts or removals. They also make backup, sharing, and host access to container data easier, because the data physically resides on the host system."
   ]
  },
  {
   "cell_type": "markdown",
   "id": "d74a146f-8917-4490-8f94-ce988b86a085",
   "metadata": {},
   "source": [
    "# Type of volumes"
   ]
  },
  {
   "cell_type": "raw",
   "id": "13108aa7-4751-4362-898b-88ae70a3d718",
   "metadata": {},
   "source": [
    "Bind Mount\n",
    "Anonymous Volume\n",
    "Named Volume"
   ]
  },
  {
   "cell_type": "markdown",
   "id": "c224eb1f-7597-4ea3-8753-61aafe60a52c",
   "metadata": {},
   "source": [
    "## Docker Volume Types Table\n",
    "\n",
    "| Volume Type         | Created By          | Mount Syntax                              | Description                                 | Scope                      |\n",
    "|---------------------|---------------------|--------------------------------------------|---------------------------------------------|----------------------------|\n",
    "| **Bind Mount**      | You (manual path)   | `-v /host/path:/container/path`            | Mounts a host path directly into container  | Tied to host file system   |\n",
    "| **Named Volume**    | Docker (named)      | `-v my_volume:/container/path`             | Managed by Docker, reusable by name         | Docker-managed lifecycle   |\n",
    "| **Anonymous Volume**| Docker (unnamed)    | `-v /container/path`                       | No name assigned, managed by Docker         | Hard to reuse manually     |\n"
   ]
  },
  {
   "cell_type": "markdown",
   "id": "8c8ac020-a135-42f6-8a3f-1c57f2a54e45",
   "metadata": {},
   "source": [
    "# docker volume ls"
   ]
  },
  {
   "cell_type": "raw",
   "id": "32321aa4-2126-4339-bee5-daac9fa6f455",
   "metadata": {},
   "source": [
    "only shows :\n",
    "\n",
    "named volume\n",
    "anonymous volume"
   ]
  },
  {
   "cell_type": "markdown",
   "id": "9af24d86-ba5d-46d7-9c05-85f59ad4e991",
   "metadata": {},
   "source": [
    "# docker container rm -v"
   ]
  },
  {
   "cell_type": "raw",
   "id": "418b6840-602f-48f2-8fc8-bb7f85ccf02d",
   "metadata": {},
   "source": [
    "if you have used anonymous volume it will be deleted from host with -v flags during the removing container. it does not remove bind or named"
   ]
  },
  {
   "cell_type": "markdown",
   "id": "49322710-6018-4c45-bce3-0213afcdd1df",
   "metadata": {},
   "source": [
    "# finding the location of volume in host"
   ]
  },
  {
   "cell_type": "markdown",
   "id": "a99374b7-039f-4572-b7d2-e5f4be832f75",
   "metadata": {},
   "source": [
    "## Named or Anonymous"
   ]
  },
  {
   "cell_type": "raw",
   "id": "0652fa29-316d-44ce-9f43-c3c1eb7653f4",
   "metadata": {},
   "source": [
    "use docker volume ls to find the name (given by you or by docker in case anonymous)\n",
    "then use\n",
    "docker volume inspect volume_name\n",
    "look for source"
   ]
  },
  {
   "cell_type": "markdown",
   "id": "cbb33556-34d8-47ab-9b88-45001ebe6ca6",
   "metadata": {},
   "source": [
    "## Bind Mount"
   ]
  },
  {
   "cell_type": "raw",
   "id": "7b0158c2-8e05-4a62-bf1e-e5546b1b9872",
   "metadata": {},
   "source": [
    "although the files stays in host permanently. finding the location in host(which was given by the user himself) via docker \n",
    "is only possible before removing the container\n",
    "\n",
    "docker container inspect container_id/name\n",
    "then look in \n",
    "Mounts or HostConfig.Binds "
   ]
  },
  {
   "cell_type": "markdown",
   "id": "2081625a-688c-45f2-8910-1cc23b811b10",
   "metadata": {},
   "source": [
    "# docker run --volumes-from containerA ..."
   ]
  },
  {
   "cell_type": "raw",
   "id": "e6f5ba96-7f5b-4013-a84f-7efb2a0f51e7",
   "metadata": {},
   "source": [
    "Mount all the volumes currently attached to containerA (regardless of type) in this new container.\n",
    "\n",
    "docker run --name container2_name/id --volume-from container1_name/id image2_name\n"
   ]
  },
  {
   "cell_type": "markdown",
   "id": "d7dbe713-3078-4ae7-a6fd-9016199bc327",
   "metadata": {},
   "source": [
    "# Bind Mount : Mounting a volume with host path"
   ]
  },
  {
   "cell_type": "raw",
   "id": "f53801d6-4982-4021-942c-2fcebff97906",
   "metadata": {},
   "source": [
    "at the time of creating volume use flag -v or --volume\n",
    "\n",
    "-v host_path:container_path"
   ]
  },
  {
   "cell_type": "markdown",
   "id": "adf17544-80b8-4219-910c-45bb9ef41347",
   "metadata": {},
   "source": [
    "### ✅ Volume Access Modes in Docker\n",
    "\n",
    "| Syntax Format                            | Meaning                             |\n",
    "|------------------------------------------|-------------------------------------|\n",
    "| `-v host_path:container_path:ro`         | Container can **read**, **not write** |\n",
    "| `-v host_path:container_path:rw`         | Container can **read and write** (default) |\n",
    "| `-v host_path:container_path`            | Equivalent to `:rw` (read-write by default) |\n"
   ]
  },
  {
   "cell_type": "markdown",
   "id": "74a9ab28-f391-4879-9cd1-d5b6469c4901",
   "metadata": {},
   "source": [
    "# Named Volume"
   ]
  },
  {
   "cell_type": "markdown",
   "id": "b97914bd-8739-48ff-965c-95c6b8b17ae4",
   "metadata": {},
   "source": [
    "## Explicitly Create"
   ]
  },
  {
   "cell_type": "raw",
   "id": "d54ea2e1-83a1-49b5-9d32-ea0642a53818",
   "metadata": {},
   "source": [
    "docker volume create my_named_volume\n",
    "\n",
    "Then you can mount it in a container:\n",
    "\n",
    "docker run -v my_named_volume:/app/data my_image"
   ]
  },
  {
   "cell_type": "markdown",
   "id": "a975f47c-e55b-45bc-ac8a-03836424f61f",
   "metadata": {},
   "source": [
    "## Let Docker Create It"
   ]
  },
  {
   "cell_type": "raw",
   "id": "29e539ff-7e2f-476e-a9bd-dd1c10d4efd7",
   "metadata": {},
   "source": [
    "docker run -v my_named_volume:/app/data my_image"
   ]
  },
  {
   "cell_type": "markdown",
   "id": "10a922b3-016a-4972-8664-9616348331de",
   "metadata": {},
   "source": [
    "# Anonymous Volume"
   ]
  },
  {
   "cell_type": "raw",
   "id": "b7e59dd3-7a40-4d56-b570-838ed1d38ddd",
   "metadata": {},
   "source": [
    "docker run -v host_path my_image"
   ]
  },
  {
   "cell_type": "markdown",
   "id": "ad1ee719-1059-4179-8a4d-fac998c0d162",
   "metadata": {},
   "source": [
    "# removing and pruning volumes"
   ]
  },
  {
   "cell_type": "raw",
   "id": "037cd453-5090-4828-96a1-50b2acaec5db",
   "metadata": {},
   "source": [
    "We cannot remove host files of a bind mount using Docker commands, because the data comes directly from the host's filesystem (not managed by Docker). Since bind mounts are not actual Docker volumes, commands like docker volume rm or docker volume prune do not apply to them.\n",
    "\n",
    "We can remove anonymous volumes (those created without explicit names) and their data using:\n",
    "\n",
    "\n",
    "docker container rm -v <container_name_or_id>\n",
    "This command:\n",
    "\n",
    "Removes the container.\n",
    "\n",
    "Removes any anonymous volumes attached to it.\n",
    "\n",
    "Deletes the data inside those volumes (host files do not exist in this case — it's Docker-managed storage).\n",
    "\n",
    "If we want to remove an anonymous volume manually, we can:\n",
    "\n",
    "Find its name using:\n",
    "\n",
    "\n",
    "docker volume ls\n",
    "Then remove it with:\n",
    "\n",
    "docker volume rm <anonymous_volume_name>\n",
    "⚠️ In both cases (automatic or manual), the volume data is deleted. There are no \"host files\" like bind mounts. The files are stored inside Docker’s internal storage (usually under /var/lib/docker/volumes/...), and removing the volume deletes them permanently.\n",
    "\n",
    "We can also use:\n",
    "\n",
    "docker volume prune\n",
    "This removes all unused Docker-managed volumes, including:\n",
    "\n",
    "Anonymous volumes\n",
    "\n",
    "Named volumes\n",
    "…but only if no container (running or stopped) is currently using them.\n",
    "\n",
    "Again, when a volume is removed by prune, the data inside the volume is also deleted. There are no host files that \"stay intact\" — that's only true for bind mounts, not for volumes.\n",
    "\n",
    "Regarding named volumes, we can remove them with:\n",
    "\n",
    "\n",
    "docker volume rm <volume_name>\n",
    "This also deletes:\n",
    "\n",
    "The volume reference\n",
    "\n",
    "The data inside it\n",
    "\n",
    "Named volumes are also managed by Docker and stored in its internal paths — not on the host like bind mounts. So when removed, the data is gone, not left on the host.\n",
    "\n",
    "🧠 Final Clarification\n",
    "Bind Mounts → Real host folders. Removing containers or pruning has no effect on host files.\n",
    "\n",
    "Anonymous & Named Volumes → Docker-managed. Removing them via rm or prune deletes the data, and there are no host files to remain intact.\n",
    "\n"
   ]
  },
  {
   "cell_type": "markdown",
   "id": "4a56682b-ccd9-420a-88ee-4d0cb6d558eb",
   "metadata": {},
   "source": [
    "# Data baked into the image vs Data managed outside via volumes at runtime"
   ]
  },
  {
   "cell_type": "raw",
   "id": "337d09d6-383c-4a60-83f5-38c7983a6cfc",
   "metadata": {},
   "source": [
    "Data baked into the image\n",
    "Key Trait: These are things that don’t change when the app is running. They are part of the “frozen” base the container starts from.\n",
    "\n",
    "Data managed outside via volumes at runtime\n",
    "data that changes, data that needs to persist after the container is stopped or recreated, or data you don’t want bundled with your app image."
   ]
  },
  {
   "cell_type": "markdown",
   "id": "3118d935-7514-4d43-9811-70a0096dd546",
   "metadata": {},
   "source": [
    "# from Bind Mount to Bake it to the image permanently"
   ]
  },
  {
   "cell_type": "raw",
   "id": "1b7d2081-a348-4a02-8bde-13448db75851",
   "metadata": {},
   "source": [
    "First mount a directory using a bind mount (i.e., using local source code or data from the host),\n",
    "\n",
    "Experiment and iterate,\n",
    "\n",
    "And once it works well, bake it into the image permanently using COPY or ADD in the Dockerfile."
   ]
  },
  {
   "cell_type": "markdown",
   "id": "3c6eedb7-9fb5-4e60-beb9-ad3e31f7a84b",
   "metadata": {},
   "source": [
    "## Example"
   ]
  },
  {
   "cell_type": "raw",
   "id": "e848536b-7cbd-49e3-bed5-c1df05870da8",
   "metadata": {},
   "source": [
    "at the development\n",
    "docker run -v host_path:container_path base_image:tag\n",
    "\n",
    "after testing\n",
    "in the Dockerfile you create inside host_path you write:\n",
    "FROM base_image:tag\n",
    "ADD . container_path\n",
    "\n",
    "then\n",
    "cd host_path\n",
    "docker build --tag new_image:lastest .\n",
    "\n",
    "\n"
   ]
  },
  {
   "cell_type": "markdown",
   "id": "ac79cf34-9c96-40aa-957d-e03137c7ac60",
   "metadata": {},
   "source": [
    "# What is the Build Context in Docker?"
   ]
  },
  {
   "cell_type": "raw",
   "id": "c1ba9f45-5f05-4817-b755-48b7da09c0f8",
   "metadata": {},
   "source": [
    "\n",
    "The build context is a directory (folder) on your host machine that you pass to Docker when you run docker build.\n",
    "\n",
    "This context is the sandbox that Docker uses to:\n",
    "\n",
    "Find your Dockerfile\n",
    "\n",
    "Resolve all ADD and COPY instructions\n",
    "\n",
    "Gather the files to send to the Docker daemon\n",
    "\n",
    "In short:\n",
    "\n",
    "✅ It’s the root directory of everything Docker can access during the build."
   ]
  },
  {
   "cell_type": "markdown",
   "id": "7722f6c8-d7b9-4f0e-9de9-3c93d766dec7",
   "metadata": {},
   "source": [
    "# Docker build --tag new_image:new_tag build_context_path"
   ]
  },
  {
   "cell_type": "raw",
   "id": "9a661640-5834-4503-8d99-b14883bc6595",
   "metadata": {},
   "source": [
    "# docker build --tag new_image:new_tag build_context_path\n",
    "\n",
    "FROM base_image:tag\n",
    "ADD path_to_folder_of_files_in_build_context container_path\n",
    "\n",
    "the Dockerfile should be named exactly Dockerfile and placed in the root of build_context_folder\n"
   ]
  },
  {
   "cell_type": "markdown",
   "id": "77c97d28-0416-409b-8ea2-0ecd6bae8dbb",
   "metadata": {},
   "source": [
    "# Docker build -f path_to_dockerfile_reletive_to_pwd_including_dockerfile_name_or_absolute_path --tag new_image:new_tag build_context_path|"
   ]
  },
  {
   "cell_type": "raw",
   "id": "ee8bba55-982c-4c03-b03e-8afea4612765",
   "metadata": {},
   "source": [
    "# Docker build -f path_to_dockerfile_reletive_to_pwd_including_dockerfile_name_or_absolute_path --tag new_image:new_tag build_context_path\n",
    "\n",
    "FROM base_image:tag\n",
    "ADD path_to_folder_of_files_in_build_context container_path\n",
    "\n",
    "the dockerfile can be named anything or put anywhere inside the build context"
   ]
  },
  {
   "cell_type": "markdown",
   "id": "6b4a14d2-14da-4b76-a744-d509e20a22b5",
   "metadata": {},
   "source": [
    "# ADD vs COPY"
   ]
  },
  {
   "cell_type": "code",
   "execution_count": null,
   "id": "e943d209-c0fe-49a0-9b85-bfc38a2e0376",
   "metadata": {},
   "outputs": [],
   "source": []
  }
 ],
 "metadata": {
  "kernelspec": {
   "display_name": "Python 3 (ipykernel)",
   "language": "python",
   "name": "python3"
  },
  "language_info": {
   "codemirror_mode": {
    "name": "ipython",
    "version": 3
   },
   "file_extension": ".py",
   "mimetype": "text/x-python",
   "name": "python",
   "nbconvert_exporter": "python",
   "pygments_lexer": "ipython3",
   "version": "3.12.9"
  }
 },
 "nbformat": 4,
 "nbformat_minor": 5
}
