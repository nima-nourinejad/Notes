{
 "cells": [
  {
   "cell_type": "markdown",
   "id": "ab6d416a-5542-4ecf-bf65-8d9345c18b11",
   "metadata": {},
   "source": [
    "# Client vs Daemon"
   ]
  },
  {
   "cell_type": "raw",
   "id": "8884268b-1e2f-4bc2-83c4-f62ddf0dfca0",
   "metadata": {},
   "source": [
    "Docker consists of two main parts: the Docker Client and the Docker Daemon. The Docker Client is the command-line tool that you use to interact with Docker. When you type commands like docker run, the Client takes your input and sends these commands to the Docker Daemon. The Daemon is the background service running on your machine that is responsible for actually creating, running, and managing containers. In the output of docker version, you’ll see two sections labeled “Client” and “Server.” The “Server” corresponds to the Docker Daemon. Without the Daemon running, the Client’s commands can’t be executed because the Daemon is the engine that does the real work behind the scenes. So, while you interact with the Client, the Daemon is the part that manages and executes containers on your system."
   ]
  },
  {
   "cell_type": "markdown",
   "id": "f9a16058-ab65-483d-a643-a1842d8591c1",
   "metadata": {},
   "source": [
    "# Image-Container-Commit-Snapshot"
   ]
  },
  {
   "cell_type": "raw",
   "id": "123843fa-8b3b-4e01-8796-3ab73e9b0e1f",
   "metadata": {},
   "source": [
    "An image is like a blueprint. It’s a read-only package that contains everything needed to run an application—code, runtime, libraries, environment variables, and settings.\n",
    "\n",
    "A container is a running instance of an image. When you run a Docker image, Docker creates a container, which is a lightweight, isolated environment where your application runs. Containers start from the read-only image but have their own writable layer, allowing changes while running. Each container has its own filesystem, processes, and network interfaces. Containers can be started, stopped, deleted, and recreated easily.\n",
    "\n",
    "In a development environment, the workflow often looks like this:\n",
    "Start from image_version_one.\n",
    "\n",
    "Run it as a container.\n",
    "\n",
    "Modify the container (e.g., install packages, change configs).\n",
    "\n",
    "Create a snapshot (called a commit in Docker) of the container’s current state.\n",
    "\n",
    "This snapshot becomes image_version_two, a new image version including your changes.\n",
    "\n",
    "In a production environment, the process is usually simpler:\n",
    "Run a final_image as a container without modification, ensuring consistency and reliability.\n",
    "\n",
    "Why snapshots matter:\n",
    "Snapshots let you capture the exact state of a container’s filesystem at any moment. Since the original image is read-only, any changes made in a running container exist only temporarily in the container’s writable layer. If you stop or delete the container, those changes are lost by default. By creating a snapshot (committing), you save these changes permanently as a new image version, which can be reused, shared, and deployed consistently."
   ]
  },
  {
   "cell_type": "markdown",
   "id": "4a5fe3c9-df6d-4e63-a665-9bfd4e8999f6",
   "metadata": {},
   "source": [
    "# Dockerfile: a blueprint of the blueprint"
   ]
  },
  {
   "cell_type": "raw",
   "id": "4f156950-4b56-4dac-b64e-d7ca67ea24c2",
   "metadata": {},
   "source": [
    "image_v1 → container → modify manually → snapshot → image_v2\n",
    "While technically valid, it has major drawbacks:\n",
    "It relies on manual changes inside a running container (e.g., installing things interactively via bash).\n",
    "It’s not reproducible unless you commit every little step to memory or a log.\n",
    "It’s hard to collaborate or track what's changed between versions.\n",
    "It’s fragile — if the container is lost and you forgot to snapshot, your work is gone.\n",
    "this is not how professionals manage image versioning in development workflows\n",
    "\n",
    "\n",
    "✅ Enter the Dockerfile — your proper blueprint \n",
    "A Dockerfile is a text file that defines how to build a Docker image.\n",
    "It’s the true blueprint that produces the image.\n",
    "\n",
    "1. Write a Dockerfile\n",
    "This acts as the blueprint for your application environment — defining everything from base image to dependencies and run commands.\n",
    "\n",
    "2. Build a Docker image from the Dockerfile\n",
    "docker build -t myapp:1.0 .\n",
    "This creates an image tagged myapp:1.0 based on your Dockerfile and local app files.\n",
    "\n",
    "3. Run a container from the image\n",
    "docker run myapp:1.0\n",
    "This launches the app in an isolated container.\n",
    "\n",
    "4. Push the image to a Docker registry\n",
    "🔹 The Dockerfile itself is usually pushed to Git (e.g., GitHub), not to the Docker registry.\n",
    "🔹 The image (a binary artifact) is what goes to the Docker registry (e.g., Docker Hub, GHCR, etc.).\n",
    "Dockerfile → goes to GitHub\n",
    "Built image → goes to Docker registry\n",
    "\n",
    "5. If changes are needed:\n",
    "Update the Dockerfile (e.g., change Python version, install new dependencies)\n",
    "Rebuild the image:\n",
    "docker build -t yourusername/myapp:1.1 .\n",
    "Push the new image\n",
    "Also commit and push the updated Dockerfile to GitHub.\n",
    "\n",
    "6. Teammates:\n",
    "Pull the updated Dockerfile from GitHub (to see exactly what has changed in the build process).\n",
    "Pull the image(s) from the Docker registry to run them directly.\n",
    "If they want to make new changes:\n",
    "They edit the Dockerfile\n",
    "Build a new image (myapp:1.2)\n",
    "Push the updated Dockerfile to GitHub\n",
    "Push the image to Docker Hub (or private registry)"
   ]
  },
  {
   "cell_type": "markdown",
   "id": "e3b7c906-3d7a-41f3-a1b3-f372ad2c6664",
   "metadata": {},
   "source": [
    "# Final stage: move from development to production"
   ]
  },
  {
   "cell_type": "raw",
   "id": "0d9410c9-b2ee-42d8-8a60-6480715c71f0",
   "metadata": {},
   "source": [
    "When we want to deploy to production, do we:\n",
    "\n",
    "Pull the latest Dockerfile, build a new image, and run a container?\n",
    "OR\n",
    "\n",
    "Pull the latest built image, and just run the container?\n",
    "\n",
    "✅ The correct and professional answer is Option 2:\n",
    "\n",
    "In production, you pull the latest image and run the container.\n",
    "\n",
    "Why we don’t build images in production\n",
    "Speed – Building an image takes time (downloading dependencies, compiling, etc.). Production needs to be fast and predictable.\n",
    "\n",
    "Consistency – If you build in production, the environment, base images, or tools might be different — leading to subtle bugs or differences from staging/dev.\n",
    "\n",
    "Security – Building means access to source code, build secrets, internet. Production should not have to deal with this. It should run known, tested, final images.\n",
    "\n",
    "Separation of concerns – We build and test images in CI/CD pipelines or dev environments. Production only runs prebuilt, tested artifacts — nothing more."
   ]
  }
 ],
 "metadata": {
  "kernelspec": {
   "display_name": "Python 3 (ipykernel)",
   "language": "python",
   "name": "python3"
  },
  "language_info": {
   "codemirror_mode": {
    "name": "ipython",
    "version": 3
   },
   "file_extension": ".py",
   "mimetype": "text/x-python",
   "name": "python",
   "nbconvert_exporter": "python",
   "pygments_lexer": "ipython3",
   "version": "3.12.9"
  }
 },
 "nbformat": 4,
 "nbformat_minor": 5
}
