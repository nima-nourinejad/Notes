{
 "cells": [
  {
   "cell_type": "markdown",
   "id": "a5c6f10b-57da-470c-b0f0-69277b6eb315",
   "metadata": {},
   "source": [
    "# Python Backend Architecture"
   ]
  },
  {
   "cell_type": "raw",
   "id": "bea70de6-5370-4002-9e50-edf74fc8a4f5",
   "metadata": {},
   "source": [
    "In the Python backend ecosystem, a typical service is composed of two main components:\n",
    "\n",
    "1. HTTP Server (Web Server)\n",
    "Role: Listens for incoming HTTP requests from clients (like browsers or other services), and sends back HTTP responses.\n",
    "\n",
    "Examples: Uvicorn, Gunicorn, Daphne, Waitress, etc.\n",
    "\n",
    "Function: It’s responsible for the low-level networking, managing connections, and translating raw HTTP traffic to a format your Python application can handle.\n",
    "\n",
    "Acts as: The gateway between the outside world and your Python backend application.\n",
    "\n",
    "2. Python Backend Application\n",
    "Role: Implements the business logic. It processes incoming requests, interacts with databases or other services if needed, and prepares the responses.\n",
    "\n",
    "Frameworks: FastAPI, Django, Flask, Starlette, etc.\n",
    "\n",
    "Function: It’s where your Python code runs — the heart of your backend.\n",
    "\n",
    "Communication Between These Two Modules:\n",
    "Since the HTTP server and the backend application are distinct parts, they communicate through a defined interface (protocol).\n",
    "\n",
    "There are two main standards for this communication in Python:\n",
    "\n",
    "WSGI (Web Server Gateway Interface):\n",
    "\n",
    "Blocking/synchronous\n",
    "\n",
    "Older and widely used, especially in traditional frameworks like Django (pre-3.0) and Flask\n",
    "\n",
    "ASGI (Asynchronous Server Gateway Interface):\n",
    "\n",
    "Non-blocking/asynchronous\n",
    "\n",
    "Modern, supports async programming, websockets, long-lived connections, and more\n",
    "\n",
    "Used by frameworks like FastAPI, newer Django (channels), Starlette\n",
    "\n",
    "Why Two Standards?\n",
    "WSGI was designed in an era before Python had solid async support. It expects apps to process one request at a time synchronously, which can lead to inefficiency in handling multiple simultaneous requests.\n",
    "\n",
    "ASGI was created to embrace Python’s asynchronous capabilities, enabling handling of concurrent connections efficiently, supporting websockets and long-lived connections, and improving scalability.\n",
    "\n",
    "Typical Workflow:\n",
    "HTTP Server receives a request from a client (browser, mobile app, API consumer).\n",
    "\n",
    "It hands off the request to the Python backend app using either WSGI or ASGI protocol.\n",
    "\n",
    "The backend app processes the request (possibly asynchronously if ASGI).\n",
    "\n",
    "The backend app returns a response to the HTTP server via the protocol.\n",
    "\n",
    "The HTTP server sends the HTTP response back to the original client.\n",
    "\n",
    "Quick Diagram:\n",
    "\n",
    "Client (Browser, Mobile, etc.)\n",
    "        ↓ HTTP Request\n",
    "HTTP Server (Uvicorn, Gunicorn, etc.)\n",
    "        ↓ (via WSGI or ASGI)\n",
    "Python Backend Application (FastAPI, Django, Flask, etc.)\n",
    "        ↑ Response\n",
    "HTTP Server\n",
    "        ↑ HTTP Response\n",
    "Client\n",
    "\n",
    "Final Notes:\n",
    "HTTP Server is usually the component you start/run on your machine or container (uvicorn main:app).\n",
    "\n",
    "The Python backend app is your code (routes, business logic) imported by the server.\n",
    "\n",
    "When you run a backend in Python, you always have these two components interacting, separated for modularity, performance, and scalability reasons.\n",
    "\n",
    "WSGI and ASGI — Not a concrete software component or “layer,” but a specification — a set of rules and conventions.\n",
    "They define how a web server and a backend Python application should communicate with each other.\n",
    "\n",
    "In modern Python backend development, the client and server communicate using the HTTP protocol, which governs the exchange of requests and responses over the network. Internally, the HTTP server and the asynchronous Python backend application interact through the ASGI protocol (Asynchronous Server Gateway Interface). This protocol enables efficient, non-blocking communication within the server environment, allowing the backend application to handle multiple concurrent requests and support real-time features such as WebSockets. We could also call this combination ASGI application and ASGI server"
   ]
  },
  {
   "cell_type": "markdown",
   "id": "a127ffc0-a11a-4c40-ab45-6db3ea7a7d63",
   "metadata": {},
   "source": [
    "# Our Selection"
   ]
  },
  {
   "cell_type": "raw",
   "id": "6bb53368-4328-4f26-85c5-109386e82ad3",
   "metadata": {},
   "source": [
    "For the ASGI-based HTTP server, I have chosen Uvicorn. To build our asynchronous Python backend application, I am using the FastAPI framework"
   ]
  },
  {
   "cell_type": "markdown",
   "id": "990b85fb-edec-4681-a270-86934921c261",
   "metadata": {},
   "source": [
    "# Install required packages"
   ]
  },
  {
   "cell_type": "raw",
   "id": "6521134a-c3cc-4637-a823-1ca3acd09108",
   "metadata": {},
   "source": [
    "pip install fastapi \"uvicorn[standard]\"\n",
    "\n",
    "# [standard] : minimal dependencies"
   ]
  },
  {
   "cell_type": "markdown",
   "id": "62405add-c3c9-4c5b-9f33-1578ec12d4da",
   "metadata": {},
   "source": [
    "# Creating the base"
   ]
  },
  {
   "cell_type": "raw",
   "id": "a1438811-49ea-4d64-8f10-7c4b441244e1",
   "metadata": {},
   "source": [
    "from fastapi import FastAPI\n",
    "\n",
    "app = FastAPI()\n",
    "\n",
    "\n",
    "Creating the base of your asynchronous backend application — a ready-to-use FastAPI app that is fully ASGI-compatible and prepared to have routes, middlewares, dependencies, and other utilities added to it"
   ]
  },
  {
   "cell_type": "markdown",
   "id": "ce0a81f5-7b21-480c-bfe0-03f36fadca0b",
   "metadata": {},
   "source": [
    "# Adding a get route"
   ]
  },
  {
   "cell_type": "raw",
   "id": "529c1f85-d2da-4b0b-8ee9-3aa6b04e6ce1",
   "metadata": {},
   "source": [
    "@app.get(uri_str)\n",
    "def | async def name_of_route_handler_function(\n",
    "    inputs: type_hints,\n",
    "    dependency_injections: Depends(...),\n",
    "):\n",
    "\n",
    "\n",
    "    # business logic\n",
    "    \n",
    "    return the_body_of_the_http_response"
   ]
  },
  {
   "cell_type": "markdown",
   "id": "f36b677a-8a6f-4a8e-af53-8377ffc8e5e5",
   "metadata": {},
   "source": [
    "# better way of adding the routes"
   ]
  },
  {
   "cell_type": "raw",
   "id": "0a2654d2-cf96-4fd4-9b0b-f76809097f76",
   "metadata": {},
   "source": [
    "instead of :\n",
    "\n",
    "from fastapi import FastAPI\n",
    "\n",
    "app = FastAPI()\n",
    "\n",
    "@app.get(uri_str)\n",
    "defenition_of _route_handler_function\n",
    "\n",
    "do this:\n",
    "\n",
    "from fastapi import FastAPI, APIRouter\n",
    "\n",
    "app = FastAPI()\n",
    "router = APIRouter()\n",
    "app.include_router(router)\n",
    "\n",
    "@router.get(uri_str)\n",
    "defenition_of_route_handler_function"
   ]
  },
  {
   "cell_type": "markdown",
   "id": "2ebb46d0-d002-471e-b06b-dd320a9bfd3b",
   "metadata": {},
   "source": [
    "# prefix in app.iclude_router"
   ]
  },
  {
   "cell_type": "raw",
   "id": "8893a64a-a204-4357-91f9-24491bd3a854",
   "metadata": {},
   "source": [
    "app.include_router(router, prefix= part1_str)\n",
    "\n",
    "@router.get(part2_str)\n",
    "defenition_of_route_handler_function\n",
    "\n",
    "means the part1_str will be added to begining of all the routes of this router\n",
    "uri = part1_str + part2_str"
   ]
  },
  {
   "cell_type": "markdown",
   "id": "b5430bf3-5a13-429c-aa47-d6fa042d2b1b",
   "metadata": {},
   "source": [
    "# Dependency injection"
   ]
  },
  {
   "cell_type": "raw",
   "id": "0c0dc6b5-d84e-4e6c-85df-4e414b21f422",
   "metadata": {},
   "source": [
    "Dependency injection in FastAPI means letting the framework (FastAPI) provide (inject) certain values or services into your route handler function, automatically, without you manually calling or creating them inside the function.\n",
    "\n",
    "So while it can include using other functions, the key difference is:\n",
    "\n",
    "You don’t call those functions yourself.\n",
    "\n",
    "FastAPI calls them for you and passes the result as an argument.\n",
    "\n",
    "❌ Without dependency injection:\n",
    "@app.get(\"/hello\")\n",
    "def say_hello():\n",
    "    user = get_current_user()  # You manually call the function\n",
    "    return {\"message\": f\"Hello {user}\"}\n",
    "\n",
    "Here, you’re responsible for calling get_current_user().\n",
    "\n",
    "\n",
    "\n",
    "\n",
    "✅ With dependency injection:\n",
    "\n",
    "from fastapi import Depends\n",
    "\n",
    "@app.get(\"/hello\")\n",
    "def say_hello(user: str = Depends(get_current_user)):\n",
    "    return {\"message\": f\"Hello {user}\"}\n",
    "\n",
    "Here:\n",
    "\n",
    "You declare the need for a dependency (get_current_user) using Depends(...).\n",
    "\n",
    "FastAPI resolves it automatically (calls it, handles errors, returns value).\n",
    "\n",
    "Your route just receives the result, cleanly.\n",
    "\n",
    "Dependency Injection in FastAPI means you define some logic (e.g., getting a user, checking permissions, opening a DB session, etc.) and \"inject\" it into your route handler automatically via the Depends(...) system.\n",
    "\n",
    "FastAPI handles calling that logic and passing its result to your route.\n",
    "\n",
    "✅ Three Main Ways to Use Depends():\n",
    "1. Injecting into a specific route handler (local)\n",
    "2. Injecting into an APIRouter (global to all routes)\n",
    "    router = APIRouter(dependencies=[Depends(my_dependency)])\n",
    "3. Injecting into an APIRouter (global to all routes)\n",
    "    app = FastAPI(dependencies=[Depends(my_dependency)])\n",
    "\n",
    "1 is local injection\n",
    "2 and 3 are global injection"
   ]
  },
  {
   "cell_type": "markdown",
   "id": "590e8120-a332-4d98-a852-04959cf5bb80",
   "metadata": {},
   "source": [
    "# injecting dependencies into an APIRouter or FastAPI versus injecting them directly into individual route handler functions"
   ]
  },
  {
   "cell_type": "raw",
   "id": "8d93a96c-c71f-45d5-a383-f4ecc50a196e",
   "metadata": {},
   "source": [
    "If your route needs access to the result of the dependency (like a user object or db session), inject it directly into the route function. if you injecting into an APIRouter You cannot access the result (it's not passed into your route_handling_function)\n",
    "\n",
    "If your dependency is about side effects or middleware-like behavior, consider placing it on the APIRouter or FastAPI\n",
    "In software, a side effect is anything a function does beyond returning a value. For example:\n",
    "\n",
    "Logging a request\n",
    "\n",
    "Writing to a database\n",
    "\n",
    "Sending an email\n",
    "\n",
    "Modifying global state\n",
    "\n",
    "Recording a metric\n",
    "\n",
    "These aren't purely about computing something and returning it—they affect the system or environment. In FastAPI, dependencies can be used for these kinds of side effects.\n",
    "\n",
    "✅ What is “middleware-like behavior”?\n",
    "Middleware is a layer that processes requests and/or responses before or after they reach your route handler. Examples include:\n",
    "\n",
    "Authentication / Authorization\n",
    "\n",
    "CORS handling\n",
    "\n",
    "Request/response logging\n",
    "\n",
    "Input validation\n",
    "\n",
    "Rate limiting\n",
    "\n",
    "Database session management\n",
    "\n",
    "\n",
    "\n",
    "so \n",
    "I want to use the result -> local injection\n",
    "I want to do something before request handling -> global injection"
   ]
  },
  {
   "cell_type": "markdown",
   "id": "cfdbbe03-18d7-4cea-bb43-e6897edcbd4c",
   "metadata": {},
   "source": [
    "# running the backend service"
   ]
  },
  {
   "cell_type": "raw",
   "id": "7af49740-326f-47f8-9ecd-2fd0d4ef9b1a",
   "metadata": {},
   "source": [
    "To run a backend service in Python using FastAPI and Uvicorn, we need to:\n",
    "\n",
    "Create an instance of the FastAPI class in a Python file (e.g., main.py). This instance represents our backend application.\n",
    "\n",
    "Import this application instance into the HTTP server (Uvicorn) and then start the server.\n",
    "\n",
    "If the application instance is named app and it's defined in a file called main.py, we use the following command to run the backend service:\n",
    "\n",
    "uvicorn main:app\n",
    "\n",
    "This command tells Uvicorn to:\n",
    "\n",
    "Import the app variable from the main.py module (without the .py extension),\n",
    "\n",
    "Then use it as the ASGI application to serve HTTP requests.\n",
    "\n",
    "🔍 Breakdown:\n",
    "main refers to the file name (main.py, without the .py).\n",
    "\n",
    "app refers to the FastAPI instance inside that file.\n",
    "\n",
    "Uvicorn is an ASGI server that runs this app and handles HTTP connections asynchronously.\n",
    "\n",
    "\n",
    "uvicorn main:app\n",
    "This single command does three essential things, but let’s be precise and break them down:\n",
    "\n",
    "🔹 1. Runs the Uvicorn ASGI Server\n",
    "    Uvicorn is launched as the HTTP server process. It's responsible for handling HTTP requests from clients and passing them to your ASGI-compliant app.\n",
    "    \n",
    "    🔧 At this step:\n",
    "    \n",
    "    The server process starts and gets ready to receive traffic on a port (default: 8000).\n",
    "\n",
    "🔹 2. Imports the ASGI Application\n",
    "    The main:app part tells Uvicorn to:\n",
    "    \n",
    "    Import the main module (main.py)\n",
    "    \n",
    "    Locate the object named app inside it\n",
    "    \n",
    "    Uvicorn expects this app to be an ASGI application\n",
    "    \n",
    "    ✅ If main.py contains this:\n",
    "    \n",
    "    from fastapi import FastAPI\n",
    "    \n",
    "    app = FastAPI()\n",
    "    Then main:app imports the app instance correctly.\n",
    "\n",
    "🔹 3. Starts the ASGI Application inside the Server\n",
    "\n",
    "\n",
    "\n",
    "\n",
    "\n",
    "\n",
    "🧠 Optional but recommended:\n",
    "To enable hot-reloading during development (so changes reflect without restarting), use:\n",
    "\n",
    "uvicorn main:app --reload"
   ]
  },
  {
   "cell_type": "code",
   "execution_count": null,
   "id": "21ea2dbe-e2ca-42e6-ae87-0a27f20ebc62",
   "metadata": {},
   "outputs": [],
   "source": []
  },
  {
   "cell_type": "code",
   "execution_count": null,
   "id": "0ac8af03-2b87-4080-ab8f-9a3c53f93371",
   "metadata": {},
   "outputs": [],
   "source": []
  },
  {
   "cell_type": "code",
   "execution_count": null,
   "id": "3fdd1ba7-3e18-4d02-afa4-f35f9c50c230",
   "metadata": {},
   "outputs": [],
   "source": []
  },
  {
   "cell_type": "code",
   "execution_count": null,
   "id": "c12aacb8-32a1-469e-b022-0dcf20597b84",
   "metadata": {},
   "outputs": [],
   "source": []
  },
  {
   "cell_type": "code",
   "execution_count": null,
   "id": "c2678fbe-9fe9-4512-acf6-e80f18621455",
   "metadata": {},
   "outputs": [],
   "source": []
  }
 ],
 "metadata": {
  "kernelspec": {
   "display_name": "Python 3 (ipykernel)",
   "language": "python",
   "name": "python3"
  },
  "language_info": {
   "codemirror_mode": {
    "name": "ipython",
    "version": 3
   },
   "file_extension": ".py",
   "mimetype": "text/x-python",
   "name": "python",
   "nbconvert_exporter": "python",
   "pygments_lexer": "ipython3",
   "version": "3.12.9"
  }
 },
 "nbformat": 4,
 "nbformat_minor": 5
}
