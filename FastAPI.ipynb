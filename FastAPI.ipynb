{
 "cells": [
  {
   "cell_type": "markdown",
   "id": "a5c6f10b-57da-470c-b0f0-69277b6eb315",
   "metadata": {},
   "source": [
    "# Python Backend Architecture"
   ]
  },
  {
   "cell_type": "raw",
   "id": "bea70de6-5370-4002-9e50-edf74fc8a4f5",
   "metadata": {},
   "source": [
    "In the Python backend ecosystem, a typical service is composed of two main components:\n",
    "\n",
    "1. HTTP Server (Web Server)\n",
    "Role: Listens for incoming HTTP requests from clients (like browsers or other services), and sends back HTTP responses.\n",
    "\n",
    "Examples: Uvicorn, Gunicorn, Daphne, Waitress, etc.\n",
    "\n",
    "Function: It’s responsible for the low-level networking, managing connections, and translating raw HTTP traffic to a format your Python application can handle.\n",
    "\n",
    "Acts as: The gateway between the outside world and your Python backend application.\n",
    "\n",
    "2. Python Backend Application\n",
    "Role: Implements the business logic. It processes incoming requests, interacts with databases or other services if needed, and prepares the responses.\n",
    "\n",
    "Frameworks: FastAPI, Django, Flask, Starlette, etc.\n",
    "\n",
    "Function: It’s where your Python code runs — the heart of your backend.\n",
    "\n",
    "Communication Between These Two Modules:\n",
    "Since the HTTP server and the backend application are distinct parts, they communicate through a defined interface (protocol).\n",
    "\n",
    "There are two main standards for this communication in Python:\n",
    "\n",
    "WSGI (Web Server Gateway Interface):\n",
    "\n",
    "Blocking/synchronous\n",
    "\n",
    "Older and widely used, especially in traditional frameworks like Django (pre-3.0) and Flask\n",
    "\n",
    "ASGI (Asynchronous Server Gateway Interface):\n",
    "\n",
    "Non-blocking/asynchronous\n",
    "\n",
    "Modern, supports async programming, websockets, long-lived connections, and more\n",
    "\n",
    "Used by frameworks like FastAPI, newer Django (channels), Starlette\n",
    "\n",
    "Why Two Standards?\n",
    "WSGI was designed in an era before Python had solid async support. It expects apps to process one request at a time synchronously, which can lead to inefficiency in handling multiple simultaneous requests.\n",
    "\n",
    "ASGI was created to embrace Python’s asynchronous capabilities, enabling handling of concurrent connections efficiently, supporting websockets and long-lived connections, and improving scalability.\n",
    "\n",
    "Typical Workflow:\n",
    "HTTP Server receives a request from a client (browser, mobile app, API consumer).\n",
    "\n",
    "It hands off the request to the Python backend app using either WSGI or ASGI protocol.\n",
    "\n",
    "The backend app processes the request (possibly asynchronously if ASGI).\n",
    "\n",
    "The backend app returns a response to the HTTP server via the protocol.\n",
    "\n",
    "The HTTP server sends the HTTP response back to the original client.\n",
    "\n",
    "Quick Diagram:\n",
    "\n",
    "Client (Browser, Mobile, etc.)\n",
    "        ↓ HTTP Request\n",
    "HTTP Server (Uvicorn, Gunicorn, etc.)\n",
    "        ↓ (via WSGI or ASGI)\n",
    "Python Backend Application (FastAPI, Django, Flask, etc.)\n",
    "        ↑ Response\n",
    "HTTP Server\n",
    "        ↑ HTTP Response\n",
    "Client\n",
    "\n",
    "Final Notes:\n",
    "HTTP Server is usually the component you start/run on your machine or container (uvicorn main:app).\n",
    "\n",
    "The Python backend app is your code (routes, business logic) imported by the server.\n",
    "\n",
    "When you run a backend in Python, you always have these two components interacting, separated for modularity, performance, and scalability reasons.\n",
    "\n",
    "WSGI and ASGI — Not a concrete software component or “layer,” but a specification — a set of rules and conventions.\n",
    "They define how a web server and a backend Python application should communicate with each other.\n",
    "\n",
    "In modern Python backend development, the client and server communicate using the HTTP protocol, which governs the exchange of requests and responses over the network. Internally, the HTTP server and the asynchronous Python backend application interact through the ASGI protocol (Asynchronous Server Gateway Interface). This protocol enables efficient, non-blocking communication within the server environment, allowing the backend application to handle multiple concurrent requests and support real-time features such as WebSockets."
   ]
  },
  {
   "cell_type": "markdown",
   "id": "a127ffc0-a11a-4c40-ab45-6db3ea7a7d63",
   "metadata": {},
   "source": [
    "# Our Selection"
   ]
  },
  {
   "cell_type": "raw",
   "id": "6bb53368-4328-4f26-85c5-109386e82ad3",
   "metadata": {},
   "source": [
    "For the ASGI-based HTTP server, I have chosen Uvicorn. To build our asynchronous Python backend application, I am using the FastAPI framework"
   ]
  },
  {
   "cell_type": "markdown",
   "id": "990b85fb-edec-4681-a270-86934921c261",
   "metadata": {},
   "source": [
    "# Install required packages"
   ]
  },
  {
   "cell_type": "raw",
   "id": "6521134a-c3cc-4637-a823-1ca3acd09108",
   "metadata": {},
   "source": [
    "pip install fastapi \"uvicorn[standard]\"\n",
    "\n",
    "# [standard] : minimal dependencies"
   ]
  },
  {
   "cell_type": "markdown",
   "id": "62405add-c3c9-4c5b-9f33-1578ec12d4da",
   "metadata": {},
   "source": [
    "# Creating the base"
   ]
  },
  {
   "cell_type": "raw",
   "id": "a1438811-49ea-4d64-8f10-7c4b441244e1",
   "metadata": {},
   "source": [
    "from fastapi import FastAPI\n",
    "\n",
    "app = FastAPI()\n",
    "\n",
    "\n",
    "Creating the base of your asynchronous backend application — a ready-to-use FastAPI app that is fully ASGI-compatible and prepared to have routes, middlewares, dependencies, and other utilities added to it"
   ]
  },
  {
   "cell_type": "markdown",
   "id": "ce0a81f5-7b21-480c-bfe0-03f36fadca0b",
   "metadata": {},
   "source": [
    "# Adding a get route"
   ]
  },
  {
   "cell_type": "raw",
   "id": "529c1f85-d2da-4b0b-8ee9-3aa6b04e6ce1",
   "metadata": {},
   "source": [
    "@app.get(uri_str)\n",
    "def | async def name_of_route_handler_function(\n",
    "    inputs: type_hints,\n",
    "    dependency_injections: Depends(...),\n",
    "):\n",
    "\n",
    "\n",
    "    # business logic\n",
    "    \n",
    "    return the_body_of_the_http_response"
   ]
  },
  {
   "cell_type": "markdown",
   "id": "b5430bf3-5a13-429c-aa47-d6fa042d2b1b",
   "metadata": {},
   "source": [
    "# Dependency injection"
   ]
  },
  {
   "cell_type": "raw",
   "id": "0c0dc6b5-d84e-4e6c-85df-4e414b21f422",
   "metadata": {},
   "source": [
    "Dependency injection in FastAPI means letting the framework (FastAPI) provide (inject) certain values or services into your route handler function, automatically, without you manually calling or creating them inside the function.\n",
    "\n",
    "So while it can include using other functions, the key difference is:\n",
    "\n",
    "You don’t call those functions yourself.\n",
    "\n",
    "FastAPI calls them for you and passes the result as an argument.\n",
    "\n",
    "❌ Without dependency injection:\n",
    "@app.get(\"/hello\")\n",
    "def say_hello():\n",
    "    user = get_current_user()  # You manually call the function\n",
    "    return {\"message\": f\"Hello {user}\"}\n",
    "\n",
    "Here, you’re responsible for calling get_current_user().\n",
    "\n",
    "\n",
    "\n",
    "\n",
    "✅ With dependency injection:\n",
    "\n",
    "from fastapi import Depends\n",
    "\n",
    "@app.get(\"/hello\")\n",
    "def say_hello(user: str = Depends(get_current_user)):\n",
    "    return {\"message\": f\"Hello {user}\"}\n",
    "\n",
    "Here:\n",
    "\n",
    "You declare the need for a dependency (get_current_user) using Depends(...).\n",
    "\n",
    "FastAPI resolves it automatically (calls it, handles errors, returns value).\n",
    "\n",
    "Your route just receives the result, cleanly."
   ]
  }
 ],
 "metadata": {
  "kernelspec": {
   "display_name": "Python 3 (ipykernel)",
   "language": "python",
   "name": "python3"
  },
  "language_info": {
   "codemirror_mode": {
    "name": "ipython",
    "version": 3
   },
   "file_extension": ".py",
   "mimetype": "text/x-python",
   "name": "python",
   "nbconvert_exporter": "python",
   "pygments_lexer": "ipython3",
   "version": "3.12.9"
  }
 },
 "nbformat": 4,
 "nbformat_minor": 5
}
