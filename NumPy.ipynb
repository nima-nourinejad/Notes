{
 "cells": [
  {
   "cell_type": "code",
   "execution_count": 1,
   "id": "33369f96-c759-4df3-bdcd-4d20883fce31",
   "metadata": {},
   "outputs": [],
   "source": [
    "import numpy as np"
   ]
  },
  {
   "cell_type": "markdown",
   "id": "9e7693cc-9858-467d-ae8b-198ec98ba416",
   "metadata": {},
   "source": [
    "<h1>np.arange vs np.linspace</h1>"
   ]
  },
  {
   "cell_type": "raw",
   "id": "d54b9abb-78e0-489a-bd55-6f8e77e2e5fa",
   "metadata": {},
   "source": [
    "np.arange(start, stop, step) stop not included\n",
    "think arange in numpy as range in python\n",
    "np.linspace(start, stop, num) stop included"
   ]
  },
  {
   "cell_type": "markdown",
   "id": "87e9500b-f651-4377-8752-caa74a3bfbb2",
   "metadata": {},
   "source": [
    "<h1>ndarray vs .array([...]) vs array([...])</h1>"
   ]
  },
  {
   "cell_type": "raw",
   "id": "5a86f7b7-bdcc-4193-b1bc-9dc978764a5b",
   "metadata": {},
   "source": [
    "ndarray :\n",
    "the core data structure in NumPy. It is a class\n",
    "<class 'numpy.ndarray'>"
   ]
  },
  {
   "cell_type": "raw",
   "id": "b18fc4ff-0baf-40d7-99aa-a20445d7ff34",
   "metadata": {},
   "source": [
    "numpy.array([...]) :\n",
    "function you use to create an ndarray object"
   ]
  },
  {
   "cell_type": "raw",
   "id": "bbeec70e-b8a5-4a06-aa79-781ce5f7c993",
   "metadata": {},
   "source": [
    "array([...]) :\n",
    "the string representation of an ndarray object"
   ]
  },
  {
   "cell_type": "markdown",
   "id": "38a03241-b082-4890-a306-a750beea7da0",
   "metadata": {},
   "source": [
    "<h1>math va moghaiese on ndarray</h1>"
   ]
  },
  {
   "cell_type": "raw",
   "id": "a64f05a7-4849-439d-9659-afab30f3a6aa",
   "metadata": {},
   "source": [
    "ruie tamame anasor emal mishe"
   ]
  },
  {
   "cell_type": "code",
   "execution_count": 21,
   "id": "5049e613-aa69-4c69-a3a5-9cc36febe032",
   "metadata": {},
   "outputs": [
    {
     "name": "stdout",
     "output_type": "stream",
     "text": [
      "24.2 μs ± 631 ns per loop (mean ± std. dev. of 7 runs, 10,000 loops each)\n"
     ]
    }
   ],
   "source": [
    "%timeit 2 * np.arange(10000)"
   ]
  },
  {
   "cell_type": "code",
   "execution_count": 8,
   "id": "4ee025b5-71af-4a86-adc3-371d36b9dc77",
   "metadata": {},
   "outputs": [
    {
     "data": {
      "text/plain": [
       "[0, 1, 2, 3, 4, 5, 6, 7, 8, 9, 0, 1, 2, 3, 4, 5, 6, 7, 8, 9]"
      ]
     },
     "execution_count": 8,
     "metadata": {},
     "output_type": "execute_result"
    }
   ],
   "source": [
    "2 * list(range(10))"
   ]
  },
  {
   "cell_type": "code",
   "execution_count": 22,
   "id": "c514f5d8-54a4-45ee-893a-2d9a14f4d2e7",
   "metadata": {},
   "outputs": [
    {
     "name": "stdout",
     "output_type": "stream",
     "text": [
      "1.48 ms ± 487 μs per loop (mean ± std. dev. of 7 runs, 1,000 loops each)\n"
     ]
    }
   ],
   "source": [
    "%timeit list( map( lambda x:2 * x, list(range(10000))) )"
   ]
  },
  {
   "cell_type": "code",
   "execution_count": 23,
   "id": "aeabbc1c-03b2-4fdd-8438-f9dff6b53d35",
   "metadata": {},
   "outputs": [
    {
     "name": "stdout",
     "output_type": "stream",
     "text": [
      "821 μs ± 282 μs per loop (mean ± std. dev. of 7 runs, 1,000 loops each)\n"
     ]
    }
   ],
   "source": [
    "%timeit [2*member for member in range(10000)]"
   ]
  },
  {
   "cell_type": "code",
   "execution_count": 35,
   "id": "580f12c3-d9ff-4b1a-aa22-0f7c431c6d39",
   "metadata": {},
   "outputs": [
    {
     "data": {
      "text/plain": [
       "array([ True,  True,  True,  True,  True,  True,  True,  True,  True,\n",
       "        True])"
      ]
     },
     "execution_count": 35,
     "metadata": {},
     "output_type": "execute_result"
    }
   ],
   "source": [
    "0 <= np.arange(10)"
   ]
  },
  {
   "cell_type": "code",
   "execution_count": 36,
   "id": "8f7a28a4-f32d-4a53-bfe5-0a16f8769167",
   "metadata": {},
   "outputs": [
    {
     "data": {
      "text/plain": [
       "array([ True,  True,  True,  True,  True,  True,  True,  True,  True,\n",
       "        True])"
      ]
     },
     "execution_count": 36,
     "metadata": {},
     "output_type": "execute_result"
    }
   ],
   "source": [
    "np.arange(10) < 10"
   ]
  },
  {
   "cell_type": "raw",
   "id": "5fe269f8-23df-4bff-bc97-a8ef0c5c4790",
   "metadata": {},
   "source": []
  },
  {
   "cell_type": "markdown",
   "id": "f94efe15-566c-410b-ab1d-4e58dd00dd2a",
   "metadata": {},
   "source": [
    "<h1>arrays attributes</h1>"
   ]
  },
  {
   "cell_type": "raw",
   "id": "c22edf9c-3fd9-4ccc-9f5d-008782049bf1",
   "metadata": {},
   "source": [
    "shape\n",
    "ndim\n",
    "dtype"
   ]
  },
  {
   "cell_type": "code",
   "execution_count": 31,
   "id": "a297e4d7-4a0b-44d2-862d-4208b3b14b9b",
   "metadata": {},
   "outputs": [],
   "source": [
    "my_array = np.array([[1, 2],\n",
    "                    [3, 4]])"
   ]
  },
  {
   "cell_type": "code",
   "execution_count": 32,
   "id": "7d15fd3a-6fe7-4503-8bc7-6e9fb4064791",
   "metadata": {},
   "outputs": [
    {
     "data": {
      "text/plain": [
       "(2, 2)"
      ]
     },
     "execution_count": 32,
     "metadata": {},
     "output_type": "execute_result"
    }
   ],
   "source": [
    "my_array.shape"
   ]
  },
  {
   "cell_type": "code",
   "execution_count": 33,
   "id": "36d98904-45a1-4714-8165-753c879a767a",
   "metadata": {},
   "outputs": [
    {
     "data": {
      "text/plain": [
       "2"
      ]
     },
     "execution_count": 33,
     "metadata": {},
     "output_type": "execute_result"
    }
   ],
   "source": [
    "my_array.ndim"
   ]
  },
  {
   "cell_type": "code",
   "execution_count": 34,
   "id": "8a0add3c-0661-478b-be77-6648732d88d6",
   "metadata": {},
   "outputs": [
    {
     "data": {
      "text/plain": [
       "dtype('int64')"
      ]
     },
     "execution_count": 34,
     "metadata": {},
     "output_type": "execute_result"
    }
   ],
   "source": [
    "my_array.dtype"
   ]
  },
  {
   "cell_type": "code",
   "execution_count": null,
   "id": "6ba01f52-ce1b-4f66-b21a-bf182d64fd28",
   "metadata": {},
   "outputs": [],
   "source": []
  },
  {
   "cell_type": "markdown",
   "id": "5aa05d6c-b3de-4294-8819-c977dc8da696",
   "metadata": {},
   "source": [
    "<h1>create ndarray</h1>"
   ]
  },
  {
   "cell_type": "raw",
   "id": "ca47d951-54d8-49d2-9f59-fdfefcd3149f",
   "metadata": {},
   "source": [
    "np.array(list or tuple) for str, dict va set kol object ro be onvan tak ozv array mizare\n",
    "\n",
    "np.zeros(shape)\n",
    "np.ones(shape)\n",
    "np.full(shape, value)\n",
    "\n",
    "np.copy(ndarray object) (agar dtype=object shallow copy vali agar adadi deep anjam mishe)\n",
    "\n",
    "***shape ro az iek ndarray digar migirand\n",
    "np.zeros_like(ndarray object)\n",
    "np.ones_like(ndarray object)\n",
    "np.full_like(ndarray object, value)\n"
   ]
  },
  {
   "cell_type": "code",
   "execution_count": 27,
   "id": "ff4a19be-c3b6-4aae-aa53-9feed6a3510c",
   "metadata": {},
   "outputs": [],
   "source": [
    "import numpy as np"
   ]
  },
  {
   "cell_type": "code",
   "execution_count": 5,
   "id": "2515bf6d-e79e-4877-a6ee-448d6a850097",
   "metadata": {},
   "outputs": [
    {
     "data": {
      "text/plain": [
       "3"
      ]
     },
     "execution_count": 5,
     "metadata": {},
     "output_type": "execute_result"
    }
   ],
   "source": [
    "np.zeros((2,2,2))"
   ]
  },
  {
   "cell_type": "code",
   "execution_count": 6,
   "id": "41d05b3c-600d-4c18-9c92-108d50d96c9c",
   "metadata": {},
   "outputs": [
    {
     "data": {
      "text/plain": [
       "array([[[1., 1.],\n",
       "        [1., 1.]],\n",
       "\n",
       "       [[1., 1.],\n",
       "        [1., 1.]]])"
      ]
     },
     "execution_count": 6,
     "metadata": {},
     "output_type": "execute_result"
    }
   ],
   "source": [
    "np.ones((2,2,2))"
   ]
  },
  {
   "cell_type": "code",
   "execution_count": 7,
   "id": "be1eb3a4-a61d-497a-b918-fcc5f345f143",
   "metadata": {},
   "outputs": [
    {
     "data": {
      "text/plain": [
       "array([[1., 1.],\n",
       "       [1., 1.]])"
      ]
     },
     "execution_count": 7,
     "metadata": {},
     "output_type": "execute_result"
    }
   ],
   "source": [
    "np.ones((2,2))"
   ]
  },
  {
   "cell_type": "code",
   "execution_count": 10,
   "id": "78bdbb7b-8b41-4651-9bcc-e568a51a34d9",
   "metadata": {},
   "outputs": [
    {
     "data": {
      "text/plain": [
       "array([[5, 5],\n",
       "       [5, 5]])"
      ]
     },
     "execution_count": 10,
     "metadata": {},
     "output_type": "execute_result"
    }
   ],
   "source": [
    "np.full((2,2), 5)"
   ]
  },
  {
   "cell_type": "code",
   "execution_count": 14,
   "id": "6dc676ac-5763-40d9-abe6-455dff1056f8",
   "metadata": {},
   "outputs": [],
   "source": [
    "lst = [1, 2]\n",
    "tpl = (1, 2)\n",
    "dct = {1:11, 2:12}\n",
    "st = {1, 2}"
   ]
  },
  {
   "cell_type": "code",
   "execution_count": 15,
   "id": "6b4f9d05-fca8-4351-9cec-c55b5e5d8aa4",
   "metadata": {},
   "outputs": [
    {
     "data": {
      "text/plain": [
       "array([1, 2])"
      ]
     },
     "execution_count": 15,
     "metadata": {},
     "output_type": "execute_result"
    }
   ],
   "source": [
    "np.array(lst)"
   ]
  },
  {
   "cell_type": "code",
   "execution_count": 16,
   "id": "64f08ef8-4323-40cb-ab42-71fc095d0577",
   "metadata": {},
   "outputs": [
    {
     "data": {
      "text/plain": [
       "array([1, 2])"
      ]
     },
     "execution_count": 16,
     "metadata": {},
     "output_type": "execute_result"
    }
   ],
   "source": [
    "np.array(tpl)"
   ]
  },
  {
   "cell_type": "code",
   "execution_count": 21,
   "id": "8fbd9447-3264-4ebf-a3e8-1a57456ece55",
   "metadata": {},
   "outputs": [
    {
     "data": {
      "text/plain": [
       "array({1: 11, 2: 12}, dtype=object)"
      ]
     },
     "execution_count": 21,
     "metadata": {},
     "output_type": "execute_result"
    }
   ],
   "source": [
    "np.array(dct)"
   ]
  },
  {
   "cell_type": "code",
   "execution_count": 22,
   "id": "64860fea-0938-41ab-b46c-91b95abf7baf",
   "metadata": {},
   "outputs": [
    {
     "data": {
      "text/plain": [
       "array({1, 2}, dtype=object)"
      ]
     },
     "execution_count": 22,
     "metadata": {},
     "output_type": "execute_result"
    }
   ],
   "source": [
    "np.array(st)"
   ]
  },
  {
   "cell_type": "code",
   "execution_count": 50,
   "id": "ab7dd9d9-62f5-406c-ad93-aa93cd53c51a",
   "metadata": {},
   "outputs": [
    {
     "data": {
      "text/plain": [
       "array('nima', dtype='<U4')"
      ]
     },
     "execution_count": 50,
     "metadata": {},
     "output_type": "execute_result"
    }
   ],
   "source": [
    "np.array('nima')"
   ]
  },
  {
   "cell_type": "code",
   "execution_count": 52,
   "id": "a2c72a85-78ee-4d39-bce2-8088e62aad7b",
   "metadata": {},
   "outputs": [],
   "source": [
    "sample = np.array([1,2])"
   ]
  },
  {
   "cell_type": "code",
   "execution_count": 54,
   "id": "d8a9ebd9-5d7f-46ea-a58a-ee0845b5ab32",
   "metadata": {},
   "outputs": [
    {
     "data": {
      "text/plain": [
       "array([0, 0])"
      ]
     },
     "execution_count": 54,
     "metadata": {},
     "output_type": "execute_result"
    }
   ],
   "source": [
    "np.zeros_like(sample)"
   ]
  },
  {
   "cell_type": "markdown",
   "id": "3595dbac-5e58-44db-b080-5c5fdd3873f8",
   "metadata": {},
   "source": [
    "<h1>ndarray of 0=dim and shape=()</h1>"
   ]
  },
  {
   "cell_type": "raw",
   "id": "a23cb74a-aea3-4ea8-9869-6e81855cd41a",
   "metadata": {},
   "source": [
    "It is a single value:\n",
    "In NumPy, almost everything returns an ndarray to keep things consistent. Even when the result is a single value, wrapping it in a 0-dimensional ndarray keeps the type and behavior consistent within the NumPy universe"
   ]
  },
  {
   "cell_type": "code",
   "execution_count": null,
   "id": "7609c82b-b18f-4195-9c3f-0e1224c3b2db",
   "metadata": {},
   "outputs": [],
   "source": []
  },
  {
   "cell_type": "markdown",
   "id": "b47eafe8-31e1-42a8-b49d-aa226ab7d353",
   "metadata": {},
   "source": [
    "<h1>numpy.ndarray.item()</h1>"
   ]
  },
  {
   "cell_type": "raw",
   "id": "eaad9345-8e7c-4b4c-a8de-b6d1c1955849",
   "metadata": {},
   "source": [
    ".item() is a NumPy method that extracts the single value from a 0-dimensional (scalar) array and turns it into a regular Python number (like int, float, etc.)"
   ]
  },
  {
   "cell_type": "code",
   "execution_count": 35,
   "id": "82905f8c-469b-4bde-8a64-e96012547379",
   "metadata": {},
   "outputs": [],
   "source": [
    "scalar = np.array('nima')"
   ]
  },
  {
   "cell_type": "code",
   "execution_count": 36,
   "id": "0a1104d3-566e-4b06-8fd5-29b5c4f7ef55",
   "metadata": {},
   "outputs": [
    {
     "data": {
      "text/plain": [
       "array('nima', dtype='<U4')"
      ]
     },
     "execution_count": 36,
     "metadata": {},
     "output_type": "execute_result"
    }
   ],
   "source": [
    "scalar"
   ]
  },
  {
   "cell_type": "code",
   "execution_count": 37,
   "id": "18e87bb7-2293-48b2-af04-968e9c6c099d",
   "metadata": {},
   "outputs": [
    {
     "data": {
      "text/plain": [
       "'nima'"
      ]
     },
     "execution_count": 37,
     "metadata": {},
     "output_type": "execute_result"
    }
   ],
   "source": [
    "scalar.item()"
   ]
  },
  {
   "cell_type": "code",
   "execution_count": 38,
   "id": "8bb7ffe4-5004-45c0-bbd8-c4d824c9bcf4",
   "metadata": {},
   "outputs": [
    {
     "data": {
      "text/plain": [
       "str"
      ]
     },
     "execution_count": 38,
     "metadata": {},
     "output_type": "execute_result"
    }
   ],
   "source": [
    "type(scalar.item())"
   ]
  },
  {
   "cell_type": "markdown",
   "id": "47aef705-7fe3-441c-b05a-8a8eaf9ed200",
   "metadata": {},
   "source": [
    "<h1>numpy.ndarray.astype()</h1>"
   ]
  },
  {
   "cell_type": "code",
   "execution_count": 45,
   "id": "9c04f553-968d-41ae-9eb8-f7176b27f3cd",
   "metadata": {},
   "outputs": [
    {
     "data": {
      "text/plain": [
       "dtype('float64')"
      ]
     },
     "execution_count": 45,
     "metadata": {},
     "output_type": "execute_result"
    }
   ],
   "source": [
    "old = np.ones((2,2)); old.dtype"
   ]
  },
  {
   "cell_type": "code",
   "execution_count": 48,
   "id": "c00ea094-4dfb-4a64-a30c-de49613173dc",
   "metadata": {},
   "outputs": [],
   "source": [
    "new = np.ones((2,2)).astype('str')"
   ]
  },
  {
   "cell_type": "code",
   "execution_count": 49,
   "id": "1afc52ed-16dd-4935-b4fc-9491df4913fc",
   "metadata": {},
   "outputs": [
    {
     "data": {
      "text/plain": [
       "array([['1.0', '1.0'],\n",
       "       ['1.0', '1.0']], dtype='<U32')"
      ]
     },
     "execution_count": 49,
     "metadata": {},
     "output_type": "execute_result"
    }
   ],
   "source": [
    "new"
   ]
  },
  {
   "cell_type": "code",
   "execution_count": null,
   "id": "cb56a47c-2367-46d2-900b-a57cab7ab1ff",
   "metadata": {},
   "outputs": [],
   "source": []
  }
 ],
 "metadata": {
  "kernelspec": {
   "display_name": "Python 3 (ipykernel)",
   "language": "python",
   "name": "python3"
  },
  "language_info": {
   "codemirror_mode": {
    "name": "ipython",
    "version": 3
   },
   "file_extension": ".py",
   "mimetype": "text/x-python",
   "name": "python",
   "nbconvert_exporter": "python",
   "pygments_lexer": "ipython3",
   "version": "3.12.9"
  }
 },
 "nbformat": 4,
 "nbformat_minor": 5
}
