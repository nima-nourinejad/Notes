{
 "cells": [
  {
   "cell_type": "markdown",
   "id": "7d84daf1-6907-4ce1-acf5-d7cdf073e9ac",
   "metadata": {},
   "source": [
    "<h1>setup</h1>"
   ]
  },
  {
   "cell_type": "code",
   "execution_count": 1,
   "id": "d027dddb-2be9-4558-a665-8e4f1bc4a984",
   "metadata": {},
   "outputs": [
    {
     "name": "stdout",
     "output_type": "stream",
     "text": [
      "Defaulting to user installation because normal site-packages is not writeable\n",
      "Collecting sqlalchemy\n",
      "  Downloading sqlalchemy-2.0.40-cp312-cp312-manylinux_2_17_x86_64.manylinux2014_x86_64.whl.metadata (9.6 kB)\n",
      "Collecting greenlet>=1 (from sqlalchemy)\n",
      "  Downloading greenlet-3.2.1-cp312-cp312-manylinux_2_24_x86_64.manylinux_2_28_x86_64.whl.metadata (4.1 kB)\n",
      "Requirement already satisfied: typing-extensions>=4.6.0 in /home/nima/.local/lib/python3.12/site-packages (from sqlalchemy) (4.13.0)\n",
      "Downloading sqlalchemy-2.0.40-cp312-cp312-manylinux_2_17_x86_64.manylinux2014_x86_64.whl (3.3 MB)\n",
      "\u001b[2K   \u001b[90m━━━━━━━━━━━━━━━━━━━━━━━━━━━━━━━━━━━━━━━━\u001b[0m \u001b[32m3.3/3.3 MB\u001b[0m \u001b[31m1.2 MB/s\u001b[0m eta \u001b[36m0:00:00\u001b[0ma \u001b[36m0:00:01\u001b[0m0m\n",
      "\u001b[?25hDownloading greenlet-3.2.1-cp312-cp312-manylinux_2_24_x86_64.manylinux_2_28_x86_64.whl (603 kB)\n",
      "\u001b[2K   \u001b[90m━━━━━━━━━━━━━━━━━━━━━━━━━━━━━━━━━━━━━━━━\u001b[0m \u001b[32m603.8/603.8 kB\u001b[0m \u001b[31m1.3 MB/s\u001b[0m eta \u001b[36m0:00:00\u001b[0m-:--:--\u001b[0m\n",
      "\u001b[?25hInstalling collected packages: greenlet, sqlalchemy\n",
      "Successfully installed greenlet-3.2.1 sqlalchemy-2.0.40\n",
      "\n",
      "\u001b[1m[\u001b[0m\u001b[34;49mnotice\u001b[0m\u001b[1;39;49m]\u001b[0m\u001b[39;49m A new release of pip is available: \u001b[0m\u001b[31;49m25.0.1\u001b[0m\u001b[39;49m -> \u001b[0m\u001b[32;49m25.1.1\u001b[0m\n",
      "\u001b[1m[\u001b[0m\u001b[34;49mnotice\u001b[0m\u001b[1;39;49m]\u001b[0m\u001b[39;49m To update, run: \u001b[0m\u001b[32;49mpython3.12 -m pip install --upgrade pip\u001b[0m\n"
     ]
    }
   ],
   "source": [
    "!pip install sqlalchemy"
   ]
  },
  {
   "cell_type": "code",
   "execution_count": 4,
   "id": "9c47732c-61f1-4391-838b-02ccc09788e4",
   "metadata": {},
   "outputs": [
    {
     "name": "stdout",
     "output_type": "stream",
     "text": [
      "Defaulting to user installation because normal site-packages is not writeable\n",
      "Collecting psycopg2-binary\n",
      "  Downloading psycopg2_binary-2.9.10-cp312-cp312-manylinux_2_17_x86_64.manylinux2014_x86_64.whl.metadata (4.9 kB)\n",
      "Downloading psycopg2_binary-2.9.10-cp312-cp312-manylinux_2_17_x86_64.manylinux2014_x86_64.whl (3.0 MB)\n",
      "\u001b[2K   \u001b[90m━━━━━━━━━━━━━━━━━━━━━━━━━━━━━━━━━━━━━━━━\u001b[0m \u001b[32m3.0/3.0 MB\u001b[0m \u001b[31m2.4 MB/s\u001b[0m eta \u001b[36m0:00:00\u001b[0ma \u001b[36m0:00:01\u001b[0m\n",
      "\u001b[?25hInstalling collected packages: psycopg2-binary\n",
      "Successfully installed psycopg2-binary-2.9.10\n"
     ]
    }
   ],
   "source": [
    "!pip install psycopg2-binary"
   ]
  },
  {
   "cell_type": "markdown",
   "id": "8c7ff963-1e67-405b-ad14-656df8636d20",
   "metadata": {},
   "source": [
    "<h1>uri</h1>"
   ]
  },
  {
   "cell_type": "code",
   "execution_count": 1,
   "id": "e9bfbd15-941b-4a61-b6a1-a2387c072951",
   "metadata": {},
   "outputs": [],
   "source": [
    "db_type = 'postgresql'\n",
    "adaptor = 'psycopg2'\n",
    "user = 'postgres'\n",
    "pas = '123456'\n",
    "host = '127.0.0.1'\n",
    "port = '5432'\n",
    "db_name ='nima'\n",
    "uri = f'{db_type}+{adaptor}://{user}:{pas}@{host}:{port}/{db_name}'"
   ]
  },
  {
   "cell_type": "markdown",
   "id": "8957f041-025c-4844-afc0-7064d7c2022c",
   "metadata": {},
   "source": [
    "<h1>create engine</h1> "
   ]
  },
  {
   "cell_type": "code",
   "execution_count": 2,
   "id": "ed3e83c6-b7b7-41cb-998c-5cc43aad5b77",
   "metadata": {},
   "outputs": [],
   "source": [
    "from sqlalchemy import create_engine\n",
    "engine = create_engine(uri)\n",
    "# engine = create_engine(uri, echo=True)"
   ]
  },
  {
   "cell_type": "markdown",
   "id": "e86717d6-914f-4465-8c59-1ceb2ca0fb90",
   "metadata": {},
   "source": [
    "<h1>disposing engine</h1>"
   ]
  },
  {
   "cell_type": "code",
   "execution_count": 26,
   "id": "af7b4d58-c0a0-4fd7-8346-2c817141c1fa",
   "metadata": {},
   "outputs": [],
   "source": [
    "from sqlalchemy import create_engine\n",
    "engine2 = create_engine(uri)"
   ]
  },
  {
   "cell_type": "code",
   "execution_count": 27,
   "id": "719324c7-3196-4493-a13a-1578c83580d0",
   "metadata": {},
   "outputs": [],
   "source": [
    "engine2.dispose()"
   ]
  },
  {
   "cell_type": "markdown",
   "id": "4e4127b1-933e-442f-9d5f-e8c9b614fdc1",
   "metadata": {},
   "source": [
    "<h1>creating database</h1>"
   ]
  },
  {
   "cell_type": "code",
   "execution_count": 31,
   "id": "b7ef4b8e-9f3c-4733-b514-75f99f5f6f99",
   "metadata": {},
   "outputs": [],
   "source": [
    "from sqlalchemy import create_engine\n",
    "# baiad az ghabl ie database dashte bashim ke ie uri bede be ma\n",
    "autocommit_engine = create_engine(uri, isolation_level='AUTOCOMMIT')\n",
    "\n",
    "\n",
    "from sqlalchemy import text\n",
    "\n",
    "with autocommit_engine.connect() as connection:\n",
    "    executable = text('CREATE DATABASE new_nima')\n",
    "    connection.execute(executable)\n",
    "\n",
    "autocommit_engine.dispose()\n",
    "db_type = 'postgresql'\n",
    "adaptor = 'psycopg2'\n",
    "user = 'postgres'\n",
    "pas = '123456'\n",
    "host = '127.0.0.1'\n",
    "port = '5432'\n",
    "db_name ='new_nima'\n",
    "new_uri = f'{db_type}+{adaptor}://{user}:{pas}@{host}:{port}/{db_name}'\n",
    "new_engine = create_engine(new_uri)\n"
   ]
  },
  {
   "cell_type": "markdown",
   "id": "57aa220d-45e7-4781-a7cc-f6f0ea13179a",
   "metadata": {},
   "source": [
    "<h1>dropping a database</h1>"
   ]
  },
  {
   "cell_type": "code",
   "execution_count": 3,
   "id": "1b6e2c9a-e4ea-42f5-ab49-1ac10cf60348",
   "metadata": {},
   "outputs": [],
   "source": [
    "autocommit_engine = create_engine(uri, isolation_level='AUTOCOMMIT')"
   ]
  },
  {
   "cell_type": "code",
   "execution_count": 4,
   "id": "0493e29b-45e6-426b-b55b-768d45e005c3",
   "metadata": {},
   "outputs": [],
   "source": [
    "from sqlalchemy import text\n",
    "executable = text('DROP DATABASE new_nima')"
   ]
  },
  {
   "cell_type": "code",
   "execution_count": 6,
   "id": "5713f990-5785-4a95-be5f-46578e949baf",
   "metadata": {},
   "outputs": [],
   "source": [
    "# aval tuie pg admin disconnect kardam\n",
    "from sqlalchemy.orm import Session\n",
    "with Session(autocommit_engine) as session:\n",
    "    session.execute(executable)"
   ]
  },
  {
   "cell_type": "code",
   "execution_count": 7,
   "id": "88393563-0165-4a87-b541-2163008c2390",
   "metadata": {},
   "outputs": [],
   "source": [
    "autocommit_engine.dispose()"
   ]
  },
  {
   "cell_type": "markdown",
   "id": "1db2a3c5-7e38-44f1-be36-e47a74a9af1c",
   "metadata": {},
   "source": [
    "<h1>data types in sql</h1>"
   ]
  },
  {
   "cell_type": "raw",
   "id": "9e78954b-c9cb-403e-bf06-f4569654c143",
   "metadata": {},
   "source": [
    "INT\n",
    "SERIAL -> auto increament\n",
    "VARCHAR(max_length) -> hamun string\n",
    "DATE\n",
    "TIMESTAMP"
   ]
  },
  {
   "cell_type": "markdown",
   "id": "699f430a-8f04-4758-b5d8-c4b9134a8bea",
   "metadata": {},
   "source": [
    "<h1>\"\" vs '' in PostgreSQL</h1>"
   ]
  },
  {
   "cell_type": "raw",
   "id": "8a91ccac-2d5e-4b3c-a22f-5ff52766ac47",
   "metadata": {},
   "source": [
    "DOUBLE QUOTES (\"...\") → refer to identifiers (like column or table names). without \"\" is acceptable if\n",
    "all the letters are lower case (because postgres with make them lower case if you do not use \"\") and\n",
    "no special characters like space is used and\n",
    "it is not conflicting with reserved keywords\n",
    "\n",
    "\n",
    "SINGLE QUOTES ('...') → refer to string literals."
   ]
  },
  {
   "cell_type": "markdown",
   "id": "f05bfacf-8065-4a83-826b-73790aa1e35f",
   "metadata": {},
   "source": [
    "<h1>value with DATE data type</h1>"
   ]
  },
  {
   "cell_type": "raw",
   "id": "060df6b7-5466-45ed-a6a8-331f25f238d1",
   "metadata": {},
   "source": [
    "DATE '2025-05-19'"
   ]
  },
  {
   "cell_type": "markdown",
   "id": "36983210-12c6-4403-abf6-6ce40ded7fd2",
   "metadata": {},
   "source": [
    "<h1>constraint in sql</h1>"
   ]
  },
  {
   "cell_type": "raw",
   "id": "1d3a1d26-8fc6-4da8-854a-63c4bb71c3dc",
   "metadata": {},
   "source": [
    "+----------------+-------------------------+-------------------------------------------+\n",
    "| SQL Constraint | SQLAlchemy Equivalent   | Example                                   |\n",
    "+----------------+-------------------------+-------------------------------------------+\n",
    "| NOT NULL       | nullable=False          | Column(String, nullable=False)            |\n",
    "| UNIQUE         | unique=True             | Column(String, unique=True)               |\n",
    "| PRIMARY KEY    | primary_key=True        | Column(Integer, primary_key=True)         |\n",
    "| FOREIGN KEY    | ForeignKey()            | Column(Integer, ForeignKey('users.id'))   |\n",
    "| CHECK          | CheckConstraint()       | CheckConstraint('age > 0')                |\n",
    "| DEFAULT        | default=                | Column(String, default='guest')           |\n",
    "| AUTO_INCREMENT | autoincrement=True      | Column(Integer, primary_key=True,         |\n",
    "| (SERIAL)       |                         |         autoincrement=True)               |\n",
    "+----------------+-------------------------+-------------------------------------------+\n"
   ]
  },
  {
   "cell_type": "markdown",
   "id": "f6b43da5-d5ae-48fa-8171-fcd57906d228",
   "metadata": {},
   "source": [
    "<h1>create table</h1>"
   ]
  },
  {
   "cell_type": "markdown",
   "id": "23c0232f-e2dc-4176-9740-bde00d8fb993",
   "metadata": {},
   "source": [
    "<h2>by text api</h2>"
   ]
  },
  {
   "cell_type": "raw",
   "id": "6f4e9c77-3669-4154-a6e3-ae69af7af970",
   "metadata": {},
   "source": [
    "CREATE TABLE table_name (\n",
    "                            column_name + data_type + constraint if any,\n",
    "                        );"
   ]
  },
  {
   "cell_type": "code",
   "execution_count": 3,
   "id": "285581d8-ba4f-470f-b57b-90a2f927df28",
   "metadata": {},
   "outputs": [],
   "source": [
    "from sqlalchemy import text\n",
    "with engine.connect() as connection:\n",
    "    executable = text('CREATE TABLE IF NOT EXISTS text_table(id SERIAL PRIMARY KEY, content VARCHAR);')\n",
    "    connection.execute(executable)\n",
    "    connection.commit()"
   ]
  },
  {
   "cell_type": "markdown",
   "id": "c35fe348-30d4-4421-8976-63030911ca5c",
   "metadata": {},
   "source": [
    "<h2>by core api</h2>"
   ]
  },
  {
   "cell_type": "code",
   "execution_count": 4,
   "id": "66f9ccda-6e2e-44a8-aab9-95c02755ebff",
   "metadata": {},
   "outputs": [],
   "source": [
    "from sqlalchemy import MetaData\n",
    "metadata = MetaData()\n",
    "\n",
    "from sqlalchemy import Table, Column, Integer, String\n",
    "Table(\n",
    "    'core_table',\n",
    "    metadata,\n",
    "    Column('id', Integer, primary_key=True, autoincrement=True),\n",
    "    Column('content', String)\n",
    ")\n",
    "\n",
    "metadata.create_all(engine)\n"
   ]
  },
  {
   "cell_type": "markdown",
   "id": "34f2907c-a941-4580-8d72-79072292621d",
   "metadata": {},
   "source": [
    "<h2>by declaritive orm</h2>"
   ]
  },
  {
   "cell_type": "code",
   "execution_count": 7,
   "id": "fc33df7c-01fd-426e-8481-83343b49c1e3",
   "metadata": {},
   "outputs": [],
   "source": [
    "from sqlalchemy.orm import declarative_base\n",
    "Base = declarative_base()\n",
    "\n",
    "from sqlalchemy import Column, Integer, String\n",
    "\n",
    "class DeclaritiveTable(Base):\n",
    "    __tablename__ = 'declaritive_table'\n",
    "    id = Column(Integer, primary_key=True, autoincrement=True)\n",
    "    content = Column(String)\n",
    "\n",
    "Base.metadata.create_all(engine)"
   ]
  },
  {
   "cell_type": "markdown",
   "id": "06e44a7a-8f6c-4d3a-9509-8a34ed310122",
   "metadata": {},
   "source": [
    "<h2>by registery orm</h2>"
   ]
  },
  {
   "cell_type": "code",
   "execution_count": 8,
   "id": "a08ba006-b501-4af2-a1bb-b8b3cdb94a56",
   "metadata": {},
   "outputs": [],
   "source": [
    "from sqlalchemy.orm import registry\n",
    "reg = registry()\n",
    "\n",
    "from sqlalchemy import Column, Integer, String\n",
    "\n",
    "@reg.mapped\n",
    "class RegistryTable:\n",
    "    __tablename__ = 'registery_table'\n",
    "    id = Column(Integer, primary_key=True, autoincrement=True)\n",
    "    content = Column(String)\n",
    "\n",
    "reg.metadata.create_all(engine)"
   ]
  },
  {
   "cell_type": "markdown",
   "id": "55aa55aa-d9fa-4b01-8dbd-097b220737a6",
   "metadata": {},
   "source": [
    "<h1>moving between table object to orm class</h1>"
   ]
  },
  {
   "cell_type": "markdown",
   "id": "4c333319-f2dc-4a18-b708-a9b4d70a63fc",
   "metadata": {},
   "source": [
    "<h2>to orm class</h2>"
   ]
  },
  {
   "cell_type": "code",
   "execution_count": 15,
   "id": "6ad1a337-25b6-4fa4-a2a3-a86343427109",
   "metadata": {},
   "outputs": [],
   "source": [
    "from sqlalchemy import MetaData\n",
    "metadata = MetaData()\n",
    "\n",
    "from sqlalchemy import Table, Column, Integer, String\n",
    "table_obj = Table(\n",
    "    'new_table',\n",
    "    metadata,\n",
    "    Column('id', Integer, primary_key=True, autoincrement=True),\n",
    "    Column('content', String)\n",
    ")"
   ]
  },
  {
   "cell_type": "markdown",
   "id": "33457c0c-c3ab-42b5-9791-e37438d9f020",
   "metadata": {},
   "source": [
    "<h3>via registry</h3>"
   ]
  },
  {
   "cell_type": "code",
   "execution_count": 18,
   "id": "5260d312-58c3-4211-ab68-520ba0b7408e",
   "metadata": {},
   "outputs": [],
   "source": [
    "from sqlalchemy.orm import registry\n",
    "reg = registry(metadata = metadata)\n",
    "\n",
    "@reg.mapped\n",
    "class OrmClass1:\n",
    "    __table__ = table_obj\n",
    "\n",
    "reg.metadata.create_all(engine)"
   ]
  },
  {
   "cell_type": "markdown",
   "id": "f151df64-325d-4c13-be61-33141c880f4a",
   "metadata": {},
   "source": [
    "<h3>via declaritive base</h3>"
   ]
  },
  {
   "cell_type": "code",
   "execution_count": 21,
   "id": "0f54f41a-ed2a-4bd1-a3d6-492439712004",
   "metadata": {},
   "outputs": [],
   "source": [
    "from sqlalchemy.orm import declarative_base\n",
    "Base = declarative_base(metadata = metadata)\n",
    "\n",
    "class OrmClass2(Base):\n",
    "    __table__ = table_obj\n",
    "    \n",
    "Base.metadata.create_all(engine)"
   ]
  },
  {
   "cell_type": "markdown",
   "id": "1d3f2c10-dab3-47cf-8bc0-34b06d807968",
   "metadata": {},
   "source": [
    "<h2>to table object</h2>"
   ]
  },
  {
   "cell_type": "code",
   "execution_count": null,
   "id": "c6019f17-b514-4501-96ad-b76cadaaf300",
   "metadata": {},
   "outputs": [],
   "source": [
    "from sqlalchemy.orm import registry\n",
    "reg2 = registry()\n",
    "\n",
    "from sqlalchemy import Column, Integer, String\n",
    "@reg2.mapped\n",
    "class OrmClass3:\n",
    "    __tablename__ = 'new_table_2'\n",
    "    id = Column(Integer, primary_key= True, autoincrement= True)\n",
    "    content = Column(String)\n",
    "\n",
    "table_obj_2 = OrmClass3.__table__\n",
    "table_obj_2.create(engine)\n",
    "# using table_obj.create in case of already existing table create exception\n",
    "# but metadata.create_all (and Base.metadata.create_all and registry.metadata.create_all) check before creating"
   ]
  },
  {
   "cell_type": "markdown",
   "id": "423313b2-273f-4004-ad27-fa9b90cc8931",
   "metadata": {},
   "source": [
    "<h1>list of tables in database</h1>"
   ]
  },
  {
   "cell_type": "code",
   "execution_count": 50,
   "id": "e0e866b8-0d07-4690-b8e3-017a725b3390",
   "metadata": {},
   "outputs": [
    {
     "data": {
      "text/plain": [
       "['text_table',\n",
       " 'core_table',\n",
       " 'new_table',\n",
       " 'new_table_2',\n",
       " 't3',\n",
       " 'declaritive_table',\n",
       " 'registery_table',\n",
       " 'core_orm']"
      ]
     },
     "execution_count": 50,
     "metadata": {},
     "output_type": "execute_result"
    }
   ],
   "source": [
    "from sqlalchemy import inspect\n",
    "\n",
    "inspector = inspect(engine)\n",
    "table_lst_in_db = inspector.get_table_names()\n",
    "table_lst_in_db"
   ]
  },
  {
   "cell_type": "markdown",
   "id": "43b13de2-8bc7-44d3-b072-ac0c9c3c013d",
   "metadata": {},
   "source": [
    "<h1>list of tables in metadata</h1>"
   ]
  },
  {
   "cell_type": "code",
   "execution_count": 62,
   "id": "def5436b-4816-40bd-9715-688293e345b2",
   "metadata": {},
   "outputs": [],
   "source": [
    "from sqlalchemy import MetaData, Table, Column, Integer\n",
    "from sqlalchemy.orm import registry\n",
    "\n",
    "metadata = MetaData()\n",
    "reg = registry(metadata= metadata)\n",
    "\n",
    "Table('added_to_metadata_1',\n",
    "      metadata,\n",
    "      Column('id', Integer, primary_key = True)\n",
    "     )\n",
    "\n",
    "@reg.mapped\n",
    "class OClass:\n",
    "    __tablename__='added_to_metadata_2'\n",
    "    id = Column(Integer, primary_key= True)"
   ]
  },
  {
   "cell_type": "code",
   "execution_count": 65,
   "id": "6aa3faf1-075a-4583-8405-10ca2c06ae9c",
   "metadata": {},
   "outputs": [
    {
     "data": {
      "text/plain": [
       "['added_to_metadata_1', 'added_to_metadata_2']"
      ]
     },
     "execution_count": 65,
     "metadata": {},
     "output_type": "execute_result"
    }
   ],
   "source": [
    "list(metadata.tables.keys())"
   ]
  },
  {
   "cell_type": "markdown",
   "id": "01d52e0b-1928-4d1e-9669-2f44d021ea60",
   "metadata": {},
   "source": [
    "<h1>table description</h1>"
   ]
  },
  {
   "cell_type": "code",
   "execution_count": 9,
   "id": "21ee1808-e7d5-4d5f-aa1e-198cf05c40ce",
   "metadata": {},
   "outputs": [],
   "source": [
    "from sqlalchemy import inspect\n",
    "\n",
    "inspector = inspect(engine)\n",
    "table_lst = inspector.get_table_names()"
   ]
  },
  {
   "cell_type": "code",
   "execution_count": 10,
   "id": "9fe2153f-8c29-4a8d-afec-59d1716c306a",
   "metadata": {},
   "outputs": [
    {
     "data": {
      "text/plain": [
       "['core_table',\n",
       " 'new_table',\n",
       " 'new_table_2',\n",
       " 'declaritive_table',\n",
       " 'registery_table',\n",
       " 'core_orm']"
      ]
     },
     "execution_count": 10,
     "metadata": {},
     "output_type": "execute_result"
    }
   ],
   "source": [
    "table_lst"
   ]
  },
  {
   "cell_type": "markdown",
   "id": "ad90add5-5c34-47e1-93a5-20f2874a7059",
   "metadata": {},
   "source": [
    "<h2>inspect.get_columns(table_name)</h2>"
   ]
  },
  {
   "cell_type": "code",
   "execution_count": 12,
   "id": "befef753-9974-46f1-914b-855e9d489cc9",
   "metadata": {},
   "outputs": [],
   "source": [
    "column_lst = inspector.get_columns('core_table')"
   ]
  },
  {
   "cell_type": "code",
   "execution_count": 13,
   "id": "8f585a51-df24-4a53-b5d5-7193e90f990a",
   "metadata": {},
   "outputs": [
    {
     "data": {
      "text/plain": [
       "[{'name': 'id',\n",
       "  'type': INTEGER(),\n",
       "  'nullable': False,\n",
       "  'default': \"nextval('core_table_id_seq'::regclass)\",\n",
       "  'autoincrement': True,\n",
       "  'comment': None},\n",
       " {'name': 'content',\n",
       "  'type': VARCHAR(),\n",
       "  'nullable': True,\n",
       "  'default': None,\n",
       "  'autoincrement': False,\n",
       "  'comment': None}]"
      ]
     },
     "execution_count": 13,
     "metadata": {},
     "output_type": "execute_result"
    }
   ],
   "source": [
    "column_lst"
   ]
  },
  {
   "cell_type": "code",
   "execution_count": 14,
   "id": "839c0bae-c873-470d-bfd1-3e6a6467d500",
   "metadata": {},
   "outputs": [],
   "source": [
    "from sqlalchemy import MetaData, Table\n",
    "metadata = MetaData()\n",
    "core_table = Table('core_table', metadata, autoload_with=engine)"
   ]
  },
  {
   "cell_type": "markdown",
   "id": "884929f2-8081-481c-bd62-ead02d8ab5f4",
   "metadata": {},
   "source": [
    "<h2>printing table_obj</h2>"
   ]
  },
  {
   "cell_type": "code",
   "execution_count": 21,
   "id": "949437b1-8be2-46af-a42c-9b4f9af0da5a",
   "metadata": {},
   "outputs": [
    {
     "data": {
      "text/plain": [
       "Table('core_table', MetaData(), Column('id', INTEGER(), table=<core_table>, primary_key=True, nullable=False, server_default=DefaultClause(<sqlalchemy.sql.elements.TextClause object at 0x7f0cbe4cb290>, for_update=False)), Column('content', VARCHAR(), table=<core_table>), schema=None)"
      ]
     },
     "execution_count": 21,
     "metadata": {},
     "output_type": "execute_result"
    }
   ],
   "source": [
    "core_table"
   ]
  },
  {
   "cell_type": "markdown",
   "id": "10049041-e5c2-4c89-affb-ab0fdbd19404",
   "metadata": {},
   "source": [
    "<h2>using attr of members of table_obj.columns or .c</h2>"
   ]
  },
  {
   "cell_type": "code",
   "execution_count": 22,
   "id": "aaca7477-2ef0-43d3-b9d8-2bc171fd4414",
   "metadata": {},
   "outputs": [
    {
     "data": {
      "text/plain": [
       "[('id', INTEGER()), ('content', VARCHAR())]"
      ]
     },
     "execution_count": 22,
     "metadata": {},
     "output_type": "execute_result"
    }
   ],
   "source": [
    "[(c.name, c.type) for c in core_table.columns]"
   ]
  },
  {
   "cell_type": "code",
   "execution_count": 23,
   "id": "3c1748cd-ed2b-4c00-8180-6eb2f55c826f",
   "metadata": {},
   "outputs": [
    {
     "data": {
      "text/plain": [
       "[('id', INTEGER()), ('content', VARCHAR())]"
      ]
     },
     "execution_count": 23,
     "metadata": {},
     "output_type": "execute_result"
    }
   ],
   "source": [
    "[(c.name, c.type) for c in core_table.c]"
   ]
  },
  {
   "cell_type": "markdown",
   "id": "e4fcf609-e769-425b-834a-400a54d06906",
   "metadata": {},
   "source": [
    "<h1>table_obj.columns == table_obj.c</h1>"
   ]
  },
  {
   "cell_type": "code",
   "execution_count": 26,
   "id": "254b35b9-d8ac-42d0-b01b-8cae682f9bd0",
   "metadata": {},
   "outputs": [
    {
     "data": {
      "text/plain": [
       "True"
      ]
     },
     "execution_count": 26,
     "metadata": {},
     "output_type": "execute_result"
    }
   ],
   "source": [
    "core_table.columns is core_table.c"
   ]
  },
  {
   "cell_type": "markdown",
   "id": "068ab562-3d7c-4841-ac05-2e745336ccdf",
   "metadata": {},
   "source": [
    "<h1>accessing one column of a table_obj</h1>"
   ]
  },
  {
   "cell_type": "code",
   "execution_count": 24,
   "id": "7c514d65-100b-4b43-8205-571284f41060",
   "metadata": {},
   "outputs": [
    {
     "data": {
      "text/plain": [
       "Column('id', INTEGER(), table=<core_table>, primary_key=True, nullable=False, server_default=DefaultClause(<sqlalchemy.sql.elements.TextClause object at 0x7f0cbe4cb290>, for_update=False))"
      ]
     },
     "execution_count": 24,
     "metadata": {},
     "output_type": "execute_result"
    }
   ],
   "source": [
    "core_table.c.id"
   ]
  },
  {
   "cell_type": "code",
   "execution_count": 25,
   "id": "915d1d03-e6ac-4564-9eb3-63a26a9b7c63",
   "metadata": {},
   "outputs": [
    {
     "data": {
      "text/plain": [
       "Column('id', INTEGER(), table=<core_table>, primary_key=True, nullable=False, server_default=DefaultClause(<sqlalchemy.sql.elements.TextClause object at 0x7f0cbe4cb290>, for_update=False))"
      ]
     },
     "execution_count": 25,
     "metadata": {},
     "output_type": "execute_result"
    }
   ],
   "source": [
    "core_table.columns.id"
   ]
  },
  {
   "cell_type": "markdown",
   "id": "dab5d6fe-28e2-429a-ab77-069eef950cbd",
   "metadata": {},
   "source": [
    "<h1>accessing table objects from metadata</h1>"
   ]
  },
  {
   "cell_type": "code",
   "execution_count": 66,
   "id": "2f47840e-6586-4e1b-8123-99226c04606d",
   "metadata": {},
   "outputs": [],
   "source": [
    "table_obj1 = metadata.tables['added_to_metadata_1']"
   ]
  },
  {
   "cell_type": "markdown",
   "id": "6ee50a7d-d742-4eb7-b070-033bb7dab25a",
   "metadata": {},
   "source": [
    "<h1>accessing table objects from orm class</h1>"
   ]
  },
  {
   "cell_type": "code",
   "execution_count": 67,
   "id": "099c919b-b06b-4008-b9d5-87fc92f212bb",
   "metadata": {},
   "outputs": [],
   "source": [
    "table_obj2 = OClass.__table__"
   ]
  },
  {
   "cell_type": "markdown",
   "id": "71e0be24-8be8-485c-9cc5-10ec9e04f2d2",
   "metadata": {},
   "source": [
    "<h1>remove a table from metadata</h1>"
   ]
  },
  {
   "cell_type": "code",
   "execution_count": 68,
   "id": "549662e4-8f76-461f-ad45-96e1072f759b",
   "metadata": {},
   "outputs": [
    {
     "data": {
      "text/plain": [
       "['added_to_metadata_1', 'added_to_metadata_2']"
      ]
     },
     "execution_count": 68,
     "metadata": {},
     "output_type": "execute_result"
    }
   ],
   "source": [
    "list(metadata.tables.keys())"
   ]
  },
  {
   "cell_type": "code",
   "execution_count": 69,
   "id": "a41d8417-ccb6-4d8b-9693-c376696fa0c9",
   "metadata": {},
   "outputs": [],
   "source": [
    "metadata.remove(table_obj1)"
   ]
  },
  {
   "cell_type": "code",
   "execution_count": 71,
   "id": "083bd809-a1db-4aab-9620-d3d46f7eac34",
   "metadata": {},
   "outputs": [],
   "source": [
    "metadata.remove(table_obj2)"
   ]
  },
  {
   "cell_type": "code",
   "execution_count": 72,
   "id": "ef8c2294-0192-483b-8b6d-91c864f0c71f",
   "metadata": {},
   "outputs": [
    {
     "data": {
      "text/plain": [
       "[]"
      ]
     },
     "execution_count": 72,
     "metadata": {},
     "output_type": "execute_result"
    }
   ],
   "source": [
    "list(metadata.tables.keys())"
   ]
  },
  {
   "cell_type": "markdown",
   "id": "4c91dc9c-bfcd-459f-b008-e8e0161b85a4",
   "metadata": {},
   "source": [
    "<h1>checking existance of a table</h1>"
   ]
  },
  {
   "cell_type": "code",
   "execution_count": 89,
   "id": "075509f9-7e1f-48d4-8f1c-f191b5ffc6e8",
   "metadata": {},
   "outputs": [
    {
     "name": "stdout",
     "output_type": "stream",
     "text": [
      "Table reflected from DB.\n"
     ]
    }
   ],
   "source": [
    "from sqlalchemy import inspect, Table, Column, Integer, String\n",
    "\n",
    "inspector = inspect(engine)\n",
    "\n",
    "if 'new_table' not in metadata.tables:\n",
    "    if 'new_table' not in inspector.get_table_names():\n",
    "        # Case 1: Not in metadata, not in DB → define and create\n",
    "        table_obj = Table(\n",
    "            'new_table',\n",
    "            metadata,\n",
    "            Column('id', Integer, primary_key=True),\n",
    "            Column('content', String)\n",
    "        )\n",
    "        metadata.create_all(engine)\n",
    "        print(\"Table created from scratch.\")\n",
    "    else:\n",
    "        # Case 2: Not in metadata, but in DB → reflect\n",
    "        table_obj = Table('new_table', metadata, autoload_with=engine)\n",
    "        print(\"Table reflected from DB.\")\n",
    "else:\n",
    "    # Case 3: Already in metadata → check DB status\n",
    "    table_obj = metadata.tables['new_table']\n",
    "    if 'new_table' not in inspector.get_table_names():\n",
    "        metadata.create_all(engine)\n",
    "        print(\"Metadata-defined table created in DB.\")\n",
    "    else:\n",
    "        print(\"Table already exists in both metadata and DB. Reusing table object.\")\n"
   ]
  },
  {
   "cell_type": "markdown",
   "id": "e11a67d4-07c8-43b6-bdae-18da02b45f17",
   "metadata": {},
   "source": [
    "<h1>reflecting table</h1>"
   ]
  },
  {
   "cell_type": "markdown",
   "id": "7428f8da-3960-4cc2-b1c7-d1d10ae15ab3",
   "metadata": {},
   "source": [
    "<h2>via core</h2>"
   ]
  },
  {
   "cell_type": "code",
   "execution_count": 14,
   "id": "5aacecc0-05d0-4370-a9ad-a05f70829fa1",
   "metadata": {},
   "outputs": [],
   "source": [
    "from sqlalchemy import MetaData\n",
    "\n",
    "metadata = MetaData()\n",
    "table_object = Table(\n",
    "                    'core_table',\n",
    "                    metadata,\n",
    "                    autoload_with = engine)"
   ]
  },
  {
   "cell_type": "markdown",
   "id": "2d26387b-d31f-4b35-aeb1-99518f6dd193",
   "metadata": {},
   "source": [
    "<h1>reflecting all the tables at once</h1>"
   ]
  },
  {
   "cell_type": "markdown",
   "id": "b66bc3b2-547f-4f18-9219-f04c796ee6a1",
   "metadata": {},
   "source": [
    "<h2>via core</h2>"
   ]
  },
  {
   "cell_type": "code",
   "execution_count": 11,
   "id": "952df284-8551-4d68-8136-9d6a67e349e6",
   "metadata": {},
   "outputs": [
    {
     "data": {
      "text/plain": [
       "dict_keys(['core_table', 'new_table', 'new_table_2', 'declaritive_table', 'registery_table', 'core_orm'])"
      ]
     },
     "execution_count": 11,
     "metadata": {},
     "output_type": "execute_result"
    }
   ],
   "source": [
    "from sqlalchemy import MetaData\n",
    "\n",
    "metadata = MetaData()\n",
    "metadata.reflect(bind=engine)\n",
    "table_list = metadata.tables\n",
    "table_list.keys()"
   ]
  },
  {
   "cell_type": "markdown",
   "id": "cf5be5e2-ebb5-4c08-b593-13a64a5ba03e",
   "metadata": {},
   "source": [
    "<h2>via orm</h2>"
   ]
  },
  {
   "cell_type": "code",
   "execution_count": 19,
   "id": "a506a800-bc14-4c8f-a952-5e9726f50b4d",
   "metadata": {},
   "outputs": [],
   "source": [
    "from sqlalchemy.ext.automap import automap_base\n",
    "\n",
    "Base = automap_base()\n",
    "Base.prepare(autoload_with=engine)\n",
    "TableClass1 = Base.classes.declaritive_table\n",
    "TableClass2 = Base.classes.text_table\n"
   ]
  },
  {
   "cell_type": "code",
   "execution_count": 3,
   "id": "a5774d7d-2654-4761-a90d-e43b0b90689d",
   "metadata": {},
   "outputs": [],
   "source": [
    "from sqlalchemy.ext.automap import automap_base\n",
    "\n",
    "def prepare_base():\n",
    "    Base = automap_base()\n",
    "    Base.prepare(autoload_with=engine)\n",
    "    return Base"
   ]
  },
  {
   "cell_type": "markdown",
   "id": "6c2e667c-799e-4702-b544-3a1def2af59d",
   "metadata": {},
   "source": [
    "<h1>modern orm</h1>"
   ]
  },
  {
   "cell_type": "code",
   "execution_count": 9,
   "id": "2665479e-650e-4420-9bef-0efaa945e20e",
   "metadata": {},
   "outputs": [],
   "source": [
    "from sqlalchemy import create_engine\n",
    "from sqlalchemy.orm import registry, declarative_base\n",
    "from sqlalchemy.ext.automap import automap_base\n",
    "\n",
    "# 1. Engine\n",
    "engine = create_engine(uri)\n",
    "\n",
    "# 2. Registry\n",
    "mapper_registry = registry()\n",
    "\n",
    "# 3. Declarative base using custom registry\n",
    "Base = automap_base(declarative_base=mapper_registry.generate_base())\n",
    "\n",
    "# 4. Prepare\n",
    "Base.prepare(autoload_with=engine)\n"
   ]
  },
  {
   "cell_type": "markdown",
   "id": "d982848b-bd94-4780-9d52-dd8c5e056715",
   "metadata": {},
   "source": [
    "<h1>dropping a table</h1>"
   ]
  },
  {
   "cell_type": "code",
   "execution_count": 34,
   "id": "bc2fd059-a26a-4a43-b835-7eba12801a33",
   "metadata": {},
   "outputs": [],
   "source": [
    "from sqlalchemy.orm import registry\n",
    "mapper_registery = registry()\n",
    "\n",
    "from sqlalchemy import Column, Integer\n",
    "\n",
    "@mapper_registery.mapped\n",
    "class OrmClass1:\n",
    "    __tablename__ = 't1'\n",
    "    id = Column(Integer, primary_key= True, autoincrement= True)\n",
    "\n",
    "@mapper_registery.mapped\n",
    "class OrmClass2:\n",
    "    __tablename__ = 't2'\n",
    "    id = Column(Integer, primary_key= True, autoincrement= True)\n",
    "\n",
    "@mapper_registery.mapped\n",
    "class OrmClass3:\n",
    "    __tablename__ = 't3'\n",
    "    id = Column(Integer, primary_key= True, autoincrement= True)\n",
    "\n",
    "mapper_registery.metadata.create_all(engine)\n",
    "    "
   ]
  },
  {
   "cell_type": "markdown",
   "id": "6cd676ad-ebb7-4e68-8304-6c6da041ab35",
   "metadata": {},
   "source": [
    "<h2>via Table.drop</h2>"
   ]
  },
  {
   "cell_type": "code",
   "execution_count": 45,
   "id": "719d6a7c-925f-4a23-9a5b-5179d6e36e37",
   "metadata": {},
   "outputs": [],
   "source": [
    "from sqlalchemy import MetaData, Table, inspect\n",
    "\n",
    "inspector = inspect(engine)\n",
    "\n",
    "table_lst = inspector.get_table_names()\n",
    "if 't1' in table_lst:\n",
    "    metadata = MetaData()\n",
    "    reflected_t1 = Table('t1',\n",
    "                         metadata,\n",
    "                         autoload_with= engine)\n",
    "    reflected_t1.drop(engine)\n"
   ]
  },
  {
   "cell_type": "markdown",
   "id": "84c4d1e4-9938-4384-80c1-0f1165fce990",
   "metadata": {},
   "source": [
    "<h2>via text api</h2>"
   ]
  },
  {
   "cell_type": "code",
   "execution_count": 48,
   "id": "8ebebdc2-8890-4dea-a8e5-6dfbe308201a",
   "metadata": {},
   "outputs": [],
   "source": [
    "from sqlalchemy import text, inspect\n",
    "\n",
    "inspector = inspect(engine)\n",
    "table_lst = inspector.get_table_names()\n",
    "\n",
    "if 't2' in table_lst:\n",
    "    with engine.connect() as connection:\n",
    "        executable = text('DROP TABLE IF EXISTS t2')\n",
    "        connection.execute(executable)\n",
    "        connection.commit()"
   ]
  },
  {
   "cell_type": "markdown",
   "id": "8e75c502-6b57-4340-82da-89ceb0dccec2",
   "metadata": {},
   "source": [
    "<h1>adding tables from db to metadata</h1>"
   ]
  },
  {
   "cell_type": "code",
   "execution_count": 75,
   "id": "40ae777b-67ef-43a7-89d3-5c8915986d5e",
   "metadata": {},
   "outputs": [],
   "source": [
    "from sqlalchemy import inspect\n",
    "inspector = inspect(engine)\n",
    "table_lst_in_db = inspector.get_table_names()"
   ]
  },
  {
   "cell_type": "code",
   "execution_count": 76,
   "id": "1cdf433c-87a8-44e3-b756-9d2296ed71ff",
   "metadata": {},
   "outputs": [
    {
     "data": {
      "text/plain": [
       "['text_table',\n",
       " 'core_table',\n",
       " 'new_table',\n",
       " 'new_table_2',\n",
       " 't3',\n",
       " 'declaritive_table',\n",
       " 'registery_table',\n",
       " 'core_orm']"
      ]
     },
     "execution_count": 76,
     "metadata": {},
     "output_type": "execute_result"
    }
   ],
   "source": [
    "table_lst_in_db"
   ]
  },
  {
   "cell_type": "code",
   "execution_count": 79,
   "id": "1ce16191-9755-43a1-b47a-5aa3e5fa038d",
   "metadata": {},
   "outputs": [],
   "source": [
    "from sqlalchemy import MetaData\n",
    "metadata = MetaData()\n",
    "table_lst_in_metadata = list(metadata.tables.keys())"
   ]
  },
  {
   "cell_type": "code",
   "execution_count": 80,
   "id": "1f65bc04-aaac-4ab2-9a13-30dd90183342",
   "metadata": {},
   "outputs": [
    {
     "data": {
      "text/plain": [
       "[]"
      ]
     },
     "execution_count": 80,
     "metadata": {},
     "output_type": "execute_result"
    }
   ],
   "source": [
    "table_lst_in_metadata"
   ]
  },
  {
   "cell_type": "code",
   "execution_count": 81,
   "id": "b84ec72d-4681-4f43-8a8e-e60b156cb23c",
   "metadata": {},
   "outputs": [
    {
     "data": {
      "text/plain": [
       "Table('text_table', MetaData(), Column('id', INTEGER(), table=<text_table>, primary_key=True, nullable=False, server_default=DefaultClause(<sqlalchemy.sql.elements.TextClause object at 0x7faf98217b00>, for_update=False)), Column('content', VARCHAR(), table=<text_table>), schema=None)"
      ]
     },
     "execution_count": 81,
     "metadata": {},
     "output_type": "execute_result"
    }
   ],
   "source": [
    "from sqlalchemy import Table\n",
    "Table('t3', metadata, autoload_with=engine)\n",
    "Table('text_table', metadata, autoload_with=engine)"
   ]
  },
  {
   "cell_type": "code",
   "execution_count": 82,
   "id": "19b211dd-e65a-45f6-bc6a-47faf08e3ad6",
   "metadata": {},
   "outputs": [],
   "source": [
    "table_lst_in_metadata = list(metadata.tables.keys())"
   ]
  },
  {
   "cell_type": "code",
   "execution_count": 83,
   "id": "44def171-a79a-4fb8-ad92-53adcd4585c3",
   "metadata": {},
   "outputs": [
    {
     "data": {
      "text/plain": [
       "['t3', 'text_table']"
      ]
     },
     "execution_count": 83,
     "metadata": {},
     "output_type": "execute_result"
    }
   ],
   "source": [
    "table_lst_in_metadata"
   ]
  },
  {
   "cell_type": "markdown",
   "id": "c120f988-6f12-4007-8484-01fca9b85a10",
   "metadata": {},
   "source": [
    "<h1>dropping several tables</h1>"
   ]
  },
  {
   "cell_type": "code",
   "execution_count": 84,
   "id": "7a8f2a78-c385-4bed-848b-e62c4e08ebc8",
   "metadata": {},
   "outputs": [],
   "source": [
    "metadata.drop_all(engine)"
   ]
  },
  {
   "cell_type": "code",
   "execution_count": 87,
   "id": "82e5704b-dbcb-48ad-8954-b1d39fb9e07e",
   "metadata": {},
   "outputs": [],
   "source": [
    "inspector = inspect(engine)\n",
    "table_lst_in_db = inspector.get_table_names()"
   ]
  },
  {
   "cell_type": "code",
   "execution_count": 88,
   "id": "91667aac-b09d-4f06-93f7-923ad7383edc",
   "metadata": {},
   "outputs": [
    {
     "data": {
      "text/plain": [
       "['core_table',\n",
       " 'new_table',\n",
       " 'new_table_2',\n",
       " 'declaritive_table',\n",
       " 'registery_table',\n",
       " 'core_orm']"
      ]
     },
     "execution_count": 88,
     "metadata": {},
     "output_type": "execute_result"
    }
   ],
   "source": [
    "table_lst_in_db"
   ]
  },
  {
   "cell_type": "markdown",
   "id": "18249e47-bce2-4d3d-bfdf-204f31bcafd8",
   "metadata": {},
   "source": [
    "<h1>insert data</h1>"
   ]
  },
  {
   "cell_type": "code",
   "execution_count": 5,
   "id": "3abbff16-c7bd-4773-a065-22d5ddbbbbb8",
   "metadata": {},
   "outputs": [],
   "source": [
    "from sqlalchemy import inspect\n",
    "inspector = inspect(engine)"
   ]
  },
  {
   "cell_type": "code",
   "execution_count": 8,
   "id": "4c8bf742-63c5-4414-aea7-91ed8d2b2654",
   "metadata": {},
   "outputs": [
    {
     "data": {
      "text/plain": [
       "['core_table',\n",
       " 'new_table',\n",
       " 'new_table_2',\n",
       " 'declaritive_table',\n",
       " 'registery_table',\n",
       " 'core_orm']"
      ]
     },
     "execution_count": 8,
     "metadata": {},
     "output_type": "execute_result"
    }
   ],
   "source": [
    "inspector.get_table_names()"
   ]
  },
  {
   "cell_type": "markdown",
   "id": "c8697032-4f04-4055-9f3d-8fead0aa5eb5",
   "metadata": {},
   "source": [
    "<h2>via text</h2>"
   ]
  },
  {
   "cell_type": "raw",
   "id": "16f76c53-4f3d-4258-8f66-cc432450ec3d",
   "metadata": {},
   "source": [
    "Insert INTO table_name (column_name,) VALUES (values)\n",
    ".execute(executable)\n",
    "\n",
    "Insert INTO table_name (column_name,) VALUES (:column_name,)\n",
    "values_dict = {column_name : value}\n",
    ".execute(executable. values_dict)"
   ]
  },
  {
   "cell_type": "code",
   "execution_count": 34,
   "id": "418242ac-aafd-4ef5-8870-7774fbc66989",
   "metadata": {},
   "outputs": [],
   "source": [
    "from sqlalchemy import text\n",
    "from sqlalchemy.orm import Session\n",
    "\n",
    "executable = text('INSERT INTO core_orm (content) VALUES (:content)')\n",
    "values_dict = {'content':'noura'}\n",
    "\n",
    "with Session(engine) as session:\n",
    "    session.execute(executable, values_dict)\n",
    "    session.commit()"
   ]
  },
  {
   "cell_type": "code",
   "execution_count": 11,
   "id": "4e50a35b-4bf5-46ae-b092-d09e5218c01e",
   "metadata": {},
   "outputs": [],
   "source": [
    "from sqlalchemy import text\n",
    "\n",
    "with engine.connect() as connection:\n",
    "    executable = text('INSERT INTO core_orm (content) VALUES (:content)')\n",
    "    connection.execute(executable, {'content':'nima'})\n",
    "    connection.commit()"
   ]
  },
  {
   "cell_type": "code",
   "execution_count": 30,
   "id": "f765bfde-96ff-41e8-9ef8-9e2d5fbf6b64",
   "metadata": {},
   "outputs": [],
   "source": [
    "from sqlalchemy import text\n",
    "\n",
    "with engine.connect() as connection:\n",
    "    executable = text(\"INSERT INTO core_orm (content) VALUES ('nick')\")\n",
    "    connection.execute(executable)\n",
    "    connection.commit()"
   ]
  },
  {
   "cell_type": "code",
   "execution_count": 32,
   "id": "b6c6eec7-9492-40ee-a99e-9a49b390d8ad",
   "metadata": {},
   "outputs": [
    {
     "ename": "ProgrammingError",
     "evalue": "(psycopg2.errors.UndefinedColumn) column \"noura\" does not exist\nLINE 1: INSERT INTO core_orm (content) VALUES (noura)\n                                               ^\n\n[SQL: INSERT INTO core_orm (content) VALUES (noura)]\n(Background on this error at: https://sqlalche.me/e/20/f405)",
     "output_type": "error",
     "traceback": [
      "\u001b[31m---------------------------------------------------------------------------\u001b[39m",
      "\u001b[31mUndefinedColumn\u001b[39m                           Traceback (most recent call last)",
      "\u001b[36mFile \u001b[39m\u001b[32m~/.local/lib/python3.12/site-packages/sqlalchemy/engine/base.py:1964\u001b[39m, in \u001b[36mConnection._exec_single_context\u001b[39m\u001b[34m(self, dialect, context, statement, parameters)\u001b[39m\n\u001b[32m   1963\u001b[39m     \u001b[38;5;28;01mif\u001b[39;00m \u001b[38;5;129;01mnot\u001b[39;00m evt_handled:\n\u001b[32m-> \u001b[39m\u001b[32m1964\u001b[39m         \u001b[38;5;28;43mself\u001b[39;49m\u001b[43m.\u001b[49m\u001b[43mdialect\u001b[49m\u001b[43m.\u001b[49m\u001b[43mdo_execute\u001b[49m\u001b[43m(\u001b[49m\n\u001b[32m   1965\u001b[39m \u001b[43m            \u001b[49m\u001b[43mcursor\u001b[49m\u001b[43m,\u001b[49m\u001b[43m \u001b[49m\u001b[43mstr_statement\u001b[49m\u001b[43m,\u001b[49m\u001b[43m \u001b[49m\u001b[43meffective_parameters\u001b[49m\u001b[43m,\u001b[49m\u001b[43m \u001b[49m\u001b[43mcontext\u001b[49m\n\u001b[32m   1966\u001b[39m \u001b[43m        \u001b[49m\u001b[43m)\u001b[49m\n\u001b[32m   1968\u001b[39m \u001b[38;5;28;01mif\u001b[39;00m \u001b[38;5;28mself\u001b[39m._has_events \u001b[38;5;129;01mor\u001b[39;00m \u001b[38;5;28mself\u001b[39m.engine._has_events:\n",
      "\u001b[36mFile \u001b[39m\u001b[32m~/.local/lib/python3.12/site-packages/sqlalchemy/engine/default.py:945\u001b[39m, in \u001b[36mDefaultDialect.do_execute\u001b[39m\u001b[34m(self, cursor, statement, parameters, context)\u001b[39m\n\u001b[32m    944\u001b[39m \u001b[38;5;28;01mdef\u001b[39;00m\u001b[38;5;250m \u001b[39m\u001b[34mdo_execute\u001b[39m(\u001b[38;5;28mself\u001b[39m, cursor, statement, parameters, context=\u001b[38;5;28;01mNone\u001b[39;00m):\n\u001b[32m--> \u001b[39m\u001b[32m945\u001b[39m     \u001b[43mcursor\u001b[49m\u001b[43m.\u001b[49m\u001b[43mexecute\u001b[49m\u001b[43m(\u001b[49m\u001b[43mstatement\u001b[49m\u001b[43m,\u001b[49m\u001b[43m \u001b[49m\u001b[43mparameters\u001b[49m\u001b[43m)\u001b[49m\n",
      "\u001b[31mUndefinedColumn\u001b[39m: column \"noura\" does not exist\nLINE 1: INSERT INTO core_orm (content) VALUES (noura)\n                                               ^\n",
      "\nThe above exception was the direct cause of the following exception:\n",
      "\u001b[31mProgrammingError\u001b[39m                          Traceback (most recent call last)",
      "\u001b[36mCell\u001b[39m\u001b[36m \u001b[39m\u001b[32mIn[32]\u001b[39m\u001b[32m, line 5\u001b[39m\n\u001b[32m      3\u001b[39m \u001b[38;5;28;01mwith\u001b[39;00m engine.connect() \u001b[38;5;28;01mas\u001b[39;00m connection:\n\u001b[32m      4\u001b[39m     executable = text(\u001b[33m\"\u001b[39m\u001b[33mINSERT INTO core_orm (content) VALUES (noura)\u001b[39m\u001b[33m\"\u001b[39m)\n\u001b[32m----> \u001b[39m\u001b[32m5\u001b[39m     \u001b[43mconnection\u001b[49m\u001b[43m.\u001b[49m\u001b[43mexecute\u001b[49m\u001b[43m(\u001b[49m\u001b[43mexecutable\u001b[49m\u001b[43m)\u001b[49m\n\u001b[32m      6\u001b[39m     connection.commit()\n",
      "\u001b[36mFile \u001b[39m\u001b[32m~/.local/lib/python3.12/site-packages/sqlalchemy/engine/base.py:1416\u001b[39m, in \u001b[36mConnection.execute\u001b[39m\u001b[34m(self, statement, parameters, execution_options)\u001b[39m\n\u001b[32m   1414\u001b[39m     \u001b[38;5;28;01mraise\u001b[39;00m exc.ObjectNotExecutableError(statement) \u001b[38;5;28;01mfrom\u001b[39;00m\u001b[38;5;250m \u001b[39m\u001b[34;01merr\u001b[39;00m\n\u001b[32m   1415\u001b[39m \u001b[38;5;28;01melse\u001b[39;00m:\n\u001b[32m-> \u001b[39m\u001b[32m1416\u001b[39m     \u001b[38;5;28;01mreturn\u001b[39;00m \u001b[43mmeth\u001b[49m\u001b[43m(\u001b[49m\n\u001b[32m   1417\u001b[39m \u001b[43m        \u001b[49m\u001b[38;5;28;43mself\u001b[39;49m\u001b[43m,\u001b[49m\n\u001b[32m   1418\u001b[39m \u001b[43m        \u001b[49m\u001b[43mdistilled_parameters\u001b[49m\u001b[43m,\u001b[49m\n\u001b[32m   1419\u001b[39m \u001b[43m        \u001b[49m\u001b[43mexecution_options\u001b[49m\u001b[43m \u001b[49m\u001b[38;5;129;43;01mor\u001b[39;49;00m\u001b[43m \u001b[49m\u001b[43mNO_OPTIONS\u001b[49m\u001b[43m,\u001b[49m\n\u001b[32m   1420\u001b[39m \u001b[43m    \u001b[49m\u001b[43m)\u001b[49m\n",
      "\u001b[36mFile \u001b[39m\u001b[32m~/.local/lib/python3.12/site-packages/sqlalchemy/sql/elements.py:523\u001b[39m, in \u001b[36mClauseElement._execute_on_connection\u001b[39m\u001b[34m(self, connection, distilled_params, execution_options)\u001b[39m\n\u001b[32m    521\u001b[39m     \u001b[38;5;28;01mif\u001b[39;00m TYPE_CHECKING:\n\u001b[32m    522\u001b[39m         \u001b[38;5;28;01massert\u001b[39;00m \u001b[38;5;28misinstance\u001b[39m(\u001b[38;5;28mself\u001b[39m, Executable)\n\u001b[32m--> \u001b[39m\u001b[32m523\u001b[39m     \u001b[38;5;28;01mreturn\u001b[39;00m \u001b[43mconnection\u001b[49m\u001b[43m.\u001b[49m\u001b[43m_execute_clauseelement\u001b[49m\u001b[43m(\u001b[49m\n\u001b[32m    524\u001b[39m \u001b[43m        \u001b[49m\u001b[38;5;28;43mself\u001b[39;49m\u001b[43m,\u001b[49m\u001b[43m \u001b[49m\u001b[43mdistilled_params\u001b[49m\u001b[43m,\u001b[49m\u001b[43m \u001b[49m\u001b[43mexecution_options\u001b[49m\n\u001b[32m    525\u001b[39m \u001b[43m    \u001b[49m\u001b[43m)\u001b[49m\n\u001b[32m    526\u001b[39m \u001b[38;5;28;01melse\u001b[39;00m:\n\u001b[32m    527\u001b[39m     \u001b[38;5;28;01mraise\u001b[39;00m exc.ObjectNotExecutableError(\u001b[38;5;28mself\u001b[39m)\n",
      "\u001b[36mFile \u001b[39m\u001b[32m~/.local/lib/python3.12/site-packages/sqlalchemy/engine/base.py:1638\u001b[39m, in \u001b[36mConnection._execute_clauseelement\u001b[39m\u001b[34m(self, elem, distilled_parameters, execution_options)\u001b[39m\n\u001b[32m   1626\u001b[39m compiled_cache: Optional[CompiledCacheType] = execution_options.get(\n\u001b[32m   1627\u001b[39m     \u001b[33m\"\u001b[39m\u001b[33mcompiled_cache\u001b[39m\u001b[33m\"\u001b[39m, \u001b[38;5;28mself\u001b[39m.engine._compiled_cache\n\u001b[32m   1628\u001b[39m )\n\u001b[32m   1630\u001b[39m compiled_sql, extracted_params, cache_hit = elem._compile_w_cache(\n\u001b[32m   1631\u001b[39m     dialect=dialect,\n\u001b[32m   1632\u001b[39m     compiled_cache=compiled_cache,\n\u001b[32m   (...)\u001b[39m\u001b[32m   1636\u001b[39m     linting=\u001b[38;5;28mself\u001b[39m.dialect.compiler_linting | compiler.WARN_LINTING,\n\u001b[32m   1637\u001b[39m )\n\u001b[32m-> \u001b[39m\u001b[32m1638\u001b[39m ret = \u001b[38;5;28;43mself\u001b[39;49m\u001b[43m.\u001b[49m\u001b[43m_execute_context\u001b[49m\u001b[43m(\u001b[49m\n\u001b[32m   1639\u001b[39m \u001b[43m    \u001b[49m\u001b[43mdialect\u001b[49m\u001b[43m,\u001b[49m\n\u001b[32m   1640\u001b[39m \u001b[43m    \u001b[49m\u001b[43mdialect\u001b[49m\u001b[43m.\u001b[49m\u001b[43mexecution_ctx_cls\u001b[49m\u001b[43m.\u001b[49m\u001b[43m_init_compiled\u001b[49m\u001b[43m,\u001b[49m\n\u001b[32m   1641\u001b[39m \u001b[43m    \u001b[49m\u001b[43mcompiled_sql\u001b[49m\u001b[43m,\u001b[49m\n\u001b[32m   1642\u001b[39m \u001b[43m    \u001b[49m\u001b[43mdistilled_parameters\u001b[49m\u001b[43m,\u001b[49m\n\u001b[32m   1643\u001b[39m \u001b[43m    \u001b[49m\u001b[43mexecution_options\u001b[49m\u001b[43m,\u001b[49m\n\u001b[32m   1644\u001b[39m \u001b[43m    \u001b[49m\u001b[43mcompiled_sql\u001b[49m\u001b[43m,\u001b[49m\n\u001b[32m   1645\u001b[39m \u001b[43m    \u001b[49m\u001b[43mdistilled_parameters\u001b[49m\u001b[43m,\u001b[49m\n\u001b[32m   1646\u001b[39m \u001b[43m    \u001b[49m\u001b[43melem\u001b[49m\u001b[43m,\u001b[49m\n\u001b[32m   1647\u001b[39m \u001b[43m    \u001b[49m\u001b[43mextracted_params\u001b[49m\u001b[43m,\u001b[49m\n\u001b[32m   1648\u001b[39m \u001b[43m    \u001b[49m\u001b[43mcache_hit\u001b[49m\u001b[43m=\u001b[49m\u001b[43mcache_hit\u001b[49m\u001b[43m,\u001b[49m\n\u001b[32m   1649\u001b[39m \u001b[43m\u001b[49m\u001b[43m)\u001b[49m\n\u001b[32m   1650\u001b[39m \u001b[38;5;28;01mif\u001b[39;00m has_events:\n\u001b[32m   1651\u001b[39m     \u001b[38;5;28mself\u001b[39m.dispatch.after_execute(\n\u001b[32m   1652\u001b[39m         \u001b[38;5;28mself\u001b[39m,\n\u001b[32m   1653\u001b[39m         elem,\n\u001b[32m   (...)\u001b[39m\u001b[32m   1657\u001b[39m         ret,\n\u001b[32m   1658\u001b[39m     )\n",
      "\u001b[36mFile \u001b[39m\u001b[32m~/.local/lib/python3.12/site-packages/sqlalchemy/engine/base.py:1843\u001b[39m, in \u001b[36mConnection._execute_context\u001b[39m\u001b[34m(self, dialect, constructor, statement, parameters, execution_options, *args, **kw)\u001b[39m\n\u001b[32m   1841\u001b[39m     \u001b[38;5;28;01mreturn\u001b[39;00m \u001b[38;5;28mself\u001b[39m._exec_insertmany_context(dialect, context)\n\u001b[32m   1842\u001b[39m \u001b[38;5;28;01melse\u001b[39;00m:\n\u001b[32m-> \u001b[39m\u001b[32m1843\u001b[39m     \u001b[38;5;28;01mreturn\u001b[39;00m \u001b[38;5;28;43mself\u001b[39;49m\u001b[43m.\u001b[49m\u001b[43m_exec_single_context\u001b[49m\u001b[43m(\u001b[49m\n\u001b[32m   1844\u001b[39m \u001b[43m        \u001b[49m\u001b[43mdialect\u001b[49m\u001b[43m,\u001b[49m\u001b[43m \u001b[49m\u001b[43mcontext\u001b[49m\u001b[43m,\u001b[49m\u001b[43m \u001b[49m\u001b[43mstatement\u001b[49m\u001b[43m,\u001b[49m\u001b[43m \u001b[49m\u001b[43mparameters\u001b[49m\n\u001b[32m   1845\u001b[39m \u001b[43m    \u001b[49m\u001b[43m)\u001b[49m\n",
      "\u001b[36mFile \u001b[39m\u001b[32m~/.local/lib/python3.12/site-packages/sqlalchemy/engine/base.py:1983\u001b[39m, in \u001b[36mConnection._exec_single_context\u001b[39m\u001b[34m(self, dialect, context, statement, parameters)\u001b[39m\n\u001b[32m   1980\u001b[39m     result = context._setup_result_proxy()\n\u001b[32m   1982\u001b[39m \u001b[38;5;28;01mexcept\u001b[39;00m \u001b[38;5;167;01mBaseException\u001b[39;00m \u001b[38;5;28;01mas\u001b[39;00m e:\n\u001b[32m-> \u001b[39m\u001b[32m1983\u001b[39m     \u001b[38;5;28;43mself\u001b[39;49m\u001b[43m.\u001b[49m\u001b[43m_handle_dbapi_exception\u001b[49m\u001b[43m(\u001b[49m\n\u001b[32m   1984\u001b[39m \u001b[43m        \u001b[49m\u001b[43me\u001b[49m\u001b[43m,\u001b[49m\u001b[43m \u001b[49m\u001b[43mstr_statement\u001b[49m\u001b[43m,\u001b[49m\u001b[43m \u001b[49m\u001b[43meffective_parameters\u001b[49m\u001b[43m,\u001b[49m\u001b[43m \u001b[49m\u001b[43mcursor\u001b[49m\u001b[43m,\u001b[49m\u001b[43m \u001b[49m\u001b[43mcontext\u001b[49m\n\u001b[32m   1985\u001b[39m \u001b[43m    \u001b[49m\u001b[43m)\u001b[49m\n\u001b[32m   1987\u001b[39m \u001b[38;5;28;01mreturn\u001b[39;00m result\n",
      "\u001b[36mFile \u001b[39m\u001b[32m~/.local/lib/python3.12/site-packages/sqlalchemy/engine/base.py:2352\u001b[39m, in \u001b[36mConnection._handle_dbapi_exception\u001b[39m\u001b[34m(self, e, statement, parameters, cursor, context, is_sub_exec)\u001b[39m\n\u001b[32m   2350\u001b[39m \u001b[38;5;28;01melif\u001b[39;00m should_wrap:\n\u001b[32m   2351\u001b[39m     \u001b[38;5;28;01massert\u001b[39;00m sqlalchemy_exception \u001b[38;5;129;01mis\u001b[39;00m \u001b[38;5;129;01mnot\u001b[39;00m \u001b[38;5;28;01mNone\u001b[39;00m\n\u001b[32m-> \u001b[39m\u001b[32m2352\u001b[39m     \u001b[38;5;28;01mraise\u001b[39;00m sqlalchemy_exception.with_traceback(exc_info[\u001b[32m2\u001b[39m]) \u001b[38;5;28;01mfrom\u001b[39;00m\u001b[38;5;250m \u001b[39m\u001b[34;01me\u001b[39;00m\n\u001b[32m   2353\u001b[39m \u001b[38;5;28;01melse\u001b[39;00m:\n\u001b[32m   2354\u001b[39m     \u001b[38;5;28;01massert\u001b[39;00m exc_info[\u001b[32m1\u001b[39m] \u001b[38;5;129;01mis\u001b[39;00m \u001b[38;5;129;01mnot\u001b[39;00m \u001b[38;5;28;01mNone\u001b[39;00m\n",
      "\u001b[36mFile \u001b[39m\u001b[32m~/.local/lib/python3.12/site-packages/sqlalchemy/engine/base.py:1964\u001b[39m, in \u001b[36mConnection._exec_single_context\u001b[39m\u001b[34m(self, dialect, context, statement, parameters)\u001b[39m\n\u001b[32m   1962\u001b[39m                 \u001b[38;5;28;01mbreak\u001b[39;00m\n\u001b[32m   1963\u001b[39m     \u001b[38;5;28;01mif\u001b[39;00m \u001b[38;5;129;01mnot\u001b[39;00m evt_handled:\n\u001b[32m-> \u001b[39m\u001b[32m1964\u001b[39m         \u001b[38;5;28;43mself\u001b[39;49m\u001b[43m.\u001b[49m\u001b[43mdialect\u001b[49m\u001b[43m.\u001b[49m\u001b[43mdo_execute\u001b[49m\u001b[43m(\u001b[49m\n\u001b[32m   1965\u001b[39m \u001b[43m            \u001b[49m\u001b[43mcursor\u001b[49m\u001b[43m,\u001b[49m\u001b[43m \u001b[49m\u001b[43mstr_statement\u001b[49m\u001b[43m,\u001b[49m\u001b[43m \u001b[49m\u001b[43meffective_parameters\u001b[49m\u001b[43m,\u001b[49m\u001b[43m \u001b[49m\u001b[43mcontext\u001b[49m\n\u001b[32m   1966\u001b[39m \u001b[43m        \u001b[49m\u001b[43m)\u001b[49m\n\u001b[32m   1968\u001b[39m \u001b[38;5;28;01mif\u001b[39;00m \u001b[38;5;28mself\u001b[39m._has_events \u001b[38;5;129;01mor\u001b[39;00m \u001b[38;5;28mself\u001b[39m.engine._has_events:\n\u001b[32m   1969\u001b[39m     \u001b[38;5;28mself\u001b[39m.dispatch.after_cursor_execute(\n\u001b[32m   1970\u001b[39m         \u001b[38;5;28mself\u001b[39m,\n\u001b[32m   1971\u001b[39m         cursor,\n\u001b[32m   (...)\u001b[39m\u001b[32m   1975\u001b[39m         context.executemany,\n\u001b[32m   1976\u001b[39m     )\n",
      "\u001b[36mFile \u001b[39m\u001b[32m~/.local/lib/python3.12/site-packages/sqlalchemy/engine/default.py:945\u001b[39m, in \u001b[36mDefaultDialect.do_execute\u001b[39m\u001b[34m(self, cursor, statement, parameters, context)\u001b[39m\n\u001b[32m    944\u001b[39m \u001b[38;5;28;01mdef\u001b[39;00m\u001b[38;5;250m \u001b[39m\u001b[34mdo_execute\u001b[39m(\u001b[38;5;28mself\u001b[39m, cursor, statement, parameters, context=\u001b[38;5;28;01mNone\u001b[39;00m):\n\u001b[32m--> \u001b[39m\u001b[32m945\u001b[39m     \u001b[43mcursor\u001b[49m\u001b[43m.\u001b[49m\u001b[43mexecute\u001b[49m\u001b[43m(\u001b[49m\u001b[43mstatement\u001b[49m\u001b[43m,\u001b[49m\u001b[43m \u001b[49m\u001b[43mparameters\u001b[49m\u001b[43m)\u001b[49m\n",
      "\u001b[31mProgrammingError\u001b[39m: (psycopg2.errors.UndefinedColumn) column \"noura\" does not exist\nLINE 1: INSERT INTO core_orm (content) VALUES (noura)\n                                               ^\n\n[SQL: INSERT INTO core_orm (content) VALUES (noura)]\n(Background on this error at: https://sqlalche.me/e/20/f405)"
     ]
    }
   ],
   "source": [
    "from sqlalchemy import text\n",
    "\n",
    "with engine.connect() as connection:\n",
    "    executable = text(\"INSERT INTO core_orm (content) VALUES (noura)\")\n",
    "    connection.execute(executable)\n",
    "    connection.commit()"
   ]
  },
  {
   "cell_type": "markdown",
   "id": "d2afbc6b-3bd3-4dfd-8673-91286ca287ee",
   "metadata": {},
   "source": [
    "<h2>via core</h2>"
   ]
  },
  {
   "cell_type": "code",
   "execution_count": 14,
   "id": "b26a6e07-bbe4-4596-bf0a-6a796ed1fed4",
   "metadata": {},
   "outputs": [],
   "source": [
    "from sqlalchemy import Table, MetaData, insert\n",
    "\n",
    "metadata = MetaData()\n",
    "table_obj = Table('core_orm', metadata, autoload_with=engine)\n",
    "\n",
    "with engine.connect() as connection:\n",
    "    executable = insert(table_obj).values(content='banafsheh')\n",
    "    connection.execute(executable)\n",
    "    connection.commit()"
   ]
  },
  {
   "cell_type": "markdown",
   "id": "dc5eb7a7-890f-4f8e-bac7-e79f4dacc4c7",
   "metadata": {},
   "source": [
    "<h2>via orm</h2>"
   ]
  },
  {
   "cell_type": "code",
   "execution_count": 17,
   "id": "1580a228-f878-4dca-9873-bb5286ba82c1",
   "metadata": {},
   "outputs": [],
   "source": [
    "from sqlalchemy.orm import registry, Session\n",
    "\n",
    "reg = registry()\n",
    "\n",
    "@reg.mapped\n",
    "class OrmClass:\n",
    "    __table__ = table_obj\n",
    "\n",
    "row = OrmClass(content = 'asal')\n",
    "with Session(engine) as session:\n",
    "    session.add(row)\n",
    "    session.commit()"
   ]
  },
  {
   "cell_type": "markdown",
   "id": "aa555d84-776a-4d3f-a7c4-338926e945d3",
   "metadata": {},
   "source": [
    "<h1>select query</h1>"
   ]
  },
  {
   "cell_type": "raw",
   "id": "df56829e-7498-46f7-b8ae-e761ddee12b5",
   "metadata": {},
   "source": [
    "raw -> SELECT * FROM table_name\n",
    "core expr -> select(table)\n",
    "orm -> select(class)"
   ]
  },
  {
   "cell_type": "raw",
   "id": "f641e604-8f28-4ad8-b44b-23522f07e95c",
   "metadata": {},
   "source": [
    "raw -> SELECT column_name FROM table_name\n",
    "core expr -> select(table.c.column_name)\n",
    "orm -> select(class.column_name)"
   ]
  },
  {
   "cell_type": "raw",
   "id": "19c87c67-c91a-4b06-8da0-134d0137f8ac",
   "metadata": {},
   "source": [
    "raw -> SELECT c1, c2 FROM table_name\n",
    "core expr -> select(table.c.c1, table.c.c2)\n",
    "orm -> select(class.c1, class.c2)"
   ]
  },
  {
   "cell_type": "code",
   "execution_count": 34,
   "id": "83b0411e-cb1a-468f-8d17-e9440b98038b",
   "metadata": {},
   "outputs": [],
   "source": [
    "from sqlalchemy import select"
   ]
  },
  {
   "cell_type": "markdown",
   "id": "1eb131c9-d53f-4489-bcb7-63e347eb449e",
   "metadata": {},
   "source": [
    "<h2>via text</h2>"
   ]
  },
  {
   "cell_type": "code",
   "execution_count": 22,
   "id": "9199d06d-1b64-4b21-a16c-622dba199fe4",
   "metadata": {},
   "outputs": [
    {
     "data": {
      "text/plain": [
       "[(1, 'nima'), (2, 'banafsheh'), (3, 'asal')]"
      ]
     },
     "execution_count": 22,
     "metadata": {},
     "output_type": "execute_result"
    }
   ],
   "source": [
    "executable = text('SELECT * FROM core_orm')\n",
    "with Session(engine) as session:\n",
    "    result = session.execute(executable)\n",
    "    row_lst = result.fetchall()\n",
    "row_lst"
   ]
  },
  {
   "cell_type": "markdown",
   "id": "e365ae25-1793-4399-97f5-f0e7c8f29982",
   "metadata": {},
   "source": [
    "<h2>via core</h2>"
   ]
  },
  {
   "cell_type": "code",
   "execution_count": 33,
   "id": "d8ef4839-3129-4171-8b97-dd072e669e79",
   "metadata": {},
   "outputs": [
    {
     "data": {
      "text/plain": [
       "[(1, 'nima'), (2, 'banafsheh'), (3, 'asal')]"
      ]
     },
     "execution_count": 33,
     "metadata": {},
     "output_type": "execute_result"
    }
   ],
   "source": [
    "executable = select(table_obj)\n",
    "with Session(engine) as session:\n",
    "    result = session.execute(executable)\n",
    "    row_lst = result.fetchall()\n",
    "row_lst"
   ]
  },
  {
   "cell_type": "markdown",
   "id": "147be621-0e6d-40f6-a0ec-f5effffc5d7b",
   "metadata": {},
   "source": [
    "<h2>via orm</h2>"
   ]
  },
  {
   "cell_type": "code",
   "execution_count": 30,
   "id": "3e60cf30-ecf2-4a59-9519-188a395ffafb",
   "metadata": {},
   "outputs": [
    {
     "data": {
      "text/plain": [
       "['nima', 'banafsheh', 'asal']"
      ]
     },
     "execution_count": 30,
     "metadata": {},
     "output_type": "execute_result"
    }
   ],
   "source": [
    "executable = select(OrmClass)\n",
    "with Session(engine) as session:\n",
    "    result = session.scalars(executable)\n",
    "    obj_lst = result.all()\n",
    "[obj.content for obj in obj_lst]"
   ]
  },
  {
   "cell_type": "markdown",
   "id": "6791fba9-3c5e-45ec-b429-c45002d39e3e",
   "metadata": {},
   "source": [
    "<h1>select where query</h1>"
   ]
  },
  {
   "cell_type": "code",
   "execution_count": 10,
   "id": "167d6d83-4819-40dd-b9c2-56e2f855c11a",
   "metadata": {},
   "outputs": [],
   "source": [
    "from sqlalchemy.ext.automap import automap_base\n",
    "from sqlalchemy import text, select\n",
    "from sqlalchemy.orm import Session\n",
    "\n",
    "Base = automap_base()\n",
    "Base.prepare(autoload_with=engine)\n",
    "C = Base.classes.core_orm\n",
    "C.__repr__ = lambda self:f'id={self.id}, content={self.content}'\n",
    "t = C.__table__\n",
    "\n",
    "def exec_stm (stm, value_dict=None):\n",
    "    with Session(engine) as session:\n",
    "        if value_dict:\n",
    "            return print(session.execute(stm,value_dict).mappings().all())\n",
    "        return print(session.execute(stm).mappings().all())\n"
   ]
  },
  {
   "cell_type": "markdown",
   "id": "abb91507-0f62-45ca-b324-8a5e73b0af67",
   "metadata": {},
   "source": [
    "<h2>via text</h2>"
   ]
  },
  {
   "cell_type": "code",
   "execution_count": 15,
   "id": "149e47b3-377d-435f-99d8-e4d195bb5e3f",
   "metadata": {},
   "outputs": [
    {
     "name": "stdout",
     "output_type": "stream",
     "text": [
      "[{'id': 1, 'content': 'nima'}]\n"
     ]
    }
   ],
   "source": [
    "stm = text(\"SELECT * FROM core_orm WHERE id = :value\")\n",
    "value_dict = {'value': 1}\n",
    "exec_stm(stm,value_dict)"
   ]
  },
  {
   "cell_type": "code",
   "execution_count": 19,
   "id": "666513f9-0576-4e8f-ae64-c67e1bea67ad",
   "metadata": {},
   "outputs": [
    {
     "name": "stdout",
     "output_type": "stream",
     "text": [
      "[{'id': 1, 'content': 'nima'}, {'id': 2, 'content': 'banafsheh'}, {'id': 7, 'content': 'banafsheh'}]\n"
     ]
    }
   ],
   "source": [
    "stm = text(\"SELECT * FROM core_orm WHERE id = :value1 OR content = :value2\")\n",
    "value_dict = {'value1': 1, 'value2' : 'banafsheh'}\n",
    "exec_stm(stm,value_dict)"
   ]
  },
  {
   "cell_type": "code",
   "execution_count": 42,
   "id": "34975384-cbea-4997-91df-3d98166760bc",
   "metadata": {},
   "outputs": [
    {
     "data": {
      "text/plain": [
       "[('nima',), ('banafsheh',)]"
      ]
     },
     "execution_count": 42,
     "metadata": {},
     "output_type": "execute_result"
    }
   ],
   "source": [
    "executable = text('SELECT content FROM core_orm WHERE id < 3')\n",
    "with Session(engine) as session:\n",
    "    result = session.execute(executable)\n",
    "    row_lst = result.fetchall()\n",
    "row_lst"
   ]
  },
  {
   "cell_type": "markdown",
   "id": "6ac56f35-6199-4f2c-9aff-e7039e967b8e",
   "metadata": {},
   "source": [
    "<h2>via core</h2>"
   ]
  },
  {
   "cell_type": "code",
   "execution_count": 16,
   "id": "882c10b9-0afc-4e94-b2e0-13588d3d442f",
   "metadata": {},
   "outputs": [
    {
     "name": "stdout",
     "output_type": "stream",
     "text": [
      "[{'id': 1, 'content': 'nima'}]\n"
     ]
    }
   ],
   "source": [
    "stm = select(t).where(t.c.id == 1)\n",
    "exec_stm(stm)"
   ]
  },
  {
   "cell_type": "code",
   "execution_count": 22,
   "id": "1857fe26-18de-4552-a173-e8c80def1e14",
   "metadata": {},
   "outputs": [
    {
     "name": "stdout",
     "output_type": "stream",
     "text": [
      "[{'id': 1, 'content': 'nima'}, {'id': 2, 'content': 'banafsheh'}, {'id': 7, 'content': 'banafsheh'}]\n"
     ]
    }
   ],
   "source": [
    "from sqlalchemy import or_\n",
    "stm = select(t).where(or_(t.c.id == 1, t.c.content == 'banafsheh'))\n",
    "exec_stm(stm)"
   ]
  },
  {
   "cell_type": "code",
   "execution_count": 43,
   "id": "f13b1125-e65d-47a8-9b38-4cc4327e5c22",
   "metadata": {},
   "outputs": [
    {
     "data": {
      "text/plain": [
       "[('nima',), ('banafsheh',)]"
      ]
     },
     "execution_count": 43,
     "metadata": {},
     "output_type": "execute_result"
    }
   ],
   "source": [
    "executable = select(table_obj.c.content).where(table_obj.c.id < 3)\n",
    "with Session(engine) as session:\n",
    "    result = session.execute(executable)\n",
    "    row_lst = result.fetchall()\n",
    "row_lst"
   ]
  },
  {
   "cell_type": "markdown",
   "id": "547027b6-a7b3-482f-93e1-a55b38d23dfb",
   "metadata": {},
   "source": [
    "<h2>via orm</h2>"
   ]
  },
  {
   "cell_type": "code",
   "execution_count": 18,
   "id": "d2e7cc0c-4746-494f-9e3c-7e519417cc3f",
   "metadata": {},
   "outputs": [
    {
     "name": "stdout",
     "output_type": "stream",
     "text": [
      "[{'core_orm': id=1, content=nima}]\n"
     ]
    }
   ],
   "source": [
    "stm = select(C).where(C.id == 1)\n",
    "exec_stm(stm)"
   ]
  },
  {
   "cell_type": "code",
   "execution_count": 23,
   "id": "7c17d28c-d909-441d-bb2c-37fb584aec3f",
   "metadata": {},
   "outputs": [
    {
     "name": "stdout",
     "output_type": "stream",
     "text": [
      "[{'core_orm': id=1, content=nima}, {'core_orm': id=2, content=banafsheh}, {'core_orm': id=7, content=banafsheh}]\n"
     ]
    }
   ],
   "source": [
    "stm = select(C).where(or_(C.id == 1, C.content == 'banafsheh'))\n",
    "exec_stm(stm)"
   ]
  },
  {
   "cell_type": "code",
   "execution_count": 44,
   "id": "9a8c60af-5429-40e1-a714-1a6926af5e5e",
   "metadata": {},
   "outputs": [
    {
     "data": {
      "text/plain": [
       "['nima', 'banafsheh']"
      ]
     },
     "execution_count": 44,
     "metadata": {},
     "output_type": "execute_result"
    }
   ],
   "source": [
    "executable = select(OrmClass.content).where(OrmClass.id < 3)\n",
    "with Session(engine) as session:\n",
    "    result = session.scalars(executable)\n",
    "    obj_lst = result.all()\n",
    "[obj for obj in obj_lst]"
   ]
  },
  {
   "cell_type": "markdown",
   "id": "ea11e306-6c11-42a5-9dac-27412753eff0",
   "metadata": {},
   "source": [
    "<h1>print table by orm</h1> "
   ]
  },
  {
   "cell_type": "code",
   "execution_count": 3,
   "id": "405b9d44-62bd-4afe-a5dc-00ffea83eea8",
   "metadata": {},
   "outputs": [],
   "source": [
    "from sqlalchemy import MetaData, Table\n",
    "from sqlalchemy.orm import registry\n",
    "\n",
    "metadata = MetaData()\n",
    "table = Table('core_orm', metadata, autoload_with=engine)\n",
    "\n",
    "reg = registry(metadata=metadata)\n",
    "\n",
    "@reg.mapped\n",
    "class OClass:\n",
    "    __table__ = table\n",
    "    def __repr__(self):\n",
    "        return f'id={self.id}, content={self.content}'\n",
    "    "
   ]
  },
  {
   "cell_type": "code",
   "execution_count": 19,
   "id": "44981bdb-a024-4fa8-b2de-fb73d07814ec",
   "metadata": {},
   "outputs": [],
   "source": [
    "from sqlalchemy import Select\n",
    "from sqlalchemy.orm import Session\n",
    "\n",
    "def print_table():\n",
    "    executable = Select(OClass)\n",
    "    with Session(engine) as session:\n",
    "        result = session.scalars(executable)\n",
    "        obj_list = result.all()\n",
    "    print(obj_list)"
   ]
  },
  {
   "cell_type": "code",
   "execution_count": 20,
   "id": "28c9fcf9-a3ba-48b9-a314-0ce0902ae624",
   "metadata": {},
   "outputs": [
    {
     "name": "stdout",
     "output_type": "stream",
     "text": [
      "[id=1, content=nima, id=2, content=banafsheh, id=3, content=asal, id=4, content=nick, id=5, content=noura]\n"
     ]
    }
   ],
   "source": [
    "print_table()"
   ]
  },
  {
   "cell_type": "markdown",
   "id": "a561ff38-0b97-4c6d-9a6c-52122fd122b1",
   "metadata": {},
   "source": [
    "<h1>order by</h1>"
   ]
  },
  {
   "cell_type": "markdown",
   "id": "a768a652-fba1-4349-aaa0-dfd201c08e21",
   "metadata": {},
   "source": [
    "<h2>text</h2>"
   ]
  },
  {
   "cell_type": "code",
   "execution_count": 41,
   "id": "62143c67-fc35-4fa6-b5a0-aa0997471031",
   "metadata": {},
   "outputs": [
    {
     "data": {
      "text/plain": [
       "[(3, 'asal'), (2, 'banafsheh'), (4, 'nick'), (1, 'nima'), (5, 'noura')]"
      ]
     },
     "execution_count": 41,
     "metadata": {},
     "output_type": "execute_result"
    }
   ],
   "source": [
    "from sqlalchemy import text\n",
    "\n",
    "executable = text(\"SELECT * from core_orm order by content\")\n",
    "with Session(engine) as session:\n",
    "    result = session.execute(executable)\n",
    "    row_list = result.all()\n",
    "row_list"
   ]
  },
  {
   "cell_type": "markdown",
   "id": "cf3c9465-4439-439a-a6a8-c3e93c6860e5",
   "metadata": {},
   "source": [
    "<h2>core</h2>"
   ]
  },
  {
   "cell_type": "code",
   "execution_count": 27,
   "id": "1f6cfdab-ab6f-40dc-bb0d-51aa90a6bc1d",
   "metadata": {},
   "outputs": [
    {
     "data": {
      "text/plain": [
       "[(3, 'asal'), (2, 'banafsheh'), (4, 'nick'), (1, 'nima'), (5, 'noura')]"
      ]
     },
     "execution_count": 27,
     "metadata": {},
     "output_type": "execute_result"
    }
   ],
   "source": [
    "from sqlalchemy import select\n",
    "\n",
    "executable = select(table).order_by(table.columns.content)\n",
    "with Session(engine) as session:\n",
    "    result = session.execute(executable)\n",
    "    dict_result = session.execute(executable).mappings()\n",
    "    row_list = result.all()\n",
    "    dict_list = dict_result.all()\n",
    "row_list"
   ]
  },
  {
   "cell_type": "code",
   "execution_count": 28,
   "id": "dab1537c-a5a0-4a5b-b399-98e2abbf060c",
   "metadata": {},
   "outputs": [
    {
     "data": {
      "text/plain": [
       "[{'id': 3, 'content': 'asal'},\n",
       " {'id': 2, 'content': 'banafsheh'},\n",
       " {'id': 4, 'content': 'nick'},\n",
       " {'id': 1, 'content': 'nima'},\n",
       " {'id': 5, 'content': 'noura'}]"
      ]
     },
     "execution_count": 28,
     "metadata": {},
     "output_type": "execute_result"
    }
   ],
   "source": [
    "dict_list"
   ]
  },
  {
   "cell_type": "markdown",
   "id": "8efadf76-9e1e-4c83-80b1-3b5f15d616a7",
   "metadata": {},
   "source": [
    "<h2>orm</h2>"
   ]
  },
  {
   "cell_type": "code",
   "execution_count": 45,
   "id": "ea903ebf-7b42-4cde-8150-616f10821c39",
   "metadata": {},
   "outputs": [
    {
     "data": {
      "text/plain": [
       "[id=3, content=asal,\n",
       " id=2, content=banafsheh,\n",
       " id=4, content=nick,\n",
       " id=1, content=nima,\n",
       " id=5, content=noura]"
      ]
     },
     "execution_count": 45,
     "metadata": {},
     "output_type": "execute_result"
    }
   ],
   "source": [
    "from sqlalchemy import select\n",
    "\n",
    "executable = select(OClass).order_by(OClass.content)\n",
    "with Session(engine) as session:\n",
    "    result = session.scalars(executable)\n",
    "    obj_list = result.all()\n",
    "obj_list"
   ]
  },
  {
   "cell_type": "markdown",
   "id": "d1b89ed7-1e37-48bf-90a2-f55b180bec34",
   "metadata": {},
   "source": [
    "<h1>correct way of running an executable</h1>"
   ]
  },
  {
   "cell_type": "raw",
   "id": "81c99288-3f09-4791-830e-becc686a948a",
   "metadata": {},
   "source": [
    "1- create a stm (executable) via text, core expr or orm\n",
    "2- open a session via context manager\n",
    "3- execute it via .execute.all (gives you list of tuples) .execute.mappings.all(list of dics)  or .scalars (list of single objects or values of one column) or .scalar (one object or value)\n",
    "\n",
    "instead of .all we can use .first which is .all[0]"
   ]
  },
  {
   "cell_type": "code",
   "execution_count": 1,
   "id": "e88ac324-bd8f-48f8-9a0e-20366944b1ee",
   "metadata": {},
   "outputs": [],
   "source": [
    "def executer(stm):\n",
    "    with Session(engine) as session:\n",
    "        print(session.execute(stm).mappings().all())"
   ]
  },
  {
   "cell_type": "markdown",
   "id": "4bbc8860-917d-40cf-b119-2f9552c9f349",
   "metadata": {},
   "source": [
    "<h1>order by descending</h1>"
   ]
  },
  {
   "cell_type": "markdown",
   "id": "3ee9a78d-abf9-4354-b942-d581ade70a30",
   "metadata": {},
   "source": [
    "<h2>text</h2>"
   ]
  },
  {
   "cell_type": "code",
   "execution_count": 50,
   "id": "018452b0-66ae-46fa-baf1-ff6ff90d73b3",
   "metadata": {},
   "outputs": [],
   "source": [
    "stm1 = text(\"SELECT * FROM core_orm ORDER BY content DESC\")"
   ]
  },
  {
   "cell_type": "code",
   "execution_count": 51,
   "id": "89d4178a-30bb-47b7-8aa4-a88ff0292142",
   "metadata": {},
   "outputs": [
    {
     "name": "stdout",
     "output_type": "stream",
     "text": [
      "[{'id': 5, 'content': 'noura'}, {'id': 1, 'content': 'nima'}, {'id': 4, 'content': 'nick'}, {'id': 2, 'content': 'banafsheh'}, {'id': 3, 'content': 'asal'}]\n"
     ]
    }
   ],
   "source": [
    "executer(stm1)"
   ]
  },
  {
   "cell_type": "markdown",
   "id": "d7f687fc-8ebc-430d-849e-be4a9d1a691b",
   "metadata": {},
   "source": [
    "<h2>core</h2>"
   ]
  },
  {
   "cell_type": "code",
   "execution_count": 55,
   "id": "0563eb31-651b-4aa3-9342-b81a56875b63",
   "metadata": {},
   "outputs": [],
   "source": [
    "stm2 = select(table).order_by(table.columns.content.desc())"
   ]
  },
  {
   "cell_type": "code",
   "execution_count": 56,
   "id": "ec384804-da34-4d44-b063-5b4a0ffa2eaf",
   "metadata": {},
   "outputs": [
    {
     "name": "stdout",
     "output_type": "stream",
     "text": [
      "[{'id': 5, 'content': 'noura'}, {'id': 1, 'content': 'nima'}, {'id': 4, 'content': 'nick'}, {'id': 2, 'content': 'banafsheh'}, {'id': 3, 'content': 'asal'}]\n"
     ]
    }
   ],
   "source": [
    "executer(stm2)"
   ]
  },
  {
   "cell_type": "code",
   "execution_count": 57,
   "id": "42477da2-447a-44cc-8e96-7e0ba96e0e99",
   "metadata": {},
   "outputs": [],
   "source": [
    "stm3 = select(OClass).order_by(OClass.content.desc())"
   ]
  },
  {
   "cell_type": "code",
   "execution_count": 58,
   "id": "64ac8f9f-5e30-4bed-b2c5-d1b1776e0292",
   "metadata": {},
   "outputs": [
    {
     "name": "stdout",
     "output_type": "stream",
     "text": [
      "[{'OClass': id=5, content=noura}, {'OClass': id=1, content=nima}, {'OClass': id=4, content=nick}, {'OClass': id=2, content=banafsheh}, {'OClass': id=3, content=asal}]\n"
     ]
    }
   ],
   "source": [
    "executer(stm3)"
   ]
  },
  {
   "cell_type": "markdown",
   "id": "2c574e20-b8c0-4a20-8c24-0ed90e2a7b8b",
   "metadata": {},
   "source": [
    "<h1>order by several columns</h1>"
   ]
  },
  {
   "cell_type": "raw",
   "id": "0d190afb-df0c-4036-96a9-4a1e6fe0c85f",
   "metadata": {},
   "source": [
    "raw -> ORDER BY c1, c2 DESC\n",
    "Core expr -> .order_by(table.c.c1, table.c.c2.desc())\n",
    "orm -> .order_by(class.c1, class.c2.desc()))"
   ]
  },
  {
   "cell_type": "markdown",
   "id": "c7f41466-4b43-4bd2-a267-9c4d5559c3e6",
   "metadata": {},
   "source": [
    "<h1>distinct</h1>"
   ]
  },
  {
   "cell_type": "raw",
   "id": "29947654-03ed-440c-885a-b6755553a5fe",
   "metadata": {},
   "source": [
    "raw -> SELECT DISTINCT c1 FROM t_name\n",
    "core expr -> select(t_obj.c.c1.distinct())\n",
    "orm -> select(t_class.c1.distinct().label('c1'))"
   ]
  },
  {
   "cell_type": "code",
   "execution_count": 4,
   "id": "6e83c5a7-49fd-4ec8-bbb0-134e0927551e",
   "metadata": {},
   "outputs": [],
   "source": [
    "Base = prepare_base()"
   ]
  },
  {
   "cell_type": "code",
   "execution_count": 7,
   "id": "77d11956-523d-4ec6-841e-b872a3ea5bf4",
   "metadata": {},
   "outputs": [],
   "source": [
    "T_class = Base.classes.core_orm"
   ]
  },
  {
   "cell_type": "code",
   "execution_count": 8,
   "id": "41f51ad1-674f-48c5-ac05-3b117df1616a",
   "metadata": {},
   "outputs": [],
   "source": [
    "t_obj = T_class.__table__"
   ]
  },
  {
   "cell_type": "code",
   "execution_count": 11,
   "id": "a63e631a-845d-455a-830f-94312909d437",
   "metadata": {},
   "outputs": [],
   "source": [
    "from sqlalchemy import insert\n",
    "\n",
    "stm = insert(t_obj).values(content = 'banafsheh')\n",
    "new_row = T_class(content = 'nima')"
   ]
  },
  {
   "cell_type": "code",
   "execution_count": 15,
   "id": "4fc76e16-7271-475e-b299-107c62d00edc",
   "metadata": {},
   "outputs": [],
   "source": [
    "from sqlalchemy.orm import Session"
   ]
  },
  {
   "cell_type": "code",
   "execution_count": 18,
   "id": "6d53a468-093b-4467-b881-a259239803da",
   "metadata": {},
   "outputs": [],
   "source": [
    "from sqlalchemy import select\n",
    "\n",
    "def print_table():\n",
    "    with Session(engine) as session:\n",
    "        print(session.execute(select(t_obj)).mappings().all())"
   ]
  },
  {
   "cell_type": "code",
   "execution_count": 19,
   "id": "9e6dce71-f729-47ec-9e72-2ab465f0be9a",
   "metadata": {},
   "outputs": [
    {
     "name": "stdout",
     "output_type": "stream",
     "text": [
      "[{'id': 1, 'content': 'nima'}, {'id': 2, 'content': 'banafsheh'}, {'id': 3, 'content': 'asal'}, {'id': 4, 'content': 'nick'}, {'id': 5, 'content': 'noura'}]\n"
     ]
    }
   ],
   "source": [
    "print_table()"
   ]
  },
  {
   "cell_type": "code",
   "execution_count": 22,
   "id": "79cdbb76-d2bc-437e-8b4b-d503cf0ed66c",
   "metadata": {},
   "outputs": [],
   "source": [
    "with Session(engine) as session:\n",
    "    session.execute(stm)\n",
    "    session.add(new_row)\n",
    "    session.commit()"
   ]
  },
  {
   "cell_type": "code",
   "execution_count": 23,
   "id": "d1b2c555-bf3a-4af5-a430-17195a7e70b0",
   "metadata": {},
   "outputs": [
    {
     "name": "stdout",
     "output_type": "stream",
     "text": [
      "[{'id': 1, 'content': 'nima'}, {'id': 2, 'content': 'banafsheh'}, {'id': 3, 'content': 'asal'}, {'id': 4, 'content': 'nick'}, {'id': 5, 'content': 'noura'}, {'id': 7, 'content': 'banafsheh'}, {'id': 8, 'content': 'nima'}]\n"
     ]
    }
   ],
   "source": [
    "print_table()"
   ]
  },
  {
   "cell_type": "code",
   "execution_count": 26,
   "id": "7f6073d4-c6d8-4cf4-af13-6426c4a59f0d",
   "metadata": {},
   "outputs": [],
   "source": [
    "def execute_stm(stm):\n",
    "    with Session(engine) as session:\n",
    "        result_lst = session.execute(stm).mappings().all()\n",
    "        # session.commit() here it is not needed since select is readonly but no harm (i comment it out to not confuse)\n",
    "        return (result_lst)"
   ]
  },
  {
   "cell_type": "markdown",
   "id": "839dca3d-510d-4310-a5e3-7959c6635716",
   "metadata": {},
   "source": [
    "<h2>text</h2> "
   ]
  },
  {
   "cell_type": "code",
   "execution_count": 27,
   "id": "64b7b23a-9766-4b8a-9b0b-a293d40a19e7",
   "metadata": {},
   "outputs": [],
   "source": [
    "from sqlalchemy import text\n",
    "stm = text(\"SELECT DISTINCT content FROM core_orm\")"
   ]
  },
  {
   "cell_type": "code",
   "execution_count": 28,
   "id": "ac29c1e8-83e9-41e8-90f6-37c95d3db897",
   "metadata": {},
   "outputs": [
    {
     "name": "stdout",
     "output_type": "stream",
     "text": [
      "[{'content': 'nick'}, {'content': 'noura'}, {'content': 'nima'}, {'content': 'asal'}, {'content': 'banafsheh'}]\n"
     ]
    }
   ],
   "source": [
    "print(execute_stm(stm))"
   ]
  },
  {
   "cell_type": "markdown",
   "id": "169739c9-ae9c-495e-bb93-5426984a37f7",
   "metadata": {},
   "source": [
    "<h2>core expr</h2> "
   ]
  },
  {
   "cell_type": "code",
   "execution_count": 29,
   "id": "0ce8c500-d838-40be-b342-4cb48f238dcf",
   "metadata": {},
   "outputs": [],
   "source": [
    "from sqlalchemy import select\n",
    "stm = select(t_obj.c.content.distinct())"
   ]
  },
  {
   "cell_type": "code",
   "execution_count": 30,
   "id": "4910a794-46f0-4be1-8418-c2b1f13cf1f6",
   "metadata": {},
   "outputs": [
    {
     "name": "stdout",
     "output_type": "stream",
     "text": [
      "[{'content': 'nick'}, {'content': 'noura'}, {'content': 'nima'}, {'content': 'asal'}, {'content': 'banafsheh'}]\n"
     ]
    }
   ],
   "source": [
    "print(execute_stm(stm))"
   ]
  },
  {
   "cell_type": "markdown",
   "id": "02beeae9-37b6-4125-af5c-6e60d0869f8b",
   "metadata": {},
   "source": [
    "<h2>orm</h2> "
   ]
  },
  {
   "cell_type": "code",
   "execution_count": 40,
   "id": "7e6650d6-a959-4bfd-bcd1-6e4a73f9d463",
   "metadata": {},
   "outputs": [],
   "source": [
    "stm = select(T_class.content.distinct().label('content'))"
   ]
  },
  {
   "cell_type": "code",
   "execution_count": 42,
   "id": "a1c536a5-9378-45f5-acc0-25ce48779db1",
   "metadata": {},
   "outputs": [
    {
     "name": "stdout",
     "output_type": "stream",
     "text": [
      "[{'content': 'nick'}, {'content': 'noura'}, {'content': 'nima'}, {'content': 'asal'}, {'content': 'banafsheh'}]\n"
     ]
    }
   ],
   "source": [
    "print(execute_stm(stm))"
   ]
  },
  {
   "cell_type": "markdown",
   "id": "f68b8eb4-7a8e-44d4-8fdb-4ffd230943fd",
   "metadata": {},
   "source": [
    "<h1>select + bool expr</h1>"
   ]
  },
  {
   "cell_type": "raw",
   "id": "0d0d7e10-bb0c-4d67-a0e4-3800fee794d3",
   "metadata": {},
   "source": [
    "raw  -> SELECT bool_expr AS label FROM table_name\n",
    "core -> select(bool_expr.label(label))\n",
    "orm  -> select(bool_expr.label(label))"
   ]
  },
  {
   "cell_type": "code",
   "execution_count": 3,
   "id": "f943ab79-df53-4d3a-8fa5-d8363cc98866",
   "metadata": {},
   "outputs": [],
   "source": [
    "from sqlalchemy import select, text\n",
    "from sqlalchemy.ext.automap import automap_base\n",
    "from sqlalchemy.orm import Session\n",
    "\n",
    "Base = automap_base()\n",
    "Base.prepare(autoload_with=engine)\n",
    "C = Base.classes.core_orm\n",
    "C.__repr__ = lambda self: f'id = {self.id}, content = {self.content}'\n",
    "t = C.__table__\n",
    "\n",
    "def exe(stm, dic=None):\n",
    "    with Session(engine) as session:\n",
    "        if dic:\n",
    "            return print(session.execute(stm, dic).mappings().all())\n",
    "        return print(session.execute(stm).mappings().all())    "
   ]
  },
  {
   "cell_type": "markdown",
   "id": "7cb92a24-8003-4dd7-8e69-1f364fe822da",
   "metadata": {},
   "source": [
    "<h2>text</h2>"
   ]
  },
  {
   "cell_type": "code",
   "execution_count": 34,
   "id": "b0a12777-ea55-4ab1-8231-8304f658a224",
   "metadata": {},
   "outputs": [
    {
     "name": "stdout",
     "output_type": "stream",
     "text": [
      "[{'result': True}, {'result': False}, {'result': True}, {'result': True}, {'result': True}, {'result': False}, {'result': True}]\n"
     ]
    }
   ],
   "source": [
    "exe(text(\"SELECT content <> :value AS result FROM core_orm\"), {'value' : 'banafsheh'})"
   ]
  },
  {
   "cell_type": "markdown",
   "id": "e277992d-6b8e-4b4b-a1a8-3c6461932898",
   "metadata": {},
   "source": [
    "<h2>core</h2>"
   ]
  },
  {
   "cell_type": "code",
   "execution_count": 32,
   "id": "88e53934-7af5-4c93-99b0-49fca5d797bf",
   "metadata": {},
   "outputs": [
    {
     "name": "stdout",
     "output_type": "stream",
     "text": [
      "[{'result': True}, {'result': False}, {'result': True}, {'result': True}, {'result': True}, {'result': False}, {'result': True}]\n"
     ]
    }
   ],
   "source": [
    "bool_expr = t.c.content != 'banafsheh'\n",
    "label = 'result'\n",
    "select_stm = bool_expr.label(label)\n",
    "full_stm = select(select_stm)\n",
    "exe(full_stm)"
   ]
  },
  {
   "cell_type": "markdown",
   "id": "615c2114-ef50-4e78-8b23-6f4e4eb38b8d",
   "metadata": {},
   "source": [
    "<h2>orm</h2>"
   ]
  },
  {
   "cell_type": "code",
   "execution_count": 31,
   "id": "60aaaeaf-7787-45c2-b442-7d8015065b2d",
   "metadata": {},
   "outputs": [
    {
     "name": "stdout",
     "output_type": "stream",
     "text": [
      "[{'result': True}, {'result': False}, {'result': True}, {'result': True}, {'result': True}, {'result': False}, {'result': True}]\n"
     ]
    }
   ],
   "source": [
    "bool_expr = C.content != 'banafsheh'\n",
    "label = 'result'\n",
    "select_stm = bool_expr.label(label)\n",
    "full_stm = select(select_stm)\n",
    "exe(full_stm)"
   ]
  },
  {
   "cell_type": "markdown",
   "id": "029fd38a-a134-4a77-acc0-0b059d7401a4",
   "metadata": {},
   "source": [
    "<h1>WHERE + IN</h1>"
   ]
  },
  {
   "cell_type": "markdown",
   "id": "0e4ea88e-b844-4678-bf56-701bdc987903",
   "metadata": {},
   "source": [
    "<h2>text</h2>"
   ]
  },
  {
   "cell_type": "code",
   "execution_count": 35,
   "id": "3239a50d-b743-404f-94a0-91436800a060",
   "metadata": {},
   "outputs": [
    {
     "name": "stdout",
     "output_type": "stream",
     "text": [
      "[{'id': 1, 'content': 'nima'}, {'id': 2, 'content': 'banafsheh'}, {'id': 7, 'content': 'banafsheh'}, {'id': 8, 'content': 'nima'}]\n"
     ]
    }
   ],
   "source": [
    "stm = text(\"SELECT * FROM core_orm WHERE content IN (:v1 , :v2)\")\n",
    "dic = {'v1' : 'nima', 'v2' : 'banafsheh'}\n",
    "exe(stm, dic)"
   ]
  },
  {
   "cell_type": "markdown",
   "id": "b6b172b0-3761-4bf6-8fe2-075d52420423",
   "metadata": {},
   "source": [
    "<h2>core</h2>"
   ]
  },
  {
   "cell_type": "code",
   "execution_count": 36,
   "id": "c87666b4-1689-4657-a4ae-3c3498ee523c",
   "metadata": {},
   "outputs": [
    {
     "name": "stdout",
     "output_type": "stream",
     "text": [
      "[{'id': 1, 'content': 'nima'}, {'id': 2, 'content': 'banafsheh'}, {'id': 7, 'content': 'banafsheh'}, {'id': 8, 'content': 'nima'}]\n"
     ]
    }
   ],
   "source": [
    "lst = ['nima', 'banafsheh']\n",
    "stm = select(t).where(t.c.content.in_(lst))\n",
    "exe(stm)"
   ]
  },
  {
   "cell_type": "markdown",
   "id": "8c130d93-66bb-45e0-92f9-8ac47bc8db7f",
   "metadata": {},
   "source": [
    "<h2>orm</h2>"
   ]
  },
  {
   "cell_type": "code",
   "execution_count": 37,
   "id": "23441f6c-49b0-415f-bc82-acd1c4bcaf45",
   "metadata": {},
   "outputs": [
    {
     "name": "stdout",
     "output_type": "stream",
     "text": [
      "[{'core_orm': id = 1, content = nima}, {'core_orm': id = 2, content = banafsheh}, {'core_orm': id = 7, content = banafsheh}, {'core_orm': id = 8, content = nima}]\n"
     ]
    }
   ],
   "source": [
    "lst = ['nima', 'banafsheh']\n",
    "stm = select(C).where(C.content.in_(lst))\n",
    "exe(stm)"
   ]
  },
  {
   "cell_type": "markdown",
   "id": "9f14cf4f-9bf0-4dac-b3d6-d7b0d3f3eddc",
   "metadata": {},
   "source": [
    "<h1>WHERE BETWEEN AND</h1>"
   ]
  },
  {
   "cell_type": "markdown",
   "id": "84bffe61-7048-4eb4-b47b-4ef7db481017",
   "metadata": {},
   "source": [
    "<h2>text</h2>"
   ]
  },
  {
   "cell_type": "code",
   "execution_count": 46,
   "id": "727460d7-c355-4269-ba35-ba5b7bad2cfb",
   "metadata": {},
   "outputs": [
    {
     "name": "stdout",
     "output_type": "stream",
     "text": [
      "[{'id': 1, 'content': 'nima'}, {'id': 2, 'content': 'banafsheh'}, {'id': 3, 'content': 'asal'}, {'id': 4, 'content': 'nick'}, {'id': 5, 'content': 'noura'}]\n"
     ]
    }
   ],
   "source": [
    "stm = text(\"SELECT * FROM core_orm WHERE id BETWEEN :v1 AND :v2\")\n",
    "dic = {'v1': 1, 'v2': 5}\n",
    "exe(stm, dic)"
   ]
  },
  {
   "cell_type": "markdown",
   "id": "5288383e-1883-4bc5-8df8-fa36b0d97990",
   "metadata": {},
   "source": [
    "<h2>core</h2>"
   ]
  },
  {
   "cell_type": "code",
   "execution_count": 47,
   "id": "e68254b7-967c-41df-8608-53286c157d83",
   "metadata": {},
   "outputs": [
    {
     "name": "stdout",
     "output_type": "stream",
     "text": [
      "[{'id': 1, 'content': 'nima'}, {'id': 2, 'content': 'banafsheh'}, {'id': 3, 'content': 'asal'}, {'id': 4, 'content': 'nick'}, {'id': 5, 'content': 'noura'}]\n"
     ]
    }
   ],
   "source": [
    "lst = [1, 5]\n",
    "stm = select(t).where(t.c.id.between(*lst))\n",
    "exe(stm)"
   ]
  },
  {
   "cell_type": "markdown",
   "id": "c2dcf5be-f5a9-4851-b44c-73fa694ec398",
   "metadata": {},
   "source": [
    "<h2>orm</h2>"
   ]
  },
  {
   "cell_type": "code",
   "execution_count": 48,
   "id": "97fb3ad8-33d6-4924-90c5-6a0ec71fe6f4",
   "metadata": {},
   "outputs": [
    {
     "name": "stdout",
     "output_type": "stream",
     "text": [
      "[{'core_orm': id = 1, content = nima}, {'core_orm': id = 2, content = banafsheh}, {'core_orm': id = 3, content = asal}, {'core_orm': id = 4, content = nick}, {'core_orm': id = 5, content = noura}]\n"
     ]
    }
   ],
   "source": [
    "stm = select(C).where(C.id.between(*lst))\n",
    "exe(stm)"
   ]
  },
  {
   "cell_type": "markdown",
   "id": "b664b278-36ce-41fb-93a4-72d71f1f1add",
   "metadata": {},
   "source": [
    "<h1>WHERE NOT / where(~)</h1>"
   ]
  },
  {
   "cell_type": "markdown",
   "id": "30394aba-5ccd-4b1f-a398-548d55e41f01",
   "metadata": {},
   "source": [
    "<h2>text</h2>"
   ]
  },
  {
   "cell_type": "code",
   "execution_count": 50,
   "id": "8150c8d2-f839-479f-9cc9-1e9a58baa131",
   "metadata": {},
   "outputs": [
    {
     "name": "stdout",
     "output_type": "stream",
     "text": [
      "[{'id': 7, 'content': 'banafsheh'}, {'id': 8, 'content': 'nima'}]\n"
     ]
    }
   ],
   "source": [
    "stm = text(\"SELECT * FROM core_orm WHERE NOT (id BETWEEN :v1 AND :v2)\")\n",
    "dic = {'v1': 1, 'v2': 5}\n",
    "exe(stm, dic)"
   ]
  },
  {
   "cell_type": "markdown",
   "id": "d0ee9c77-bddb-40fe-8e68-c6a067d32428",
   "metadata": {},
   "source": [
    "<h2>core</h2>"
   ]
  },
  {
   "cell_type": "code",
   "execution_count": 52,
   "id": "f8a9ce59-b42a-41ea-afe3-387162601e40",
   "metadata": {},
   "outputs": [
    {
     "name": "stdout",
     "output_type": "stream",
     "text": [
      "[{'id': 7, 'content': 'banafsheh'}, {'id': 8, 'content': 'nima'}]\n"
     ]
    }
   ],
   "source": [
    "lst = [1, 5]\n",
    "stm = select(t).where(~t.c.id.between(*lst))\n",
    "exe(stm)"
   ]
  },
  {
   "cell_type": "markdown",
   "id": "712ed17b-11a6-4b91-8944-328a58fbc991",
   "metadata": {},
   "source": [
    "<h2>orm</h2>"
   ]
  },
  {
   "cell_type": "code",
   "execution_count": 53,
   "id": "36b66c81-13c9-4614-bd2c-8ebe982434a8",
   "metadata": {},
   "outputs": [
    {
     "name": "stdout",
     "output_type": "stream",
     "text": [
      "[{'core_orm': id = 7, content = banafsheh}, {'core_orm': id = 8, content = nima}]\n"
     ]
    }
   ],
   "source": [
    "stm = select(C).where(~C.id.between(*lst))\n",
    "exe(stm)"
   ]
  },
  {
   "cell_type": "markdown",
   "id": "027f9b46-07f6-4728-b39b-e93f7b4139e3",
   "metadata": {},
   "source": [
    "<h1>WHERE LIKE _</h1>"
   ]
  },
  {
   "cell_type": "markdown",
   "id": "927d93f7-e213-4b77-8232-2525146263a3",
   "metadata": {},
   "source": [
    "<h2>text</h2>"
   ]
  },
  {
   "cell_type": "code",
   "execution_count": 5,
   "id": "209cac8c-64b6-437b-89ed-58ba267dfe7b",
   "metadata": {},
   "outputs": [
    {
     "name": "stdout",
     "output_type": "stream",
     "text": [
      "[{'id': 1, 'content': 'nima'}, {'id': 3, 'content': 'asal'}, {'id': 4, 'content': 'nick'}, {'id': 8, 'content': 'nima'}]\n"
     ]
    }
   ],
   "source": [
    "stm = text(\"SELECT * FROM core_orm WHERE content LIKE :pattern\")\n",
    "exe(stm, {'pattern': '____'})"
   ]
  },
  {
   "cell_type": "markdown",
   "id": "48a684be-43eb-4c75-a954-274fe97e2731",
   "metadata": {},
   "source": [
    "<h2>core</h2>"
   ]
  },
  {
   "cell_type": "code",
   "execution_count": 9,
   "id": "439d92ca-b0d2-4dbf-9451-97a4ea5dcfa4",
   "metadata": {},
   "outputs": [
    {
     "name": "stdout",
     "output_type": "stream",
     "text": [
      "[{'id': 1, 'content': 'nima'}, {'id': 3, 'content': 'asal'}, {'id': 4, 'content': 'nick'}, {'id': 8, 'content': 'nima'}]\n"
     ]
    }
   ],
   "source": [
    "stm = select(t).where(t.c.content.like('____'))\n",
    "exe(stm)"
   ]
  },
  {
   "cell_type": "markdown",
   "id": "a1a74208-037f-4930-9dad-013c5b69c8a8",
   "metadata": {},
   "source": [
    "<h2>orm</h2>"
   ]
  },
  {
   "cell_type": "code",
   "execution_count": 12,
   "id": "1c717a7b-1c24-4aa7-8e40-1a7ff01c764b",
   "metadata": {},
   "outputs": [
    {
     "name": "stdout",
     "output_type": "stream",
     "text": [
      "[{'core_orm': id = 1, content = nima}, {'core_orm': id = 3, content = asal}, {'core_orm': id = 4, content = nick}, {'core_orm': id = 8, content = nima}]\n"
     ]
    }
   ],
   "source": [
    "stm = select(C).where(C.content.like('____'))\n",
    "exe(stm)"
   ]
  },
  {
   "cell_type": "markdown",
   "id": "a6ee8502-ba34-4b30-97d8-6a046e59411e",
   "metadata": {},
   "source": [
    "<h1>WHERE LIKE %</h1>"
   ]
  },
  {
   "cell_type": "markdown",
   "id": "a8757e40-5410-43c7-a104-1332cbcbb90a",
   "metadata": {},
   "source": [
    "<h2>text</h2>"
   ]
  },
  {
   "cell_type": "code",
   "execution_count": 17,
   "id": "d05f4f0f-57d5-45ac-8311-91da3129d636",
   "metadata": {},
   "outputs": [
    {
     "name": "stdout",
     "output_type": "stream",
     "text": [
      "[{'id': 1, 'content': 'nima'}, {'id': 4, 'content': 'nick'}, {'id': 5, 'content': 'noura'}, {'id': 8, 'content': 'nima'}]\n"
     ]
    }
   ],
   "source": [
    "stm = text(\"SELECT * FROM core_orm WHERE content LIKE :pattern\")\n",
    "exe(stm, {'pattern': 'n%'})"
   ]
  },
  {
   "cell_type": "markdown",
   "id": "307006e7-8ce9-405b-b1ad-a6d05a677bb2",
   "metadata": {},
   "source": [
    "<h2>core</h2>"
   ]
  },
  {
   "cell_type": "code",
   "execution_count": 15,
   "id": "00b185cd-6df4-47d2-bca3-f4316d3d1229",
   "metadata": {},
   "outputs": [
    {
     "name": "stdout",
     "output_type": "stream",
     "text": [
      "[{'id': 1, 'content': 'nima'}, {'id': 4, 'content': 'nick'}, {'id': 5, 'content': 'noura'}, {'id': 8, 'content': 'nima'}]\n"
     ]
    }
   ],
   "source": [
    "stm = select(t).where(t.c.content.like('n%'))\n",
    "exe(stm)"
   ]
  },
  {
   "cell_type": "markdown",
   "id": "6562d736-8b67-4061-837c-7e9f7f384f8f",
   "metadata": {},
   "source": [
    "<h2>orm</h2>"
   ]
  },
  {
   "cell_type": "code",
   "execution_count": 16,
   "id": "fe6d7100-049b-4439-ab01-766a8dbe0bb1",
   "metadata": {},
   "outputs": [
    {
     "name": "stdout",
     "output_type": "stream",
     "text": [
      "[{'core_orm': id = 1, content = nima}, {'core_orm': id = 4, content = nick}, {'core_orm': id = 5, content = noura}, {'core_orm': id = 8, content = nima}]\n"
     ]
    }
   ],
   "source": [
    "stm = select(C).where(C.content.like('n%'))\n",
    "exe(stm)"
   ]
  },
  {
   "cell_type": "markdown",
   "id": "2e852006-b54c-4c77-9696-5dccbfeb3f45",
   "metadata": {},
   "source": [
    "<h1>WHERE ILIKE %</h1>"
   ]
  },
  {
   "cell_type": "markdown",
   "id": "c6a27a71-c873-4716-b081-b46fc961f5c1",
   "metadata": {},
   "source": [
    "<h2>text</h2>"
   ]
  },
  {
   "cell_type": "code",
   "execution_count": 18,
   "id": "083ea08d-8748-4c9d-bd2f-b902ddc20321",
   "metadata": {},
   "outputs": [
    {
     "name": "stdout",
     "output_type": "stream",
     "text": [
      "[{'id': 1, 'content': 'nima'}, {'id': 4, 'content': 'nick'}, {'id': 5, 'content': 'noura'}, {'id': 8, 'content': 'nima'}]\n"
     ]
    }
   ],
   "source": [
    "stm = text(\"SELECT * FROM core_orm WHERE content ILIKE :pattern\")\n",
    "exe(stm, {'pattern': 'N%'})"
   ]
  },
  {
   "cell_type": "markdown",
   "id": "8a9013d5-f353-4b32-aad0-fca0fc8d59e9",
   "metadata": {},
   "source": [
    "<h2>core</h2>"
   ]
  },
  {
   "cell_type": "code",
   "execution_count": 21,
   "id": "8515640f-59d8-44e9-96a3-3f1f26e2b673",
   "metadata": {},
   "outputs": [
    {
     "name": "stdout",
     "output_type": "stream",
     "text": [
      "[{'id': 1, 'content': 'nima'}, {'id': 4, 'content': 'nick'}, {'id': 5, 'content': 'noura'}, {'id': 8, 'content': 'nima'}]\n"
     ]
    }
   ],
   "source": [
    "stm = select(t).where(t.c.content.ilike('N%'))\n",
    "exe(stm)"
   ]
  },
  {
   "cell_type": "markdown",
   "id": "42e86fcc-672d-49c7-901f-4fd717bdaec5",
   "metadata": {},
   "source": [
    "<h2>orm</h2>"
   ]
  },
  {
   "cell_type": "code",
   "execution_count": 19,
   "id": "435a77cc-7553-4188-85d7-7b6d8d3049a1",
   "metadata": {},
   "outputs": [
    {
     "name": "stdout",
     "output_type": "stream",
     "text": [
      "[{'core_orm': id = 1, content = nima}, {'core_orm': id = 4, content = nick}, {'core_orm': id = 5, content = noura}, {'core_orm': id = 8, content = nima}]\n"
     ]
    }
   ],
   "source": [
    "stm = select(C).where(C.content.ilike('N%'))\n",
    "exe(stm)"
   ]
  },
  {
   "cell_type": "markdown",
   "id": "94240be1-5517-41f6-9c15-c19d7176495e",
   "metadata": {},
   "source": [
    "<h1> char vs varchar</h1>"
   ]
  },
  {
   "cell_type": "raw",
   "id": "b226df8d-eadd-4e10-bc03-d907c78078bf",
   "metadata": {},
   "source": [
    "| Feature          | CHAR(n)                                               | VARCHAR(n)                                          |\n",
    "|------------------|------------------------------------------------------|----------------------------------------------------|\n",
    "| Storage          | Fixed-length: stores exactly n chars,                | Variable-length: stores only                         |\n",
    "|                  | padded with spaces if shorter.                        | as many chars as you provide,                       |\n",
    "|                  |                                                      | up to max n.                                        |\n",
    "|------------------|------------------------------------------------------|----------------------------------------------------|\n",
    "| Max Length       | Fixed length n (e.g., CHAR(10) stores                 | Variable length up to n (e.g.,                      |\n",
    "|                  | always 10 chars)                                      | VARCHAR(10) stores 1 to 10 chars)                   |\n",
    "|------------------|------------------------------------------------------|----------------------------------------------------|\n",
    "| Padding          | Pads shorter values with spaces on the right.        | No padding; stores actual                            |\n",
    "|                  | Trailing spaces stored but ignored                    | string length. Trailing spaces                       |\n",
    "|                  | in equality comparisons.                              | stored and considered in                             |\n",
    "|                  |                                                      | comparisons.                                        |\n",
    "|------------------|------------------------------------------------------|----------------------------------------------------|\n",
    "| Performance      | Slightly faster for fixed-length data                 | Slightly slower due to variable-                     |\n",
    "|                  | due to predictable size, minimal overhead.            | length storage, but more flexible                    |\n",
    "|                  |                                                      | for varying data sizes.                             |\n",
    "|------------------|------------------------------------------------------|----------------------------------------------------|\n",
    "| Use Cases        | Best for fixed-length data like country                | Best for variable-length                           |\n",
    "|                  | codes, fixed-format identifiers.                      | data such as names,                                 |\n",
    "|                  |                                                      | emails, descriptions.                              |\n",
    "|------------------|------------------------------------------------------|----------------------------------------------------|\n",
    "| Storage Size     | Always uses n bytes plus overhead                      | Uses actual string size plus                       |\n",
    "|                  | for metadata.                                         | 1 or 4 bytes overhead for                           |\n",
    "|                  |                                                      | length info.                                       |\n",
    "|------------------|------------------------------------------------------|----------------------------------------------------|\n",
    "| Trailing Spaces  | Stored but ignored in comparisons                      | Stored and significant                             |\n",
    "|                  | (`'abc' = 'abc   '` is true).                         | in comparisons (`'abc' <>                           |\n",
    "|                  |                                                      | 'abc   '` is true).                                |\n"
   ]
  },
  {
   "cell_type": "markdown",
   "id": "7d8ed1ab-1ef1-4fe0-805b-51019f17f483",
   "metadata": {},
   "source": [
    "<h1>int vs integer</h1>"
   ]
  },
  {
   "cell_type": "raw",
   "id": "c8016125-58f7-46ea-85a3-6723cdf547d0",
   "metadata": {},
   "source": [
    "int is alias for integer. so same thing"
   ]
  },
  {
   "cell_type": "markdown",
   "id": "fb90b17f-2fe6-4740-98c7-e7a8b3e2abf7",
   "metadata": {},
   "source": [
    "<h1>:: cast</h1>"
   ]
  },
  {
   "cell_type": "raw",
   "id": "6441aebe-2e0c-448a-a287-d9f2ca4c7b19",
   "metadata": {},
   "source": [
    "| Cast Syntax           | Description                             | Example                |\n",
    "|-----------------------|---------------------------------------|------------------------|\n",
    "| `::text`              | Cast to text/string                    | `column::text`         |\n",
    "| `::varchar(n)`        | Cast to varchar with max length `n`   | `column::varchar(50)`  |\n",
    "| `::int` or `::integer`| Cast to integer                       | `column::int`          |\n",
    "| `::bigint`            | Cast to 64-bit integer                 | `column::bigint`       |\n",
    "| `::boolean`           | Cast to boolean (true/false)           | `column::boolean`      |\n",
    "| `::float` or `::real` | Cast to single precision floating point | `column::float`       |\n",
    "| `::double precision`  | Cast to double precision floating point | `column::double precision` |\n",
    "| `::numeric`           | Cast to arbitrary precision number     | `column::numeric(10,2)`|\n",
    "| `::date`              | Cast to date                          | `column::date`         |\n",
    "| `::timestamp`         | Cast to timestamp                     | `column::timestamp`    |\n",
    "| `::json` or `::jsonb` | Cast to JSON type                     | `column::jsonb`        |\n"
   ]
  },
  {
   "cell_type": "markdown",
   "id": "adadb65f-4e46-4536-a38a-444b24214a37",
   "metadata": {},
   "source": [
    "<h1>SQL Aggregate functions</h1>"
   ]
  },
  {
   "cell_type": "raw",
   "id": "5b5f2245-ffbf-43f4-9ff9-286b6367ce08",
   "metadata": {},
   "source": [
    "| SQL Aggregate        | Explanation                                                  |\n",
    "|---------------------|--------------------------------------------------------------|\n",
    "| COUNT(*)            | Counts the total number of rows in the result set            |\n",
    "| COUNT(column)       | Counts the number of non-NULL values in the specified column  |\n",
    "| SUM(column)         | Calculates the sum of all values in the specified column      |\n",
    "| AVG(column)         | Computes the average (mean) of the values in the specified column |\n",
    "| MIN(column)         | Finds the smallest value in the specified column              |\n",
    "| MAX(column)         | Finds the largest value in the specified column               |\n",
    "| ARRAY_AGG(column)   | Aggregates values from a column into an array                  |\n",
    "| STRING_AGG(col, sep)| Concatenates values from a column into a single string with a separator |\n",
    "| BOOL_AND(column)    | Returns TRUE if all values in the column are TRUE              |\n",
    "| BOOL_OR(column)     | Returns TRUE if any value in the column is TRUE                |\n"
   ]
  },
  {
   "cell_type": "markdown",
   "id": "bbcf6c1a-efb7-41b1-b994-f4b9492a1890",
   "metadata": {},
   "source": [
    "<h1>GROUP BY syntax</h1>"
   ]
  },
  {
   "cell_type": "raw",
   "id": "f056f445-7dfb-495d-a3d7-a466cb534fe3",
   "metadata": {},
   "source": [
    "raw  -> SELECT c1, aggregate(c1) FROM teble_name GROUP BY c1\n",
    "core -> select(t.c.c1, func.aggregate(t.c.c1)).group_by(t.c.c1)\n",
    "orm  -> select(C.c1, func.aggregate(C.c1)).group_by(C.c1)"
   ]
  },
  {
   "cell_type": "markdown",
   "id": "986dec10-5c0b-484f-a5fd-f70f409ee2d1",
   "metadata": {},
   "source": [
    "<h1>COUNT(c1) vs COUNT(*)</h1>"
   ]
  },
  {
   "cell_type": "raw",
   "id": "55c55811-dc85-4b37-ac6b-0cbf9c124e6d",
   "metadata": {},
   "source": [
    "count(*) counts all the rows of c1 (Null or not Null). It considers Null is a vlaue for c1\n",
    "\n",
    "count(c1) counts not Null rows of c1"
   ]
  },
  {
   "cell_type": "markdown",
   "id": "cdd6bddd-6a1e-4ea4-87fe-f8d07acb20e0",
   "metadata": {},
   "source": [
    "<h1>COUNT(c1) GROUP BY</h1>"
   ]
  },
  {
   "cell_type": "markdown",
   "id": "16bd9cc1-c73f-4a3f-816f-64f02aa85973",
   "metadata": {},
   "source": [
    "<h2>text</h2>"
   ]
  },
  {
   "cell_type": "code",
   "execution_count": 30,
   "id": "7cdaa816-64bf-4cf1-85ef-c2e1fd7d1b79",
   "metadata": {},
   "outputs": [
    {
     "name": "stdout",
     "output_type": "stream",
     "text": [
      "[{'content': 'nick', 'count': 1}, {'content': 'noura', 'count': 1}, {'content': 'nima', 'count': 2}, {'content': 'asal', 'count': 1}, {'content': 'banafsheh', 'count': 2}]\n"
     ]
    }
   ],
   "source": [
    "stm = text(\"SELECT content, COUNT(content) FROM core_orm GROUP BY content\")\n",
    "exe(stm)"
   ]
  },
  {
   "cell_type": "markdown",
   "id": "fb667262-fe29-4194-bf54-6909ba31ae01",
   "metadata": {},
   "source": [
    "<h2>core</h2>"
   ]
  },
  {
   "cell_type": "code",
   "execution_count": 31,
   "id": "261737c8-c4c1-4856-b20d-1dab7e227f73",
   "metadata": {},
   "outputs": [
    {
     "name": "stdout",
     "output_type": "stream",
     "text": [
      "[{'content': 'nick', 'count_1': 1}, {'content': 'noura', 'count_1': 1}, {'content': 'nima', 'count_1': 2}, {'content': 'asal', 'count_1': 1}, {'content': 'banafsheh', 'count_1': 2}]\n"
     ]
    }
   ],
   "source": [
    "from sqlalchemy import func\n",
    "\n",
    "stm = select(t.c.content, func.count(t.c.content)).group_by(t.c.content)\n",
    "exe(stm)"
   ]
  },
  {
   "cell_type": "markdown",
   "id": "df9c4ca0-99ab-4877-aa03-505719aba9a8",
   "metadata": {},
   "source": [
    "<h2>orm</h2>"
   ]
  },
  {
   "cell_type": "code",
   "execution_count": 32,
   "id": "32857632-d836-4e8b-aa92-9300facda8c3",
   "metadata": {},
   "outputs": [
    {
     "name": "stdout",
     "output_type": "stream",
     "text": [
      "[{'content': 'nick', 'count': 1}, {'content': 'noura', 'count': 1}, {'content': 'nima', 'count': 2}, {'content': 'asal', 'count': 1}, {'content': 'banafsheh', 'count': 2}]\n"
     ]
    }
   ],
   "source": [
    "stm = select(C.content, func.count(C.content)).group_by(C.content)\n",
    "exe(stm)"
   ]
  },
  {
   "cell_type": "markdown",
   "id": "ae7542f3-c7da-45ae-996c-91660e4d5eea",
   "metadata": {},
   "source": [
    "<h1>COUNT(*) GROUP BY</h1>"
   ]
  },
  {
   "cell_type": "markdown",
   "id": "7c5b4207-f840-418f-ba95-d73a88b62701",
   "metadata": {},
   "source": [
    "<h2>text</h2>"
   ]
  },
  {
   "cell_type": "code",
   "execution_count": 33,
   "id": "7c92ef79-0b7a-4031-9a3b-7ead41dcb021",
   "metadata": {},
   "outputs": [
    {
     "name": "stdout",
     "output_type": "stream",
     "text": [
      "[{'content': 'nick', 'count': 1}, {'content': 'noura', 'count': 1}, {'content': 'nima', 'count': 2}, {'content': 'asal', 'count': 1}, {'content': 'banafsheh', 'count': 2}]\n"
     ]
    }
   ],
   "source": [
    "stm = text(\"SELECT content, COUNT(*) FROM core_orm GROUP BY content\")\n",
    "exe(stm)"
   ]
  },
  {
   "cell_type": "markdown",
   "id": "30e1f35e-6842-4e4b-9468-e432c029f90e",
   "metadata": {},
   "source": [
    "<h2>core</h2>"
   ]
  },
  {
   "cell_type": "code",
   "execution_count": 35,
   "id": "5c7042e3-e2d6-4313-8a61-22fd1e8cbc9f",
   "metadata": {},
   "outputs": [
    {
     "name": "stdout",
     "output_type": "stream",
     "text": [
      "[{'content': 'nick', 'count_1': 1}, {'content': 'noura', 'count_1': 1}, {'content': 'nima', 'count_1': 2}, {'content': 'asal', 'count_1': 1}, {'content': 'banafsheh', 'count_1': 2}]\n"
     ]
    }
   ],
   "source": [
    "stm = select(t.c.content, func.count()).group_by(t.c.content)\n",
    "exe(stm)"
   ]
  },
  {
   "cell_type": "markdown",
   "id": "15214e01-f9e9-4b4f-8b2f-5871206fad1b",
   "metadata": {},
   "source": [
    "<h2>orm</h2>"
   ]
  },
  {
   "cell_type": "code",
   "execution_count": 34,
   "id": "b6abaa50-3af1-4919-990f-ed79a849eb4e",
   "metadata": {},
   "outputs": [
    {
     "name": "stdout",
     "output_type": "stream",
     "text": [
      "[{'content': 'nick', 'count': 1}, {'content': 'noura', 'count': 1}, {'content': 'nima', 'count': 2}, {'content': 'asal', 'count': 1}, {'content': 'banafsheh', 'count': 2}]\n"
     ]
    }
   ],
   "source": [
    "stm = select(C.content, func.count()).group_by(C.content)\n",
    "exe(stm)"
   ]
  },
  {
   "cell_type": "markdown",
   "id": "8add181a-deed-42e5-8619-b3f36b7213c8",
   "metadata": {},
   "source": [
    "<h1>STRING_AGG GROUP BY</h1>"
   ]
  },
  {
   "cell_type": "code",
   "execution_count": 55,
   "id": "c245b2aa-b9e7-45f4-a3bf-58706fb20f75",
   "metadata": {},
   "outputs": [],
   "source": [
    "def check_agg_type(stm):\n",
    "    with Session(engine) as session:\n",
    "        tuple_lst = session.execute(stm).all()\n",
    "        sample_member = tuple_lst[0]\n",
    "        agg_column = sample_member[1]\n",
    "        return type(agg_column)"
   ]
  },
  {
   "cell_type": "markdown",
   "id": "5414b3ad-0642-421b-9fed-5783e1f421a3",
   "metadata": {},
   "source": [
    "<h2>text</h2>"
   ]
  },
  {
   "cell_type": "code",
   "execution_count": 56,
   "id": "1cf61b7d-24d8-4daa-aa72-f456b15cb975",
   "metadata": {},
   "outputs": [
    {
     "name": "stdout",
     "output_type": "stream",
     "text": [
      "[{'content': 'nick', 'string_agg': '4'}, {'content': 'noura', 'string_agg': '5'}, {'content': 'nima', 'string_agg': '1 , 8'}, {'content': 'asal', 'string_agg': '3'}, {'content': 'banafsheh', 'string_agg': '2 , 7'}]\n"
     ]
    }
   ],
   "source": [
    "stm = text(\"SELECT content, STRING_AGG(id::text, ' , ') FROM core_orm GROUP BY content\")\n",
    "exe(stm)"
   ]
  },
  {
   "cell_type": "code",
   "execution_count": 58,
   "id": "34e6d9e7-6e0f-42e2-8af4-c59ed9f61148",
   "metadata": {},
   "outputs": [
    {
     "data": {
      "text/plain": [
       "str"
      ]
     },
     "execution_count": 58,
     "metadata": {},
     "output_type": "execute_result"
    }
   ],
   "source": [
    "check_agg_type(stm)"
   ]
  },
  {
   "cell_type": "markdown",
   "id": "be931fd5-0935-42c0-bd17-0817ed578152",
   "metadata": {},
   "source": [
    "<h2>core</h2>"
   ]
  },
  {
   "cell_type": "code",
   "execution_count": 59,
   "id": "8d27115e-0fc8-419f-8c05-8668cd2d5cb0",
   "metadata": {},
   "outputs": [
    {
     "name": "stdout",
     "output_type": "stream",
     "text": [
      "[{'content': 'nick', 'string_agg_1': '4'}, {'content': 'noura', 'string_agg_1': '5'}, {'content': 'nima', 'string_agg_1': '1 , 8'}, {'content': 'asal', 'string_agg_1': '3'}, {'content': 'banafsheh', 'string_agg_1': '2 , 7'}]\n"
     ]
    }
   ],
   "source": [
    "from sqlalchemy import cast, String\n",
    "\n",
    "stm = select(t.c.content, func.string_agg(cast(t.c.id, String), text(\"' , '\"))).group_by(t.c.content)\n",
    "exe(stm)"
   ]
  },
  {
   "cell_type": "code",
   "execution_count": 60,
   "id": "4115d081-37e1-4d39-a97d-10cf5f84f911",
   "metadata": {},
   "outputs": [
    {
     "data": {
      "text/plain": [
       "str"
      ]
     },
     "execution_count": 60,
     "metadata": {},
     "output_type": "execute_result"
    }
   ],
   "source": [
    "check_agg_type(stm)"
   ]
  },
  {
   "cell_type": "markdown",
   "id": "63b1064a-f5b3-4a98-9242-77397c80d26a",
   "metadata": {},
   "source": [
    "<h2>orm</h2>"
   ]
  },
  {
   "cell_type": "code",
   "execution_count": 62,
   "id": "ca713d7b-c42e-4b1a-a279-95a0b5fbcd2f",
   "metadata": {},
   "outputs": [
    {
     "name": "stdout",
     "output_type": "stream",
     "text": [
      "[{'content': 'nick', 'string_agg': '4'}, {'content': 'noura', 'string_agg': '5'}, {'content': 'nima', 'string_agg': '1 , 8'}, {'content': 'asal', 'string_agg': '3'}, {'content': 'banafsheh', 'string_agg': '2 , 7'}]\n"
     ]
    }
   ],
   "source": [
    "stm = select(C.content, func.string_agg(cast(C.id, String), text(\"' , '\"))).group_by(C.content)\n",
    "exe(stm)"
   ]
  },
  {
   "cell_type": "code",
   "execution_count": 63,
   "id": "c0bd371a-910f-4d67-92b6-1f5abfcfc264",
   "metadata": {},
   "outputs": [
    {
     "data": {
      "text/plain": [
       "str"
      ]
     },
     "execution_count": 63,
     "metadata": {},
     "output_type": "execute_result"
    }
   ],
   "source": [
    "check_agg_type(stm)"
   ]
  },
  {
   "cell_type": "markdown",
   "id": "ef8a95c0-14e0-4253-ab71-bc12bffc2692",
   "metadata": {},
   "source": [
    "<h1>ARRAY_AGG GROUP BY</h1>"
   ]
  },
  {
   "cell_type": "markdown",
   "id": "8f4a3d33-0667-4451-ae04-7bbdf7f2c612",
   "metadata": {},
   "source": [
    "<h2>text</h2>"
   ]
  },
  {
   "cell_type": "code",
   "execution_count": 64,
   "id": "b2b98eb0-f776-40d2-b35f-4c75ad55a171",
   "metadata": {},
   "outputs": [
    {
     "name": "stdout",
     "output_type": "stream",
     "text": [
      "[{'content': 'nick', 'array_agg': [4]}, {'content': 'noura', 'array_agg': [5]}, {'content': 'nima', 'array_agg': [1, 8]}, {'content': 'asal', 'array_agg': [3]}, {'content': 'banafsheh', 'array_agg': [2, 7]}]\n"
     ]
    }
   ],
   "source": [
    "stm = text(\"SELECT content, ARRAY_AGG(id) FROM core_orm GROUP BY content\")\n",
    "exe(stm)"
   ]
  },
  {
   "cell_type": "code",
   "execution_count": 65,
   "id": "03806588-0673-4670-99f4-04ff0b5f4d36",
   "metadata": {},
   "outputs": [
    {
     "data": {
      "text/plain": [
       "list"
      ]
     },
     "execution_count": 65,
     "metadata": {},
     "output_type": "execute_result"
    }
   ],
   "source": [
    "check_agg_type(stm)"
   ]
  },
  {
   "cell_type": "markdown",
   "id": "3cc11d4f-e6db-4136-a1c1-f39bb56ddfa9",
   "metadata": {},
   "source": [
    "<h2>core</h2>"
   ]
  },
  {
   "cell_type": "code",
   "execution_count": 67,
   "id": "0302e1bb-6083-4e83-81dc-0baca5b07a10",
   "metadata": {},
   "outputs": [
    {
     "name": "stdout",
     "output_type": "stream",
     "text": [
      "[{'content': 'nick', 'array_agg_1': [4]}, {'content': 'noura', 'array_agg_1': [5]}, {'content': 'nima', 'array_agg_1': [1, 8]}, {'content': 'asal', 'array_agg_1': [3]}, {'content': 'banafsheh', 'array_agg_1': [2, 7]}]\n"
     ]
    },
    {
     "data": {
      "text/plain": [
       "list"
      ]
     },
     "execution_count": 67,
     "metadata": {},
     "output_type": "execute_result"
    }
   ],
   "source": [
    "stm = select(t.c.content, func.array_agg(t.c.id)).group_by(t.c.content)\n",
    "exe(stm)\n",
    "check_agg_type(stm)"
   ]
  },
  {
   "cell_type": "markdown",
   "id": "396b7947-6a32-4a50-9e24-a4ee4150f837",
   "metadata": {},
   "source": [
    "<h2>orm</h2>"
   ]
  },
  {
   "cell_type": "code",
   "execution_count": 68,
   "id": "598772eb-a083-4bcb-ab82-9351e8d395e4",
   "metadata": {},
   "outputs": [
    {
     "name": "stdout",
     "output_type": "stream",
     "text": [
      "[{'content': 'nick', 'array_agg': [4]}, {'content': 'noura', 'array_agg': [5]}, {'content': 'nima', 'array_agg': [1, 8]}, {'content': 'asal', 'array_agg': [3]}, {'content': 'banafsheh', 'array_agg': [2, 7]}]\n"
     ]
    },
    {
     "data": {
      "text/plain": [
       "list"
      ]
     },
     "execution_count": 68,
     "metadata": {},
     "output_type": "execute_result"
    }
   ],
   "source": [
    "stm = select(C.content, func.array_agg(C.id)).group_by(C.content)\n",
    "exe(stm)\n",
    "check_agg_type(stm)"
   ]
  },
  {
   "cell_type": "markdown",
   "id": "e66addcc-5d12-41c3-a14f-ba0d1d166358",
   "metadata": {},
   "source": [
    "<h1>HAVING</h1>"
   ]
  },
  {
   "cell_type": "raw",
   "id": "e3771945-6478-48ae-a36b-80a79c875624",
   "metadata": {},
   "source": [
    "SELECT c1, c2, AGG_FUNC(c3) AS agg_val\n",
    "FROM t\n",
    "WHERE <raw filters>\n",
    "GROUP BY c1, c2\n",
    "HAVING <aggregate conditions>\n",
    "ORDER BY c1, agg_val DESC;\n"
   ]
  },
  {
   "cell_type": "code",
   "execution_count": 3,
   "id": "6ccda1bb-21b7-4a44-a085-cc584a1aa051",
   "metadata": {},
   "outputs": [],
   "source": [
    "from sqlalchemy import create_engine\n",
    "engine = create_engine(uri)"
   ]
  },
  {
   "cell_type": "code",
   "execution_count": 4,
   "id": "303473c3-2ae3-4c4e-8d3f-0bb5f8045232",
   "metadata": {},
   "outputs": [],
   "source": [
    "from sqlalchemy.ext.automap import automap_base\n",
    "Base = automap_base()"
   ]
  },
  {
   "cell_type": "code",
   "execution_count": 5,
   "id": "75eff68d-8231-436a-be33-a77e785dbc87",
   "metadata": {},
   "outputs": [],
   "source": [
    "Base.prepare(autoload_with=engine)"
   ]
  },
  {
   "cell_type": "code",
   "execution_count": 6,
   "id": "e11abd96-3ea8-4430-a8a9-2ee905822f9a",
   "metadata": {},
   "outputs": [],
   "source": [
    "C = Base.classes.core_orm\n",
    "C.__repr__ = lambda self:f'id={self.id}, content={self.content}'"
   ]
  },
  {
   "cell_type": "code",
   "execution_count": 7,
   "id": "9f4e0aba-bc12-4dea-b551-fc8f18535791",
   "metadata": {},
   "outputs": [],
   "source": [
    "t = C.__table__"
   ]
  },
  {
   "cell_type": "code",
   "execution_count": 8,
   "id": "85a819ea-911d-419b-bb05-727ec42cebb5",
   "metadata": {},
   "outputs": [],
   "source": [
    "from sqlalchemy.orm import Session"
   ]
  },
  {
   "cell_type": "code",
   "execution_count": 9,
   "id": "f97b60a1-de8f-4909-bb36-e280795fd5d9",
   "metadata": {},
   "outputs": [],
   "source": [
    "def exe(stm):\n",
    "    with Session(engine) as session:\n",
    "        print(session.execute(stm).mappings().all())"
   ]
  },
  {
   "cell_type": "markdown",
   "id": "4fbc3220-3491-4c5d-b25f-4754a8cb574b",
   "metadata": {},
   "source": [
    "<h2>text</h2>"
   ]
  },
  {
   "cell_type": "code",
   "execution_count": 10,
   "id": "ba2a200a-042b-48fc-9b69-6b0327d19101",
   "metadata": {},
   "outputs": [],
   "source": [
    "from sqlalchemy import text"
   ]
  },
  {
   "cell_type": "code",
   "execution_count": 87,
   "id": "30b64c4e-1445-4020-bffa-7ba3e7ef3825",
   "metadata": {},
   "outputs": [],
   "source": [
    "st = \"\"\"\n",
    "SELECT content, COUNT(content), ARRAY_AGG(id), SUM(id)\n",
    "FROM core_orm\n",
    "WHERE id > 1 AND NOT (content LIKE '%ra')\n",
    "GROUP BY content\n",
    "HAVING SUM(id) > 3\n",
    "order by content\n",
    "\"\"\""
   ]
  },
  {
   "cell_type": "code",
   "execution_count": 88,
   "id": "4949cd2b-a8ac-4d06-8ebc-b26e2455ba7b",
   "metadata": {},
   "outputs": [
    {
     "name": "stdout",
     "output_type": "stream",
     "text": [
      "[{'content': 'banafsheh', 'count': 2, 'array_agg': [2, 7], 'sum': 9}, {'content': 'nick', 'count': 1, 'array_agg': [4], 'sum': 4}, {'content': 'nima', 'count': 1, 'array_agg': [8], 'sum': 8}]\n"
     ]
    }
   ],
   "source": [
    "stm = text(st)\n",
    "exe(stm)"
   ]
  },
  {
   "cell_type": "markdown",
   "id": "434961b8-36c0-4836-9b56-5939a241b5da",
   "metadata": {},
   "source": [
    "<h2>core</h2>"
   ]
  },
  {
   "cell_type": "code",
   "execution_count": 89,
   "id": "c5c8dd73-9270-483a-b5ee-239fead56138",
   "metadata": {},
   "outputs": [],
   "source": [
    "from sqlalchemy import select, func, and_"
   ]
  },
  {
   "cell_type": "code",
   "execution_count": 90,
   "id": "a70bd3d5-ef8f-4052-ba03-eff60e52a47a",
   "metadata": {},
   "outputs": [],
   "source": [
    "c = func.count\n",
    "s = func.sum\n",
    "a = func.array_agg \n",
    "\n",
    "content = t.c.content\n",
    "id = t.c.id\n",
    "\n",
    "cc = c(id).label('count(id)')\n",
    "ss = s(id).label('sum(id)')\n",
    "aa = a(id).label('array(id)')\n",
    "\n",
    "stm = select(content, cc, aa, ss).where(and_(id > 1, ~content.like('%ra'))).group_by(content).having(ss > 3).order_by(content)"
   ]
  },
  {
   "cell_type": "code",
   "execution_count": 91,
   "id": "4994e630-4bd6-4bec-bc8e-55a715aeea8a",
   "metadata": {},
   "outputs": [
    {
     "name": "stdout",
     "output_type": "stream",
     "text": [
      "[{'content': 'banafsheh', 'count(id)': 2, 'array(id)': [2, 7], 'sum(id)': 9}, {'content': 'nick', 'count(id)': 1, 'array(id)': [4], 'sum(id)': 4}, {'content': 'nima', 'count(id)': 1, 'array(id)': [8], 'sum(id)': 8}]\n"
     ]
    }
   ],
   "source": [
    "exe(stm)"
   ]
  },
  {
   "cell_type": "markdown",
   "id": "b833d64a-f4d8-47fd-8e9f-1c0c445f0174",
   "metadata": {},
   "source": [
    "<h2>orm</h2>"
   ]
  },
  {
   "cell_type": "code",
   "execution_count": 80,
   "id": "5be9ac59-225a-4c47-9574-922c4a745bba",
   "metadata": {},
   "outputs": [],
   "source": [
    "content = C.content\n",
    "id = C.id"
   ]
  },
  {
   "cell_type": "code",
   "execution_count": 81,
   "id": "5daed03b-6271-4f98-a079-21960657ddee",
   "metadata": {},
   "outputs": [],
   "source": [
    "stm = select(content, c(id), a(id), s(id)).where(and_(id > 1, ~content.like('%ra'))).group_by(content).having(s(id) > 3).order_by(content)"
   ]
  },
  {
   "cell_type": "code",
   "execution_count": 82,
   "id": "0c9e80a9-db48-4468-8d83-113cb36c254b",
   "metadata": {},
   "outputs": [
    {
     "name": "stdout",
     "output_type": "stream",
     "text": [
      "[{'content': 'banafsheh', 'count': 2, 'array_agg': [2, 7], 'sum': 9}, {'content': 'nick', 'count': 1, 'array_agg': [4], 'sum': 4}, {'content': 'nima', 'count': 1, 'array_agg': [8], 'sum': 8}]\n"
     ]
    }
   ],
   "source": [
    "exe(stm)"
   ]
  },
  {
   "cell_type": "markdown",
   "id": "8872d934-ba1b-4222-a230-52d4c628888f",
   "metadata": {},
   "source": [
    "<h1>stm.compile</h1>"
   ]
  },
  {
   "cell_type": "code",
   "execution_count": 93,
   "id": "41516fc2-b6cc-499c-9180-1d7864a2fe23",
   "metadata": {},
   "outputs": [
    {
     "name": "stdout",
     "output_type": "stream",
     "text": [
      "SELECT core_orm.content, count(core_orm.id) AS \"count(id)\", array_agg(core_orm.id) AS \"array(id)\", sum(core_orm.id) AS \"sum(id)\" \n",
      "FROM core_orm \n",
      "WHERE core_orm.id > :id_1 AND core_orm.content NOT LIKE :content_1 GROUP BY core_orm.content \n",
      "HAVING sum(core_orm.id) > :param_1 ORDER BY core_orm.content\n"
     ]
    }
   ],
   "source": [
    "print(str(stm))"
   ]
  },
  {
   "cell_type": "code",
   "execution_count": 95,
   "id": "236ae95a-4c8a-46e2-9c34-8d9b87aa8475",
   "metadata": {},
   "outputs": [
    {
     "name": "stdout",
     "output_type": "stream",
     "text": [
      "SELECT core_orm.content, count(core_orm.id) AS \"count(id)\", array_agg(core_orm.id) AS \"array(id)\", sum(core_orm.id) AS \"sum(id)\" \n",
      "FROM core_orm \n",
      "WHERE core_orm.id > :id_1 AND core_orm.content NOT LIKE :content_1 GROUP BY core_orm.content \n",
      "HAVING sum(core_orm.id) > :param_1 ORDER BY core_orm.content\n"
     ]
    }
   ],
   "source": [
    "print(stm.compile())"
   ]
  },
  {
   "cell_type": "code",
   "execution_count": 99,
   "id": "b1c2c641-5137-4e39-99d4-f76f25899dce",
   "metadata": {},
   "outputs": [
    {
     "name": "stdout",
     "output_type": "stream",
     "text": [
      "SELECT core_orm.content, count(core_orm.id) AS \"count(id)\", array_agg(core_orm.id) AS \"array(id)\", sum(core_orm.id) AS \"sum(id)\" \n",
      "FROM core_orm \n",
      "WHERE core_orm.id > 1 AND core_orm.content NOT LIKE '%ra' GROUP BY core_orm.content \n",
      "HAVING sum(core_orm.id) > 3 ORDER BY core_orm.content\n"
     ]
    }
   ],
   "source": [
    "print(stm.compile(compile_kwargs={'literal_binds': True}))"
   ]
  },
  {
   "cell_type": "markdown",
   "id": "8e40bc09-3ed6-4dc2-b03b-485795244159",
   "metadata": {},
   "source": [
    "<h1>aggregate functions without GROUP BY</h1>"
   ]
  },
  {
   "cell_type": "markdown",
   "id": "e123df6f-a714-4ce7-b948-285dc3afa61a",
   "metadata": {},
   "source": [
    "<h2>text</h2>"
   ]
  },
  {
   "cell_type": "code",
   "execution_count": 12,
   "id": "c336559d-495a-4a7c-9d15-93cdeb5de45a",
   "metadata": {},
   "outputs": [
    {
     "name": "stdout",
     "output_type": "stream",
     "text": [
      "[{'sum': 30, 'avg': Decimal('4.2857142857142857'), 'round': Decimal('4'), 'max': 8, 'count': 7}]\n"
     ]
    }
   ],
   "source": [
    "st = \"\"\"\n",
    "SELECT SUM(id), AVG(id), ROUNd(AVG(id)), MAX(id), COUNT(id)\n",
    "FROM core_orm\n",
    "\"\"\"\n",
    "stm = text(st)\n",
    "exe(stm)"
   ]
  },
  {
   "cell_type": "markdown",
   "id": "7deffdec-193c-4706-afe7-98220c89207e",
   "metadata": {},
   "source": [
    "<h2>core</h2>"
   ]
  },
  {
   "cell_type": "code",
   "execution_count": 16,
   "id": "3fcaf3e3-4658-40cd-8d6a-ac374c9d7d0c",
   "metadata": {},
   "outputs": [],
   "source": [
    "from sqlalchemy import func, select"
   ]
  },
  {
   "cell_type": "code",
   "execution_count": 18,
   "id": "a9fda9ae-d7f4-4c23-967d-fb0bd1381a8c",
   "metadata": {},
   "outputs": [
    {
     "name": "stdout",
     "output_type": "stream",
     "text": [
      "[{'sum_1': 30, 'avg_1': Decimal('4.2857142857142857'), 'round_1': Decimal('4'), 'max_1': 8, 'count_1': 7}]\n"
     ]
    }
   ],
   "source": [
    "id = t.c.id\n",
    "s = func.sum(id)\n",
    "a = func.avg(id)\n",
    "ra = func.round(func.avg(id))\n",
    "m = func.max(id)\n",
    "c = func.count(id)\n",
    "stm = select(s, a, ra, m, c)\n",
    "exe(stm)\n"
   ]
  },
  {
   "cell_type": "markdown",
   "id": "3f081402-63e0-4e02-a249-b36fdf0f72cd",
   "metadata": {},
   "source": [
    "<h2>orm</h2>"
   ]
  },
  {
   "cell_type": "code",
   "execution_count": 19,
   "id": "221070ba-96f2-41f9-8512-98263e074cf2",
   "metadata": {},
   "outputs": [
    {
     "name": "stdout",
     "output_type": "stream",
     "text": [
      "[{'sum': 30, 'avg': Decimal('4.2857142857142857'), 'round': Decimal('4'), 'max': 8, 'count': 7}]\n"
     ]
    }
   ],
   "source": [
    "id = C.id\n",
    "s = func.sum(id)\n",
    "a = func.avg(id)\n",
    "ra = func.round(func.avg(id))\n",
    "m = func.max(id)\n",
    "c = func.count(id)\n",
    "stm = select(s, a, ra, m, c)\n",
    "exe(stm)"
   ]
  },
  {
   "cell_type": "markdown",
   "id": "aabad407-be2b-4ce3-9ac2-af0e378c7c5c",
   "metadata": {},
   "source": [
    "<h1>literal vs literal_column</h1>"
   ]
  },
  {
   "cell_type": "raw",
   "id": "47a0fc21-d329-4e9b-a46c-09c7139191fa",
   "metadata": {},
   "source": [
    "✅ literal() — For Python Values (Bound Safely)\n",
    "Use this when:\n",
    "You want to insert a Python value (like a number, string, or expression) directly into a query, and have SQLAlchemy bind it safely as a parameter (i.e., protect it from SQL injection and properly manage type casting).\n",
    "\n",
    "literal can handle scalar (single) value"
   ]
  },
  {
   "cell_type": "raw",
   "id": "31ed460a-29d3-4734-8d33-6df387c58337",
   "metadata": {},
   "source": [
    "⚠️ literal_column() — For Raw SQL Fragments (Unbound!)\n",
    "Use this when:\n",
    "You want SQLAlchemy to treat the string as raw SQL, usually because you’re dynamically building SQL expressions by column name, function, or fragment."
   ]
  },
  {
   "cell_type": "raw",
   "id": "39d32fd0-2e51-4322-a606-6ff138408a7e",
   "metadata": {},
   "source": [
    "prefer literal() unless:\n",
    "\n",
    "You're dealing with something SQLAlchemy cannot parse/bind (like \"NOW()\" or CAST(... AS ...))\n",
    "\n",
    "You need raw SQL for vendor-specific syntax\n",
    "\n"
   ]
  },
  {
   "cell_type": "markdown",
   "id": "4175f4b8-7d0d-453a-8892-ced446d95847",
   "metadata": {},
   "source": [
    "<h1>Numeric or Decimal</h1>"
   ]
  },
  {
   "cell_type": "raw",
   "id": "4b54c2d0-22ea-4201-9657-4c6dd5b99322",
   "metadata": {},
   "source": [
    "NUMERIC(precision, scale)\n",
    "or\n",
    "DECIMAL(precision, scale)\n",
    "\n",
    "in PostgreSQL, NUMERIC and DECIMAL are functionally equivalent data types. Both represent exact numeric values with user-defined precision and scale\n",
    "\n",
    "What do precision and scale mean?\n",
    "Precision = total number of digits (before and after decimal point)\n",
    "\n",
    "Scale = number of digits after the decimal point\n",
    "\n",
    "Example: DECIMAL(6, 2) or NUMERIC(6, 2) can store numbers like 1234.56 or -99.99\n",
    "sign + or - both are handled\n",
    "so Numeric(1, 0)\n",
    "store integers from -9 to 9\n"
   ]
  },
  {
   "cell_type": "markdown",
   "id": "204999eb-1b78-406b-aa1c-2210c83fa0aa",
   "metadata": {},
   "source": [
    "<h1>math operations without table</h1>"
   ]
  },
  {
   "cell_type": "markdown",
   "id": "99b4bea9-42a2-4c16-8fd3-4d27cd455fd3",
   "metadata": {},
   "source": [
    "<h2>text</h2>"
   ]
  },
  {
   "cell_type": "code",
   "execution_count": 51,
   "id": "f6c069f1-b55d-407e-aeb9-5b6d954e2c0c",
   "metadata": {},
   "outputs": [
    {
     "name": "stdout",
     "output_type": "stream",
     "text": [
      "[{'sum_result': 8, 'int_div': 1, 'float_div': Decimal('1.6666666666666667'), 'floor_div': Decimal('1'), 'remainder': 2, 'mod': 2, 'rounded_div': Decimal('2')}]\n"
     ]
    }
   ],
   "source": [
    "st = \"\"\"\n",
    "SELECT \n",
    "  (5 + 3) AS sum_result,\n",
    "  (5/3) AS int_div,\n",
    "  (5.0/3) AS float_div,\n",
    "  FLOOR(5.0/3) AS floor_div,\n",
    "  (5 % 3) AS remainder,\n",
    "  MOD(5, 3) AS mod,\n",
    "  ROUND(5.0/3) AS rounded_div;\n",
    "\"\"\"\n",
    "stm = text(st)\n",
    "exe(stm)"
   ]
  },
  {
   "cell_type": "markdown",
   "id": "80e578c9-c616-4bb7-b840-e94c47058f9d",
   "metadata": {},
   "source": [
    "<h2>literal of python math operation + some func</h2>"
   ]
  },
  {
   "cell_type": "code",
   "execution_count": 87,
   "id": "311e36a5-1fd3-484d-82d2-39e43cdea680",
   "metadata": {},
   "outputs": [],
   "source": [
    "from sqlalchemy import select, func, literal, cast, Numeric\n",
    "\n",
    "o1 = literal(5 + 3).label('sum_result')\n",
    "o2 = literal(5 // 3) .label('int_div')\n",
    "o3 = literal(5.0 / 3).label('float_div')\n",
    "o4 = cast(5.0 // 3, Numeric(1, 0 )).label('floor_div')\n",
    "o4_v2 = func.floor(5.0 / 3).label('floor_div_2')\n",
    "o5 = literal(5%3).label('remainder')\n",
    "o6 = func.mod(5,3).label('mod')\n",
    "o7 = func.round(5.0 / 3).label('rounded_div')\n"
   ]
  },
  {
   "cell_type": "code",
   "execution_count": 88,
   "id": "a6389d16-f023-4382-965c-0d1b9e6cb3be",
   "metadata": {},
   "outputs": [],
   "source": [
    "stm = select(o1, o2, o3, o4, o4_v2, o5, o6, o7)"
   ]
  },
  {
   "cell_type": "code",
   "execution_count": 89,
   "id": "ff239b1b-5df3-48bf-bed1-2f073b353867",
   "metadata": {},
   "outputs": [
    {
     "name": "stdout",
     "output_type": "stream",
     "text": [
      "[{'sum_result': 8, 'int_div': 1, 'float_div': 1.6666666666666667, 'floor_div': Decimal('1'), 'floor_div_2': Decimal('1'), 'remainder': 2, 'mod': 2, 'rounded_div': Decimal('2')}]\n"
     ]
    }
   ],
   "source": [
    "exe(stm)"
   ]
  },
  {
   "cell_type": "markdown",
   "id": "2c2827ad-c19e-4502-85a1-d891e1a05417",
   "metadata": {},
   "source": [
    "<h2>literal_column of raw sql</h2>"
   ]
  },
  {
   "cell_type": "code",
   "execution_count": 91,
   "id": "6298ce63-4a49-4e16-b8b3-8bc4652d000f",
   "metadata": {},
   "outputs": [
    {
     "name": "stdout",
     "output_type": "stream",
     "text": [
      "[{'sum_result': 8, 'int_div': 1, 'float_div': Decimal('1.6666666666666667'), 'floor_div': Decimal('1'), 'floor_div_2': Decimal('1'), 'remainder': 2, 'mod': 2, 'rounded_div': Decimal('2')}]\n"
     ]
    }
   ],
   "source": [
    "from sqlalchemy import select, literal_column\n",
    "\n",
    "o1 = literal_column('5 + 3').label('sum_result')\n",
    "o2 = literal_column('5/3').label('int_div')\n",
    "o3 = literal_column('5.0/3').label('float_div')\n",
    "o4 = literal_column('FLOOR(5.0/3)').label('floor_div')\n",
    "o5 = literal_column('5 % 3').label('remainder')\n",
    "o6 = literal_column('MOD(5, 3)').label('mod')\n",
    "o7 = literal_column('ROUND(5.0/3)').label('rounded_div')\n",
    "\n",
    "stm = select(o1, o2, o3, o4, o4_v2, o5, o6, o7)\n",
    "exe(stm)"
   ]
  },
  {
   "cell_type": "markdown",
   "id": "396a056d-4823-41c2-87dd-e1ce36074a2e",
   "metadata": {},
   "source": [
    "<h1>ROUND(x,n)</h1>"
   ]
  },
  {
   "cell_type": "code",
   "execution_count": 11,
   "id": "05d4cbaf-2a92-49d7-98f4-8ef8648c72f7",
   "metadata": {},
   "outputs": [
    {
     "name": "stdout",
     "output_type": "stream",
     "text": [
      "[{'round': Decimal('3.12')}]\n"
     ]
    }
   ],
   "source": [
    "exe(text(\"SELECT ROUND(3.12345,2)\"))"
   ]
  },
  {
   "cell_type": "code",
   "execution_count": 13,
   "id": "cbab4409-686a-4476-b2de-a8ead8794ff6",
   "metadata": {},
   "outputs": [
    {
     "name": "stdout",
     "output_type": "stream",
     "text": [
      "[{'round_1': Decimal('3.12')}]\n"
     ]
    }
   ],
   "source": [
    "from sqlalchemy import literal, select,func\n",
    "\n",
    "exe(select(func.round(literal(3.12345), 2)))"
   ]
  },
  {
   "cell_type": "markdown",
   "id": "7f6e9662-7726-49d2-809b-9a7930e9c5a6",
   "metadata": {},
   "source": [
    "<h1>math operations on columns</h1>"
   ]
  },
  {
   "cell_type": "code",
   "execution_count": 14,
   "id": "5713947c-076c-410a-b068-d6143056a139",
   "metadata": {},
   "outputs": [
    {
     "name": "stdout",
     "output_type": "stream",
     "text": [
      "[{'?column?': 2}, {'?column?': 4}, {'?column?': 6}, {'?column?': 8}, {'?column?': 10}, {'?column?': 14}, {'?column?': 16}]\n"
     ]
    }
   ],
   "source": [
    "exe(text(\"SELECT 2 * id FROM core_orm\"))"
   ]
  },
  {
   "cell_type": "code",
   "execution_count": 16,
   "id": "25bf34d3-ead7-499b-9d6f-cb8511bac645",
   "metadata": {},
   "outputs": [
    {
     "name": "stdout",
     "output_type": "stream",
     "text": [
      "[{'_no_label': 2}, {'_no_label': 4}, {'_no_label': 6}, {'_no_label': 8}, {'_no_label': 10}, {'_no_label': 14}, {'_no_label': 16}]\n"
     ]
    }
   ],
   "source": [
    "stm = select(literal(2) * C.id)\n",
    "exe(stm)"
   ]
  },
  {
   "cell_type": "markdown",
   "id": "869d68fc-bdb8-4154-8fbe-cedd1676d94e",
   "metadata": {},
   "source": [
    "<h1>NULL vs None</h1>"
   ]
  },
  {
   "cell_type": "raw",
   "id": "ed0a3f57-6f86-4360-905c-bbcd561f5f69",
   "metadata": {},
   "source": [
    "NULL in postgres is same as None in SQLAlchemy"
   ]
  },
  {
   "cell_type": "markdown",
   "id": "94397382-0c6a-417d-bfe0-915b766b32b1",
   "metadata": {},
   "source": [
    "<h1>is_ / IS</h1>"
   ]
  },
  {
   "cell_type": "raw",
   "id": "376758ca-e219-48ae-8572-9a9fdfa3be78",
   "metadata": {},
   "source": [
    "You're explicitly testing identity (like IS NULL, IS TRUE, etc.)\n",
    "\n",
    "You're working with booleans, NULLs, or similar SQL identity values"
   ]
  },
  {
   "cell_type": "markdown",
   "id": "f628ff36-2f93-438e-a7d6-1fd9d72beb03",
   "metadata": {},
   "source": [
    "<h1>insert NULL</h1>"
   ]
  },
  {
   "cell_type": "code",
   "execution_count": 2,
   "id": "2c7ad2be-faa1-448e-b04e-4a3992653976",
   "metadata": {},
   "outputs": [],
   "source": [
    "from sqlalchemy import create_engine"
   ]
  },
  {
   "cell_type": "code",
   "execution_count": 3,
   "id": "cbe54b10-d635-4437-a508-bf9b39762b0c",
   "metadata": {},
   "outputs": [],
   "source": [
    "engine = create_engine(uri)"
   ]
  },
  {
   "cell_type": "code",
   "execution_count": 4,
   "id": "c660cf59-21d0-4990-ab3c-ec9d6b316c88",
   "metadata": {},
   "outputs": [],
   "source": [
    "from sqlalchemy.ext.automap import automap_base"
   ]
  },
  {
   "cell_type": "code",
   "execution_count": 5,
   "id": "80f918c7-0004-4190-819a-6c54cea84c34",
   "metadata": {},
   "outputs": [],
   "source": [
    "Base = automap_base()"
   ]
  },
  {
   "cell_type": "code",
   "execution_count": 7,
   "id": "248f4d8f-8980-4b93-a041-ef5220f3099c",
   "metadata": {},
   "outputs": [],
   "source": [
    "Base.prepare(autoload_with = engine)"
   ]
  },
  {
   "cell_type": "code",
   "execution_count": 8,
   "id": "32abcebd-1911-405e-a19c-d26c54411def",
   "metadata": {},
   "outputs": [],
   "source": [
    "C = Base.classes.core_orm\n",
    "C.__repr__= lambda self : f'id = {self.id} , content = {self.content}'"
   ]
  },
  {
   "cell_type": "code",
   "execution_count": 9,
   "id": "2fd1ae77-cf36-44c2-8a03-0bb87c30436c",
   "metadata": {},
   "outputs": [],
   "source": [
    "t = C.__table__"
   ]
  },
  {
   "cell_type": "markdown",
   "id": "8d410526-e92c-4b92-a661-a1ec3df41f76",
   "metadata": {},
   "source": [
    "<h2>text</h2>"
   ]
  },
  {
   "cell_type": "code",
   "execution_count": 10,
   "id": "16e02ee2-5074-4b5d-9c47-d9e21451a419",
   "metadata": {},
   "outputs": [],
   "source": [
    "from sqlalchemy import text"
   ]
  },
  {
   "cell_type": "code",
   "execution_count": 11,
   "id": "84903a0d-e02a-4a4f-b493-7a3885814e8d",
   "metadata": {},
   "outputs": [],
   "source": [
    "stm = text('INSERT INTO core_orm(content) VALUES(NULL)')"
   ]
  },
  {
   "cell_type": "code",
   "execution_count": 13,
   "id": "572ddfb6-f564-4b68-9347-52e37fc80d38",
   "metadata": {},
   "outputs": [],
   "source": [
    "from sqlalchemy.orm import Session\n",
    "\n",
    "with Session(engine) as session:\n",
    "    session.execute(stm)\n",
    "    session.commit()"
   ]
  },
  {
   "cell_type": "markdown",
   "id": "f1dfd458-809a-4e27-95fb-45ef8386ef28",
   "metadata": {},
   "source": [
    "<h2>core</h2>"
   ]
  },
  {
   "cell_type": "code",
   "execution_count": 14,
   "id": "1fc180e9-ca8b-4c85-a409-47d0f44f9b7c",
   "metadata": {},
   "outputs": [],
   "source": [
    "from sqlalchemy import insert\n",
    "\n",
    "stm = insert(t).values(content = None)\n",
    "with Session(engine) as session:\n",
    "    session.execute(stm)\n",
    "    session.commit()"
   ]
  },
  {
   "cell_type": "markdown",
   "id": "99a6f66c-83e4-443e-a1bb-6ddeb198dd9e",
   "metadata": {},
   "source": [
    "<h2>orm</h2>"
   ]
  },
  {
   "cell_type": "code",
   "execution_count": 15,
   "id": "8b7ca67d-453e-46c7-93a1-a80c4f4e7a20",
   "metadata": {},
   "outputs": [],
   "source": [
    "row = C(content = None)\n",
    "with Session(engine) as session:\n",
    "    session.add(row)\n",
    "    session.commit()"
   ]
  },
  {
   "cell_type": "code",
   "execution_count": 16,
   "id": "7cd1b92e-64a7-4d71-8329-60039771e511",
   "metadata": {},
   "outputs": [],
   "source": [
    "from sqlalchemy import select"
   ]
  },
  {
   "cell_type": "code",
   "execution_count": 18,
   "id": "12d2c54f-41d6-4b2b-a5aa-6e69c9a88437",
   "metadata": {},
   "outputs": [],
   "source": [
    "with Session(engine) as session:\n",
    "    r = session.execute(select(t)).mappings().all()"
   ]
  },
  {
   "cell_type": "code",
   "execution_count": 19,
   "id": "11832e6c-d2e2-42b7-a603-6e728312b4e8",
   "metadata": {},
   "outputs": [
    {
     "name": "stdout",
     "output_type": "stream",
     "text": [
      "[{'id': 1, 'content': 'nima'}, {'id': 2, 'content': 'banafsheh'}, {'id': 3, 'content': 'asal'}, {'id': 4, 'content': 'nick'}, {'id': 5, 'content': 'noura'}, {'id': 7, 'content': 'banafsheh'}, {'id': 8, 'content': 'nima'}, {'id': 9, 'content': None}, {'id': 10, 'content': None}, {'id': 11, 'content': None}]\n"
     ]
    }
   ],
   "source": [
    "print(r)"
   ]
  },
  {
   "cell_type": "markdown",
   "id": "66146dce-ba97-46c0-8759-716557cee547",
   "metadata": {},
   "source": [
    "<h1>check for NULLs</h1>"
   ]
  },
  {
   "cell_type": "code",
   "execution_count": 20,
   "id": "ef5bc3a3-84f6-45c4-a9d0-56bcafc14827",
   "metadata": {},
   "outputs": [],
   "source": [
    "def exe(stm):\n",
    "    with Session(engine) as session:\n",
    "        print(session.execute(stm).mappings().all())"
   ]
  },
  {
   "cell_type": "markdown",
   "id": "7df7712f-3498-4ca4-b860-db6a941c7281",
   "metadata": {},
   "source": [
    "<h2>text</h2>"
   ]
  },
  {
   "cell_type": "code",
   "execution_count": 21,
   "id": "f52506b3-6321-42f0-90a5-ea45115a9653",
   "metadata": {},
   "outputs": [
    {
     "name": "stdout",
     "output_type": "stream",
     "text": [
      "[{'id': 9, 'content': None}, {'id': 10, 'content': None}, {'id': 11, 'content': None}]\n"
     ]
    }
   ],
   "source": [
    "exe(text(\"SELECT * FROM core_orm WHERE content IS NULL\"))"
   ]
  },
  {
   "cell_type": "markdown",
   "id": "249d8cf3-98b5-4ef7-bd08-cfabfa940fea",
   "metadata": {},
   "source": [
    "<h2>core</h2>"
   ]
  },
  {
   "cell_type": "code",
   "execution_count": 25,
   "id": "8984b9be-b798-493f-a845-c1a4f6cf1181",
   "metadata": {},
   "outputs": [
    {
     "name": "stdout",
     "output_type": "stream",
     "text": [
      "[{'core_orm': id = 9 , content = None}, {'core_orm': id = 10 , content = None}, {'core_orm': id = 11 , content = None}]\n"
     ]
    }
   ],
   "source": [
    "exe (select(C).where(C.content.is_(None)))"
   ]
  },
  {
   "cell_type": "markdown",
   "id": "77a1d57a-4d32-4674-ad77-d2597da600d8",
   "metadata": {},
   "source": [
    "<h1>check for not NULLS</h1>"
   ]
  },
  {
   "cell_type": "markdown",
   "id": "3d2bac3e-4b37-4f14-8a8c-da83732ff63b",
   "metadata": {},
   "source": [
    "<h2>text</h2>"
   ]
  },
  {
   "cell_type": "code",
   "execution_count": 26,
   "id": "bfac44b4-6df1-49f6-a04d-6faa243c80d2",
   "metadata": {},
   "outputs": [
    {
     "name": "stdout",
     "output_type": "stream",
     "text": [
      "[{'id': 1, 'content': 'nima'}, {'id': 2, 'content': 'banafsheh'}, {'id': 3, 'content': 'asal'}, {'id': 4, 'content': 'nick'}, {'id': 5, 'content': 'noura'}, {'id': 7, 'content': 'banafsheh'}, {'id': 8, 'content': 'nima'}]\n"
     ]
    }
   ],
   "source": [
    "exe(text(\"SELECT * FROM core_orm WHERE content IS NOT NULL\"))"
   ]
  },
  {
   "cell_type": "markdown",
   "id": "4720a77a-f1c6-4ea9-896a-9c732c9ebf2a",
   "metadata": {},
   "source": [
    "<h2>core/orm</h2>"
   ]
  },
  {
   "cell_type": "code",
   "execution_count": 27,
   "id": "95992d48-0ef7-4a0f-a8c7-66ecc7cac400",
   "metadata": {},
   "outputs": [
    {
     "name": "stdout",
     "output_type": "stream",
     "text": [
      "[{'core_orm': id = 1 , content = nima}, {'core_orm': id = 2 , content = banafsheh}, {'core_orm': id = 3 , content = asal}, {'core_orm': id = 4 , content = nick}, {'core_orm': id = 5 , content = noura}, {'core_orm': id = 7 , content = banafsheh}, {'core_orm': id = 8 , content = nima}]\n"
     ]
    }
   ],
   "source": [
    "exe (select(C).where(C.content.is_not(None)))"
   ]
  },
  {
   "cell_type": "markdown",
   "id": "e1e1de1b-7b2d-468f-a149-3a262c248fdc",
   "metadata": {},
   "source": [
    "<h1>Conditional Structures</h1>"
   ]
  },
  {
   "cell_type": "markdown",
   "id": "4fa60aae-9f6b-4950-a511-36bd2fc3414e",
   "metadata": {},
   "source": [
    "<h2>NULLIF</h2>"
   ]
  },
  {
   "cell_type": "markdown",
   "id": "10588c76-5ddf-46b9-af3d-6e6b271372f4",
   "metadata": {},
   "source": [
    "<h3>text</h3>"
   ]
  },
  {
   "cell_type": "code",
   "execution_count": 30,
   "id": "0957fe48-29c3-423b-9a6d-82a98d25d65b",
   "metadata": {},
   "outputs": [
    {
     "name": "stdout",
     "output_type": "stream",
     "text": [
      "[{'content': 'nima'}, {'content': 'banafsheh'}, {'content': 'asal'}, {'content': 'nick'}, {'content': 'noura'}, {'content': 'banafsheh'}, {'content': 'nima'}, {'content': None}, {'content': None}, {'content': None}]\n"
     ]
    }
   ],
   "source": [
    "exe(text(\"SELECT content FROM core_orm\"))"
   ]
  },
  {
   "cell_type": "code",
   "execution_count": 28,
   "id": "09dd256f-777e-4954-a065-5e6800445ec1",
   "metadata": {},
   "outputs": [
    {
     "name": "stdout",
     "output_type": "stream",
     "text": [
      "[{'nullif': 'nima'}, {'nullif': 'banafsheh'}, {'nullif': 'asal'}, {'nullif': None}, {'nullif': 'noura'}, {'nullif': 'banafsheh'}, {'nullif': 'nima'}, {'nullif': None}, {'nullif': None}, {'nullif': None}]\n"
     ]
    }
   ],
   "source": [
    "exe(text(\"SELECT NULLIF(content, 'nick') FROM core_orm\"))"
   ]
  },
  {
   "cell_type": "markdown",
   "id": "bd10bb83-7933-4e7d-bc8b-96582321ceed",
   "metadata": {},
   "source": [
    "<h3>core/orm</h3>"
   ]
  },
  {
   "cell_type": "code",
   "execution_count": 38,
   "id": "78557c3e-7ea7-4e18-82f3-7310e588692c",
   "metadata": {},
   "outputs": [
    {
     "name": "stdout",
     "output_type": "stream",
     "text": [
      "[{'nullif': 'nima'}, {'nullif': 'banafsheh'}, {'nullif': 'asal'}, {'nullif': None}, {'nullif': 'noura'}, {'nullif': 'banafsheh'}, {'nullif': 'nima'}, {'nullif': None}, {'nullif': None}, {'nullif': None}]\n"
     ]
    }
   ],
   "source": [
    "from sqlalchemy import func\n",
    "nullif_nick = func.nullif(C.content, 'nick')\n",
    "exe(select(nullif_nick))"
   ]
  },
  {
   "cell_type": "markdown",
   "id": "4ccc9156-9f39-44a2-a32c-46f777d82b71",
   "metadata": {},
   "source": [
    "<h2>COALESCE</h2>"
   ]
  },
  {
   "cell_type": "markdown",
   "id": "fff85226-6b42-4c36-87ab-531a07bbef85",
   "metadata": {},
   "source": [
    "<h3>text</h3>"
   ]
  },
  {
   "cell_type": "code",
   "execution_count": 39,
   "id": "677ee571-d969-4f4b-a9a1-2842e1f9775a",
   "metadata": {},
   "outputs": [
    {
     "name": "stdout",
     "output_type": "stream",
     "text": [
      "[{'coalesce': 'nima'}, {'coalesce': 'banafsheh'}, {'coalesce': 'asal'}, {'coalesce': 'nick'}, {'coalesce': 'noura'}, {'coalesce': 'banafsheh'}, {'coalesce': 'nima'}, {'coalesce': 'no content'}, {'coalesce': 'no content'}, {'coalesce': 'no content'}]\n"
     ]
    }
   ],
   "source": [
    "exe(text(\"SELECT COALESCE(content, 'no content') FROM core_orm\"))"
   ]
  },
  {
   "cell_type": "markdown",
   "id": "6b605fbd-be29-40b7-a2b0-407d33f486ad",
   "metadata": {},
   "source": [
    "<h3>core/orm</h3>"
   ]
  },
  {
   "cell_type": "code",
   "execution_count": 40,
   "id": "0f759175-4fb1-455a-b858-b63e3e3e2615",
   "metadata": {},
   "outputs": [
    {
     "name": "stdout",
     "output_type": "stream",
     "text": [
      "[{'coalesce': 'nima'}, {'coalesce': 'banafsheh'}, {'coalesce': 'asal'}, {'coalesce': 'nick'}, {'coalesce': 'noura'}, {'coalesce': 'banafsheh'}, {'coalesce': 'nima'}, {'coalesce': 'no content'}, {'coalesce': 'no content'}, {'coalesce': 'no content'}]\n"
     ]
    }
   ],
   "source": [
    "null_to_no_contetn = func.coalesce(C.content, 'no content')\n",
    "exe (select(null_to_no_contetn))"
   ]
  },
  {
   "cell_type": "markdown",
   "id": "5a1ab561-013f-4647-9d05-6d5219de4ff9",
   "metadata": {},
   "source": [
    "<h2>SIMPLE CASE</h2>"
   ]
  },
  {
   "cell_type": "markdown",
   "id": "aa12fb98-8dae-4475-a816-0ec6e83a4ac1",
   "metadata": {},
   "source": [
    "<h3>text</h3>"
   ]
  },
  {
   "cell_type": "code",
   "execution_count": 44,
   "id": "6b28738a-93c2-4c6d-9e65-93bb84d721d1",
   "metadata": {},
   "outputs": [
    {
     "name": "stdout",
     "output_type": "stream",
     "text": [
      "[{'content': 'nima'}, {'content': 'banafsheh'}, {'content': 'asal'}, {'content': None}, {'content': 'noura'}, {'content': 'banafsheh'}, {'content': 'nima'}, {'content': None}, {'content': None}, {'content': None}]\n"
     ]
    }
   ],
   "source": [
    "exe(text(\"\"\"\n",
    "SELECT\n",
    "CASE content\n",
    "WHEN 'nick' THEN NULL\n",
    "ELSE content\n",
    "END\n",
    "FROM core_orm\n",
    "\"\"\"))"
   ]
  },
  {
   "cell_type": "markdown",
   "id": "2c5af20e-1d3a-457a-aa03-f77972227d6c",
   "metadata": {},
   "source": [
    "<h3>core/orm</h3>"
   ]
  },
  {
   "cell_type": "raw",
   "id": "7cf208b9-ba5b-445b-a543-00ffb8e2d661",
   "metadata": {},
   "source": [
    "it does not exists"
   ]
  },
  {
   "cell_type": "markdown",
   "id": "8ac42227-b5b1-4f28-b388-b8a593856bfb",
   "metadata": {},
   "source": [
    "<h2>SEARCHED CASE</h2>"
   ]
  },
  {
   "cell_type": "markdown",
   "id": "ca5b27d7-68e9-4a8a-a7bc-ddcc0f7cdee0",
   "metadata": {},
   "source": [
    "<h3>text</h3>"
   ]
  },
  {
   "cell_type": "code",
   "execution_count": 48,
   "id": "db043587-b60d-4a75-9e95-31af88d8240e",
   "metadata": {},
   "outputs": [
    {
     "name": "stdout",
     "output_type": "stream",
     "text": [
      "[{'content': 'nima'}, {'content': 'banafsheh'}, {'content': 'asal'}, {'content': None}, {'content': 'noura'}, {'content': 'banafsheh'}, {'content': 'nima'}, {'content': 'no content'}, {'content': 'no content'}, {'content': 'no content'}]\n"
     ]
    }
   ],
   "source": [
    "exe(text(\"\"\"\n",
    "SELECT\n",
    "CASE\n",
    "WHEN content IS NULL THEN 'no content'\n",
    "WHEN content = 'nick' THEN NULL\n",
    "ELSE content\n",
    "END\n",
    "FROM core_orm\n",
    "\"\"\"))"
   ]
  },
  {
   "cell_type": "markdown",
   "id": "7a6f97e0-7034-4776-8db9-08c999c4b7b4",
   "metadata": {},
   "source": [
    "<h3>core/orm</h3>"
   ]
  },
  {
   "cell_type": "code",
   "execution_count": 55,
   "id": "13e23ce1-2a0e-4cc9-aa21-83a9238c1b3c",
   "metadata": {},
   "outputs": [],
   "source": [
    "from sqlalchemy import case"
   ]
  },
  {
   "cell_type": "code",
   "execution_count": 57,
   "id": "a803f350-516c-48fc-bd0a-7cd93bb49cda",
   "metadata": {},
   "outputs": [
    {
     "name": "stdout",
     "output_type": "stream",
     "text": [
      "[{'_no_label': 'nima'}, {'_no_label': 'banafsheh'}, {'_no_label': 'asal'}, {'_no_label': None}, {'_no_label': 'noura'}, {'_no_label': 'banafsheh'}, {'_no_label': 'nima'}, {'_no_label': 'no content'}, {'_no_label': 'no content'}, {'_no_label': 'no content'}]\n"
     ]
    }
   ],
   "source": [
    "c = case(\n",
    "    (C.content.is_(None), 'no content'),\n",
    "    (C.content == 'nick', None),\n",
    "    else_ = C.content\n",
    ")\n",
    "exe(select(c))"
   ]
  },
  {
   "cell_type": "markdown",
   "id": "4b3824fe-b865-4d53-8933-f0bc344e049b",
   "metadata": {},
   "source": [
    "<h1>NULLIF for preventing devide by zero</h1>"
   ]
  },
  {
   "cell_type": "raw",
   "id": "7305690e-a3d6-44cb-be13-24aeecde238a",
   "metadata": {},
   "source": [
    "devide by zeor : ERROR\n",
    "devide by NULL : Safe"
   ]
  },
  {
   "cell_type": "markdown",
   "id": "d30d499d-ec44-4550-8e9c-f3011e823bea",
   "metadata": {},
   "source": [
    "<h3>text</h3>"
   ]
  },
  {
   "cell_type": "code",
   "execution_count": 49,
   "id": "18e4674b-999a-47f7-9f9f-e247b53778dc",
   "metadata": {},
   "outputs": [
    {
     "name": "stdout",
     "output_type": "stream",
     "text": [
      "[{'?column?': None}]\n"
     ]
    }
   ],
   "source": [
    "exe(text(\"SELECT 10/NULLIF(0, 0)\"))"
   ]
  },
  {
   "cell_type": "markdown",
   "id": "e7dc46ef-1d2e-41bc-a20c-07703617ba9a",
   "metadata": {},
   "source": [
    "<h3>core/orm</h3>"
   ]
  },
  {
   "cell_type": "code",
   "execution_count": 50,
   "id": "bf5192af-d727-4d0a-a62b-c3f2735a02e3",
   "metadata": {},
   "outputs": [],
   "source": [
    "from sqlalchemy import literal"
   ]
  },
  {
   "cell_type": "code",
   "execution_count": 52,
   "id": "916ce5f7-226c-44ef-9bc2-f711724894c0",
   "metadata": {},
   "outputs": [
    {
     "name": "stdout",
     "output_type": "stream",
     "text": [
      "[{'anon_1': None}]\n"
     ]
    }
   ],
   "source": [
    "exe(select(literal(10) / func.nullif(0,0)))"
   ]
  },
  {
   "cell_type": "markdown",
   "id": "56f55c05-dd72-44c6-816b-d62f543e2a5f",
   "metadata": {},
   "source": [
    "<h1>4 tools of registry</h1>"
   ]
  },
  {
   "cell_type": "code",
   "execution_count": 1,
   "id": "c2841d25-b606-4875-9128-8a3e2f693518",
   "metadata": {},
   "outputs": [],
   "source": [
    "from sqlalchemy.orm import registry\n",
    "sqlalchemy_resigtry = registry()"
   ]
  },
  {
   "cell_type": "markdown",
   "id": "7a7ef73e-4182-4846-b671-c075dce588d4",
   "metadata": {},
   "source": [
    "<h2>metadata</h2>"
   ]
  },
  {
   "cell_type": "code",
   "execution_count": 2,
   "id": "8afc0d1e-00ba-460c-b2d3-b0b0ff1f20e2",
   "metadata": {},
   "outputs": [],
   "source": [
    "# 1\n",
    "metadata = sqlalchemy_resigtry.metadata"
   ]
  },
  {
   "cell_type": "raw",
   "id": "11264de1-2aee-4ff2-9d02-fdacb61a50da",
   "metadata": {},
   "source": [
    "class ORMModel:\n",
    "    __table__: Table(metadata,...)"
   ]
  },
  {
   "cell_type": "markdown",
   "id": "e710a35a-7c50-4a3a-a800-9ab7f6040c21",
   "metadata": {},
   "source": [
    "<h2>generate_base</h2>"
   ]
  },
  {
   "cell_type": "code",
   "execution_count": 3,
   "id": "6bdc6a19-f36b-4ecc-9c60-96b180d0c896",
   "metadata": {},
   "outputs": [],
   "source": [
    "# 2\n",
    "Base = sqlalchemy_resigtry.generate_base()"
   ]
  },
  {
   "cell_type": "raw",
   "id": "80dfe7d4-5f24-4f1c-9aec-99f1fb3554b7",
   "metadata": {},
   "source": [
    "class ORMModel(Base):\n",
    "    __tablename__: 'name'\n",
    "    ..."
   ]
  },
  {
   "cell_type": "markdown",
   "id": "72af0301-c8f8-4e54-80f0-a0c9779930a6",
   "metadata": {},
   "source": [
    "<h2>mapped decorator</h2>"
   ]
  },
  {
   "cell_type": "code",
   "execution_count": null,
   "id": "2e69c6f3-751c-41c1-b95f-9a692cf8cf1d",
   "metadata": {},
   "outputs": [],
   "source": [
    "# 3 Decorator\n",
    "mapped = sqlalchemy_resigtry.mapped"
   ]
  },
  {
   "cell_type": "raw",
   "id": "6b72fec5-d166-4c3a-a44d-49bef7ef6f98",
   "metadata": {},
   "source": [
    "@mapped\n",
    "class ORMModel:\n",
    "    __tablename__: 'name'\n",
    "    ..."
   ]
  },
  {
   "cell_type": "markdown",
   "id": "db054cd3-eef9-48c9-9397-c88d525341de",
   "metadata": {},
   "source": [
    "<h2>bind class to table obj</h2>"
   ]
  },
  {
   "cell_type": "code",
   "execution_count": 6,
   "id": "a96573e5-3a00-4588-a399-05a0803b8bde",
   "metadata": {},
   "outputs": [],
   "source": [
    "# 4\n",
    "bind_class_to_table = sqlalchemy_resigtry.map_imperatively"
   ]
  },
  {
   "cell_type": "raw",
   "id": "a7073a91-0519-4d0c-9824-3ee78c6d9739",
   "metadata": {},
   "source": [
    "class ORMModel:\n",
    "    pass\n",
    "table_obj = Table(...) from any metadata\n",
    "bind_class_to_table(ORMMOdel, table_obj)"
   ]
  },
  {
   "cell_type": "markdown",
   "id": "f97cef76-cbcb-457c-9a1d-a77a462b302d",
   "metadata": {},
   "source": [
    "<h1>Defenitions</h1>"
   ]
  },
  {
   "cell_type": "raw",
   "id": "a278040e-6899-4848-8597-8980f6c31122",
   "metadata": {},
   "source": [
    "ORM tools: abzar haiy jahat kar ba db bedun e raw sql. dar anha jadavel be class va radifha\n",
    "be object haiy az un class tabdil mishavand\n",
    "\n",
    "metadata: container az table obj + omit to db / reflect from db\n",
    "\n",
    "ORM Model: Python class + mapping to a table obj\n",
    "\n",
    "Base.class: dastresi be jadavel reflect shode\n",
    "\n",
    "metadata.tables: dastresi be hamaie jadavel reflect shode ia nashode\n",
    "\n",
    "reflecting: Just for updating the schema(design) of a table. It is not related to data(rows)\n",
    "stored in the table"
   ]
  },
  {
   "cell_type": "markdown",
   "id": "7eb9b30e-4afb-4cce-9a0b-b5b521bcf23c",
   "metadata": {},
   "source": [
    "<h1>Altering a table</h1>"
   ]
  },
  {
   "cell_type": "raw",
   "id": "fdfb4769-0ab3-4a78-8f64-eb882ca10104",
   "metadata": {},
   "source": [
    "ALTER TABLE t_name\n",
    "ADD COLUMN\n",
    "c_name c_type"
   ]
  },
  {
   "cell_type": "code",
   "execution_count": 5,
   "id": "54b30136-02d2-46b0-8129-ac8d3dc64409",
   "metadata": {},
   "outputs": [],
   "source": [
    "from sqlalchemy import text\n",
    "raw = \"\"\"\n",
    "ALTER TABLE date\n",
    "ADD COLUMN\n",
    "with_zone TIMESTAMPTZ\n",
    "\"\"\"\n",
    "stm = text(raw)"
   ]
  },
  {
   "cell_type": "code",
   "execution_count": 6,
   "id": "90b8d4c7-36ec-4d4f-822c-e1ab6052fb7f",
   "metadata": {},
   "outputs": [],
   "source": [
    "from sqlalchemy.orm import Session\n",
    "\n",
    "with Session(engine) as session:\n",
    "    session.execute(stm)\n",
    "    session.commit()"
   ]
  },
  {
   "cell_type": "code",
   "execution_count": 14,
   "id": "d8b11387-002d-4fc2-8386-28d68e0189cc",
   "metadata": {},
   "outputs": [],
   "source": [
    "from sqlalchemy import text\n",
    "raw = \"\"\"\n",
    "ALTER TABLE date\n",
    "ADD COLUMN\n",
    "time_zone TIMETZ\n",
    "\"\"\"\n",
    "stm = text(raw)"
   ]
  },
  {
   "cell_type": "code",
   "execution_count": 15,
   "id": "704aca91-89ac-4c73-a179-d8c653fb2ad5",
   "metadata": {},
   "outputs": [],
   "source": [
    "from sqlalchemy.orm import Session\n",
    "\n",
    "with Session(engine) as session:\n",
    "    session.execute(stm)\n",
    "    session.commit()"
   ]
  },
  {
   "cell_type": "markdown",
   "id": "2924f329-4080-4deb-8add-893dba5c77cd",
   "metadata": {},
   "source": [
    "<h1>create a time related table</h1>"
   ]
  },
  {
   "cell_type": "markdown",
   "id": "a4cd9536-61e2-4ff4-ab75-2b7ae3a73f4e",
   "metadata": {},
   "source": [
    "<h2>registry</h2>"
   ]
  },
  {
   "cell_type": "code",
   "execution_count": 4,
   "id": "156b023d-e268-4643-9707-d5c799582b16",
   "metadata": {},
   "outputs": [],
   "source": [
    "from sqlalchemy import create_engine\n",
    "engine = create_engine(uri)\n",
    "\n",
    "from sqlalchemy.orm import registry\n",
    "sqlalchemy_registry = registry()\n",
    "metadata = sqlalchemy_registry.metadata\n",
    "mapped = sqlalchemy_registry.mapped\n",
    "\n",
    "from sqlalchemy import Column, Integer, String, Date, Time, TIMESTAMP\n",
    "\n",
    "@mapped\n",
    "class CDate:\n",
    "    __tablename__ = 'tdate_orm'\n",
    "    id = Column (Integer, primary_key= True, autoincrement= True)\n",
    "    content = Column (String)\n",
    "    timestamp_with_tz = Column (TIMESTAMP(timezone= True))\n",
    "    timestamp_without_tz = Column (TIMESTAMP(timezone= False))\n",
    "    time_with_tz = Column (Time(timezone= True))\n",
    "    time_without_tz = Column (Time(timezone= False))\n",
    "    date_column = Column (Date)\n",
    "\n",
    "    @classmethod\n",
    "    def describe(cls):\n",
    "        col_lst = cls.__table__.columns\n",
    "        description = {col.name : col.type for col in col_lst}\n",
    "        return description\n",
    "\n",
    "    def __repr__(self):\n",
    "        col_lst = self.__class__.__table__.columns\n",
    "        row = [(col.name, getattr(self, col.name)) for col in col_lst]\n",
    "        class_name = self.__class__.__name__\n",
    "        table_name = self.__class__.__tablename__\n",
    "        return f\"Instance of class {class_name} (table {table_name}):\\n {row}\"\n",
    "\n",
    "                                   \n",
    "metadata.create_all(engine)    "
   ]
  },
  {
   "cell_type": "markdown",
   "id": "f3c01d9e-dbe5-4d95-b9a4-4a8518236431",
   "metadata": {},
   "source": [
    "<h2>text</h2>"
   ]
  },
  {
   "cell_type": "code",
   "execution_count": 5,
   "id": "adc2b111-c25f-4bf5-a719-6c34df11c086",
   "metadata": {},
   "outputs": [],
   "source": [
    "raw = \"\"\"\n",
    "CREATE TABLE IF NOT EXISTS tdate_text (\n",
    "    id SERIAL PRIMARY KEY,\n",
    "    content VARCHAR,\n",
    "    timestamp_with_tz TIMESTAMPTZ,\n",
    "    timestamp_without_tz TIMESTAMP,\n",
    "    time_with_tz TIMETZ,\n",
    "    time_without_tz TIME,\n",
    "    date_column DATE\n",
    ")\n",
    "\"\"\"\n",
    "from sqlalchemy import text\n",
    "stm = text(raw)\n",
    "\n",
    "from sqlalchemy.orm import Session\n",
    "with Session(engine) as session:\n",
    "    session.execute(stm)\n",
    "    session.commit()"
   ]
  },
  {
   "cell_type": "markdown",
   "id": "68f9e5d5-c457-40e7-8399-e8b6224080b4",
   "metadata": {},
   "source": [
    "<h1>using enhancment mixin</h1>"
   ]
  },
  {
   "cell_type": "code",
   "execution_count": 36,
   "id": "cf8ea581-4fd8-49f9-865e-915fd52060df",
   "metadata": {},
   "outputs": [],
   "source": [
    "from sqlalchemy import create_engine\n",
    "engine = create_engine(uri)\n",
    "\n",
    "from sqlalchemy.orm import registry\n",
    "sqlalchemy_registry = registry()\n",
    "\n",
    "from sqlalchemy.ext.automap import automap_base\n",
    "Base = automap_base(declarative_base= sqlalchemy_registry.generate_base())\n",
    "Base.prepare(autoload_with= engine)\n",
    "\n",
    "from sqlalchemy import select, text\n",
    "from sqlalchemy.orm import Session\n",
    "class EnhancementMixin():\n",
    "    @classmethod\n",
    "    def describe(cls):\n",
    "        col_lst = cls.__table__.columns\n",
    "        description = {col.name : col.type for col in col_lst}\n",
    "        return description\n",
    "\n",
    "    def __repr__(self):\n",
    "        col_lst = self.__class__.__table__.columns\n",
    "        row = [(col.name, getattr(self, col.name)) for col in col_lst]\n",
    "        class_name = self.__class__.__name__\n",
    "        table_name = self.__class__.__tablename__\n",
    "        return f\"Instance of class {class_name} (table {table_name}):\\n {row}\"\n",
    "\n",
    "    @classmethod\n",
    "    def print_table(cls):\n",
    "        table = cls.__table__\n",
    "        with Session(engine) as session:\n",
    "            print(session.execute(select(table)).mappings().all())\n",
    "\n",
    "    @staticmethod\n",
    "    def exe(stm):\n",
    "        if isinstance(stm, str):\n",
    "            stm = text(stm)\n",
    "        with Session(engine) as session:\n",
    "            session.execute(stm)\n",
    "            session.commit()\n",
    "        \n",
    "\n",
    "\n",
    "ReflectedClass = Base.classes.tdate_orm\n",
    "more_attr = {}\n",
    "C = type(f'Enhanced{ReflectedClass.__name__}', (ReflectedClass, EnhancementMixin), more_attr)\n",
    "# C ra nemishavad baraie sakhtan obj row estefade kard. az raveshe bad estefade kone\n",
    "t = C.__table__\n",
    "\n",
    "\n"
   ]
  },
  {
   "cell_type": "code",
   "execution_count": 25,
   "id": "6c703e06-00ed-4f21-8e81-d3ae6cb7625a",
   "metadata": {},
   "outputs": [
    {
     "data": {
      "text/plain": [
       "{'id': INTEGER(),\n",
       " 'content': VARCHAR(),\n",
       " 'timestamp_with_tz': TIMESTAMP(timezone=True),\n",
       " 'timestamp_without_tz': TIMESTAMP(),\n",
       " 'time_with_tz': TIME(timezone=True),\n",
       " 'time_without_tz': TIME(),\n",
       " 'date_column': DATE()}"
      ]
     },
     "execution_count": 25,
     "metadata": {},
     "output_type": "execute_result"
    }
   ],
   "source": [
    "C.describe()"
   ]
  },
  {
   "cell_type": "markdown",
   "id": "d48feae9-1ad9-4425-ad8a-86aecd8d32a3",
   "metadata": {},
   "source": [
    "<h1>using enhancment setattr with inheritance</h1>"
   ]
  },
  {
   "cell_type": "code",
   "execution_count": 27,
   "id": "a1a3bd53-74ef-4a48-a733-093f7ab77914",
   "metadata": {},
   "outputs": [],
   "source": [
    "class EnhancedClass(ReflectedClass):\n",
    "    @classmethod\n",
    "    def describe(cls):\n",
    "        col_lst = cls.__table__.columns\n",
    "        description = {col.name : col.type for col in col_lst}\n",
    "        return description\n",
    "\n",
    "    def __repr__(self):\n",
    "        col_lst = self.__class__.__table__.columns\n",
    "        row = [(col.name, getattr(self, col.name)) for col in col_lst]\n",
    "        class_name = self.__class__.__name__\n",
    "        table_name = self.__class__.__tablename__\n",
    "        return f\"Instance of class {class_name} (table {table_name}):\\n {row}\"\n",
    "\n",
    "    @classmethod\n",
    "    def print_table(cls):\n",
    "        table = cls.__table__\n",
    "        with Session(engine) as session:\n",
    "            print(session.execute(select(table)).mappings().all())\n",
    "\n",
    "    @staticmethod\n",
    "    def exe(stm):\n",
    "        if isinstance(stm, str):\n",
    "            stm = text(stm)\n",
    "        with Session(engine) as session:\n",
    "            session.execute(stm)\n",
    "            session.commit()\n",
    "\n",
    "\n",
    "for attr in dir(EnhancedClass):\n",
    "    if not attr.startswith('__'):\n",
    "        setattr(ReflectedClass, attr, getattr(EnhancedClass, attr))\n",
    "\n",
    "# it is too long do the next one"
   ]
  },
  {
   "cell_type": "code",
   "execution_count": 28,
   "id": "0f149582-2fa1-43ca-a7fa-12e744f8395d",
   "metadata": {},
   "outputs": [
    {
     "name": "stdout",
     "output_type": "stream",
     "text": [
      "[{'id': 1, 'content': None, 'timestamp_with_tz': datetime.datetime(2025, 5, 26, 12, 32, 15, 468258, tzinfo=datetime.timezone(datetime.timedelta(seconds=10800))), 'timestamp_without_tz': datetime.datetime(2025, 5, 26, 12, 32, 15, 468258), 'time_with_tz': datetime.time(12, 32, 15, 468258, tzinfo=datetime.timezone(datetime.timedelta(seconds=10800))), 'time_without_tz': datetime.time(12, 32, 15, 468258), 'date_column': datetime.date(2025, 5, 26)}, {'id': 2, 'content': None, 'timestamp_with_tz': datetime.datetime(2025, 5, 26, 13, 4, 17, 280505, tzinfo=datetime.timezone(datetime.timedelta(seconds=10800))), 'timestamp_without_tz': datetime.datetime(2025, 5, 26, 13, 4, 17, 280505), 'time_with_tz': datetime.time(13, 4, 17, 280505, tzinfo=datetime.timezone(datetime.timedelta(seconds=10800))), 'time_without_tz': datetime.time(13, 4, 17, 280505), 'date_column': datetime.date(2025, 5, 26)}, {'id': 3, 'content': None, 'timestamp_with_tz': datetime.datetime(2025, 5, 26, 13, 8, 4, 401263, tzinfo=datetime.timezone(datetime.timedelta(seconds=10800))), 'timestamp_without_tz': datetime.datetime(2025, 5, 26, 13, 8, 4, 401263), 'time_with_tz': datetime.time(13, 8, 4, 401263, tzinfo=datetime.timezone(datetime.timedelta(seconds=10800))), 'time_without_tz': datetime.time(13, 8, 4, 401263), 'date_column': datetime.date(2025, 5, 26)}, {'id': 4, 'content': None, 'timestamp_with_tz': datetime.datetime(2025, 5, 26, 13, 23, 18, 402512, tzinfo=datetime.timezone(datetime.timedelta(seconds=10800))), 'timestamp_without_tz': datetime.datetime(2025, 5, 26, 13, 23, 18, 402512), 'time_with_tz': datetime.time(13, 23, 18, 402512, tzinfo=datetime.timezone(datetime.timedelta(seconds=10800))), 'time_without_tz': datetime.time(13, 23, 18, 402512), 'date_column': datetime.date(2025, 5, 26)}, {'id': 5, 'content': None, 'timestamp_with_tz': datetime.datetime(2025, 5, 26, 13, 36, 20, 86335, tzinfo=datetime.timezone(datetime.timedelta(seconds=10800))), 'timestamp_without_tz': datetime.datetime(2025, 5, 26, 13, 36, 20, 86335), 'time_with_tz': datetime.time(13, 36, 20, 86335, tzinfo=datetime.timezone(datetime.timedelta(seconds=10800))), 'time_without_tz': datetime.time(13, 36, 20, 86335), 'date_column': datetime.date(2025, 5, 26)}, {'id': 6, 'content': None, 'timestamp_with_tz': datetime.datetime(2025, 5, 26, 13, 40, 34, 475703, tzinfo=datetime.timezone(datetime.timedelta(seconds=10800))), 'timestamp_without_tz': datetime.datetime(2025, 5, 26, 13, 40, 34, 475703), 'time_with_tz': datetime.time(13, 40, 34, 475703, tzinfo=datetime.timezone(datetime.timedelta(seconds=10800))), 'time_without_tz': datetime.time(13, 40, 34, 475703), 'date_column': datetime.date(2025, 5, 26)}]\n"
     ]
    }
   ],
   "source": [
    "ReflectedClass.print_table()"
   ]
  },
  {
   "cell_type": "markdown",
   "id": "839d9282-9074-47c8-9c00-287ec45efa22",
   "metadata": {},
   "source": [
    "<h1>using enhancment setattr with functions</h1>"
   ]
  },
  {
   "cell_type": "code",
   "execution_count": 37,
   "id": "b1100415-de19-428f-8658-2945428dd472",
   "metadata": {},
   "outputs": [],
   "source": [
    "from sqlalchemy import select, text\n",
    "from sqlalchemy.orm import Session\n",
    "\n",
    "@classmethod\n",
    "def describe(cls):\n",
    "    col_lst = cls.__table__.columns\n",
    "    return {col.name: col.type for col in col_lst}\n",
    "\n",
    "@classmethod\n",
    "def print_table(cls):\n",
    "    with Session(engine) as session:\n",
    "        print(session.execute(select(cls.__table__)).mappings().all())\n",
    "\n",
    "@staticmethod\n",
    "def exe(stm):\n",
    "    if isinstance(stm, str):\n",
    "        stm = text(stm)\n",
    "    with Session(engine) as session:\n",
    "        session.execute(stm)\n",
    "        session.commit()\n",
    "\n",
    "def repr_func(self):\n",
    "    col_lst = self.__class__.__table__.columns\n",
    "    row = [(col.name, getattr(self, col.name)) for col in col_lst]\n",
    "    return f\"Instance of class {self.__class__.__name__} (table {self.__class__.__tablename__}):\\n {row}\"\n",
    "\n",
    "setattr(ReflectedClass, 'describe', describe)\n",
    "setattr(ReflectedClass, 'print_table', print_table)\n",
    "setattr(ReflectedClass, 'exe', exe)\n",
    "setattr(ReflectedClass, '__repr__', repr_func)\n",
    "\n"
   ]
  },
  {
   "cell_type": "code",
   "execution_count": 38,
   "id": "390063f6-10c4-418c-b7c6-88ce6ee16758",
   "metadata": {},
   "outputs": [
    {
     "data": {
      "text/plain": [
       "{'id': INTEGER(),\n",
       " 'content': VARCHAR(),\n",
       " 'timestamp_with_tz': TIMESTAMP(timezone=True),\n",
       " 'timestamp_without_tz': TIMESTAMP(),\n",
       " 'time_with_tz': TIME(timezone=True),\n",
       " 'time_without_tz': TIME(),\n",
       " 'date_column': DATE()}"
      ]
     },
     "execution_count": 38,
     "metadata": {},
     "output_type": "execute_result"
    }
   ],
   "source": [
    "ReflectedClass.describe()"
   ]
  },
  {
   "cell_type": "markdown",
   "id": "5a9c8787-baa7-4401-b5c7-f0e0d3492b14",
   "metadata": {},
   "source": [
    "<h1>adding row to the time related table</h1>"
   ]
  },
  {
   "cell_type": "markdown",
   "id": "6927b302-19c0-4a33-b395-a52db9c6ef7c",
   "metadata": {},
   "source": [
    "<h2>text</h2>"
   ]
  },
  {
   "cell_type": "code",
   "execution_count": 5,
   "id": "e694a471-435c-442b-8a98-eab50ba8e2b9",
   "metadata": {},
   "outputs": [
    {
     "name": "stdout",
     "output_type": "stream",
     "text": [
      "[{'id': 1, 'content': None, 'timestamp_with_tz': datetime.datetime(2025, 5, 26, 12, 32, 15, 468258, tzinfo=datetime.timezone(datetime.timedelta(seconds=10800))), 'timestamp_without_tz': datetime.datetime(2025, 5, 26, 12, 32, 15, 468258), 'time_with_tz': datetime.time(12, 32, 15, 468258, tzinfo=datetime.timezone(datetime.timedelta(seconds=10800))), 'time_without_tz': datetime.time(12, 32, 15, 468258), 'date_column': datetime.date(2025, 5, 26)}]\n"
     ]
    }
   ],
   "source": [
    "raw = \"\"\"\n",
    "INSERT INTO tdate_orm\n",
    "(\n",
    "    timestamp_with_tz,\n",
    "    timestamp_without_tz,\n",
    "    time_with_tz,\n",
    "    time_without_tz,\n",
    "    date_column)\n",
    "VALUES\n",
    "( \n",
    "    NOW()::TIMESTAMPTZ, \n",
    "    NOW()::TIMESTAMP,\n",
    "    NOW()::TIMETZ,\n",
    "    NOW()::TIME,\n",
    "    NOW()::DATE\n",
    ")\n",
    "\n",
    "\"\"\"\n",
    "C.exe(raw)\n",
    "C.print_table()"
   ]
  },
  {
   "cell_type": "markdown",
   "id": "59f23ee4-c25a-4f94-b44f-033b307e94dd",
   "metadata": {},
   "source": [
    "<h2>text and python</h2>"
   ]
  },
  {
   "cell_type": "code",
   "execution_count": 6,
   "id": "7dd16084-d304-4d7d-bc2c-c0a46bcc422d",
   "metadata": {},
   "outputs": [
    {
     "name": "stdout",
     "output_type": "stream",
     "text": [
      "[{'id': 1, 'content': None, 'timestamp_with_tz': datetime.datetime(2025, 5, 26, 12, 32, 15, 468258, tzinfo=datetime.timezone(datetime.timedelta(seconds=10800))), 'timestamp_without_tz': datetime.datetime(2025, 5, 26, 12, 32, 15, 468258), 'time_with_tz': datetime.time(12, 32, 15, 468258, tzinfo=datetime.timezone(datetime.timedelta(seconds=10800))), 'time_without_tz': datetime.time(12, 32, 15, 468258), 'date_column': datetime.date(2025, 5, 26)}, {'id': 2, 'content': None, 'timestamp_with_tz': datetime.datetime(2025, 5, 26, 13, 4, 17, 280505, tzinfo=datetime.timezone(datetime.timedelta(seconds=10800))), 'timestamp_without_tz': datetime.datetime(2025, 5, 26, 13, 4, 17, 280505), 'time_with_tz': datetime.time(13, 4, 17, 280505, tzinfo=datetime.timezone(datetime.timedelta(seconds=10800))), 'time_without_tz': datetime.time(13, 4, 17, 280505), 'date_column': datetime.date(2025, 5, 26)}]\n"
     ]
    }
   ],
   "source": [
    "from datetime import datetime\n",
    "from zoneinfo import ZoneInfo\n",
    "\n",
    "timestamptz = datetime.now(ZoneInfo(\"Europe/Helsinki\"))\n",
    "timestamp = timestamptz.replace(tzinfo=None)\n",
    "\n",
    "timetz = timestamptz.timetz()\n",
    "time_ = timetz.replace(tzinfo=None)\n",
    "\n",
    "date_ = timestamptz.date()\n",
    "\n",
    "raw = \"\"\"\n",
    "INSERT INTO tdate_orm\n",
    "(\n",
    "    timestamp_with_tz,\n",
    "    timestamp_without_tz,\n",
    "    time_with_tz,\n",
    "    time_without_tz,\n",
    "    date_column)\n",
    "VALUES\n",
    "( \n",
    "    :v1, :v2, :v3, :v4, :v5\n",
    ")\n",
    "\"\"\"\n",
    "\n",
    "from sqlalchemy import text\n",
    "stm = text(raw).bindparams(\n",
    "    v1 = timestamptz,\n",
    "    v2 = timestamp,\n",
    "    v3 = timetz,\n",
    "    v4 = time_,\n",
    "    v5 = date_\n",
    ")\n",
    "C.exe(stm)\n",
    "C.print_table()"
   ]
  },
  {
   "cell_type": "markdown",
   "id": "67dad649-5979-402c-a3d4-27264fb7b9e7",
   "metadata": {},
   "source": [
    "<h2>core and python</h2>"
   ]
  },
  {
   "cell_type": "code",
   "execution_count": 7,
   "id": "dfaba3db-f438-4826-8e6f-07da2088d8c1",
   "metadata": {},
   "outputs": [
    {
     "name": "stdout",
     "output_type": "stream",
     "text": [
      "[{'id': 1, 'content': None, 'timestamp_with_tz': datetime.datetime(2025, 5, 26, 12, 32, 15, 468258, tzinfo=datetime.timezone(datetime.timedelta(seconds=10800))), 'timestamp_without_tz': datetime.datetime(2025, 5, 26, 12, 32, 15, 468258), 'time_with_tz': datetime.time(12, 32, 15, 468258, tzinfo=datetime.timezone(datetime.timedelta(seconds=10800))), 'time_without_tz': datetime.time(12, 32, 15, 468258), 'date_column': datetime.date(2025, 5, 26)}, {'id': 2, 'content': None, 'timestamp_with_tz': datetime.datetime(2025, 5, 26, 13, 4, 17, 280505, tzinfo=datetime.timezone(datetime.timedelta(seconds=10800))), 'timestamp_without_tz': datetime.datetime(2025, 5, 26, 13, 4, 17, 280505), 'time_with_tz': datetime.time(13, 4, 17, 280505, tzinfo=datetime.timezone(datetime.timedelta(seconds=10800))), 'time_without_tz': datetime.time(13, 4, 17, 280505), 'date_column': datetime.date(2025, 5, 26)}, {'id': 3, 'content': None, 'timestamp_with_tz': datetime.datetime(2025, 5, 26, 13, 8, 4, 401263, tzinfo=datetime.timezone(datetime.timedelta(seconds=10800))), 'timestamp_without_tz': datetime.datetime(2025, 5, 26, 13, 8, 4, 401263), 'time_with_tz': datetime.time(13, 8, 4, 401263, tzinfo=datetime.timezone(datetime.timedelta(seconds=10800))), 'time_without_tz': datetime.time(13, 8, 4, 401263), 'date_column': datetime.date(2025, 5, 26)}]\n"
     ]
    }
   ],
   "source": [
    "from datetime import datetime\n",
    "from zoneinfo import ZoneInfo\n",
    "\n",
    "timestamptz = datetime.now(ZoneInfo(\"Europe/Helsinki\"))\n",
    "timestamp = timestamptz.replace(tzinfo=None)\n",
    "\n",
    "timetz = timestamptz.timetz()\n",
    "time_ = timetz.replace(tzinfo=None)\n",
    "\n",
    "date_ = timestamptz.date()\n",
    "\n",
    "from sqlalchemy import insert\n",
    "stm = insert(t).values(\n",
    "    timestamp_with_tz=timestamptz,\n",
    "    timestamp_without_tz=timestamp,\n",
    "    time_with_tz=timetz,\n",
    "    time_without_tz=time_,\n",
    "    date_column=date_\n",
    ")\n",
    "C.exe(stm)\n",
    "C.print_table()"
   ]
  },
  {
   "cell_type": "markdown",
   "id": "01b9a741-f964-4045-a1fa-447b86128c8d",
   "metadata": {},
   "source": [
    "<h2>orm and python</h2>"
   ]
  },
  {
   "cell_type": "code",
   "execution_count": 15,
   "id": "00d33c1e-b766-421b-a3eb-03a31aa3f461",
   "metadata": {
    "scrolled": true
   },
   "outputs": [
    {
     "name": "stdout",
     "output_type": "stream",
     "text": [
      "[{'id': 1, 'content': None, 'timestamp_with_tz': datetime.datetime(2025, 5, 26, 12, 32, 15, 468258, tzinfo=datetime.timezone(datetime.timedelta(seconds=10800))), 'timestamp_without_tz': datetime.datetime(2025, 5, 26, 12, 32, 15, 468258), 'time_with_tz': datetime.time(12, 32, 15, 468258, tzinfo=datetime.timezone(datetime.timedelta(seconds=10800))), 'time_without_tz': datetime.time(12, 32, 15, 468258), 'date_column': datetime.date(2025, 5, 26)}, {'id': 2, 'content': None, 'timestamp_with_tz': datetime.datetime(2025, 5, 26, 13, 4, 17, 280505, tzinfo=datetime.timezone(datetime.timedelta(seconds=10800))), 'timestamp_without_tz': datetime.datetime(2025, 5, 26, 13, 4, 17, 280505), 'time_with_tz': datetime.time(13, 4, 17, 280505, tzinfo=datetime.timezone(datetime.timedelta(seconds=10800))), 'time_without_tz': datetime.time(13, 4, 17, 280505), 'date_column': datetime.date(2025, 5, 26)}, {'id': 3, 'content': None, 'timestamp_with_tz': datetime.datetime(2025, 5, 26, 13, 8, 4, 401263, tzinfo=datetime.timezone(datetime.timedelta(seconds=10800))), 'timestamp_without_tz': datetime.datetime(2025, 5, 26, 13, 8, 4, 401263), 'time_with_tz': datetime.time(13, 8, 4, 401263, tzinfo=datetime.timezone(datetime.timedelta(seconds=10800))), 'time_without_tz': datetime.time(13, 8, 4, 401263), 'date_column': datetime.date(2025, 5, 26)}, {'id': 4, 'content': None, 'timestamp_with_tz': datetime.datetime(2025, 5, 26, 13, 23, 18, 402512, tzinfo=datetime.timezone(datetime.timedelta(seconds=10800))), 'timestamp_without_tz': datetime.datetime(2025, 5, 26, 13, 23, 18, 402512), 'time_with_tz': datetime.time(13, 23, 18, 402512, tzinfo=datetime.timezone(datetime.timedelta(seconds=10800))), 'time_without_tz': datetime.time(13, 23, 18, 402512), 'date_column': datetime.date(2025, 5, 26)}, {'id': 5, 'content': None, 'timestamp_with_tz': datetime.datetime(2025, 5, 26, 13, 36, 20, 86335, tzinfo=datetime.timezone(datetime.timedelta(seconds=10800))), 'timestamp_without_tz': datetime.datetime(2025, 5, 26, 13, 36, 20, 86335), 'time_with_tz': datetime.time(13, 36, 20, 86335, tzinfo=datetime.timezone(datetime.timedelta(seconds=10800))), 'time_without_tz': datetime.time(13, 36, 20, 86335), 'date_column': datetime.date(2025, 5, 26)}]\n"
     ]
    }
   ],
   "source": [
    "from datetime import datetime\n",
    "from zoneinfo import ZoneInfo\n",
    "\n",
    "timestamptz = datetime.now(ZoneInfo(\"Europe/Helsinki\"))\n",
    "timestamp = timestamptz.replace(tzinfo=None)\n",
    "\n",
    "timetz = timestamptz.timetz()\n",
    "time_ = timetz.replace(tzinfo=None)\n",
    "\n",
    "date_ = timestamptz.date()\n",
    "\n",
    "row = ReflectedClass(\n",
    "    content=None,\n",
    "    timestamp_with_tz=timestamptz,\n",
    "    timestamp_without_tz=timestamp,\n",
    "    time_with_tz=timetz,\n",
    "    time_without_tz=time_,\n",
    "    date_column=date_\n",
    ")\n",
    "\n",
    "with Session(engine) as session:\n",
    "    session.add(row)\n",
    "    session.commit()\n",
    "C.print_table()\n"
   ]
  },
  {
   "cell_type": "code",
   "execution_count": 17,
   "id": "97ad00ab-ca0f-465a-8402-079195cf278d",
   "metadata": {},
   "outputs": [
    {
     "name": "stdout",
     "output_type": "stream",
     "text": [
      "[{'id': 1, 'content': None, 'timestamp_with_tz': datetime.datetime(2025, 5, 26, 12, 32, 15, 468258, tzinfo=datetime.timezone(datetime.timedelta(seconds=10800))), 'timestamp_without_tz': datetime.datetime(2025, 5, 26, 12, 32, 15, 468258), 'time_with_tz': datetime.time(12, 32, 15, 468258, tzinfo=datetime.timezone(datetime.timedelta(seconds=10800))), 'time_without_tz': datetime.time(12, 32, 15, 468258), 'date_column': datetime.date(2025, 5, 26)}, {'id': 2, 'content': None, 'timestamp_with_tz': datetime.datetime(2025, 5, 26, 13, 4, 17, 280505, tzinfo=datetime.timezone(datetime.timedelta(seconds=10800))), 'timestamp_without_tz': datetime.datetime(2025, 5, 26, 13, 4, 17, 280505), 'time_with_tz': datetime.time(13, 4, 17, 280505, tzinfo=datetime.timezone(datetime.timedelta(seconds=10800))), 'time_without_tz': datetime.time(13, 4, 17, 280505), 'date_column': datetime.date(2025, 5, 26)}, {'id': 3, 'content': None, 'timestamp_with_tz': datetime.datetime(2025, 5, 26, 13, 8, 4, 401263, tzinfo=datetime.timezone(datetime.timedelta(seconds=10800))), 'timestamp_without_tz': datetime.datetime(2025, 5, 26, 13, 8, 4, 401263), 'time_with_tz': datetime.time(13, 8, 4, 401263, tzinfo=datetime.timezone(datetime.timedelta(seconds=10800))), 'time_without_tz': datetime.time(13, 8, 4, 401263), 'date_column': datetime.date(2025, 5, 26)}, {'id': 4, 'content': None, 'timestamp_with_tz': datetime.datetime(2025, 5, 26, 13, 23, 18, 402512, tzinfo=datetime.timezone(datetime.timedelta(seconds=10800))), 'timestamp_without_tz': datetime.datetime(2025, 5, 26, 13, 23, 18, 402512), 'time_with_tz': datetime.time(13, 23, 18, 402512, tzinfo=datetime.timezone(datetime.timedelta(seconds=10800))), 'time_without_tz': datetime.time(13, 23, 18, 402512), 'date_column': datetime.date(2025, 5, 26)}, {'id': 5, 'content': None, 'timestamp_with_tz': datetime.datetime(2025, 5, 26, 13, 36, 20, 86335, tzinfo=datetime.timezone(datetime.timedelta(seconds=10800))), 'timestamp_without_tz': datetime.datetime(2025, 5, 26, 13, 36, 20, 86335), 'time_with_tz': datetime.time(13, 36, 20, 86335, tzinfo=datetime.timezone(datetime.timedelta(seconds=10800))), 'time_without_tz': datetime.time(13, 36, 20, 86335), 'date_column': datetime.date(2025, 5, 26)}, {'id': 6, 'content': None, 'timestamp_with_tz': datetime.datetime(2025, 5, 26, 13, 40, 34, 475703, tzinfo=datetime.timezone(datetime.timedelta(seconds=10800))), 'timestamp_without_tz': datetime.datetime(2025, 5, 26, 13, 40, 34, 475703), 'time_with_tz': datetime.time(13, 40, 34, 475703, tzinfo=datetime.timezone(datetime.timedelta(seconds=10800))), 'time_without_tz': datetime.time(13, 40, 34, 475703), 'date_column': datetime.date(2025, 5, 26)}]\n"
     ]
    }
   ],
   "source": [
    "from datetime import datetime\n",
    "from zoneinfo import ZoneInfo\n",
    "\n",
    "timestamptz = datetime.now(ZoneInfo(\"Europe/Helsinki\"))\n",
    "timestamp = timestamptz.replace(tzinfo=None)\n",
    "\n",
    "timetz = timestamptz.timetz()\n",
    "time_ = timetz.replace(tzinfo=None)\n",
    "\n",
    "date_ = timestamptz.date()\n",
    "\n",
    "row = ReflectedClass(\n",
    "    content=None,\n",
    "    timestamp_with_tz=timestamptz,\n",
    "    timestamp_without_tz=timestamp,\n",
    "    time_with_tz=timetz,\n",
    "    time_without_tz=time_,\n",
    "    date_column=date_\n",
    ")\n",
    "\n",
    "with Session(engine) as session:\n",
    "    session.add(row)\n",
    "    session.commit()\n",
    "ReflectedClass.print_table()\n"
   ]
  },
  {
   "cell_type": "markdown",
   "id": "165fd811-0bd0-4799-a270-45472ba2b758",
   "metadata": {},
   "source": [
    "<h1>starting tdate_orm</h1>"
   ]
  },
  {
   "cell_type": "code",
   "execution_count": 13,
   "id": "23c6a657-1a6a-4636-9f3c-fbd6f2e34be2",
   "metadata": {},
   "outputs": [],
   "source": [
    "from sqlalchemy import create_engine\n",
    "engine = create_engine(uri)\n",
    "\n",
    "from sqlalchemy.orm import registry\n",
    "sqlalchemy_registry = registry()\n",
    "\n",
    "from sqlalchemy.ext.automap import automap_base\n",
    "Base = automap_base(declarative_base= sqlalchemy_registry.generate_base())\n",
    "Base.prepare(autoload_with= engine)\n",
    "\n",
    "C = Base.classes.tdate_orm\n",
    "t = C. __table__\n",
    "timestamptz = t.columns.timestamp_with_tz\n",
    "\n",
    "from sqlalchemy.orm import Session\n",
    "\n",
    "@classmethod\n",
    "def describe(cls):\n",
    "    col_lst = cls.__table__.columns\n",
    "    return {col.name: col.type for col in col_lst}\n",
    "\n",
    "@classmethod\n",
    "def print_table(cls):\n",
    "    with Session(engine) as session:\n",
    "        print(session.execute(select(cls.__table__)).mappings().all())\n",
    "\n",
    "def repr_func(self):\n",
    "    col_lst = self.__class__.__table__.columns\n",
    "    row = [(col.name, getattr(self, col.name)) for col in col_lst]\n",
    "    return f\"Instance of class {self.__class__.__name__} (table {self.__class__.__tablename__}):\\n {row}\"\n",
    "\n",
    "setattr(C, 'describe', describe)\n",
    "setattr(C, 'print_table', print_table)\n",
    "setattr(C, '__repr__', repr_func)"
   ]
  },
  {
   "cell_type": "markdown",
   "id": "749722af-9e0b-4676-ba31-f0be37375458",
   "metadata": {},
   "source": [
    "<h1>INTERVAL and timedelta</h1>"
   ]
  },
  {
   "cell_type": "raw",
   "id": "a7ffa813-4421-41bf-91f9-34f85121dbf5",
   "metadata": {},
   "source": [
    "INTERVAL sal va mah darad vali timedelta nadarad"
   ]
  },
  {
   "cell_type": "markdown",
   "id": "5fb1400c-f2a9-420d-bc02-ffffa5b96b5a",
   "metadata": {},
   "source": [
    "<h2>text</h2>"
   ]
  },
  {
   "cell_type": "code",
   "execution_count": 6,
   "id": "339ecb68-3c6b-49c0-99e6-41830b230fe9",
   "metadata": {},
   "outputs": [
    {
     "name": "stdout",
     "output_type": "stream",
     "text": [
      "[{'?column?': datetime.datetime(2023, 5, 23, 11, 32, 15, 468258, tzinfo=datetime.timezone(datetime.timedelta(seconds=10800)))}, {'?column?': datetime.datetime(2023, 5, 23, 12, 4, 17, 280505, tzinfo=datetime.timezone(datetime.timedelta(seconds=10800)))}, {'?column?': datetime.datetime(2023, 5, 23, 12, 8, 4, 401263, tzinfo=datetime.timezone(datetime.timedelta(seconds=10800)))}, {'?column?': datetime.datetime(2023, 5, 23, 12, 23, 18, 402512, tzinfo=datetime.timezone(datetime.timedelta(seconds=10800)))}, {'?column?': datetime.datetime(2023, 5, 23, 12, 36, 20, 86335, tzinfo=datetime.timezone(datetime.timedelta(seconds=10800)))}, {'?column?': datetime.datetime(2023, 5, 23, 12, 40, 34, 475703, tzinfo=datetime.timezone(datetime.timedelta(seconds=10800)))}]\n"
     ]
    }
   ],
   "source": [
    "raw = \"\"\"\n",
    "SELECT timestamp_with_tz\n",
    "- INTERVAL :i\n",
    "FROM tdate_orm\n",
    "\"\"\"\n",
    "from sqlalchemy import text\n",
    "stm = text(raw).bindparams(\n",
    "    i = '2 YEAR 3 DAY 1 HOUR'\n",
    ")\n",
    "with Session(engine) as session:\n",
    "    print(session.execute(stm).mappings().all())\n"
   ]
  },
  {
   "cell_type": "markdown",
   "id": "92b2bffa-ed44-48d2-8fe2-7d5999b56c25",
   "metadata": {},
   "source": [
    "<h2>core and text</h2>"
   ]
  },
  {
   "cell_type": "code",
   "execution_count": 9,
   "id": "ee86e564-474f-4169-afc3-020dbc6fd6c8",
   "metadata": {},
   "outputs": [
    {
     "name": "stdout",
     "output_type": "stream",
     "text": [
      "[{'anon_1': datetime.datetime(2023, 5, 23, 11, 32, 15, 468258, tzinfo=datetime.timezone(datetime.timedelta(seconds=10800)))}, {'anon_1': datetime.datetime(2023, 5, 23, 12, 4, 17, 280505, tzinfo=datetime.timezone(datetime.timedelta(seconds=10800)))}, {'anon_1': datetime.datetime(2023, 5, 23, 12, 8, 4, 401263, tzinfo=datetime.timezone(datetime.timedelta(seconds=10800)))}, {'anon_1': datetime.datetime(2023, 5, 23, 12, 23, 18, 402512, tzinfo=datetime.timezone(datetime.timedelta(seconds=10800)))}, {'anon_1': datetime.datetime(2023, 5, 23, 12, 36, 20, 86335, tzinfo=datetime.timezone(datetime.timedelta(seconds=10800)))}, {'anon_1': datetime.datetime(2023, 5, 23, 12, 40, 34, 475703, tzinfo=datetime.timezone(datetime.timedelta(seconds=10800)))}]\n"
     ]
    }
   ],
   "source": [
    "from sqlalchemy import select\n",
    "\n",
    "stm = select(timestamptz - text(\"INTERVAL'2 YEAR 3 DAY 1 HOUR'\"))\n",
    "\n",
    "with Session(engine) as session:\n",
    "    print(session.execute(stm).mappings().all())"
   ]
  },
  {
   "cell_type": "markdown",
   "id": "5495d1d1-f5cd-499e-b18e-81c4b21c9ca4",
   "metadata": {},
   "source": [
    "<h2>core and literal_column</h2>"
   ]
  },
  {
   "cell_type": "code",
   "execution_count": 10,
   "id": "d354f3cc-47cc-481b-9e09-c401059555cc",
   "metadata": {},
   "outputs": [
    {
     "name": "stdout",
     "output_type": "stream",
     "text": [
      "[{'anon_1': datetime.datetime(2023, 5, 23, 11, 32, 15, 468258, tzinfo=datetime.timezone(datetime.timedelta(seconds=10800)))}, {'anon_1': datetime.datetime(2023, 5, 23, 12, 4, 17, 280505, tzinfo=datetime.timezone(datetime.timedelta(seconds=10800)))}, {'anon_1': datetime.datetime(2023, 5, 23, 12, 8, 4, 401263, tzinfo=datetime.timezone(datetime.timedelta(seconds=10800)))}, {'anon_1': datetime.datetime(2023, 5, 23, 12, 23, 18, 402512, tzinfo=datetime.timezone(datetime.timedelta(seconds=10800)))}, {'anon_1': datetime.datetime(2023, 5, 23, 12, 36, 20, 86335, tzinfo=datetime.timezone(datetime.timedelta(seconds=10800)))}, {'anon_1': datetime.datetime(2023, 5, 23, 12, 40, 34, 475703, tzinfo=datetime.timezone(datetime.timedelta(seconds=10800)))}]\n"
     ]
    }
   ],
   "source": [
    "from sqlalchemy import select, literal_column\n",
    "\n",
    "stm = select(timestamptz - literal_column(\"INTERVAL'2 YEAR 3 DAY 1 HOUR'\"))\n",
    "\n",
    "with Session(engine) as session:\n",
    "    print(session.execute(stm).mappings().all())"
   ]
  },
  {
   "cell_type": "markdown",
   "id": "1795eec0-7469-410f-8804-2e12a901f815",
   "metadata": {},
   "source": [
    "<h2>core and cast(timedelta)</h2>"
   ]
  },
  {
   "cell_type": "code",
   "execution_count": 15,
   "id": "64a19e60-a227-4ab1-a570-f98bee04a2f7",
   "metadata": {},
   "outputs": [
    {
     "name": "stdout",
     "output_type": "stream",
     "text": [
      "[{'anon_1': datetime.datetime(2025, 5, 23, 11, 32, 15, 468258, tzinfo=datetime.timezone(datetime.timedelta(seconds=10800)))}, {'anon_1': datetime.datetime(2025, 5, 23, 12, 4, 17, 280505, tzinfo=datetime.timezone(datetime.timedelta(seconds=10800)))}, {'anon_1': datetime.datetime(2025, 5, 23, 12, 8, 4, 401263, tzinfo=datetime.timezone(datetime.timedelta(seconds=10800)))}, {'anon_1': datetime.datetime(2025, 5, 23, 12, 23, 18, 402512, tzinfo=datetime.timezone(datetime.timedelta(seconds=10800)))}, {'anon_1': datetime.datetime(2025, 5, 23, 12, 36, 20, 86335, tzinfo=datetime.timezone(datetime.timedelta(seconds=10800)))}, {'anon_1': datetime.datetime(2025, 5, 23, 12, 40, 34, 475703, tzinfo=datetime.timezone(datetime.timedelta(seconds=10800)))}]\n"
     ]
    }
   ],
   "source": [
    "from sqlalchemy.dialects.postgresql import INTERVAL\n",
    "from datetime import timedelta\n",
    "from sqlalchemy import Cast, literal\n",
    "\n",
    "td = timedelta(days = 3, hours= 1)\n",
    "interval = Cast(literal(td), INTERVAL)\n",
    "\n",
    "stm = select(timestamptz - interval)\n",
    "with Session(engine) as session:\n",
    "    print(session.execute(stm).mappings().all())\n"
   ]
  },
  {
   "cell_type": "markdown",
   "id": "25fb001a-6301-423a-9b6e-8760d951e612",
   "metadata": {},
   "source": [
    "<h2>pythonic end time calculation then cast</h2>"
   ]
  },
  {
   "cell_type": "code",
   "execution_count": 24,
   "id": "a0484c09-1beb-48bf-bdeb-c5053e4941a3",
   "metadata": {},
   "outputs": [
    {
     "name": "stdout",
     "output_type": "stream",
     "text": [
      "2025-05-23 11:32:15.468258+03:00\n",
      "2025-05-23 12:04:17.280505+03:00\n",
      "2025-05-23 12:08:04.401263+03:00\n",
      "2025-05-23 12:23:18.402512+03:00\n",
      "2025-05-23 12:36:20.086335+03:00\n",
      "2025-05-23 12:40:34.475703+03:00\n"
     ]
    }
   ],
   "source": [
    "start_time_stm = select(timestamptz)\n",
    "with Session(engine) as session:\n",
    "    start_time_lst = session.scalars(start_time_stm).all()\n",
    "\n",
    "td = timedelta(days = 3, hours= 1)\n",
    "end_time_lst = [t - td for t in start_time_lst]\n",
    "\n",
    "from sqlalchemy import TIMESTAMP\n",
    "def stm_creator(t):\n",
    "    return select(Cast(literal(t), TIMESTAMP(timezone= True)))\n",
    "stm_list = [stm_creator(t) for t in end_time_lst]\n",
    "\n",
    "with Session(engine) as session:\n",
    "    for stm in stm_list:\n",
    "        result = session.scalar(stm)\n",
    "        print (result)"
   ]
  },
  {
   "cell_type": "markdown",
   "id": "31ece15c-91f1-4dc8-a687-c312c3982576",
   "metadata": {},
   "source": [
    "<h2>get start time data from db then full pythonic</h2>"
   ]
  },
  {
   "cell_type": "code",
   "execution_count": 27,
   "id": "9ba1e2a1-5b6f-4d8f-9a74-971940ad8c27",
   "metadata": {},
   "outputs": [
    {
     "name": "stdout",
     "output_type": "stream",
     "text": [
      "2025-05-23 11:32:15.468258+03:00\n",
      "2025-05-23 12:04:17.280505+03:00\n",
      "2025-05-23 12:08:04.401263+03:00\n",
      "2025-05-23 12:23:18.402512+03:00\n",
      "2025-05-23 12:36:20.086335+03:00\n",
      "2025-05-23 12:40:34.475703+03:00\n"
     ]
    }
   ],
   "source": [
    "start_time_stm = select(timestamptz)\n",
    "with Session(engine) as session:\n",
    "    start_time_lst = session.scalars(start_time_stm).all()\n",
    "\n",
    "td = timedelta(days = 3, hours= 1)\n",
    "end_time_lst = [t - td for t in start_time_lst]\n",
    "for t in end_time_lst:\n",
    "    print(t)"
   ]
  },
  {
   "cell_type": "markdown",
   "id": "b316cedd-95a0-43d3-ab60-5a727eef6aa3",
   "metadata": {},
   "source": [
    "<h1>EXTRACT from timestamp</h1>"
   ]
  },
  {
   "cell_type": "markdown",
   "id": "c2b6d124-7167-4a36-b87e-6d4d609bf17e",
   "metadata": {},
   "source": [
    "<h2>text</h2>"
   ]
  },
  {
   "cell_type": "code",
   "execution_count": 3,
   "id": "0a868442-4c8f-4f7f-af32-25200fdcb63b",
   "metadata": {},
   "outputs": [],
   "source": [
    "from sqlalchemy import text"
   ]
  },
  {
   "cell_type": "code",
   "execution_count": 5,
   "id": "1155db29-d173-4094-b0f6-073151be27f9",
   "metadata": {},
   "outputs": [
    {
     "name": "stdout",
     "output_type": "stream",
     "text": [
      "[{'date_part': 2025.0}, {'date_part': 2025.0}, {'date_part': 2025.0}, {'date_part': 2025.0}, {'date_part': 2025.0}, {'date_part': 2025.0}]\n"
     ]
    }
   ],
   "source": [
    "raw = \"\"\"\n",
    "SELECT EXTRACT\n",
    "(YEAR FROM timestamp_without_tz)\n",
    "FROM tdate_orm\n",
    "\"\"\"\n",
    "with Session(engine) as session:\n",
    "    print(session.execute(text(raw)).mappings().all())"
   ]
  },
  {
   "cell_type": "markdown",
   "id": "116387f4-35ad-46cb-baba-47ea986fcfd8",
   "metadata": {},
   "source": [
    "<h2>core/orm</h2>"
   ]
  },
  {
   "cell_type": "code",
   "execution_count": 9,
   "id": "a311ba16-6112-4f53-a636-8affdbcfbff3",
   "metadata": {},
   "outputs": [],
   "source": [
    "from sqlalchemy import func, select"
   ]
  },
  {
   "cell_type": "code",
   "execution_count": 10,
   "id": "13eb0adc-525d-4892-b1e9-0990db2bcedc",
   "metadata": {},
   "outputs": [
    {
     "name": "stdout",
     "output_type": "stream",
     "text": [
      "[{'anon_1': 2025.0}, {'anon_1': 2025.0}, {'anon_1': 2025.0}, {'anon_1': 2025.0}, {'anon_1': 2025.0}, {'anon_1': 2025.0}]\n"
     ]
    }
   ],
   "source": [
    "extract_stm = func.extract('year', timestamptz)\n",
    "stm = select(extract_stm)\n",
    "with Session(engine) as session:\n",
    "    print(session.execute(stm).mappings().all())"
   ]
  },
  {
   "cell_type": "markdown",
   "id": "3c86c559-7811-47d5-bad5-5b12d3026c43",
   "metadata": {},
   "source": [
    "<h2>python</h2>"
   ]
  },
  {
   "cell_type": "code",
   "execution_count": 15,
   "id": "e6c4b2b8-f81b-4a3f-bbef-109a013be257",
   "metadata": {},
   "outputs": [
    {
     "data": {
      "text/plain": [
       "[2025, 2025, 2025, 2025, 2025, 2025]"
      ]
     },
     "execution_count": 15,
     "metadata": {},
     "output_type": "execute_result"
    }
   ],
   "source": [
    "stm = select(timestamptz)\n",
    "with Session(engine) as session:\n",
    "    timestamptz_lst = session.scalars(stm).all()\n",
    "\n",
    "year_lst = [t.year for t in timestamptz_lst]\n",
    "year_lst"
   ]
  },
  {
   "cell_type": "markdown",
   "id": "66a1fe9d-78b4-435a-99da-467dcb53bef9",
   "metadata": {},
   "source": [
    "<h1>AGE</h1>"
   ]
  },
  {
   "cell_type": "markdown",
   "id": "8d2868b2-a879-4f03-a924-9ee202f77cfd",
   "metadata": {},
   "source": [
    "<h2>text</h2>"
   ]
  },
  {
   "cell_type": "code",
   "execution_count": 20,
   "id": "656c365c-253c-457a-8a32-878f25945a53",
   "metadata": {},
   "outputs": [
    {
     "name": "stdout",
     "output_type": "stream",
     "text": [
      "[{'new_interval': datetime.timedelta(days=1, seconds=79988, microseconds=135946)}, {'new_interval': datetime.timedelta(days=1, seconds=78066, microseconds=323699)}, {'new_interval': datetime.timedelta(days=1, seconds=77839, microseconds=202941)}, {'new_interval': datetime.timedelta(days=1, seconds=76925, microseconds=201692)}, {'new_interval': datetime.timedelta(days=1, seconds=76143, microseconds=517869)}, {'new_interval': datetime.timedelta(days=1, seconds=75889, microseconds=128501)}]\n"
     ]
    }
   ],
   "source": [
    "raw = \"\"\"\n",
    "SELECT AGE\n",
    "(NOW(), timestamp_with_tz)\n",
    "AS new_interval\n",
    "FROM tdate_orm\n",
    "\"\"\"\n",
    "with Session(engine) as session:\n",
    "    print(session.execute(text(raw)).mappings().all())"
   ]
  },
  {
   "cell_type": "markdown",
   "id": "c6800434-5690-4572-8f6d-4bdcba1166e9",
   "metadata": {},
   "source": [
    "<h2>core/orm</h2>"
   ]
  },
  {
   "cell_type": "code",
   "execution_count": 21,
   "id": "07dc5469-6a6f-4643-a482-8c619a5994d8",
   "metadata": {},
   "outputs": [
    {
     "name": "stdout",
     "output_type": "stream",
     "text": [
      "[{'new_interval': datetime.timedelta(days=1, seconds=80008, microseconds=950059)}, {'new_interval': datetime.timedelta(days=1, seconds=78087, microseconds=137812)}, {'new_interval': datetime.timedelta(days=1, seconds=77860, microseconds=17054)}, {'new_interval': datetime.timedelta(days=1, seconds=76946, microseconds=15805)}, {'new_interval': datetime.timedelta(days=1, seconds=76164, microseconds=331982)}, {'new_interval': datetime.timedelta(days=1, seconds=75909, microseconds=942614)}]\n"
     ]
    }
   ],
   "source": [
    "age_stm = func.age(func.now(), timestamptz).label('new_interval')\n",
    "stm = select(age_stm)\n",
    "with Session(engine) as session:\n",
    "    print(session.execute(stm).mappings().all())"
   ]
  },
  {
   "cell_type": "markdown",
   "id": "b1fba380-3fad-448f-aa00-ac21b9876e39",
   "metadata": {},
   "source": [
    "<h2>core/orm and python</h2>"
   ]
  },
  {
   "cell_type": "code",
   "execution_count": 23,
   "id": "3c7c3625-8651-4c16-9343-c7822cb91297",
   "metadata": {},
   "outputs": [],
   "source": [
    "from datetime import datetime\n",
    "from sqlalchemy import literal\n",
    "from zoneinfo import ZoneInfo"
   ]
  },
  {
   "cell_type": "code",
   "execution_count": 24,
   "id": "4687f14b-b3f5-450a-8f1f-e673a8431188",
   "metadata": {},
   "outputs": [
    {
     "name": "stdout",
     "output_type": "stream",
     "text": [
      "[{'new_interval': datetime.timedelta(days=1, seconds=80123, microseconds=627589)}, {'new_interval': datetime.timedelta(days=1, seconds=78201, microseconds=815342)}, {'new_interval': datetime.timedelta(days=1, seconds=77974, microseconds=694584)}, {'new_interval': datetime.timedelta(days=1, seconds=77060, microseconds=693335)}, {'new_interval': datetime.timedelta(days=1, seconds=76279, microseconds=9512)}, {'new_interval': datetime.timedelta(days=1, seconds=76024, microseconds=620144)}]\n"
     ]
    }
   ],
   "source": [
    "age_stm = func.age(literal(datetime.now(ZoneInfo(\"Europe/Helsinki\"))), timestamptz).label('new_interval')\n",
    "stm = select(age_stm)\n",
    "with Session(engine) as session:\n",
    "    print(session.execute(stm).mappings().all())"
   ]
  },
  {
   "cell_type": "markdown",
   "id": "d749f23f-2251-4305-8c96-00728983c6d3",
   "metadata": {},
   "source": [
    "<h2>python</h2>"
   ]
  },
  {
   "cell_type": "code",
   "execution_count": 25,
   "id": "02dae182-4da0-4c58-88d5-b653fa200de2",
   "metadata": {},
   "outputs": [
    {
     "data": {
      "text/plain": [
       "[datetime.timedelta(days=1, seconds=80222, microseconds=104137),\n",
       " datetime.timedelta(days=1, seconds=78300, microseconds=291890),\n",
       " datetime.timedelta(days=1, seconds=78073, microseconds=171132),\n",
       " datetime.timedelta(days=1, seconds=77159, microseconds=169883),\n",
       " datetime.timedelta(days=1, seconds=76377, microseconds=486060),\n",
       " datetime.timedelta(days=1, seconds=76123, microseconds=96692)]"
      ]
     },
     "execution_count": 25,
     "metadata": {},
     "output_type": "execute_result"
    }
   ],
   "source": [
    "stm = select(timestamptz)\n",
    "with Session(engine) as session:\n",
    "    timestamptz_lst = session.scalars(stm).all()\n",
    "now_ = datetime.now(ZoneInfo(\"Europe/Helsinki\"))\n",
    "interval_lst = [now_ - t for t in timestamptz_lst]\n",
    "interval_lst"
   ]
  },
  {
   "cell_type": "markdown",
   "id": "07a5e541-2bd5-4e35-a3f7-2458a1ce3981",
   "metadata": {},
   "source": [
    "<h1>extracting second from interval</h1>"
   ]
  },
  {
   "cell_type": "markdown",
   "id": "e80205a7-8974-4b94-81b8-3db2e556ea11",
   "metadata": {},
   "source": [
    "<h2>text</h2>"
   ]
  },
  {
   "cell_type": "code",
   "execution_count": 26,
   "id": "856f7303-9b75-4141-bce3-47cc144cc8e8",
   "metadata": {},
   "outputs": [
    {
     "name": "stdout",
     "output_type": "stream",
     "text": [
      "[{'date_part': 11.115939}, {'date_part': 9.303692}, {'date_part': 22.182934}, {'date_part': 8.181685}, {'date_part': 6.497862}, {'date_part': 52.108494}]\n"
     ]
    }
   ],
   "source": [
    "raw = \"\"\"\n",
    "SELECT EXTRACT\n",
    "(SECOND FROM AGE\n",
    "                (NOW(), timestamp_with_tz))\n",
    "FROM tdate_orm\n",
    "\"\"\"\n",
    "with Session(engine) as session:\n",
    "    print(session.execute(text(raw)).mappings().all())"
   ]
  },
  {
   "cell_type": "markdown",
   "id": "02272dab-3755-466a-8bcd-eff390142516",
   "metadata": {},
   "source": [
    "<h2>core</h2>"
   ]
  },
  {
   "cell_type": "code",
   "execution_count": 27,
   "id": "c0ccf487-fc83-4c76-a26b-4ddf3a915157",
   "metadata": {},
   "outputs": [
    {
     "name": "stdout",
     "output_type": "stream",
     "text": [
      "[{'anon_1': 28.690036}, {'anon_1': 26.877789}, {'anon_1': 39.757031}, {'anon_1': 25.755782}, {'anon_1': 24.071959}, {'anon_1': 9.682591}]\n"
     ]
    }
   ],
   "source": [
    "interval = func.age(func.now(), timestamptz)\n",
    "sec = func.extract('second', interval)\n",
    "stm = select(sec)\n",
    "with Session(engine) as session:\n",
    "    print(session.execute(stm).mappings().all())"
   ]
  },
  {
   "cell_type": "markdown",
   "id": "c01adb8c-8d7e-4aa8-861a-6baa1034d9e0",
   "metadata": {},
   "source": [
    "<h2>python</h2>"
   ]
  },
  {
   "cell_type": "code",
   "execution_count": 39,
   "id": "68f2c06f-3ae6-4af4-bb6e-7ff486956991",
   "metadata": {},
   "outputs": [
    {
     "data": {
      "text/plain": [
       "[36.643864, 34.831617, 47.710859, 33.70961, 32.025787, 17.636419]"
      ]
     },
     "execution_count": 39,
     "metadata": {},
     "output_type": "execute_result"
    }
   ],
   "source": [
    "stm = select(timestamptz)\n",
    "with Session(engine) as session:\n",
    "    timestamptz_lst = session.scalars(stm).all()\n",
    "now_ = datetime.now(ZoneInfo(\"Europe/Helsinki\"))\n",
    "\n",
    "def get_sec(td):\n",
    "    sec1 = td.seconds % 60\n",
    "    sec2 = td.microseconds / (10**6)\n",
    "    return sec1 + sec2\n",
    "sec_lst = [get_sec(now_ - t) for t in timestamptz_lst]\n",
    "sec_lst"
   ]
  },
  {
   "cell_type": "markdown",
   "id": "b20e3067-1bdd-4a53-a000-e9a41c8741a1",
   "metadata": {},
   "source": [
    "<h1>LIMIT and OFFSET</h1>"
   ]
  },
  {
   "cell_type": "raw",
   "id": "74a23f00-9de8-4a4c-9f61-e797170e8a58",
   "metadata": {},
   "source": [
    ".limit(n) adds LIMIT n to the SQL query — it restricts the number of rows returned.\n",
    "\n",
    ".offset(n) adds OFFSET n — it skips the first n rows.\n",
    "\n",
    "OFFSET can be inefficient for large page numbers (e.g. page 5000), because PostgreSQL still scans and skips the first N rows. For better performance in deep pagination, consider keyset pagination using WHERE id > last_seen_id instead of OFFSET. But OFFSET is perfectly fine for most use cases and admin interfaces."
   ]
  },
  {
   "cell_type": "markdown",
   "id": "a5c6787f-5a90-4c4b-86d7-253ed5850898",
   "metadata": {},
   "source": [
    "<h2>text</h2>"
   ]
  },
  {
   "cell_type": "code",
   "execution_count": 5,
   "id": "c87a2d43-892a-4436-8b13-18dfd6971eb8",
   "metadata": {},
   "outputs": [
    {
     "name": "stdout",
     "output_type": "stream",
     "text": [
      "[{'id': 2, 'timestamp_with_tz': datetime.datetime(2025, 5, 26, 13, 4, 17, 280505, tzinfo=datetime.timezone(datetime.timedelta(seconds=10800)))}, {'id': 3, 'timestamp_with_tz': datetime.datetime(2025, 5, 26, 13, 8, 4, 401263, tzinfo=datetime.timezone(datetime.timedelta(seconds=10800)))}]\n"
     ]
    }
   ],
   "source": [
    "from sqlalchemy import text, select\n",
    "from sqlalchemy.orm import Session\n",
    "\n",
    "raw = \"\"\"\n",
    "SELECT id, timestamp_with_tz\n",
    "FROM tdate_orm\n",
    "LIMIT 2\n",
    "OFFSET 1\n",
    "\"\"\"\n",
    "\n",
    "with Session(engine) as session:\n",
    "    print(session.execute(text(raw)).mappings().all())"
   ]
  },
  {
   "cell_type": "markdown",
   "id": "74faccc6-889b-4d8f-a114-55e311fd780f",
   "metadata": {},
   "source": [
    "<h2>core/orm</h2>"
   ]
  },
  {
   "cell_type": "code",
   "execution_count": 6,
   "id": "a9a11f46-6b72-4db6-812b-bc885aad4801",
   "metadata": {},
   "outputs": [
    {
     "name": "stdout",
     "output_type": "stream",
     "text": [
      "[{'id': 2, 'timestamp_with_tz': datetime.datetime(2025, 5, 26, 13, 4, 17, 280505, tzinfo=datetime.timezone(datetime.timedelta(seconds=10800)))}, {'id': 3, 'timestamp_with_tz': datetime.datetime(2025, 5, 26, 13, 8, 4, 401263, tzinfo=datetime.timezone(datetime.timedelta(seconds=10800)))}]\n"
     ]
    }
   ],
   "source": [
    "stm = select(t.c.id, timestamptz).limit(2).offset(1)\n",
    "with Session(engine) as session:\n",
    "    print(session.execute(stm).mappings().all())"
   ]
  },
  {
   "cell_type": "markdown",
   "id": "79865de3-fddc-482e-97ab-07b4b355f401",
   "metadata": {},
   "source": [
    "# constraints in postgres"
   ]
  },
  {
   "cell_type": "markdown",
   "id": "286d0c83-2763-4d28-8015-d8b5ed3bb0b1",
   "metadata": {},
   "source": [
    "<table>\n",
    "  <thead>\n",
    "    <tr>\n",
    "      <th>Constraint Type</th>\n",
    "      <th>Keyword</th>\n",
    "      <th>Short Definition</th>\n",
    "    </tr>\n",
    "  </thead>\n",
    "  <tbody>\n",
    "    <tr>\n",
    "      <td><strong>Primary Key</strong></td>\n",
    "      <td><code>PRIMARY KEY</code></td>\n",
    "      <td>Ensures each row has a <strong>unique, non-null</strong> identifier. Only one per table.</td>\n",
    "    </tr>\n",
    "    <tr>\n",
    "      <td><strong>Unique</strong></td>\n",
    "      <td><code>UNIQUE</code></td>\n",
    "      <td>Guarantees that a column (or group of columns) has <strong>unique values</strong> across rows. Allows nulls.</td>\n",
    "    </tr>\n",
    "    <tr>\n",
    "      <td><strong>Not Null</strong></td>\n",
    "      <td><code>NOT NULL</code></td>\n",
    "      <td>Ensures that a column <strong>cannot contain null values</strong>.</td>\n",
    "    </tr>\n",
    "    <tr>\n",
    "      <td><strong>Check</strong></td>\n",
    "      <td><code>CHECK</code></td>\n",
    "      <td>Enforces a <strong>boolean expression</strong> on values (e.g., <code>age &gt; 0</code>).</td>\n",
    "    </tr>\n",
    "    <tr>\n",
    "      <td><strong>Foreign Key</strong></td>\n",
    "      <td><code>FOREIGN KEY</code></td>\n",
    "      <td>Enforces <strong>referential integrity</strong> by requiring values to match values in another table’s primary key.</td>\n",
    "    </tr>\n",
    "    <tr>\n",
    "      <td><strong>Exclusion</strong></td>\n",
    "      <td><code>EXCLUDE</code></td>\n",
    "      <td>Prevents rows from <strong>conflicting</strong> with each other on a specified condition (e.g., overlapping time ranges). PostgreSQL-specific.</td>\n",
    "    </tr>\n",
    "    <tr>\n",
    "      <td><strong>Default</strong></td>\n",
    "      <td><code>DEFAULT</code></td>\n",
    "      <td>Assigns a <strong>default value</strong> to a column if no value is provided on insert. <em>(Not technically a constraint, but often grouped here.)</em></td>\n",
    "    </tr>\n",
    "    <tr>\n",
    "      <td><strong>Deferrable</strong></td>\n",
    "      <td><code>DEFERRABLE</code></td>\n",
    "      <td>Controls <strong>when</strong> constraint checks occur (immediately or at the end of a transaction). Applies to PK, FK, and UNIQUE.</td>\n",
    "    </tr>\n",
    "    <tr>\n",
    "      <td><strong>Expression Index</strong></td>\n",
    "      <td><em>(via indexes)</em></td>\n",
    "      <td>Not a \"constraint\" per se, but sometimes used in place of <code>CHECK</code> for performance with expressions (e.g., <code>WHERE deleted = false</code>).</td>\n",
    "    </tr>\n",
    "    <tr>\n",
    "      <td><strong>Generated Column</strong></td>\n",
    "      <td><code>GENERATED ALWAYS AS</code></td>\n",
    "      <td>Derives a column’s value from an expression. Read-only. <em>(PostgreSQL 12+)</em></td>\n",
    "    </tr>\n",
    "  </tbody>\n",
    "</table>\n"
   ]
  },
  {
   "cell_type": "markdown",
   "id": "fd398739-4184-4f8b-8858-955793b9d4cb",
   "metadata": {},
   "source": [
    "# general syntax for adding and dropping primary key, check and unique constraints"
   ]
  },
  {
   "cell_type": "raw",
   "id": "59c6b30c-739d-40cd-a8cc-eada6a7ba831",
   "metadata": {},
   "source": [
    "ALTER TABLE table_name\n",
    "ADD CONSTRAINT\n",
    "constraint_name\n",
    "PRIMARY KEY(column_name)/UNIQUE(column_name)/CHECK(bool_condition)\n",
    "\n",
    "ALTER TABLE table_name\n",
    "DROP CONSTRAINT\n",
    "constraint_name\n",
    "\n",
    "\n",
    "**constraint_name can be omitted for PRIMARY KEY(pk) and UNIQUE"
   ]
  },
  {
   "cell_type": "markdown",
   "id": "7e390386-80cf-4845-b2a2-8e9388d81d5b",
   "metadata": {},
   "source": [
    "<h1>finding the primary key of a table</h1>"
   ]
  },
  {
   "cell_type": "code",
   "execution_count": 7,
   "id": "ed9d7294-9957-4976-8288-2b54ac052b2f",
   "metadata": {},
   "outputs": [],
   "source": [
    "from sqlalchemy import inspect\n",
    "\n",
    "inspector = inspect(engine)"
   ]
  },
  {
   "cell_type": "code",
   "execution_count": 8,
   "id": "0170de22-8d65-4153-b929-48cc6da0e1b2",
   "metadata": {},
   "outputs": [
    {
     "data": {
      "text/plain": [
       "{'constrained_columns': ['id'], 'name': 'tdate_orm_pkey', 'comment': None}"
      ]
     },
     "execution_count": 8,
     "metadata": {},
     "output_type": "execute_result"
    }
   ],
   "source": [
    "inspector.get_pk_constraint('tdate_orm')"
   ]
  },
  {
   "cell_type": "markdown",
   "id": "7264cf20-8c22-4522-af07-f9e79d78102e",
   "metadata": {},
   "source": [
    "<h1>remove pk constraint</h1>"
   ]
  },
  {
   "cell_type": "code",
   "execution_count": 9,
   "id": "1c39b0ea-07df-4560-bef4-6f9400118b35",
   "metadata": {},
   "outputs": [
    {
     "data": {
      "text/plain": [
       "{'constrained_columns': ['id'], 'name': 'core_table_pkey', 'comment': None}"
      ]
     },
     "execution_count": 9,
     "metadata": {},
     "output_type": "execute_result"
    }
   ],
   "source": [
    "inspector.get_pk_constraint('core_table')"
   ]
  },
  {
   "cell_type": "code",
   "execution_count": 19,
   "id": "3740956f-fbb0-4461-b2a7-d6c57a7da41b",
   "metadata": {},
   "outputs": [
    {
     "data": {
      "text/plain": [
       "'core_table_pkey'"
      ]
     },
     "execution_count": 19,
     "metadata": {},
     "output_type": "execute_result"
    }
   ],
   "source": [
    "inspector.get_pk_constraint('core_table')['name']"
   ]
  },
  {
   "cell_type": "code",
   "execution_count": null,
   "id": "107d33fc-daa6-406a-ac4c-f1bb05acb532",
   "metadata": {},
   "outputs": [],
   "source": [
    "raw = \"\"\"\n",
    "ALTER TABLE core_table\n",
    "DROP CONSTRAINT\n",
    "core_table_pkey\n",
    "\"\"\"\n",
    "\n",
    "with Session(engine) as session:\n",
    "    session.execute(text(raw))\n",
    "    session.commit()"
   ]
  },
  {
   "cell_type": "code",
   "execution_count": 15,
   "id": "5a442b72-3626-4f1e-a63b-566dc93916de",
   "metadata": {},
   "outputs": [
    {
     "data": {
      "text/plain": [
       "{'name': None, 'constrained_columns': []}"
      ]
     },
     "execution_count": 15,
     "metadata": {},
     "output_type": "execute_result"
    }
   ],
   "source": [
    "inspector = inspect(engine)\n",
    "inspector.get_pk_constraint('core_table')"
   ]
  },
  {
   "cell_type": "markdown",
   "id": "d430984c-6ecb-4d77-9839-bea78bbe9af7",
   "metadata": {},
   "source": [
    "<h1>add pk constraint</h1>"
   ]
  },
  {
   "cell_type": "code",
   "execution_count": 16,
   "id": "25956f5c-3348-4103-858c-7ad8715132f8",
   "metadata": {},
   "outputs": [],
   "source": [
    "raw = \"\"\"\n",
    "ALTER TABLE core_table\n",
    "ADD\n",
    "PRIMARY KEY (id)\n",
    "\"\"\"\n",
    "\n",
    "with Session(engine) as session:\n",
    "    session.execute(text(raw))\n",
    "    session.commit()"
   ]
  },
  {
   "cell_type": "code",
   "execution_count": 17,
   "id": "046d75cd-3218-4750-a95b-bbe7e75e1c29",
   "metadata": {},
   "outputs": [
    {
     "data": {
      "text/plain": [
       "{'constrained_columns': ['id'], 'name': 'core_table_pkey', 'comment': None}"
      ]
     },
     "execution_count": 17,
     "metadata": {},
     "output_type": "execute_result"
    }
   ],
   "source": [
    "inspector = inspect(engine)\n",
    "inspector.get_pk_constraint('core_table')"
   ]
  },
  {
   "cell_type": "markdown",
   "id": "52f34132-bdc4-46a2-8848-6abfa70263ae",
   "metadata": {},
   "source": [
    "<h1>deleting rows</h1>"
   ]
  },
  {
   "cell_type": "markdown",
   "id": "60caf51b-3a30-4122-b485-023724bcc229",
   "metadata": {},
   "source": [
    "## text"
   ]
  },
  {
   "cell_type": "code",
   "execution_count": 20,
   "id": "255f8168-5011-4d11-ab4b-f706e7482e8a",
   "metadata": {},
   "outputs": [],
   "source": [
    "raw = \"\"\"\n",
    "DELETE\n",
    "FROM tdate_orm\n",
    "WHERE id = 1\n",
    "\"\"\"\n",
    "\n",
    "with Session(engine) as session:\n",
    "    session.execute(text(raw))\n",
    "    session.commit()"
   ]
  },
  {
   "cell_type": "markdown",
   "id": "04eb98e9-e2c1-4b23-809b-f03958f0af59",
   "metadata": {},
   "source": [
    "## core"
   ]
  },
  {
   "cell_type": "code",
   "execution_count": 21,
   "id": "ca597fb8-a555-4d79-8376-2e3a8959b353",
   "metadata": {},
   "outputs": [],
   "source": [
    "from sqlalchemy import delete\n",
    "\n",
    "stm = delete(t).where(t.c.id == 2)\n",
    "with Session(engine) as session:\n",
    "    session.execute(stm)\n",
    "    session.commit()"
   ]
  },
  {
   "cell_type": "markdown",
   "id": "82fb0c7e-1408-4529-86f8-2f382ddf842c",
   "metadata": {},
   "source": [
    "## orm"
   ]
  },
  {
   "cell_type": "code",
   "execution_count": 22,
   "id": "747d00fc-c397-4cdd-8c79-abb09653d33a",
   "metadata": {},
   "outputs": [],
   "source": [
    "stm = delete(C).where(C.id == 3)\n",
    "with Session(engine) as session:\n",
    "    session.execute(stm)\n",
    "    session.commit()"
   ]
  },
  {
   "cell_type": "code",
   "execution_count": 23,
   "id": "26b4d5a6-3756-4ad5-b98f-2b3a0a990882",
   "metadata": {},
   "outputs": [
    {
     "name": "stdout",
     "output_type": "stream",
     "text": [
      "[(4, None, datetime.datetime(2025, 5, 26, 13, 23, 18, 402512, tzinfo=datetime.timezone(datetime.timedelta(seconds=10800))), datetime.datetime(2025, 5, 26, 13, 23, 18, 402512), datetime.time(13, 23, 18, 402512, tzinfo=datetime.timezone(datetime.timedelta(seconds=10800))), datetime.time(13, 23, 18, 402512), datetime.date(2025, 5, 26)), (5, None, datetime.datetime(2025, 5, 26, 13, 36, 20, 86335, tzinfo=datetime.timezone(datetime.timedelta(seconds=10800))), datetime.datetime(2025, 5, 26, 13, 36, 20, 86335), datetime.time(13, 36, 20, 86335, tzinfo=datetime.timezone(datetime.timedelta(seconds=10800))), datetime.time(13, 36, 20, 86335), datetime.date(2025, 5, 26)), (6, None, datetime.datetime(2025, 5, 26, 13, 40, 34, 475703, tzinfo=datetime.timezone(datetime.timedelta(seconds=10800))), datetime.datetime(2025, 5, 26, 13, 40, 34, 475703), datetime.time(13, 40, 34, 475703, tzinfo=datetime.timezone(datetime.timedelta(seconds=10800))), datetime.time(13, 40, 34, 475703), datetime.date(2025, 5, 26))]\n"
     ]
    }
   ],
   "source": [
    "with Session(engine) as seesion:\n",
    "    print(session.execute(select(t)).all())"
   ]
  },
  {
   "cell_type": "markdown",
   "id": "57de5690-31f6-40e7-88d0-c0109c3fe50c",
   "metadata": {},
   "source": [
    "# Update rows"
   ]
  },
  {
   "cell_type": "markdown",
   "id": "43e6fd09-618c-4fac-a811-7198f29bc3ad",
   "metadata": {},
   "source": [
    "## text"
   ]
  },
  {
   "cell_type": "code",
   "execution_count": null,
   "id": "7537850d-c5a3-44f6-9170-3ebf5cb338e1",
   "metadata": {},
   "outputs": [],
   "source": [
    "raw = \"\"\"\n",
    "UPDATE tdate_orm\n",
    "SET content = 'nima'\n",
    "WHERE id = 4\n",
    "\"\"\"\n",
    "\n",
    "with Session(engine) as session:\n",
    "    session.execute(text(raw))\n",
    "    session.commit()"
   ]
  },
  {
   "cell_type": "code",
   "execution_count": 25,
   "id": "8d12253f-255a-44b1-bb8f-b5d7c99ed1d9",
   "metadata": {},
   "outputs": [
    {
     "name": "stdout",
     "output_type": "stream",
     "text": [
      "[(4, 'nima', datetime.datetime(2025, 5, 26, 13, 23, 18, 402512, tzinfo=datetime.timezone(datetime.timedelta(seconds=10800))), datetime.datetime(2025, 5, 26, 13, 23, 18, 402512), datetime.time(13, 23, 18, 402512, tzinfo=datetime.timezone(datetime.timedelta(seconds=10800))), datetime.time(13, 23, 18, 402512), datetime.date(2025, 5, 26)), (5, None, datetime.datetime(2025, 5, 26, 13, 36, 20, 86335, tzinfo=datetime.timezone(datetime.timedelta(seconds=10800))), datetime.datetime(2025, 5, 26, 13, 36, 20, 86335), datetime.time(13, 36, 20, 86335, tzinfo=datetime.timezone(datetime.timedelta(seconds=10800))), datetime.time(13, 36, 20, 86335), datetime.date(2025, 5, 26)), (6, None, datetime.datetime(2025, 5, 26, 13, 40, 34, 475703, tzinfo=datetime.timezone(datetime.timedelta(seconds=10800))), datetime.datetime(2025, 5, 26, 13, 40, 34, 475703), datetime.time(13, 40, 34, 475703, tzinfo=datetime.timezone(datetime.timedelta(seconds=10800))), datetime.time(13, 40, 34, 475703), datetime.date(2025, 5, 26))]\n"
     ]
    }
   ],
   "source": [
    "with Session(engine) as seesion:\n",
    "    print(session.execute(select(t).order_by(t.c.id)).all())"
   ]
  },
  {
   "cell_type": "markdown",
   "id": "83d6b460-ef20-433a-a8cc-75d2f56b2a0f",
   "metadata": {},
   "source": [
    "## core / orm"
   ]
  },
  {
   "cell_type": "code",
   "execution_count": 26,
   "id": "ec327d96-b13a-4484-a5e9-b6877ee1c194",
   "metadata": {},
   "outputs": [],
   "source": [
    "from sqlalchemy import update\n",
    "\n",
    "stm = update(t).where(t.c.id == 5).values(content = 'banafsheh')\n",
    "with Session(engine) as session:\n",
    "    session.execute(stm)\n",
    "    session.commit()"
   ]
  },
  {
   "cell_type": "code",
   "execution_count": 27,
   "id": "a7f6b2c8-1e05-4716-bbde-ffde7678eb81",
   "metadata": {},
   "outputs": [
    {
     "name": "stdout",
     "output_type": "stream",
     "text": [
      "[(4, 'nima', datetime.datetime(2025, 5, 26, 13, 23, 18, 402512, tzinfo=datetime.timezone(datetime.timedelta(seconds=10800))), datetime.datetime(2025, 5, 26, 13, 23, 18, 402512), datetime.time(13, 23, 18, 402512, tzinfo=datetime.timezone(datetime.timedelta(seconds=10800))), datetime.time(13, 23, 18, 402512), datetime.date(2025, 5, 26)), (5, 'banafsheh', datetime.datetime(2025, 5, 26, 13, 36, 20, 86335, tzinfo=datetime.timezone(datetime.timedelta(seconds=10800))), datetime.datetime(2025, 5, 26, 13, 36, 20, 86335), datetime.time(13, 36, 20, 86335, tzinfo=datetime.timezone(datetime.timedelta(seconds=10800))), datetime.time(13, 36, 20, 86335), datetime.date(2025, 5, 26)), (6, None, datetime.datetime(2025, 5, 26, 13, 40, 34, 475703, tzinfo=datetime.timezone(datetime.timedelta(seconds=10800))), datetime.datetime(2025, 5, 26, 13, 40, 34, 475703), datetime.time(13, 40, 34, 475703, tzinfo=datetime.timezone(datetime.timedelta(seconds=10800))), datetime.time(13, 40, 34, 475703), datetime.date(2025, 5, 26))]\n"
     ]
    }
   ],
   "source": [
    "with Session(engine) as seesion:\n",
    "    print(session.execute(select(t).order_by(t.c.id)).all())"
   ]
  },
  {
   "cell_type": "markdown",
   "id": "7e7f5a8b-8a44-4ae7-bc8b-2c091d85602f",
   "metadata": {},
   "source": [
    "# UNIQUE vs PRIMARY KEY"
   ]
  },
  {
   "cell_type": "raw",
   "id": "1d613a2a-4c51-4f2e-9ec7-40f243343625",
   "metadata": {},
   "source": [
    "1- UNIQUE mitune meghdar NULL dashte bashe. Faghat age meghdar dasht nabaid tekrari bashe.\n",
    "vali PRIMARY KEY nmeitune NULL bashe\n",
    "\n",
    "2- ma faghat ie dune CONSTRAINT PRIMARY KEY mitunim dashte bashim vali mishe chandta CONSTRAINT UNIQUE dsht"
   ]
  },
  {
   "cell_type": "markdown",
   "id": "bfb88408-68b0-4cc7-af90-21e50030f05a",
   "metadata": {},
   "source": [
    "# Defining a uniqe constraint"
   ]
  },
  {
   "cell_type": "raw",
   "id": "67115012-651d-4510-8262-6b42ddd37251",
   "metadata": {},
   "source": [
    "raw sql column level (inline)\n",
    "c_name c_type UNIQUE\n",
    "\n",
    "raw sql table level\n",
    "UNIQUE(c_name)\n",
    "\n",
    "sqlalchemy Column\n",
    "Column(... , unique = True)\n",
    "\n",
    "sqlalchemy Table\n",
    "Table(... , UniqueConstraint(c_name, name = constraint_name))\n",
    "\n",
    "sqlalchemy ORM mode:\n",
    "__table_args__ = (... , UniqueConstraint(c_name, name = constraint_name))\n"
   ]
  },
  {
   "cell_type": "markdown",
   "id": "79224db1-44b4-4dcc-8cca-d84388a4aa60",
   "metadata": {},
   "source": [
    "# finding UNIQUE CONSTRAINT"
   ]
  },
  {
   "cell_type": "code",
   "execution_count": 3,
   "id": "ccae66a6-7077-4dbf-853f-4d4684168ca2",
   "metadata": {},
   "outputs": [
    {
     "data": {
      "text/plain": [
       "[]"
      ]
     },
     "execution_count": 3,
     "metadata": {},
     "output_type": "execute_result"
    }
   ],
   "source": [
    "from sqlalchemy import inspect\n",
    "inspector = inspect(engine)\n",
    "inspector.get_unique_constraints('tdate_orm')"
   ]
  },
  {
   "cell_type": "markdown",
   "id": "02afab86-ba95-4536-bae9-c36eb7ba4bcb",
   "metadata": {},
   "source": [
    "# adding UNIQUE"
   ]
  },
  {
   "cell_type": "code",
   "execution_count": 4,
   "id": "dc497a0c-bf9e-41e1-a74a-3d82884b2421",
   "metadata": {},
   "outputs": [],
   "source": [
    "raw = \"\"\"\n",
    "ALTER TABLE tdate_orm\n",
    "ADD\n",
    "UNIQUE (content)\n",
    "\"\"\"\n",
    "\n",
    "from sqlalchemy import text\n",
    "with Session(engine) as session:\n",
    "    session.execute(text(raw))\n",
    "    session.commit()"
   ]
  },
  {
   "cell_type": "code",
   "execution_count": 5,
   "id": "f5315457-fddd-4cdb-a71d-ea51401aa466",
   "metadata": {},
   "outputs": [
    {
     "data": {
      "text/plain": [
       "[{'column_names': ['content'],\n",
       "  'name': 'tdate_orm_content_key',\n",
       "  'comment': None}]"
      ]
     },
     "execution_count": 5,
     "metadata": {},
     "output_type": "execute_result"
    }
   ],
   "source": [
    "inspector = inspect(engine)\n",
    "inspector.get_unique_constraints('tdate_orm')"
   ]
  },
  {
   "cell_type": "markdown",
   "id": "575fdc5d-837a-401f-b098-d3b061ef9ef4",
   "metadata": {},
   "source": [
    "# droping UNIQUE"
   ]
  },
  {
   "cell_type": "code",
   "execution_count": 7,
   "id": "42412b6e-bb4b-4bcc-842d-6feb9c23edc4",
   "metadata": {},
   "outputs": [
    {
     "data": {
      "text/plain": [
       "'tdate_orm_content_key'"
      ]
     },
     "execution_count": 7,
     "metadata": {},
     "output_type": "execute_result"
    }
   ],
   "source": [
    "inspector.get_unique_constraints('tdate_orm')[0]['name']"
   ]
  },
  {
   "cell_type": "code",
   "execution_count": 8,
   "id": "4f8eaff9-93de-44d1-9767-d3f041f11510",
   "metadata": {},
   "outputs": [],
   "source": [
    "raw = \"\"\"\n",
    "ALTER TABLE tdate_orm\n",
    "DROP\n",
    "CONSTRAINT tdate_orm_content_key\n",
    "\"\"\"\n",
    "\n",
    "with Session(engine) as session:\n",
    "    session.execute(text(raw))\n",
    "    session.commit()"
   ]
  },
  {
   "cell_type": "code",
   "execution_count": null,
   "id": "322088f9-b829-40b5-8761-05e9e97d6d0f",
   "metadata": {},
   "outputs": [],
   "source": [
    "inspector = inspect(engine)\n",
    "inspector.get_unique_constraints('tdate_orm')"
   ]
  },
  {
   "cell_type": "markdown",
   "id": "d59873fa-a69e-4b37-912b-ccf801b2b8b4",
   "metadata": {},
   "source": [
    "# check constraint"
   ]
  },
  {
   "cell_type": "raw",
   "id": "dec64661-48dc-4b91-91ff-e164b392a24b",
   "metadata": {},
   "source": [
    "iek shart bool ra ruie table emal mikonad"
   ]
  },
  {
   "cell_type": "markdown",
   "id": "e593b5d2-c3b4-458b-90a0-c2bd64b8ddc7",
   "metadata": {},
   "source": [
    "# finding check constraint"
   ]
  },
  {
   "cell_type": "code",
   "execution_count": 7,
   "id": "1de96b30-7221-469f-9be7-6038955cf7af",
   "metadata": {},
   "outputs": [
    {
     "data": {
      "text/plain": [
       "[]"
      ]
     },
     "execution_count": 7,
     "metadata": {},
     "output_type": "execute_result"
    }
   ],
   "source": [
    "from sqlalchemy import inspect\n",
    "inspector = inspect(engine)\n",
    "inspector.get_check_constraints('tdate_orm')"
   ]
  },
  {
   "cell_type": "markdown",
   "id": "fd00a01a-8467-41da-a8aa-a5f8de3f6531",
   "metadata": {},
   "source": [
    "# add check constraint"
   ]
  },
  {
   "cell_type": "code",
   "execution_count": 8,
   "id": "e384fd19-c437-477e-b79a-48d155fcbefe",
   "metadata": {},
   "outputs": [],
   "source": [
    "from sqlalchemy import text"
   ]
  },
  {
   "cell_type": "code",
   "execution_count": 11,
   "id": "7ae69e14-eea8-45f8-99f3-c71e85418deb",
   "metadata": {},
   "outputs": [
    {
     "data": {
      "text/plain": [
       "[{'name': 'constraint_name',\n",
       "  'sqltext': \"content::text = 'nima'::text OR content::text = 'banafsheh'::text\",\n",
       "  'comment': None}]"
      ]
     },
     "execution_count": 11,
     "metadata": {},
     "output_type": "execute_result"
    }
   ],
   "source": [
    "raw = \"\"\"\n",
    "ALTER TABLE tdate_orm\n",
    "ADD CONSTRAINT\n",
    "constraint_name\n",
    "CHECK (content = 'nima' OR content = 'banafsheh')\n",
    "\"\"\"\n",
    "\n",
    "with Session(engine) as session:\n",
    "    session.execute(text(raw))\n",
    "    session.commit()\n",
    "inspector = inspect(engine)\n",
    "inspector.get_check_constraints('tdate_orm')"
   ]
  },
  {
   "cell_type": "markdown",
   "id": "12cc565f-b3a8-432a-8c34-c859c0317227",
   "metadata": {},
   "source": [
    "# Drop check constraint"
   ]
  },
  {
   "cell_type": "code",
   "execution_count": 12,
   "id": "143dd30f-8551-42d4-8e36-e1f890b36bd1",
   "metadata": {},
   "outputs": [
    {
     "data": {
      "text/plain": [
       "[]"
      ]
     },
     "execution_count": 12,
     "metadata": {},
     "output_type": "execute_result"
    }
   ],
   "source": [
    "raw = \"\"\"\n",
    "ALTER TABLE tdate_orm\n",
    "DROP CONSTRAINT\n",
    "constraint_name\n",
    "\"\"\"\n",
    "\n",
    "with Session(engine) as session:\n",
    "    session.execute(text(raw))\n",
    "    session.commit()\n",
    "inspector = inspect(engine)\n",
    "inspector.get_check_constraints('tdate_orm')"
   ]
  },
  {
   "cell_type": "markdown",
   "id": "c89b0d2c-6ba3-4983-9617-86aef7088dfe",
   "metadata": {},
   "source": [
    "# CONSTRAINT in ORM model and Table()"
   ]
  },
  {
   "cell_type": "raw",
   "id": "3af11163-20dd-47e6-b861-670c9223fe17",
   "metadata": {},
   "source": [
    "PRIMARY KEY -> primary_key param of Column =True\n",
    "UNIQUE      -> unique param of Column =True\n",
    "NOT NULL    -> nullable param of Column =False\n",
    "\n",
    "CHECK       ->\n",
    "CheckConstraint(sql expr, name=)\n",
    "hala in CheckConstraint\n",
    "dar ORM model be onvane iek ozve tuple __table_args__ miad\n",
    "dar Table mesle iek sotun miad"
   ]
  },
  {
   "cell_type": "markdown",
   "id": "2cce4972-2632-47b2-9d7e-fefe54817e1f",
   "metadata": {},
   "source": [
    "## ORM model"
   ]
  },
  {
   "cell_type": "code",
   "execution_count": 6,
   "id": "b70a1d4a-0efb-42b0-9880-e8648173013a",
   "metadata": {},
   "outputs": [],
   "source": [
    "from sqlalchemy.orm import registry\n",
    "from sqlalchemy import Table\n",
    "sqlalchemy_registry = registry()\n",
    "mapped = sqlalchemy_registry.mapped\n",
    "metadata = sqlalchemy_registry.metadata\n",
    "\n",
    "from sqlalchemy import Column, Integer, String, CheckConstraint\n",
    "\n",
    "@mapped\n",
    "class C:\n",
    "    __tablename__= 'constraint_orm'\n",
    "    __table_args__= (\n",
    "        CheckConstraint(\"gender IN ('male', 'female')\", name = \"check_gender\"),\n",
    "    )\n",
    "    id = Column(Integer, primary_key= True, autoincrement= True)\n",
    "    email = Column(String, unique= True)\n",
    "    gender = Column(String)\n",
    "\n",
    "metadata.create_all(engine)"
   ]
  },
  {
   "cell_type": "markdown",
   "id": "c4a63df6-194e-4514-8243-3e3236e0be8a",
   "metadata": {},
   "source": [
    "## Core"
   ]
  },
  {
   "cell_type": "code",
   "execution_count": 7,
   "id": "680f6c91-89ea-4125-8b1a-aa8a1a799e8e",
   "metadata": {},
   "outputs": [],
   "source": [
    "Table(\n",
    "    'constraint_core',\n",
    "    metadata,\n",
    "    Column('id', Integer, primary_key= True, autoincrement= True),\n",
    "    Column('email', String, unique= True, nullable= False),\n",
    "    Column('gender', String),\n",
    "    CheckConstraint(\"gender IN ('male', 'female')\", name = \"check_gender\")\n",
    ")\n",
    "metadata.create_all(engine)"
   ]
  },
  {
   "cell_type": "markdown",
   "id": "483b8895-9cad-4596-b871-db6420531cf3",
   "metadata": {},
   "source": [
    "# ENUM"
   ]
  },
  {
   "cell_type": "raw",
   "id": "7cde7c86-94d5-42c5-876d-8906d032c77d",
   "metadata": {},
   "source": [
    "a data type"
   ]
  },
  {
   "cell_type": "raw",
   "id": "8043165b-b40f-4d44-a678-fb26650bff55",
   "metadata": {},
   "source": [
    "it can be incredibly useful when you want to restrict a column to a predefined set of values"
   ]
  },
  {
   "cell_type": "raw",
   "id": "19599f45-045f-49ef-9d27-4e9e0700ce40",
   "metadata": {},
   "source": [
    "Performance: Slight performance benefits compared to VARCHAR + a CHECK constraint, as Postgres stores them internally as integers with labels.\n",
    "\n",
    "Compact Storage: Each value is stored as a 4-byte integer internally."
   ]
  },
  {
   "cell_type": "markdown",
   "id": "3232c295-eb04-4f39-b5fc-693313b44fa6",
   "metadata": {},
   "source": [
    "# create ENUM"
   ]
  },
  {
   "cell_type": "markdown",
   "id": "a0437683-9ce3-48e7-8b0f-cb3ae905f435",
   "metadata": {},
   "source": [
    "## text"
   ]
  },
  {
   "cell_type": "code",
   "execution_count": 3,
   "id": "8ce3a88f-d855-4a37-a398-2aaf31258eca",
   "metadata": {},
   "outputs": [],
   "source": [
    "raw = \"\"\"\n",
    "CREATE TYPE type_name\n",
    "AS\n",
    "ENUM ('value1', 'value2', 'value3')\n",
    "\"\"\"\n",
    "\n",
    "from sqlalchemy import text\n",
    "from sqlalchemy.orm import Session\n",
    "with Session(engine) as session:\n",
    "    session.execute(text(raw))\n",
    "    session.commit()"
   ]
  },
  {
   "cell_type": "markdown",
   "id": "5bad175c-41f2-4729-9dea-c85fdc356586",
   "metadata": {},
   "source": [
    "## python and core/orm"
   ]
  },
  {
   "cell_type": "raw",
   "id": "386ded9a-ef93-4435-8074-499b4bb61f4b",
   "metadata": {},
   "source": [
    "aval iek class enum python ba value haie constant misazim (PythonEnum)\n",
    "dovom hengam sakhat orm model ia table az Enum(PythonEnum, name = 'type_name') be onvane type estefade mikonim\n",
    "\n",
    "mogheiy ke jadvale marbut be orm class ia Table dar db sakhte mishe enum ham sakhte mishe\n",
    "**inja dota Enum darim python: enum.Enum va sqlalchemy: Enum"
   ]
  },
  {
   "cell_type": "code",
   "execution_count": null,
   "id": "9a379d1e-c3b2-4e6f-be59-b433aa150508",
   "metadata": {},
   "outputs": [],
   "source": [
    "#step 1\n",
    "import enum\n",
    "\n",
    "class PythonEnum(enum.Enum):\n",
    "    v_1 = 'value1'\n",
    "    v_2 = 'value2'\n",
    "    v_3 = 'value3'\n",
    "\n",
    "#step 2\n",
    "from sqlalchemy import Enum\n",
    "new_type = Enum(PythonEnum, name = 'type_name_2')"
   ]
  },
  {
   "cell_type": "markdown",
   "id": "b98a51e0-c0f0-4408-b68d-346b61cb3955",
   "metadata": {},
   "source": [
    "# using already defined Enum"
   ]
  },
  {
   "cell_type": "markdown",
   "id": "447f5167-4feb-4c98-a5ab-c844e107f943",
   "metadata": {},
   "source": [
    "## text"
   ]
  },
  {
   "cell_type": "code",
   "execution_count": 4,
   "id": "b01047ef-acfb-412e-9f91-d06ffda1d658",
   "metadata": {},
   "outputs": [],
   "source": [
    "raw = \"\"\"\n",
    "CREATE TABLE enum_table\n",
    "(\n",
    "    id SERIAL PRIMARY KEY,\n",
    "    enum_col type_name\n",
    ")\n",
    "\"\"\"\n",
    "\n",
    "with Session(engine) as session:\n",
    "    session.execute(text(raw))\n",
    "    session.commit()"
   ]
  },
  {
   "cell_type": "markdown",
   "id": "4d9f1bd5-c194-4a9d-b4c3-44470bc4e1f8",
   "metadata": {},
   "source": [
    "## core/orm"
   ]
  },
  {
   "cell_type": "code",
   "execution_count": 18,
   "id": "0379e167-ab18-4251-8bc1-d9951898b8b9",
   "metadata": {},
   "outputs": [],
   "source": [
    "from sqlalchemy import Enum\n",
    "import enum\n",
    "\n",
    "# dobare baiad class enum python ro benevisi\n",
    "class PythonEnum(enum.Enum):\n",
    "    v_1 = 'value1'\n",
    "    v_2 = 'value2'\n",
    "    v_3 = 'value3'\n",
    "# new_type daghighan esme enum dar db hast\n",
    "already_deifned_enum = Enum(\n",
    "    PythonEnum,\n",
    "    name = 'type_name',\n",
    "    native_enum = True,\n",
    "    create_type = False\n",
    ")\n",
    "\n",
    "from sqlalchemy.orm import registry\n",
    "\n",
    "sqlalchemy_registry = registry()\n",
    "mapped = sqlalchemy_registry.mapped\n",
    "metadata = sqlalchemy_registry.metadata\n",
    "\n",
    "from sqlalchemy import Integer, Column\n",
    "\n",
    "@mapped\n",
    "class C2:\n",
    "    __tablename__ = 'orm_enum_2'\n",
    "    id = Column(Integer, primary_key= True, autoincrement= True)\n",
    "    enum_col = Column(already_deifned_enum)\n",
    "\n",
    "metadata.create_all(engine)"
   ]
  },
  {
   "cell_type": "markdown",
   "id": "d41b1d4c-528d-452d-88bc-00c69e72e024",
   "metadata": {},
   "source": [
    "# DDL"
   ]
  },
  {
   "cell_type": "raw",
   "id": "78629ab2-250e-4150-87e6-efa160ecd251",
   "metadata": {},
   "source": [
    "DDL in SQLAlchemy is a function (or class) that allows you to define and execute SQL statements aimed at modifying the structure of a database — such as creating tables, indexes, or triggers — not the data within it. These DDL statements can be automatically executed in response to schema-level events, such as after a table is created.\n",
    "\n",
    "Key Concepts Reflected:\n",
    "✔ DDL = Data Definition Language, not Data Manipulation.\n",
    "\n",
    "✔ Used for structure-related changes like CREATE, ALTER, DROP, CREATE INDEX, etc.\n",
    "\n",
    "✔ SQLAlchemy’s DDL() can be attached to event hooks like after_create, making it event-driven within schema lifecycle.\n",
    "\n",
    "❌ Not intended for SELECT, INSERT, UPDATE, DELETE — those are DML(Data Manipulation Language), not DDL.\n",
    "\n"
   ]
  },
  {
   "cell_type": "raw",
   "id": "edc40957-7f85-4f32-b846-ecd091e7e557",
   "metadata": {},
   "source": [
    "Examples of tatements aimed at modifying the structure of a database:\n",
    "\n",
    "CREATE TABLE\n",
    "\n",
    "ALTER TABLE\n",
    "\n",
    "DROP TABLE\n",
    "\n",
    "CREATE INDEX\n",
    "\n",
    "ALTER TABLE ... ADD CONSTRAINT\n",
    "\n",
    "TRUNCATE"
   ]
  },
  {
   "cell_type": "code",
   "execution_count": 3,
   "id": "b8b75aed-d876-4362-a6d5-ceb4bccc73e9",
   "metadata": {},
   "outputs": [],
   "source": [
    "raw = \"\"\"\n",
    "CREATE TABLE tddl\n",
    "(\n",
    "    id SERIAL PRIMARY KEY,\n",
    "    content VARCHAR\n",
    ")\n",
    "\"\"\"\n",
    "\n",
    "from sqlalchemy import DDL\n",
    "ddl_stm = DDL(raw)\n",
    "\n",
    "from sqlalchemy.orm import Session\n",
    "with Session(engine) as session:\n",
    "    session.execute(ddl_stm)\n",
    "    session.commit()\n",
    "    "
   ]
  },
  {
   "cell_type": "code",
   "execution_count": null,
   "id": "288f5763-3c6a-4b21-bda3-efd851feb92e",
   "metadata": {},
   "outputs": [],
   "source": []
  },
  {
   "cell_type": "markdown",
   "id": "e0df12f3-f9b0-454f-b290-3580d7b51f22",
   "metadata": {},
   "source": [
    "# event"
   ]
  },
  {
   "cell_type": "raw",
   "id": "6c2c7d24-dd6f-45eb-90fe-f1b6d72db23f",
   "metadata": {},
   "source": [
    "What is an Event in SQLAlchemy?\n",
    "\n",
    "An Event in SQLAlchemy is a type of triggered action that occurs at specific points in the lifecycle of the ORM or Core operations. These events allow you to automatically execute a function or some code at particular moments.\n",
    "\n",
    "Common Events in SQLAlchemy\n",
    "\n",
    "before_insert / after_insert: Before and after inserting a new record into a table\n",
    "\n",
    "before_update / after_update: Before and after updating a record\n",
    "\n",
    "before_delete / after_delete: Before and after deleting a record\n",
    "\n",
    "load: When an object is loaded from the database\n",
    "\n",
    "connect / close: When a connection to the database is opened or closed"
   ]
  },
  {
   "cell_type": "markdown",
   "id": "ad0ed471-1e01-49e6-a946-176c1ce0b807",
   "metadata": {},
   "source": [
    "| **Event Layer**       | **Useful For**                        | **Example**                                        |\n",
    "|-----------------------|----------------------------------------|----------------------------------------------------|\n",
    "| `DDL Events`          | Schema setup and teardown              | Add index, extension, trigger after table creation |\n",
    "| `Mapper Events`       | ORM object lifecycle (insert, update)  | Modify data before insert                          |\n",
    "| `Session Events`      | Session-level commits/flushes          | Audit logs, enforce policies                       |\n",
    "| `Connection Events`   | DB connection-specific hooks           | Logging queries or enforcing startup checks        |\n"
   ]
  },
  {
   "cell_type": "code",
   "execution_count": 4,
   "id": "75e4635f-c145-49b2-9ffb-615fc0ed580d",
   "metadata": {},
   "outputs": [],
   "source": [
    "from sqlalchemy.orm import registry\n",
    "sqlalchemy_registry = registry()\n",
    "metadata = sqlalchemy_registry.metadata\n",
    "\n",
    "from sqlalchemy import Table, Column, Integer, String\n",
    "table_obj = Table ('first',\n",
    "                   metadata,\n",
    "                   Column('id', Integer, autoincrement=True  ,primary_key= True),\n",
    "                   Column('content', String)\n",
    "                  )\n",
    "    \n",
    "\n",
    "\n",
    "raw = \"\"\"\n",
    "CREATE TABLE second\n",
    "(\n",
    "    id SERIAL PRIMARY KEY,\n",
    "    content VARCHAR\n",
    ")\n",
    "\"\"\"\n",
    "\n",
    "ddl_obj = DDL(raw)\n",
    "\n",
    "from sqlalchemy import event\n",
    "event.listen(table_obj , 'after_create', ddl_obj)\n",
    "\n",
    "metadata.create_all(engine)"
   ]
  },
  {
   "cell_type": "code",
   "execution_count": 5,
   "id": "39c0b025-5f8c-4609-ae9a-3867ca0c1d37",
   "metadata": {},
   "outputs": [
    {
     "data": {
      "text/plain": [
       "['constraint_core',\n",
       " 'core_table',\n",
       " 'new_table',\n",
       " 'new_table_2',\n",
       " 'enum_table',\n",
       " 'orm_enum',\n",
       " 'orm_enum_2',\n",
       " 'declaritive_table',\n",
       " 'registery_table',\n",
       " 'core_orm',\n",
       " 'tddl',\n",
       " 'first',\n",
       " 'second',\n",
       " 'tdate_orm',\n",
       " 'tdate_text',\n",
       " 'constraint_orm']"
      ]
     },
     "execution_count": 5,
     "metadata": {},
     "output_type": "execute_result"
    }
   ],
   "source": [
    "from sqlalchemy import inspect\n",
    "inspector = inspect(engine)\n",
    "inspector.get_table_names()"
   ]
  },
  {
   "cell_type": "code",
   "execution_count": null,
   "id": "de71ab71-6e88-4cbe-9f9a-b41e55243259",
   "metadata": {},
   "outputs": [],
   "source": []
  },
  {
   "cell_type": "markdown",
   "id": "c93d873e-c68e-4b60-959b-3267179d9351",
   "metadata": {},
   "source": [
    "# sqlalchemy event vs python asyncio"
   ]
  },
  {
   "cell_type": "raw",
   "id": "c4164ba6-3dca-4ae8-b4e2-0ae33b474184",
   "metadata": {},
   "source": [
    "For most common use cases in the context of Wolt and Data Engineering — such as data cleaning, field validation, or internal logging — using SQLAlchemy’s native event system is not only simpler and more readable, but also more performant.\n",
    "\n",
    "If your project is fully asynchronous — for example, built with FastAPI and using the async SQLAlchemy engine — it's important to know that SQLAlchemy events still work, but they are executed synchronously. Unless you use sqlalchemy.ext.asyncio combined with certain workarounds or hacks, these event handlers will not natively support async def functions.\n",
    "\n",
    "So, if you have a specific use case where you need to perform async operations inside the event (like calling an external API or reading a file asynchronously), then you’ll need to think more carefully. In such cases, it might be more reasonable to handle that logic outside the ORM, using async-aware patterns that better suit those asynchronous needs."
   ]
  },
  {
   "cell_type": "markdown",
   "id": "b20e7976-1aba-4d55-b1f9-8b84d53efcea",
   "metadata": {},
   "source": [
    "# transaction, flush and commit"
   ]
  },
  {
   "cell_type": "raw",
   "id": "f72732f0-7f82-45df-a2db-28aade97979c",
   "metadata": {},
   "source": [
    "A transaction consists of one or more operations executed together on the database. If any of these operations fail, all operations are undone (roll back the database to the state it was in before the transaction started). The key point is that partial or halfway transactions can exist temporarily.\n",
    "\n",
    "Flush is an operation that can happen during a transaction. It is used when we want the effects of previous operations to be reflected in the database so that subsequent operations within the same transaction can work with or access the modified version of the database. The crucial detail is that this modified state is only visible within the ongoing transaction and is not permanent. If any subsequent operation fails, the flush itself is rolled back as part of the transaction rollback.\n",
    "\n",
    "Commit is the step that marks the end of a transaction and makes all changes permanent in the database. Any operations happening after a commit belong to a new transaction. If a transaction ends without a commit, even if there were flush operations, the entire transaction is rolled back to the state before the transaction began. To be precise, a commit consists of a flush plus making those changes permanent.\n",
    "\n",
    "In SQLAlchemy, we can use a Session as a context manager to cleanly start and wrap up a transaction. Having a commit at the end of the session is the only action that makes changes permanent in the database. Otherwise, when the context manager frees resources, it also rolls back to the state just before the session began."
   ]
  },
  {
   "cell_type": "markdown",
   "id": "3abbf2ea-93e5-41d2-9209-bbbc34459c41",
   "metadata": {},
   "source": [
    "## Transaction\n",
    "\n",
    "A **transaction** is one or more operations done together to the database as a single atomic unit.  \n",
    "If any operation in the transaction fails, all operations are undone (rolled back) to the state before the start of the transaction.  \n",
    "\n",
    "The key is that transactions allow for intermediate states or “halfway transactions” during their execution, but these are **not permanent until commit**.\n",
    "\n",
    "### Additional notes:\n",
    "- Think of the transaction as a container holding all changes until you decide to finalize (`commit`) or discard (`rollback`) them.  \n",
    "- These intermediate states (after `flush`, for example) are **only visible inside the ongoing transaction**.\n",
    "\n",
    "---\n",
    "\n",
    "## Flush\n",
    "\n",
    "**Flush** is an operation that can occur during a transaction to send pending changes from the session to the database.  \n",
    "This means the effects of prior operations become visible to subsequent operations within the same transaction.  \n",
    "However, the changes from a flush are **not permanent**; if the transaction eventually rolls back, all flush effects are undone as well.\n",
    "\n",
    "### Additional notes:\n",
    "- Flush is useful when you want to ensure the database reflects your current session state temporarily (e.g., for integrity checks or queries dependent on new data).  \n",
    "- Flush happens automatically in SQLAlchemy before queries or commits, but you can also trigger it manually. Reads (SELECT queries) and commits cause automatic flushes, but adds, updates, and deletes alone do not—those wait until flush or commit.\n",
    "\n",
    "---\n",
    "\n",
    "## Commit\n",
    "\n",
    "**Commit** marks the end of a transaction, permanently saving all changes made during that transaction to the database.  \n",
    "Any operations after commit belong to a new transaction.  \n",
    "If a transaction ends without a commit (for example, if it’s closed or an error occurs), all changes including any flushes are rolled back to the state before the transaction began.\n",
    "\n",
    "### Additional notes:\n",
    "- Commit is the only operation that truly makes changes durable and visible outside the current transaction scope.  \n",
    "- Without commit, all changes are ephemeral and discarded on rollback.\n",
    "\n",
    "---\n",
    "\n",
    "## How SQLAlchemy’s Session context manager fits in\n",
    "\n",
    "In SQLAlchemy, using a **Session** as a context manager (e.g., `with Session() as session:`) provides a clean, structured way to start and wrap up a transaction.  \n",
    "\n",
    "At the end of the `with` block:\n",
    "- If you explicitly call `session.commit()`, the transaction is committed, making your changes permanent.  \n",
    "- If you don’t commit, or if an error occurs, the session will **rollback automatically** when the context manager closes, reverting the database to the state before the session began.  \n",
    "- The context manager also takes care of cleaning up resources, closing connections, and preventing leaks.\n"
   ]
  },
  {
   "cell_type": "markdown",
   "id": "9d6f6eda-aad1-4584-a8bd-b2dfcdeba529",
   "metadata": {},
   "source": [
    "# running .sql file"
   ]
  },
  {
   "cell_type": "code",
   "execution_count": 12,
   "id": "c07fd607-3cf3-40c5-bad7-1faeafbdec4e",
   "metadata": {},
   "outputs": [],
   "source": [
    "from sqlalchemy import text\n",
    "from sqlalchemy.orm import Session"
   ]
  },
  {
   "cell_type": "code",
   "execution_count": 8,
   "id": "974568f3-e4c9-4f2d-b718-9cdaa2436291",
   "metadata": {},
   "outputs": [
    {
     "data": {
      "text/plain": [
       "['constraint_core',\n",
       " 'core_table',\n",
       " 'new_table',\n",
       " 'new_table_2',\n",
       " 'enum_table',\n",
       " 'orm_enum',\n",
       " 'orm_enum_2',\n",
       " 'declaritive_table',\n",
       " 'registery_table',\n",
       " 'core_orm',\n",
       " 'tddl',\n",
       " 'first',\n",
       " 'second',\n",
       " 'tdate_orm',\n",
       " 'tdate_text',\n",
       " 'constraint_orm']"
      ]
     },
     "execution_count": 8,
     "metadata": {},
     "output_type": "execute_result"
    }
   ],
   "source": [
    "from sqlalchemy import inspect\n",
    "inspect(engine).get_table_names()"
   ]
  },
  {
   "cell_type": "code",
   "execution_count": 10,
   "id": "fb5df6e3-8776-47a6-8c7e-8de966a34a7f",
   "metadata": {},
   "outputs": [],
   "source": [
    "with open('stm.sql') as file:\n",
    "    statements = file.read()\n",
    "with Session(engine) as session:\n",
    "    session.execute(text(statements))\n",
    "    session.commit()"
   ]
  },
  {
   "cell_type": "code",
   "execution_count": 11,
   "id": "0e4f34a0-afa2-44c0-8553-38d0daf156bb",
   "metadata": {},
   "outputs": [
    {
     "data": {
      "text/plain": [
       "['users_file',\n",
       " 'constraint_core',\n",
       " 'core_table',\n",
       " 'new_table',\n",
       " 'new_table_2',\n",
       " 'enum_table',\n",
       " 'orm_enum',\n",
       " 'orm_enum_2',\n",
       " 'declaritive_table',\n",
       " 'registery_table',\n",
       " 'core_orm',\n",
       " 'tddl',\n",
       " 'first',\n",
       " 'second',\n",
       " 'tdate_orm',\n",
       " 'tdate_text',\n",
       " 'constraint_orm']"
      ]
     },
     "execution_count": 11,
     "metadata": {},
     "output_type": "execute_result"
    }
   ],
   "source": [
    "inspect(engine).get_table_names()"
   ]
  },
  {
   "cell_type": "markdown",
   "id": "8cab4d2e-d4b1-4f3b-ac01-bd8f9e6536e0",
   "metadata": {},
   "source": [
    "# ON CONFLICT DO"
   ]
  },
  {
   "cell_type": "raw",
   "id": "bc87903a-bc17-4509-ae75-e4006b11f691",
   "metadata": {},
   "source": [
    "ON CONFLICT clause is part of the INSERT statemen (it is somehow an except block for\n",
    "the unique error of insert (IntegrityError))\n",
    "\n",
    "you can say\n",
    "ON CONFLICT\n",
    "or\n",
    "ON CONFLICT (c)\n",
    "but c must be UNIQUE or PRIMARY KEY\n",
    "\n",
    "after that comes the DO part\n",
    "you can say\n",
    "DO NOTHING\n",
    "or\n",
    "DO UPDATE SET some_col = EXCULDED.some_col (with this you can update some_col of the row which is already there based on the new information which is availble as EXCULDED keyword)"
   ]
  },
  {
   "cell_type": "code",
   "execution_count": 14,
   "id": "2c20c9df-928b-4843-a270-ee196b93b0cb",
   "metadata": {},
   "outputs": [
    {
     "name": "stdout",
     "output_type": "stream",
     "text": [
      "[(6, None, datetime.datetime(2025, 5, 26, 13, 40, 34, 475703, tzinfo=datetime.timezone(datetime.timedelta(seconds=10800))), datetime.datetime(2025, 5, 26, 13, 40, 34, 475703), datetime.time(13, 40, 34, 475703, tzinfo=datetime.timezone(datetime.timedelta(seconds=10800))), datetime.time(13, 40, 34, 475703), datetime.date(2025, 5, 26)), (4, 'nima', datetime.datetime(2025, 5, 26, 13, 23, 18, 402512, tzinfo=datetime.timezone(datetime.timedelta(seconds=10800))), datetime.datetime(2025, 5, 26, 13, 23, 18, 402512), datetime.time(13, 23, 18, 402512, tzinfo=datetime.timezone(datetime.timedelta(seconds=10800))), datetime.time(13, 23, 18, 402512), datetime.date(2025, 5, 26)), (5, 'banafsheh', datetime.datetime(2025, 5, 26, 13, 36, 20, 86335, tzinfo=datetime.timezone(datetime.timedelta(seconds=10800))), datetime.datetime(2025, 5, 26, 13, 36, 20, 86335), datetime.time(13, 36, 20, 86335, tzinfo=datetime.timezone(datetime.timedelta(seconds=10800))), datetime.time(13, 36, 20, 86335), datetime.date(2025, 5, 26))]\n"
     ]
    }
   ],
   "source": [
    "from sqlalchemy import select\n",
    "with Session(engine) as session:\n",
    "    print(session.execute(select(t)).all())"
   ]
  },
  {
   "cell_type": "markdown",
   "id": "8d43efb5-f10a-4c9d-b9d1-bc7e91ff343d",
   "metadata": {},
   "source": [
    "## text"
   ]
  },
  {
   "cell_type": "code",
   "execution_count": null,
   "id": "80cdeb9e-f857-4176-99d7-2a7e0f3a169d",
   "metadata": {},
   "outputs": [],
   "source": [
    "with Session(engine) as session:\n",
    "    session.execute(text(\"\"\"INSERT INTO tdate_orm\n",
    "                            (id)\n",
    "                            VALUES\n",
    "                            (6)\n",
    "                            \"\"\"))\n",
    "    session.commit()\n",
    "\n",
    "# IntegrityError: (psycopg2.errors.UniqueViolation) duplicate key value violates unique constraint \"tdate_orm_pkey\"\n",
    "# DETAIL:  Key (id)=(6) already exists."
   ]
  },
  {
   "cell_type": "code",
   "execution_count": 17,
   "id": "9012ce3b-ae76-4bf9-b0e8-0e0d83e73e82",
   "metadata": {},
   "outputs": [],
   "source": [
    "with Session(engine) as session:\n",
    "    session.execute(text(\"\"\"INSERT INTO tdate_orm\n",
    "                            (id)\n",
    "                            VALUES\n",
    "                            (6)\n",
    "                            ON CONFLICT (id)\n",
    "                            DO NOTHING\n",
    "                            \"\"\"))\n",
    "    session.commit()"
   ]
  },
  {
   "cell_type": "markdown",
   "id": "88cf9bae-a33f-48b5-a97e-d35641d4562a",
   "metadata": {},
   "source": [
    "## core"
   ]
  },
  {
   "cell_type": "raw",
   "id": "369930e4-908a-4e24-b930-eadb9aec39f7",
   "metadata": {},
   "source": [
    "in core we could only handle ON CONFLICT (c)\n",
    "\n",
    "here we have to use different insert"
   ]
  },
  {
   "cell_type": "code",
   "execution_count": 24,
   "id": "9abfa85e-1fe0-46bd-b556-7444b924bc8c",
   "metadata": {},
   "outputs": [],
   "source": [
    "from sqlalchemy.dialects.postgresql import insert"
   ]
  },
  {
   "cell_type": "code",
   "execution_count": 25,
   "id": "af522ec3-6e8e-4686-ba61-9c8e40d9a14d",
   "metadata": {},
   "outputs": [],
   "source": [
    "stm = insert(t).values(id = 6, content = 'asal')"
   ]
  },
  {
   "cell_type": "code",
   "execution_count": 26,
   "id": "b595856f-e344-439d-a055-24e6d16249b9",
   "metadata": {},
   "outputs": [],
   "source": [
    "stm = stm.on_conflict_do_update(\n",
    "    index_elements=['id'],\n",
    "    set_={\n",
    "        'content': stm.excluded.content\n",
    "    }\n",
    ")"
   ]
  },
  {
   "cell_type": "code",
   "execution_count": 27,
   "id": "e501841c-22ef-4c3d-aace-5e303cf518b8",
   "metadata": {},
   "outputs": [],
   "source": [
    "with Session(engine) as session:\n",
    "    session.execute(stm)\n",
    "    session.commit()"
   ]
  },
  {
   "cell_type": "code",
   "execution_count": 29,
   "id": "e400a02e-0802-4644-b563-d16c542f29ff",
   "metadata": {},
   "outputs": [
    {
     "name": "stdout",
     "output_type": "stream",
     "text": [
      "[(4, 'nima', datetime.datetime(2025, 5, 26, 13, 23, 18, 402512, tzinfo=datetime.timezone(datetime.timedelta(seconds=10800))), datetime.datetime(2025, 5, 26, 13, 23, 18, 402512), datetime.time(13, 23, 18, 402512, tzinfo=datetime.timezone(datetime.timedelta(seconds=10800))), datetime.time(13, 23, 18, 402512), datetime.date(2025, 5, 26)), (5, 'banafsheh', datetime.datetime(2025, 5, 26, 13, 36, 20, 86335, tzinfo=datetime.timezone(datetime.timedelta(seconds=10800))), datetime.datetime(2025, 5, 26, 13, 36, 20, 86335), datetime.time(13, 36, 20, 86335, tzinfo=datetime.timezone(datetime.timedelta(seconds=10800))), datetime.time(13, 36, 20, 86335), datetime.date(2025, 5, 26)), (6, 'asal', datetime.datetime(2025, 5, 26, 13, 40, 34, 475703, tzinfo=datetime.timezone(datetime.timedelta(seconds=10800))), datetime.datetime(2025, 5, 26, 13, 40, 34, 475703), datetime.time(13, 40, 34, 475703, tzinfo=datetime.timezone(datetime.timedelta(seconds=10800))), datetime.time(13, 40, 34, 475703), datetime.date(2025, 5, 26))]\n"
     ]
    }
   ],
   "source": [
    "with Session(engine) as session:\n",
    "    print(session.execute(select(t)).all())"
   ]
  },
  {
   "cell_type": "markdown",
   "id": "37dfdfa3-7208-44b5-930a-7b2c555fa1f8",
   "metadata": {},
   "source": [
    "## orm"
   ]
  },
  {
   "cell_type": "raw",
   "id": "a7597bef-553b-4cea-8214-3b0d4af30234",
   "metadata": {},
   "source": [
    "use try-except IntegrityError"
   ]
  },
  {
   "cell_type": "markdown",
   "id": "4da7bb20-3a0a-417c-9397-8f949c5d7967",
   "metadata": {},
   "source": [
    "# Foreign Key"
   ]
  },
  {
   "cell_type": "raw",
   "id": "28ec0122-b8d7-4a4f-8354-d9b746b950f9",
   "metadata": {},
   "source": [
    "it is a column in a table which refrence a primary key of another table"
   ]
  },
  {
   "cell_type": "raw",
   "id": "c7958baf-d6f6-472f-9d0f-9ad0c9c21d7d",
   "metadata": {},
   "source": [
    "the column of foreign key and the column of primary key should have the same data type\n",
    "pk -> SERIAL : it is INT + autoincreament. for foreign key we do not want the autoincreamnet part just int\n",
    "so \n",
    "serial pk -> int refrence\n",
    "bigserial pk -> nigint refrence"
   ]
  },
  {
   "cell_type": "markdown",
   "id": "675398ec-ded9-404d-94d8-8dc8867c3e11",
   "metadata": {},
   "source": [
    "# Defining a one to many Foregn Key"
   ]
  },
  {
   "cell_type": "markdown",
   "id": "baad118f-bdec-41a3-80ce-e73341272756",
   "metadata": {},
   "source": [
    "## Inline Foreign Key Definition (Column-level)"
   ]
  },
  {
   "cell_type": "markdown",
   "id": "18b2c788-e55c-4531-b203-3c51ff439188",
   "metadata": {},
   "source": [
    "### text"
   ]
  },
  {
   "cell_type": "raw",
   "id": "9aee9ed0-d9f8-473b-b8a9-880126426631",
   "metadata": {},
   "source": [
    "col_name type\n",
    "REFERENCES\n",
    "another_table_name(pk_col_name)"
   ]
  },
  {
   "cell_type": "markdown",
   "id": "06f98ba6-d665-4436-98f9-5cd959f113af",
   "metadata": {},
   "source": [
    "### core/orm"
   ]
  },
  {
   "cell_type": "raw",
   "id": "c7305a73-9e14-4c9e-8ee3-f739993de82d",
   "metadata": {},
   "source": [
    "pk_str = 'another_table_name' + '.' + 'pk_col_name'\n",
    "Column(..., ForeignKey(pk_str))"
   ]
  },
  {
   "cell_type": "markdown",
   "id": "002f11f5-d31f-4265-8051-27647cd68398",
   "metadata": {},
   "source": [
    "## Table-level Foreign Key Definition (Named Constraint)"
   ]
  },
  {
   "cell_type": "markdown",
   "id": "673c879d-6cdc-478c-ab41-3ef292e02e2a",
   "metadata": {},
   "source": [
    "### text"
   ]
  },
  {
   "cell_type": "raw",
   "id": "1de5f9f8-4322-4b30-83cb-ac4f04b3d32d",
   "metadata": {},
   "source": [
    "CONSTRAINT constraint_name\n",
    "FOREIGN KEY (col_name)\n",
    "REFERENCES\n",
    "another_table_name(pk_col_name)"
   ]
  },
  {
   "cell_type": "markdown",
   "id": "ab30500a-cf16-44bb-afe5-e029fdc7ae89",
   "metadata": {},
   "source": [
    "### core"
   ]
  },
  {
   "cell_type": "raw",
   "id": "2b43c1b7-f2b5-4b38-8d48-4c6aae44597c",
   "metadata": {},
   "source": [
    "pk_str = 'another_table_name' + '.' + 'pk_col_name'\n",
    "ForeignKeyConstraint([col_name], [pk_str], name=constraint_name)"
   ]
  },
  {
   "cell_type": "markdown",
   "id": "eb1219fe-84f0-4676-a93a-2d3cfae29a0c",
   "metadata": {},
   "source": [
    "## Add Foreign Key Constraint Using ALTER TABLE"
   ]
  },
  {
   "cell_type": "markdown",
   "id": "814f13c9-a104-4ed8-babc-56dd213f3554",
   "metadata": {},
   "source": [
    "### text"
   ]
  },
  {
   "cell_type": "raw",
   "id": "f41624d3-ce93-48dd-b413-03f857e47d18",
   "metadata": {},
   "source": [
    "ALTER TABLE table_name\n",
    "ADD CONSTRAINT constraint_name\n",
    "FOREIGN KEY (col_name)\n",
    "REFERENCES another_table_name(pk_col_name)"
   ]
  },
  {
   "cell_type": "markdown",
   "id": "b058038a-f648-44d9-bde9-5a00f1c68224",
   "metadata": {},
   "source": [
    "# Defining a one to one Foregn Key"
   ]
  },
  {
   "cell_type": "raw",
   "id": "7f825005-56be-437d-bf57-a0936f767555",
   "metadata": {},
   "source": [
    "one to one foreign key is actually a uniqe foreign key\n",
    "so basically it is a UNIQUE constraint on top of a\n",
    "one to many foreign key"
   ]
  },
  {
   "cell_type": "markdown",
   "id": "4454d190-3147-43a6-a736-016b5d0a4455",
   "metadata": {},
   "source": [
    "### Inline Foreign Key Definition (Column-level)"
   ]
  },
  {
   "cell_type": "markdown",
   "id": "a283250b-e34b-4bc2-9627-3ad76c3725bd",
   "metadata": {},
   "source": [
    "### text"
   ]
  },
  {
   "cell_type": "raw",
   "id": "e44655ab-2fd6-4cfe-9d56-188f2f2c3ab8",
   "metadata": {},
   "source": [
    "col_name type\n",
    "UNIQUE REFERENCES\n",
    "another_table_name(pk_col_name)"
   ]
  },
  {
   "cell_type": "markdown",
   "id": "c3b9864d-9005-4a4f-b231-4b2bf0444487",
   "metadata": {},
   "source": [
    "### core/orm"
   ]
  },
  {
   "cell_type": "raw",
   "id": "90394b4b-5ab6-466b-aa37-329f2925d78b",
   "metadata": {},
   "source": [
    "pk_str = 'another_table_name' + '.' + 'pk_col_name'\n",
    "Column(..., ForeignKey(pk_str), unique= True)"
   ]
  },
  {
   "cell_type": "markdown",
   "id": "d40f4663-4bb0-41a8-941c-0da5f572ca68",
   "metadata": {},
   "source": [
    "## other ways"
   ]
  },
  {
   "cell_type": "raw",
   "id": "feecfe72-3369-4e15-8ad9-6fccfb869b77",
   "metadata": {},
   "source": [
    "add separate unique constraint on col_name "
   ]
  },
  {
   "cell_type": "markdown",
   "id": "7249ce51-1783-471e-95a0-bdfddfa6e92d",
   "metadata": {},
   "source": []
  },
  {
   "cell_type": "markdown",
   "id": "1194ec93-2026-4ee7-bf7c-467cccc21e06",
   "metadata": {},
   "source": [
    "# Relation"
   ]
  },
  {
   "cell_type": "raw",
   "id": "52c62fb2-3e9b-4afd-8bcf-5ece7e65366c",
   "metadata": {},
   "source": [
    "Connectiont between two tables via foreign key"
   ]
  },
  {
   "cell_type": "markdown",
   "id": "fcd8db25-97c8-4834-b2c5-7e2924f5850f",
   "metadata": {},
   "source": [
    "# example of two table with relation"
   ]
  },
  {
   "cell_type": "code",
   "execution_count": 23,
   "id": "9dee2d0b-a5df-43ba-a4fe-71a648d990b6",
   "metadata": {},
   "outputs": [],
   "source": [
    "from sqlalchemy.orm import registry, Session\n",
    "from sqlalchemy import Column, Integer, String , ForeignKey\n",
    "\n",
    "sqlalchemy_registry = registry()\n",
    "mapped = sqlalchemy_registry.mapped\n",
    "metadata = sqlalchemy_registry.metadata\n",
    "\n",
    "@mapped\n",
    "class C1:\n",
    "    __tablename__='pet'\n",
    "    id = Column (Integer, autoincrement= True, primary_key= True)\n",
    "    pet_name = Column(String)\n",
    "\n",
    "@mapped\n",
    "class C2:\n",
    "    __tablename__='owner'\n",
    "    id = Column (Integer, autoincrement= True, primary_key= True)\n",
    "    owner_name = Column(String)\n",
    "    pet_id = Column(Integer, ForeignKey('pet.id'))\n",
    "\n",
    "metadata.create_all(engine)"
   ]
  },
  {
   "cell_type": "markdown",
   "id": "318d7896-1882-488a-ad94-ae2ee7bddc4b",
   "metadata": {},
   "source": [
    "# relatioship vs Foreign Key"
   ]
  },
  {
   "cell_type": "raw",
   "id": "7cc727af-7dc7-4dba-aaef-65e6cbf0b9b5",
   "metadata": {},
   "source": [
    "In most real-world, production-grade applications:\n",
    "\n",
    "The standard, idiomatic pattern is:\n",
    "\n",
    "🔹 A ForeignKey in the database — to enforce referential integrity (database level rule)\n",
    "🔹 A relationship() in the ORM — to enable object-level navigation (orm level convenience)"
   ]
  },
  {
   "cell_type": "markdown",
   "id": "30c26521-316d-4e17-9bbc-d132c4e0366e",
   "metadata": {},
   "source": [
    "# syntax of relationship"
   ]
  },
  {
   "cell_type": "raw",
   "id": "7cbc53d2-5788-47aa-a085-212a413027b5",
   "metadata": {},
   "source": [
    "har bar ke mikhai kar konim baraie kar be jadavel mojud dar database miaim va orm\n",
    "modeli ke match hast be un jadval ro minevisim. dar un orm model mitunim methodhaiy shabih be\n",
    "__repr__ ro ezave konim\n",
    "ieky dige az chizhaie ke mitunim ezafe konim iek attr hast ke eshareh be radif ia radifhaiy az jadval digari darad ke be un relation darim. dar orm model har javal iek class va har radif obj hastand. hala be ezafe kardan iek attr be class A kari mikonim a_obj.relationship = b_obj\n",
    "\n",
    "attr_in_a = relationship(B, back_populates=attr_in_b)\n",
    "\n",
    "va\n",
    "\n",
    "attr_in_B = relationship(A, back_populates=attr_in_a)"
   ]
  },
  {
   "cell_type": "markdown",
   "id": "80ca3ed4-8671-465d-97b1-db8c4d950fea",
   "metadata": {},
   "source": [
    "# use of relationship"
   ]
  },
  {
   "cell_type": "raw",
   "id": "a8ca7dab-b309-4073-975f-4b22407f317f",
   "metadata": {},
   "source": [
    "1) relationship for select: hala age be select be a_obj residim. bedune select va az tarighe a_obj.relationship be b_obj miresim\n",
    "2) relationship for update: nima.pet can be changed and commited this way nima.pet_id will be updated"
   ]
  },
  {
   "cell_type": "markdown",
   "id": "275c4875-dd21-4e89-b792-1848e165dafb",
   "metadata": {},
   "source": [
    "# example of relationship"
   ]
  },
  {
   "cell_type": "raw",
   "id": "dc7fe42b-8e0a-4d66-acb1-5e814fd89028",
   "metadata": {},
   "source": [
    "ghablan in jadavel tarif shodan\n",
    "\n",
    "class C1:\n",
    "    __tablename__='pet'\n",
    "    id = Column (Integer, autoincrement= True, primary_key= True)\n",
    "    pet_name = Column(String)\n",
    "\n",
    "\n",
    "class C2:\n",
    "    __tablename__='owner'\n",
    "    id = Column (Integer, autoincrement= True, primary_key= True)\n",
    "    owner_name = Column(String)\n",
    "    pet_id = Column(Integer, ForeignKey('pet.id'))"
   ]
  },
  {
   "cell_type": "code",
   "execution_count": 3,
   "id": "61e5aed6-c249-4a6b-bc96-f5cbca9c9e63",
   "metadata": {},
   "outputs": [],
   "source": [
    "from sqlalchemy.orm import registry, relationship\n",
    "from sqlalchemy import Column, Integer, String , ForeignKey\n",
    "\n",
    "sqlalchemy_registry = registry()\n",
    "mapped = sqlalchemy_registry.mapped\n",
    "\n",
    "@mapped\n",
    "class Pet:\n",
    "    __tablename__='pet'\n",
    "    id = Column (Integer, autoincrement= True, primary_key= True)\n",
    "    pet_name = Column(String)\n",
    "\n",
    "    def __repr__(self):\n",
    "        return f'a pet named {self.pet_name}'\n",
    "\n",
    "    # relationship attr\n",
    "    owners = relationship ('Owner', back_populates='pet')\n",
    "\n",
    "@mapped\n",
    "class Owner:\n",
    "    __tablename__='owner'\n",
    "    id = Column (Integer, autoincrement= True, primary_key= True)\n",
    "    owner_name = Column(String)\n",
    "    pet_id = Column(Integer, ForeignKey('pet.id'))\n",
    "\n",
    "    def __repr__(self):\n",
    "        return f'an owner named {self.owner_name}'\n",
    "\n",
    "    # relationship attr\n",
    "    pet = relationship ('Pet', back_populates='owners')"
   ]
  },
  {
   "cell_type": "markdown",
   "id": "075d088e-cfbe-4dff-98a4-3e1f774c2bd6",
   "metadata": {},
   "source": [
    "# using relatioship instead of select"
   ]
  },
  {
   "cell_type": "markdown",
   "id": "af629920-65e1-4d1d-b60e-7eeef74c6f1d",
   "metadata": {},
   "source": [
    "## lazy loading"
   ]
  },
  {
   "cell_type": "code",
   "execution_count": 22,
   "id": "cb10cd8b-ea01-442f-aca0-8649ee9c2b5b",
   "metadata": {},
   "outputs": [],
   "source": [
    "from sqlalchemy.orm import Session\n",
    "from sqlalchemy import select\n",
    "\n",
    "with Session(engine) as session:\n",
    "    asal = session.scalar(select(Pet).where(Pet.id == 1))\n",
    "    owner_lst = asal.owners # lazy loading\n",
    "    # iany baiad hanuz tu session bashim chon\n",
    "    # asal ke az select be dast umad owners hash bedast nemiad be surat automatic,\n",
    "    # mizre vaghti be khastim beheshun dast peida konim,\n",
    "    # ie select dige ersal mikone"
   ]
  },
  {
   "cell_type": "code",
   "execution_count": 20,
   "id": "c1c6eb37-39f9-4067-9678-90ea0ee2d878",
   "metadata": {},
   "outputs": [
    {
     "data": {
      "text/plain": [
       "a pet named asal"
      ]
     },
     "execution_count": 20,
     "metadata": {},
     "output_type": "execute_result"
    }
   ],
   "source": [
    "asal"
   ]
  },
  {
   "cell_type": "code",
   "execution_count": 21,
   "id": "ccb61ef2-f020-4a4e-8c1b-e38cd64139c5",
   "metadata": {},
   "outputs": [
    {
     "data": {
      "text/plain": [
       "[an owner named nima, an owner named banafsheh]"
      ]
     },
     "execution_count": 21,
     "metadata": {},
     "output_type": "execute_result"
    }
   ],
   "source": [
    "owner_lst"
   ]
  },
  {
   "cell_type": "markdown",
   "id": "18f7d150-7a90-4131-83fb-d642f584a552",
   "metadata": {},
   "source": [
    "## eager loading"
   ]
  },
  {
   "cell_type": "raw",
   "id": "94f7d0e4-0290-4c55-a87c-aa32bab4ebfb",
   "metadata": {},
   "source": [
    "I should use selectinload() by default.\n",
    "But if I’m selecting only one parent object and it has a one-to-one or one-to-few (≤5) relationship,\n",
    "then I’ll use joinedload() because it’s a bit faster and only triggers one query to the database.\n",
    "\n",
    "select(class_name).options(selectionload(class_name.relationship_attr))\n",
    "select(class_name).options(joinedload(class_name.relationship_attr))"
   ]
  },
  {
   "cell_type": "markdown",
   "id": "0eebe422-84ce-4822-9913-8a8a7acf9b3b",
   "metadata": {},
   "source": [
    "### joined load"
   ]
  },
  {
   "cell_type": "code",
   "execution_count": 24,
   "id": "a04f7784-5f98-475c-932f-27fdd4113a46",
   "metadata": {},
   "outputs": [
    {
     "data": {
      "text/plain": [
       "[an owner named nima, an owner named banafsheh]"
      ]
     },
     "execution_count": 24,
     "metadata": {},
     "output_type": "execute_result"
    }
   ],
   "source": [
    "from sqlalchemy.orm import joinedload\n",
    "\n",
    "stmt = select(Pet).options(joinedload(Pet.owners)).where(Pet.id == 1)\n",
    "with Session(engine) as session:\n",
    "    joinedload_asal = session.scalar(stmt)\n",
    "joinedload_asal.owners"
   ]
  },
  {
   "cell_type": "markdown",
   "id": "b5407c2a-0f8c-44a8-956d-cec6d585b559",
   "metadata": {},
   "source": [
    "### selection load"
   ]
  },
  {
   "cell_type": "code",
   "execution_count": 25,
   "id": "0c4b12d0-5ddf-489b-9c66-f731ff35b547",
   "metadata": {},
   "outputs": [
    {
     "data": {
      "text/plain": [
       "[an owner named nima, an owner named banafsheh]"
      ]
     },
     "execution_count": 25,
     "metadata": {},
     "output_type": "execute_result"
    }
   ],
   "source": [
    "from sqlalchemy.orm import selectinload\n",
    "\n",
    "stmt = select(Pet).options(selectinload(Pet.owners)).where(Pet.id == 1)\n",
    "\n",
    "with Session(engine) as session:\n",
    "    selectinload_asal = session.scalar(stmt)\n",
    "selectinload_asal.owners"
   ]
  },
  {
   "cell_type": "markdown",
   "id": "7ae8edbb-2721-48ef-bb11-1e68c3806668",
   "metadata": {},
   "source": [
    "# using relationship instead of update"
   ]
  },
  {
   "cell_type": "raw",
   "id": "b0fa6a77-e15d-49ce-a9e9-1a68bf6e1e0b",
   "metadata": {},
   "source": [
    "tuie iek session moshtarak:\n",
    "a_obj select mishe  ----\n",
    "b_obj select mishe     |---->  update stmt\n",
    "a_obj.b = b_obj     ----\n",
    "session.commit()\n",
    "\n",
    "hmauntori ke mibini verbose hast\n",
    "from both time and space (memory) perspectives, Core-style update(...) is more effiecient\n",
    "ama age bekhaie validation koni, business logic ro implement koni, chizi ro log koni va ... kholase az\n",
    "python estefade koni relatioship emkanesh ro faraham mikone"
   ]
  },
  {
   "cell_type": "code",
   "execution_count": 6,
   "id": "0ebc14b4-9393-451f-b09e-2f853f68f9a6",
   "metadata": {},
   "outputs": [],
   "source": [
    "from sqlalchemy.orm import Session\n",
    "\n",
    "new_pet = Pet(pet_name = 'bambi')\n",
    "with Session(engine) as session:\n",
    "    session.add(new_pet)\n",
    "    session.commit()"
   ]
  },
  {
   "cell_type": "code",
   "execution_count": 9,
   "id": "e5a9f7d8-1f47-48d3-9451-9d136850d2bd",
   "metadata": {},
   "outputs": [],
   "source": [
    "from sqlalchemy import select\n",
    "\n",
    "with Session(engine) as session:\n",
    "    banafseh = session.scalar(select(Owner).where(Owner.id == 2))"
   ]
  },
  {
   "cell_type": "code",
   "execution_count": 17,
   "id": "a04114a9-0410-4edc-9684-0a9c59760e2f",
   "metadata": {},
   "outputs": [],
   "source": [
    "with Session(engine) as session:\n",
    "    banafseh = session.scalar(select(Owner).where(Owner.id == 2))\n",
    "    bambi = session.scalar(select(Pet).where(Pet.id == 2))\n",
    "    banafseh.pet = bambi\n",
    "    session.commit()"
   ]
  },
  {
   "cell_type": "code",
   "execution_count": 18,
   "id": "5e7e17f9-c2fa-49d0-8ad4-51d08eab7e2e",
   "metadata": {},
   "outputs": [],
   "source": [
    "from sqlalchemy.orm import selectinload\n",
    "\n",
    "with Session(engine) as session:\n",
    "    banafsheh = session.scalar(select(Owner).options(selectinload(Owner.pet)).where(Owner.id == 2))"
   ]
  },
  {
   "cell_type": "code",
   "execution_count": 19,
   "id": "1167c92b-055e-4d8e-9f4e-15329b6bc114",
   "metadata": {},
   "outputs": [
    {
     "data": {
      "text/plain": [
       "a pet named bambi"
      ]
     },
     "execution_count": 19,
     "metadata": {},
     "output_type": "execute_result"
    }
   ],
   "source": [
    "banafsheh.pet"
   ]
  },
  {
   "cell_type": "code",
   "execution_count": 20,
   "id": "48f5d190-25a2-4aa4-9a57-899816868263",
   "metadata": {},
   "outputs": [
    {
     "data": {
      "text/plain": [
       "2"
      ]
     },
     "execution_count": 20,
     "metadata": {},
     "output_type": "execute_result"
    }
   ],
   "source": [
    "banafsheh.pet_id"
   ]
  },
  {
   "cell_type": "code",
   "execution_count": 27,
   "id": "2592c1fd-99fa-4f83-aa3b-eb90ff0c87d0",
   "metadata": {},
   "outputs": [],
   "source": [
    "# moghaiese ba update mamuli"
   ]
  },
  {
   "cell_type": "code",
   "execution_count": 23,
   "id": "051bba61-f05a-4810-9fdf-7682a1ec153b",
   "metadata": {},
   "outputs": [],
   "source": [
    "# with Session(engine) as session:\n",
    "#     banafseh = session.scalar(select(Owner).where(Owner.id == 2))\n",
    "#     bambi = session.scalar(select(Pet).where(Pet.id == 2))\n",
    "#     banafseh.pet = bambi\n",
    "#     session.commit()\n",
    "\n",
    "with Session(engine) as session:\n",
    "    session.execute(update(Owner).where(Owner.id == 2).values(pet_id = 1))\n",
    "    session.commit()"
   ]
  },
  {
   "cell_type": "code",
   "execution_count": 26,
   "id": "f1ed5f2d-d8dd-464d-9d3b-b50dcb1682ab",
   "metadata": {},
   "outputs": [
    {
     "data": {
      "text/plain": [
       "(a pet named asal, 1)"
      ]
     },
     "execution_count": 26,
     "metadata": {},
     "output_type": "execute_result"
    }
   ],
   "source": [
    "with Session(engine) as session:\n",
    "    banafsheh = session.scalar(select(Owner).options(selectinload(Owner.pet)).where(Owner.id == 2))\n",
    "banafsheh.pet, banafsheh.pet_id"
   ]
  },
  {
   "cell_type": "markdown",
   "id": "64c007c4-343a-4658-ab52-612563d5d374",
   "metadata": {},
   "source": []
  },
  {
   "cell_type": "code",
   "execution_count": null,
   "id": "36d986bf-d6d5-4eb2-9723-a7066c2bfb7f",
   "metadata": {},
   "outputs": [],
   "source": []
  },
  {
   "cell_type": "code",
   "execution_count": null,
   "id": "c4c4f771-cc25-4d48-ab82-5505d64d343d",
   "metadata": {},
   "outputs": [],
   "source": []
  },
  {
   "cell_type": "markdown",
   "id": "45616fe4-9a75-4f3b-b5d7-6ce5f4e8ff1b",
   "metadata": {},
   "source": [
    "# Join"
   ]
  },
  {
   "cell_type": "raw",
   "id": "a58732e9-f571-44d8-8666-cc38ed694d17",
   "metadata": {},
   "source": [
    "why join?\n",
    "if\n",
    "    we want to have do the select operation from two tables\n",
    "but \n",
    "   the two tables should have a foreign key relationship\n",
    "\n",
    "JOIN makes this process atomic and efficient — the database engine optimizes how to retrieve related rows in one go."
   ]
  },
  {
   "cell_type": "markdown",
   "id": "8070ba81-6e0c-44c3-a54d-2ed45118d688",
   "metadata": {},
   "source": [
    "# Inner Join"
   ]
  },
  {
   "cell_type": "raw",
   "id": "d68537e0-e28b-4d6f-9a3a-bf5f40dcc97b",
   "metadata": {},
   "source": [
    "An INNER JOIN between table A (with a foreign key) and table B (referenced table) returns only the rows where:\n",
    "\n",
    "The foreign key column in A is not NULL and matches an existing primary key in B.\n",
    "\n",
    "Only the rows from B that are referenced by A are included."
   ]
  },
  {
   "cell_type": "raw",
   "id": "d58cf29d-dd8d-4326-9582-be83d6b78d70",
   "metadata": {},
   "source": [
    "inner join iek jadval digast va intori sakhte mishe\n",
    "a join b\n",
    "on a.fk = b.pk\n",
    "\n",
    "select(A,B).join(B, a.fk == b.pk)"
   ]
  },
  {
   "cell_type": "raw",
   "id": "adb56392-ee14-4e50-94dc-fcee56ac6844",
   "metadata": {},
   "source": [
    "از مستندات رسمی PostgreSQL:\n",
    "\n",
    "The INNER keyword is optional. That is, SELECT ... FROM A JOIN B ON ... is the same as SELECT ... FROM A INNER JOIN B ON ....\n",
    "\n"
   ]
  },
  {
   "cell_type": "code",
   "execution_count": 26,
   "id": "cba2866b-8631-409d-be80-7c8c8cb225de",
   "metadata": {},
   "outputs": [],
   "source": [
    "from sqlalchemy.orm import registry\n",
    "sqlalchemy_registry = registry()\n",
    "from sqlalchemy.ext.automap import automap_base\n",
    "Base = automap_base(sqlalchemy_registry.generate_base())\n",
    "Base.prepare(autoload_with=engine)"
   ]
  },
  {
   "cell_type": "code",
   "execution_count": 27,
   "id": "03025de3-dd6f-4525-92be-26b2066a5f3b",
   "metadata": {},
   "outputs": [],
   "source": [
    "Pet = Base.classes.pet\n",
    "Owner = Base.classes.owner"
   ]
  },
  {
   "cell_type": "code",
   "execution_count": 28,
   "id": "67b0161d-72a5-4849-93fa-e62cb9d5ddcc",
   "metadata": {},
   "outputs": [],
   "source": [
    "asal = Pet(pet_name = 'asal')\n",
    "nima = Owner(owner_name = 'nima', pet_id = 1)\n",
    "banafsheh = Owner(owner_name = 'banafsheh', pet_id = 1)\n",
    "\n",
    "from sqlalchemy.orm import Session\n",
    "with Session(engine) as session:\n",
    "    session.add(asal)\n",
    "    session.flush()\n",
    "    session.add(nima)\n",
    "    session.add(banafsheh)\n",
    "    session.commit()"
   ]
  },
  {
   "cell_type": "markdown",
   "id": "55267aa0-90d0-46fc-9ddd-d7501b86b064",
   "metadata": {},
   "source": [
    "## text"
   ]
  },
  {
   "cell_type": "markdown",
   "id": "8ce939a4-7666-4a1d-9e40-4c42806ef7a7",
   "metadata": {},
   "source": [
    "### *"
   ]
  },
  {
   "cell_type": "code",
   "execution_count": 31,
   "id": "9678ecbb-5ab9-463e-b1b0-a82e72c176c4",
   "metadata": {},
   "outputs": [
    {
     "name": "stdout",
     "output_type": "stream",
     "text": [
      "[{'id': 1, 'owner_name': 'nima', 'pet_id': 1, 'pet_name': 'asal'}, {'id': 1, 'owner_name': 'banafsheh', 'pet_id': 1, 'pet_name': 'asal'}]\n"
     ]
    }
   ],
   "source": [
    "from sqlalchemy import text\n",
    "with Session(engine) as session:\n",
    "    print(session.execute(text(\"\"\"\n",
    "    SELECT * FROM\n",
    "    owner JOIN pet\n",
    "    on owner.pet_id = pet.id\n",
    "    \"\"\"\n",
    "                              )).mappings().all())"
   ]
  },
  {
   "cell_type": "markdown",
   "id": "c0ddc06b-2351-4204-934e-128e3fcbdc2b",
   "metadata": {},
   "source": [
    "### some columns"
   ]
  },
  {
   "cell_type": "code",
   "execution_count": 32,
   "id": "16efa78a-0115-4e51-91ed-0ef591dfc624",
   "metadata": {},
   "outputs": [
    {
     "name": "stdout",
     "output_type": "stream",
     "text": [
      "[{'owner_name': 'nima', 'pet_name': 'asal'}, {'owner_name': 'banafsheh', 'pet_name': 'asal'}]\n"
     ]
    }
   ],
   "source": [
    "with Session(engine) as session:\n",
    "    print(session.execute(text(\"\"\"\n",
    "    SELECT owner.owner_name, pet.pet_name FROM\n",
    "    owner JOIN pet\n",
    "    on owner.pet_id = pet.id\n",
    "    \"\"\"\n",
    "                              )).mappings().all())"
   ]
  },
  {
   "cell_type": "markdown",
   "id": "2c9249d2-9b33-4a6e-acd6-0288d02c056a",
   "metadata": {},
   "source": [
    "## core"
   ]
  },
  {
   "cell_type": "markdown",
   "id": "43268f51-055c-4f6c-8c28-82db28d448a6",
   "metadata": {},
   "source": [
    "### *"
   ]
  },
  {
   "cell_type": "code",
   "execution_count": 43,
   "id": "6bceff20-61e9-4356-a051-c05d530f0b4b",
   "metadata": {},
   "outputs": [
    {
     "name": "stdout",
     "output_type": "stream",
     "text": [
      "[{'id': 1, 'owner_name': 'nima', 'pet_id': 1, 'id_1': 1, 'pet_name': 'asal'}, {'id': 2, 'owner_name': 'banafsheh', 'pet_id': 1, 'id_1': 1, 'pet_name': 'asal'}]\n"
     ]
    }
   ],
   "source": [
    "from sqlalchemy import select\n",
    "stm = select(Owner.__table__, Pet.__table__).join(Pet.__table__, Owner.pet_id == Pet.id)\n",
    "with Session(engine) as session:\n",
    "    print(session.execute(stm).mappings().all())"
   ]
  },
  {
   "cell_type": "markdown",
   "id": "34976495-cd64-4614-9441-43ff4d95fdab",
   "metadata": {},
   "source": [
    "### some columns"
   ]
  },
  {
   "cell_type": "code",
   "execution_count": 46,
   "id": "4ce5a5a0-d2fa-4c83-93e7-d4b4a9ef9791",
   "metadata": {},
   "outputs": [
    {
     "name": "stdout",
     "output_type": "stream",
     "text": [
      "[{'owner_name': 'nima', 'pet_name': 'asal'}, {'owner_name': 'banafsheh', 'pet_name': 'asal'}]\n"
     ]
    }
   ],
   "source": [
    "stm = select(Owner.__table__.c.owner_name, Pet.__table__.c.pet_name).join(Pet.__table__, Owner.pet_id == Pet.id)\n",
    "with Session(engine) as session:\n",
    "    print(session.execute(stm).mappings().all())"
   ]
  },
  {
   "cell_type": "markdown",
   "id": "b7a97fbb-27a7-4963-82e5-b4f0741d0817",
   "metadata": {},
   "source": [
    "## orm"
   ]
  },
  {
   "cell_type": "markdown",
   "id": "c6a9753a-5d33-44c5-a01f-cb8575823477",
   "metadata": {},
   "source": [
    "### *"
   ]
  },
  {
   "cell_type": "code",
   "execution_count": 44,
   "id": "31604f4e-5546-4031-9ed7-efbcc7233c1e",
   "metadata": {},
   "outputs": [
    {
     "name": "stdout",
     "output_type": "stream",
     "text": [
      "[(owner:nima, pet:asal), (owner:banafsheh, pet:asal)]\n"
     ]
    }
   ],
   "source": [
    "Owner.__repr__ = lambda self: f'owner:{self.owner_name}'\n",
    "Pet.__repr__ = lambda self: f'pet:{self.pet_name}'\n",
    "\n",
    "from sqlalchemy import select\n",
    "stm = select(Owner, Pet).join(Pet, Owner.pet_id == Pet.id)\n",
    "with Session(engine) as session:\n",
    "    print(session.execute(stm).all())"
   ]
  },
  {
   "cell_type": "markdown",
   "id": "49ae7930-df65-4b7c-9e98-341fc6d877fb",
   "metadata": {},
   "source": [
    "### some columns"
   ]
  },
  {
   "cell_type": "code",
   "execution_count": 47,
   "id": "c5742b08-194c-4565-8c20-399fae5e36a6",
   "metadata": {},
   "outputs": [
    {
     "name": "stdout",
     "output_type": "stream",
     "text": [
      "[('nima', 'asal'), ('banafsheh', 'asal')]\n"
     ]
    }
   ],
   "source": [
    "from sqlalchemy import select\n",
    "stm = select(Owner.owner_name, Pet.pet_name).join(Pet, Owner.pet_id == Pet.id)\n",
    "with Session(engine) as session:\n",
    "    print(session.execute(stm).all())"
   ]
  },
  {
   "cell_type": "markdown",
   "id": "5c555685-0d5a-4a3f-9be4-92a8a9587dfb",
   "metadata": {},
   "source": [
    "# Automap vs Write the schema manually"
   ]
  },
  {
   "cell_type": "raw",
   "id": "6ac0bf4c-52ee-42e3-9053-b1a74ff03e12",
   "metadata": {},
   "source": [
    "For using SQLAlchemy Core/ORM APIs to do CRUD operations on an existing database, automap is not the only way. We can write ORM models or Table objects that match the DB schema and use Session(engine) to perform operations\n",
    "\n",
    "Use tools like sqlacodegen to Automatically generating the first working version of SQLAlchemy model class \n",
    "\n",
    "Then refine and write their own declarative classes with:\n",
    "\n",
    "relationship\n",
    "\n",
    "validations\n",
    "\n",
    "type annotations\n",
    "\n",
    "custom properties\n",
    "\n",
    "back_populates or backref\n",
    "\n",
    "Use alembic or SQLModel for schema migrations and updates"
   ]
  },
  {
   "cell_type": "markdown",
   "id": "651a6514-ef3a-4c60-b66a-0d4f4d178f3a",
   "metadata": {},
   "source": [
    "# many to many relationship"
   ]
  },
  {
   "cell_type": "raw",
   "id": "c7169d69-8815-41cf-82b1-bb29be5140aa",
   "metadata": {},
   "source": [
    "2 ta class va iek table minevisim\n",
    "dar table faghat do sotun foreign key darim va iek constraint primary key az majmue un do sotun. sotun haie foreign ke param ondelete (param khode foreign key param) meghdare cascade daran\n",
    "dar class ha relation ship iek param secondary dare va iek param passive_deletes"
   ]
  },
  {
   "cell_type": "code",
   "execution_count": null,
   "id": "cefc3ed4-aeed-405a-a1af-796337faf86c",
   "metadata": {},
   "outputs": [],
   "source": [
    "from sqlalchemy import Table, Column, Integer, String, PrimaryKeyConstraint, ForeignKey, select\n",
    "from sqlalchemy.orm import registry, relationship, Session\n",
    "\n",
    "sqlalchemy_registry = registry()\n",
    "mapped = sqlalchemy_registry.mapped\n",
    "metadata = sqlalchemy_registry.metadata\n",
    "\n",
    "ownership = Table(\n",
    "    'ownership',\n",
    "    metadata,\n",
    "    Column('owner_id', Integer, ForeignKey('new_owner.id', ondelete= 'cascade')),\n",
    "    Column('pet_id', Integer, ForeignKey('new_pet.id', ondelete= 'cascade')),\n",
    "    PrimaryKeyConstraint('owner_id', 'pet_id')\n",
    ")\n",
    "\n",
    "@mapped\n",
    "class Owner:\n",
    "    __tablename__ = 'new_owner'\n",
    "    id = Column(Integer, autoincrement=True, primary_key= True)\n",
    "    owner_name = Column (String, nullable= False)\n",
    "    pets = relationship('Pet', back_populates='owners', secondary='ownership', passive_deletes= True)\n",
    "\n",
    "@mapped\n",
    "class Pet:\n",
    "    __tablename__ = 'new_pet'\n",
    "    id = Column(Integer, autoincrement=True, primary_key= True)\n",
    "    pet_name = Column (String, nullable= False)\n",
    "    owners = relationship('Owner', back_populates= 'pets', secondary= 'ownership', passive_deletes= True)\n",
    "    "
   ]
  },
  {
   "cell_type": "code",
   "execution_count": 15,
   "id": "1eecfd25-ea2c-4201-9e00-4e9ca0ac1164",
   "metadata": {},
   "outputs": [],
   "source": [
    "metadata.create_all(engine)"
   ]
  },
  {
   "cell_type": "code",
   "execution_count": null,
   "id": "f8f71a31-1817-49ca-8af0-3eca67e6b8b2",
   "metadata": {},
   "outputs": [],
   "source": []
  },
  {
   "cell_type": "markdown",
   "id": "243cf62e-2c33-43c6-ab0b-5c41420d6aaa",
   "metadata": {},
   "source": [
    "# using append and extend for many to many "
   ]
  },
  {
   "cell_type": "code",
   "execution_count": 16,
   "id": "3157087f-0af4-4cd2-8fce-e556fa118034",
   "metadata": {},
   "outputs": [],
   "source": [
    "with Session(engine) as session:\n",
    "    asal = Pet(pet_name ='asal')\n",
    "    bambi = Pet(pet_name ='bambi')\n",
    "    nima = Owner(owner_name = 'nima')\n",
    "    banafsheh = Owner(owner_name = 'banafsheh')\n",
    "    session.add_all([asal, bambi, nima, banafsheh])\n",
    "    session.flush()\n",
    "    nima.pets.append(asal)\n",
    "    nima.pets.append(bambi)\n",
    "    banafsheh.pets.extend([asal, bambi])\n",
    "    session.commit()"
   ]
  },
  {
   "cell_type": "code",
   "execution_count": 18,
   "id": "643e5627-b56a-4bab-9813-21991f5ebb30",
   "metadata": {},
   "outputs": [
    {
     "name": "stdout",
     "output_type": "stream",
     "text": [
      "[{'owner_id': 1, 'pet_id': 1}, {'owner_id': 1, 'pet_id': 2}, {'owner_id': 2, 'pet_id': 1}, {'owner_id': 2, 'pet_id': 2}]\n"
     ]
    }
   ],
   "source": [
    "with Session(engine) as session:\n",
    "    print(session.execute(select(ownership)).mappings().all())"
   ]
  },
  {
   "cell_type": "markdown",
   "id": "95c34e5d-59c7-4daf-bdce-26b154926993",
   "metadata": {},
   "source": [
    "# using remove for many to many"
   ]
  },
  {
   "cell_type": "code",
   "execution_count": 19,
   "id": "cecaa1ec-74ac-4a69-8b70-e2890f449ce0",
   "metadata": {},
   "outputs": [],
   "source": [
    "with Session(engine) as session:\n",
    "    bambi = session.scalar(select(Pet).where(Pet.id == 2))\n",
    "    banafsheh = session.scalar(select(Owner).where(Owner.id == 2))\n",
    "    banafsheh.pets.remove(bambi)\n",
    "    session.commit()\n",
    "                            "
   ]
  },
  {
   "cell_type": "code",
   "execution_count": 20,
   "id": "adb5ea4a-4b8e-4a16-9513-cfc6134d600c",
   "metadata": {},
   "outputs": [
    {
     "name": "stdout",
     "output_type": "stream",
     "text": [
      "[{'owner_id': 1, 'pet_id': 1}, {'owner_id': 1, 'pet_id': 2}, {'owner_id': 2, 'pet_id': 1}]\n"
     ]
    }
   ],
   "source": [
    "with Session(engine) as session:\n",
    "    print(session.execute(select(ownership)).mappings().all())"
   ]
  },
  {
   "cell_type": "markdown",
   "id": "9213de52-2eb8-493a-ba59-a0bb67800f5d",
   "metadata": {},
   "source": [
    "# text and many to many"
   ]
  },
  {
   "cell_type": "code",
   "execution_count": 3,
   "id": "7bdbed6d-0950-4b99-ab99-6ed9582753ce",
   "metadata": {},
   "outputs": [
    {
     "name": "stdout",
     "output_type": "stream",
     "text": [
      "The history saving thread hit an unexpected error (OperationalError('attempt to write a readonly database')).History will not be written to the database.\n"
     ]
    }
   ],
   "source": [
    "raw = \"\"\"\n",
    "CREATE TABLE owner3 (\n",
    "    id SERIAL PRIMARY KEY,\n",
    "    owner_name VARCHAR NOT NULL\n",
    ");\n",
    "\n",
    "CREATE TABLE pet3 (\n",
    "    id SERIAL PRIMARY KEY,\n",
    "    pet_name VARCHAR NOT NULL\n",
    ");\n",
    "\n",
    "CREATE TABLE ownership3 (\n",
    "    owner_id INTEGER REFERENCES owner3(id) ON DELETE CASCADE,\n",
    "    pet_id INTEGER REFERENCES pet3(id) ON DELETE CASCADE,\n",
    "    PRIMARY KEY(owner_id, pet_id)\n",
    ");\n",
    "\"\"\"\n",
    "from sqlalchemy import text\n",
    "from sqlalchemy.orm import Session\n",
    "with Session(engine) as session:\n",
    "    session.execute(text(raw))\n",
    "    session.commit()"
   ]
  },
  {
   "cell_type": "code",
   "execution_count": 4,
   "id": "8f6c985a-051e-45e2-a779-e3e164c2fd08",
   "metadata": {},
   "outputs": [
    {
     "data": {
      "text/plain": [
       "['users_file',\n",
       " 'constraint_core',\n",
       " 'pet',\n",
       " 'owner',\n",
       " 'new_owner',\n",
       " 'ownership',\n",
       " 'new_pet',\n",
       " 'owner3',\n",
       " 'ownership3',\n",
       " 'pet3',\n",
       " 'core_table',\n",
       " 'new_table',\n",
       " 'new_table_2',\n",
       " 'enum_table',\n",
       " 'orm_enum',\n",
       " 'orm_enum_2',\n",
       " 'declaritive_table',\n",
       " 'registery_table',\n",
       " 'core_orm',\n",
       " 'tddl',\n",
       " 'first',\n",
       " 'second',\n",
       " 'tdate_orm',\n",
       " 'tdate_text',\n",
       " 'constraint_orm']"
      ]
     },
     "execution_count": 4,
     "metadata": {},
     "output_type": "execute_result"
    }
   ],
   "source": [
    "from sqlalchemy import inspect\n",
    "inspect(engine).get_table_names()"
   ]
  },
  {
   "cell_type": "markdown",
   "id": "b138857a-b5b6-49c4-a498-0951bbf1aaf7",
   "metadata": {},
   "source": [
    "# inset into many to many via text"
   ]
  },
  {
   "cell_type": "code",
   "execution_count": 5,
   "id": "a004475c-e70d-4647-9794-dfe0a9bb2b45",
   "metadata": {},
   "outputs": [],
   "source": [
    "raw = \"\"\"\n",
    "INSERT INTO pet3\n",
    "(pet_name)\n",
    "VALUES\n",
    "('asal'),\n",
    "('bambi') ;\n",
    "\n",
    "INSERT INTO owner3\n",
    "(owner_name)\n",
    "VALUES\n",
    "('nima'),\n",
    "('banafsheh') ;\n",
    "\n",
    "INSERT INTO ownership3\n",
    "(owner_id, pet_id)\n",
    "VALUES\n",
    "(1, 1),\n",
    "(1, 2),\n",
    "(2, 1) ;\n",
    "\"\"\"\n",
    "\n",
    "with Session(engine) as session:\n",
    "    session.execute(text(raw))\n",
    "    session.commit()"
   ]
  },
  {
   "cell_type": "markdown",
   "id": "566fbab8-1b26-469f-88f5-19229ba4cc70",
   "metadata": {},
   "source": [
    "# inner join on many to many"
   ]
  },
  {
   "cell_type": "markdown",
   "id": "0d4caf32-5069-405e-92e3-75aeb17528f6",
   "metadata": {},
   "source": [
    "## text"
   ]
  },
  {
   "cell_type": "raw",
   "id": "45787970-0627-46da-a15c-315f104436c7",
   "metadata": {},
   "source": [
    "SELECT A.c1, B.c2\n",
    "FROM A\n",
    "JOIN relationship_table ON relationship_table.a_id = A.id\n",
    "JOIN B ON relationship_table.b_id = B.id;\n"
   ]
  },
  {
   "cell_type": "code",
   "execution_count": 6,
   "id": "8d2e60b1-66ce-4a46-9d06-dd1afe088a1b",
   "metadata": {},
   "outputs": [
    {
     "name": "stdout",
     "output_type": "stream",
     "text": [
      "[{'owner_name': 'nima', 'pet_name': 'asal'}, {'owner_name': 'nima', 'pet_name': 'bambi'}, {'owner_name': 'banafsheh', 'pet_name': 'asal'}]\n"
     ]
    }
   ],
   "source": [
    "raw = \"\"\"\n",
    "SELECT owner3.owner_name, pet3.pet_name\n",
    "FROM owner3\n",
    "JOIN ownership3 ON ownership3.owner_id = owner3.id\n",
    "JOIN pet3 ON ownership3.pet_id = pet3.id\n",
    "\"\"\"\n",
    "with Session(engine) as session:\n",
    "    print(session.execute(text(raw)).mappings().all())"
   ]
  },
  {
   "cell_type": "markdown",
   "id": "2b09703b-29a1-426c-9367-3987e82819a6",
   "metadata": {},
   "source": [
    "## core/orm"
   ]
  },
  {
   "cell_type": "raw",
   "id": "7981e11c-b45f-41c3-bd20-2f8b18a366dd",
   "metadata": {},
   "source": [
    "stmt = (\n",
    "    select(AClass.attr1, BClass.attr2)\n",
    "    .join(relationship_table, relationship_table.c.a_id == AClass.id)\n",
    "    .join(BClass, relationship_table.c.b_id == BClass.id)\n",
    ")\n"
   ]
  },
  {
   "cell_type": "code",
   "execution_count": 5,
   "id": "e48a8214-8d74-40ec-b602-914c7430c8a2",
   "metadata": {},
   "outputs": [],
   "source": [
    "from sqlalchemy import Table, Column, Integer, String, PrimaryKeyConstraint, ForeignKey, select\n",
    "from sqlalchemy.orm import registry, relationship, Session\n",
    "\n",
    "sqlalchemy_registry = registry()\n",
    "mapped = sqlalchemy_registry.mapped\n",
    "metadata = sqlalchemy_registry.metadata\n",
    "\n",
    "ownership = Table(\n",
    "    'ownership3',\n",
    "    metadata,\n",
    "    Column('owner_id', Integer, ForeignKey('owner3.id', ondelete= 'cascade')),\n",
    "    Column('pet_id', Integer, ForeignKey('pet3.id', ondelete= 'cascade')),\n",
    "    PrimaryKeyConstraint('owner_id', 'pet_id')\n",
    ")\n",
    "\n",
    "@mapped\n",
    "class Owner:\n",
    "    __tablename__ = 'owner3'\n",
    "    id = Column(Integer, autoincrement=True, primary_key= True)\n",
    "    owner_name = Column (String, nullable= False)\n",
    "    pets = relationship('Pet', back_populates='owners', secondary='ownership3', passive_deletes= True)\n",
    "\n",
    "@mapped\n",
    "class Pet:\n",
    "    __tablename__ = 'pet3'\n",
    "    id = Column(Integer, autoincrement=True, primary_key= True)\n",
    "    pet_name = Column (String, nullable= False)\n",
    "    owners = relationship('Owner', back_populates= 'pets', secondary= 'ownership3', passive_deletes= True)\n",
    "    "
   ]
  },
  {
   "cell_type": "code",
   "execution_count": 7,
   "id": "c3295d22-0ac7-48e7-9b72-307da09bcca0",
   "metadata": {},
   "outputs": [
    {
     "name": "stdout",
     "output_type": "stream",
     "text": [
      "[{'owner_name': 'nima', 'pet_name': 'asal'}, {'owner_name': 'nima', 'pet_name': 'bambi'}, {'owner_name': 'banafsheh', 'pet_name': 'asal'}]\n"
     ]
    }
   ],
   "source": [
    "stmt = select(Owner.owner_name, Pet.pet_name).join(ownership, ownership.c.owner_id == Owner.id).join(Pet, ownership.c.pet_id == Pet.id) \n",
    "with Session(engine) as session:\n",
    "    print(session.execute(text(raw)).mappings().all())"
   ]
  },
  {
   "cell_type": "markdown",
   "id": "4c5ebaf9-18ec-4e4f-8ca1-fbfab41015f3",
   "metadata": {},
   "source": [
    "## left join"
   ]
  },
  {
   "cell_type": "code",
   "execution_count": 6,
   "id": "1dbc155e-9088-4d1e-9890-c3c3f35d843a",
   "metadata": {},
   "outputs": [
    {
     "data": {
      "text/plain": [
       "['users_file',\n",
       " 'constraint_core',\n",
       " 'pet',\n",
       " 'owner',\n",
       " 'new_owner',\n",
       " 'ownership',\n",
       " 'new_pet',\n",
       " 'owner3',\n",
       " 'ownership3',\n",
       " 'pet3',\n",
       " 'core_table',\n",
       " 'new_table',\n",
       " 'new_table_2',\n",
       " 'enum_table',\n",
       " 'orm_enum',\n",
       " 'orm_enum_2',\n",
       " 'declaritive_table',\n",
       " 'registery_table',\n",
       " 'core_orm',\n",
       " 'tddl',\n",
       " 'first',\n",
       " 'second',\n",
       " 'tdate_orm',\n",
       " 'tdate_text',\n",
       " 'constraint_orm']"
      ]
     },
     "execution_count": 6,
     "metadata": {},
     "output_type": "execute_result"
    }
   ],
   "source": [
    "from sqlalchemy import inspect\n",
    "inspect(engine).get_table_names()"
   ]
  },
  {
   "cell_type": "code",
   "execution_count": 10,
   "id": "2c1006bc-fcf5-47ee-acf7-cb2e1d04d386",
   "metadata": {},
   "outputs": [],
   "source": [
    "new_owner = Owner(owner_name='ali')"
   ]
  },
  {
   "cell_type": "code",
   "execution_count": 11,
   "id": "97542cf5-74b0-47a8-bdaa-55d123fc3f46",
   "metadata": {},
   "outputs": [],
   "source": [
    "from sqlalchemy.orm import Session\n",
    "with Session(engine) as session:\n",
    "    session.add(new_owner)\n",
    "    session.commit()"
   ]
  },
  {
   "cell_type": "code",
   "execution_count": 13,
   "id": "6e0d7eee-c476-429b-b7b3-cac961e2545f",
   "metadata": {},
   "outputs": [
    {
     "name": "stdout",
     "output_type": "stream",
     "text": [
      "[{'owner_name': 'nima', 'pet_name': 'asal'}, {'owner_name': 'banafsheh', 'pet_name': 'asal'}]\n"
     ]
    }
   ],
   "source": [
    "from sqlalchemy import select\n",
    "stmt = select(Owner.owner_name, Pet.pet_name).join(Pet, Owner.pet_id == Pet.id)\n",
    "with Session(engine) as session:\n",
    "    print(session.execute(stmt).mappings().all())"
   ]
  },
  {
   "cell_type": "markdown",
   "id": "7c330cd9-322a-40d8-8966-a6f0d8d6370e",
   "metadata": {},
   "source": [
    "## text"
   ]
  },
  {
   "cell_type": "code",
   "execution_count": 15,
   "id": "9fa4dea5-327d-45d2-a783-cee228447b03",
   "metadata": {},
   "outputs": [
    {
     "name": "stdout",
     "output_type": "stream",
     "text": [
      "[{'owner_name': 'nima', 'pet_name': 'asal'}, {'owner_name': 'banafsheh', 'pet_name': 'asal'}, {'owner_name': 'ali', 'pet_name': None}]\n"
     ]
    }
   ],
   "source": [
    "raw_sql= \"\"\"\n",
    "SELECT owner.owner_name, pet.pet_name\n",
    "FROM owner\n",
    "LEFT JOIN pet ON owner.pet_id = pet.id\n",
    "\"\"\"\n",
    "\n",
    "from sqlalchemy import text\n",
    "with Session(engine) as session:\n",
    "    print(session.execute(text(raw_sql)).mappings().all())"
   ]
  },
  {
   "cell_type": "markdown",
   "id": "ce7e1b94-43b4-4f16-b29e-dcf93912e6d8",
   "metadata": {},
   "source": [
    "## core / orm"
   ]
  },
  {
   "cell_type": "code",
   "execution_count": 16,
   "id": "9e3405de-3925-4a8c-b9ea-624868d67604",
   "metadata": {},
   "outputs": [
    {
     "name": "stdout",
     "output_type": "stream",
     "text": [
      "[{'owner_name': 'nima', 'pet_name': 'asal'}, {'owner_name': 'banafsheh', 'pet_name': 'asal'}, {'owner_name': 'ali', 'pet_name': None}]\n"
     ]
    }
   ],
   "source": [
    "stmt = select(Owner.owner_name, Pet.pet_name).outerjoin(Pet, Owner.pet_id == Pet.id)\n",
    "with Session(engine) as session:\n",
    "    print(session.execute(stmt).mappings().all())"
   ]
  },
  {
   "cell_type": "markdown",
   "id": "50c50944-62ef-4b95-bb3a-3a5b81f92e68",
   "metadata": {},
   "source": [
    "# delete when we have foreign key"
   ]
  },
  {
   "cell_type": "code",
   "execution_count": 9,
   "id": "3164eed4-5712-4f71-83ca-56433edbc636",
   "metadata": {},
   "outputs": [],
   "source": [
    "from sqlalchemy import update\n",
    "\n",
    "bambi = Pet(pet_name = 'bambi')\n",
    "update_stmt = update(Owner).where(Owner.id == 3).values(pet_id = 2)\n",
    "with Session(engine) as session:\n",
    "    session.add(bambi)\n",
    "    session.flush()\n",
    "    session.execute(update_stmt)\n",
    "    session.commit()"
   ]
  },
  {
   "cell_type": "code",
   "execution_count": 12,
   "id": "22ffeba8-d5a6-4d17-8592-4e730e9d6a1b",
   "metadata": {},
   "outputs": [],
   "source": [
    "# from sqlalchemy import delete\n",
    "# from sqlalchemy.orm import Session\n",
    "\n",
    "# del_stmt = delete(Pet).where(Pet.id == 2)\n",
    "# with Session(engine) as session:\n",
    "#     session.execute(del_stmt)\n",
    "#     session.commit()"
   ]
  },
  {
   "cell_type": "code",
   "execution_count": 14,
   "id": "ed516c42-279e-479e-be96-729c3f19ae44",
   "metadata": {},
   "outputs": [],
   "source": [
    "update_stmt = update(Owner).where(Owner.id == 3).values(pet_id = None)\n",
    "del_stmt = delete(Pet).where(Pet.id == 2)\n",
    "with Session(engine) as session:\n",
    "    session.execute(update_stmt)\n",
    "    session.flush()\n",
    "    session.execute(del_stmt)\n",
    "    session.commit()"
   ]
  },
  {
   "cell_type": "markdown",
   "id": "c1b6f6f0-9dd6-4c25-afa8-43e36738ee5e",
   "metadata": {},
   "source": [
    "# Use of ORM: session.get and session.delete"
   ]
  },
  {
   "cell_type": "markdown",
   "id": "004c0442-dd68-4e9d-867d-a960fb18d801",
   "metadata": {},
   "source": [
    "### ✅ ORM vs Core — Functional Mapping in SQLAlchemy\n",
    "\n",
    "| **Operation**            | **SQLAlchemy Core**                                 | **SQLAlchemy ORM**                                          |\n",
    "|--------------------------|-----------------------------------------------------|--------------------------------------------------------------|\n",
    "| **Insert**               | `insert(User).values(...)`                          | `session.add(user_obj)`                                     |\n",
    "| **Bulk Insert**          | `conn.execute(insert(User), data_list)`             | `session.add_all([user1, user2])`                           |\n",
    "| **Select (by id)**       | `select(User).where(User.id == 1)`                  | `session.get(User, 1)`                                      |\n",
    "| **Select (filtered)**    | `select(User).where(User.name == \"Nima\")`           | `session.query(User).filter_by(name=\"Nima\").all()`          |\n",
    "| **Update**               | `update(User).where(...).values(name=\"Nima\")`       | `user.name = \"Nima\"` then `session.commit()`                |\n",
    "| **Delete**               | `delete(User).where(User.id == 1)`                  | `session.delete(user_obj)`                                  |\n",
    "| **Join**                 | `select().join(Pet, Pet.owner_id == User.id)`       | `user.pets` (if relationship is defined)                    |\n",
    "| **Add to relationship**  | —                                                   | `user.pets.append(pet_obj)`                                 |\n",
    "| **Remove from relation** | —                                                   | `user.pets.remove(pet_obj)`                                 |\n",
    "| **Insert via relation**  | —                                                   | `user.pets = [Pet(...), Pet(...)]`                          |\n",
    "| **Delete via relation**  | —                                                   | `del user.pets[0]` or `user.pets.clear()`                   |\n",
    "| **Raw SQL**              | `conn.execute(text(\"SELECT * FROM users\"))`         | `session.execute(text(\"SELECT * FROM users\"))`              |\n"
   ]
  },
  {
   "cell_type": "raw",
   "id": "80791c41-8f89-4fe5-9f01-d2e67e900553",
   "metadata": {},
   "source": [
    "\n",
    "with Session(engine) as session:\n",
    "    owner = session.get(Owner, 3)\n",
    "    pet = session.get(Pet, 2)\n",
    "\n",
    "    if owner:\n",
    "        owner.pet_id = None\n",
    "\n",
    "    if pet:\n",
    "        session.delete(pet)\n",
    "\n",
    "    session.commit()\n"
   ]
  },
  {
   "cell_type": "code",
   "execution_count": 4,
   "id": "488d3f0e-6c40-4cde-8410-23d2f336e740",
   "metadata": {},
   "outputs": [],
   "source": [
    "from sqlalchemy.orm import Session\n",
    "\n",
    "with Session(engine) as session:\n",
    "    new_pet = Pet(pet_name= 'asalasal')\n",
    "    nima = session.get(Owner, 1)\n",
    "    nima.pet = new_pet\n",
    "    session.flush()\n",
    "    old_ver = session.get(Pet, 1)\n",
    "    session.delete(old_ver)\n",
    "    session.commit()"
   ]
  },
  {
   "cell_type": "code",
   "execution_count": 5,
   "id": "da80bf50-0bdd-4fef-abfd-8033d6dc35bd",
   "metadata": {},
   "outputs": [],
   "source": [
    "with Session(engine) as session:\n",
    "    nima = session.get(Owner, 1)\n",
    "    pet = nima.pet"
   ]
  },
  {
   "cell_type": "code",
   "execution_count": 6,
   "id": "a18c60cd-f578-4d51-b3b4-d6ba6e50440e",
   "metadata": {},
   "outputs": [
    {
     "data": {
      "text/plain": [
       "a pet named asalasal"
      ]
     },
     "execution_count": 6,
     "metadata": {},
     "output_type": "execute_result"
    }
   ],
   "source": [
    "pet"
   ]
  },
  {
   "cell_type": "markdown",
   "id": "beaf72c3-06e9-4b1d-8fed-108655c0fef2",
   "metadata": {},
   "source": [
    "# SERIAL and sequence function"
   ]
  },
  {
   "cell_type": "code",
   "execution_count": 3,
   "id": "3534187b-dd5a-4682-965a-6cbc7f05391a",
   "metadata": {},
   "outputs": [],
   "source": [
    "from sqlalchemy import text, select\n",
    "from sqlalchemy.orm import Session"
   ]
  },
  {
   "cell_type": "markdown",
   "id": "687b7ad4-da55-49f9-8757-2ed647e1b9b5",
   "metadata": {},
   "source": [
    "## checing a sequence"
   ]
  },
  {
   "cell_type": "raw",
   "id": "1672ad2c-cf44-455c-a7bc-f3d4eba9b2be",
   "metadata": {},
   "source": [
    "squence naming : table_name + _id_seq"
   ]
  },
  {
   "cell_type": "code",
   "execution_count": 6,
   "id": "29d78b8e-9eeb-4b90-ad1c-c130d9c1d153",
   "metadata": {},
   "outputs": [
    {
     "name": "stdout",
     "output_type": "stream",
     "text": [
      "[{'last_value': 4, 'log_cnt': 32, 'is_called': True}]\n"
     ]
    }
   ],
   "source": [
    "raw_sql = \"\"\"\n",
    "SELECT *\n",
    "from pet_id_seq\n",
    "\"\"\"\n",
    "\n",
    "with Session(engine) as session:\n",
    "    print(session.execute(text(raw_sql)).mappings().all())"
   ]
  },
  {
   "cell_type": "markdown",
   "id": "40d69814-dd8b-4f3a-b40f-7c2a153ff3a2",
   "metadata": {},
   "source": [
    "## manually calling seq func"
   ]
  },
  {
   "cell_type": "raw",
   "id": "26d92e6a-18ef-4f90-908a-a6d4146ee3c7",
   "metadata": {},
   "source": [
    "sequnence function: nextval('tablename'::regclass)"
   ]
  },
  {
   "cell_type": "code",
   "execution_count": 11,
   "id": "333d4a16-3964-4b88-ad53-3d1d31085a18",
   "metadata": {},
   "outputs": [],
   "source": [
    "raw_sql = \"\"\"\n",
    "SELECT\n",
    "nextval('pet_id_seq'::regclass)\n",
    "\"\"\"\n",
    "\n",
    "with Session(engine) as session:\n",
    "    print(session.execute(text(raw_sql)).mappings().all())"
   ]
  },
  {
   "cell_type": "markdown",
   "id": "7a54f06f-f8a4-4c8f-b015-79c0ff621be4",
   "metadata": {},
   "source": [
    "## restarting seq"
   ]
  },
  {
   "cell_type": "code",
   "execution_count": 16,
   "id": "3a4a9c10-ff05-4c02-a758-4308f56312bd",
   "metadata": {},
   "outputs": [
    {
     "name": "stdout",
     "output_type": "stream",
     "text": [
      "[{'last_value': 4, 'log_cnt': 0, 'is_called': False}]\n"
     ]
    }
   ],
   "source": [
    "raw_sql = \"\"\"\n",
    "ALTER SEQUENCE pet_id_seq\n",
    "RESTART WITH 4\n",
    "\"\"\"\n",
    "\n",
    "with Session(engine) as session:\n",
    "    session.execute(text(raw_sql))\n",
    "    session.commit()\n",
    "\n",
    "\n",
    "\n",
    "\n",
    "raw_sql = \"\"\"\n",
    "SELECT *\n",
    "from pet_id_seq\n",
    "\"\"\"\n",
    "\n",
    "with Session(engine) as session:\n",
    "    print(session.execute(text(raw_sql)).mappings().all())"
   ]
  },
  {
   "cell_type": "code",
   "execution_count": null,
   "id": "4b3080f0-e2e0-4d7e-b2e8-21318b0a2ca1",
   "metadata": {},
   "outputs": [],
   "source": []
  },
  {
   "cell_type": "markdown",
   "id": "e16311ca-2287-4914-a5c2-3ba1fd6660f5",
   "metadata": {},
   "source": [
    "# handle from here"
   ]
  },
  {
   "cell_type": "markdown",
   "id": "9dc48e1b-cbfd-4243-be1d-9193461e5b3d",
   "metadata": {},
   "source": [
    "# can we handle seq with orm"
   ]
  },
  {
   "cell_type": "markdown",
   "id": "2f838971-92ab-4422-ac63-8d04bae764ed",
   "metadata": {},
   "source": [
    "# session.begin()"
   ]
  },
  {
   "cell_type": "raw",
   "id": "fd3e9923-108e-45fe-b871-b32ae41fd59c",
   "metadata": {},
   "source": [
    "Use session.begin() for safety:\n",
    "\n",
    "If you're doing multiple operations, a context-managed transaction is safer:\n",
    "\n",
    "with Session(engine) as session:\n",
    "    with session.begin():\n",
    "        session.execute(update_stmt)\n",
    "        session.execute(del_stmt)\n"
   ]
  },
  {
   "cell_type": "markdown",
   "id": "c0a577fe-8dde-4442-b636-3ee03b48b255",
   "metadata": {},
   "source": [
    "# foreign key constraints (ON DELETE SET NULL)"
   ]
  },
  {
   "cell_type": "markdown",
   "id": "113f0790-6750-4bac-8e9d-266a2ba35cfa",
   "metadata": {},
   "source": [
    "# sqlaodegen"
   ]
  },
  {
   "cell_type": "markdown",
   "id": "7783ba2a-023c-44af-9981-1fc14eacec01",
   "metadata": {},
   "source": [
    "# pg_constraint"
   ]
  },
  {
   "cell_type": "raw",
   "id": "8adca824-3f86-4037-b47c-2a69ee7dbd38",
   "metadata": {},
   "source": [
    "SELECT conname, contype\n",
    "FROM pg_constraint\n",
    "WHERE conrelid = 'table_name'::regclass;\n"
   ]
  },
  {
   "cell_type": "markdown",
   "id": "efa547ac-0dbc-4f93-845a-3647dab5603c",
   "metadata": {},
   "source": [
    "# window function"
   ]
  },
  {
   "cell_type": "code",
   "execution_count": null,
   "id": "e8636fa5-0c4e-45bb-81e8-2756983a04cd",
   "metadata": {},
   "outputs": [],
   "source": []
  }
 ],
 "metadata": {
  "kernelspec": {
   "display_name": "Python 3 (ipykernel)",
   "language": "python",
   "name": "python3"
  },
  "language_info": {
   "codemirror_mode": {
    "name": "ipython",
    "version": 3
   },
   "file_extension": ".py",
   "mimetype": "text/x-python",
   "name": "python",
   "nbconvert_exporter": "python",
   "pygments_lexer": "ipython3",
   "version": "3.12.9"
  }
 },
 "nbformat": 4,
 "nbformat_minor": 5
}
