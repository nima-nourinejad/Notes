{
 "cells": [
  {
   "cell_type": "markdown",
   "id": "2b256dae",
   "metadata": {},
   "source": []
  },
  {
   "cell_type": "code",
   "execution_count": 35,
   "id": "1c7726ec",
   "metadata": {},
   "outputs": [],
   "source": [
    "import pandas"
   ]
  },
  {
   "cell_type": "code",
   "execution_count": null,
   "id": "280f8af7-a514-4a11-a153-354ab511a7b0",
   "metadata": {},
   "outputs": [],
   "source": []
  },
  {
   "cell_type": "markdown",
   "id": "e1229419-3311-404a-9ceb-00d35b0bd282",
   "metadata": {},
   "source": [
    "<h1>read_csv</h1>"
   ]
  },
  {
   "cell_type": "code",
   "execution_count": 36,
   "id": "f869bb6c-a1de-4a7e-a201-ad144656b203",
   "metadata": {},
   "outputs": [
    {
     "data": {
      "text/html": [
       "<div>\n",
       "<style scoped>\n",
       "    .dataframe tbody tr th:only-of-type {\n",
       "        vertical-align: middle;\n",
       "    }\n",
       "\n",
       "    .dataframe tbody tr th {\n",
       "        vertical-align: top;\n",
       "    }\n",
       "\n",
       "    .dataframe thead th {\n",
       "        text-align: right;\n",
       "    }\n",
       "</style>\n",
       "<table border=\"1\" class=\"dataframe\">\n",
       "  <thead>\n",
       "    <tr style=\"text-align: right;\">\n",
       "      <th></th>\n",
       "      <th>First Name</th>\n",
       "      <th>Gender</th>\n",
       "      <th>Start Date</th>\n",
       "      <th>Salary</th>\n",
       "      <th>Mgmt</th>\n",
       "      <th>Team</th>\n",
       "    </tr>\n",
       "  </thead>\n",
       "  <tbody>\n",
       "    <tr>\n",
       "      <th>0</th>\n",
       "      <td>Douglas</td>\n",
       "      <td>Male</td>\n",
       "      <td>8/6/93</td>\n",
       "      <td>NaN</td>\n",
       "      <td>True</td>\n",
       "      <td>Marketing</td>\n",
       "    </tr>\n",
       "    <tr>\n",
       "      <th>1</th>\n",
       "      <td>Thomas</td>\n",
       "      <td>Male</td>\n",
       "      <td>3/31/96</td>\n",
       "      <td>61933.0</td>\n",
       "      <td>True</td>\n",
       "      <td>NaN</td>\n",
       "    </tr>\n",
       "    <tr>\n",
       "      <th>2</th>\n",
       "      <td>Maria</td>\n",
       "      <td>Female</td>\n",
       "      <td>NaN</td>\n",
       "      <td>130590.0</td>\n",
       "      <td>False</td>\n",
       "      <td>Finance</td>\n",
       "    </tr>\n",
       "    <tr>\n",
       "      <th>3</th>\n",
       "      <td>Jerry</td>\n",
       "      <td>NaN</td>\n",
       "      <td>3/4/05</td>\n",
       "      <td>138705.0</td>\n",
       "      <td>True</td>\n",
       "      <td>Finance</td>\n",
       "    </tr>\n",
       "    <tr>\n",
       "      <th>4</th>\n",
       "      <td>Larry</td>\n",
       "      <td>Male</td>\n",
       "      <td>1/24/98</td>\n",
       "      <td>101004.0</td>\n",
       "      <td>True</td>\n",
       "      <td>IT</td>\n",
       "    </tr>\n",
       "    <tr>\n",
       "      <th>...</th>\n",
       "      <td>...</td>\n",
       "      <td>...</td>\n",
       "      <td>...</td>\n",
       "      <td>...</td>\n",
       "      <td>...</td>\n",
       "      <td>...</td>\n",
       "    </tr>\n",
       "    <tr>\n",
       "      <th>996</th>\n",
       "      <td>Phillip</td>\n",
       "      <td>Male</td>\n",
       "      <td>1/31/84</td>\n",
       "      <td>42392.0</td>\n",
       "      <td>False</td>\n",
       "      <td>Finance</td>\n",
       "    </tr>\n",
       "    <tr>\n",
       "      <th>997</th>\n",
       "      <td>Russell</td>\n",
       "      <td>Male</td>\n",
       "      <td>5/20/13</td>\n",
       "      <td>96914.0</td>\n",
       "      <td>False</td>\n",
       "      <td>Product</td>\n",
       "    </tr>\n",
       "    <tr>\n",
       "      <th>998</th>\n",
       "      <td>Larry</td>\n",
       "      <td>Male</td>\n",
       "      <td>4/20/13</td>\n",
       "      <td>60500.0</td>\n",
       "      <td>False</td>\n",
       "      <td>Business Dev</td>\n",
       "    </tr>\n",
       "    <tr>\n",
       "      <th>999</th>\n",
       "      <td>Albert</td>\n",
       "      <td>Male</td>\n",
       "      <td>5/15/12</td>\n",
       "      <td>129949.0</td>\n",
       "      <td>True</td>\n",
       "      <td>Sales</td>\n",
       "    </tr>\n",
       "    <tr>\n",
       "      <th>1000</th>\n",
       "      <td>NaN</td>\n",
       "      <td>NaN</td>\n",
       "      <td>NaN</td>\n",
       "      <td>NaN</td>\n",
       "      <td>NaN</td>\n",
       "      <td>NaN</td>\n",
       "    </tr>\n",
       "  </tbody>\n",
       "</table>\n",
       "<p>1001 rows × 6 columns</p>\n",
       "</div>"
      ],
      "text/plain": [
       "     First Name  Gender Start Date    Salary   Mgmt          Team\n",
       "0       Douglas    Male     8/6/93       NaN   True     Marketing\n",
       "1        Thomas    Male    3/31/96   61933.0   True           NaN\n",
       "2         Maria  Female        NaN  130590.0  False       Finance\n",
       "3         Jerry     NaN     3/4/05  138705.0   True       Finance\n",
       "4         Larry    Male    1/24/98  101004.0   True            IT\n",
       "...         ...     ...        ...       ...    ...           ...\n",
       "996     Phillip    Male    1/31/84   42392.0  False       Finance\n",
       "997     Russell    Male    5/20/13   96914.0  False       Product\n",
       "998       Larry    Male    4/20/13   60500.0  False  Business Dev\n",
       "999      Albert    Male    5/15/12  129949.0   True         Sales\n",
       "1000        NaN     NaN        NaN       NaN    NaN           NaN\n",
       "\n",
       "[1001 rows x 6 columns]"
      ]
     },
     "execution_count": 36,
     "metadata": {},
     "output_type": "execute_result"
    }
   ],
   "source": [
    "pandas.read_csv('employees.csv')"
   ]
  },
  {
   "cell_type": "code",
   "execution_count": 37,
   "id": "796630c1",
   "metadata": {},
   "outputs": [
    {
     "data": {
      "text/html": [
       "<div>\n",
       "<style scoped>\n",
       "    .dataframe tbody tr th:only-of-type {\n",
       "        vertical-align: middle;\n",
       "    }\n",
       "\n",
       "    .dataframe tbody tr th {\n",
       "        vertical-align: top;\n",
       "    }\n",
       "\n",
       "    .dataframe thead th {\n",
       "        text-align: right;\n",
       "    }\n",
       "</style>\n",
       "<table border=\"1\" class=\"dataframe\">\n",
       "  <thead>\n",
       "    <tr style=\"text-align: right;\">\n",
       "      <th></th>\n",
       "      <th>First Name</th>\n",
       "      <th>Gender</th>\n",
       "      <th>Start Date</th>\n",
       "      <th>Salary</th>\n",
       "      <th>Mgmt</th>\n",
       "      <th>Team</th>\n",
       "    </tr>\n",
       "  </thead>\n",
       "  <tbody>\n",
       "    <tr>\n",
       "      <th>0</th>\n",
       "      <td>Douglas</td>\n",
       "      <td>Male</td>\n",
       "      <td>8/6/93</td>\n",
       "      <td>NaN</td>\n",
       "      <td>True</td>\n",
       "      <td>Marketing</td>\n",
       "    </tr>\n",
       "    <tr>\n",
       "      <th>1</th>\n",
       "      <td>Thomas</td>\n",
       "      <td>Male</td>\n",
       "      <td>3/31/96</td>\n",
       "      <td>61933.0</td>\n",
       "      <td>True</td>\n",
       "      <td>NaN</td>\n",
       "    </tr>\n",
       "    <tr>\n",
       "      <th>2</th>\n",
       "      <td>Maria</td>\n",
       "      <td>Female</td>\n",
       "      <td>NaN</td>\n",
       "      <td>130590.0</td>\n",
       "      <td>False</td>\n",
       "      <td>Finance</td>\n",
       "    </tr>\n",
       "    <tr>\n",
       "      <th>3</th>\n",
       "      <td>Jerry</td>\n",
       "      <td>NaN</td>\n",
       "      <td>3/4/05</td>\n",
       "      <td>138705.0</td>\n",
       "      <td>True</td>\n",
       "      <td>Finance</td>\n",
       "    </tr>\n",
       "    <tr>\n",
       "      <th>4</th>\n",
       "      <td>Larry</td>\n",
       "      <td>Male</td>\n",
       "      <td>1/24/98</td>\n",
       "      <td>101004.0</td>\n",
       "      <td>True</td>\n",
       "      <td>IT</td>\n",
       "    </tr>\n",
       "    <tr>\n",
       "      <th>...</th>\n",
       "      <td>...</td>\n",
       "      <td>...</td>\n",
       "      <td>...</td>\n",
       "      <td>...</td>\n",
       "      <td>...</td>\n",
       "      <td>...</td>\n",
       "    </tr>\n",
       "    <tr>\n",
       "      <th>996</th>\n",
       "      <td>Phillip</td>\n",
       "      <td>Male</td>\n",
       "      <td>1/31/84</td>\n",
       "      <td>42392.0</td>\n",
       "      <td>False</td>\n",
       "      <td>Finance</td>\n",
       "    </tr>\n",
       "    <tr>\n",
       "      <th>997</th>\n",
       "      <td>Russell</td>\n",
       "      <td>Male</td>\n",
       "      <td>5/20/13</td>\n",
       "      <td>96914.0</td>\n",
       "      <td>False</td>\n",
       "      <td>Product</td>\n",
       "    </tr>\n",
       "    <tr>\n",
       "      <th>998</th>\n",
       "      <td>Larry</td>\n",
       "      <td>Male</td>\n",
       "      <td>4/20/13</td>\n",
       "      <td>60500.0</td>\n",
       "      <td>False</td>\n",
       "      <td>Business Dev</td>\n",
       "    </tr>\n",
       "    <tr>\n",
       "      <th>999</th>\n",
       "      <td>Albert</td>\n",
       "      <td>Male</td>\n",
       "      <td>5/15/12</td>\n",
       "      <td>129949.0</td>\n",
       "      <td>True</td>\n",
       "      <td>Sales</td>\n",
       "    </tr>\n",
       "    <tr>\n",
       "      <th>1000</th>\n",
       "      <td>NaN</td>\n",
       "      <td>NaN</td>\n",
       "      <td>NaN</td>\n",
       "      <td>NaN</td>\n",
       "      <td>NaN</td>\n",
       "      <td>NaN</td>\n",
       "    </tr>\n",
       "  </tbody>\n",
       "</table>\n",
       "<p>1001 rows × 6 columns</p>\n",
       "</div>"
      ],
      "text/plain": [
       "     First Name  Gender Start Date    Salary   Mgmt          Team\n",
       "0       Douglas    Male     8/6/93       NaN   True     Marketing\n",
       "1        Thomas    Male    3/31/96   61933.0   True           NaN\n",
       "2         Maria  Female        NaN  130590.0  False       Finance\n",
       "3         Jerry     NaN     3/4/05  138705.0   True       Finance\n",
       "4         Larry    Male    1/24/98  101004.0   True            IT\n",
       "...         ...     ...        ...       ...    ...           ...\n",
       "996     Phillip    Male    1/31/84   42392.0  False       Finance\n",
       "997     Russell    Male    5/20/13   96914.0  False       Product\n",
       "998       Larry    Male    4/20/13   60500.0  False  Business Dev\n",
       "999      Albert    Male    5/15/12  129949.0   True         Sales\n",
       "1000        NaN     NaN        NaN       NaN    NaN           NaN\n",
       "\n",
       "[1001 rows x 6 columns]"
      ]
     },
     "execution_count": 37,
     "metadata": {},
     "output_type": "execute_result"
    }
   ],
   "source": [
    "_"
   ]
  },
  {
   "cell_type": "code",
   "execution_count": 38,
   "id": "272927e4-caa0-435d-ab1f-56c05e02c4d2",
   "metadata": {},
   "outputs": [
    {
     "data": {
      "text/plain": [
       "pandas.core.frame.DataFrame"
      ]
     },
     "execution_count": 38,
     "metadata": {},
     "output_type": "execute_result"
    }
   ],
   "source": [
    "type(_)"
   ]
  },
  {
   "cell_type": "code",
   "execution_count": 135,
   "id": "cf155a3b-356f-4ac7-a0f3-2be3ed260707",
   "metadata": {},
   "outputs": [],
   "source": [
    "dataframe = pandas.read_csv('employees.csv')"
   ]
  },
  {
   "cell_type": "markdown",
   "id": "7cbce34b-da9d-4193-b5a0-232cdac5f6b7",
   "metadata": {},
   "source": [
    "<h1>head</h1>"
   ]
  },
  {
   "cell_type": "code",
   "execution_count": 40,
   "id": "e1f38946-9442-4a99-a7e9-95e06f1c59ae",
   "metadata": {},
   "outputs": [
    {
     "data": {
      "text/html": [
       "<div>\n",
       "<style scoped>\n",
       "    .dataframe tbody tr th:only-of-type {\n",
       "        vertical-align: middle;\n",
       "    }\n",
       "\n",
       "    .dataframe tbody tr th {\n",
       "        vertical-align: top;\n",
       "    }\n",
       "\n",
       "    .dataframe thead th {\n",
       "        text-align: right;\n",
       "    }\n",
       "</style>\n",
       "<table border=\"1\" class=\"dataframe\">\n",
       "  <thead>\n",
       "    <tr style=\"text-align: right;\">\n",
       "      <th></th>\n",
       "      <th>First Name</th>\n",
       "      <th>Gender</th>\n",
       "      <th>Start Date</th>\n",
       "      <th>Salary</th>\n",
       "      <th>Mgmt</th>\n",
       "      <th>Team</th>\n",
       "    </tr>\n",
       "  </thead>\n",
       "  <tbody>\n",
       "    <tr>\n",
       "      <th>0</th>\n",
       "      <td>Douglas</td>\n",
       "      <td>Male</td>\n",
       "      <td>8/6/93</td>\n",
       "      <td>NaN</td>\n",
       "      <td>True</td>\n",
       "      <td>Marketing</td>\n",
       "    </tr>\n",
       "    <tr>\n",
       "      <th>1</th>\n",
       "      <td>Thomas</td>\n",
       "      <td>Male</td>\n",
       "      <td>3/31/96</td>\n",
       "      <td>61933.0</td>\n",
       "      <td>True</td>\n",
       "      <td>NaN</td>\n",
       "    </tr>\n",
       "    <tr>\n",
       "      <th>2</th>\n",
       "      <td>Maria</td>\n",
       "      <td>Female</td>\n",
       "      <td>NaN</td>\n",
       "      <td>130590.0</td>\n",
       "      <td>False</td>\n",
       "      <td>Finance</td>\n",
       "    </tr>\n",
       "    <tr>\n",
       "      <th>3</th>\n",
       "      <td>Jerry</td>\n",
       "      <td>NaN</td>\n",
       "      <td>3/4/05</td>\n",
       "      <td>138705.0</td>\n",
       "      <td>True</td>\n",
       "      <td>Finance</td>\n",
       "    </tr>\n",
       "    <tr>\n",
       "      <th>4</th>\n",
       "      <td>Larry</td>\n",
       "      <td>Male</td>\n",
       "      <td>1/24/98</td>\n",
       "      <td>101004.0</td>\n",
       "      <td>True</td>\n",
       "      <td>IT</td>\n",
       "    </tr>\n",
       "  </tbody>\n",
       "</table>\n",
       "</div>"
      ],
      "text/plain": [
       "  First Name  Gender Start Date    Salary   Mgmt       Team\n",
       "0    Douglas    Male     8/6/93       NaN   True  Marketing\n",
       "1     Thomas    Male    3/31/96   61933.0   True        NaN\n",
       "2      Maria  Female        NaN  130590.0  False    Finance\n",
       "3      Jerry     NaN     3/4/05  138705.0   True    Finance\n",
       "4      Larry    Male    1/24/98  101004.0   True         IT"
      ]
     },
     "execution_count": 40,
     "metadata": {},
     "output_type": "execute_result"
    }
   ],
   "source": [
    "dataframe.head()"
   ]
  },
  {
   "cell_type": "code",
   "execution_count": null,
   "id": "7e469791-015a-4510-96f8-f527e8dc31a4",
   "metadata": {},
   "outputs": [],
   "source": []
  },
  {
   "cell_type": "code",
   "execution_count": 41,
   "id": "6d537eb4-bbc2-4bd3-90c4-6199c2a114c6",
   "metadata": {},
   "outputs": [
    {
     "data": {
      "text/html": [
       "<div>\n",
       "<style scoped>\n",
       "    .dataframe tbody tr th:only-of-type {\n",
       "        vertical-align: middle;\n",
       "    }\n",
       "\n",
       "    .dataframe tbody tr th {\n",
       "        vertical-align: top;\n",
       "    }\n",
       "\n",
       "    .dataframe thead th {\n",
       "        text-align: right;\n",
       "    }\n",
       "</style>\n",
       "<table border=\"1\" class=\"dataframe\">\n",
       "  <thead>\n",
       "    <tr style=\"text-align: right;\">\n",
       "      <th></th>\n",
       "      <th>First Name</th>\n",
       "      <th>Gender</th>\n",
       "      <th>Start Date</th>\n",
       "      <th>Salary</th>\n",
       "      <th>Mgmt</th>\n",
       "      <th>Team</th>\n",
       "    </tr>\n",
       "  </thead>\n",
       "  <tbody>\n",
       "    <tr>\n",
       "      <th>0</th>\n",
       "      <td>Douglas</td>\n",
       "      <td>Male</td>\n",
       "      <td>8/6/93</td>\n",
       "      <td>NaN</td>\n",
       "      <td>True</td>\n",
       "      <td>Marketing</td>\n",
       "    </tr>\n",
       "    <tr>\n",
       "      <th>1</th>\n",
       "      <td>Thomas</td>\n",
       "      <td>Male</td>\n",
       "      <td>3/31/96</td>\n",
       "      <td>61933.0</td>\n",
       "      <td>True</td>\n",
       "      <td>NaN</td>\n",
       "    </tr>\n",
       "    <tr>\n",
       "      <th>2</th>\n",
       "      <td>Maria</td>\n",
       "      <td>Female</td>\n",
       "      <td>NaN</td>\n",
       "      <td>130590.0</td>\n",
       "      <td>False</td>\n",
       "      <td>Finance</td>\n",
       "    </tr>\n",
       "  </tbody>\n",
       "</table>\n",
       "</div>"
      ],
      "text/plain": [
       "  First Name  Gender Start Date    Salary   Mgmt       Team\n",
       "0    Douglas    Male     8/6/93       NaN   True  Marketing\n",
       "1     Thomas    Male    3/31/96   61933.0   True        NaN\n",
       "2      Maria  Female        NaN  130590.0  False    Finance"
      ]
     },
     "execution_count": 41,
     "metadata": {},
     "output_type": "execute_result"
    }
   ],
   "source": [
    "dataframe.head(3)"
   ]
  },
  {
   "cell_type": "code",
   "execution_count": null,
   "id": "510d0341-1f7e-487a-8ca4-086cb8906d14",
   "metadata": {},
   "outputs": [],
   "source": []
  },
  {
   "cell_type": "code",
   "execution_count": null,
   "id": "01d8ac48-49a0-4f7f-81a3-4fa59ff1c7af",
   "metadata": {},
   "outputs": [],
   "source": []
  },
  {
   "cell_type": "markdown",
   "id": "33d2cbc5-526b-4d76-aafa-0593b93f0b64",
   "metadata": {},
   "source": [
    "<h1>tail</h1>"
   ]
  },
  {
   "cell_type": "code",
   "execution_count": 42,
   "id": "dfe6e485-7c04-4a53-8af5-c21989447f28",
   "metadata": {},
   "outputs": [
    {
     "data": {
      "text/html": [
       "<div>\n",
       "<style scoped>\n",
       "    .dataframe tbody tr th:only-of-type {\n",
       "        vertical-align: middle;\n",
       "    }\n",
       "\n",
       "    .dataframe tbody tr th {\n",
       "        vertical-align: top;\n",
       "    }\n",
       "\n",
       "    .dataframe thead th {\n",
       "        text-align: right;\n",
       "    }\n",
       "</style>\n",
       "<table border=\"1\" class=\"dataframe\">\n",
       "  <thead>\n",
       "    <tr style=\"text-align: right;\">\n",
       "      <th></th>\n",
       "      <th>First Name</th>\n",
       "      <th>Gender</th>\n",
       "      <th>Start Date</th>\n",
       "      <th>Salary</th>\n",
       "      <th>Mgmt</th>\n",
       "      <th>Team</th>\n",
       "    </tr>\n",
       "  </thead>\n",
       "  <tbody>\n",
       "    <tr>\n",
       "      <th>996</th>\n",
       "      <td>Phillip</td>\n",
       "      <td>Male</td>\n",
       "      <td>1/31/84</td>\n",
       "      <td>42392.0</td>\n",
       "      <td>False</td>\n",
       "      <td>Finance</td>\n",
       "    </tr>\n",
       "    <tr>\n",
       "      <th>997</th>\n",
       "      <td>Russell</td>\n",
       "      <td>Male</td>\n",
       "      <td>5/20/13</td>\n",
       "      <td>96914.0</td>\n",
       "      <td>False</td>\n",
       "      <td>Product</td>\n",
       "    </tr>\n",
       "    <tr>\n",
       "      <th>998</th>\n",
       "      <td>Larry</td>\n",
       "      <td>Male</td>\n",
       "      <td>4/20/13</td>\n",
       "      <td>60500.0</td>\n",
       "      <td>False</td>\n",
       "      <td>Business Dev</td>\n",
       "    </tr>\n",
       "    <tr>\n",
       "      <th>999</th>\n",
       "      <td>Albert</td>\n",
       "      <td>Male</td>\n",
       "      <td>5/15/12</td>\n",
       "      <td>129949.0</td>\n",
       "      <td>True</td>\n",
       "      <td>Sales</td>\n",
       "    </tr>\n",
       "    <tr>\n",
       "      <th>1000</th>\n",
       "      <td>NaN</td>\n",
       "      <td>NaN</td>\n",
       "      <td>NaN</td>\n",
       "      <td>NaN</td>\n",
       "      <td>NaN</td>\n",
       "      <td>NaN</td>\n",
       "    </tr>\n",
       "  </tbody>\n",
       "</table>\n",
       "</div>"
      ],
      "text/plain": [
       "     First Name Gender Start Date    Salary   Mgmt          Team\n",
       "996     Phillip   Male    1/31/84   42392.0  False       Finance\n",
       "997     Russell   Male    5/20/13   96914.0  False       Product\n",
       "998       Larry   Male    4/20/13   60500.0  False  Business Dev\n",
       "999      Albert   Male    5/15/12  129949.0   True         Sales\n",
       "1000        NaN    NaN        NaN       NaN    NaN           NaN"
      ]
     },
     "execution_count": 42,
     "metadata": {},
     "output_type": "execute_result"
    }
   ],
   "source": [
    "dataframe.tail()"
   ]
  },
  {
   "cell_type": "code",
   "execution_count": null,
   "id": "0984bb3b-878e-4fff-8d80-bef27d30b767",
   "metadata": {},
   "outputs": [],
   "source": []
  },
  {
   "cell_type": "code",
   "execution_count": 43,
   "id": "12c7e981-f951-470a-8c00-7546082bf68b",
   "metadata": {},
   "outputs": [
    {
     "data": {
      "text/html": [
       "<div>\n",
       "<style scoped>\n",
       "    .dataframe tbody tr th:only-of-type {\n",
       "        vertical-align: middle;\n",
       "    }\n",
       "\n",
       "    .dataframe tbody tr th {\n",
       "        vertical-align: top;\n",
       "    }\n",
       "\n",
       "    .dataframe thead th {\n",
       "        text-align: right;\n",
       "    }\n",
       "</style>\n",
       "<table border=\"1\" class=\"dataframe\">\n",
       "  <thead>\n",
       "    <tr style=\"text-align: right;\">\n",
       "      <th></th>\n",
       "      <th>First Name</th>\n",
       "      <th>Gender</th>\n",
       "      <th>Start Date</th>\n",
       "      <th>Salary</th>\n",
       "      <th>Mgmt</th>\n",
       "      <th>Team</th>\n",
       "    </tr>\n",
       "  </thead>\n",
       "  <tbody>\n",
       "    <tr>\n",
       "      <th>998</th>\n",
       "      <td>Larry</td>\n",
       "      <td>Male</td>\n",
       "      <td>4/20/13</td>\n",
       "      <td>60500.0</td>\n",
       "      <td>False</td>\n",
       "      <td>Business Dev</td>\n",
       "    </tr>\n",
       "    <tr>\n",
       "      <th>999</th>\n",
       "      <td>Albert</td>\n",
       "      <td>Male</td>\n",
       "      <td>5/15/12</td>\n",
       "      <td>129949.0</td>\n",
       "      <td>True</td>\n",
       "      <td>Sales</td>\n",
       "    </tr>\n",
       "    <tr>\n",
       "      <th>1000</th>\n",
       "      <td>NaN</td>\n",
       "      <td>NaN</td>\n",
       "      <td>NaN</td>\n",
       "      <td>NaN</td>\n",
       "      <td>NaN</td>\n",
       "      <td>NaN</td>\n",
       "    </tr>\n",
       "  </tbody>\n",
       "</table>\n",
       "</div>"
      ],
      "text/plain": [
       "     First Name Gender Start Date    Salary   Mgmt          Team\n",
       "998       Larry   Male    4/20/13   60500.0  False  Business Dev\n",
       "999      Albert   Male    5/15/12  129949.0   True         Sales\n",
       "1000        NaN    NaN        NaN       NaN    NaN           NaN"
      ]
     },
     "execution_count": 43,
     "metadata": {},
     "output_type": "execute_result"
    }
   ],
   "source": [
    "dataframe.tail(3)"
   ]
  },
  {
   "cell_type": "code",
   "execution_count": null,
   "id": "73817209-77e2-4af7-8745-9eccdf20e1f3",
   "metadata": {},
   "outputs": [],
   "source": []
  },
  {
   "cell_type": "code",
   "execution_count": null,
   "id": "04e3b755-0883-4643-9151-2a78289950d1",
   "metadata": {},
   "outputs": [],
   "source": []
  },
  {
   "cell_type": "markdown",
   "id": "bab4ce84-94ed-4257-8571-63c3d52d9495",
   "metadata": {},
   "source": [
    "<h1>len and shape and size and count</h1>"
   ]
  },
  {
   "cell_type": "code",
   "execution_count": 44,
   "id": "fd919058-3adf-4981-adba-b85e9872a2b1",
   "metadata": {},
   "outputs": [
    {
     "data": {
      "text/plain": [
       "1001"
      ]
     },
     "execution_count": 44,
     "metadata": {},
     "output_type": "execute_result"
    }
   ],
   "source": [
    "len(dataframe)"
   ]
  },
  {
   "cell_type": "code",
   "execution_count": 45,
   "id": "2f872abc-bd5d-403e-aa32-87d3ee032746",
   "metadata": {},
   "outputs": [
    {
     "data": {
      "text/plain": [
       "(1001, 6)"
      ]
     },
     "execution_count": 45,
     "metadata": {},
     "output_type": "execute_result"
    }
   ],
   "source": [
    "dataframe.shape"
   ]
  },
  {
   "cell_type": "code",
   "execution_count": 46,
   "id": "56aab5b6-25d3-4c80-bb94-dd9e3fb3b9ad",
   "metadata": {},
   "outputs": [
    {
     "data": {
      "text/plain": [
       "6006"
      ]
     },
     "execution_count": 46,
     "metadata": {},
     "output_type": "execute_result"
    }
   ],
   "source": [
    "dataframe.size"
   ]
  },
  {
   "cell_type": "code",
   "execution_count": 47,
   "id": "6bcbef97-c9db-4eb9-ae2a-b76bac6684f7",
   "metadata": {},
   "outputs": [
    {
     "data": {
      "text/plain": [
       "tuple"
      ]
     },
     "execution_count": 47,
     "metadata": {},
     "output_type": "execute_result"
    }
   ],
   "source": [
    "type(dataframe.shape)"
   ]
  },
  {
   "cell_type": "code",
   "execution_count": 48,
   "id": "2d391bc2-6415-41f2-b0bf-3090eacc8469",
   "metadata": {},
   "outputs": [],
   "source": [
    "row, column = dataframe.shape"
   ]
  },
  {
   "cell_type": "code",
   "execution_count": 49,
   "id": "1906ee6e-538f-4d4a-972e-7361247f0148",
   "metadata": {},
   "outputs": [
    {
     "data": {
      "text/plain": [
       "1001"
      ]
     },
     "execution_count": 49,
     "metadata": {},
     "output_type": "execute_result"
    }
   ],
   "source": [
    "row"
   ]
  },
  {
   "cell_type": "code",
   "execution_count": 50,
   "id": "3d1a0451-8401-4828-9731-9ea00e3413cb",
   "metadata": {},
   "outputs": [
    {
     "data": {
      "text/plain": [
       "6"
      ]
     },
     "execution_count": 50,
     "metadata": {},
     "output_type": "execute_result"
    }
   ],
   "source": [
    "column"
   ]
  },
  {
   "cell_type": "code",
   "execution_count": 53,
   "id": "0eee3f37-039b-4437-b58c-708ce760c779",
   "metadata": {},
   "outputs": [
    {
     "data": {
      "text/plain": [
       "(1001, 6)"
      ]
     },
     "execution_count": 53,
     "metadata": {},
     "output_type": "execute_result"
    }
   ],
   "source": [
    "dataframe.shape[0], dataframe.shape[1]"
   ]
  },
  {
   "cell_type": "code",
   "execution_count": 54,
   "id": "98361e51-b789-43d7-801a-afdf400bb6c5",
   "metadata": {},
   "outputs": [
    {
     "data": {
      "text/plain": [
       "True"
      ]
     },
     "execution_count": 54,
     "metadata": {},
     "output_type": "execute_result"
    }
   ],
   "source": [
    "dataframe.shape[0]* dataframe.shape[1] == dataframe.size"
   ]
  },
  {
   "cell_type": "code",
   "execution_count": 138,
   "id": "1829ddfc-b302-4640-8e78-a50f84253a13",
   "metadata": {},
   "outputs": [],
   "source": [
    "dataframe = pd.read_csv('employees.csv')"
   ]
  },
  {
   "cell_type": "code",
   "execution_count": 150,
   "id": "1e96def8-4805-49e3-b1a6-a84ea4bc5028",
   "metadata": {},
   "outputs": [
    {
     "data": {
      "text/plain": [
       "First Name    933\n",
       "Gender        854\n",
       "Start Date    999\n",
       "Salary        999\n",
       "Mgmt          933\n",
       "Team          957\n",
       "dtype: int64"
      ]
     },
     "execution_count": 150,
     "metadata": {},
     "output_type": "execute_result"
    }
   ],
   "source": [
    "dataframe.count()"
   ]
  },
  {
   "cell_type": "code",
   "execution_count": null,
   "id": "3b820647-0387-4444-a93e-7589aa9471ca",
   "metadata": {},
   "outputs": [],
   "source": []
  },
  {
   "cell_type": "code",
   "execution_count": null,
   "id": "0ce19ed1-95b3-4176-bf40-0a796deaa04a",
   "metadata": {},
   "outputs": [],
   "source": []
  },
  {
   "cell_type": "code",
   "execution_count": 55,
   "id": "8d298bb5-8ed6-41d6-96b1-91a78113a9f1",
   "metadata": {},
   "outputs": [],
   "source": [
    "import pandas as pd"
   ]
  },
  {
   "cell_type": "code",
   "execution_count": 56,
   "id": "d46440f9-83c3-4e42-8279-54cd0d4b8a75",
   "metadata": {},
   "outputs": [],
   "source": [
    "df = pd.read_csv('movies.csv')"
   ]
  },
  {
   "cell_type": "code",
   "execution_count": 57,
   "id": "4f870e58-a402-4328-9b74-f7dc867ec836",
   "metadata": {},
   "outputs": [
    {
     "data": {
      "text/html": [
       "<div>\n",
       "<style scoped>\n",
       "    .dataframe tbody tr th:only-of-type {\n",
       "        vertical-align: middle;\n",
       "    }\n",
       "\n",
       "    .dataframe tbody tr th {\n",
       "        vertical-align: top;\n",
       "    }\n",
       "\n",
       "    .dataframe thead th {\n",
       "        text-align: right;\n",
       "    }\n",
       "</style>\n",
       "<table border=\"1\" class=\"dataframe\">\n",
       "  <thead>\n",
       "    <tr style=\"text-align: right;\">\n",
       "      <th></th>\n",
       "      <th>name</th>\n",
       "      <th>rating</th>\n",
       "      <th>genre</th>\n",
       "      <th>year</th>\n",
       "      <th>release_date</th>\n",
       "      <th>release_country</th>\n",
       "      <th>score</th>\n",
       "      <th>votes</th>\n",
       "      <th>director</th>\n",
       "      <th>writer</th>\n",
       "      <th>star</th>\n",
       "      <th>country</th>\n",
       "      <th>budget</th>\n",
       "      <th>gross</th>\n",
       "      <th>company</th>\n",
       "      <th>runtime</th>\n",
       "    </tr>\n",
       "  </thead>\n",
       "  <tbody>\n",
       "    <tr>\n",
       "      <th>0</th>\n",
       "      <td>The Shining</td>\n",
       "      <td>R</td>\n",
       "      <td>Drama</td>\n",
       "      <td>1980</td>\n",
       "      <td>June 13, 1980</td>\n",
       "      <td>United States</td>\n",
       "      <td>8.4</td>\n",
       "      <td>927000.0</td>\n",
       "      <td>Stanley Kubrick</td>\n",
       "      <td>Stephen King</td>\n",
       "      <td>Jack Nicholson</td>\n",
       "      <td>United Kingdom</td>\n",
       "      <td>19000000.0</td>\n",
       "      <td>46998772.0</td>\n",
       "      <td>Warner Bros.</td>\n",
       "      <td>146.0</td>\n",
       "    </tr>\n",
       "  </tbody>\n",
       "</table>\n",
       "</div>"
      ],
      "text/plain": [
       "          name rating  genre  year   release_date release_country  score  \\\n",
       "0  The Shining      R  Drama  1980  June 13, 1980   United States    8.4   \n",
       "\n",
       "      votes         director        writer            star         country  \\\n",
       "0  927000.0  Stanley Kubrick  Stephen King  Jack Nicholson  United Kingdom   \n",
       "\n",
       "       budget       gross       company  runtime  \n",
       "0  19000000.0  46998772.0  Warner Bros.    146.0  "
      ]
     },
     "execution_count": 57,
     "metadata": {},
     "output_type": "execute_result"
    }
   ],
   "source": [
    "df.head(1)"
   ]
  },
  {
   "cell_type": "code",
   "execution_count": 59,
   "id": "86b92ba6-a13c-41f7-971a-a3d227c07c5d",
   "metadata": {},
   "outputs": [
    {
     "data": {
      "text/plain": [
       "(7666, 16)"
      ]
     },
     "execution_count": 59,
     "metadata": {},
     "output_type": "execute_result"
    }
   ],
   "source": [
    "df.shape"
   ]
  },
  {
   "cell_type": "code",
   "execution_count": null,
   "id": "920b7bc3-5ebb-49c6-8a0a-aa75325d2d74",
   "metadata": {},
   "outputs": [],
   "source": []
  },
  {
   "cell_type": "code",
   "execution_count": null,
   "id": "96aa32e7-7ff3-498a-8847-4d0f4b3c1eaf",
   "metadata": {},
   "outputs": [],
   "source": []
  },
  {
   "cell_type": "markdown",
   "id": "00aee3c4-28ca-45c5-b119-5ccb1a82c0d6",
   "metadata": {},
   "source": [
    "<h1>dtypes</h1>"
   ]
  },
  {
   "cell_type": "code",
   "execution_count": 60,
   "id": "16ec1d95-5b35-4c66-a7ff-6418c1bcfc04",
   "metadata": {},
   "outputs": [
    {
     "data": {
      "text/plain": [
       "name                object\n",
       "rating              object\n",
       "genre               object\n",
       "year                 int64\n",
       "release_date        object\n",
       "release_country     object\n",
       "score              float64\n",
       "votes              float64\n",
       "director            object\n",
       "writer              object\n",
       "star                object\n",
       "country             object\n",
       "budget             float64\n",
       "gross              float64\n",
       "company             object\n",
       "runtime            float64\n",
       "dtype: object"
      ]
     },
     "execution_count": 60,
     "metadata": {},
     "output_type": "execute_result"
    }
   ],
   "source": [
    "df.dtypes"
   ]
  },
  {
   "cell_type": "code",
   "execution_count": 61,
   "id": "3cee059f-97d7-41d8-ab5e-300c76024d8b",
   "metadata": {},
   "outputs": [],
   "source": [
    "# object : harja didi ehtemalan string hast"
   ]
  },
  {
   "cell_type": "code",
   "execution_count": null,
   "id": "30d9b5f2-cc62-47ca-93f3-2eaede91800b",
   "metadata": {},
   "outputs": [],
   "source": []
  },
  {
   "cell_type": "code",
   "execution_count": null,
   "id": "786c2f71-7354-47a1-9049-c66e1db6701a",
   "metadata": {},
   "outputs": [],
   "source": []
  },
  {
   "cell_type": "markdown",
   "id": "686ee182-e062-4db1-b6fe-9de1efb1e8fb",
   "metadata": {},
   "source": [
    "<h1>iloc and loc</h1>"
   ]
  },
  {
   "cell_type": "code",
   "execution_count": 62,
   "id": "bdf8b9f9-0477-49ee-8b61-11a06842665b",
   "metadata": {},
   "outputs": [],
   "source": [
    "# iek accessor hast ke adad migire."
   ]
  },
  {
   "cell_type": "code",
   "execution_count": 63,
   "id": "906a168f-025f-4292-901f-9dfb73e86af7",
   "metadata": {},
   "outputs": [
    {
     "data": {
      "text/plain": [
       "name                   The Shining\n",
       "rating                           R\n",
       "genre                        Drama\n",
       "year                          1980\n",
       "release_date         June 13, 1980\n",
       "release_country      United States\n",
       "score                          8.4\n",
       "votes                     927000.0\n",
       "director           Stanley Kubrick\n",
       "writer                Stephen King\n",
       "star                Jack Nicholson\n",
       "country             United Kingdom\n",
       "budget                  19000000.0\n",
       "gross                   46998772.0\n",
       "company               Warner Bros.\n",
       "runtime                      146.0\n",
       "Name: 0, dtype: object"
      ]
     },
     "execution_count": 63,
     "metadata": {},
     "output_type": "execute_result"
    }
   ],
   "source": [
    "df.iloc[0]"
   ]
  },
  {
   "cell_type": "code",
   "execution_count": 66,
   "id": "cd56c630-834f-4e96-a60b-db02c7ae837a",
   "metadata": {},
   "outputs": [
    {
     "data": {
      "text/plain": [
       "pandas.core.series.Series"
      ]
     },
     "execution_count": 66,
     "metadata": {},
     "output_type": "execute_result"
    }
   ],
   "source": [
    "type(df.iloc[0])"
   ]
  },
  {
   "cell_type": "code",
   "execution_count": 67,
   "id": "afb10e91-a752-413a-81d3-9074536ed11d",
   "metadata": {},
   "outputs": [
    {
     "data": {
      "text/plain": [
       "name                   The Shining\n",
       "rating                           R\n",
       "genre                        Drama\n",
       "year                          1980\n",
       "release_date         June 13, 1980\n",
       "release_country      United States\n",
       "score                          8.4\n",
       "votes                     927000.0\n",
       "director           Stanley Kubrick\n",
       "writer                Stephen King\n",
       "star                Jack Nicholson\n",
       "country             United Kingdom\n",
       "budget                  19000000.0\n",
       "gross                   46998772.0\n",
       "company               Warner Bros.\n",
       "runtime                      146.0\n",
       "Name: 0, dtype: object"
      ]
     },
     "execution_count": 67,
     "metadata": {},
     "output_type": "execute_result"
    }
   ],
   "source": [
    "df.loc[0]"
   ]
  },
  {
   "cell_type": "code",
   "execution_count": 68,
   "id": "c9347b59-c9a9-479c-96e2-f46109fe82fc",
   "metadata": {},
   "outputs": [
    {
     "data": {
      "text/plain": [
       "pandas.core.series.Series"
      ]
     },
     "execution_count": 68,
     "metadata": {},
     "output_type": "execute_result"
    }
   ],
   "source": [
    "type(df.loc[0])"
   ]
  },
  {
   "cell_type": "code",
   "execution_count": 72,
   "id": "10f130ae-91a2-4d7a-a5f5-2e1a92fdf6c3",
   "metadata": {},
   "outputs": [],
   "source": [
    "#inja be khater shiveie load ma loc va iloc shabihe ham hastan. bekhatere inke\n",
    "#moghe load ma moteghaire index ro vared nakardinm sotun aval haman shode haman shoareie radif\n",
    "#loc index dariaft mikon\n",
    "#moghe load age sotuni baraie index morefi nakonim be surat pishfarz index mishe shomareie radif"
   ]
  },
  {
   "cell_type": "code",
   "execution_count": null,
   "id": "e6ec359e-2581-4b0f-a0e9-4ea3eeedba93",
   "metadata": {},
   "outputs": [],
   "source": []
  },
  {
   "cell_type": "code",
   "execution_count": 73,
   "id": "0cea3de9-6564-4725-b48f-9cc538f2bee5",
   "metadata": {},
   "outputs": [
    {
     "data": {
      "text/html": [
       "<div>\n",
       "<style scoped>\n",
       "    .dataframe tbody tr th:only-of-type {\n",
       "        vertical-align: middle;\n",
       "    }\n",
       "\n",
       "    .dataframe tbody tr th {\n",
       "        vertical-align: top;\n",
       "    }\n",
       "\n",
       "    .dataframe thead th {\n",
       "        text-align: right;\n",
       "    }\n",
       "</style>\n",
       "<table border=\"1\" class=\"dataframe\">\n",
       "  <thead>\n",
       "    <tr style=\"text-align: right;\">\n",
       "      <th></th>\n",
       "      <th>name</th>\n",
       "      <th>rating</th>\n",
       "      <th>genre</th>\n",
       "      <th>year</th>\n",
       "      <th>release_date</th>\n",
       "      <th>release_country</th>\n",
       "      <th>score</th>\n",
       "      <th>votes</th>\n",
       "      <th>director</th>\n",
       "      <th>writer</th>\n",
       "      <th>star</th>\n",
       "      <th>country</th>\n",
       "      <th>budget</th>\n",
       "      <th>gross</th>\n",
       "      <th>company</th>\n",
       "      <th>runtime</th>\n",
       "    </tr>\n",
       "  </thead>\n",
       "  <tbody>\n",
       "    <tr>\n",
       "      <th>0</th>\n",
       "      <td>The Shining</td>\n",
       "      <td>R</td>\n",
       "      <td>Drama</td>\n",
       "      <td>1980</td>\n",
       "      <td>June 13, 1980</td>\n",
       "      <td>United States</td>\n",
       "      <td>8.4</td>\n",
       "      <td>927000.0</td>\n",
       "      <td>Stanley Kubrick</td>\n",
       "      <td>Stephen King</td>\n",
       "      <td>Jack Nicholson</td>\n",
       "      <td>United Kingdom</td>\n",
       "      <td>19000000.0</td>\n",
       "      <td>46998772.0</td>\n",
       "      <td>Warner Bros.</td>\n",
       "      <td>146.0</td>\n",
       "    </tr>\n",
       "    <tr>\n",
       "      <th>1</th>\n",
       "      <td>The Blue Lagoon</td>\n",
       "      <td>R</td>\n",
       "      <td>Adventure</td>\n",
       "      <td>1980</td>\n",
       "      <td>July 2, 1980</td>\n",
       "      <td>United States</td>\n",
       "      <td>5.8</td>\n",
       "      <td>65000.0</td>\n",
       "      <td>Randal Kleiser</td>\n",
       "      <td>Henry De Vere Stacpoole</td>\n",
       "      <td>Brooke Shields</td>\n",
       "      <td>United States</td>\n",
       "      <td>4500000.0</td>\n",
       "      <td>58853106.0</td>\n",
       "      <td>Columbia Pictures</td>\n",
       "      <td>104.0</td>\n",
       "    </tr>\n",
       "    <tr>\n",
       "      <th>2</th>\n",
       "      <td>Star Wars: Episode V - The Empire Strikes Back</td>\n",
       "      <td>PG</td>\n",
       "      <td>Action</td>\n",
       "      <td>1980</td>\n",
       "      <td>June 20, 1980</td>\n",
       "      <td>United States</td>\n",
       "      <td>8.7</td>\n",
       "      <td>1200000.0</td>\n",
       "      <td>Irvin Kershner</td>\n",
       "      <td>Leigh Brackett</td>\n",
       "      <td>Mark Hamill</td>\n",
       "      <td>United States</td>\n",
       "      <td>18000000.0</td>\n",
       "      <td>538375067.0</td>\n",
       "      <td>Lucasfilm</td>\n",
       "      <td>124.0</td>\n",
       "    </tr>\n",
       "    <tr>\n",
       "      <th>3</th>\n",
       "      <td>Airplane!</td>\n",
       "      <td>PG</td>\n",
       "      <td>Comedy</td>\n",
       "      <td>1980</td>\n",
       "      <td>July 2, 1980</td>\n",
       "      <td>United States</td>\n",
       "      <td>7.7</td>\n",
       "      <td>221000.0</td>\n",
       "      <td>Jim Abrahams</td>\n",
       "      <td>Jim Abrahams</td>\n",
       "      <td>Robert Hays</td>\n",
       "      <td>United States</td>\n",
       "      <td>3500000.0</td>\n",
       "      <td>83453539.0</td>\n",
       "      <td>Paramount Pictures</td>\n",
       "      <td>88.0</td>\n",
       "    </tr>\n",
       "    <tr>\n",
       "      <th>4</th>\n",
       "      <td>Caddyshack</td>\n",
       "      <td>R</td>\n",
       "      <td>Comedy</td>\n",
       "      <td>1980</td>\n",
       "      <td>July 25, 1980</td>\n",
       "      <td>United States</td>\n",
       "      <td>7.3</td>\n",
       "      <td>108000.0</td>\n",
       "      <td>Harold Ramis</td>\n",
       "      <td>Brian Doyle-Murray</td>\n",
       "      <td>Chevy Chase</td>\n",
       "      <td>United States</td>\n",
       "      <td>6000000.0</td>\n",
       "      <td>39846344.0</td>\n",
       "      <td>Orion Pictures</td>\n",
       "      <td>98.0</td>\n",
       "    </tr>\n",
       "  </tbody>\n",
       "</table>\n",
       "</div>"
      ],
      "text/plain": [
       "                                             name rating      genre  year  \\\n",
       "0                                     The Shining      R      Drama  1980   \n",
       "1                                 The Blue Lagoon      R  Adventure  1980   \n",
       "2  Star Wars: Episode V - The Empire Strikes Back     PG     Action  1980   \n",
       "3                                       Airplane!     PG     Comedy  1980   \n",
       "4                                      Caddyshack      R     Comedy  1980   \n",
       "\n",
       "    release_date release_country  score      votes         director  \\\n",
       "0  June 13, 1980   United States    8.4   927000.0  Stanley Kubrick   \n",
       "1   July 2, 1980   United States    5.8    65000.0   Randal Kleiser   \n",
       "2  June 20, 1980   United States    8.7  1200000.0   Irvin Kershner   \n",
       "3   July 2, 1980   United States    7.7   221000.0     Jim Abrahams   \n",
       "4  July 25, 1980   United States    7.3   108000.0     Harold Ramis   \n",
       "\n",
       "                    writer            star         country      budget  \\\n",
       "0             Stephen King  Jack Nicholson  United Kingdom  19000000.0   \n",
       "1  Henry De Vere Stacpoole  Brooke Shields   United States   4500000.0   \n",
       "2           Leigh Brackett     Mark Hamill   United States  18000000.0   \n",
       "3             Jim Abrahams     Robert Hays   United States   3500000.0   \n",
       "4       Brian Doyle-Murray     Chevy Chase   United States   6000000.0   \n",
       "\n",
       "         gross             company  runtime  \n",
       "0   46998772.0        Warner Bros.    146.0  \n",
       "1   58853106.0   Columbia Pictures    104.0  \n",
       "2  538375067.0           Lucasfilm    124.0  \n",
       "3   83453539.0  Paramount Pictures     88.0  \n",
       "4   39846344.0      Orion Pictures     98.0  "
      ]
     },
     "execution_count": 73,
     "metadata": {},
     "output_type": "execute_result"
    }
   ],
   "source": [
    "df.head(5)"
   ]
  },
  {
   "cell_type": "code",
   "execution_count": null,
   "id": "2417f48f-90e3-4227-8ff7-7e39b69292e5",
   "metadata": {},
   "outputs": [],
   "source": []
  },
  {
   "cell_type": "code",
   "execution_count": null,
   "id": "d257d812-324f-456a-9bd3-d72282c0a5ad",
   "metadata": {},
   "outputs": [],
   "source": []
  },
  {
   "cell_type": "markdown",
   "id": "5ff669c7-9911-4177-ae7f-d596af8f4298",
   "metadata": {},
   "source": [
    "<h1>read_csv with index</h1>"
   ]
  },
  {
   "cell_type": "code",
   "execution_count": 74,
   "id": "b6054079-0340-4104-86f9-d67e35841906",
   "metadata": {},
   "outputs": [],
   "source": [
    "df = pd.read_csv('movies.csv', index_col='name')"
   ]
  },
  {
   "cell_type": "code",
   "execution_count": 75,
   "id": "9c2ec332-03dc-41df-8f97-478bfd71b565",
   "metadata": {},
   "outputs": [
    {
     "data": {
      "text/html": [
       "<div>\n",
       "<style scoped>\n",
       "    .dataframe tbody tr th:only-of-type {\n",
       "        vertical-align: middle;\n",
       "    }\n",
       "\n",
       "    .dataframe tbody tr th {\n",
       "        vertical-align: top;\n",
       "    }\n",
       "\n",
       "    .dataframe thead th {\n",
       "        text-align: right;\n",
       "    }\n",
       "</style>\n",
       "<table border=\"1\" class=\"dataframe\">\n",
       "  <thead>\n",
       "    <tr style=\"text-align: right;\">\n",
       "      <th></th>\n",
       "      <th>rating</th>\n",
       "      <th>genre</th>\n",
       "      <th>year</th>\n",
       "      <th>release_date</th>\n",
       "      <th>release_country</th>\n",
       "      <th>score</th>\n",
       "      <th>votes</th>\n",
       "      <th>director</th>\n",
       "      <th>writer</th>\n",
       "      <th>star</th>\n",
       "      <th>country</th>\n",
       "      <th>budget</th>\n",
       "      <th>gross</th>\n",
       "      <th>company</th>\n",
       "      <th>runtime</th>\n",
       "    </tr>\n",
       "    <tr>\n",
       "      <th>name</th>\n",
       "      <th></th>\n",
       "      <th></th>\n",
       "      <th></th>\n",
       "      <th></th>\n",
       "      <th></th>\n",
       "      <th></th>\n",
       "      <th></th>\n",
       "      <th></th>\n",
       "      <th></th>\n",
       "      <th></th>\n",
       "      <th></th>\n",
       "      <th></th>\n",
       "      <th></th>\n",
       "      <th></th>\n",
       "      <th></th>\n",
       "    </tr>\n",
       "  </thead>\n",
       "  <tbody>\n",
       "    <tr>\n",
       "      <th>The Shining</th>\n",
       "      <td>R</td>\n",
       "      <td>Drama</td>\n",
       "      <td>1980</td>\n",
       "      <td>June 13, 1980</td>\n",
       "      <td>United States</td>\n",
       "      <td>8.4</td>\n",
       "      <td>927000.0</td>\n",
       "      <td>Stanley Kubrick</td>\n",
       "      <td>Stephen King</td>\n",
       "      <td>Jack Nicholson</td>\n",
       "      <td>United Kingdom</td>\n",
       "      <td>19000000.0</td>\n",
       "      <td>46998772.0</td>\n",
       "      <td>Warner Bros.</td>\n",
       "      <td>146.0</td>\n",
       "    </tr>\n",
       "    <tr>\n",
       "      <th>The Blue Lagoon</th>\n",
       "      <td>R</td>\n",
       "      <td>Adventure</td>\n",
       "      <td>1980</td>\n",
       "      <td>July 2, 1980</td>\n",
       "      <td>United States</td>\n",
       "      <td>5.8</td>\n",
       "      <td>65000.0</td>\n",
       "      <td>Randal Kleiser</td>\n",
       "      <td>Henry De Vere Stacpoole</td>\n",
       "      <td>Brooke Shields</td>\n",
       "      <td>United States</td>\n",
       "      <td>4500000.0</td>\n",
       "      <td>58853106.0</td>\n",
       "      <td>Columbia Pictures</td>\n",
       "      <td>104.0</td>\n",
       "    </tr>\n",
       "    <tr>\n",
       "      <th>Star Wars: Episode V - The Empire Strikes Back</th>\n",
       "      <td>PG</td>\n",
       "      <td>Action</td>\n",
       "      <td>1980</td>\n",
       "      <td>June 20, 1980</td>\n",
       "      <td>United States</td>\n",
       "      <td>8.7</td>\n",
       "      <td>1200000.0</td>\n",
       "      <td>Irvin Kershner</td>\n",
       "      <td>Leigh Brackett</td>\n",
       "      <td>Mark Hamill</td>\n",
       "      <td>United States</td>\n",
       "      <td>18000000.0</td>\n",
       "      <td>538375067.0</td>\n",
       "      <td>Lucasfilm</td>\n",
       "      <td>124.0</td>\n",
       "    </tr>\n",
       "    <tr>\n",
       "      <th>Airplane!</th>\n",
       "      <td>PG</td>\n",
       "      <td>Comedy</td>\n",
       "      <td>1980</td>\n",
       "      <td>July 2, 1980</td>\n",
       "      <td>United States</td>\n",
       "      <td>7.7</td>\n",
       "      <td>221000.0</td>\n",
       "      <td>Jim Abrahams</td>\n",
       "      <td>Jim Abrahams</td>\n",
       "      <td>Robert Hays</td>\n",
       "      <td>United States</td>\n",
       "      <td>3500000.0</td>\n",
       "      <td>83453539.0</td>\n",
       "      <td>Paramount Pictures</td>\n",
       "      <td>88.0</td>\n",
       "    </tr>\n",
       "    <tr>\n",
       "      <th>Caddyshack</th>\n",
       "      <td>R</td>\n",
       "      <td>Comedy</td>\n",
       "      <td>1980</td>\n",
       "      <td>July 25, 1980</td>\n",
       "      <td>United States</td>\n",
       "      <td>7.3</td>\n",
       "      <td>108000.0</td>\n",
       "      <td>Harold Ramis</td>\n",
       "      <td>Brian Doyle-Murray</td>\n",
       "      <td>Chevy Chase</td>\n",
       "      <td>United States</td>\n",
       "      <td>6000000.0</td>\n",
       "      <td>39846344.0</td>\n",
       "      <td>Orion Pictures</td>\n",
       "      <td>98.0</td>\n",
       "    </tr>\n",
       "  </tbody>\n",
       "</table>\n",
       "</div>"
      ],
      "text/plain": [
       "                                               rating      genre  year  \\\n",
       "name                                                                     \n",
       "The Shining                                         R      Drama  1980   \n",
       "The Blue Lagoon                                     R  Adventure  1980   \n",
       "Star Wars: Episode V - The Empire Strikes Back     PG     Action  1980   \n",
       "Airplane!                                          PG     Comedy  1980   \n",
       "Caddyshack                                          R     Comedy  1980   \n",
       "\n",
       "                                                 release_date release_country  \\\n",
       "name                                                                            \n",
       "The Shining                                     June 13, 1980   United States   \n",
       "The Blue Lagoon                                  July 2, 1980   United States   \n",
       "Star Wars: Episode V - The Empire Strikes Back  June 20, 1980   United States   \n",
       "Airplane!                                        July 2, 1980   United States   \n",
       "Caddyshack                                      July 25, 1980   United States   \n",
       "\n",
       "                                                score      votes  \\\n",
       "name                                                               \n",
       "The Shining                                       8.4   927000.0   \n",
       "The Blue Lagoon                                   5.8    65000.0   \n",
       "Star Wars: Episode V - The Empire Strikes Back    8.7  1200000.0   \n",
       "Airplane!                                         7.7   221000.0   \n",
       "Caddyshack                                        7.3   108000.0   \n",
       "\n",
       "                                                       director  \\\n",
       "name                                                              \n",
       "The Shining                                     Stanley Kubrick   \n",
       "The Blue Lagoon                                  Randal Kleiser   \n",
       "Star Wars: Episode V - The Empire Strikes Back   Irvin Kershner   \n",
       "Airplane!                                          Jim Abrahams   \n",
       "Caddyshack                                         Harold Ramis   \n",
       "\n",
       "                                                                 writer  \\\n",
       "name                                                                      \n",
       "The Shining                                                Stephen King   \n",
       "The Blue Lagoon                                 Henry De Vere Stacpoole   \n",
       "Star Wars: Episode V - The Empire Strikes Back           Leigh Brackett   \n",
       "Airplane!                                                  Jim Abrahams   \n",
       "Caddyshack                                           Brian Doyle-Murray   \n",
       "\n",
       "                                                          star  \\\n",
       "name                                                             \n",
       "The Shining                                     Jack Nicholson   \n",
       "The Blue Lagoon                                 Brooke Shields   \n",
       "Star Wars: Episode V - The Empire Strikes Back     Mark Hamill   \n",
       "Airplane!                                          Robert Hays   \n",
       "Caddyshack                                         Chevy Chase   \n",
       "\n",
       "                                                       country      budget  \\\n",
       "name                                                                         \n",
       "The Shining                                     United Kingdom  19000000.0   \n",
       "The Blue Lagoon                                  United States   4500000.0   \n",
       "Star Wars: Episode V - The Empire Strikes Back   United States  18000000.0   \n",
       "Airplane!                                        United States   3500000.0   \n",
       "Caddyshack                                       United States   6000000.0   \n",
       "\n",
       "                                                      gross  \\\n",
       "name                                                          \n",
       "The Shining                                      46998772.0   \n",
       "The Blue Lagoon                                  58853106.0   \n",
       "Star Wars: Episode V - The Empire Strikes Back  538375067.0   \n",
       "Airplane!                                        83453539.0   \n",
       "Caddyshack                                       39846344.0   \n",
       "\n",
       "                                                           company  runtime  \n",
       "name                                                                         \n",
       "The Shining                                           Warner Bros.    146.0  \n",
       "The Blue Lagoon                                  Columbia Pictures    104.0  \n",
       "Star Wars: Episode V - The Empire Strikes Back           Lucasfilm    124.0  \n",
       "Airplane!                                       Paramount Pictures     88.0  \n",
       "Caddyshack                                          Orion Pictures     98.0  "
      ]
     },
     "execution_count": 75,
     "metadata": {},
     "output_type": "execute_result"
    }
   ],
   "source": [
    "df.head(5)"
   ]
  },
  {
   "cell_type": "code",
   "execution_count": 78,
   "id": "e6d0c7e6-646a-449c-9e8a-990968b99ba9",
   "metadata": {},
   "outputs": [
    {
     "data": {
      "text/plain": [
       "rating                           R\n",
       "genre                        Drama\n",
       "year                          1980\n",
       "release_date         June 13, 1980\n",
       "release_country      United States\n",
       "score                          8.4\n",
       "votes                     927000.0\n",
       "director           Stanley Kubrick\n",
       "writer                Stephen King\n",
       "star                Jack Nicholson\n",
       "country             United Kingdom\n",
       "budget                  19000000.0\n",
       "gross                   46998772.0\n",
       "company               Warner Bros.\n",
       "runtime                      146.0\n",
       "Name: The Shining, dtype: object"
      ]
     },
     "execution_count": 78,
     "metadata": {},
     "output_type": "execute_result"
    }
   ],
   "source": [
    "df.iloc[0]"
   ]
  },
  {
   "cell_type": "code",
   "execution_count": 83,
   "id": "d4bb8d21-33d7-4c56-b30b-24a8a6643599",
   "metadata": {},
   "outputs": [
    {
     "data": {
      "text/plain": [
       "rating                           R\n",
       "genre                        Drama\n",
       "year                          1980\n",
       "release_date         June 13, 1980\n",
       "release_country      United States\n",
       "score                          8.4\n",
       "votes                     927000.0\n",
       "director           Stanley Kubrick\n",
       "writer                Stephen King\n",
       "star                Jack Nicholson\n",
       "country             United Kingdom\n",
       "budget                  19000000.0\n",
       "gross                   46998772.0\n",
       "company               Warner Bros.\n",
       "runtime                      146.0\n",
       "Name: The Shining, dtype: object"
      ]
     },
     "execution_count": 83,
     "metadata": {},
     "output_type": "execute_result"
    }
   ],
   "source": [
    "# df.loc[0] NO NO NO create KeyError\n",
    "df.loc['The Shining']"
   ]
  },
  {
   "cell_type": "code",
   "execution_count": 91,
   "id": "cd7ef396-5b63-4e2f-8a48-4816160e97a6",
   "metadata": {},
   "outputs": [],
   "source": [
    "# Mishe sotune index unique nabashe\n",
    "# Mishe bishtar az ie sotun ro baraie index dad"
   ]
  },
  {
   "cell_type": "code",
   "execution_count": null,
   "id": "2deb4445-02b9-4cb1-af12-24fda3d5a88d",
   "metadata": {},
   "outputs": [],
   "source": []
  },
  {
   "cell_type": "markdown",
   "id": "976e542e-0336-487f-9573-6ed111902769",
   "metadata": {},
   "source": [
    "<h1>two index</h1>"
   ]
  },
  {
   "cell_type": "code",
   "execution_count": 3,
   "id": "03fe1fc7-c0a3-4486-911a-4c0a2dc71701",
   "metadata": {},
   "outputs": [],
   "source": [
    "import pandas as pd\n",
    "df2 = pd.read_csv('employees.csv', index_col=['First Name', 'Team'])"
   ]
  },
  {
   "cell_type": "code",
   "execution_count": 4,
   "id": "6e09df65-2e97-4062-83b3-f89516314b79",
   "metadata": {},
   "outputs": [
    {
     "data": {
      "text/html": [
       "<div>\n",
       "<style scoped>\n",
       "    .dataframe tbody tr th:only-of-type {\n",
       "        vertical-align: middle;\n",
       "    }\n",
       "\n",
       "    .dataframe tbody tr th {\n",
       "        vertical-align: top;\n",
       "    }\n",
       "\n",
       "    .dataframe thead th {\n",
       "        text-align: right;\n",
       "    }\n",
       "</style>\n",
       "<table border=\"1\" class=\"dataframe\">\n",
       "  <thead>\n",
       "    <tr style=\"text-align: right;\">\n",
       "      <th></th>\n",
       "      <th></th>\n",
       "      <th>Gender</th>\n",
       "      <th>Start Date</th>\n",
       "      <th>Salary</th>\n",
       "      <th>Mgmt</th>\n",
       "    </tr>\n",
       "    <tr>\n",
       "      <th>First Name</th>\n",
       "      <th>Team</th>\n",
       "      <th></th>\n",
       "      <th></th>\n",
       "      <th></th>\n",
       "      <th></th>\n",
       "    </tr>\n",
       "  </thead>\n",
       "  <tbody>\n",
       "    <tr>\n",
       "      <th>Douglas</th>\n",
       "      <th>Marketing</th>\n",
       "      <td>Male</td>\n",
       "      <td>8/6/93</td>\n",
       "      <td>NaN</td>\n",
       "      <td>True</td>\n",
       "    </tr>\n",
       "    <tr>\n",
       "      <th>Thomas</th>\n",
       "      <th>NaN</th>\n",
       "      <td>Male</td>\n",
       "      <td>3/31/96</td>\n",
       "      <td>61933.0</td>\n",
       "      <td>True</td>\n",
       "    </tr>\n",
       "  </tbody>\n",
       "</table>\n",
       "</div>"
      ],
      "text/plain": [
       "                     Gender Start Date   Salary  Mgmt\n",
       "First Name Team                                      \n",
       "Douglas    Marketing   Male     8/6/93      NaN  True\n",
       "Thomas     NaN         Male    3/31/96  61933.0  True"
      ]
     },
     "execution_count": 4,
     "metadata": {},
     "output_type": "execute_result"
    }
   ],
   "source": [
    "df2.head(2)"
   ]
  },
  {
   "cell_type": "code",
   "execution_count": null,
   "id": "125889fd-d7be-472e-b9ce-d8da8992c831",
   "metadata": {},
   "outputs": [],
   "source": []
  },
  {
   "cell_type": "code",
   "execution_count": 5,
   "id": "0415cbe8-e1cf-46da-ab24-782a2be0f543",
   "metadata": {},
   "outputs": [
    {
     "data": {
      "text/html": [
       "<div>\n",
       "<style scoped>\n",
       "    .dataframe tbody tr th:only-of-type {\n",
       "        vertical-align: middle;\n",
       "    }\n",
       "\n",
       "    .dataframe tbody tr th {\n",
       "        vertical-align: top;\n",
       "    }\n",
       "\n",
       "    .dataframe thead th {\n",
       "        text-align: right;\n",
       "    }\n",
       "</style>\n",
       "<table border=\"1\" class=\"dataframe\">\n",
       "  <thead>\n",
       "    <tr style=\"text-align: right;\">\n",
       "      <th></th>\n",
       "      <th>Gender</th>\n",
       "      <th>Start Date</th>\n",
       "      <th>Salary</th>\n",
       "      <th>Mgmt</th>\n",
       "    </tr>\n",
       "    <tr>\n",
       "      <th>Team</th>\n",
       "      <th></th>\n",
       "      <th></th>\n",
       "      <th></th>\n",
       "      <th></th>\n",
       "    </tr>\n",
       "  </thead>\n",
       "  <tbody>\n",
       "    <tr>\n",
       "      <th>Marketing</th>\n",
       "      <td>Male</td>\n",
       "      <td>8/6/93</td>\n",
       "      <td>NaN</td>\n",
       "      <td>True</td>\n",
       "    </tr>\n",
       "    <tr>\n",
       "      <th>IT</th>\n",
       "      <td>Male</td>\n",
       "      <td>9/3/99</td>\n",
       "      <td>83341.0</td>\n",
       "      <td>True</td>\n",
       "    </tr>\n",
       "    <tr>\n",
       "      <th>Product</th>\n",
       "      <td>Male</td>\n",
       "      <td>1/8/02</td>\n",
       "      <td>41428.0</td>\n",
       "      <td>False</td>\n",
       "    </tr>\n",
       "    <tr>\n",
       "      <th>Marketing</th>\n",
       "      <td>NaN</td>\n",
       "      <td>2/4/09</td>\n",
       "      <td>104496.0</td>\n",
       "      <td>True</td>\n",
       "    </tr>\n",
       "    <tr>\n",
       "      <th>Engineering</th>\n",
       "      <td>Male</td>\n",
       "      <td>8/4/07</td>\n",
       "      <td>132175.0</td>\n",
       "      <td>False</td>\n",
       "    </tr>\n",
       "  </tbody>\n",
       "</table>\n",
       "</div>"
      ],
      "text/plain": [
       "            Gender Start Date    Salary   Mgmt\n",
       "Team                                          \n",
       "Marketing     Male     8/6/93       NaN   True\n",
       "IT            Male     9/3/99   83341.0   True\n",
       "Product       Male     1/8/02   41428.0  False\n",
       "Marketing      NaN     2/4/09  104496.0   True\n",
       "Engineering   Male     8/4/07  132175.0  False"
      ]
     },
     "execution_count": 5,
     "metadata": {},
     "output_type": "execute_result"
    }
   ],
   "source": [
    "df2.loc['Douglas']"
   ]
  },
  {
   "cell_type": "code",
   "execution_count": 8,
   "id": "f655668f-5403-47ba-8fb2-e07d2136d52c",
   "metadata": {},
   "outputs": [
    {
     "data": {
      "text/plain": [
       "pandas.core.frame.DataFrame"
      ]
     },
     "execution_count": 8,
     "metadata": {},
     "output_type": "execute_result"
    }
   ],
   "source": [
    "type(df2.loc['Douglas'])"
   ]
  },
  {
   "cell_type": "code",
   "execution_count": 9,
   "id": "f96f8136-178b-432b-b7b1-4bfe648b283d",
   "metadata": {},
   "outputs": [
    {
     "data": {
      "text/plain": [
       "pandas.core.frame.DataFrame"
      ]
     },
     "execution_count": 9,
     "metadata": {},
     "output_type": "execute_result"
    }
   ],
   "source": [
    "type(df2)"
   ]
  },
  {
   "cell_type": "code",
   "execution_count": null,
   "id": "6f368f30-ea44-4041-9d15-031b3bbaa596",
   "metadata": {},
   "outputs": [],
   "source": []
  },
  {
   "cell_type": "code",
   "execution_count": null,
   "id": "62f6a35a-7781-4718-9009-dc7e608f0eb2",
   "metadata": {},
   "outputs": [],
   "source": []
  },
  {
   "cell_type": "code",
   "execution_count": 6,
   "id": "a529353a-f907-4f9f-ac96-894998bcde8e",
   "metadata": {},
   "outputs": [
    {
     "name": "stderr",
     "output_type": "stream",
     "text": [
      "/tmp/ipykernel_12086/3168365656.py:1: PerformanceWarning: indexing past lexsort depth may impact performance.\n",
      "  df2.loc['Douglas', 'Marketing']\n"
     ]
    },
    {
     "data": {
      "text/html": [
       "<div>\n",
       "<style scoped>\n",
       "    .dataframe tbody tr th:only-of-type {\n",
       "        vertical-align: middle;\n",
       "    }\n",
       "\n",
       "    .dataframe tbody tr th {\n",
       "        vertical-align: top;\n",
       "    }\n",
       "\n",
       "    .dataframe thead th {\n",
       "        text-align: right;\n",
       "    }\n",
       "</style>\n",
       "<table border=\"1\" class=\"dataframe\">\n",
       "  <thead>\n",
       "    <tr style=\"text-align: right;\">\n",
       "      <th></th>\n",
       "      <th></th>\n",
       "      <th>Gender</th>\n",
       "      <th>Start Date</th>\n",
       "      <th>Salary</th>\n",
       "      <th>Mgmt</th>\n",
       "    </tr>\n",
       "    <tr>\n",
       "      <th>First Name</th>\n",
       "      <th>Team</th>\n",
       "      <th></th>\n",
       "      <th></th>\n",
       "      <th></th>\n",
       "      <th></th>\n",
       "    </tr>\n",
       "  </thead>\n",
       "  <tbody>\n",
       "    <tr>\n",
       "      <th rowspan=\"2\" valign=\"top\">Douglas</th>\n",
       "      <th>Marketing</th>\n",
       "      <td>Male</td>\n",
       "      <td>8/6/93</td>\n",
       "      <td>NaN</td>\n",
       "      <td>True</td>\n",
       "    </tr>\n",
       "    <tr>\n",
       "      <th>Marketing</th>\n",
       "      <td>NaN</td>\n",
       "      <td>2/4/09</td>\n",
       "      <td>104496.0</td>\n",
       "      <td>True</td>\n",
       "    </tr>\n",
       "  </tbody>\n",
       "</table>\n",
       "</div>"
      ],
      "text/plain": [
       "                     Gender Start Date    Salary  Mgmt\n",
       "First Name Team                                       \n",
       "Douglas    Marketing   Male     8/6/93       NaN  True\n",
       "           Marketing    NaN     2/4/09  104496.0  True"
      ]
     },
     "execution_count": 6,
     "metadata": {},
     "output_type": "execute_result"
    }
   ],
   "source": [
    "df2.loc['Douglas', 'Marketing']"
   ]
  },
  {
   "cell_type": "code",
   "execution_count": 7,
   "id": "badbebe0-d2f8-409d-b4c1-e8c01e4c5c08",
   "metadata": {},
   "outputs": [
    {
     "name": "stderr",
     "output_type": "stream",
     "text": [
      "/tmp/ipykernel_12086/859362577.py:1: PerformanceWarning: indexing past lexsort depth may impact performance.\n",
      "  type(df2.loc['Douglas', 'Marketing'])\n"
     ]
    },
    {
     "data": {
      "text/plain": [
       "pandas.core.frame.DataFrame"
      ]
     },
     "execution_count": 7,
     "metadata": {},
     "output_type": "execute_result"
    }
   ],
   "source": [
    "type(df2.loc['Douglas', 'Marketing'])"
   ]
  },
  {
   "cell_type": "code",
   "execution_count": null,
   "id": "2f320235-5b2d-418c-adf3-f034b34fbd29",
   "metadata": {},
   "outputs": [],
   "source": []
  },
  {
   "cell_type": "code",
   "execution_count": 24,
   "id": "c30f9591-df39-424b-b3d3-b863df51083e",
   "metadata": {},
   "outputs": [
    {
     "data": {
      "text/html": [
       "<div>\n",
       "<style scoped>\n",
       "    .dataframe tbody tr th:only-of-type {\n",
       "        vertical-align: middle;\n",
       "    }\n",
       "\n",
       "    .dataframe tbody tr th {\n",
       "        vertical-align: top;\n",
       "    }\n",
       "\n",
       "    .dataframe thead th {\n",
       "        text-align: right;\n",
       "    }\n",
       "</style>\n",
       "<table border=\"1\" class=\"dataframe\">\n",
       "  <thead>\n",
       "    <tr style=\"text-align: right;\">\n",
       "      <th></th>\n",
       "      <th></th>\n",
       "      <th>Gender</th>\n",
       "      <th>Start Date</th>\n",
       "      <th>Salary</th>\n",
       "      <th>Mgmt</th>\n",
       "    </tr>\n",
       "    <tr>\n",
       "      <th>First Name</th>\n",
       "      <th>Team</th>\n",
       "      <th></th>\n",
       "      <th></th>\n",
       "      <th></th>\n",
       "      <th></th>\n",
       "    </tr>\n",
       "  </thead>\n",
       "  <tbody>\n",
       "    <tr>\n",
       "      <th rowspan=\"5\" valign=\"top\">Douglas</th>\n",
       "      <th>Marketing</th>\n",
       "      <td>Male</td>\n",
       "      <td>8/6/93</td>\n",
       "      <td>NaN</td>\n",
       "      <td>True</td>\n",
       "    </tr>\n",
       "    <tr>\n",
       "      <th>IT</th>\n",
       "      <td>Male</td>\n",
       "      <td>9/3/99</td>\n",
       "      <td>83341.0</td>\n",
       "      <td>True</td>\n",
       "    </tr>\n",
       "    <tr>\n",
       "      <th>Product</th>\n",
       "      <td>Male</td>\n",
       "      <td>1/8/02</td>\n",
       "      <td>41428.0</td>\n",
       "      <td>False</td>\n",
       "    </tr>\n",
       "    <tr>\n",
       "      <th>Marketing</th>\n",
       "      <td>NaN</td>\n",
       "      <td>2/4/09</td>\n",
       "      <td>104496.0</td>\n",
       "      <td>True</td>\n",
       "    </tr>\n",
       "    <tr>\n",
       "      <th>Engineering</th>\n",
       "      <td>Male</td>\n",
       "      <td>8/4/07</td>\n",
       "      <td>132175.0</td>\n",
       "      <td>False</td>\n",
       "    </tr>\n",
       "    <tr>\n",
       "      <th>...</th>\n",
       "      <th>...</th>\n",
       "      <td>...</td>\n",
       "      <td>...</td>\n",
       "      <td>...</td>\n",
       "      <td>...</td>\n",
       "    </tr>\n",
       "    <tr>\n",
       "      <th rowspan=\"5\" valign=\"top\">NaN</th>\n",
       "      <th>Sales</th>\n",
       "      <td>Female</td>\n",
       "      <td>8/23/00</td>\n",
       "      <td>95866.0</td>\n",
       "      <td>NaN</td>\n",
       "    </tr>\n",
       "    <tr>\n",
       "      <th>Distribution</th>\n",
       "      <td>Female</td>\n",
       "      <td>9/15/85</td>\n",
       "      <td>133472.0</td>\n",
       "      <td>NaN</td>\n",
       "    </tr>\n",
       "    <tr>\n",
       "      <th>Marketing</th>\n",
       "      <td>Male</td>\n",
       "      <td>7/30/12</td>\n",
       "      <td>107351.0</td>\n",
       "      <td>NaN</td>\n",
       "    </tr>\n",
       "    <tr>\n",
       "      <th>NaN</th>\n",
       "      <td>Female</td>\n",
       "      <td>9/14/10</td>\n",
       "      <td>143638.0</td>\n",
       "      <td>NaN</td>\n",
       "    </tr>\n",
       "    <tr>\n",
       "      <th>NaN</th>\n",
       "      <td>NaN</td>\n",
       "      <td>NaN</td>\n",
       "      <td>NaN</td>\n",
       "      <td>NaN</td>\n",
       "    </tr>\n",
       "  </tbody>\n",
       "</table>\n",
       "<p>73 rows × 4 columns</p>\n",
       "</div>"
      ],
      "text/plain": [
       "                         Gender Start Date    Salary   Mgmt\n",
       "First Name Team                                            \n",
       "Douglas    Marketing       Male     8/6/93       NaN   True\n",
       "           IT              Male     9/3/99   83341.0   True\n",
       "           Product         Male     1/8/02   41428.0  False\n",
       "           Marketing        NaN     2/4/09  104496.0   True\n",
       "           Engineering     Male     8/4/07  132175.0  False\n",
       "...                         ...        ...       ...    ...\n",
       "NaN        Sales         Female    8/23/00   95866.0    NaN\n",
       "           Distribution  Female    9/15/85  133472.0    NaN\n",
       "           Marketing       Male    7/30/12  107351.0    NaN\n",
       "           NaN           Female    9/14/10  143638.0    NaN\n",
       "           NaN              NaN        NaN       NaN    NaN\n",
       "\n",
       "[73 rows x 4 columns]"
      ]
     },
     "execution_count": 24,
     "metadata": {},
     "output_type": "execute_result"
    }
   ],
   "source": [
    "# inja ma faghat baraie index aval do ta option midim. doglas ha ro ke mide, vase marketing chon nist nan ha ro mide\n",
    "\n",
    "df2.loc[['Douglas', 'Marketing']]"
   ]
  },
  {
   "cell_type": "code",
   "execution_count": 32,
   "id": "363453d2-2314-4f20-85b7-c38978c5b7db",
   "metadata": {},
   "outputs": [
    {
     "data": {
      "text/html": [
       "<div>\n",
       "<style scoped>\n",
       "    .dataframe tbody tr th:only-of-type {\n",
       "        vertical-align: middle;\n",
       "    }\n",
       "\n",
       "    .dataframe tbody tr th {\n",
       "        vertical-align: top;\n",
       "    }\n",
       "\n",
       "    .dataframe thead th {\n",
       "        text-align: right;\n",
       "    }\n",
       "</style>\n",
       "<table border=\"1\" class=\"dataframe\">\n",
       "  <thead>\n",
       "    <tr style=\"text-align: right;\">\n",
       "      <th></th>\n",
       "      <th></th>\n",
       "      <th>Gender</th>\n",
       "      <th>Start Date</th>\n",
       "      <th>Salary</th>\n",
       "      <th>Mgmt</th>\n",
       "    </tr>\n",
       "    <tr>\n",
       "      <th>First Name</th>\n",
       "      <th>Team</th>\n",
       "      <th></th>\n",
       "      <th></th>\n",
       "      <th></th>\n",
       "      <th></th>\n",
       "    </tr>\n",
       "  </thead>\n",
       "  <tbody>\n",
       "    <tr>\n",
       "      <th rowspan=\"5\" valign=\"top\">Douglas</th>\n",
       "      <th>Marketing</th>\n",
       "      <td>Male</td>\n",
       "      <td>8/6/93</td>\n",
       "      <td>NaN</td>\n",
       "      <td>True</td>\n",
       "    </tr>\n",
       "    <tr>\n",
       "      <th>IT</th>\n",
       "      <td>Male</td>\n",
       "      <td>9/3/99</td>\n",
       "      <td>83341.0</td>\n",
       "      <td>True</td>\n",
       "    </tr>\n",
       "    <tr>\n",
       "      <th>Product</th>\n",
       "      <td>Male</td>\n",
       "      <td>1/8/02</td>\n",
       "      <td>41428.0</td>\n",
       "      <td>False</td>\n",
       "    </tr>\n",
       "    <tr>\n",
       "      <th>Marketing</th>\n",
       "      <td>NaN</td>\n",
       "      <td>2/4/09</td>\n",
       "      <td>104496.0</td>\n",
       "      <td>True</td>\n",
       "    </tr>\n",
       "    <tr>\n",
       "      <th>Engineering</th>\n",
       "      <td>Male</td>\n",
       "      <td>8/4/07</td>\n",
       "      <td>132175.0</td>\n",
       "      <td>False</td>\n",
       "    </tr>\n",
       "    <tr>\n",
       "      <th rowspan=\"7\" valign=\"top\">Thomas</th>\n",
       "      <th>NaN</th>\n",
       "      <td>Male</td>\n",
       "      <td>3/31/96</td>\n",
       "      <td>61933.0</td>\n",
       "      <td>True</td>\n",
       "    </tr>\n",
       "    <tr>\n",
       "      <th>Marketing</th>\n",
       "      <td>Male</td>\n",
       "      <td>6/4/95</td>\n",
       "      <td>62096.0</td>\n",
       "      <td>False</td>\n",
       "    </tr>\n",
       "    <tr>\n",
       "      <th>HR</th>\n",
       "      <td>Male</td>\n",
       "      <td>4/6/11</td>\n",
       "      <td>103235.0</td>\n",
       "      <td>True</td>\n",
       "    </tr>\n",
       "    <tr>\n",
       "      <th>Sales</th>\n",
       "      <td>NaN</td>\n",
       "      <td>8/31/95</td>\n",
       "      <td>41549.0</td>\n",
       "      <td>False</td>\n",
       "    </tr>\n",
       "    <tr>\n",
       "      <th>Distribution</th>\n",
       "      <td>Male</td>\n",
       "      <td>9/7/91</td>\n",
       "      <td>65251.0</td>\n",
       "      <td>False</td>\n",
       "    </tr>\n",
       "    <tr>\n",
       "      <th>Engineering</th>\n",
       "      <td>Male</td>\n",
       "      <td>5/3/90</td>\n",
       "      <td>111371.0</td>\n",
       "      <td>True</td>\n",
       "    </tr>\n",
       "    <tr>\n",
       "      <th>Engineering</th>\n",
       "      <td>Male</td>\n",
       "      <td>3/12/16</td>\n",
       "      <td>105681.0</td>\n",
       "      <td>False</td>\n",
       "    </tr>\n",
       "  </tbody>\n",
       "</table>\n",
       "</div>"
      ],
      "text/plain": [
       "                        Gender Start Date    Salary   Mgmt\n",
       "First Name Team                                           \n",
       "Douglas    Marketing      Male     8/6/93       NaN   True\n",
       "           IT             Male     9/3/99   83341.0   True\n",
       "           Product        Male     1/8/02   41428.0  False\n",
       "           Marketing       NaN     2/4/09  104496.0   True\n",
       "           Engineering    Male     8/4/07  132175.0  False\n",
       "Thomas     NaN            Male    3/31/96   61933.0   True\n",
       "           Marketing      Male     6/4/95   62096.0  False\n",
       "           HR             Male     4/6/11  103235.0   True\n",
       "           Sales           NaN    8/31/95   41549.0  False\n",
       "           Distribution   Male     9/7/91   65251.0  False\n",
       "           Engineering    Male     5/3/90  111371.0   True\n",
       "           Engineering    Male    3/12/16  105681.0  False"
      ]
     },
     "execution_count": 32,
     "metadata": {},
     "output_type": "execute_result"
    }
   ],
   "source": [
    "df2.loc[['Douglas', 'Thomas']]"
   ]
  },
  {
   "cell_type": "code",
   "execution_count": null,
   "id": "160106fd-a95e-4b42-8e37-e58e7a5bfe55",
   "metadata": {},
   "outputs": [],
   "source": []
  },
  {
   "cell_type": "code",
   "execution_count": null,
   "id": "9d258317-0036-4d91-8d91-09eaaa022868",
   "metadata": {},
   "outputs": [],
   "source": []
  },
  {
   "cell_type": "code",
   "execution_count": 30,
   "id": "68f84859-bcea-458f-815f-6cf1986ada3f",
   "metadata": {},
   "outputs": [
    {
     "data": {
      "text/html": [
       "<div>\n",
       "<style scoped>\n",
       "    .dataframe tbody tr th:only-of-type {\n",
       "        vertical-align: middle;\n",
       "    }\n",
       "\n",
       "    .dataframe tbody tr th {\n",
       "        vertical-align: top;\n",
       "    }\n",
       "\n",
       "    .dataframe thead th {\n",
       "        text-align: right;\n",
       "    }\n",
       "</style>\n",
       "<table border=\"1\" class=\"dataframe\">\n",
       "  <thead>\n",
       "    <tr style=\"text-align: right;\">\n",
       "      <th></th>\n",
       "      <th></th>\n",
       "      <th>Gender</th>\n",
       "      <th>Start Date</th>\n",
       "      <th>Salary</th>\n",
       "      <th>Mgmt</th>\n",
       "    </tr>\n",
       "    <tr>\n",
       "      <th>First Name</th>\n",
       "      <th>Team</th>\n",
       "      <th></th>\n",
       "      <th></th>\n",
       "      <th></th>\n",
       "      <th></th>\n",
       "    </tr>\n",
       "  </thead>\n",
       "  <tbody>\n",
       "    <tr>\n",
       "      <th rowspan=\"11\" valign=\"top\">NaN</th>\n",
       "      <th>Finance</th>\n",
       "      <td>Female</td>\n",
       "      <td>7/20/15</td>\n",
       "      <td>45906.0</td>\n",
       "      <td>NaN</td>\n",
       "    </tr>\n",
       "    <tr>\n",
       "      <th>NaN</th>\n",
       "      <td>Male</td>\n",
       "      <td>6/14/12</td>\n",
       "      <td>125792.0</td>\n",
       "      <td>NaN</td>\n",
       "    </tr>\n",
       "    <tr>\n",
       "      <th>IT</th>\n",
       "      <td>Male</td>\n",
       "      <td>10/8/12</td>\n",
       "      <td>37076.0</td>\n",
       "      <td>NaN</td>\n",
       "    </tr>\n",
       "    <tr>\n",
       "      <th>NaN</th>\n",
       "      <td>Male</td>\n",
       "      <td>8/21/98</td>\n",
       "      <td>122340.0</td>\n",
       "      <td>NaN</td>\n",
       "    </tr>\n",
       "    <tr>\n",
       "      <th>IT</th>\n",
       "      <td>Male</td>\n",
       "      <td>1/29/16</td>\n",
       "      <td>122173.0</td>\n",
       "      <td>NaN</td>\n",
       "    </tr>\n",
       "    <tr>\n",
       "      <th>...</th>\n",
       "      <td>...</td>\n",
       "      <td>...</td>\n",
       "      <td>...</td>\n",
       "      <td>...</td>\n",
       "    </tr>\n",
       "    <tr>\n",
       "      <th>Sales</th>\n",
       "      <td>Female</td>\n",
       "      <td>8/23/00</td>\n",
       "      <td>95866.0</td>\n",
       "      <td>NaN</td>\n",
       "    </tr>\n",
       "    <tr>\n",
       "      <th>Distribution</th>\n",
       "      <td>Female</td>\n",
       "      <td>9/15/85</td>\n",
       "      <td>133472.0</td>\n",
       "      <td>NaN</td>\n",
       "    </tr>\n",
       "    <tr>\n",
       "      <th>Marketing</th>\n",
       "      <td>Male</td>\n",
       "      <td>7/30/12</td>\n",
       "      <td>107351.0</td>\n",
       "      <td>NaN</td>\n",
       "    </tr>\n",
       "    <tr>\n",
       "      <th>NaN</th>\n",
       "      <td>Female</td>\n",
       "      <td>9/14/10</td>\n",
       "      <td>143638.0</td>\n",
       "      <td>NaN</td>\n",
       "    </tr>\n",
       "    <tr>\n",
       "      <th>NaN</th>\n",
       "      <td>NaN</td>\n",
       "      <td>NaN</td>\n",
       "      <td>NaN</td>\n",
       "      <td>NaN</td>\n",
       "    </tr>\n",
       "  </tbody>\n",
       "</table>\n",
       "<p>68 rows × 4 columns</p>\n",
       "</div>"
      ],
      "text/plain": [
       "                         Gender Start Date    Salary Mgmt\n",
       "First Name Team                                          \n",
       "NaN        Finance       Female    7/20/15   45906.0  NaN\n",
       "           NaN             Male    6/14/12  125792.0  NaN\n",
       "           IT              Male    10/8/12   37076.0  NaN\n",
       "           NaN             Male    8/21/98  122340.0  NaN\n",
       "           IT              Male    1/29/16  122173.0  NaN\n",
       "...                         ...        ...       ...  ...\n",
       "           Sales         Female    8/23/00   95866.0  NaN\n",
       "           Distribution  Female    9/15/85  133472.0  NaN\n",
       "           Marketing       Male    7/30/12  107351.0  NaN\n",
       "           NaN           Female    9/14/10  143638.0  NaN\n",
       "           NaN              NaN        NaN       NaN  NaN\n",
       "\n",
       "[68 rows x 4 columns]"
      ]
     },
     "execution_count": 30,
     "metadata": {},
     "output_type": "execute_result"
    }
   ],
   "source": [
    "df2.loc[['marketing']]"
   ]
  },
  {
   "cell_type": "code",
   "execution_count": null,
   "id": "e13cde1d-cd09-40f5-913c-4e3377c57ad6",
   "metadata": {},
   "outputs": [],
   "source": []
  },
  {
   "cell_type": "code",
   "execution_count": null,
   "id": "6ea3e5a2-5ec7-4281-b5ee-cacc2592fd6f",
   "metadata": {},
   "outputs": [],
   "source": []
  },
  {
   "cell_type": "code",
   "execution_count": null,
   "id": "9dc0a0bb-e09e-42c7-a9ba-23ba07ba5a70",
   "metadata": {},
   "outputs": [],
   "source": []
  },
  {
   "cell_type": "markdown",
   "id": "c587d9b2-1571-49df-96d5-ae690e8197a4",
   "metadata": {},
   "source": [
    "<h1>xs(key, level=)</h1>"
   ]
  },
  {
   "cell_type": "code",
   "execution_count": 119,
   "id": "cdb3c17f-09f5-449b-8b50-9306bd3982bf",
   "metadata": {},
   "outputs": [
    {
     "data": {
      "text/html": [
       "<div>\n",
       "<style scoped>\n",
       "    .dataframe tbody tr th:only-of-type {\n",
       "        vertical-align: middle;\n",
       "    }\n",
       "\n",
       "    .dataframe tbody tr th {\n",
       "        vertical-align: top;\n",
       "    }\n",
       "\n",
       "    .dataframe thead th {\n",
       "        text-align: right;\n",
       "    }\n",
       "</style>\n",
       "<table border=\"1\" class=\"dataframe\">\n",
       "  <thead>\n",
       "    <tr style=\"text-align: right;\">\n",
       "      <th></th>\n",
       "      <th>Gender</th>\n",
       "      <th>Start Date</th>\n",
       "      <th>Salary</th>\n",
       "      <th>Mgmt</th>\n",
       "    </tr>\n",
       "    <tr>\n",
       "      <th>First Name</th>\n",
       "      <th></th>\n",
       "      <th></th>\n",
       "      <th></th>\n",
       "      <th></th>\n",
       "    </tr>\n",
       "  </thead>\n",
       "  <tbody>\n",
       "    <tr>\n",
       "      <th>Douglas</th>\n",
       "      <td>Male</td>\n",
       "      <td>8/6/93</td>\n",
       "      <td>NaN</td>\n",
       "      <td>True</td>\n",
       "    </tr>\n",
       "    <tr>\n",
       "      <th>Matthew</th>\n",
       "      <td>Male</td>\n",
       "      <td>9/5/95</td>\n",
       "      <td>100612.0</td>\n",
       "      <td>False</td>\n",
       "    </tr>\n",
       "    <tr>\n",
       "      <th>Craig</th>\n",
       "      <td>Male</td>\n",
       "      <td>2/27/00</td>\n",
       "      <td>37598.0</td>\n",
       "      <td>True</td>\n",
       "    </tr>\n",
       "    <tr>\n",
       "      <th>Marilyn</th>\n",
       "      <td>Female</td>\n",
       "      <td>12/7/80</td>\n",
       "      <td>73524.0</td>\n",
       "      <td>True</td>\n",
       "    </tr>\n",
       "    <tr>\n",
       "      <th>NaN</th>\n",
       "      <td>Female</td>\n",
       "      <td>6/12/07</td>\n",
       "      <td>58112.0</td>\n",
       "      <td>NaN</td>\n",
       "    </tr>\n",
       "    <tr>\n",
       "      <th>...</th>\n",
       "      <td>...</td>\n",
       "      <td>...</td>\n",
       "      <td>...</td>\n",
       "      <td>...</td>\n",
       "    </tr>\n",
       "    <tr>\n",
       "      <th>Lori</th>\n",
       "      <td>Female</td>\n",
       "      <td>11/20/15</td>\n",
       "      <td>75498.0</td>\n",
       "      <td>True</td>\n",
       "    </tr>\n",
       "    <tr>\n",
       "      <th>NaN</th>\n",
       "      <td>Male</td>\n",
       "      <td>7/30/12</td>\n",
       "      <td>107351.0</td>\n",
       "      <td>NaN</td>\n",
       "    </tr>\n",
       "    <tr>\n",
       "      <th>Donna</th>\n",
       "      <td>Female</td>\n",
       "      <td>11/26/82</td>\n",
       "      <td>82871.0</td>\n",
       "      <td>False</td>\n",
       "    </tr>\n",
       "    <tr>\n",
       "      <th>Rose</th>\n",
       "      <td>Female</td>\n",
       "      <td>8/25/02</td>\n",
       "      <td>134505.0</td>\n",
       "      <td>True</td>\n",
       "    </tr>\n",
       "    <tr>\n",
       "      <th>George</th>\n",
       "      <td>Male</td>\n",
       "      <td>6/21/13</td>\n",
       "      <td>98874.0</td>\n",
       "      <td>True</td>\n",
       "    </tr>\n",
       "  </tbody>\n",
       "</table>\n",
       "<p>98 rows × 4 columns</p>\n",
       "</div>"
      ],
      "text/plain": [
       "            Gender Start Date    Salary   Mgmt\n",
       "First Name                                    \n",
       "Douglas       Male     8/6/93       NaN   True\n",
       "Matthew       Male     9/5/95  100612.0  False\n",
       "Craig         Male    2/27/00   37598.0   True\n",
       "Marilyn     Female    12/7/80   73524.0   True\n",
       "NaN         Female    6/12/07   58112.0    NaN\n",
       "...            ...        ...       ...    ...\n",
       "Lori        Female   11/20/15   75498.0   True\n",
       "NaN           Male    7/30/12  107351.0    NaN\n",
       "Donna       Female   11/26/82   82871.0  False\n",
       "Rose        Female    8/25/02  134505.0   True\n",
       "George        Male    6/21/13   98874.0   True\n",
       "\n",
       "[98 rows x 4 columns]"
      ]
     },
     "execution_count": 119,
     "metadata": {},
     "output_type": "execute_result"
    }
   ],
   "source": [
    "# dar mavagheiy ke multiindex hastim va mikhahim be sotuh bad az sath aval dastresi peida konim\n",
    "df2.xs('Marketing', level='Team')"
   ]
  },
  {
   "cell_type": "code",
   "execution_count": null,
   "id": "0e812480-e83e-4f64-b69f-22cdcd947217",
   "metadata": {},
   "outputs": [],
   "source": []
  },
  {
   "cell_type": "code",
   "execution_count": null,
   "id": "1ab38d25-b114-46f3-b03f-ba3395dae96d",
   "metadata": {},
   "outputs": [],
   "source": []
  },
  {
   "cell_type": "markdown",
   "id": "a302e424-3eda-482e-b9f4-e3b05f359da8",
   "metadata": {},
   "source": [
    "<h1>sort_values(by=)</h1>"
   ]
  },
  {
   "cell_type": "code",
   "execution_count": 10,
   "id": "53f82de7-fd94-4b95-8134-d54cd257a09d",
   "metadata": {},
   "outputs": [],
   "source": [
    "df =pd.read_csv('movies.csv', index_col='name')"
   ]
  },
  {
   "cell_type": "code",
   "execution_count": 12,
   "id": "e38e8c6c-39d8-40a2-9d5a-41f941ea27b4",
   "metadata": {},
   "outputs": [],
   "source": [
    "sorted_df = df.sort_values(by='budget')"
   ]
  },
  {
   "cell_type": "code",
   "execution_count": 13,
   "id": "343cb29c-7133-4065-a908-c5fa9a6c761c",
   "metadata": {},
   "outputs": [
    {
     "data": {
      "text/html": [
       "<div>\n",
       "<style scoped>\n",
       "    .dataframe tbody tr th:only-of-type {\n",
       "        vertical-align: middle;\n",
       "    }\n",
       "\n",
       "    .dataframe tbody tr th {\n",
       "        vertical-align: top;\n",
       "    }\n",
       "\n",
       "    .dataframe thead th {\n",
       "        text-align: right;\n",
       "    }\n",
       "</style>\n",
       "<table border=\"1\" class=\"dataframe\">\n",
       "  <thead>\n",
       "    <tr style=\"text-align: right;\">\n",
       "      <th></th>\n",
       "      <th>rating</th>\n",
       "      <th>genre</th>\n",
       "      <th>year</th>\n",
       "      <th>release_date</th>\n",
       "      <th>release_country</th>\n",
       "      <th>score</th>\n",
       "      <th>votes</th>\n",
       "      <th>director</th>\n",
       "      <th>writer</th>\n",
       "      <th>star</th>\n",
       "      <th>country</th>\n",
       "      <th>budget</th>\n",
       "      <th>gross</th>\n",
       "      <th>company</th>\n",
       "      <th>runtime</th>\n",
       "    </tr>\n",
       "    <tr>\n",
       "      <th>name</th>\n",
       "      <th></th>\n",
       "      <th></th>\n",
       "      <th></th>\n",
       "      <th></th>\n",
       "      <th></th>\n",
       "      <th></th>\n",
       "      <th></th>\n",
       "      <th></th>\n",
       "      <th></th>\n",
       "      <th></th>\n",
       "      <th></th>\n",
       "      <th></th>\n",
       "      <th></th>\n",
       "      <th></th>\n",
       "      <th></th>\n",
       "    </tr>\n",
       "  </thead>\n",
       "  <tbody>\n",
       "    <tr>\n",
       "      <th>A Polish Vampire in Burbank</th>\n",
       "      <td>Not Rated</td>\n",
       "      <td>Comedy</td>\n",
       "      <td>1983</td>\n",
       "      <td>October 31, 1983</td>\n",
       "      <td>United States</td>\n",
       "      <td>5.0</td>\n",
       "      <td>275.0</td>\n",
       "      <td>Mark Pirro</td>\n",
       "      <td>Mark Pirro</td>\n",
       "      <td>Mark Pirro</td>\n",
       "      <td>United States</td>\n",
       "      <td>3000.0</td>\n",
       "      <td>NaN</td>\n",
       "      <td>Pirromount Pictures</td>\n",
       "      <td>80.0</td>\n",
       "    </tr>\n",
       "    <tr>\n",
       "      <th>Black Wall Street Burning</th>\n",
       "      <td>R</td>\n",
       "      <td>Drama</td>\n",
       "      <td>2020</td>\n",
       "      <td>February 7, 2020</td>\n",
       "      <td>United States</td>\n",
       "      <td>6.6</td>\n",
       "      <td>35.0</td>\n",
       "      <td>Marcus Brown</td>\n",
       "      <td>Dekoven Riggins</td>\n",
       "      <td>Dan Belcher</td>\n",
       "      <td>United States</td>\n",
       "      <td>5000.0</td>\n",
       "      <td>NaN</td>\n",
       "      <td>Notis Studio</td>\n",
       "      <td>78.0</td>\n",
       "    </tr>\n",
       "    <tr>\n",
       "      <th>Following</th>\n",
       "      <td>R</td>\n",
       "      <td>Crime</td>\n",
       "      <td>1998</td>\n",
       "      <td>November 5, 1999</td>\n",
       "      <td>United Kingdom</td>\n",
       "      <td>7.5</td>\n",
       "      <td>89000.0</td>\n",
       "      <td>Christopher Nolan</td>\n",
       "      <td>Christopher Nolan</td>\n",
       "      <td>Jeremy Theobald</td>\n",
       "      <td>United Kingdom</td>\n",
       "      <td>6000.0</td>\n",
       "      <td>48482.0</td>\n",
       "      <td>Next Wave Films</td>\n",
       "      <td>69.0</td>\n",
       "    </tr>\n",
       "    <tr>\n",
       "      <th>El Mariachi</th>\n",
       "      <td>R</td>\n",
       "      <td>Action</td>\n",
       "      <td>1992</td>\n",
       "      <td>February 26, 1993</td>\n",
       "      <td>United States</td>\n",
       "      <td>6.9</td>\n",
       "      <td>64000.0</td>\n",
       "      <td>Robert Rodriguez</td>\n",
       "      <td>Robert Rodriguez</td>\n",
       "      <td>Carlos Gallardo</td>\n",
       "      <td>Mexico</td>\n",
       "      <td>7000.0</td>\n",
       "      <td>2040920.0</td>\n",
       "      <td>Columbia Pictures</td>\n",
       "      <td>81.0</td>\n",
       "    </tr>\n",
       "    <tr>\n",
       "      <th>Primer</th>\n",
       "      <td>PG-13</td>\n",
       "      <td>Drama</td>\n",
       "      <td>2004</td>\n",
       "      <td>May 27, 2005</td>\n",
       "      <td>Spain</td>\n",
       "      <td>6.9</td>\n",
       "      <td>101000.0</td>\n",
       "      <td>Shane Carruth</td>\n",
       "      <td>Shane Carruth</td>\n",
       "      <td>Shane Carruth</td>\n",
       "      <td>United States</td>\n",
       "      <td>7000.0</td>\n",
       "      <td>545436.0</td>\n",
       "      <td>ERBP</td>\n",
       "      <td>77.0</td>\n",
       "    </tr>\n",
       "  </tbody>\n",
       "</table>\n",
       "</div>"
      ],
      "text/plain": [
       "                                rating   genre  year       release_date  \\\n",
       "name                                                                      \n",
       "A Polish Vampire in Burbank  Not Rated  Comedy  1983   October 31, 1983   \n",
       "Black Wall Street Burning            R   Drama  2020   February 7, 2020   \n",
       "Following                            R   Crime  1998   November 5, 1999   \n",
       "El Mariachi                          R  Action  1992  February 26, 1993   \n",
       "Primer                           PG-13   Drama  2004       May 27, 2005   \n",
       "\n",
       "                            release_country  score     votes  \\\n",
       "name                                                           \n",
       "A Polish Vampire in Burbank   United States    5.0     275.0   \n",
       "Black Wall Street Burning     United States    6.6      35.0   \n",
       "Following                    United Kingdom    7.5   89000.0   \n",
       "El Mariachi                   United States    6.9   64000.0   \n",
       "Primer                                Spain    6.9  101000.0   \n",
       "\n",
       "                                      director             writer  \\\n",
       "name                                                                \n",
       "A Polish Vampire in Burbank         Mark Pirro         Mark Pirro   \n",
       "Black Wall Street Burning         Marcus Brown    Dekoven Riggins   \n",
       "Following                    Christopher Nolan  Christopher Nolan   \n",
       "El Mariachi                   Robert Rodriguez   Robert Rodriguez   \n",
       "Primer                           Shane Carruth      Shane Carruth   \n",
       "\n",
       "                                        star         country  budget  \\\n",
       "name                                                                   \n",
       "A Polish Vampire in Burbank       Mark Pirro   United States  3000.0   \n",
       "Black Wall Street Burning        Dan Belcher   United States  5000.0   \n",
       "Following                    Jeremy Theobald  United Kingdom  6000.0   \n",
       "El Mariachi                  Carlos Gallardo          Mexico  7000.0   \n",
       "Primer                         Shane Carruth   United States  7000.0   \n",
       "\n",
       "                                 gross              company  runtime  \n",
       "name                                                                  \n",
       "A Polish Vampire in Burbank        NaN  Pirromount Pictures     80.0  \n",
       "Black Wall Street Burning          NaN         Notis Studio     78.0  \n",
       "Following                      48482.0      Next Wave Films     69.0  \n",
       "El Mariachi                  2040920.0    Columbia Pictures     81.0  \n",
       "Primer                        545436.0                 ERBP     77.0  "
      ]
     },
     "execution_count": 13,
     "metadata": {},
     "output_type": "execute_result"
    }
   ],
   "source": [
    "sorted_df.head()"
   ]
  },
  {
   "cell_type": "code",
   "execution_count": null,
   "id": "452ccdfa-8ba4-422c-b117-7fdea8cd4bfa",
   "metadata": {},
   "outputs": [],
   "source": [
    "\n",
    "\n"
   ]
  },
  {
   "cell_type": "code",
   "execution_count": 16,
   "id": "28bdddf5-2bb0-41cb-a14d-2ee9b08ffd20",
   "metadata": {},
   "outputs": [],
   "source": [
    "sorted_df = df.sort_values(by='budget', ascending=False)"
   ]
  },
  {
   "cell_type": "code",
   "execution_count": 17,
   "id": "219143c4-777c-46ab-8103-b281da6e1b4d",
   "metadata": {},
   "outputs": [
    {
     "data": {
      "text/html": [
       "<div>\n",
       "<style scoped>\n",
       "    .dataframe tbody tr th:only-of-type {\n",
       "        vertical-align: middle;\n",
       "    }\n",
       "\n",
       "    .dataframe tbody tr th {\n",
       "        vertical-align: top;\n",
       "    }\n",
       "\n",
       "    .dataframe thead th {\n",
       "        text-align: right;\n",
       "    }\n",
       "</style>\n",
       "<table border=\"1\" class=\"dataframe\">\n",
       "  <thead>\n",
       "    <tr style=\"text-align: right;\">\n",
       "      <th></th>\n",
       "      <th>rating</th>\n",
       "      <th>genre</th>\n",
       "      <th>year</th>\n",
       "      <th>release_date</th>\n",
       "      <th>release_country</th>\n",
       "      <th>score</th>\n",
       "      <th>votes</th>\n",
       "      <th>director</th>\n",
       "      <th>writer</th>\n",
       "      <th>star</th>\n",
       "      <th>country</th>\n",
       "      <th>budget</th>\n",
       "      <th>gross</th>\n",
       "      <th>company</th>\n",
       "      <th>runtime</th>\n",
       "    </tr>\n",
       "    <tr>\n",
       "      <th>name</th>\n",
       "      <th></th>\n",
       "      <th></th>\n",
       "      <th></th>\n",
       "      <th></th>\n",
       "      <th></th>\n",
       "      <th></th>\n",
       "      <th></th>\n",
       "      <th></th>\n",
       "      <th></th>\n",
       "      <th></th>\n",
       "      <th></th>\n",
       "      <th></th>\n",
       "      <th></th>\n",
       "      <th></th>\n",
       "      <th></th>\n",
       "    </tr>\n",
       "  </thead>\n",
       "  <tbody>\n",
       "    <tr>\n",
       "      <th>Avengers: Endgame</th>\n",
       "      <td>PG-13</td>\n",
       "      <td>Action</td>\n",
       "      <td>2019</td>\n",
       "      <td>April 26, 2019</td>\n",
       "      <td>United States</td>\n",
       "      <td>8.4</td>\n",
       "      <td>903000.0</td>\n",
       "      <td>Anthony Russo</td>\n",
       "      <td>Christopher Markus</td>\n",
       "      <td>Robert Downey Jr.</td>\n",
       "      <td>United States</td>\n",
       "      <td>356000000.0</td>\n",
       "      <td>2.797501e+09</td>\n",
       "      <td>Marvel Studios</td>\n",
       "      <td>181.0</td>\n",
       "    </tr>\n",
       "    <tr>\n",
       "      <th>Avengers: Infinity War</th>\n",
       "      <td>PG-13</td>\n",
       "      <td>Action</td>\n",
       "      <td>2018</td>\n",
       "      <td>April 27, 2018</td>\n",
       "      <td>United States</td>\n",
       "      <td>8.4</td>\n",
       "      <td>897000.0</td>\n",
       "      <td>Anthony Russo</td>\n",
       "      <td>Christopher Markus</td>\n",
       "      <td>Robert Downey Jr.</td>\n",
       "      <td>United States</td>\n",
       "      <td>321000000.0</td>\n",
       "      <td>2.048360e+09</td>\n",
       "      <td>Marvel Studios</td>\n",
       "      <td>149.0</td>\n",
       "    </tr>\n",
       "    <tr>\n",
       "      <th>Star Wars: Episode VIII - The Last Jedi</th>\n",
       "      <td>PG-13</td>\n",
       "      <td>Action</td>\n",
       "      <td>2017</td>\n",
       "      <td>December 15, 2017</td>\n",
       "      <td>United States</td>\n",
       "      <td>7.0</td>\n",
       "      <td>581000.0</td>\n",
       "      <td>Rian Johnson</td>\n",
       "      <td>Rian Johnson</td>\n",
       "      <td>Daisy Ridley</td>\n",
       "      <td>United States</td>\n",
       "      <td>317000000.0</td>\n",
       "      <td>1.332699e+09</td>\n",
       "      <td>Walt Disney Pictures</td>\n",
       "      <td>152.0</td>\n",
       "    </tr>\n",
       "    <tr>\n",
       "      <th>Justice League</th>\n",
       "      <td>PG-13</td>\n",
       "      <td>Action</td>\n",
       "      <td>2017</td>\n",
       "      <td>November 17, 2017</td>\n",
       "      <td>United States</td>\n",
       "      <td>6.1</td>\n",
       "      <td>418000.0</td>\n",
       "      <td>Zack Snyder</td>\n",
       "      <td>Jerry Siegel</td>\n",
       "      <td>Ben Affleck</td>\n",
       "      <td>United States</td>\n",
       "      <td>300000000.0</td>\n",
       "      <td>6.579270e+08</td>\n",
       "      <td>Warner Bros.</td>\n",
       "      <td>120.0</td>\n",
       "    </tr>\n",
       "    <tr>\n",
       "      <th>Pirates of the Caribbean: at World's End</th>\n",
       "      <td>PG-13</td>\n",
       "      <td>Action</td>\n",
       "      <td>2007</td>\n",
       "      <td>May 25, 2007</td>\n",
       "      <td>United States</td>\n",
       "      <td>7.1</td>\n",
       "      <td>608000.0</td>\n",
       "      <td>Gore Verbinski</td>\n",
       "      <td>Ted Elliott</td>\n",
       "      <td>Johnny Depp</td>\n",
       "      <td>United States</td>\n",
       "      <td>300000000.0</td>\n",
       "      <td>9.609965e+08</td>\n",
       "      <td>Walt Disney Pictures</td>\n",
       "      <td>169.0</td>\n",
       "    </tr>\n",
       "  </tbody>\n",
       "</table>\n",
       "</div>"
      ],
      "text/plain": [
       "                                         rating   genre  year  \\\n",
       "name                                                            \n",
       "Avengers: Endgame                         PG-13  Action  2019   \n",
       "Avengers: Infinity War                    PG-13  Action  2018   \n",
       "Star Wars: Episode VIII - The Last Jedi   PG-13  Action  2017   \n",
       "Justice League                            PG-13  Action  2017   \n",
       "Pirates of the Caribbean: at World's End  PG-13  Action  2007   \n",
       "\n",
       "                                               release_date release_country  \\\n",
       "name                                                                          \n",
       "Avengers: Endgame                            April 26, 2019   United States   \n",
       "Avengers: Infinity War                       April 27, 2018   United States   \n",
       "Star Wars: Episode VIII - The Last Jedi   December 15, 2017   United States   \n",
       "Justice League                            November 17, 2017   United States   \n",
       "Pirates of the Caribbean: at World's End       May 25, 2007   United States   \n",
       "\n",
       "                                          score     votes        director  \\\n",
       "name                                                                        \n",
       "Avengers: Endgame                           8.4  903000.0   Anthony Russo   \n",
       "Avengers: Infinity War                      8.4  897000.0   Anthony Russo   \n",
       "Star Wars: Episode VIII - The Last Jedi     7.0  581000.0    Rian Johnson   \n",
       "Justice League                              6.1  418000.0     Zack Snyder   \n",
       "Pirates of the Caribbean: at World's End    7.1  608000.0  Gore Verbinski   \n",
       "\n",
       "                                                      writer  \\\n",
       "name                                                           \n",
       "Avengers: Endgame                         Christopher Markus   \n",
       "Avengers: Infinity War                    Christopher Markus   \n",
       "Star Wars: Episode VIII - The Last Jedi         Rian Johnson   \n",
       "Justice League                                  Jerry Siegel   \n",
       "Pirates of the Caribbean: at World's End         Ted Elliott   \n",
       "\n",
       "                                                       star        country  \\\n",
       "name                                                                         \n",
       "Avengers: Endgame                         Robert Downey Jr.  United States   \n",
       "Avengers: Infinity War                    Robert Downey Jr.  United States   \n",
       "Star Wars: Episode VIII - The Last Jedi        Daisy Ridley  United States   \n",
       "Justice League                                  Ben Affleck  United States   \n",
       "Pirates of the Caribbean: at World's End        Johnny Depp  United States   \n",
       "\n",
       "                                               budget         gross  \\\n",
       "name                                                                  \n",
       "Avengers: Endgame                         356000000.0  2.797501e+09   \n",
       "Avengers: Infinity War                    321000000.0  2.048360e+09   \n",
       "Star Wars: Episode VIII - The Last Jedi   317000000.0  1.332699e+09   \n",
       "Justice League                            300000000.0  6.579270e+08   \n",
       "Pirates of the Caribbean: at World's End  300000000.0  9.609965e+08   \n",
       "\n",
       "                                                       company  runtime  \n",
       "name                                                                     \n",
       "Avengers: Endgame                               Marvel Studios    181.0  \n",
       "Avengers: Infinity War                          Marvel Studios    149.0  \n",
       "Star Wars: Episode VIII - The Last Jedi   Walt Disney Pictures    152.0  \n",
       "Justice League                                    Warner Bros.    120.0  \n",
       "Pirates of the Caribbean: at World's End  Walt Disney Pictures    169.0  "
      ]
     },
     "execution_count": 17,
     "metadata": {},
     "output_type": "execute_result"
    }
   ],
   "source": [
    "sorted_df.head()"
   ]
  },
  {
   "cell_type": "code",
   "execution_count": null,
   "id": "5c36565c-c706-425c-b9f2-ae1cbd93e4df",
   "metadata": {},
   "outputs": [],
   "source": []
  },
  {
   "cell_type": "code",
   "execution_count": null,
   "id": "4a698f55-16e9-423b-8b2c-94b442a47f35",
   "metadata": {},
   "outputs": [],
   "source": []
  },
  {
   "cell_type": "code",
   "execution_count": 21,
   "id": "9b9ccb7c-dbc0-43ce-b197-5bc5ebb2e719",
   "metadata": {},
   "outputs": [
    {
     "data": {
      "text/html": [
       "<div>\n",
       "<style scoped>\n",
       "    .dataframe tbody tr th:only-of-type {\n",
       "        vertical-align: middle;\n",
       "    }\n",
       "\n",
       "    .dataframe tbody tr th {\n",
       "        vertical-align: top;\n",
       "    }\n",
       "\n",
       "    .dataframe thead th {\n",
       "        text-align: right;\n",
       "    }\n",
       "</style>\n",
       "<table border=\"1\" class=\"dataframe\">\n",
       "  <thead>\n",
       "    <tr style=\"text-align: right;\">\n",
       "      <th></th>\n",
       "      <th>budget</th>\n",
       "      <th>gross</th>\n",
       "    </tr>\n",
       "    <tr>\n",
       "      <th>name</th>\n",
       "      <th></th>\n",
       "      <th></th>\n",
       "    </tr>\n",
       "  </thead>\n",
       "  <tbody>\n",
       "    <tr>\n",
       "      <th>Avengers: Endgame</th>\n",
       "      <td>356000000.0</td>\n",
       "      <td>2.797501e+09</td>\n",
       "    </tr>\n",
       "    <tr>\n",
       "      <th>Avengers: Infinity War</th>\n",
       "      <td>321000000.0</td>\n",
       "      <td>2.048360e+09</td>\n",
       "    </tr>\n",
       "    <tr>\n",
       "      <th>Star Wars: Episode VIII - The Last Jedi</th>\n",
       "      <td>317000000.0</td>\n",
       "      <td>1.332699e+09</td>\n",
       "    </tr>\n",
       "    <tr>\n",
       "      <th>Justice League</th>\n",
       "      <td>300000000.0</td>\n",
       "      <td>6.579270e+08</td>\n",
       "    </tr>\n",
       "    <tr>\n",
       "      <th>Pirates of the Caribbean: at World's End</th>\n",
       "      <td>300000000.0</td>\n",
       "      <td>9.609965e+08</td>\n",
       "    </tr>\n",
       "  </tbody>\n",
       "</table>\n",
       "</div>"
      ],
      "text/plain": [
       "                                               budget         gross\n",
       "name                                                               \n",
       "Avengers: Endgame                         356000000.0  2.797501e+09\n",
       "Avengers: Infinity War                    321000000.0  2.048360e+09\n",
       "Star Wars: Episode VIII - The Last Jedi   317000000.0  1.332699e+09\n",
       "Justice League                            300000000.0  6.579270e+08\n",
       "Pirates of the Caribbean: at World's End  300000000.0  9.609965e+08"
      ]
     },
     "execution_count": 21,
     "metadata": {},
     "output_type": "execute_result"
    }
   ],
   "source": [
    "short_list = sorted_df[['budget', 'gross']]\n",
    "short_list.head()"
   ]
  },
  {
   "cell_type": "code",
   "execution_count": null,
   "id": "96bb06d1-ec0b-4351-97f0-0f11fe664b35",
   "metadata": {},
   "outputs": [],
   "source": []
  },
  {
   "cell_type": "code",
   "execution_count": null,
   "id": "b0f1150d-fc7f-4557-92df-40e885328668",
   "metadata": {},
   "outputs": [],
   "source": []
  },
  {
   "cell_type": "markdown",
   "id": "92e9499c-b713-4a8b-abef-acb14aeaa777",
   "metadata": {},
   "source": [
    "<h1>silcing</h1>"
   ]
  },
  {
   "cell_type": "code",
   "execution_count": 40,
   "id": "c6bc1dcd-3a2d-423f-b487-62d03ecb0ec6",
   "metadata": {},
   "outputs": [],
   "source": [
    "d = pd.read_csv('movies.csv', index_col=['name', 'score'])"
   ]
  },
  {
   "cell_type": "code",
   "execution_count": 41,
   "id": "a0da77c6-df0c-4990-9561-b8d0409bb28c",
   "metadata": {},
   "outputs": [
    {
     "data": {
      "text/html": [
       "<div>\n",
       "<style scoped>\n",
       "    .dataframe tbody tr th:only-of-type {\n",
       "        vertical-align: middle;\n",
       "    }\n",
       "\n",
       "    .dataframe tbody tr th {\n",
       "        vertical-align: top;\n",
       "    }\n",
       "\n",
       "    .dataframe thead th {\n",
       "        text-align: right;\n",
       "    }\n",
       "</style>\n",
       "<table border=\"1\" class=\"dataframe\">\n",
       "  <thead>\n",
       "    <tr style=\"text-align: right;\">\n",
       "      <th></th>\n",
       "      <th></th>\n",
       "      <th>rating</th>\n",
       "      <th>genre</th>\n",
       "      <th>year</th>\n",
       "      <th>release_date</th>\n",
       "      <th>release_country</th>\n",
       "      <th>votes</th>\n",
       "      <th>director</th>\n",
       "      <th>writer</th>\n",
       "      <th>star</th>\n",
       "      <th>country</th>\n",
       "      <th>budget</th>\n",
       "      <th>gross</th>\n",
       "      <th>company</th>\n",
       "      <th>runtime</th>\n",
       "    </tr>\n",
       "    <tr>\n",
       "      <th>name</th>\n",
       "      <th>score</th>\n",
       "      <th></th>\n",
       "      <th></th>\n",
       "      <th></th>\n",
       "      <th></th>\n",
       "      <th></th>\n",
       "      <th></th>\n",
       "      <th></th>\n",
       "      <th></th>\n",
       "      <th></th>\n",
       "      <th></th>\n",
       "      <th></th>\n",
       "      <th></th>\n",
       "      <th></th>\n",
       "      <th></th>\n",
       "    </tr>\n",
       "  </thead>\n",
       "  <tbody>\n",
       "    <tr>\n",
       "      <th>The Shining</th>\n",
       "      <th>8.4</th>\n",
       "      <td>R</td>\n",
       "      <td>Drama</td>\n",
       "      <td>1980</td>\n",
       "      <td>June 13, 1980</td>\n",
       "      <td>United States</td>\n",
       "      <td>927000.0</td>\n",
       "      <td>Stanley Kubrick</td>\n",
       "      <td>Stephen King</td>\n",
       "      <td>Jack Nicholson</td>\n",
       "      <td>United Kingdom</td>\n",
       "      <td>19000000.0</td>\n",
       "      <td>46998772.0</td>\n",
       "      <td>Warner Bros.</td>\n",
       "      <td>146.0</td>\n",
       "    </tr>\n",
       "    <tr>\n",
       "      <th>The Blue Lagoon</th>\n",
       "      <th>5.8</th>\n",
       "      <td>R</td>\n",
       "      <td>Adventure</td>\n",
       "      <td>1980</td>\n",
       "      <td>July 2, 1980</td>\n",
       "      <td>United States</td>\n",
       "      <td>65000.0</td>\n",
       "      <td>Randal Kleiser</td>\n",
       "      <td>Henry De Vere Stacpoole</td>\n",
       "      <td>Brooke Shields</td>\n",
       "      <td>United States</td>\n",
       "      <td>4500000.0</td>\n",
       "      <td>58853106.0</td>\n",
       "      <td>Columbia Pictures</td>\n",
       "      <td>104.0</td>\n",
       "    </tr>\n",
       "    <tr>\n",
       "      <th>Star Wars: Episode V - The Empire Strikes Back</th>\n",
       "      <th>8.7</th>\n",
       "      <td>PG</td>\n",
       "      <td>Action</td>\n",
       "      <td>1980</td>\n",
       "      <td>June 20, 1980</td>\n",
       "      <td>United States</td>\n",
       "      <td>1200000.0</td>\n",
       "      <td>Irvin Kershner</td>\n",
       "      <td>Leigh Brackett</td>\n",
       "      <td>Mark Hamill</td>\n",
       "      <td>United States</td>\n",
       "      <td>18000000.0</td>\n",
       "      <td>538375067.0</td>\n",
       "      <td>Lucasfilm</td>\n",
       "      <td>124.0</td>\n",
       "    </tr>\n",
       "    <tr>\n",
       "      <th>Airplane!</th>\n",
       "      <th>7.7</th>\n",
       "      <td>PG</td>\n",
       "      <td>Comedy</td>\n",
       "      <td>1980</td>\n",
       "      <td>July 2, 1980</td>\n",
       "      <td>United States</td>\n",
       "      <td>221000.0</td>\n",
       "      <td>Jim Abrahams</td>\n",
       "      <td>Jim Abrahams</td>\n",
       "      <td>Robert Hays</td>\n",
       "      <td>United States</td>\n",
       "      <td>3500000.0</td>\n",
       "      <td>83453539.0</td>\n",
       "      <td>Paramount Pictures</td>\n",
       "      <td>88.0</td>\n",
       "    </tr>\n",
       "    <tr>\n",
       "      <th>Caddyshack</th>\n",
       "      <th>7.3</th>\n",
       "      <td>R</td>\n",
       "      <td>Comedy</td>\n",
       "      <td>1980</td>\n",
       "      <td>July 25, 1980</td>\n",
       "      <td>United States</td>\n",
       "      <td>108000.0</td>\n",
       "      <td>Harold Ramis</td>\n",
       "      <td>Brian Doyle-Murray</td>\n",
       "      <td>Chevy Chase</td>\n",
       "      <td>United States</td>\n",
       "      <td>6000000.0</td>\n",
       "      <td>39846344.0</td>\n",
       "      <td>Orion Pictures</td>\n",
       "      <td>98.0</td>\n",
       "    </tr>\n",
       "    <tr>\n",
       "      <th>Friday the 13th</th>\n",
       "      <th>6.4</th>\n",
       "      <td>R</td>\n",
       "      <td>Horror</td>\n",
       "      <td>1980</td>\n",
       "      <td>May 9, 1980</td>\n",
       "      <td>United States</td>\n",
       "      <td>123000.0</td>\n",
       "      <td>Sean S. Cunningham</td>\n",
       "      <td>Victor Miller</td>\n",
       "      <td>Betsy Palmer</td>\n",
       "      <td>United States</td>\n",
       "      <td>550000.0</td>\n",
       "      <td>39754601.0</td>\n",
       "      <td>Paramount Pictures</td>\n",
       "      <td>95.0</td>\n",
       "    </tr>\n",
       "    <tr>\n",
       "      <th>The Blues Brothers</th>\n",
       "      <th>7.9</th>\n",
       "      <td>R</td>\n",
       "      <td>Action</td>\n",
       "      <td>1980</td>\n",
       "      <td>June 20, 1980</td>\n",
       "      <td>United States</td>\n",
       "      <td>188000.0</td>\n",
       "      <td>John Landis</td>\n",
       "      <td>Dan Aykroyd</td>\n",
       "      <td>John Belushi</td>\n",
       "      <td>United States</td>\n",
       "      <td>27000000.0</td>\n",
       "      <td>115229890.0</td>\n",
       "      <td>Universal Pictures</td>\n",
       "      <td>133.0</td>\n",
       "    </tr>\n",
       "    <tr>\n",
       "      <th>Raging Bull</th>\n",
       "      <th>8.2</th>\n",
       "      <td>R</td>\n",
       "      <td>Biography</td>\n",
       "      <td>1980</td>\n",
       "      <td>December 19, 1980</td>\n",
       "      <td>United States</td>\n",
       "      <td>330000.0</td>\n",
       "      <td>Martin Scorsese</td>\n",
       "      <td>Jake LaMotta</td>\n",
       "      <td>Robert De Niro</td>\n",
       "      <td>United States</td>\n",
       "      <td>18000000.0</td>\n",
       "      <td>23402427.0</td>\n",
       "      <td>Chartoff-Winkler Productions</td>\n",
       "      <td>129.0</td>\n",
       "    </tr>\n",
       "    <tr>\n",
       "      <th>Superman II</th>\n",
       "      <th>6.8</th>\n",
       "      <td>PG</td>\n",
       "      <td>Action</td>\n",
       "      <td>1980</td>\n",
       "      <td>June 19, 1981</td>\n",
       "      <td>United States</td>\n",
       "      <td>101000.0</td>\n",
       "      <td>Richard Lester</td>\n",
       "      <td>Jerry Siegel</td>\n",
       "      <td>Gene Hackman</td>\n",
       "      <td>United States</td>\n",
       "      <td>54000000.0</td>\n",
       "      <td>108185706.0</td>\n",
       "      <td>Dovemead Films</td>\n",
       "      <td>127.0</td>\n",
       "    </tr>\n",
       "    <tr>\n",
       "      <th>The Long Riders</th>\n",
       "      <th>7.0</th>\n",
       "      <td>R</td>\n",
       "      <td>Biography</td>\n",
       "      <td>1980</td>\n",
       "      <td>May 16, 1980</td>\n",
       "      <td>United States</td>\n",
       "      <td>10000.0</td>\n",
       "      <td>Walter Hill</td>\n",
       "      <td>Bill Bryden</td>\n",
       "      <td>David Carradine</td>\n",
       "      <td>United States</td>\n",
       "      <td>10000000.0</td>\n",
       "      <td>15795189.0</td>\n",
       "      <td>United Artists</td>\n",
       "      <td>100.0</td>\n",
       "    </tr>\n",
       "  </tbody>\n",
       "</table>\n",
       "</div>"
      ],
      "text/plain": [
       "                                                     rating      genre  year  \\\n",
       "name                                           score                           \n",
       "The Shining                                    8.4        R      Drama  1980   \n",
       "The Blue Lagoon                                5.8        R  Adventure  1980   \n",
       "Star Wars: Episode V - The Empire Strikes Back 8.7       PG     Action  1980   \n",
       "Airplane!                                      7.7       PG     Comedy  1980   \n",
       "Caddyshack                                     7.3        R     Comedy  1980   \n",
       "Friday the 13th                                6.4        R     Horror  1980   \n",
       "The Blues Brothers                             7.9        R     Action  1980   \n",
       "Raging Bull                                    8.2        R  Biography  1980   \n",
       "Superman II                                    6.8       PG     Action  1980   \n",
       "The Long Riders                                7.0        R  Biography  1980   \n",
       "\n",
       "                                                           release_date  \\\n",
       "name                                           score                      \n",
       "The Shining                                    8.4        June 13, 1980   \n",
       "The Blue Lagoon                                5.8         July 2, 1980   \n",
       "Star Wars: Episode V - The Empire Strikes Back 8.7        June 20, 1980   \n",
       "Airplane!                                      7.7         July 2, 1980   \n",
       "Caddyshack                                     7.3        July 25, 1980   \n",
       "Friday the 13th                                6.4          May 9, 1980   \n",
       "The Blues Brothers                             7.9        June 20, 1980   \n",
       "Raging Bull                                    8.2    December 19, 1980   \n",
       "Superman II                                    6.8        June 19, 1981   \n",
       "The Long Riders                                7.0         May 16, 1980   \n",
       "\n",
       "                                                     release_country  \\\n",
       "name                                           score                   \n",
       "The Shining                                    8.4     United States   \n",
       "The Blue Lagoon                                5.8     United States   \n",
       "Star Wars: Episode V - The Empire Strikes Back 8.7     United States   \n",
       "Airplane!                                      7.7     United States   \n",
       "Caddyshack                                     7.3     United States   \n",
       "Friday the 13th                                6.4     United States   \n",
       "The Blues Brothers                             7.9     United States   \n",
       "Raging Bull                                    8.2     United States   \n",
       "Superman II                                    6.8     United States   \n",
       "The Long Riders                                7.0     United States   \n",
       "\n",
       "                                                          votes  \\\n",
       "name                                           score              \n",
       "The Shining                                    8.4     927000.0   \n",
       "The Blue Lagoon                                5.8      65000.0   \n",
       "Star Wars: Episode V - The Empire Strikes Back 8.7    1200000.0   \n",
       "Airplane!                                      7.7     221000.0   \n",
       "Caddyshack                                     7.3     108000.0   \n",
       "Friday the 13th                                6.4     123000.0   \n",
       "The Blues Brothers                             7.9     188000.0   \n",
       "Raging Bull                                    8.2     330000.0   \n",
       "Superman II                                    6.8     101000.0   \n",
       "The Long Riders                                7.0      10000.0   \n",
       "\n",
       "                                                                director  \\\n",
       "name                                           score                       \n",
       "The Shining                                    8.4       Stanley Kubrick   \n",
       "The Blue Lagoon                                5.8        Randal Kleiser   \n",
       "Star Wars: Episode V - The Empire Strikes Back 8.7        Irvin Kershner   \n",
       "Airplane!                                      7.7          Jim Abrahams   \n",
       "Caddyshack                                     7.3          Harold Ramis   \n",
       "Friday the 13th                                6.4    Sean S. Cunningham   \n",
       "The Blues Brothers                             7.9           John Landis   \n",
       "Raging Bull                                    8.2       Martin Scorsese   \n",
       "Superman II                                    6.8        Richard Lester   \n",
       "The Long Riders                                7.0           Walter Hill   \n",
       "\n",
       "                                                                       writer  \\\n",
       "name                                           score                            \n",
       "The Shining                                    8.4               Stephen King   \n",
       "The Blue Lagoon                                5.8    Henry De Vere Stacpoole   \n",
       "Star Wars: Episode V - The Empire Strikes Back 8.7             Leigh Brackett   \n",
       "Airplane!                                      7.7               Jim Abrahams   \n",
       "Caddyshack                                     7.3         Brian Doyle-Murray   \n",
       "Friday the 13th                                6.4              Victor Miller   \n",
       "The Blues Brothers                             7.9                Dan Aykroyd   \n",
       "Raging Bull                                    8.2               Jake LaMotta   \n",
       "Superman II                                    6.8               Jerry Siegel   \n",
       "The Long Riders                                7.0                Bill Bryden   \n",
       "\n",
       "                                                                 star  \\\n",
       "name                                           score                    \n",
       "The Shining                                    8.4     Jack Nicholson   \n",
       "The Blue Lagoon                                5.8     Brooke Shields   \n",
       "Star Wars: Episode V - The Empire Strikes Back 8.7        Mark Hamill   \n",
       "Airplane!                                      7.7        Robert Hays   \n",
       "Caddyshack                                     7.3        Chevy Chase   \n",
       "Friday the 13th                                6.4       Betsy Palmer   \n",
       "The Blues Brothers                             7.9       John Belushi   \n",
       "Raging Bull                                    8.2     Robert De Niro   \n",
       "Superman II                                    6.8       Gene Hackman   \n",
       "The Long Riders                                7.0    David Carradine   \n",
       "\n",
       "                                                             country  \\\n",
       "name                                           score                   \n",
       "The Shining                                    8.4    United Kingdom   \n",
       "The Blue Lagoon                                5.8     United States   \n",
       "Star Wars: Episode V - The Empire Strikes Back 8.7     United States   \n",
       "Airplane!                                      7.7     United States   \n",
       "Caddyshack                                     7.3     United States   \n",
       "Friday the 13th                                6.4     United States   \n",
       "The Blues Brothers                             7.9     United States   \n",
       "Raging Bull                                    8.2     United States   \n",
       "Superman II                                    6.8     United States   \n",
       "The Long Riders                                7.0     United States   \n",
       "\n",
       "                                                          budget        gross  \\\n",
       "name                                           score                            \n",
       "The Shining                                    8.4    19000000.0   46998772.0   \n",
       "The Blue Lagoon                                5.8     4500000.0   58853106.0   \n",
       "Star Wars: Episode V - The Empire Strikes Back 8.7    18000000.0  538375067.0   \n",
       "Airplane!                                      7.7     3500000.0   83453539.0   \n",
       "Caddyshack                                     7.3     6000000.0   39846344.0   \n",
       "Friday the 13th                                6.4      550000.0   39754601.0   \n",
       "The Blues Brothers                             7.9    27000000.0  115229890.0   \n",
       "Raging Bull                                    8.2    18000000.0   23402427.0   \n",
       "Superman II                                    6.8    54000000.0  108185706.0   \n",
       "The Long Riders                                7.0    10000000.0   15795189.0   \n",
       "\n",
       "                                                                           company  \\\n",
       "name                                           score                                 \n",
       "The Shining                                    8.4                    Warner Bros.   \n",
       "The Blue Lagoon                                5.8               Columbia Pictures   \n",
       "Star Wars: Episode V - The Empire Strikes Back 8.7                       Lucasfilm   \n",
       "Airplane!                                      7.7              Paramount Pictures   \n",
       "Caddyshack                                     7.3                  Orion Pictures   \n",
       "Friday the 13th                                6.4              Paramount Pictures   \n",
       "The Blues Brothers                             7.9              Universal Pictures   \n",
       "Raging Bull                                    8.2    Chartoff-Winkler Productions   \n",
       "Superman II                                    6.8                  Dovemead Films   \n",
       "The Long Riders                                7.0                  United Artists   \n",
       "\n",
       "                                                      runtime  \n",
       "name                                           score           \n",
       "The Shining                                    8.4      146.0  \n",
       "The Blue Lagoon                                5.8      104.0  \n",
       "Star Wars: Episode V - The Empire Strikes Back 8.7      124.0  \n",
       "Airplane!                                      7.7       88.0  \n",
       "Caddyshack                                     7.3       98.0  \n",
       "Friday the 13th                                6.4       95.0  \n",
       "The Blues Brothers                             7.9      133.0  \n",
       "Raging Bull                                    8.2      129.0  \n",
       "Superman II                                    6.8      127.0  \n",
       "The Long Riders                                7.0      100.0  "
      ]
     },
     "execution_count": 41,
     "metadata": {},
     "output_type": "execute_result"
    }
   ],
   "source": [
    "d.head(10)"
   ]
  },
  {
   "cell_type": "code",
   "execution_count": 42,
   "id": "9cc604e3-6300-4577-8165-2f8a8365f156",
   "metadata": {},
   "outputs": [
    {
     "data": {
      "text/html": [
       "<div>\n",
       "<style scoped>\n",
       "    .dataframe tbody tr th:only-of-type {\n",
       "        vertical-align: middle;\n",
       "    }\n",
       "\n",
       "    .dataframe tbody tr th {\n",
       "        vertical-align: top;\n",
       "    }\n",
       "\n",
       "    .dataframe thead th {\n",
       "        text-align: right;\n",
       "    }\n",
       "</style>\n",
       "<table border=\"1\" class=\"dataframe\">\n",
       "  <thead>\n",
       "    <tr style=\"text-align: right;\">\n",
       "      <th></th>\n",
       "      <th>rating</th>\n",
       "      <th>genre</th>\n",
       "      <th>year</th>\n",
       "      <th>release_date</th>\n",
       "      <th>release_country</th>\n",
       "      <th>score</th>\n",
       "      <th>votes</th>\n",
       "      <th>director</th>\n",
       "      <th>writer</th>\n",
       "      <th>star</th>\n",
       "      <th>country</th>\n",
       "      <th>budget</th>\n",
       "      <th>gross</th>\n",
       "      <th>company</th>\n",
       "      <th>runtime</th>\n",
       "    </tr>\n",
       "    <tr>\n",
       "      <th>name</th>\n",
       "      <th></th>\n",
       "      <th></th>\n",
       "      <th></th>\n",
       "      <th></th>\n",
       "      <th></th>\n",
       "      <th></th>\n",
       "      <th></th>\n",
       "      <th></th>\n",
       "      <th></th>\n",
       "      <th></th>\n",
       "      <th></th>\n",
       "      <th></th>\n",
       "      <th></th>\n",
       "      <th></th>\n",
       "      <th></th>\n",
       "    </tr>\n",
       "  </thead>\n",
       "  <tbody>\n",
       "    <tr>\n",
       "      <th>The Shining</th>\n",
       "      <td>R</td>\n",
       "      <td>Drama</td>\n",
       "      <td>1980</td>\n",
       "      <td>June 13, 1980</td>\n",
       "      <td>United States</td>\n",
       "      <td>8.4</td>\n",
       "      <td>927000.0</td>\n",
       "      <td>Stanley Kubrick</td>\n",
       "      <td>Stephen King</td>\n",
       "      <td>Jack Nicholson</td>\n",
       "      <td>United Kingdom</td>\n",
       "      <td>19000000.0</td>\n",
       "      <td>46998772.0</td>\n",
       "      <td>Warner Bros.</td>\n",
       "      <td>146.0</td>\n",
       "    </tr>\n",
       "    <tr>\n",
       "      <th>The Blue Lagoon</th>\n",
       "      <td>R</td>\n",
       "      <td>Adventure</td>\n",
       "      <td>1980</td>\n",
       "      <td>July 2, 1980</td>\n",
       "      <td>United States</td>\n",
       "      <td>5.8</td>\n",
       "      <td>65000.0</td>\n",
       "      <td>Randal Kleiser</td>\n",
       "      <td>Henry De Vere Stacpoole</td>\n",
       "      <td>Brooke Shields</td>\n",
       "      <td>United States</td>\n",
       "      <td>4500000.0</td>\n",
       "      <td>58853106.0</td>\n",
       "      <td>Columbia Pictures</td>\n",
       "      <td>104.0</td>\n",
       "    </tr>\n",
       "    <tr>\n",
       "      <th>Star Wars: Episode V - The Empire Strikes Back</th>\n",
       "      <td>PG</td>\n",
       "      <td>Action</td>\n",
       "      <td>1980</td>\n",
       "      <td>June 20, 1980</td>\n",
       "      <td>United States</td>\n",
       "      <td>8.7</td>\n",
       "      <td>1200000.0</td>\n",
       "      <td>Irvin Kershner</td>\n",
       "      <td>Leigh Brackett</td>\n",
       "      <td>Mark Hamill</td>\n",
       "      <td>United States</td>\n",
       "      <td>18000000.0</td>\n",
       "      <td>538375067.0</td>\n",
       "      <td>Lucasfilm</td>\n",
       "      <td>124.0</td>\n",
       "    </tr>\n",
       "    <tr>\n",
       "      <th>Airplane!</th>\n",
       "      <td>PG</td>\n",
       "      <td>Comedy</td>\n",
       "      <td>1980</td>\n",
       "      <td>July 2, 1980</td>\n",
       "      <td>United States</td>\n",
       "      <td>7.7</td>\n",
       "      <td>221000.0</td>\n",
       "      <td>Jim Abrahams</td>\n",
       "      <td>Jim Abrahams</td>\n",
       "      <td>Robert Hays</td>\n",
       "      <td>United States</td>\n",
       "      <td>3500000.0</td>\n",
       "      <td>83453539.0</td>\n",
       "      <td>Paramount Pictures</td>\n",
       "      <td>88.0</td>\n",
       "    </tr>\n",
       "    <tr>\n",
       "      <th>Caddyshack</th>\n",
       "      <td>R</td>\n",
       "      <td>Comedy</td>\n",
       "      <td>1980</td>\n",
       "      <td>July 25, 1980</td>\n",
       "      <td>United States</td>\n",
       "      <td>7.3</td>\n",
       "      <td>108000.0</td>\n",
       "      <td>Harold Ramis</td>\n",
       "      <td>Brian Doyle-Murray</td>\n",
       "      <td>Chevy Chase</td>\n",
       "      <td>United States</td>\n",
       "      <td>6000000.0</td>\n",
       "      <td>39846344.0</td>\n",
       "      <td>Orion Pictures</td>\n",
       "      <td>98.0</td>\n",
       "    </tr>\n",
       "  </tbody>\n",
       "</table>\n",
       "</div>"
      ],
      "text/plain": [
       "                                               rating      genre  year  \\\n",
       "name                                                                     \n",
       "The Shining                                         R      Drama  1980   \n",
       "The Blue Lagoon                                     R  Adventure  1980   \n",
       "Star Wars: Episode V - The Empire Strikes Back     PG     Action  1980   \n",
       "Airplane!                                          PG     Comedy  1980   \n",
       "Caddyshack                                          R     Comedy  1980   \n",
       "\n",
       "                                                 release_date release_country  \\\n",
       "name                                                                            \n",
       "The Shining                                     June 13, 1980   United States   \n",
       "The Blue Lagoon                                  July 2, 1980   United States   \n",
       "Star Wars: Episode V - The Empire Strikes Back  June 20, 1980   United States   \n",
       "Airplane!                                        July 2, 1980   United States   \n",
       "Caddyshack                                      July 25, 1980   United States   \n",
       "\n",
       "                                                score      votes  \\\n",
       "name                                                               \n",
       "The Shining                                       8.4   927000.0   \n",
       "The Blue Lagoon                                   5.8    65000.0   \n",
       "Star Wars: Episode V - The Empire Strikes Back    8.7  1200000.0   \n",
       "Airplane!                                         7.7   221000.0   \n",
       "Caddyshack                                        7.3   108000.0   \n",
       "\n",
       "                                                       director  \\\n",
       "name                                                              \n",
       "The Shining                                     Stanley Kubrick   \n",
       "The Blue Lagoon                                  Randal Kleiser   \n",
       "Star Wars: Episode V - The Empire Strikes Back   Irvin Kershner   \n",
       "Airplane!                                          Jim Abrahams   \n",
       "Caddyshack                                         Harold Ramis   \n",
       "\n",
       "                                                                 writer  \\\n",
       "name                                                                      \n",
       "The Shining                                                Stephen King   \n",
       "The Blue Lagoon                                 Henry De Vere Stacpoole   \n",
       "Star Wars: Episode V - The Empire Strikes Back           Leigh Brackett   \n",
       "Airplane!                                                  Jim Abrahams   \n",
       "Caddyshack                                           Brian Doyle-Murray   \n",
       "\n",
       "                                                          star  \\\n",
       "name                                                             \n",
       "The Shining                                     Jack Nicholson   \n",
       "The Blue Lagoon                                 Brooke Shields   \n",
       "Star Wars: Episode V - The Empire Strikes Back     Mark Hamill   \n",
       "Airplane!                                          Robert Hays   \n",
       "Caddyshack                                         Chevy Chase   \n",
       "\n",
       "                                                       country      budget  \\\n",
       "name                                                                         \n",
       "The Shining                                     United Kingdom  19000000.0   \n",
       "The Blue Lagoon                                  United States   4500000.0   \n",
       "Star Wars: Episode V - The Empire Strikes Back   United States  18000000.0   \n",
       "Airplane!                                        United States   3500000.0   \n",
       "Caddyshack                                       United States   6000000.0   \n",
       "\n",
       "                                                      gross  \\\n",
       "name                                                          \n",
       "The Shining                                      46998772.0   \n",
       "The Blue Lagoon                                  58853106.0   \n",
       "Star Wars: Episode V - The Empire Strikes Back  538375067.0   \n",
       "Airplane!                                        83453539.0   \n",
       "Caddyshack                                       39846344.0   \n",
       "\n",
       "                                                           company  runtime  \n",
       "name                                                                         \n",
       "The Shining                                           Warner Bros.    146.0  \n",
       "The Blue Lagoon                                  Columbia Pictures    104.0  \n",
       "Star Wars: Episode V - The Empire Strikes Back           Lucasfilm    124.0  \n",
       "Airplane!                                       Paramount Pictures     88.0  \n",
       "Caddyshack                                          Orion Pictures     98.0  "
      ]
     },
     "execution_count": 42,
     "metadata": {},
     "output_type": "execute_result"
    }
   ],
   "source": [
    "df.loc['The Shining' : 'Caddyshack']"
   ]
  },
  {
   "cell_type": "code",
   "execution_count": null,
   "id": "b92c5539-c224-44fb-ae98-294e824f05b1",
   "metadata": {},
   "outputs": [],
   "source": []
  },
  {
   "cell_type": "markdown",
   "id": "f1d4067a-2401-426e-bcf3-d2af14c6ef1e",
   "metadata": {},
   "source": [
    "<h1>some columns</h1>"
   ]
  },
  {
   "cell_type": "code",
   "execution_count": 55,
   "id": "1db40d84-e431-4676-995a-f59469afe86c",
   "metadata": {},
   "outputs": [],
   "source": [
    "df = pd .read_csv('movies.csv', index_col='name')\n",
    "some_columns=df[['gross', 'score']]"
   ]
  },
  {
   "cell_type": "code",
   "execution_count": 56,
   "id": "ca02d659-2efa-447e-bcf6-d3894274625a",
   "metadata": {},
   "outputs": [
    {
     "data": {
      "text/plain": [
       "pandas.core.frame.DataFrame"
      ]
     },
     "execution_count": 56,
     "metadata": {},
     "output_type": "execute_result"
    }
   ],
   "source": [
    "type(some_columns)"
   ]
  },
  {
   "cell_type": "code",
   "execution_count": null,
   "id": "23170b53-5e7c-4d31-a4bd-2645ba52feee",
   "metadata": {},
   "outputs": [],
   "source": [
    "# khod name tush hast"
   ]
  },
  {
   "cell_type": "code",
   "execution_count": null,
   "id": "6f37af3a-37fd-4b68-9850-cd67acff07ea",
   "metadata": {},
   "outputs": [],
   "source": []
  },
  {
   "cell_type": "code",
   "execution_count": null,
   "id": "3946d2e7-9673-4c35-9325-98453708ff61",
   "metadata": {},
   "outputs": [],
   "source": []
  },
  {
   "cell_type": "markdown",
   "id": "c769ccf4-46b9-4bcb-b900-57ba208b48d6",
   "metadata": {},
   "source": [
    "<h1>series</h1>"
   ]
  },
  {
   "cell_type": "markdown",
   "id": "b17a4209-c62a-4b6a-9620-170cb4f8f2c0",
   "metadata": {},
   "source": [
    "<p>\n",
    "    Series\n",
    "A Series is the data structure that represents one column of a DataFrame. SAS doesn’t have a separate data structure for a single column, but in general, working with a Series is analogous to referencing a column in the DATA step.\n",
    "\n",
    "Series\n",
    "Series is a one-dimensional labeled array capable of holding any data type (integers, strings, floating point numbers, Python objects, etc.). The axis labels are collectively referred to as the index. The basic method to create a Series is to call:\n",
    "\n",
    "s = pd.Series(data, index=index)\n",
    "</p>"
   ]
  },
  {
   "cell_type": "code",
   "execution_count": 117,
   "id": "3c39717f-96e7-4e01-a99c-997051fd4c18",
   "metadata": {},
   "outputs": [],
   "source": [
    "# mesle inke az har iterable mishe sakht\n",
    "# as iek string nemishe, iany mishe vali un string ro ie value dar nazar migire ke be mafhume\n",
    "# iterable sazgari nadare chon baiad har harf ro dar nazar migereft"
   ]
  },
  {
   "cell_type": "markdown",
   "id": "1ec89339-8dfc-48c4-b52e-86eba7ae08da",
   "metadata": {},
   "source": [
    "fargh ba dict\n",
    "<ul>\n",
    "    <li>tartib vorud moheme</li>\n",
    "    <li>mitune index tekrari dashte bashe</li>\n",
    "    <li>ba moshakhas kardan dtype kar tpdil dade ro ham anjam mide</li>\n",
    "</ul>"
   ]
  },
  {
   "cell_type": "code",
   "execution_count": null,
   "id": "2d4310e0-d404-43f6-a4d0-7026505019cc",
   "metadata": {},
   "outputs": [],
   "source": []
  },
  {
   "cell_type": "code",
   "execution_count": 57,
   "id": "aabf7b26-5f65-401a-bd76-c86b2d83f6be",
   "metadata": {},
   "outputs": [],
   "source": [
    "sr= df['score']"
   ]
  },
  {
   "cell_type": "code",
   "execution_count": 58,
   "id": "5217b862-49fe-4952-b59d-3b902d4a023b",
   "metadata": {},
   "outputs": [
    {
     "data": {
      "text/plain": [
       "pandas.core.series.Series"
      ]
     },
     "execution_count": 58,
     "metadata": {},
     "output_type": "execute_result"
    }
   ],
   "source": [
    "type (sr)"
   ]
  },
  {
   "cell_type": "code",
   "execution_count": 59,
   "id": "5b133fb6-5efa-40bc-bdfd-ee27de5aaf9d",
   "metadata": {},
   "outputs": [
    {
     "data": {
      "text/plain": [
       "name\n",
       "The Shining                                       8.4\n",
       "The Blue Lagoon                                   5.8\n",
       "Star Wars: Episode V - The Empire Strikes Back    8.7\n",
       "Airplane!                                         7.7\n",
       "Caddyshack                                        7.3\n",
       "Name: score, dtype: float64"
      ]
     },
     "execution_count": 59,
     "metadata": {},
     "output_type": "execute_result"
    }
   ],
   "source": [
    "sr.head()"
   ]
  },
  {
   "cell_type": "code",
   "execution_count": null,
   "id": "99048589-70aa-4291-8849-18539f1756ee",
   "metadata": {},
   "outputs": [],
   "source": []
  },
  {
   "cell_type": "code",
   "execution_count": 77,
   "id": "7b549b1b-9ceb-4624-adeb-2657acf2c745",
   "metadata": {},
   "outputs": [],
   "source": [
    "sr3 = df.score\n",
    "# age esme sotun fasele nadashte bashe ia jozve kalamt reserve shode nabashe mishe ba dot (.)\n",
    "# ham behesh dastresi peida kard\n",
    "# vali hamun [] motavel tar o safe tare"
   ]
  },
  {
   "cell_type": "code",
   "execution_count": 79,
   "id": "02ef6f55-e164-4a1a-9fbf-a0ee81c9eded",
   "metadata": {},
   "outputs": [
    {
     "data": {
      "text/plain": [
       "pandas.core.series.Series"
      ]
     },
     "execution_count": 79,
     "metadata": {},
     "output_type": "execute_result"
    }
   ],
   "source": [
    "type(sr3)"
   ]
  },
  {
   "cell_type": "code",
   "execution_count": null,
   "id": "9a420f1c-5948-4878-81bc-bb8fc32c7ed3",
   "metadata": {},
   "outputs": [],
   "source": []
  },
  {
   "cell_type": "code",
   "execution_count": 67,
   "id": "1a477cc5-5b1a-4334-a1b1-a8259ed8b9a4",
   "metadata": {},
   "outputs": [],
   "source": [
    "sr2 = df.iloc[0]"
   ]
  },
  {
   "cell_type": "code",
   "execution_count": 68,
   "id": "b181b4b9-2cfa-485d-9a22-52a9ce88c9ea",
   "metadata": {},
   "outputs": [
    {
     "data": {
      "text/plain": [
       "pandas.core.series.Series"
      ]
     },
     "execution_count": 68,
     "metadata": {},
     "output_type": "execute_result"
    }
   ],
   "source": [
    "type(sr2)"
   ]
  },
  {
   "cell_type": "raw",
   "id": "8817d672-9c09-492e-a1a7-97d1d94256fc",
   "metadata": {},
   "source": []
  },
  {
   "cell_type": "code",
   "execution_count": null,
   "id": "b09226df-4336-47fc-baa5-4df5b7bf50e1",
   "metadata": {},
   "outputs": [],
   "source": []
  },
  {
   "cell_type": "markdown",
   "id": "5fdea7c8-4bb2-437c-af6e-7b81647a8992",
   "metadata": {},
   "source": [
    "<h1>series.value_counts()</h1>"
   ]
  },
  {
   "cell_type": "code",
   "execution_count": 62,
   "id": "18d51223-ec06-4734-8219-e9a49c22f6aa",
   "metadata": {},
   "outputs": [
    {
     "data": {
      "text/plain": [
       "score\n",
       "6.6    359\n",
       "6.4    351\n",
       "6.2    346\n",
       "6.7    332\n",
       "6.5    331\n",
       "      ... \n",
       "2.8      2\n",
       "9.3      1\n",
       "2.6      1\n",
       "2.3      1\n",
       "9.0      1\n",
       "Name: count, Length: 72, dtype: int64"
      ]
     },
     "execution_count": 62,
     "metadata": {},
     "output_type": "execute_result"
    }
   ],
   "source": [
    "sr.value_counts()"
   ]
  },
  {
   "cell_type": "code",
   "execution_count": null,
   "id": "8c2b8944-333a-479a-80f8-0c2e68ae49a2",
   "metadata": {},
   "outputs": [],
   "source": []
  },
  {
   "cell_type": "code",
   "execution_count": null,
   "id": "99284e68-89f3-4294-ae54-f5327cc005b9",
   "metadata": {},
   "outputs": [],
   "source": []
  },
  {
   "cell_type": "code",
   "execution_count": 69,
   "id": "b59d6489-0d07-4aa9-90a4-ff842c0f09e4",
   "metadata": {},
   "outputs": [
    {
     "data": {
      "text/plain": [
       "The Shining\n",
       "R                  1\n",
       "Drama              1\n",
       "1980               1\n",
       "June 13, 1980      1\n",
       "United States      1\n",
       "8.4                1\n",
       "927000.0           1\n",
       "Stanley Kubrick    1\n",
       "Stephen King       1\n",
       "Jack Nicholson     1\n",
       "United Kingdom     1\n",
       "19000000.0         1\n",
       "46998772.0         1\n",
       "Warner Bros.       1\n",
       "146.0              1\n",
       "Name: count, dtype: int64"
      ]
     },
     "execution_count": 69,
     "metadata": {},
     "output_type": "execute_result"
    }
   ],
   "source": [
    "sr2.value_counts() "
   ]
  },
  {
   "cell_type": "code",
   "execution_count": null,
   "id": "3ec4e6af-9cb7-4dd1-9fff-e5d6bc0e073d",
   "metadata": {},
   "outputs": [],
   "source": []
  },
  {
   "cell_type": "code",
   "execution_count": null,
   "id": "10c4bd2c-117e-4e21-9074-e1632a5b728b",
   "metadata": {},
   "outputs": [],
   "source": []
  },
  {
   "cell_type": "code",
   "execution_count": null,
   "id": "3aba0e80-512f-4ace-9f7f-4ed974f5628e",
   "metadata": {},
   "outputs": [],
   "source": []
  },
  {
   "cell_type": "markdown",
   "id": "60841381-4aa9-4042-a849-a11710c39eb5",
   "metadata": {},
   "source": [
    "<h1>series.describe()</h1>"
   ]
  },
  {
   "cell_type": "code",
   "execution_count": 63,
   "id": "955b7e3c-5c76-4d50-aef4-1172b02e66db",
   "metadata": {},
   "outputs": [
    {
     "data": {
      "text/plain": [
       "count    7663.000000\n",
       "mean        6.390591\n",
       "std         0.968903\n",
       "min         1.900000\n",
       "25%         5.800000\n",
       "50%         6.500000\n",
       "75%         7.100000\n",
       "max         9.300000\n",
       "Name: score, dtype: float64"
      ]
     },
     "execution_count": 63,
     "metadata": {},
     "output_type": "execute_result"
    }
   ],
   "source": [
    "sr.describe()"
   ]
  },
  {
   "cell_type": "code",
   "execution_count": null,
   "id": "0fc460d7-a520-4d31-9697-f70dc7959184",
   "metadata": {},
   "outputs": [],
   "source": []
  },
  {
   "cell_type": "code",
   "execution_count": 70,
   "id": "a61866df-1ea7-4d45-9274-a0e1a453b050",
   "metadata": {},
   "outputs": [
    {
     "data": {
      "text/plain": [
       "count     15\n",
       "unique    15\n",
       "top        R\n",
       "freq       1\n",
       "Name: The Shining, dtype: object"
      ]
     },
     "execution_count": 70,
     "metadata": {},
     "output_type": "execute_result"
    }
   ],
   "source": [
    "sr2.describe()"
   ]
  },
  {
   "cell_type": "code",
   "execution_count": null,
   "id": "979c8ed7-3e2d-46be-ab71-5f4332e90fbe",
   "metadata": {},
   "outputs": [],
   "source": []
  },
  {
   "cell_type": "markdown",
   "id": "0ec2cf11-6a5c-48f1-af60-100643affe59",
   "metadata": {},
   "source": [
    "<h1>math and series</h1>"
   ]
  },
  {
   "cell_type": "code",
   "execution_count": 64,
   "id": "2175f4c6-097f-465d-979c-9ba9de473d9e",
   "metadata": {},
   "outputs": [
    {
     "data": {
      "text/plain": [
       "name\n",
       "The Shining                                       84.0\n",
       "The Blue Lagoon                                   58.0\n",
       "Star Wars: Episode V - The Empire Strikes Back    87.0\n",
       "Airplane!                                         77.0\n",
       "Caddyshack                                        73.0\n",
       "                                                  ... \n",
       "More to Life                                      31.0\n",
       "Dream Round                                       47.0\n",
       "Saving Mbango                                     57.0\n",
       "It's Just Us                                       NaN\n",
       "Tee em el                                         57.0\n",
       "Name: score, Length: 7666, dtype: float64"
      ]
     },
     "execution_count": 64,
     "metadata": {},
     "output_type": "execute_result"
    }
   ],
   "source": [
    "10 * sr"
   ]
  },
  {
   "cell_type": "code",
   "execution_count": null,
   "id": "fcbdb17d-0e09-469f-a7f6-023e31b7d1fd",
   "metadata": {},
   "outputs": [],
   "source": []
  },
  {
   "cell_type": "code",
   "execution_count": 71,
   "id": "44c2ba0e-2eed-4e02-bf08-13af7a6eaf6c",
   "metadata": {},
   "outputs": [
    {
     "data": {
      "text/plain": [
       "rating                                                    RRRRRRRRRR\n",
       "genre              DramaDramaDramaDramaDramaDramaDramaDramaDramaD...\n",
       "year                                                           19800\n",
       "release_date       June 13, 1980June 13, 1980June 13, 1980June 13...\n",
       "release_country    United StatesUnited StatesUnited StatesUnited ...\n",
       "score                                                           84.0\n",
       "votes                                                      9270000.0\n",
       "director           Stanley KubrickStanley KubrickStanley KubrickS...\n",
       "writer             Stephen KingStephen KingStephen KingStephen Ki...\n",
       "star               Jack NicholsonJack NicholsonJack NicholsonJack...\n",
       "country            United KingdomUnited KingdomUnited KingdomUnit...\n",
       "budget                                                   190000000.0\n",
       "gross                                                    469987720.0\n",
       "company            Warner Bros.Warner Bros.Warner Bros.Warner Bro...\n",
       "runtime                                                       1460.0\n",
       "Name: The Shining, dtype: object"
      ]
     },
     "execution_count": 71,
     "metadata": {},
     "output_type": "execute_result"
    }
   ],
   "source": [
    "10 * sr2"
   ]
  },
  {
   "cell_type": "code",
   "execution_count": null,
   "id": "4207ae3a-1f06-49af-9636-e17eae960573",
   "metadata": {},
   "outputs": [],
   "source": []
  },
  {
   "cell_type": "code",
   "execution_count": null,
   "id": "6383d51b-a2e5-4350-bd25-7cf0c889d5a5",
   "metadata": {},
   "outputs": [],
   "source": []
  },
  {
   "cell_type": "code",
   "execution_count": null,
   "id": "faa0eb21-ec1f-45c5-8d76-e8cdae66eda7",
   "metadata": {},
   "outputs": [],
   "source": []
  },
  {
   "cell_type": "code",
   "execution_count": 65,
   "id": "bfe25def-b1f8-4591-b36e-cd4e5fdf9510",
   "metadata": {},
   "outputs": [
    {
     "data": {
      "text/plain": [
       "name\n",
       "The Shining                                       18.4\n",
       "The Blue Lagoon                                   15.8\n",
       "Star Wars: Episode V - The Empire Strikes Back    18.7\n",
       "Airplane!                                         17.7\n",
       "Caddyshack                                        17.3\n",
       "                                                  ... \n",
       "More to Life                                      13.1\n",
       "Dream Round                                       14.7\n",
       "Saving Mbango                                     15.7\n",
       "It's Just Us                                       NaN\n",
       "Tee em el                                         15.7\n",
       "Name: score, Length: 7666, dtype: float64"
      ]
     },
     "execution_count": 65,
     "metadata": {},
     "output_type": "execute_result"
    }
   ],
   "source": [
    "10 + sr"
   ]
  },
  {
   "cell_type": "code",
   "execution_count": null,
   "id": "e66bb1d9-7841-4ad0-99fb-be7eb9041420",
   "metadata": {},
   "outputs": [],
   "source": []
  },
  {
   "cell_type": "code",
   "execution_count": null,
   "id": "66820487-59ca-4285-aa9c-41c7eb2f2677",
   "metadata": {},
   "outputs": [],
   "source": []
  },
  {
   "cell_type": "code",
   "execution_count": 76,
   "id": "ed42c880-71c0-4f29-83cd-9d15eba68920",
   "metadata": {},
   "outputs": [],
   "source": [
    "# 10 + sr2 No No No ehtmalan bekhater inke\n",
    "# 10 + 'hi' NO No NO\n",
    "# albate chon tu error left va right didam shaiad beshe\n",
    "# rush amalgar nevesht"
   ]
  },
  {
   "cell_type": "code",
   "execution_count": null,
   "id": "61f6a249-f965-47cd-be9e-fe2cfbc14cba",
   "metadata": {},
   "outputs": [],
   "source": []
  },
  {
   "cell_type": "code",
   "execution_count": null,
   "id": "ba071ace-2a17-413e-b7ee-892cc3535c54",
   "metadata": {},
   "outputs": [],
   "source": []
  },
  {
   "cell_type": "code",
   "execution_count": null,
   "id": "53ac348e-e2fd-4811-84d3-4098fee6a48b",
   "metadata": {},
   "outputs": [],
   "source": []
  },
  {
   "cell_type": "markdown",
   "id": "df8ef233-d176-43ab-b8be-94562ecbc50b",
   "metadata": {},
   "source": [
    "<h1> filter with logical indexing</h1>"
   ]
  },
  {
   "cell_type": "code",
   "execution_count": 81,
   "id": "46618d2b-f892-485c-a928-0312fe682a4f",
   "metadata": {},
   "outputs": [
    {
     "data": {
      "text/plain": [
       "name\n",
       "The Shining                                       False\n",
       "The Blue Lagoon                                   False\n",
       "Star Wars: Episode V - The Empire Strikes Back     True\n",
       "Airplane!                                         False\n",
       "Caddyshack                                        False\n",
       "                                                  ...  \n",
       "More to Life                                      False\n",
       "Dream Round                                       False\n",
       "Saving Mbango                                     False\n",
       "It's Just Us                                      False\n",
       "Tee em el                                         False\n",
       "Name: score, Length: 7666, dtype: bool"
      ]
     },
     "execution_count": 81,
     "metadata": {},
     "output_type": "execute_result"
    }
   ],
   "source": [
    "df['score'] >= 8.5"
   ]
  },
  {
   "cell_type": "code",
   "execution_count": 83,
   "id": "b10ef6c6-77c7-4e10-bba2-142aa89f437d",
   "metadata": {},
   "outputs": [],
   "source": [
    "top = df[df['score'] >= 8.5]"
   ]
  },
  {
   "cell_type": "code",
   "execution_count": 86,
   "id": "b65141b2-cc17-42dc-9d39-494cd51a5c6c",
   "metadata": {},
   "outputs": [
    {
     "data": {
      "text/plain": [
       "(37, 15)"
      ]
     },
     "execution_count": 86,
     "metadata": {},
     "output_type": "execute_result"
    }
   ],
   "source": [
    "top.shape"
   ]
  },
  {
   "cell_type": "code",
   "execution_count": 87,
   "id": "5078bc47-859a-49be-b79e-0db82ed02491",
   "metadata": {},
   "outputs": [
    {
     "data": {
      "text/plain": [
       "37"
      ]
     },
     "execution_count": 87,
     "metadata": {},
     "output_type": "execute_result"
    }
   ],
   "source": [
    "len (top)"
   ]
  },
  {
   "cell_type": "code",
   "execution_count": 91,
   "id": "473865e3-7c8c-4d01-ad6b-871b8a581d13",
   "metadata": {},
   "outputs": [],
   "source": [
    "condition1 = df['score'] >= 8.5"
   ]
  },
  {
   "cell_type": "code",
   "execution_count": 92,
   "id": "08ab8f01-8168-41e1-aeef-6c4c77f86093",
   "metadata": {},
   "outputs": [],
   "source": [
    "condition2 = df['score'] <= 9"
   ]
  },
  {
   "cell_type": "code",
   "execution_count": 95,
   "id": "8501b906-83c3-468d-9651-f8a2ccc0642a",
   "metadata": {},
   "outputs": [],
   "source": [
    "new_top = df[condition1 & condition2]"
   ]
  },
  {
   "cell_type": "code",
   "execution_count": 98,
   "id": "7b422174-c253-43f4-8365-a4b0d1dc7ac8",
   "metadata": {},
   "outputs": [],
   "source": [
    "# condition = 8.5 <= df['score'] <= 9 No No No"
   ]
  },
  {
   "cell_type": "code",
   "execution_count": null,
   "id": "5af18dbb-4a2f-4b1b-9619-49cab619a413",
   "metadata": {},
   "outputs": [],
   "source": []
  },
  {
   "cell_type": "markdown",
   "id": "dfebbb03-8e85-4f89-95b6-f76f3605f164",
   "metadata": {},
   "source": [
    "<h1>series from dict</h1>"
   ]
  },
  {
   "cell_type": "code",
   "execution_count": 99,
   "id": "575ba118-551d-42df-8a34-594babd6e3ec",
   "metadata": {},
   "outputs": [],
   "source": [
    "d = {\"a\": 0.0, \"b\": 1.0, \"c\": 2.0}"
   ]
  },
  {
   "cell_type": "code",
   "execution_count": 101,
   "id": "87d4c70d-3039-4afe-bfaa-35edb3518589",
   "metadata": {},
   "outputs": [
    {
     "data": {
      "text/plain": [
       "c    2.0\n",
       "b    1.0\n",
       "e    NaN\n",
       "dtype: float64"
      ]
     },
     "execution_count": 101,
     "metadata": {},
     "output_type": "execute_result"
    }
   ],
   "source": [
    "pd.Series(d, index=['c', 'b', 'e'])"
   ]
  },
  {
   "cell_type": "code",
   "execution_count": null,
   "id": "43ce7e36-b6cb-4f29-ac06-b75095a836a0",
   "metadata": {},
   "outputs": [],
   "source": []
  },
  {
   "cell_type": "code",
   "execution_count": null,
   "id": "d7f271bc-045d-4109-add9-9642b39c24f5",
   "metadata": {},
   "outputs": [],
   "source": []
  },
  {
   "cell_type": "markdown",
   "id": "1e4bf59f-f83c-4526-847c-35c3b07a7a3a",
   "metadata": {},
   "source": [
    "<h1>NaN</h1>"
   ]
  },
  {
   "cell_type": "markdown",
   "id": "d1f90a2a-db89-4ab7-8162-3f315cdfd017",
   "metadata": {},
   "source": [
    "<p>\n",
    "    NaN (not a number) is the standard missing data marker used in pandas.\n",
    "</p>"
   ]
  },
  {
   "cell_type": "code",
   "execution_count": null,
   "id": "3a96a00f-76b5-4d82-8587-6ffb9f7c0b1f",
   "metadata": {},
   "outputs": [],
   "source": []
  },
  {
   "cell_type": "code",
   "execution_count": null,
   "id": "2373bda3-aa41-40aa-a211-2b6f9358ef44",
   "metadata": {},
   "outputs": [],
   "source": []
  },
  {
   "cell_type": "markdown",
   "id": "5cfdfef0-c157-44eb-a443-2317ebe04112",
   "metadata": {},
   "source": [
    "<h1>Series from str</h1>"
   ]
  },
  {
   "cell_type": "code",
   "execution_count": 103,
   "id": "56bfc3f4-86fd-4753-930d-0db8fb227043",
   "metadata": {},
   "outputs": [
    {
     "data": {
      "text/plain": [
       "0    nima\n",
       "dtype: object"
      ]
     },
     "execution_count": 103,
     "metadata": {},
     "output_type": "execute_result"
    }
   ],
   "source": [
    "pd.Series('nima')"
   ]
  },
  {
   "cell_type": "code",
   "execution_count": null,
   "id": "479f78ce-00ab-4e76-9f51-efa8abf57f24",
   "metadata": {},
   "outputs": [],
   "source": []
  },
  {
   "cell_type": "code",
   "execution_count": 167,
   "id": "8031cd4b-f7b2-4efa-86ef-e6c35d8f9fdc",
   "metadata": {},
   "outputs": [
    {
     "data": {
      "text/plain": [
       "0    n\n",
       "1    i\n",
       "2    m\n",
       "3    a\n",
       "dtype: object"
      ]
     },
     "execution_count": 167,
     "metadata": {},
     "output_type": "execute_result"
    }
   ],
   "source": [
    "pd.Series((ch for ch in 'nima'))"
   ]
  },
  {
   "cell_type": "code",
   "execution_count": null,
   "id": "d6b9514b-87ec-4c0a-8cc0-ca5528e145d3",
   "metadata": {},
   "outputs": [],
   "source": []
  },
  {
   "cell_type": "code",
   "execution_count": null,
   "id": "a1792f00-83a7-48a6-98a9-5a5bec0f79f8",
   "metadata": {},
   "outputs": [],
   "source": []
  },
  {
   "cell_type": "code",
   "execution_count": null,
   "id": "7d470513-fd31-4d1b-ba7b-12ea83e187d2",
   "metadata": {},
   "outputs": [],
   "source": []
  },
  {
   "cell_type": "markdown",
   "id": "47934c65-bed2-4953-8ed3-dda7fb66f172",
   "metadata": {},
   "source": [
    "<h1>Series from list</h1>"
   ]
  },
  {
   "cell_type": "code",
   "execution_count": 105,
   "id": "c3d86341-077e-42cb-a056-f23e512b2b40",
   "metadata": {},
   "outputs": [],
   "source": [
    "sr = pd.Series(['Nima', 'Nourinejad'], index=['First Name', 'Last Name'])"
   ]
  },
  {
   "cell_type": "code",
   "execution_count": 106,
   "id": "121e0931-4bcb-431d-88ed-da2bc7b19fe9",
   "metadata": {},
   "outputs": [
    {
     "data": {
      "text/plain": [
       "'Nima'"
      ]
     },
     "execution_count": 106,
     "metadata": {},
     "output_type": "execute_result"
    }
   ],
   "source": [
    "sr['First Name']"
   ]
  },
  {
   "cell_type": "code",
   "execution_count": 107,
   "id": "123bb7b5-a079-4839-9106-a53fbf9696c6",
   "metadata": {},
   "outputs": [],
   "source": [
    "sr['First Name'] = 'Nimaa'"
   ]
  },
  {
   "cell_type": "code",
   "execution_count": 108,
   "id": "f99b4bba-46eb-4416-9164-8509f96f0030",
   "metadata": {},
   "outputs": [
    {
     "data": {
      "text/plain": [
       "'Nimaa'"
      ]
     },
     "execution_count": 108,
     "metadata": {},
     "output_type": "execute_result"
    }
   ],
   "source": [
    "sr['First Name']"
   ]
  },
  {
   "cell_type": "code",
   "execution_count": 112,
   "id": "b85e9339-f462-4930-8f1c-a942451019e6",
   "metadata": {},
   "outputs": [
    {
     "data": {
      "text/plain": [
       "First Name          Nima\n",
       "Last Name     Nourinejad\n",
       "dtype: object"
      ]
     },
     "execution_count": 112,
     "metadata": {},
     "output_type": "execute_result"
    }
   ],
   "source": [
    "pd.Series(data = ['Nima', 'Nourinejad'], index=['First Name', 'Last Name'])"
   ]
  },
  {
   "cell_type": "code",
   "execution_count": 113,
   "id": "50cb5a97-30c6-431c-9329-51af40773248",
   "metadata": {},
   "outputs": [
    {
     "data": {
      "text/plain": [
       "First Name          Nima\n",
       "Last Name     Nourinejad\n",
       "dtype: object"
      ]
     },
     "execution_count": 113,
     "metadata": {},
     "output_type": "execute_result"
    }
   ],
   "source": [
    "pd.Series(['Nima', 'Nourinejad'],['First Name', 'Last Name'])"
   ]
  },
  {
   "cell_type": "code",
   "execution_count": 116,
   "id": "31ca727d-365b-4766-87b1-9e358cfe3cb5",
   "metadata": {},
   "outputs": [
    {
     "data": {
      "text/plain": [
       "0          Nima\n",
       "1    Nourinejad\n",
       "dtype: object"
      ]
     },
     "execution_count": 116,
     "metadata": {},
     "output_type": "execute_result"
    }
   ],
   "source": [
    "pd.Series(['Nima', 'Nourinejad'])"
   ]
  },
  {
   "cell_type": "code",
   "execution_count": 119,
   "id": "dac936a1-4c5c-49b4-9697-362584662e5d",
   "metadata": {},
   "outputs": [],
   "source": [
    "s1 = pd.Series(['Nima', 'Nourinejad'],['First Name', 'First Name'])"
   ]
  },
  {
   "cell_type": "code",
   "execution_count": 120,
   "id": "ae0c6d34-e62b-4eee-bb5a-3ed1b6ed2cc2",
   "metadata": {},
   "outputs": [
    {
     "data": {
      "text/plain": [
       "First Name          Nima\n",
       "First Name    Nourinejad\n",
       "dtype: object"
      ]
     },
     "execution_count": 120,
     "metadata": {},
     "output_type": "execute_result"
    }
   ],
   "source": [
    "s1['First Name']"
   ]
  },
  {
   "cell_type": "code",
   "execution_count": null,
   "id": "b07a4d60-32c7-4972-82c3-59364e58c514",
   "metadata": {},
   "outputs": [],
   "source": []
  },
  {
   "cell_type": "code",
   "execution_count": 121,
   "id": "516211c2-83d1-4a45-bac8-74febda75c54",
   "metadata": {},
   "outputs": [
    {
     "data": {
      "text/plain": [
       "First Name          Nima\n",
       "Last Name     Nourinejad\n",
       "Age                   37\n",
       "dtype: object"
      ]
     },
     "execution_count": 121,
     "metadata": {},
     "output_type": "execute_result"
    }
   ],
   "source": [
    "pd.Series(['Nima', 'Nourinejad', 37],['First Name', 'Last Name', 'Age'])"
   ]
  },
  {
   "cell_type": "code",
   "execution_count": null,
   "id": "0b736cb0-6bed-44ca-a967-e6141d24c97c",
   "metadata": {},
   "outputs": [],
   "source": []
  },
  {
   "cell_type": "code",
   "execution_count": null,
   "id": "e33db2cc-224a-4f65-af7c-fc84c355bd8f",
   "metadata": {},
   "outputs": [],
   "source": []
  },
  {
   "cell_type": "code",
   "execution_count": null,
   "id": "6deabb08-5a4b-47f2-a9bb-c5f58149b027",
   "metadata": {},
   "outputs": [],
   "source": []
  },
  {
   "cell_type": "markdown",
   "id": "3a903e95-64f2-4ca0-bd46-fff0a07024a7",
   "metadata": {},
   "source": [
    "<h1>Series from Tuple</h1>"
   ]
  },
  {
   "cell_type": "code",
   "execution_count": 152,
   "id": "c13cf567-65a3-4c11-94af-d27a9e23b67d",
   "metadata": {},
   "outputs": [
    {
     "data": {
      "text/plain": [
       "First Name          Nima\n",
       "Last Name     Nourinejad\n",
       "dtype: object"
      ]
     },
     "execution_count": 152,
     "metadata": {},
     "output_type": "execute_result"
    }
   ],
   "source": [
    "pd.Series(('Nima', 'Nourinejad'), index=['First Name', 'Last Name'])"
   ]
  },
  {
   "cell_type": "code",
   "execution_count": null,
   "id": "579558fb-63ab-4c39-98cc-c8877f295eb6",
   "metadata": {},
   "outputs": [],
   "source": []
  },
  {
   "cell_type": "markdown",
   "id": "bb35f524-c546-4d58-9e23-184524c9bda8",
   "metadata": {},
   "source": [
    "<h1>Series from set</h1>"
   ]
  },
  {
   "cell_type": "code",
   "execution_count": 155,
   "id": "aaeeca0a-4b19-454d-ae96-bcad0c54e872",
   "metadata": {},
   "outputs": [],
   "source": [
    "# sr = pd.Series({'Nima', 'Nourinejad'}, index=['First Name', 'Last Name']) No No No\n",
    "# chon set bedun tartib hast\n",
    "# baiad aval be ie tartib dar tabdiles konim"
   ]
  },
  {
   "cell_type": "code",
   "execution_count": 156,
   "id": "0b6ae884-85d2-4052-b3dd-a080ed175721",
   "metadata": {},
   "outputs": [
    {
     "data": {
      "text/plain": [
       "First Name          Nima\n",
       "Last Name     Nourinejad\n",
       "dtype: object"
      ]
     },
     "execution_count": 156,
     "metadata": {},
     "output_type": "execute_result"
    }
   ],
   "source": [
    "pd.Series(list({'Nima', 'Nourinejad'}), index=['First Name', 'Last Name'])"
   ]
  },
  {
   "cell_type": "code",
   "execution_count": null,
   "id": "33f6e7b0-8f45-4b36-b3ae-125e56a22dcd",
   "metadata": {},
   "outputs": [],
   "source": []
  },
  {
   "cell_type": "code",
   "execution_count": 157,
   "id": "9f07c442-3703-498c-999d-7d9f40e72051",
   "metadata": {},
   "outputs": [
    {
     "data": {
      "text/plain": [
       "First Name          Nima\n",
       "Last Name     Nourinejad\n",
       "dtype: object"
      ]
     },
     "execution_count": 157,
     "metadata": {},
     "output_type": "execute_result"
    }
   ],
   "source": [
    "pd.Series(tuple({'Nima', 'Nourinejad'}), index=['First Name', 'Last Name'])"
   ]
  },
  {
   "cell_type": "code",
   "execution_count": null,
   "id": "61ec820c-5f5a-4eda-bfbd-1f96206acf46",
   "metadata": {},
   "outputs": [],
   "source": [
    "\n",
    "\n"
   ]
  },
  {
   "cell_type": "markdown",
   "id": "58ea028e-c820-4f67-bf39-36e800a84239",
   "metadata": {},
   "source": [
    "<h1>Series from itrable, generator, file object itarable</h1>"
   ]
  },
  {
   "cell_type": "code",
   "execution_count": null,
   "id": "9b0729af-2de4-426a-8e25-2b59936a7817",
   "metadata": {},
   "outputs": [],
   "source": []
  },
  {
   "cell_type": "code",
   "execution_count": 159,
   "id": "750cb41b-8ddf-4f21-aacf-cd41d5b5f653",
   "metadata": {},
   "outputs": [
    {
     "data": {
      "text/plain": [
       "0    0\n",
       "1    1\n",
       "2    2\n",
       "3    3\n",
       "4    4\n",
       "dtype: int64"
      ]
     },
     "execution_count": 159,
     "metadata": {},
     "output_type": "execute_result"
    }
   ],
   "source": [
    "iterable = range(5)\n",
    "pd.Series(iterable)"
   ]
  },
  {
   "cell_type": "code",
   "execution_count": null,
   "id": "90e7557b-5c73-449e-96d9-02dbc9cc9240",
   "metadata": {},
   "outputs": [],
   "source": []
  },
  {
   "cell_type": "markdown",
   "id": "a0b9c53a-c53e-422a-9068-3d8ef66e90b2",
   "metadata": {},
   "source": [
    "<p>\n",
    "  <strong>Generators are \"one-shot\" iterables:</strong> Once you iterate through them, they’re exhausted. So if you try to re-use the same generator after creating a Series, it won’t work as expected.<br><br>\n",
    "\n",
    "  <strong>No <code>__len__</code> method:</strong> Pandas can't determine the length of a generator without consuming it first. This can interfere with internal optimizations and indexing.<br><br>\n",
    "\n",
    "  <strong>No indexing support:</strong> Generators don’t support operations like <code>gen[0]</code>, so Pandas can't treat them like sequences.<br><br>\n",
    "\n",
    "  <strong>Default index behavior can feel inconsistent:</strong> When using a generator, Pandas assigns default indices starting from 0, but since the generator is consumed immediately, the behavior might seem confusing, especially if you try to reuse the same generator elsewhere.<br><br>\n",
    "\n",
    "  <strong>✅ So why wrap it in <code>list()</code>?</strong> Because doing so:\n",
    "  <ul>\n",
    "    <li>Evaluates the entire generator into memory once.</li>\n",
    "    <li>Gives Pandas a sequence with known length and indexability.</li>\n",
    "    <li>Avoids surprises when trying to reuse the data.</li>\n",
    "    <li>Makes debugging and inspecting the Series easier.</li>\n",
    "  </ul>\n",
    "</p>\n"
   ]
  },
  {
   "cell_type": "code",
   "execution_count": 168,
   "id": "dbd94376-2795-4bdd-a970-fdfb0ef49916",
   "metadata": {},
   "outputs": [
    {
     "data": {
      "text/plain": [
       "0    0\n",
       "1    1\n",
       "2    2\n",
       "3    3\n",
       "4    4\n",
       "dtype: int64"
      ]
     },
     "execution_count": 168,
     "metadata": {},
     "output_type": "execute_result"
    }
   ],
   "source": [
    "generator = (i for i in range(5))\n",
    "pd.Series(list(generator))"
   ]
  },
  {
   "cell_type": "code",
   "execution_count": 170,
   "id": "720cd566-da01-4c0a-82f9-2ba3381fc927",
   "metadata": {},
   "outputs": [],
   "source": [
    "with open('S01-S08/text1.txt') as f:\n",
    "    s = pd.Series(list(f))"
   ]
  },
  {
   "cell_type": "code",
   "execution_count": 162,
   "id": "c65cbab2-222c-4eb5-8808-1e8611e02fe5",
   "metadata": {},
   "outputs": [
    {
     "data": {
      "text/plain": [
       "0     Python is an interpreted, high-level, general-...\n",
       "1     Created by Guido van Rossum and first released...\n",
       "2     Its language constructs and object-oriented ap...\n",
       "3     Python is dynamically typed and garbage-collec...\n",
       "4     It supports multiple programming paradigms, in...\n",
       "5     Python is often described as a \"batteries incl...\n",
       "6     Python was conceived in the late 1980s as a su...\n",
       "7     Python 2.0, released in 2000, introduced featu...\n",
       "8     Python 3.0, released in 2008, was a major revi...\n",
       "9     The Python 2 language was officially discontin...\n",
       "10    No more security patches or other improvements...\n",
       "11    A global community of programmers develops and...\n",
       "12    A non-profit organization, the Python Software...\n",
       "dtype: object"
      ]
     },
     "execution_count": 162,
     "metadata": {},
     "output_type": "execute_result"
    }
   ],
   "source": [
    "s"
   ]
  },
  {
   "cell_type": "code",
   "execution_count": 165,
   "id": "a5eefdfe-6b78-4f97-82ca-efe8c52aa253",
   "metadata": {},
   "outputs": [
    {
     "data": {
      "text/plain": [
       "'Python is an interpreted, high-level, general-purpose programming language. \\n'"
      ]
     },
     "execution_count": 165,
     "metadata": {},
     "output_type": "execute_result"
    }
   ],
   "source": [
    "s.iloc[0]"
   ]
  },
  {
   "cell_type": "code",
   "execution_count": null,
   "id": "644226c5-0426-4bba-ad52-65acb970ca91",
   "metadata": {},
   "outputs": [],
   "source": []
  },
  {
   "cell_type": "markdown",
   "id": "9a7e10d9-b718-4b54-b868-71efa4da000f",
   "metadata": {},
   "source": [
    "<h1>Series from int and float</h1>"
   ]
  },
  {
   "cell_type": "code",
   "execution_count": 110,
   "id": "49e26cf5-3142-457c-b18b-ad4e548f9ebd",
   "metadata": {},
   "outputs": [
    {
     "data": {
      "text/plain": [
       "a    4\n",
       "b    4\n",
       "dtype: int64"
      ]
     },
     "execution_count": 110,
     "metadata": {},
     "output_type": "execute_result"
    }
   ],
   "source": [
    "pd.Series(4, index= ['a', 'b'])"
   ]
  },
  {
   "cell_type": "code",
   "execution_count": 111,
   "id": "c1cf44a7-021d-4186-829a-26c98ab7279f",
   "metadata": {},
   "outputs": [
    {
     "data": {
      "text/plain": [
       "a    4.0\n",
       "b    4.0\n",
       "dtype: float64"
      ]
     },
     "execution_count": 111,
     "metadata": {},
     "output_type": "execute_result"
    }
   ],
   "source": [
    "pd.Series(4.0, index= ['a', 'b'])"
   ]
  },
  {
   "cell_type": "code",
   "execution_count": null,
   "id": "3191156d-5ec4-4499-aa0c-36ab181b21b0",
   "metadata": {},
   "outputs": [],
   "source": []
  },
  {
   "cell_type": "code",
   "execution_count": 122,
   "id": "f9dd4086-a799-4295-ac76-f7399e24d810",
   "metadata": {},
   "outputs": [
    {
     "data": {
      "text/plain": [
       "a    4.0\n",
       "b    4.0\n",
       "dtype: float64"
      ]
     },
     "execution_count": 122,
     "metadata": {},
     "output_type": "execute_result"
    }
   ],
   "source": [
    "pd.Series(4, index= ['a', 'b'], dtype=float)"
   ]
  },
  {
   "cell_type": "code",
   "execution_count": null,
   "id": "44e90e61-5a56-4575-82b2-0cfad084845b",
   "metadata": {},
   "outputs": [],
   "source": [
    "\n",
    "\n"
   ]
  },
  {
   "cell_type": "code",
   "execution_count": null,
   "id": "3ec166ea-64b3-4b5c-9c69-df4229626b89",
   "metadata": {},
   "outputs": [],
   "source": []
  },
  {
   "cell_type": "markdown",
   "id": "807f0cb8-c624-48fc-8fe7-97c468bccfbd",
   "metadata": {},
   "source": [
    "<h1>series from numpy.array</h1>"
   ]
  },
  {
   "cell_type": "code",
   "execution_count": 174,
   "id": "0d3be2e1-fba3-4134-b8e1-18a1da586bd5",
   "metadata": {},
   "outputs": [],
   "source": [
    "import numpy as np\n",
    "nparray = np.array([1,2,3])"
   ]
  },
  {
   "cell_type": "code",
   "execution_count": 175,
   "id": "0207ad93-59e3-4604-83e5-298084d37d8e",
   "metadata": {},
   "outputs": [
    {
     "data": {
      "text/plain": [
       "array([1, 2, 3])"
      ]
     },
     "execution_count": 175,
     "metadata": {},
     "output_type": "execute_result"
    }
   ],
   "source": [
    "nparray"
   ]
  },
  {
   "cell_type": "code",
   "execution_count": 176,
   "id": "74c28837-587f-43d9-97d8-e08d9cb91afa",
   "metadata": {},
   "outputs": [
    {
     "data": {
      "text/plain": [
       "0    1\n",
       "1    2\n",
       "2    3\n",
       "dtype: int64"
      ]
     },
     "execution_count": 176,
     "metadata": {},
     "output_type": "execute_result"
    }
   ],
   "source": [
    "pd.Series(nparray)"
   ]
  },
  {
   "cell_type": "code",
   "execution_count": null,
   "id": "d51b68f1-ebe0-4264-afc4-6b3603f3b8ec",
   "metadata": {},
   "outputs": [],
   "source": []
  },
  {
   "cell_type": "code",
   "execution_count": null,
   "id": "c2bf7774-be4e-47b0-93b0-b42dc2412137",
   "metadata": {},
   "outputs": [],
   "source": []
  },
  {
   "cell_type": "code",
   "execution_count": null,
   "id": "0f2537fb-7d32-4b86-8530-3682a4612647",
   "metadata": {},
   "outputs": [],
   "source": []
  },
  {
   "cell_type": "code",
   "execution_count": null,
   "id": "547a6380-d47b-4ecc-a4de-1c68eeba56a5",
   "metadata": {},
   "outputs": [],
   "source": []
  },
  {
   "cell_type": "markdown",
   "id": "14333da1-384a-425c-906f-bd3cf30abf7d",
   "metadata": {},
   "source": [
    "<h1>numpy.nan and None and pandas.NA</h1>"
   ]
  },
  {
   "cell_type": "code",
   "execution_count": 124,
   "id": "f68581d1-f3df-4b7a-911d-fb66e169993c",
   "metadata": {},
   "outputs": [],
   "source": [
    "from numpy import nan"
   ]
  },
  {
   "cell_type": "markdown",
   "id": "b8b9caed-8e54-4a16-8d95-04e196e2f694",
   "metadata": {},
   "source": [
    "<p>\n",
    "    None:<br>\n",
    "    type: Python object<br>\n",
    "    dtype of Series: Converted to float64 or object depending on the values<br>\n",
    "    Slightly slower (because object dtype is less efficient) in comparison to numpy.nan<br>\n",
    "    if you're dealing with mixed types use this\n",
    "    \n",
    "</p>"
   ]
  },
  {
   "cell_type": "markdown",
   "id": "cf2d02d2-06c9-4894-8a5c-15c68c73c5c2",
   "metadata": {},
   "source": [
    "<p>\n",
    "    numpy.nan:<br>\n",
    "    type: float<br>\n",
    "    dtype of Series: Converted to float64 (if all elements are numeric otherwise object)<br>\n",
    "    Faster for numerical operations<br>\n",
    "    Recommended for: Numerical data, data science, statistics<br>\n",
    "    best practice\n",
    "</p>"
   ]
  },
  {
   "cell_type": "code",
   "execution_count": 126,
   "id": "aff5fe89-010d-4e0b-814d-d4385aa14cc1",
   "metadata": {},
   "outputs": [
    {
     "data": {
      "text/plain": [
       "0    1.0\n",
       "1    NaN\n",
       "2    3.0\n",
       "dtype: float64"
      ]
     },
     "execution_count": 126,
     "metadata": {},
     "output_type": "execute_result"
    }
   ],
   "source": [
    "pd.Series([1,None, 3])"
   ]
  },
  {
   "cell_type": "code",
   "execution_count": 127,
   "id": "8388d009-71dd-4402-8d4d-321b1bfd8aaa",
   "metadata": {},
   "outputs": [
    {
     "data": {
      "text/plain": [
       "0    1.0\n",
       "1    NaN\n",
       "2    3.0\n",
       "dtype: float64"
      ]
     },
     "execution_count": 127,
     "metadata": {},
     "output_type": "execute_result"
    }
   ],
   "source": [
    "pd.Series([1,nan, 3])"
   ]
  },
  {
   "cell_type": "code",
   "execution_count": 129,
   "id": "96ff4e66-41cd-4f60-a21a-3a7a717861a9",
   "metadata": {},
   "outputs": [
    {
     "data": {
      "text/plain": [
       "0       1\n",
       "1     NaN\n",
       "2    nima\n",
       "3     1.5\n",
       "dtype: object"
      ]
     },
     "execution_count": 129,
     "metadata": {},
     "output_type": "execute_result"
    }
   ],
   "source": [
    "pd.Series([1,nan, 'nima', 1.5])"
   ]
  },
  {
   "cell_type": "code",
   "execution_count": null,
   "id": "f20d925a-2a1d-4d7b-92a4-608d0b1b8f5e",
   "metadata": {},
   "outputs": [],
   "source": []
  },
  {
   "cell_type": "markdown",
   "id": "f0b468cd-1e13-418d-a2e8-29e5ef869056",
   "metadata": {},
   "source": [
    "<p>\n",
    "    Newer Nullable Types<br>\n",
    "There’s also support for nullable integer and boolean types like Int64, boolean, and string. This lets you keep integers with missing values, without auto-converting to float. This can be helpful if preserving the integer type is important (e.g. for ID columns).\n",
    "</p>"
   ]
  },
  {
   "cell_type": "code",
   "execution_count": 128,
   "id": "f8b3986d-37ec-49dc-8d67-4014a841a7aa",
   "metadata": {},
   "outputs": [
    {
     "data": {
      "text/plain": [
       "0       1\n",
       "1    <NA>\n",
       "2       3\n",
       "dtype: Int64"
      ]
     },
     "execution_count": 128,
     "metadata": {},
     "output_type": "execute_result"
    }
   ],
   "source": [
    "pd.Series([1, None, 3], dtype=\"Int64\")"
   ]
  },
  {
   "cell_type": "code",
   "execution_count": 131,
   "id": "4a5038d8-1464-468a-8c07-b6cc1a218af7",
   "metadata": {},
   "outputs": [
    {
     "data": {
      "text/plain": [
       "<NA>"
      ]
     },
     "execution_count": 131,
     "metadata": {},
     "output_type": "execute_result"
    }
   ],
   "source": [
    "pd.NA == pd.NA"
   ]
  },
  {
   "cell_type": "code",
   "execution_count": 132,
   "id": "c3d04869-93e4-4fc0-8b87-50aa7bf82c22",
   "metadata": {},
   "outputs": [
    {
     "data": {
      "text/plain": [
       "False"
      ]
     },
     "execution_count": 132,
     "metadata": {},
     "output_type": "execute_result"
    }
   ],
   "source": [
    "nan == nan"
   ]
  },
  {
   "cell_type": "code",
   "execution_count": null,
   "id": "4649ddca-1c77-4233-a51a-cc034807fe4b",
   "metadata": {},
   "outputs": [],
   "source": [
    "# ❌ Pitfall\t\n",
    "# Comparing with == np.nan\n",
    "# ✅ Fix\n",
    "# Use pd.isna() instead"
   ]
  },
  {
   "cell_type": "code",
   "execution_count": null,
   "id": "582be39a-fa8b-4889-9e0e-c49e52e55216",
   "metadata": {},
   "outputs": [],
   "source": []
  },
  {
   "cell_type": "code",
   "execution_count": null,
   "id": "44193a6c-f13f-497d-b1eb-27cc2ba700da",
   "metadata": {},
   "outputs": [],
   "source": []
  },
  {
   "cell_type": "markdown",
   "id": "e88747c0-1f73-4aca-8c7f-67653634ddd5",
   "metadata": {},
   "source": [
    "<h1>series.len/size/shape vs series.count</h1>"
   ]
  },
  {
   "cell_type": "code",
   "execution_count": 141,
   "id": "5627a956-70cc-4330-b833-d68641e9a809",
   "metadata": {},
   "outputs": [],
   "source": [
    "s1=pd.Series([1,None, 3])\n",
    "s2=pd.Series([1,nan, 3])\n",
    "s3=pd.Series([1,None, 3], dtype='Int64')"
   ]
  },
  {
   "cell_type": "code",
   "execution_count": 142,
   "id": "7557dd8a-d262-4ede-a45d-592ce8b93fad",
   "metadata": {},
   "outputs": [
    {
     "data": {
      "text/plain": [
       "0    1.0\n",
       "1    NaN\n",
       "2    3.0\n",
       "dtype: float64"
      ]
     },
     "execution_count": 142,
     "metadata": {},
     "output_type": "execute_result"
    }
   ],
   "source": [
    "s1"
   ]
  },
  {
   "cell_type": "code",
   "execution_count": 143,
   "id": "729c7eb3-090c-4ad7-a254-3eef1a7ecede",
   "metadata": {},
   "outputs": [
    {
     "data": {
      "text/plain": [
       "0    1.0\n",
       "1    NaN\n",
       "2    3.0\n",
       "dtype: float64"
      ]
     },
     "execution_count": 143,
     "metadata": {},
     "output_type": "execute_result"
    }
   ],
   "source": [
    "s2"
   ]
  },
  {
   "cell_type": "code",
   "execution_count": 144,
   "id": "2155a7c2-efe9-4ae5-8337-354f90e4bd0e",
   "metadata": {},
   "outputs": [
    {
     "data": {
      "text/plain": [
       "0       1\n",
       "1    <NA>\n",
       "2       3\n",
       "dtype: Int64"
      ]
     },
     "execution_count": 144,
     "metadata": {},
     "output_type": "execute_result"
    }
   ],
   "source": [
    "s3"
   ]
  },
  {
   "cell_type": "code",
   "execution_count": 181,
   "id": "7ce7c354-34e4-4e50-9f16-6ae765e54c4d",
   "metadata": {},
   "outputs": [
    {
     "data": {
      "text/plain": [
       "np.int64(2)"
      ]
     },
     "execution_count": 181,
     "metadata": {},
     "output_type": "execute_result"
    }
   ],
   "source": [
    "s1.count()"
   ]
  },
  {
   "cell_type": "code",
   "execution_count": 178,
   "id": "1c76b578-6173-4671-a4a2-cf5e9b2168bd",
   "metadata": {},
   "outputs": [
    {
     "data": {
      "text/plain": [
       "(3, 3, (3,), np.int64(2))"
      ]
     },
     "execution_count": 178,
     "metadata": {},
     "output_type": "execute_result"
    }
   ],
   "source": [
    "len(s1), s1.size, s1.shape, s1.count()"
   ]
  },
  {
   "cell_type": "code",
   "execution_count": 182,
   "id": "1536f165-980b-4c59-9a12-c2af5d5af7d0",
   "metadata": {},
   "outputs": [
    {
     "data": {
      "text/plain": [
       "np.int64(2)"
      ]
     },
     "execution_count": 182,
     "metadata": {},
     "output_type": "execute_result"
    }
   ],
   "source": [
    "s2.count()"
   ]
  },
  {
   "cell_type": "code",
   "execution_count": 179,
   "id": "2964e525-2b82-4188-b2eb-bc159a691f7b",
   "metadata": {},
   "outputs": [
    {
     "data": {
      "text/plain": [
       "(3, 3, (3,), np.int64(2))"
      ]
     },
     "execution_count": 179,
     "metadata": {},
     "output_type": "execute_result"
    }
   ],
   "source": [
    "len(s2), s2.size, s2.shape, s2.count()"
   ]
  },
  {
   "cell_type": "code",
   "execution_count": 183,
   "id": "e860ff49-3e97-4a79-aeaa-3d88c5edf669",
   "metadata": {},
   "outputs": [
    {
     "data": {
      "text/plain": [
       "np.int64(2)"
      ]
     },
     "execution_count": 183,
     "metadata": {},
     "output_type": "execute_result"
    }
   ],
   "source": [
    "s3.count()"
   ]
  },
  {
   "cell_type": "code",
   "execution_count": 180,
   "id": "8c660bdc-08db-420d-a721-0a674c167a5c",
   "metadata": {},
   "outputs": [
    {
     "data": {
      "text/plain": [
       "(3, 3, (3,), np.int64(2))"
      ]
     },
     "execution_count": 180,
     "metadata": {},
     "output_type": "execute_result"
    }
   ],
   "source": [
    "len(s3), s3.size, s3.shape, s3.count()"
   ]
  },
  {
   "cell_type": "markdown",
   "id": "ef418a74-3f6d-4f62-8d22-52200176e720",
   "metadata": {},
   "source": [
    "<p>\n",
    "    len kole tedad ro mishmare<br>\n",
    "    count faghat not NaN/NA ha ro mishmare\n",
    "</p>"
   ]
  },
  {
   "cell_type": "markdown",
   "id": "6534eabd-73b0-421a-903b-088d317c7afa",
   "metadata": {},
   "source": [
    "<h1>series to numpy array</h1>"
   ]
  },
  {
   "cell_type": "markdown",
   "id": "296c8d0a-49a6-4724-b351-a964ee850db4",
   "metadata": {},
   "source": [
    "<p>series.values vs <br>\n",
    "    series.to_numpy() and <br>\n",
    "    series.astype('float').values\n",
    "</p>"
   ]
  },
  {
   "cell_type": "markdown",
   "id": "1edcd5cb-e051-45fd-863d-0b12f1fc42f1",
   "metadata": {},
   "source": [
    "<p>\n",
    "    .values iek numpy array dorost mikone az value ha mage inke is NA tush be kar refte bashe\n",
    "</p>"
   ]
  },
  {
   "cell_type": "code",
   "execution_count": 186,
   "id": "cb632576-5f44-48f1-926f-aab8c4643e27",
   "metadata": {},
   "outputs": [
    {
     "data": {
      "text/plain": [
       "array([ 1., nan,  3.])"
      ]
     },
     "execution_count": 186,
     "metadata": {},
     "output_type": "execute_result"
    }
   ],
   "source": [
    "s1.values"
   ]
  },
  {
   "cell_type": "code",
   "execution_count": 187,
   "id": "b1964be1-0efc-4bf3-9f44-89171f3d51a5",
   "metadata": {},
   "outputs": [
    {
     "data": {
      "text/plain": [
       "array([ 1., nan,  3.])"
      ]
     },
     "execution_count": 187,
     "metadata": {},
     "output_type": "execute_result"
    }
   ],
   "source": [
    "s2.values"
   ]
  },
  {
   "cell_type": "code",
   "execution_count": 188,
   "id": "76269f07-0656-426b-aabb-3c2f5647711d",
   "metadata": {},
   "outputs": [
    {
     "data": {
      "text/plain": [
       "<IntegerArray>\n",
       "[1, <NA>, 3]\n",
       "Length: 3, dtype: Int64"
      ]
     },
     "execution_count": 188,
     "metadata": {},
     "output_type": "execute_result"
    }
   ],
   "source": [
    "s3.values"
   ]
  },
  {
   "cell_type": "code",
   "execution_count": 189,
   "id": "48ddd809-b0dd-46a5-af1c-89c30f33cfc1",
   "metadata": {},
   "outputs": [
    {
     "data": {
      "text/plain": [
       "array([ 1., nan,  3.])"
      ]
     },
     "execution_count": 189,
     "metadata": {},
     "output_type": "execute_result"
    }
   ],
   "source": [
    "s3.to_numpy()"
   ]
  },
  {
   "cell_type": "code",
   "execution_count": 191,
   "id": "b1751f49-ae2d-4283-aedf-eb7da4cb66a5",
   "metadata": {},
   "outputs": [
    {
     "data": {
      "text/plain": [
       "array([ 1., nan,  3.])"
      ]
     },
     "execution_count": 191,
     "metadata": {},
     "output_type": "execute_result"
    }
   ],
   "source": [
    "s3.astype('float').values"
   ]
  },
  {
   "cell_type": "code",
   "execution_count": null,
   "id": "1f9b338a-c9c9-480f-94ef-6a804800324a",
   "metadata": {},
   "outputs": [],
   "source": []
  },
  {
   "cell_type": "markdown",
   "id": "c262be9a-8b2e-4e63-829a-6f786d005f82",
   "metadata": {},
   "source": [
    "<h1>class Index in series.index and dataframe.index</h1>"
   ]
  },
  {
   "cell_type": "markdown",
   "id": "7437b276-b956-44ea-ab20-73b801c176eb",
   "metadata": {},
   "source": [
    "<p>\n",
    "    In Pandas, the Index is a label-based data structure that:\n",
    "\n",
    "Labels the rows (or columns)\n",
    "\n",
    "Enables fast lookups, alignment, and reindexing\n",
    "\n",
    "Supports operations like slicing and joining\n",
    "\n",
    "It's immutable, hashable, and can be used as a dictionary key. \n",
    "</p>"
   ]
  },
  {
   "cell_type": "code",
   "execution_count": 192,
   "id": "a8201a16-a59c-46ee-8dd7-87657251f815",
   "metadata": {},
   "outputs": [
    {
     "data": {
      "text/plain": [
       "RangeIndex(start=0, stop=3, step=1)"
      ]
     },
     "execution_count": 192,
     "metadata": {},
     "output_type": "execute_result"
    }
   ],
   "source": [
    "s1.index"
   ]
  },
  {
   "cell_type": "code",
   "execution_count": 193,
   "id": "f83725d7-a998-4227-861c-670c5bc16765",
   "metadata": {},
   "outputs": [],
   "source": [
    "s = pd.Series([100, 200, 300], index=[\"a\", \"b\", \"c\"])"
   ]
  },
  {
   "cell_type": "code",
   "execution_count": 194,
   "id": "ebf553fd-216c-416e-a8e2-73a5e38e3cb7",
   "metadata": {},
   "outputs": [
    {
     "data": {
      "text/plain": [
       "Index(['a', 'b', 'c'], dtype='object')"
      ]
     },
     "execution_count": 194,
     "metadata": {},
     "output_type": "execute_result"
    }
   ],
   "source": [
    "s.index"
   ]
  },
  {
   "cell_type": "code",
   "execution_count": 196,
   "id": "c445b322-53d7-4be1-ad85-8d8eae1d9966",
   "metadata": {},
   "outputs": [
    {
     "data": {
      "text/html": [
       "<div>\n",
       "<style scoped>\n",
       "    .dataframe tbody tr th:only-of-type {\n",
       "        vertical-align: middle;\n",
       "    }\n",
       "\n",
       "    .dataframe tbody tr th {\n",
       "        vertical-align: top;\n",
       "    }\n",
       "\n",
       "    .dataframe thead th {\n",
       "        text-align: right;\n",
       "    }\n",
       "</style>\n",
       "<table border=\"1\" class=\"dataframe\">\n",
       "  <thead>\n",
       "    <tr style=\"text-align: right;\">\n",
       "      <th></th>\n",
       "      <th>rating</th>\n",
       "      <th>genre</th>\n",
       "      <th>year</th>\n",
       "      <th>release_date</th>\n",
       "      <th>release_country</th>\n",
       "      <th>score</th>\n",
       "      <th>votes</th>\n",
       "      <th>director</th>\n",
       "      <th>writer</th>\n",
       "      <th>star</th>\n",
       "      <th>country</th>\n",
       "      <th>budget</th>\n",
       "      <th>gross</th>\n",
       "      <th>company</th>\n",
       "      <th>runtime</th>\n",
       "    </tr>\n",
       "    <tr>\n",
       "      <th>name</th>\n",
       "      <th></th>\n",
       "      <th></th>\n",
       "      <th></th>\n",
       "      <th></th>\n",
       "      <th></th>\n",
       "      <th></th>\n",
       "      <th></th>\n",
       "      <th></th>\n",
       "      <th></th>\n",
       "      <th></th>\n",
       "      <th></th>\n",
       "      <th></th>\n",
       "      <th></th>\n",
       "      <th></th>\n",
       "      <th></th>\n",
       "    </tr>\n",
       "  </thead>\n",
       "  <tbody>\n",
       "    <tr>\n",
       "      <th>The Shining</th>\n",
       "      <td>R</td>\n",
       "      <td>Drama</td>\n",
       "      <td>1980</td>\n",
       "      <td>June 13, 1980</td>\n",
       "      <td>United States</td>\n",
       "      <td>8.4</td>\n",
       "      <td>927000.0</td>\n",
       "      <td>Stanley Kubrick</td>\n",
       "      <td>Stephen King</td>\n",
       "      <td>Jack Nicholson</td>\n",
       "      <td>United Kingdom</td>\n",
       "      <td>19000000.0</td>\n",
       "      <td>46998772.0</td>\n",
       "      <td>Warner Bros.</td>\n",
       "      <td>146.0</td>\n",
       "    </tr>\n",
       "    <tr>\n",
       "      <th>The Blue Lagoon</th>\n",
       "      <td>R</td>\n",
       "      <td>Adventure</td>\n",
       "      <td>1980</td>\n",
       "      <td>July 2, 1980</td>\n",
       "      <td>United States</td>\n",
       "      <td>5.8</td>\n",
       "      <td>65000.0</td>\n",
       "      <td>Randal Kleiser</td>\n",
       "      <td>Henry De Vere Stacpoole</td>\n",
       "      <td>Brooke Shields</td>\n",
       "      <td>United States</td>\n",
       "      <td>4500000.0</td>\n",
       "      <td>58853106.0</td>\n",
       "      <td>Columbia Pictures</td>\n",
       "      <td>104.0</td>\n",
       "    </tr>\n",
       "  </tbody>\n",
       "</table>\n",
       "</div>"
      ],
      "text/plain": [
       "                rating      genre  year   release_date release_country  score  \\\n",
       "name                                                                            \n",
       "The Shining          R      Drama  1980  June 13, 1980   United States    8.4   \n",
       "The Blue Lagoon      R  Adventure  1980   July 2, 1980   United States    5.8   \n",
       "\n",
       "                    votes         director                   writer  \\\n",
       "name                                                                  \n",
       "The Shining      927000.0  Stanley Kubrick             Stephen King   \n",
       "The Blue Lagoon   65000.0   Randal Kleiser  Henry De Vere Stacpoole   \n",
       "\n",
       "                           star         country      budget       gross  \\\n",
       "name                                                                      \n",
       "The Shining      Jack Nicholson  United Kingdom  19000000.0  46998772.0   \n",
       "The Blue Lagoon  Brooke Shields   United States   4500000.0  58853106.0   \n",
       "\n",
       "                           company  runtime  \n",
       "name                                         \n",
       "The Shining           Warner Bros.    146.0  \n",
       "The Blue Lagoon  Columbia Pictures    104.0  "
      ]
     },
     "execution_count": 196,
     "metadata": {},
     "output_type": "execute_result"
    }
   ],
   "source": [
    "df.head(2)"
   ]
  },
  {
   "cell_type": "code",
   "execution_count": 197,
   "id": "a6adbbb6-13e7-4fca-a828-907cce2b9fae",
   "metadata": {},
   "outputs": [
    {
     "data": {
      "text/plain": [
       "Index(['The Shining', 'The Blue Lagoon',\n",
       "       'Star Wars: Episode V - The Empire Strikes Back', 'Airplane!',\n",
       "       'Caddyshack', 'Friday the 13th', 'The Blues Brothers', 'Raging Bull',\n",
       "       'Superman II', 'The Long Riders',\n",
       "       ...\n",
       "       'Black Wall Street Burning', 'I Am Fear', 'Aloha Surf Hotel',\n",
       "       'Love by Drowning', 'The Robinsons', 'More to Life', 'Dream Round',\n",
       "       'Saving Mbango', 'It's Just Us', 'Tee em el'],\n",
       "      dtype='object', name='name', length=7666)"
      ]
     },
     "execution_count": 197,
     "metadata": {},
     "output_type": "execute_result"
    }
   ],
   "source": [
    "df.index"
   ]
  },
  {
   "cell_type": "code",
   "execution_count": null,
   "id": "7871327a-be55-4a6b-bc4c-7810cc6331d9",
   "metadata": {},
   "outputs": [],
   "source": []
  },
  {
   "cell_type": "code",
   "execution_count": null,
   "id": "fb51c8bd-89a4-4cae-a7ad-c695cdf5d9d3",
   "metadata": {},
   "outputs": [],
   "source": []
  },
  {
   "cell_type": "markdown",
   "id": "ceff77d0-dae6-473e-82ee-e3551e831021",
   "metadata": {},
   "source": [
    "<h1>series.is_unique</h1>"
   ]
  },
  {
   "cell_type": "code",
   "execution_count": 213,
   "id": "9491d231-cc5d-4c52-a94b-063ffa790839",
   "metadata": {},
   "outputs": [],
   "source": [
    "s1 = pd.Series([1,2,3])\n",
    "s2 = pd.Series([1,1,3, 4])\n",
    "s3 = pd.Series([3, 2, 1])"
   ]
  },
  {
   "cell_type": "code",
   "execution_count": 205,
   "id": "5bfce3b4-c7e6-46e3-839b-9b9a1a349ee1",
   "metadata": {},
   "outputs": [
    {
     "data": {
      "text/plain": [
       "True"
      ]
     },
     "execution_count": 205,
     "metadata": {},
     "output_type": "execute_result"
    }
   ],
   "source": [
    "s1.is_unique"
   ]
  },
  {
   "cell_type": "code",
   "execution_count": 206,
   "id": "70cad7f4-7550-4630-8bde-7ebecaf06dbb",
   "metadata": {},
   "outputs": [
    {
     "data": {
      "text/plain": [
       "False"
      ]
     },
     "execution_count": 206,
     "metadata": {},
     "output_type": "execute_result"
    }
   ],
   "source": [
    "s2.is_unique"
   ]
  },
  {
   "cell_type": "code",
   "execution_count": null,
   "id": "c8d479c8-f8bf-447b-9d84-99a6a5b90495",
   "metadata": {},
   "outputs": [],
   "source": []
  },
  {
   "cell_type": "markdown",
   "id": "c5a7b218-fe67-4dac-bbc5-20cfa7baecfe",
   "metadata": {},
   "source": [
    "<h1>series.is_monotonic</h1>"
   ]
  },
  {
   "cell_type": "markdown",
   "id": "1731b7e8-bb1b-4d85-a8a2-5b6d52c7495a",
   "metadata": {},
   "source": [
    "<p>is it sorted?</p>"
   ]
  },
  {
   "cell_type": "code",
   "execution_count": 214,
   "id": "f6ca876a-22e7-4b2e-bade-b4064147f7e7",
   "metadata": {},
   "outputs": [
    {
     "data": {
      "text/plain": [
       "(False, False, True)"
      ]
     },
     "execution_count": 214,
     "metadata": {},
     "output_type": "execute_result"
    }
   ],
   "source": [
    "# i >= i + 1\n",
    "s1.is_monotonic_decreasing, s2.is_monotonic_decreasing, s3.is_monotonic_decreasing"
   ]
  },
  {
   "cell_type": "code",
   "execution_count": 215,
   "id": "95ade3f8-2832-4770-af7b-e294d413cb72",
   "metadata": {},
   "outputs": [
    {
     "data": {
      "text/plain": [
       "(True, True, False)"
      ]
     },
     "execution_count": 215,
     "metadata": {},
     "output_type": "execute_result"
    }
   ],
   "source": [
    "# i <= i + 1\n",
    "s1.is_monotonic_increasing, s2.is_monotonic_increasing, s3.is_monotonic_increasing"
   ]
  },
  {
   "cell_type": "code",
   "execution_count": null,
   "id": "f759c7f4-441d-4e02-9494-d71872ce8259",
   "metadata": {},
   "outputs": [],
   "source": []
  },
  {
   "cell_type": "markdown",
   "id": "d4deec69-6df3-453b-a7f6-fd05495827ea",
   "metadata": {},
   "source": [
    "<h1>statistical operations on series</h1>"
   ]
  },
  {
   "cell_type": "markdown",
   "id": "fa7527ae-7758-47c1-bc78-ebdbb8c1ecfe",
   "metadata": {},
   "source": [
    "<ul>\n",
    "    <li>count</li>\n",
    "    <li>value_counts</li>\n",
    "    <li>sum</li>\n",
    "    <li>product / prod</li>\n",
    "    <li>cumsum</li>\n",
    "    <li>pct_change</li>\n",
    "    <li>min (s.min/min(s))</li>\n",
    "    <li>max (s.max/max(s))</li>\n",
    "    <li>mean</li>\n",
    "    <li>median</li>\n",
    "    <li>mode</li>\n",
    "    <li>std</li>\n",
    "    <li>var = std**2</li>\n",
    "    <li>describe</li>\n",
    "    <li>sample</li>\n",
    "    <li>unique</li>\n",
    "    <li>nunique</li>\n",
    "    <li>is_unique</li>\n",
    "    <li>is_monotonic_increasing/decreasing</li>\n",
    "    <li>nsmallest(n) / nlargest(n): return series</li>\n",
    "    <li>head(n) / tail(n): return series</li>\n",
    "        \n",
    "</ul>"
   ]
  },
  {
   "cell_type": "code",
   "execution_count": 2,
   "id": "997c32de-8199-45d9-8207-7e022e356dd6",
   "metadata": {},
   "outputs": [],
   "source": [
    "import pandas as pd\n",
    "import numpy as np"
   ]
  },
  {
   "cell_type": "code",
   "execution_count": 3,
   "id": "25f8cdc8-9264-418d-87a3-a55225b4b146",
   "metadata": {},
   "outputs": [],
   "source": [
    "s = pd.Series([1, 2, np.nan, 4 ])"
   ]
  },
  {
   "cell_type": "code",
   "execution_count": 4,
   "id": "ee1698cd-3cb4-485f-ab57-af65da4118c7",
   "metadata": {},
   "outputs": [
    {
     "data": {
      "text/plain": [
       "np.float64(7.0)"
      ]
     },
     "execution_count": 4,
     "metadata": {},
     "output_type": "execute_result"
    }
   ],
   "source": [
    "s.sum()"
   ]
  },
  {
   "cell_type": "code",
   "execution_count": 9,
   "id": "af41165e-40fd-4986-bf5c-401593fd180a",
   "metadata": {},
   "outputs": [
    {
     "data": {
      "text/plain": [
       "np.float64(nan)"
      ]
     },
     "execution_count": 9,
     "metadata": {},
     "output_type": "execute_result"
    }
   ],
   "source": [
    "s.sum(skipna=False)\n",
    "\n",
    "s.prod(skipna=False)\n",
    "\n",
    "s.product(skipna=False)"
   ]
  },
  {
   "cell_type": "code",
   "execution_count": 10,
   "id": "588a00d1-70f8-471f-8c75-15ec9666e0d1",
   "metadata": {},
   "outputs": [
    {
     "data": {
      "text/plain": [
       "0    1.0\n",
       "1    3.0\n",
       "2    NaN\n",
       "3    7.0\n",
       "dtype: float64"
      ]
     },
     "execution_count": 10,
     "metadata": {},
     "output_type": "execute_result"
    }
   ],
   "source": [
    "s.cumsum()"
   ]
  },
  {
   "cell_type": "code",
   "execution_count": 13,
   "id": "f85c3b22-72aa-465f-96d7-31be8bcc5e94",
   "metadata": {},
   "outputs": [
    {
     "data": {
      "text/plain": [
       "0         NaN\n",
       "1    0.500000\n",
       "2    1.000000\n",
       "3    1.666667\n",
       "dtype: float64"
      ]
     },
     "execution_count": 13,
     "metadata": {},
     "output_type": "execute_result"
    }
   ],
   "source": [
    "s = pd.Series([1, 1.5 ,3 , 8])\n",
    "s.pct_change()"
   ]
  },
  {
   "cell_type": "code",
   "execution_count": 14,
   "id": "de51fc55-8ba4-4494-9dd3-2f908fe634d3",
   "metadata": {},
   "outputs": [
    {
     "name": "stderr",
     "output_type": "stream",
     "text": [
      "/tmp/ipykernel_14432/3172769361.py:2: FutureWarning: The default fill_method='pad' in Series.pct_change is deprecated and will be removed in a future version. Either fill in any non-leading NA values prior to calling pct_change or specify 'fill_method=None' to not fill NA values.\n",
      "  s.pct_change()\n"
     ]
    },
    {
     "data": {
      "text/plain": [
       "0         NaN\n",
       "1    0.500000\n",
       "2    0.000000\n",
       "3    4.333333\n",
       "dtype: float64"
      ]
     },
     "execution_count": 14,
     "metadata": {},
     "output_type": "execute_result"
    }
   ],
   "source": [
    "s = pd.Series([1, 1.5 ,np.nan , 8])\n",
    "s.pct_change()"
   ]
  },
  {
   "cell_type": "markdown",
   "id": "fa415057-85bd-41af-a080-dcb03e3aa27a",
   "metadata": {},
   "source": [
    "fill_method\n",
    "<ul>\n",
    "    <li>pad = ffill : adade ghabl ro mizare jaie NaN</li>\n",
    "    <li>bfill = backfill : adade bad az Nan ro mizare jaie NaN</li>\n",
    "</ul>\n"
   ]
  },
  {
   "cell_type": "code",
   "execution_count": 28,
   "id": "438f2ab3-9faf-4028-a05b-a70abf55374d",
   "metadata": {},
   "outputs": [
    {
     "data": {
      "text/plain": [
       "1    1.5\n",
       "dtype: float64"
      ]
     },
     "execution_count": 28,
     "metadata": {},
     "output_type": "execute_result"
    }
   ],
   "source": [
    "new = s.sample(); new"
   ]
  },
  {
   "cell_type": "code",
   "execution_count": 29,
   "id": "65fb3835-5fff-46c6-801b-f02e66aab9ec",
   "metadata": {},
   "outputs": [
    {
     "data": {
      "text/plain": [
       "pandas.core.series.Series"
      ]
     },
     "execution_count": 29,
     "metadata": {},
     "output_type": "execute_result"
    }
   ],
   "source": [
    "type(new)"
   ]
  },
  {
   "cell_type": "code",
   "execution_count": 35,
   "id": "5621c24b-d0ab-47a2-bea1-ea9c83c46105",
   "metadata": {},
   "outputs": [
    {
     "data": {
      "text/plain": [
       "3    8.0\n",
       "1    1.5\n",
       "dtype: float64"
      ]
     },
     "execution_count": 35,
     "metadata": {},
     "output_type": "execute_result"
    }
   ],
   "source": [
    "# maximu tedadi ke mitune behesh badi be andazeie\n",
    "# size series has. iany age size=7(NaN included)\n",
    "# mazimum sample (7) ke ie series 7 ozvi az\n",
    "# entekhabhaie tasadofi az series asli misaze\n",
    "# chera? chon entekhabha bedun jaigozari hast\n",
    "s.sample(2)"
   ]
  },
  {
   "cell_type": "code",
   "execution_count": 34,
   "id": "a14d6bfd-4e14-4df3-8047-e38063837d84",
   "metadata": {},
   "outputs": [
    {
     "data": {
      "text/plain": [
       "1    1.5\n",
       "0    1.0\n",
       "3    8.0\n",
       "2    NaN\n",
       "dtype: float64"
      ]
     },
     "execution_count": 34,
     "metadata": {},
     "output_type": "execute_result"
    }
   ],
   "source": [
    "s.sample(4)\n",
    "# s.sample(5) No No No"
   ]
  },
  {
   "cell_type": "code",
   "execution_count": 36,
   "id": "459e2ebc-c796-45b6-80cd-27a4ae82af0d",
   "metadata": {},
   "outputs": [
    {
     "data": {
      "text/plain": [
       "3    8.0\n",
       "0    1.0\n",
       "2    NaN\n",
       "2    NaN\n",
       "2    NaN\n",
       "dtype: float64"
      ]
     },
     "execution_count": 36,
     "metadata": {},
     "output_type": "execute_result"
    }
   ],
   "source": [
    "s.sample (5, replace=True)"
   ]
  },
  {
   "cell_type": "code",
   "execution_count": 37,
   "id": "d1de4827-aa1a-4bf7-a2b4-b79a8d44fc09",
   "metadata": {},
   "outputs": [
    {
     "data": {
      "text/plain": [
       "False"
      ]
     },
     "execution_count": 37,
     "metadata": {},
     "output_type": "execute_result"
    }
   ],
   "source": [
    "s.is_monotonic_increasing"
   ]
  },
  {
   "cell_type": "code",
   "execution_count": 38,
   "id": "30042aa4-5280-4fe5-9974-d5a8bd931d62",
   "metadata": {},
   "outputs": [
    {
     "data": {
      "text/plain": [
       "0    1.0\n",
       "1    1.5\n",
       "2    NaN\n",
       "3    8.0\n",
       "dtype: float64"
      ]
     },
     "execution_count": 38,
     "metadata": {},
     "output_type": "execute_result"
    }
   ],
   "source": []
  },
  {
   "cell_type": "code",
   "execution_count": 39,
   "id": "63f0fba5-1f48-4911-abdb-7913a8f3db6e",
   "metadata": {},
   "outputs": [],
   "source": [
    "s[2] = 3"
   ]
  },
  {
   "cell_type": "code",
   "execution_count": 40,
   "id": "c9cc8525-4035-4b7b-83d6-0e1dac175fef",
   "metadata": {},
   "outputs": [
    {
     "data": {
      "text/plain": [
       "True"
      ]
     },
     "execution_count": 40,
     "metadata": {},
     "output_type": "execute_result"
    }
   ],
   "source": [
    "s.is_monotonic_increasing"
   ]
  },
  {
   "cell_type": "code",
   "execution_count": 42,
   "id": "0caa25b4-9b70-4066-81c5-6bd557b32067",
   "metadata": {},
   "outputs": [
    {
     "data": {
      "text/plain": [
       "array([1. , 1.5, 3. , 8. ])"
      ]
     },
     "execution_count": 42,
     "metadata": {},
     "output_type": "execute_result"
    }
   ],
   "source": [
    "s.unique()"
   ]
  },
  {
   "cell_type": "code",
   "execution_count": null,
   "id": "e4c71e62-4641-4c56-b102-e1818e75c705",
   "metadata": {},
   "outputs": [],
   "source": []
  },
  {
   "cell_type": "code",
   "execution_count": null,
   "id": "99e62759-fb6a-4cdc-9cab-318843adf41c",
   "metadata": {},
   "outputs": [],
   "source": []
  },
  {
   "cell_type": "code",
   "execution_count": null,
   "id": "dd846e41-6784-4979-af26-df17b1772294",
   "metadata": {},
   "outputs": [],
   "source": []
  },
  {
   "cell_type": "markdown",
   "id": "217e7a97-0744-4e0d-bf56-454b170013a2",
   "metadata": {},
   "source": [
    "<h1>calculation operations on Series</h1>"
   ]
  },
  {
   "cell_type": "markdown",
   "id": "6c90ec7d-1bed-487f-8f20-afa8d88bb61e",
   "metadata": {},
   "source": [
    "<ul>\n",
    "    <li>jam va tafrigh ba iek adad</li>\n",
    "    <li>jam va tafrigh 2 series</li>\n",
    "    <li>// va / va %</li>\n",
    "    <li>add sub/subtract mul/multiply div/divide floordiv mod</li>\n",
    "    <li>round</li>\n",
    "    \n",
    "</ul>"
   ]
  },
  {
   "cell_type": "markdown",
   "id": "64ac23b6-722c-4fa7-bcc5-e87fb2ec794f",
   "metadata": {},
   "source": [
    "<p>dar kol mishe har amaliati ro bein do series ia beine iek series va iek adade sabet anjam dad</p>"
   ]
  },
  {
   "cell_type": "code",
   "execution_count": null,
   "id": "cdd0846b-e61f-4a2c-bb91-8868e2226a99",
   "metadata": {},
   "outputs": [],
   "source": []
  },
  {
   "cell_type": "code",
   "execution_count": null,
   "id": "6b580126-96d9-44c0-abde-0d3d2a8801f1",
   "metadata": {},
   "outputs": [],
   "source": []
  },
  {
   "cell_type": "markdown",
   "id": "5c1376cd-619a-40e6-9f85-0c74488b9356",
   "metadata": {},
   "source": [
    "<h1>change series to other obejects</h1>"
   ]
  },
  {
   "cell_type": "code",
   "execution_count": 43,
   "id": "bb6a2858-64f4-411f-b4ad-f96ca1a06636",
   "metadata": {},
   "outputs": [],
   "source": [
    "s = pd.Series([1, 2 ,3])"
   ]
  },
  {
   "cell_type": "code",
   "execution_count": 44,
   "id": "7fcfd9c0-d442-49a3-801f-3545e56e9111",
   "metadata": {},
   "outputs": [
    {
     "data": {
      "text/plain": [
       "[1, 2, 3]"
      ]
     },
     "execution_count": 44,
     "metadata": {},
     "output_type": "execute_result"
    }
   ],
   "source": [
    "list(s)"
   ]
  },
  {
   "cell_type": "code",
   "execution_count": 45,
   "id": "f6c3f4c6-5fce-4a6e-9677-73830da3dc4b",
   "metadata": {},
   "outputs": [
    {
     "data": {
      "text/plain": [
       "(1, 2, 3)"
      ]
     },
     "execution_count": 45,
     "metadata": {},
     "output_type": "execute_result"
    }
   ],
   "source": [
    "tuple(s)"
   ]
  },
  {
   "cell_type": "code",
   "execution_count": 46,
   "id": "b38eef06-8ea3-4106-9ac2-5fe28167a237",
   "metadata": {},
   "outputs": [
    {
     "data": {
      "text/plain": [
       "{0: np.int64(1), 1: np.int64(2), 2: np.int64(3)}"
      ]
     },
     "execution_count": 46,
     "metadata": {},
     "output_type": "execute_result"
    }
   ],
   "source": [
    "dict(s)"
   ]
  },
  {
   "cell_type": "code",
   "execution_count": 48,
   "id": "4f851ed1-2015-4c20-ae95-47a8cc3e6846",
   "metadata": {},
   "outputs": [
    {
     "data": {
      "text/plain": [
       "{1, 2, 3}"
      ]
     },
     "execution_count": 48,
     "metadata": {},
     "output_type": "execute_result"
    }
   ],
   "source": [
    "set(s)"
   ]
  },
  {
   "cell_type": "code",
   "execution_count": 47,
   "id": "9bca97d8-0e74-4f60-bffc-a8e6a93c7380",
   "metadata": {},
   "outputs": [
    {
     "data": {
      "text/plain": [
       "array([1, 2, 3])"
      ]
     },
     "execution_count": 47,
     "metadata": {},
     "output_type": "execute_result"
    }
   ],
   "source": [
    "s.values"
   ]
  },
  {
   "cell_type": "code",
   "execution_count": 49,
   "id": "bf139cef-6ce7-430a-94cd-e9dd9b0f138b",
   "metadata": {},
   "outputs": [
    {
     "data": {
      "text/plain": [
       "array([1, 2, 3])"
      ]
     },
     "execution_count": 49,
     "metadata": {},
     "output_type": "execute_result"
    }
   ],
   "source": [
    "np.array(s)"
   ]
  },
  {
   "cell_type": "code",
   "execution_count": 51,
   "id": "bb57459d-ecce-419d-a2d2-4db258047a4a",
   "metadata": {},
   "outputs": [
    {
     "data": {
      "text/plain": [
       "array([1, 2, 3])"
      ]
     },
     "execution_count": 51,
     "metadata": {},
     "output_type": "execute_result"
    }
   ],
   "source": [
    "s.to_numpy()"
   ]
  },
  {
   "cell_type": "code",
   "execution_count": null,
   "id": "8a028d5e-6ec6-4b6d-bd10-3567164caf3a",
   "metadata": {},
   "outputs": [],
   "source": []
  },
  {
   "cell_type": "code",
   "execution_count": null,
   "id": "0c11a2b0-52ca-4fec-b8c3-730da8cd365c",
   "metadata": {},
   "outputs": [],
   "source": []
  },
  {
   "cell_type": "code",
   "execution_count": null,
   "id": "94b906ea-45d3-4465-b4e2-bb85f8dacece",
   "metadata": {},
   "outputs": [],
   "source": []
  },
  {
   "cell_type": "markdown",
   "id": "fc904969-37d2-4a4f-825b-bc170bcc5498",
   "metadata": {},
   "source": [
    "<h1>in for series</h1>"
   ]
  },
  {
   "cell_type": "code",
   "execution_count": 56,
   "id": "f7865111-3584-4f5f-a570-c443cf3b2858",
   "metadata": {},
   "outputs": [
    {
     "data": {
      "text/plain": [
       "False"
      ]
     },
     "execution_count": 56,
     "metadata": {},
     "output_type": "execute_result"
    }
   ],
   "source": [
    "# mesle dictionary ke ruie key emal mishe\n",
    "# inja ham ruie index emal mishe\n",
    "3 in s"
   ]
  },
  {
   "cell_type": "code",
   "execution_count": 54,
   "id": "0be162c0-a424-4597-a33b-63286a932229",
   "metadata": {},
   "outputs": [
    {
     "data": {
      "text/plain": [
       "False"
      ]
     },
     "execution_count": 54,
     "metadata": {},
     "output_type": "execute_result"
    }
   ],
   "source": [
    "3 in s.index"
   ]
  },
  {
   "cell_type": "code",
   "execution_count": 55,
   "id": "bed1f05c-9ad1-4c51-b96a-d328485cd1f9",
   "metadata": {},
   "outputs": [
    {
     "data": {
      "text/plain": [
       "True"
      ]
     },
     "execution_count": 55,
     "metadata": {},
     "output_type": "execute_result"
    }
   ],
   "source": [
    "3 in s.values"
   ]
  },
  {
   "cell_type": "code",
   "execution_count": 57,
   "id": "568d3da3-4b86-4fc8-b697-c18fb3dfad78",
   "metadata": {},
   "outputs": [
    {
     "data": {
      "text/plain": [
       "{0: np.int64(1), 1: np.int64(2), 2: np.int64(3)}"
      ]
     },
     "execution_count": 57,
     "metadata": {},
     "output_type": "execute_result"
    }
   ],
   "source": [
    "dict(s)"
   ]
  },
  {
   "cell_type": "code",
   "execution_count": 58,
   "id": "f2991a82-3b51-4f47-926e-cbd782237f63",
   "metadata": {},
   "outputs": [
    {
     "data": {
      "text/plain": [
       "False"
      ]
     },
     "execution_count": 58,
     "metadata": {},
     "output_type": "execute_result"
    }
   ],
   "source": [
    "3 in dict(s)"
   ]
  },
  {
   "cell_type": "code",
   "execution_count": 61,
   "id": "a3b8cdbf-82ae-4204-b00c-e637d9428980",
   "metadata": {},
   "outputs": [
    {
     "data": {
      "text/plain": [
       "False"
      ]
     },
     "execution_count": 61,
     "metadata": {},
     "output_type": "execute_result"
    }
   ],
   "source": [
    "3 in dict(s).keys()"
   ]
  },
  {
   "cell_type": "code",
   "execution_count": 60,
   "id": "bef71b1b-f87d-48dc-8c32-02887b674b65",
   "metadata": {},
   "outputs": [
    {
     "data": {
      "text/plain": [
       "True"
      ]
     },
     "execution_count": 60,
     "metadata": {},
     "output_type": "execute_result"
    }
   ],
   "source": [
    "3 in dict(s).values()"
   ]
  },
  {
   "cell_type": "code",
   "execution_count": 62,
   "id": "7af76c39-9f14-4af1-ab06-73866a906477",
   "metadata": {},
   "outputs": [
    {
     "data": {
      "text/plain": [
       "True"
      ]
     },
     "execution_count": 62,
     "metadata": {},
     "output_type": "execute_result"
    }
   ],
   "source": [
    "(2,3) in dict(s).items()"
   ]
  },
  {
   "cell_type": "code",
   "execution_count": null,
   "id": "9d105491-d1a7-48b1-b9c5-f2f89635cfc4",
   "metadata": {},
   "outputs": [],
   "source": []
  },
  {
   "cell_type": "markdown",
   "id": "1a4730c0-6ffc-4029-bd77-72f3a52361fc",
   "metadata": {},
   "source": [
    "<h1>parse_date</h1>"
   ]
  },
  {
   "cell_type": "code",
   "execution_count": 1,
   "id": "74f7d2d9-c490-49c3-a0dc-8de5ab64cc6b",
   "metadata": {},
   "outputs": [],
   "source": [
    "import pandas as pd"
   ]
  },
  {
   "cell_type": "raw",
   "id": "911b3a77-ecd6-4104-b1e8-c789cd7b635b",
   "metadata": {},
   "source": [
    "pd.read_csv ie vorudi dare be name parse_date=[]\n",
    "ke tush esmae sotunhaiy ke az jense tarikh hastand ro ,izarim"
   ]
  },
  {
   "cell_type": "code",
   "execution_count": null,
   "id": "480a80bf-cd5a-416c-830b-e3fe9d6c03de",
   "metadata": {},
   "outputs": [],
   "source": []
  },
  {
   "cell_type": "raw",
   "id": "66ed00f1-b2f0-4baf-9100-a7eaf6e2df93",
   "metadata": {},
   "source": []
  },
  {
   "cell_type": "code",
   "execution_count": null,
   "id": "d4a07986-0019-496c-b0b9-9a3c89f685c0",
   "metadata": {},
   "outputs": [],
   "source": []
  },
  {
   "cell_type": "markdown",
   "id": "dbc98a4b-e1d7-43fa-a76d-74e05af78218",
   "metadata": {},
   "source": [
    "<h1>reading series from csv file</h1>"
   ]
  },
  {
   "cell_type": "code",
   "execution_count": 12,
   "id": "fe7ccc55-6523-4c44-8a32-0526d18dc464",
   "metadata": {},
   "outputs": [],
   "source": [
    "# raveshe 1: df(index_col= 'index')[sotune values]\n",
    "df = pd.read_csv('btc-usd.csv',\n",
    "                 index_col='Date',\n",
    "                 parse_dates=['Date'])\n",
    "s1 = df['Close']"
   ]
  },
  {
   "cell_type": "code",
   "execution_count": 13,
   "id": "cc3b0259-ecac-4f25-a0ab-5013a353111e",
   "metadata": {},
   "outputs": [],
   "source": [
    "# raveshe 2: df(index_col= 'index',\n",
    "#               usecols=[index, values]).squeeze()\n",
    "s2 = pd.read_csv(\n",
    "    'btc-usd.csv',\n",
    "    index_col='Date',\n",
    "    parse_dates=['Date'],\n",
    "    usecols= ['Date', 'Close'],).squeeze()"
   ]
  },
  {
   "cell_type": "code",
   "execution_count": null,
   "id": "0684b2f7-22dc-4944-b628-a70a9412d002",
   "metadata": {},
   "outputs": [],
   "source": [
    "# raveshe 2 ehtemalan performance balatari dashte bahse\n",
    "# chon kole dataset ro load nemikone"
   ]
  },
  {
   "cell_type": "code",
   "execution_count": null,
   "id": "fec65008-39e9-46d4-864c-1d6fb9d82951",
   "metadata": {},
   "outputs": [],
   "source": []
  },
  {
   "cell_type": "markdown",
   "id": "2bf17d19-3c0d-42e3-8f0b-89dd5897cbd9",
   "metadata": {},
   "source": [
    "<h1>sorting series: sort_values and sort_index</h1>"
   ]
  },
  {
   "cell_type": "code",
   "execution_count": 27,
   "id": "31ff58de-dfeb-487f-8dd2-f8112fb0ad9a",
   "metadata": {},
   "outputs": [
    {
     "data": {
      "text/plain": [
       "0    2.0\n",
       "1    1.0\n",
       "2    3.0\n",
       "3    NaN\n",
       "dtype: float64"
      ]
     },
     "execution_count": 27,
     "metadata": {},
     "output_type": "execute_result"
    }
   ],
   "source": [
    "s = pd.Series([2 , 1, 3, None]); s"
   ]
  },
  {
   "cell_type": "code",
   "execution_count": 28,
   "id": "ce085b7f-99b0-4ee6-9006-473631c155f0",
   "metadata": {},
   "outputs": [
    {
     "data": {
      "text/plain": [
       "1    1.0\n",
       "0    2.0\n",
       "2    3.0\n",
       "3    NaN\n",
       "dtype: float64"
      ]
     },
     "execution_count": 28,
     "metadata": {},
     "output_type": "execute_result"
    }
   ],
   "source": [
    "new1 = s.sort_values(); new1"
   ]
  },
  {
   "cell_type": "code",
   "execution_count": 29,
   "id": "137be665-3257-411e-bfd3-e4090aad25d9",
   "metadata": {},
   "outputs": [
    {
     "data": {
      "text/plain": [
       "2    3.0\n",
       "0    2.0\n",
       "1    1.0\n",
       "3    NaN\n",
       "dtype: float64"
      ]
     },
     "execution_count": 29,
     "metadata": {},
     "output_type": "execute_result"
    }
   ],
   "source": [
    "new2 = s.sort_values(ascending=False); new2"
   ]
  },
  {
   "cell_type": "code",
   "execution_count": 30,
   "id": "4dc745b3-4670-483d-a76c-964263383e8c",
   "metadata": {},
   "outputs": [
    {
     "data": {
      "text/plain": [
       "0    2.0\n",
       "1    1.0\n",
       "2    3.0\n",
       "3    NaN\n",
       "dtype: float64"
      ]
     },
     "execution_count": 30,
     "metadata": {},
     "output_type": "execute_result"
    }
   ],
   "source": [
    "s"
   ]
  },
  {
   "cell_type": "code",
   "execution_count": null,
   "id": "3c20caeb-f85f-4377-b120-2dbec938b36b",
   "metadata": {},
   "outputs": [],
   "source": [
    "# be surat pish farz NaN akhar har halaz sort gharar ,igirad"
   ]
  },
  {
   "cell_type": "code",
   "execution_count": 31,
   "id": "0f3f7012-5e39-40af-8d1a-3198435aba69",
   "metadata": {},
   "outputs": [
    {
     "data": {
      "text/plain": [
       "3    NaN\n",
       "1    1.0\n",
       "0    2.0\n",
       "2    3.0\n",
       "dtype: float64"
      ]
     },
     "execution_count": 31,
     "metadata": {},
     "output_type": "execute_result"
    }
   ],
   "source": [
    "s.sort_values(na_position='first')"
   ]
  },
  {
   "cell_type": "code",
   "execution_count": 32,
   "id": "32a6f294-eee2-4331-82d9-f1df9c2bfe21",
   "metadata": {},
   "outputs": [
    {
     "data": {
      "text/plain": [
       "3    NaN\n",
       "2    3.0\n",
       "0    2.0\n",
       "1    1.0\n",
       "dtype: float64"
      ]
     },
     "execution_count": 32,
     "metadata": {},
     "output_type": "execute_result"
    }
   ],
   "source": [
    "s.sort_values(ascending=False,\n",
    "                na_position='first')"
   ]
  },
  {
   "cell_type": "code",
   "execution_count": 38,
   "id": "b5024787-9a96-4147-a0fe-095119dfa49d",
   "metadata": {},
   "outputs": [
    {
     "data": {
      "text/plain": [
       "1    1.0\n",
       "0    2.0\n",
       "2    3.0\n",
       "3    NaN\n",
       "dtype: float64"
      ]
     },
     "execution_count": 38,
     "metadata": {},
     "output_type": "execute_result"
    }
   ],
   "source": [
    "new1"
   ]
  },
  {
   "cell_type": "code",
   "execution_count": 39,
   "id": "c117e717-015d-4419-ac55-2e84312be565",
   "metadata": {},
   "outputs": [
    {
     "data": {
      "text/plain": [
       "0    2.0\n",
       "1    1.0\n",
       "2    3.0\n",
       "3    NaN\n",
       "dtype: float64"
      ]
     },
     "execution_count": 39,
     "metadata": {},
     "output_type": "execute_result"
    }
   ],
   "source": [
    "new1.sort_index()"
   ]
  },
  {
   "cell_type": "code",
   "execution_count": 40,
   "id": "dd48ed7b-42fd-48e5-83a3-7219a9ada077",
   "metadata": {},
   "outputs": [],
   "source": [
    "# sort_index hamun flagha na_position va ascending ro dare"
   ]
  },
  {
   "cell_type": "code",
   "execution_count": null,
   "id": "5bf12c01-fad2-4d79-b8d2-162ee389f8b7",
   "metadata": {},
   "outputs": [],
   "source": []
  },
  {
   "cell_type": "markdown",
   "id": "7ec1a440-7520-4ecc-9f9e-6d6ccd016bfd",
   "metadata": {},
   "source": [
    "<h1>series.dropna() and dataframe.dropna()</h1>"
   ]
  },
  {
   "cell_type": "code",
   "execution_count": null,
   "id": "8806fbf3-b89b-40a7-b031-155c0897f1b8",
   "metadata": {},
   "outputs": [],
   "source": []
  },
  {
   "cell_type": "code",
   "execution_count": 37,
   "id": "122e9ca3-0d28-43fb-8232-2270bb4c13c2",
   "metadata": {},
   "outputs": [
    {
     "data": {
      "text/plain": [
       "0    2.0\n",
       "1    NaN\n",
       "2    3.0\n",
       "3    NaN\n",
       "dtype: float64"
      ]
     },
     "execution_count": 37,
     "metadata": {},
     "output_type": "execute_result"
    }
   ],
   "source": [
    "s[1] = None;s"
   ]
  },
  {
   "cell_type": "code",
   "execution_count": null,
   "id": "08f6758f-2133-466f-b6ae-378ab8f86d90",
   "metadata": {},
   "outputs": [
    {
     "data": {
      "text/plain": [
       "0    2.0\n",
       "2    3.0\n",
       "dtype: float64"
      ]
     },
     "execution_count": 36,
     "metadata": {},
     "output_type": "execute_result"
    }
   ],
   "source": [
    "s.dropna()\n",
    "# be hazf index ham deghat kon"
   ]
  },
  {
   "cell_type": "code",
   "execution_count": null,
   "id": "dbb407ad-a573-4613-92e2-329c6569a3d2",
   "metadata": {},
   "outputs": [],
   "source": []
  },
  {
   "cell_type": "markdown",
   "id": "9caa1d95-0a37-4968-9617-43c3efb40c7d",
   "metadata": {},
   "source": [
    "<h1>. notation + index</h1>"
   ]
  },
  {
   "cell_type": "code",
   "execution_count": 43,
   "id": "e7f168e4-ae19-42ca-bb2b-b7ac002f09bd",
   "metadata": {},
   "outputs": [],
   "source": [
    "s = pd.Series([1,2],['nima','banafsheh'])"
   ]
  },
  {
   "cell_type": "code",
   "execution_count": 44,
   "id": "8bcf9740-3dc2-4d55-9d7b-fba845d17879",
   "metadata": {},
   "outputs": [
    {
     "data": {
      "text/plain": [
       "np.int64(1)"
      ]
     },
     "execution_count": 44,
     "metadata": {},
     "output_type": "execute_result"
    }
   ],
   "source": [
    "s.nima"
   ]
  },
  {
   "cell_type": "code",
   "execution_count": 45,
   "id": "e3fac048-9d27-4958-828e-1c9ffd9f7978",
   "metadata": {},
   "outputs": [
    {
     "data": {
      "text/plain": [
       "np.int64(2)"
      ]
     },
     "execution_count": 45,
     "metadata": {},
     "output_type": "execute_result"
    }
   ],
   "source": [
    "s.banafsheh"
   ]
  },
  {
   "cell_type": "code",
   "execution_count": 46,
   "id": "fe1759fd-658f-49ba-ab05-e368a076bd75",
   "metadata": {},
   "outputs": [],
   "source": [
    "s = pd.Series([1,2],[(1,1),(2,2)])"
   ]
  },
  {
   "cell_type": "code",
   "execution_count": 48,
   "id": "74749a38-a476-4729-b34b-cc46e07ec099",
   "metadata": {},
   "outputs": [
    {
     "data": {
      "text/plain": [
       "(1, 1)    1\n",
       "(2, 2)    2\n",
       "dtype: int64"
      ]
     },
     "execution_count": 48,
     "metadata": {},
     "output_type": "execute_result"
    }
   ],
   "source": [
    "s"
   ]
  },
  {
   "cell_type": "code",
   "execution_count": 51,
   "id": "18d5ed89-b98b-4772-bc2a-cd7fbcaad335",
   "metadata": {},
   "outputs": [
    {
     "data": {
      "text/plain": [
       "np.int64(1)"
      ]
     },
     "execution_count": 51,
     "metadata": {},
     "output_type": "execute_result"
    }
   ],
   "source": [
    "# s.(1,1) No No No\n",
    "s[(1,1)]"
   ]
  },
  {
   "cell_type": "code",
   "execution_count": null,
   "id": "41f9c4fa-6e65-4605-8716-0de2a718dbab",
   "metadata": {},
   "outputs": [],
   "source": []
  },
  {
   "cell_type": "code",
   "execution_count": null,
   "id": "1b1437e2-d0d7-4745-8e56-e6f295a19e22",
   "metadata": {},
   "outputs": [],
   "source": []
  },
  {
   "cell_type": "markdown",
   "id": "b1ee7f5e-e871-4491-a3ea-9fe7cae3366a",
   "metadata": {},
   "source": [
    "<h1>inplace param</h1>"
   ]
  },
  {
   "cell_type": "raw",
   "id": "160f6776-925d-4b7c-8098-1a34f7fabd07",
   "metadata": {},
   "source": [
    "dropna, sort_values va kheily digar az functionha\n",
    "khod seriesra taghir nemidahand balke\n",
    "iek series digar tolid mikonand, agar inha param inplace ra ghabul konand mitavinim an ra True bedahim ke injuri chizi barnimgardanand balke khod series ra taghir midahand"
   ]
  },
  {
   "cell_type": "code",
   "execution_count": 54,
   "id": "9d8bdb03-bba8-4f04-ad3a-80042e7339ce",
   "metadata": {},
   "outputs": [
    {
     "data": {
      "text/plain": [
       "(1, 1)    1\n",
       "(2, 2)    2\n",
       "dtype: int64"
      ]
     },
     "execution_count": 54,
     "metadata": {},
     "output_type": "execute_result"
    }
   ],
   "source": [
    "s"
   ]
  },
  {
   "cell_type": "code",
   "execution_count": 55,
   "id": "9f4c66f8-e705-429d-aa35-22613ca8ebb1",
   "metadata": {},
   "outputs": [],
   "source": [
    "s.sort_values(ascending=False,\n",
    "              inplace=True)"
   ]
  },
  {
   "cell_type": "code",
   "execution_count": 56,
   "id": "a73b9c47-cb73-4b04-993f-b53c30be53d2",
   "metadata": {},
   "outputs": [
    {
     "data": {
      "text/plain": [
       "(2, 2)    2\n",
       "(1, 1)    1\n",
       "dtype: int64"
      ]
     },
     "execution_count": 56,
     "metadata": {},
     "output_type": "execute_result"
    }
   ],
   "source": [
    "s"
   ]
  },
  {
   "cell_type": "markdown",
   "id": "7ed23a44-4e69-4edf-9796-f5247638a39b",
   "metadata": {},
   "source": [
    "<h1>value_counts params</h1>"
   ]
  },
  {
   "cell_type": "raw",
   "id": "050c947b-b3a0-473a-b215-1282952ee3c1",
   "metadata": {},
   "source": [
    "khroji value_counts dar vaghe sort_values nozuli hast\n",
    "value_counts(sort=False):\n",
    "dige moratab nemikone\n",
    "har value ro ke berese zudtar un ro mishmare"
   ]
  },
  {
   "cell_type": "raw",
   "id": "ce590d69-f3df-4903-a9a7-0cda8ea26e7d",
   "metadata": {},
   "source": [
    "value_counts(normalize=True):\n",
    "be jaie tadad iek value darsad hozur un value ro barmigardune"
   ]
  },
  {
   "cell_type": "raw",
   "id": "664b23ee-9dd7-48b2-b292-e6645bad298c",
   "metadata": {},
   "source": [
    "value_counts(bins=n):\n",
    "be jaie inke tak tak value ha ro beshmare\n",
    "n baze dorost mikone ke \n",
    "sakhtare (] daran ;e iany shoru shamel nemishe\n",
    "vali enteha shamel mishe\n",
    "va miad mishmare tu har baze chanta hast\n",
    "in ravesh baraie maghire peivaste mnteghi tare\n",
    "natije sort_values nozuli hast hamishe\n",
    "hala mishe rush ie sort_index\n",
    "ham zad ke maghadir bazeha be tartib bashan"
   ]
  },
  {
   "cell_type": "code",
   "execution_count": null,
   "id": "6016e86f-d039-42f6-811d-196b51c9d446",
   "metadata": {},
   "outputs": [],
   "source": [
    "value_counts(bins=[a,b,c]):\n",
    "dastebandi ha ra khodmean midahim"
   ]
  },
  {
   "cell_type": "raw",
   "id": "b27a32d4-fbf3-4284-b38a-e6feb841ab9b",
   "metadata": {},
   "source": [
    "value_counts(dropna=False):\n",
    "NaN ha ro negah midare, chon be surat pishfarz NaN drop mishe tu value_counts mesle count"
   ]
  },
  {
   "cell_type": "markdown",
   "id": "7037cd65-8db0-467c-92c5-e1308042960a",
   "metadata": {},
   "source": [
    "<h1>round(n)</h1>"
   ]
  },
  {
   "cell_type": "raw",
   "id": "0cf5ad57-d543-4691-9c9f-38408c5b302a",
   "metadata": {},
   "source": [
    "ta n ragham ashar round mikone"
   ]
  },
  {
   "cell_type": "code",
   "execution_count": null,
   "id": "6f24e2ea-7fb0-4a48-86c0-600c4e89b6b4",
   "metadata": {},
   "outputs": [],
   "source": []
  },
  {
   "cell_type": "markdown",
   "id": "21701b7f-8d73-4895-a0d3-49dc170ec8c2",
   "metadata": {},
   "source": [
    "<h1>function on series with apply</h1>"
   ]
  },
  {
   "cell_type": "code",
   "execution_count": 57,
   "id": "6b1b6334-e56c-4bee-afd2-e0cda41d4f47",
   "metadata": {},
   "outputs": [],
   "source": [
    "df = pd.read_csv('movies.csv', index_col='name')"
   ]
  },
  {
   "cell_type": "code",
   "execution_count": 58,
   "id": "2a7f58fd-e963-4ccd-92d9-a2d35b621d74",
   "metadata": {},
   "outputs": [],
   "source": [
    "score = df.score"
   ]
  },
  {
   "cell_type": "code",
   "execution_count": 64,
   "id": "cd473694-d2db-4601-9a2e-6d77f1599f32",
   "metadata": {},
   "outputs": [],
   "source": [
    "def verbal_score(s):\n",
    "    if s >= 7.5:\n",
    "        return 'High'\n",
    "    elif s>= 6.5:\n",
    "        return 'Medium'\n",
    "    else:\n",
    "        return 'Low'"
   ]
  },
  {
   "cell_type": "code",
   "execution_count": 66,
   "id": "3c75a616-6304-42f9-a132-5462b6f26992",
   "metadata": {},
   "outputs": [],
   "source": [
    "v_score = score.apply(verbal_score)"
   ]
  },
  {
   "cell_type": "code",
   "execution_count": 67,
   "id": "39e6b41d-650e-4747-92cf-49d05cf664ba",
   "metadata": {},
   "outputs": [
    {
     "data": {
      "text/plain": [
       "score\n",
       "Low       0.496348\n",
       "Medium    0.375815\n",
       "High      0.127837\n",
       "Name: proportion, dtype: float64"
      ]
     },
     "execution_count": 67,
     "metadata": {},
     "output_type": "execute_result"
    }
   ],
   "source": [
    "v_score.value_counts(normalize=True)"
   ]
  },
  {
   "cell_type": "code",
   "execution_count": 68,
   "id": "608453e5-951e-4704-9b58-644ec2dd4d3f",
   "metadata": {},
   "outputs": [
    {
     "data": {
      "text/plain": [
       "score\n",
       "Low       49.634751\n",
       "Medium    37.581529\n",
       "High      12.783720\n",
       "Name: proportion, dtype: float64"
      ]
     },
     "execution_count": 68,
     "metadata": {},
     "output_type": "execute_result"
    }
   ],
   "source": [
    "v_score.value_counts(normalize=True).mul(100)"
   ]
  },
  {
   "cell_type": "code",
   "execution_count": 69,
   "id": "e9c48177-23e9-4985-9151-548a7fc28f48",
   "metadata": {},
   "outputs": [
    {
     "data": {
      "text/plain": [
       "score\n",
       "Low       49.6\n",
       "Medium    37.6\n",
       "High      12.8\n",
       "Name: proportion, dtype: float64"
      ]
     },
     "execution_count": 69,
     "metadata": {},
     "output_type": "execute_result"
    }
   ],
   "source": [
    "v_score.value_counts(normalize=True).mul(100).round(1)"
   ]
  },
  {
   "cell_type": "code",
   "execution_count": 71,
   "id": "b6ae0895-4d24-48ee-adb8-e3d65ea8fafd",
   "metadata": {},
   "outputs": [
    {
     "data": {
      "text/plain": [
       "name\n",
       "The Shining                                       8\n",
       "The Blue Lagoon                                   6\n",
       "Star Wars: Episode V - The Empire Strikes Back    9\n",
       "Airplane!                                         8\n",
       "Caddyshack                                        7\n",
       "                                                 ..\n",
       "Aloha Surf Hotel                                  7\n",
       "More to Life                                      3\n",
       "Dream Round                                       5\n",
       "Saving Mbango                                     6\n",
       "Tee em el                                         6\n",
       "Name: score, Length: 7663, dtype: int64"
      ]
     },
     "execution_count": 71,
     "metadata": {},
     "output_type": "execute_result"
    }
   ],
   "source": [
    "# score.apply(round) No No No chon NaN dare\n",
    "score.dropna().apply(round)"
   ]
  },
  {
   "cell_type": "code",
   "execution_count": 72,
   "id": "f0bff6e1-ed21-431d-b23e-5bb8cc527510",
   "metadata": {},
   "outputs": [
    {
     "data": {
      "text/plain": [
       "score\n",
       "6    2956\n",
       "7    2550\n",
       "8     958\n",
       "5     870\n",
       "4     249\n",
       "3      42\n",
       "9      22\n",
       "2      16\n",
       "Name: count, dtype: int64"
      ]
     },
     "execution_count": 72,
     "metadata": {},
     "output_type": "execute_result"
    }
   ],
   "source": [
    "score.dropna().apply(round).value_counts()"
   ]
  },
  {
   "cell_type": "code",
   "execution_count": null,
   "id": "4c62d87f-4415-4f7c-b746-2633abf231fc",
   "metadata": {},
   "outputs": [],
   "source": []
  },
  {
   "cell_type": "markdown",
   "id": "027332fc-8c08-446b-a027-76e830f40f60",
   "metadata": {},
   "source": [
    "<h1>create dataframe</h1>"
   ]
  },
  {
   "cell_type": "markdown",
   "id": "541aec03-b649-4749-a529-4f2ff1ccfba8",
   "metadata": {},
   "source": [
    "<ul>\n",
    "    <li>from list of lists</li>\n",
    "    <li>from nparray of lists</li>\n",
    "    <li>from dict of lists</li>\n",
    "    <li>from dict of dicts</li>\n",
    "    <li>read_csv</li>\n",
    "    <li>read_excel</li>\n",
    "</ul>"
   ]
  },
  {
   "cell_type": "code",
   "execution_count": 80,
   "id": "d054696c-e858-4027-896f-e669a1015af5",
   "metadata": {},
   "outputs": [
    {
     "data": {
      "text/html": [
       "<div>\n",
       "<style scoped>\n",
       "    .dataframe tbody tr th:only-of-type {\n",
       "        vertical-align: middle;\n",
       "    }\n",
       "\n",
       "    .dataframe tbody tr th {\n",
       "        vertical-align: top;\n",
       "    }\n",
       "\n",
       "    .dataframe thead th {\n",
       "        text-align: right;\n",
       "    }\n",
       "</style>\n",
       "<table border=\"1\" class=\"dataframe\">\n",
       "  <thead>\n",
       "    <tr style=\"text-align: right;\">\n",
       "      <th></th>\n",
       "      <th>a</th>\n",
       "      <th>b</th>\n",
       "      <th>c</th>\n",
       "      <th>d</th>\n",
       "    </tr>\n",
       "  </thead>\n",
       "  <tbody>\n",
       "    <tr>\n",
       "      <th>i1</th>\n",
       "      <td>1</td>\n",
       "      <td>5</td>\n",
       "      <td>8</td>\n",
       "      <td>10</td>\n",
       "    </tr>\n",
       "    <tr>\n",
       "      <th>i2</th>\n",
       "      <td>3</td>\n",
       "      <td>2</td>\n",
       "      <td>2</td>\n",
       "      <td>7</td>\n",
       "    </tr>\n",
       "    <tr>\n",
       "      <th>i3</th>\n",
       "      <td>7</td>\n",
       "      <td>9</td>\n",
       "      <td>1</td>\n",
       "      <td>2</td>\n",
       "    </tr>\n",
       "  </tbody>\n",
       "</table>\n",
       "</div>"
      ],
      "text/plain": [
       "    a  b  c   d\n",
       "i1  1  5  8  10\n",
       "i2  3  2  2   7\n",
       "i3  7  9  1   2"
      ]
     },
     "execution_count": 80,
     "metadata": {},
     "output_type": "execute_result"
    }
   ],
   "source": [
    "# 1-frome list of list\n",
    "a = [\n",
    "    [1, 5, 8, 10],\n",
    "    [3, 2, 2, 7],\n",
    "    [7, 9, 1, 2]\n",
    "]\n",
    "df1 = pd.DataFrame(\n",
    "                   a, \n",
    "                   columns=['a', 'b', 'c', 'd'],\n",
    "                   index=['i1','i2','i3']\n",
    "                  )\n",
    "df1"
   ]
  },
  {
   "cell_type": "code",
   "execution_count": 81,
   "id": "bada181c-8c0d-42cb-ad51-d77969d34dff",
   "metadata": {},
   "outputs": [
    {
     "data": {
      "text/html": [
       "<div>\n",
       "<style scoped>\n",
       "    .dataframe tbody tr th:only-of-type {\n",
       "        vertical-align: middle;\n",
       "    }\n",
       "\n",
       "    .dataframe tbody tr th {\n",
       "        vertical-align: top;\n",
       "    }\n",
       "\n",
       "    .dataframe thead th {\n",
       "        text-align: right;\n",
       "    }\n",
       "</style>\n",
       "<table border=\"1\" class=\"dataframe\">\n",
       "  <thead>\n",
       "    <tr style=\"text-align: right;\">\n",
       "      <th></th>\n",
       "      <th>a</th>\n",
       "      <th>b</th>\n",
       "      <th>c</th>\n",
       "      <th>d</th>\n",
       "    </tr>\n",
       "  </thead>\n",
       "  <tbody>\n",
       "    <tr>\n",
       "      <th>i1</th>\n",
       "      <td>1</td>\n",
       "      <td>5</td>\n",
       "      <td>8</td>\n",
       "      <td>10</td>\n",
       "    </tr>\n",
       "    <tr>\n",
       "      <th>i2</th>\n",
       "      <td>3</td>\n",
       "      <td>2</td>\n",
       "      <td>2</td>\n",
       "      <td>7</td>\n",
       "    </tr>\n",
       "    <tr>\n",
       "      <th>i3</th>\n",
       "      <td>7</td>\n",
       "      <td>9</td>\n",
       "      <td>1</td>\n",
       "      <td>2</td>\n",
       "    </tr>\n",
       "  </tbody>\n",
       "</table>\n",
       "</div>"
      ],
      "text/plain": [
       "    a  b  c   d\n",
       "i1  1  5  8  10\n",
       "i2  3  2  2   7\n",
       "i3  7  9  1   2"
      ]
     },
     "execution_count": 81,
     "metadata": {},
     "output_type": "execute_result"
    }
   ],
   "source": [
    "# 2-from nparray\n",
    "import numpy as np\n",
    "b = [\n",
    "    [1, 5, 8, 10],\n",
    "    [3, 2, 2, 7],\n",
    "    [7, 9, 1, 2]\n",
    "]\n",
    "df2 = pd.DataFrame(\n",
    "                   b, \n",
    "                   columns=['a', 'b', 'c', 'd'],\n",
    "                   index=['i1','i2','i3']\n",
    "                  )\n",
    "df2"
   ]
  },
  {
   "cell_type": "code",
   "execution_count": 84,
   "id": "65a523d6-39c5-4ca4-a060-c2add56cefde",
   "metadata": {},
   "outputs": [
    {
     "data": {
      "text/html": [
       "<div>\n",
       "<style scoped>\n",
       "    .dataframe tbody tr th:only-of-type {\n",
       "        vertical-align: middle;\n",
       "    }\n",
       "\n",
       "    .dataframe tbody tr th {\n",
       "        vertical-align: top;\n",
       "    }\n",
       "\n",
       "    .dataframe thead th {\n",
       "        text-align: right;\n",
       "    }\n",
       "</style>\n",
       "<table border=\"1\" class=\"dataframe\">\n",
       "  <thead>\n",
       "    <tr style=\"text-align: right;\">\n",
       "      <th></th>\n",
       "      <th>a</th>\n",
       "      <th>b</th>\n",
       "    </tr>\n",
       "  </thead>\n",
       "  <tbody>\n",
       "    <tr>\n",
       "      <th>i1</th>\n",
       "      <td>1</td>\n",
       "      <td>3</td>\n",
       "    </tr>\n",
       "    <tr>\n",
       "      <th>i2</th>\n",
       "      <td>2</td>\n",
       "      <td>4</td>\n",
       "    </tr>\n",
       "  </tbody>\n",
       "</table>\n",
       "</div>"
      ],
      "text/plain": [
       "    a  b\n",
       "i1  1  3\n",
       "i2  2  4"
      ]
     },
     "execution_count": 84,
     "metadata": {},
     "output_type": "execute_result"
    }
   ],
   "source": [
    "# 3-from dict of list\n",
    "\n",
    "dic = {\n",
    "    'a': [1, 2],\n",
    "    'b': [3, 4]\n",
    "}\n",
    "df3 = pd.DataFrame(dic,\n",
    "                   index=['i1','i2']\n",
    "                  )\n",
    "\n",
    "df3"
   ]
  },
  {
   "cell_type": "code",
   "execution_count": 86,
   "id": "44e149f2-b9f1-4989-a095-3a886688db1a",
   "metadata": {},
   "outputs": [
    {
     "data": {
      "text/html": [
       "<div>\n",
       "<style scoped>\n",
       "    .dataframe tbody tr th:only-of-type {\n",
       "        vertical-align: middle;\n",
       "    }\n",
       "\n",
       "    .dataframe tbody tr th {\n",
       "        vertical-align: top;\n",
       "    }\n",
       "\n",
       "    .dataframe thead th {\n",
       "        text-align: right;\n",
       "    }\n",
       "</style>\n",
       "<table border=\"1\" class=\"dataframe\">\n",
       "  <thead>\n",
       "    <tr style=\"text-align: right;\">\n",
       "      <th></th>\n",
       "      <th>i1</th>\n",
       "      <th>i2</th>\n",
       "    </tr>\n",
       "  </thead>\n",
       "  <tbody>\n",
       "    <tr>\n",
       "      <th>a</th>\n",
       "      <td>1</td>\n",
       "      <td>2</td>\n",
       "    </tr>\n",
       "    <tr>\n",
       "      <th>b</th>\n",
       "      <td>3</td>\n",
       "      <td>4</td>\n",
       "    </tr>\n",
       "  </tbody>\n",
       "</table>\n",
       "</div>"
      ],
      "text/plain": [
       "   i1  i2\n",
       "a   1   2\n",
       "b   3   4"
      ]
     },
     "execution_count": 86,
     "metadata": {},
     "output_type": "execute_result"
    }
   ],
   "source": [
    "# 3-from dict of list\n",
    "\n",
    "dic = {\n",
    "    'a': [1, 2],\n",
    "    'b': [3, 4]\n",
    "}\n",
    "df4 = pd.DataFrame(dic,\n",
    "                   index=['i1','i2']\n",
    "                  ).transpose()\n",
    "\n",
    "df4"
   ]
  },
  {
   "cell_type": "code",
   "execution_count": 87,
   "id": "7e18de85-0a17-4f4a-bf0b-8f641b0525ea",
   "metadata": {},
   "outputs": [
    {
     "data": {
      "text/html": [
       "<div>\n",
       "<style scoped>\n",
       "    .dataframe tbody tr th:only-of-type {\n",
       "        vertical-align: middle;\n",
       "    }\n",
       "\n",
       "    .dataframe tbody tr th {\n",
       "        vertical-align: top;\n",
       "    }\n",
       "\n",
       "    .dataframe thead th {\n",
       "        text-align: right;\n",
       "    }\n",
       "</style>\n",
       "<table border=\"1\" class=\"dataframe\">\n",
       "  <thead>\n",
       "    <tr style=\"text-align: right;\">\n",
       "      <th></th>\n",
       "      <th>i1</th>\n",
       "      <th>i2</th>\n",
       "    </tr>\n",
       "  </thead>\n",
       "  <tbody>\n",
       "    <tr>\n",
       "      <th>a</th>\n",
       "      <td>1</td>\n",
       "      <td>2</td>\n",
       "    </tr>\n",
       "    <tr>\n",
       "      <th>b</th>\n",
       "      <td>3</td>\n",
       "      <td>4</td>\n",
       "    </tr>\n",
       "  </tbody>\n",
       "</table>\n",
       "</div>"
      ],
      "text/plain": [
       "   i1  i2\n",
       "a   1   2\n",
       "b   3   4"
      ]
     },
     "execution_count": 87,
     "metadata": {},
     "output_type": "execute_result"
    }
   ],
   "source": [
    "# 3-from dict of list\n",
    "\n",
    "dic = {\n",
    "    'a': [1, 2],\n",
    "    'b': [3, 4]\n",
    "}\n",
    "df5 = pd.DataFrame(dic,\n",
    "                   index=['i1','i2']\n",
    "                  ).T\n",
    "\n",
    "df5"
   ]
  },
  {
   "cell_type": "code",
   "execution_count": 88,
   "id": "23099924-b1dd-4175-b1d8-f2471f4d2a6e",
   "metadata": {},
   "outputs": [
    {
     "data": {
      "text/html": [
       "<div>\n",
       "<style scoped>\n",
       "    .dataframe tbody tr th:only-of-type {\n",
       "        vertical-align: middle;\n",
       "    }\n",
       "\n",
       "    .dataframe tbody tr th {\n",
       "        vertical-align: top;\n",
       "    }\n",
       "\n",
       "    .dataframe thead th {\n",
       "        text-align: right;\n",
       "    }\n",
       "</style>\n",
       "<table border=\"1\" class=\"dataframe\">\n",
       "  <thead>\n",
       "    <tr style=\"text-align: right;\">\n",
       "      <th></th>\n",
       "      <th>a</th>\n",
       "      <th>b</th>\n",
       "    </tr>\n",
       "  </thead>\n",
       "  <tbody>\n",
       "    <tr>\n",
       "      <th>i1</th>\n",
       "      <td>1</td>\n",
       "      <td>3</td>\n",
       "    </tr>\n",
       "    <tr>\n",
       "      <th>i2</th>\n",
       "      <td>2</td>\n",
       "      <td>4</td>\n",
       "    </tr>\n",
       "  </tbody>\n",
       "</table>\n",
       "</div>"
      ],
      "text/plain": [
       "    a  b\n",
       "i1  1  3\n",
       "i2  2  4"
      ]
     },
     "execution_count": 88,
     "metadata": {},
     "output_type": "execute_result"
    }
   ],
   "source": [
    "# 4-from dict of dict\n",
    "\n",
    "dic = {\n",
    "    'a': {'i1': 1, 'i2' : 2},\n",
    "    'b': {'i1': 3, 'i2' : 4}\n",
    "}\n",
    "\n",
    "df6 = pd.DataFrame(dic)\n",
    "df6"
   ]
  },
  {
   "cell_type": "code",
   "execution_count": 89,
   "id": "d8de9ffa-5f16-4fc1-9490-eac6233949a2",
   "metadata": {},
   "outputs": [
    {
     "data": {
      "text/html": [
       "<div>\n",
       "<style scoped>\n",
       "    .dataframe tbody tr th:only-of-type {\n",
       "        vertical-align: middle;\n",
       "    }\n",
       "\n",
       "    .dataframe tbody tr th {\n",
       "        vertical-align: top;\n",
       "    }\n",
       "\n",
       "    .dataframe thead th {\n",
       "        text-align: right;\n",
       "    }\n",
       "</style>\n",
       "<table border=\"1\" class=\"dataframe\">\n",
       "  <thead>\n",
       "    <tr style=\"text-align: right;\">\n",
       "      <th></th>\n",
       "      <th>i1</th>\n",
       "      <th>i2</th>\n",
       "    </tr>\n",
       "  </thead>\n",
       "  <tbody>\n",
       "    <tr>\n",
       "      <th>a</th>\n",
       "      <td>1</td>\n",
       "      <td>2</td>\n",
       "    </tr>\n",
       "    <tr>\n",
       "      <th>b</th>\n",
       "      <td>3</td>\n",
       "      <td>4</td>\n",
       "    </tr>\n",
       "  </tbody>\n",
       "</table>\n",
       "</div>"
      ],
      "text/plain": [
       "   i1  i2\n",
       "a   1   2\n",
       "b   3   4"
      ]
     },
     "execution_count": 89,
     "metadata": {},
     "output_type": "execute_result"
    }
   ],
   "source": [
    "# 4-from dict of dict\n",
    "\n",
    "dic = {\n",
    "    'a': {'i1': 1, 'i2' : 2},\n",
    "    'b': {'i1': 3, 'i2' : 4}\n",
    "}\n",
    "\n",
    "df7 = pd.DataFrame(dic).T\n",
    "df7"
   ]
  },
  {
   "cell_type": "code",
   "execution_count": null,
   "id": "9fe4e64f-2d85-4cc1-803f-0d76e59d2fae",
   "metadata": {},
   "outputs": [],
   "source": [
    "#5 pd.read_csv(filepath, index_col)\n",
    "#6 pd.read_excel"
   ]
  },
  {
   "cell_type": "code",
   "execution_count": null,
   "id": "05229cb5-8721-44a8-9438-0e6e898f7983",
   "metadata": {},
   "outputs": [],
   "source": []
  },
  {
   "cell_type": "markdown",
   "id": "43d363d1-78f9-46a4-84bd-7f8a16eabd23",
   "metadata": {},
   "source": [
    "<h1>df.info() and df.dtypes</h1>"
   ]
  },
  {
   "cell_type": "code",
   "execution_count": 90,
   "id": "b07b883e-22a3-43f1-8ef3-bdfd51c609fd",
   "metadata": {},
   "outputs": [
    {
     "name": "stdout",
     "output_type": "stream",
     "text": [
      "<class 'pandas.core.frame.DataFrame'>\n",
      "Index: 2 entries, a to b\n",
      "Data columns (total 2 columns):\n",
      " #   Column  Non-Null Count  Dtype\n",
      "---  ------  --------------  -----\n",
      " 0   i1      2 non-null      int64\n",
      " 1   i2      2 non-null      int64\n",
      "dtypes: int64(2)\n",
      "memory usage: 48.0+ bytes\n"
     ]
    }
   ],
   "source": [
    "df7.info()"
   ]
  },
  {
   "cell_type": "code",
   "execution_count": 92,
   "id": "1cfada0d-a061-45ca-8046-061031a2d6af",
   "metadata": {},
   "outputs": [
    {
     "data": {
      "text/plain": [
       "i1    int64\n",
       "i2    int64\n",
       "dtype: object"
      ]
     },
     "execution_count": 92,
     "metadata": {},
     "output_type": "execute_result"
    }
   ],
   "source": [
    "df7.dtypes"
   ]
  },
  {
   "cell_type": "code",
   "execution_count": null,
   "id": "6c4b7b54-1bda-4351-b3af-b19ec1946946",
   "metadata": {},
   "outputs": [],
   "source": []
  },
  {
   "cell_type": "code",
   "execution_count": null,
   "id": "0e9d3673-64d1-4167-9e77-7a467877c94f",
   "metadata": {},
   "outputs": [],
   "source": []
  },
  {
   "cell_type": "markdown",
   "id": "33e8c061-ca2c-4fc4-b238-007d4f891a53",
   "metadata": {},
   "source": [
    "<h1>dataframe vs series</h1>"
   ]
  },
  {
   "cell_type": "code",
   "execution_count": 93,
   "id": "4b4134e7-3dad-4c49-a275-b81f474f0489",
   "metadata": {},
   "outputs": [],
   "source": [
    "df = df7\n",
    "s =df.i1"
   ]
  },
  {
   "cell_type": "code",
   "execution_count": 96,
   "id": "4247b3d4-8517-4643-8593-b0d4f1d17f91",
   "metadata": {},
   "outputs": [
    {
     "data": {
      "text/plain": [
       "a    1\n",
       "b    3\n",
       "Name: i1, dtype: int64"
      ]
     },
     "execution_count": 96,
     "metadata": {},
     "output_type": "execute_result"
    }
   ],
   "source": [
    "s"
   ]
  },
  {
   "cell_type": "code",
   "execution_count": 95,
   "id": "a058b86d-fbac-4a82-bc10-9889a333656a",
   "metadata": {},
   "outputs": [
    {
     "data": {
      "text/html": [
       "<div>\n",
       "<style scoped>\n",
       "    .dataframe tbody tr th:only-of-type {\n",
       "        vertical-align: middle;\n",
       "    }\n",
       "\n",
       "    .dataframe tbody tr th {\n",
       "        vertical-align: top;\n",
       "    }\n",
       "\n",
       "    .dataframe thead th {\n",
       "        text-align: right;\n",
       "    }\n",
       "</style>\n",
       "<table border=\"1\" class=\"dataframe\">\n",
       "  <thead>\n",
       "    <tr style=\"text-align: right;\">\n",
       "      <th></th>\n",
       "      <th>i1</th>\n",
       "      <th>i2</th>\n",
       "    </tr>\n",
       "  </thead>\n",
       "  <tbody>\n",
       "    <tr>\n",
       "      <th>a</th>\n",
       "      <td>1</td>\n",
       "      <td>2</td>\n",
       "    </tr>\n",
       "    <tr>\n",
       "      <th>b</th>\n",
       "      <td>3</td>\n",
       "      <td>4</td>\n",
       "    </tr>\n",
       "  </tbody>\n",
       "</table>\n",
       "</div>"
      ],
      "text/plain": [
       "   i1  i2\n",
       "a   1   2\n",
       "b   3   4"
      ]
     },
     "execution_count": 95,
     "metadata": {},
     "output_type": "execute_result"
    }
   ],
   "source": [
    "df"
   ]
  },
  {
   "cell_type": "code",
   "execution_count": 94,
   "id": "5e582a6d-2542-4fe7-8513-1e67e9f75e22",
   "metadata": {},
   "outputs": [
    {
     "data": {
      "text/plain": [
       "((2, 2), (2,))"
      ]
     },
     "execution_count": 94,
     "metadata": {},
     "output_type": "execute_result"
    }
   ],
   "source": [
    "df.shape , s.shape"
   ]
  },
  {
   "cell_type": "code",
   "execution_count": 99,
   "id": "276b513d-1e73-420f-9916-6cc68d12659d",
   "metadata": {},
   "outputs": [
    {
     "data": {
      "text/plain": [
       "(2, 1)"
      ]
     },
     "execution_count": 99,
     "metadata": {},
     "output_type": "execute_result"
    }
   ],
   "source": [
    "# df dobodi va series iek bodi hast, bekhatere hamin\n",
    "# tuple shape series tak adade hast\n",
    "df.ndim , s.ndim"
   ]
  },
  {
   "cell_type": "code",
   "execution_count": 109,
   "id": "152f73f5-5b9f-4df6-adad-4d588e7351d9",
   "metadata": {},
   "outputs": [
    {
     "data": {
      "text/plain": [
       "i1    int64\n",
       "i2    int64\n",
       "dtype: object"
      ]
     },
     "execution_count": 109,
     "metadata": {},
     "output_type": "execute_result"
    }
   ],
   "source": [
    "# df.dtype No No No\n",
    "df.dtypes"
   ]
  },
  {
   "cell_type": "code",
   "execution_count": 107,
   "id": "8c49510b-ebee-4fea-8d29-e0bb95dad33b",
   "metadata": {},
   "outputs": [
    {
     "data": {
      "text/plain": [
       "(dtype('int64'), dtype('int64'))"
      ]
     },
     "execution_count": 107,
     "metadata": {},
     "output_type": "execute_result"
    }
   ],
   "source": [
    "s.dtype , s.dtypes"
   ]
  },
  {
   "cell_type": "code",
   "execution_count": null,
   "id": "9ad81731-f36e-4079-8f47-3cc08e1f1272",
   "metadata": {},
   "outputs": [],
   "source": []
  },
  {
   "cell_type": "code",
   "execution_count": null,
   "id": "0eb0674f-ccf6-43ff-9c6f-306cb53f97e3",
   "metadata": {},
   "outputs": [],
   "source": []
  },
  {
   "cell_type": "code",
   "execution_count": null,
   "id": "1aae3657-3cb3-49df-ab5d-4114ccf66243",
   "metadata": {},
   "outputs": [],
   "source": []
  },
  {
   "cell_type": "markdown",
   "id": "da5e535d-0727-4423-a517-85cb513b5453",
   "metadata": {},
   "source": [
    "<h1>sorting df</h1>"
   ]
  },
  {
   "cell_type": "markdown",
   "id": "812a6504-4f70-4aff-aeca-724bb3dc5565",
   "metadata": {},
   "source": [
    "<ul>\n",
    "    <li>df.sort_values(by='Team')</li>\n",
    "    <li>df.sort_values(by=['Team', Mgmt'])</li>\n",
    "    <li>df.sort_index() / df.sort_index(axis=0)  baraie sotune index</li>\n",
    "    <li>df.sort_index(axis='columns') / df.sort_index(axis=1)  baraie moratab kardan sotun ha</li>\n",
    "</ul>"
   ]
  },
  {
   "cell_type": "code",
   "execution_count": 1,
   "id": "0abe7e8a-686c-4360-bd37-92d9758f319d",
   "metadata": {},
   "outputs": [],
   "source": [
    "import pandas as pd\n",
    "df = pd.read_csv('employees.csv', index_col='First Name')"
   ]
  },
  {
   "cell_type": "code",
   "execution_count": 3,
   "id": "a9285bf5-547c-45c2-b367-0bd42f43cbf2",
   "metadata": {},
   "outputs": [
    {
     "data": {
      "text/html": [
       "<div>\n",
       "<style scoped>\n",
       "    .dataframe tbody tr th:only-of-type {\n",
       "        vertical-align: middle;\n",
       "    }\n",
       "\n",
       "    .dataframe tbody tr th {\n",
       "        vertical-align: top;\n",
       "    }\n",
       "\n",
       "    .dataframe thead th {\n",
       "        text-align: right;\n",
       "    }\n",
       "</style>\n",
       "<table border=\"1\" class=\"dataframe\">\n",
       "  <thead>\n",
       "    <tr style=\"text-align: right;\">\n",
       "      <th></th>\n",
       "      <th>Gender</th>\n",
       "      <th>Start Date</th>\n",
       "      <th>Salary</th>\n",
       "      <th>Mgmt</th>\n",
       "      <th>Team</th>\n",
       "    </tr>\n",
       "    <tr>\n",
       "      <th>First Name</th>\n",
       "      <th></th>\n",
       "      <th></th>\n",
       "      <th></th>\n",
       "      <th></th>\n",
       "      <th></th>\n",
       "    </tr>\n",
       "  </thead>\n",
       "  <tbody>\n",
       "    <tr>\n",
       "      <th>Sharon</th>\n",
       "      <td>NaN</td>\n",
       "      <td>3/1/90</td>\n",
       "      <td>83658.0</td>\n",
       "      <td>False</td>\n",
       "      <td>Business Dev</td>\n",
       "    </tr>\n",
       "    <tr>\n",
       "      <th>Doris</th>\n",
       "      <td>Female</td>\n",
       "      <td>7/5/93</td>\n",
       "      <td>141439.0</td>\n",
       "      <td>False</td>\n",
       "      <td>Business Dev</td>\n",
       "    </tr>\n",
       "    <tr>\n",
       "      <th>Mark</th>\n",
       "      <td>Male</td>\n",
       "      <td>4/12/08</td>\n",
       "      <td>57286.0</td>\n",
       "      <td>True</td>\n",
       "      <td>Business Dev</td>\n",
       "    </tr>\n",
       "  </tbody>\n",
       "</table>\n",
       "</div>"
      ],
      "text/plain": [
       "            Gender Start Date    Salary   Mgmt          Team\n",
       "First Name                                                  \n",
       "Sharon         NaN     3/1/90   83658.0  False  Business Dev\n",
       "Doris       Female     7/5/93  141439.0  False  Business Dev\n",
       "Mark          Male    4/12/08   57286.0   True  Business Dev"
      ]
     },
     "execution_count": 3,
     "metadata": {},
     "output_type": "execute_result"
    }
   ],
   "source": [
    "df.sort_values(by='Team').head(3)\n",
    "# flags ascending naposition"
   ]
  },
  {
   "cell_type": "code",
   "execution_count": 6,
   "id": "0f9489aa-281c-4cc0-8743-b80d4b291977",
   "metadata": {},
   "outputs": [
    {
     "data": {
      "text/html": [
       "<div>\n",
       "<style scoped>\n",
       "    .dataframe tbody tr th:only-of-type {\n",
       "        vertical-align: middle;\n",
       "    }\n",
       "\n",
       "    .dataframe tbody tr th {\n",
       "        vertical-align: top;\n",
       "    }\n",
       "\n",
       "    .dataframe thead th {\n",
       "        text-align: right;\n",
       "    }\n",
       "</style>\n",
       "<table border=\"1\" class=\"dataframe\">\n",
       "  <thead>\n",
       "    <tr style=\"text-align: right;\">\n",
       "      <th></th>\n",
       "      <th>Gender</th>\n",
       "      <th>Start Date</th>\n",
       "      <th>Salary</th>\n",
       "      <th>Mgmt</th>\n",
       "      <th>Team</th>\n",
       "    </tr>\n",
       "    <tr>\n",
       "      <th>First Name</th>\n",
       "      <th></th>\n",
       "      <th></th>\n",
       "      <th></th>\n",
       "      <th></th>\n",
       "      <th></th>\n",
       "    </tr>\n",
       "  </thead>\n",
       "  <tbody>\n",
       "    <tr>\n",
       "      <th>Frances</th>\n",
       "      <td>Female</td>\n",
       "      <td>8/8/02</td>\n",
       "      <td>139852.0</td>\n",
       "      <td>True</td>\n",
       "      <td>Business Dev</td>\n",
       "    </tr>\n",
       "    <tr>\n",
       "      <th>Stephanie</th>\n",
       "      <td>Female</td>\n",
       "      <td>9/13/86</td>\n",
       "      <td>36844.0</td>\n",
       "      <td>True</td>\n",
       "      <td>Business Dev</td>\n",
       "    </tr>\n",
       "    <tr>\n",
       "      <th>Christine</th>\n",
       "      <td>NaN</td>\n",
       "      <td>6/28/15</td>\n",
       "      <td>66582.0</td>\n",
       "      <td>True</td>\n",
       "      <td>Business Dev</td>\n",
       "    </tr>\n",
       "    <tr>\n",
       "      <th>Clarence</th>\n",
       "      <td>Male</td>\n",
       "      <td>3/26/96</td>\n",
       "      <td>93581.0</td>\n",
       "      <td>True</td>\n",
       "      <td>Business Dev</td>\n",
       "    </tr>\n",
       "    <tr>\n",
       "      <th>Nancy</th>\n",
       "      <td>Female</td>\n",
       "      <td>12/15/12</td>\n",
       "      <td>125250.0</td>\n",
       "      <td>True</td>\n",
       "      <td>Business Dev</td>\n",
       "    </tr>\n",
       "    <tr>\n",
       "      <th>...</th>\n",
       "      <td>...</td>\n",
       "      <td>...</td>\n",
       "      <td>...</td>\n",
       "      <td>...</td>\n",
       "      <td>...</td>\n",
       "    </tr>\n",
       "    <tr>\n",
       "      <th>NaN</th>\n",
       "      <td>Female</td>\n",
       "      <td>4/13/97</td>\n",
       "      <td>131755.0</td>\n",
       "      <td>NaN</td>\n",
       "      <td>NaN</td>\n",
       "    </tr>\n",
       "    <tr>\n",
       "      <th>NaN</th>\n",
       "      <td>Female</td>\n",
       "      <td>6/18/00</td>\n",
       "      <td>106428.0</td>\n",
       "      <td>NaN</td>\n",
       "      <td>NaN</td>\n",
       "    </tr>\n",
       "    <tr>\n",
       "      <th>NaN</th>\n",
       "      <td>NaN</td>\n",
       "      <td>8/1/88</td>\n",
       "      <td>87103.0</td>\n",
       "      <td>NaN</td>\n",
       "      <td>NaN</td>\n",
       "    </tr>\n",
       "    <tr>\n",
       "      <th>NaN</th>\n",
       "      <td>Female</td>\n",
       "      <td>9/14/10</td>\n",
       "      <td>143638.0</td>\n",
       "      <td>NaN</td>\n",
       "      <td>NaN</td>\n",
       "    </tr>\n",
       "    <tr>\n",
       "      <th>NaN</th>\n",
       "      <td>NaN</td>\n",
       "      <td>NaN</td>\n",
       "      <td>NaN</td>\n",
       "      <td>NaN</td>\n",
       "      <td>NaN</td>\n",
       "    </tr>\n",
       "  </tbody>\n",
       "</table>\n",
       "<p>1001 rows × 5 columns</p>\n",
       "</div>"
      ],
      "text/plain": [
       "            Gender Start Date    Salary  Mgmt          Team\n",
       "First Name                                                 \n",
       "Frances     Female     8/8/02  139852.0  True  Business Dev\n",
       "Stephanie   Female    9/13/86   36844.0  True  Business Dev\n",
       "Christine      NaN    6/28/15   66582.0  True  Business Dev\n",
       "Clarence      Male    3/26/96   93581.0  True  Business Dev\n",
       "Nancy       Female   12/15/12  125250.0  True  Business Dev\n",
       "...            ...        ...       ...   ...           ...\n",
       "NaN         Female    4/13/97  131755.0   NaN           NaN\n",
       "NaN         Female    6/18/00  106428.0   NaN           NaN\n",
       "NaN            NaN     8/1/88   87103.0   NaN           NaN\n",
       "NaN         Female    9/14/10  143638.0   NaN           NaN\n",
       "NaN            NaN        NaN       NaN   NaN           NaN\n",
       "\n",
       "[1001 rows x 5 columns]"
      ]
     },
     "execution_count": 6,
     "metadata": {},
     "output_type": "execute_result"
    }
   ],
   "source": [
    "df.sort_values(by=['Team', 'Mgmt'],\n",
    "          ascending=[True, False])"
   ]
  },
  {
   "cell_type": "markdown",
   "id": "b628875b-a4fc-4d24-abda-28c731c779e2",
   "metadata": {},
   "source": [
    "<h1>ezafe kardan sotun be df</h1>"
   ]
  },
  {
   "cell_type": "raw",
   "id": "2d60a779-b204-4b56-8850-12cd120f349d",
   "metadata": {},
   "source": [
    "df[esame sotun jadid] = amaliat ruie sotun haie mojud"
   ]
  },
  {
   "cell_type": "markdown",
   "id": "3de6120d-3d8a-44dd-8b79-1bdb50af279c",
   "metadata": {},
   "source": [
    "<h1>create sub df</h1>"
   ]
  },
  {
   "cell_type": "markdown",
   "id": "87839b49-3057-41c0-beba-fc28b52fcb3d",
   "metadata": {},
   "source": [
    "<p>iek ia chand sotun + index column. age iek sotun bashe mishe series. </p>"
   ]
  },
  {
   "cell_type": "code",
   "execution_count": 8,
   "id": "f61daff9-480c-40f2-80cc-0519744ba2fd",
   "metadata": {},
   "outputs": [],
   "source": [
    "sub_df = df[['Team' , 'Mgmt']]"
   ]
  },
  {
   "cell_type": "code",
   "execution_count": 9,
   "id": "e14d8edf-640e-42ff-bbed-183f2c8fa0ca",
   "metadata": {},
   "outputs": [
    {
     "data": {
      "text/html": [
       "<div>\n",
       "<style scoped>\n",
       "    .dataframe tbody tr th:only-of-type {\n",
       "        vertical-align: middle;\n",
       "    }\n",
       "\n",
       "    .dataframe tbody tr th {\n",
       "        vertical-align: top;\n",
       "    }\n",
       "\n",
       "    .dataframe thead th {\n",
       "        text-align: right;\n",
       "    }\n",
       "</style>\n",
       "<table border=\"1\" class=\"dataframe\">\n",
       "  <thead>\n",
       "    <tr style=\"text-align: right;\">\n",
       "      <th></th>\n",
       "      <th>Team</th>\n",
       "      <th>Mgmt</th>\n",
       "    </tr>\n",
       "    <tr>\n",
       "      <th>First Name</th>\n",
       "      <th></th>\n",
       "      <th></th>\n",
       "    </tr>\n",
       "  </thead>\n",
       "  <tbody>\n",
       "    <tr>\n",
       "      <th>Douglas</th>\n",
       "      <td>Marketing</td>\n",
       "      <td>True</td>\n",
       "    </tr>\n",
       "    <tr>\n",
       "      <th>Thomas</th>\n",
       "      <td>NaN</td>\n",
       "      <td>True</td>\n",
       "    </tr>\n",
       "    <tr>\n",
       "      <th>Maria</th>\n",
       "      <td>Finance</td>\n",
       "      <td>False</td>\n",
       "    </tr>\n",
       "  </tbody>\n",
       "</table>\n",
       "</div>"
      ],
      "text/plain": [
       "                 Team   Mgmt\n",
       "First Name                  \n",
       "Douglas     Marketing   True\n",
       "Thomas            NaN   True\n",
       "Maria         Finance  False"
      ]
     },
     "execution_count": 9,
     "metadata": {},
     "output_type": "execute_result"
    }
   ],
   "source": [
    "sub_df.head(3)"
   ]
  },
  {
   "cell_type": "code",
   "execution_count": 10,
   "id": "cdba849e-1c2c-4feb-9477-b64c1e048abd",
   "metadata": {},
   "outputs": [],
   "source": [
    "sub_df = df['Team']"
   ]
  },
  {
   "cell_type": "code",
   "execution_count": 11,
   "id": "765d2774-a07a-49d7-97a5-38e35ae37199",
   "metadata": {},
   "outputs": [
    {
     "data": {
      "text/plain": [
       "First Name\n",
       "Douglas    Marketing\n",
       "Thomas           NaN\n",
       "Maria        Finance\n",
       "Name: Team, dtype: object"
      ]
     },
     "execution_count": 11,
     "metadata": {},
     "output_type": "execute_result"
    }
   ],
   "source": [
    "sub_df.head(3)"
   ]
  },
  {
   "cell_type": "code",
   "execution_count": null,
   "id": "66498abd-f76d-4ee7-b2eb-037f7b08cb55",
   "metadata": {},
   "outputs": [],
   "source": []
  },
  {
   "cell_type": "markdown",
   "id": "13a506c5-b792-4461-aa58-43371c77566c",
   "metadata": {},
   "source": [
    "<h1>change the order of columns</h1>"
   ]
  },
  {
   "cell_type": "code",
   "execution_count": 12,
   "id": "532049e5-8e6c-4605-869c-3ed40dfc0bbb",
   "metadata": {},
   "outputs": [],
   "source": [
    "# 1- df[[..., ...]] hamneie sotunha to be tartib delkhah\n",
    "# mizarim"
   ]
  },
  {
   "cell_type": "code",
   "execution_count": 13,
   "id": "4479917c-63dc-4b69-85c6-79c7329e4b2c",
   "metadata": {},
   "outputs": [],
   "source": [
    "# 2 = def.reindex(columns=[... , ...]) hamneie sotunha to be tartib delkhah\n",
    "# mizarim"
   ]
  },
  {
   "cell_type": "code",
   "execution_count": null,
   "id": "b0cae27c-af15-40c4-a235-6df1c17fd6fd",
   "metadata": {},
   "outputs": [],
   "source": []
  },
  {
   "cell_type": "markdown",
   "id": "0037a88d-6a45-41fc-b75f-f4fc4ef9ce6e",
   "metadata": {},
   "source": [
    "<h1> changing index</h1>"
   ]
  },
  {
   "cell_type": "raw",
   "id": "34c25be3-3b82-4cc6-a6cf-5943038adbfa",
   "metadata": {},
   "source": [
    "aval reset_index ta sotun index be sotun haie values bargarde va jaie index shomare radif gharar begire bad set_index baraie entekhab sotun index jadid. age bedun reset eghdam be set beshe index ghabli az dast mire. makhsusan age falg inplace=True estefade karde bashi ke biad khod df ro taghir bede na inke ie df jadid bargardune"
   ]
  },
  {
   "cell_type": "code",
   "execution_count": 21,
   "id": "8ed15648-f6b4-449b-9376-db7e904ae6bf",
   "metadata": {},
   "outputs": [
    {
     "data": {
      "text/html": [
       "<div>\n",
       "<style scoped>\n",
       "    .dataframe tbody tr th:only-of-type {\n",
       "        vertical-align: middle;\n",
       "    }\n",
       "\n",
       "    .dataframe tbody tr th {\n",
       "        vertical-align: top;\n",
       "    }\n",
       "\n",
       "    .dataframe thead th {\n",
       "        text-align: right;\n",
       "    }\n",
       "</style>\n",
       "<table border=\"1\" class=\"dataframe\">\n",
       "  <thead>\n",
       "    <tr style=\"text-align: right;\">\n",
       "      <th></th>\n",
       "      <th>First Name</th>\n",
       "      <th>Gender</th>\n",
       "      <th>Start Date</th>\n",
       "      <th>Salary</th>\n",
       "      <th>Mgmt</th>\n",
       "    </tr>\n",
       "    <tr>\n",
       "      <th>Team</th>\n",
       "      <th></th>\n",
       "      <th></th>\n",
       "      <th></th>\n",
       "      <th></th>\n",
       "      <th></th>\n",
       "    </tr>\n",
       "  </thead>\n",
       "  <tbody>\n",
       "    <tr>\n",
       "      <th>Marketing</th>\n",
       "      <td>Douglas</td>\n",
       "      <td>Male</td>\n",
       "      <td>8/6/93</td>\n",
       "      <td>NaN</td>\n",
       "      <td>True</td>\n",
       "    </tr>\n",
       "    <tr>\n",
       "      <th>NaN</th>\n",
       "      <td>Thomas</td>\n",
       "      <td>Male</td>\n",
       "      <td>3/31/96</td>\n",
       "      <td>61933.0</td>\n",
       "      <td>True</td>\n",
       "    </tr>\n",
       "    <tr>\n",
       "      <th>Finance</th>\n",
       "      <td>Maria</td>\n",
       "      <td>Female</td>\n",
       "      <td>NaN</td>\n",
       "      <td>130590.0</td>\n",
       "      <td>False</td>\n",
       "    </tr>\n",
       "    <tr>\n",
       "      <th>Finance</th>\n",
       "      <td>Jerry</td>\n",
       "      <td>NaN</td>\n",
       "      <td>3/4/05</td>\n",
       "      <td>138705.0</td>\n",
       "      <td>True</td>\n",
       "    </tr>\n",
       "    <tr>\n",
       "      <th>IT</th>\n",
       "      <td>Larry</td>\n",
       "      <td>Male</td>\n",
       "      <td>1/24/98</td>\n",
       "      <td>101004.0</td>\n",
       "      <td>True</td>\n",
       "    </tr>\n",
       "    <tr>\n",
       "      <th>...</th>\n",
       "      <td>...</td>\n",
       "      <td>...</td>\n",
       "      <td>...</td>\n",
       "      <td>...</td>\n",
       "      <td>...</td>\n",
       "    </tr>\n",
       "    <tr>\n",
       "      <th>Finance</th>\n",
       "      <td>Phillip</td>\n",
       "      <td>Male</td>\n",
       "      <td>1/31/84</td>\n",
       "      <td>42392.0</td>\n",
       "      <td>False</td>\n",
       "    </tr>\n",
       "    <tr>\n",
       "      <th>Product</th>\n",
       "      <td>Russell</td>\n",
       "      <td>Male</td>\n",
       "      <td>5/20/13</td>\n",
       "      <td>96914.0</td>\n",
       "      <td>False</td>\n",
       "    </tr>\n",
       "    <tr>\n",
       "      <th>Business Dev</th>\n",
       "      <td>Larry</td>\n",
       "      <td>Male</td>\n",
       "      <td>4/20/13</td>\n",
       "      <td>60500.0</td>\n",
       "      <td>False</td>\n",
       "    </tr>\n",
       "    <tr>\n",
       "      <th>Sales</th>\n",
       "      <td>Albert</td>\n",
       "      <td>Male</td>\n",
       "      <td>5/15/12</td>\n",
       "      <td>129949.0</td>\n",
       "      <td>True</td>\n",
       "    </tr>\n",
       "    <tr>\n",
       "      <th>NaN</th>\n",
       "      <td>NaN</td>\n",
       "      <td>NaN</td>\n",
       "      <td>NaN</td>\n",
       "      <td>NaN</td>\n",
       "      <td>NaN</td>\n",
       "    </tr>\n",
       "  </tbody>\n",
       "</table>\n",
       "<p>1001 rows × 5 columns</p>\n",
       "</div>"
      ],
      "text/plain": [
       "             First Name  Gender Start Date    Salary   Mgmt\n",
       "Team                                                       \n",
       "Marketing       Douglas    Male     8/6/93       NaN   True\n",
       "NaN              Thomas    Male    3/31/96   61933.0   True\n",
       "Finance           Maria  Female        NaN  130590.0  False\n",
       "Finance           Jerry     NaN     3/4/05  138705.0   True\n",
       "IT                Larry    Male    1/24/98  101004.0   True\n",
       "...                 ...     ...        ...       ...    ...\n",
       "Finance         Phillip    Male    1/31/84   42392.0  False\n",
       "Product         Russell    Male    5/20/13   96914.0  False\n",
       "Business Dev      Larry    Male    4/20/13   60500.0  False\n",
       "Sales            Albert    Male    5/15/12  129949.0   True\n",
       "NaN                 NaN     NaN        NaN       NaN    NaN\n",
       "\n",
       "[1001 rows x 5 columns]"
      ]
     },
     "execution_count": 21,
     "metadata": {},
     "output_type": "execute_result"
    }
   ],
   "source": [
    "df.reset_index().set_index(keys='Team')\n"
   ]
  },
  {
   "cell_type": "code",
   "execution_count": 16,
   "id": "1709d26f-6439-400b-aa22-45c0cc66ccbf",
   "metadata": {},
   "outputs": [
    {
     "data": {
      "text/html": [
       "<div>\n",
       "<style scoped>\n",
       "    .dataframe tbody tr th:only-of-type {\n",
       "        vertical-align: middle;\n",
       "    }\n",
       "\n",
       "    .dataframe tbody tr th {\n",
       "        vertical-align: top;\n",
       "    }\n",
       "\n",
       "    .dataframe thead th {\n",
       "        text-align: right;\n",
       "    }\n",
       "</style>\n",
       "<table border=\"1\" class=\"dataframe\">\n",
       "  <thead>\n",
       "    <tr style=\"text-align: right;\">\n",
       "      <th></th>\n",
       "      <th>Gender</th>\n",
       "      <th>Start Date</th>\n",
       "      <th>Salary</th>\n",
       "      <th>Mgmt</th>\n",
       "      <th>Team</th>\n",
       "    </tr>\n",
       "    <tr>\n",
       "      <th>First Name</th>\n",
       "      <th></th>\n",
       "      <th></th>\n",
       "      <th></th>\n",
       "      <th></th>\n",
       "      <th></th>\n",
       "    </tr>\n",
       "  </thead>\n",
       "  <tbody>\n",
       "    <tr>\n",
       "      <th>Douglas</th>\n",
       "      <td>Male</td>\n",
       "      <td>8/6/93</td>\n",
       "      <td>NaN</td>\n",
       "      <td>True</td>\n",
       "      <td>Marketing</td>\n",
       "    </tr>\n",
       "    <tr>\n",
       "      <th>Thomas</th>\n",
       "      <td>Male</td>\n",
       "      <td>3/31/96</td>\n",
       "      <td>61933.0</td>\n",
       "      <td>True</td>\n",
       "      <td>NaN</td>\n",
       "    </tr>\n",
       "    <tr>\n",
       "      <th>Maria</th>\n",
       "      <td>Female</td>\n",
       "      <td>NaN</td>\n",
       "      <td>130590.0</td>\n",
       "      <td>False</td>\n",
       "      <td>Finance</td>\n",
       "    </tr>\n",
       "    <tr>\n",
       "      <th>Jerry</th>\n",
       "      <td>NaN</td>\n",
       "      <td>3/4/05</td>\n",
       "      <td>138705.0</td>\n",
       "      <td>True</td>\n",
       "      <td>Finance</td>\n",
       "    </tr>\n",
       "    <tr>\n",
       "      <th>Larry</th>\n",
       "      <td>Male</td>\n",
       "      <td>1/24/98</td>\n",
       "      <td>101004.0</td>\n",
       "      <td>True</td>\n",
       "      <td>IT</td>\n",
       "    </tr>\n",
       "    <tr>\n",
       "      <th>...</th>\n",
       "      <td>...</td>\n",
       "      <td>...</td>\n",
       "      <td>...</td>\n",
       "      <td>...</td>\n",
       "      <td>...</td>\n",
       "    </tr>\n",
       "    <tr>\n",
       "      <th>Phillip</th>\n",
       "      <td>Male</td>\n",
       "      <td>1/31/84</td>\n",
       "      <td>42392.0</td>\n",
       "      <td>False</td>\n",
       "      <td>Finance</td>\n",
       "    </tr>\n",
       "    <tr>\n",
       "      <th>Russell</th>\n",
       "      <td>Male</td>\n",
       "      <td>5/20/13</td>\n",
       "      <td>96914.0</td>\n",
       "      <td>False</td>\n",
       "      <td>Product</td>\n",
       "    </tr>\n",
       "    <tr>\n",
       "      <th>Larry</th>\n",
       "      <td>Male</td>\n",
       "      <td>4/20/13</td>\n",
       "      <td>60500.0</td>\n",
       "      <td>False</td>\n",
       "      <td>Business Dev</td>\n",
       "    </tr>\n",
       "    <tr>\n",
       "      <th>Albert</th>\n",
       "      <td>Male</td>\n",
       "      <td>5/15/12</td>\n",
       "      <td>129949.0</td>\n",
       "      <td>True</td>\n",
       "      <td>Sales</td>\n",
       "    </tr>\n",
       "    <tr>\n",
       "      <th>NaN</th>\n",
       "      <td>NaN</td>\n",
       "      <td>NaN</td>\n",
       "      <td>NaN</td>\n",
       "      <td>NaN</td>\n",
       "      <td>NaN</td>\n",
       "    </tr>\n",
       "  </tbody>\n",
       "</table>\n",
       "<p>1001 rows × 5 columns</p>\n",
       "</div>"
      ],
      "text/plain": [
       "            Gender Start Date    Salary   Mgmt          Team\n",
       "First Name                                                  \n",
       "Douglas       Male     8/6/93       NaN   True     Marketing\n",
       "Thomas        Male    3/31/96   61933.0   True           NaN\n",
       "Maria       Female        NaN  130590.0  False       Finance\n",
       "Jerry          NaN     3/4/05  138705.0   True       Finance\n",
       "Larry         Male    1/24/98  101004.0   True            IT\n",
       "...            ...        ...       ...    ...           ...\n",
       "Phillip       Male    1/31/84   42392.0  False       Finance\n",
       "Russell       Male    5/20/13   96914.0  False       Product\n",
       "Larry         Male    4/20/13   60500.0  False  Business Dev\n",
       "Albert        Male    5/15/12  129949.0   True         Sales\n",
       "NaN            NaN        NaN       NaN    NaN           NaN\n",
       "\n",
       "[1001 rows x 5 columns]"
      ]
     },
     "execution_count": 16,
     "metadata": {},
     "output_type": "execute_result"
    }
   ],
   "source": [
    "df"
   ]
  },
  {
   "cell_type": "markdown",
   "id": "bd129e14-d61d-41c5-8c0a-40fd81d4b565",
   "metadata": {},
   "source": [
    "<h1>changing iek bakhshi az index ghabli</h1>"
   ]
  },
  {
   "cell_type": "code",
   "execution_count": 33,
   "id": "c0414ad4-682e-4dc0-bab0-ec386e49ee3f",
   "metadata": {},
   "outputs": [],
   "source": [
    "# df.rename({old_index_1 : new_index_1})"
   ]
  },
  {
   "cell_type": "code",
   "execution_count": null,
   "id": "679f108a-46dc-4cb4-b5c8-9b65ee1888cc",
   "metadata": {},
   "outputs": [],
   "source": []
  },
  {
   "cell_type": "markdown",
   "id": "710b2ef7-f51f-4327-968b-74cd0ef875ad",
   "metadata": {},
   "source": [
    "<h1>NaN vs NaT</h1>"
   ]
  },
  {
   "cell_type": "raw",
   "id": "f75e417c-781a-4f3f-bc8d-7c7f369f61b8",
   "metadata": {},
   "source": [
    "vaghti sotun haie az jense tarikh ra ba parse_dates=['...','...'] be datetime tabdil mikonim, NaN mishavand NaT(Not a Time be Not a Number)"
   ]
  },
  {
   "cell_type": "code",
   "execution_count": null,
   "id": "304e1b61-23eb-4737-8b72-04d525b370c3",
   "metadata": {},
   "outputs": [],
   "source": []
  },
  {
   "cell_type": "code",
   "execution_count": null,
   "id": "74c07a75-8c63-482e-80ac-5ee2ebbbb1fb",
   "metadata": {},
   "outputs": [],
   "source": []
  },
  {
   "cell_type": "markdown",
   "id": "6c1a23f1-a159-4b33-8f19-4cf189ceb8c0",
   "metadata": {},
   "source": [
    "<h1>df.select_dtypes(include / exclude)</h1>"
   ]
  },
  {
   "cell_type": "code",
   "execution_count": 2,
   "id": "5c290bf5-f8cd-4853-8b2b-03c5613f75e8",
   "metadata": {},
   "outputs": [],
   "source": [
    "import pandas as pd"
   ]
  },
  {
   "cell_type": "code",
   "execution_count": 5,
   "id": "2990e9d9-62a7-425e-89c2-9068dd6bb860",
   "metadata": {},
   "outputs": [
    {
     "name": "stderr",
     "output_type": "stream",
     "text": [
      "/tmp/ipykernel_10446/2532769254.py:1: UserWarning: Could not infer format, so each element will be parsed individually, falling back to `dateutil`. To ensure parsing is consistent and as-expected, please specify a format.\n",
      "  df = pd.read_csv('employees.csv', parse_dates=['Start Date'])\n"
     ]
    }
   ],
   "source": [
    "df = pd.read_csv('employees.csv', parse_dates=['Start Date'])"
   ]
  },
  {
   "cell_type": "code",
   "execution_count": 9,
   "id": "1c7b818f-a1d9-47d6-a257-a84078d3de2d",
   "metadata": {},
   "outputs": [
    {
     "data": {
      "text/html": [
       "<div>\n",
       "<style scoped>\n",
       "    .dataframe tbody tr th:only-of-type {\n",
       "        vertical-align: middle;\n",
       "    }\n",
       "\n",
       "    .dataframe tbody tr th {\n",
       "        vertical-align: top;\n",
       "    }\n",
       "\n",
       "    .dataframe thead th {\n",
       "        text-align: right;\n",
       "    }\n",
       "</style>\n",
       "<table border=\"1\" class=\"dataframe\">\n",
       "  <thead>\n",
       "    <tr style=\"text-align: right;\">\n",
       "      <th></th>\n",
       "      <th>First Name</th>\n",
       "      <th>Gender</th>\n",
       "      <th>Mgmt</th>\n",
       "      <th>Team</th>\n",
       "    </tr>\n",
       "  </thead>\n",
       "  <tbody>\n",
       "    <tr>\n",
       "      <th>0</th>\n",
       "      <td>Douglas</td>\n",
       "      <td>Male</td>\n",
       "      <td>True</td>\n",
       "      <td>Marketing</td>\n",
       "    </tr>\n",
       "    <tr>\n",
       "      <th>1</th>\n",
       "      <td>Thomas</td>\n",
       "      <td>Male</td>\n",
       "      <td>True</td>\n",
       "      <td>NaN</td>\n",
       "    </tr>\n",
       "    <tr>\n",
       "      <th>2</th>\n",
       "      <td>Maria</td>\n",
       "      <td>Female</td>\n",
       "      <td>False</td>\n",
       "      <td>Finance</td>\n",
       "    </tr>\n",
       "    <tr>\n",
       "      <th>3</th>\n",
       "      <td>Jerry</td>\n",
       "      <td>NaN</td>\n",
       "      <td>True</td>\n",
       "      <td>Finance</td>\n",
       "    </tr>\n",
       "    <tr>\n",
       "      <th>4</th>\n",
       "      <td>Larry</td>\n",
       "      <td>Male</td>\n",
       "      <td>True</td>\n",
       "      <td>IT</td>\n",
       "    </tr>\n",
       "    <tr>\n",
       "      <th>...</th>\n",
       "      <td>...</td>\n",
       "      <td>...</td>\n",
       "      <td>...</td>\n",
       "      <td>...</td>\n",
       "    </tr>\n",
       "    <tr>\n",
       "      <th>996</th>\n",
       "      <td>Phillip</td>\n",
       "      <td>Male</td>\n",
       "      <td>False</td>\n",
       "      <td>Finance</td>\n",
       "    </tr>\n",
       "    <tr>\n",
       "      <th>997</th>\n",
       "      <td>Russell</td>\n",
       "      <td>Male</td>\n",
       "      <td>False</td>\n",
       "      <td>Product</td>\n",
       "    </tr>\n",
       "    <tr>\n",
       "      <th>998</th>\n",
       "      <td>Larry</td>\n",
       "      <td>Male</td>\n",
       "      <td>False</td>\n",
       "      <td>Business Dev</td>\n",
       "    </tr>\n",
       "    <tr>\n",
       "      <th>999</th>\n",
       "      <td>Albert</td>\n",
       "      <td>Male</td>\n",
       "      <td>True</td>\n",
       "      <td>Sales</td>\n",
       "    </tr>\n",
       "    <tr>\n",
       "      <th>1000</th>\n",
       "      <td>NaN</td>\n",
       "      <td>NaN</td>\n",
       "      <td>NaN</td>\n",
       "      <td>NaN</td>\n",
       "    </tr>\n",
       "  </tbody>\n",
       "</table>\n",
       "<p>1001 rows × 4 columns</p>\n",
       "</div>"
      ],
      "text/plain": [
       "     First Name  Gender   Mgmt          Team\n",
       "0       Douglas    Male   True     Marketing\n",
       "1        Thomas    Male   True           NaN\n",
       "2         Maria  Female  False       Finance\n",
       "3         Jerry     NaN   True       Finance\n",
       "4         Larry    Male   True            IT\n",
       "...         ...     ...    ...           ...\n",
       "996     Phillip    Male  False       Finance\n",
       "997     Russell    Male  False       Product\n",
       "998       Larry    Male  False  Business Dev\n",
       "999      Albert    Male   True         Sales\n",
       "1000        NaN     NaN    NaN           NaN\n",
       "\n",
       "[1001 rows x 4 columns]"
      ]
     },
     "execution_count": 9,
     "metadata": {},
     "output_type": "execute_result"
    }
   ],
   "source": [
    "df.select_dtypes(include='object')"
   ]
  },
  {
   "cell_type": "code",
   "execution_count": 10,
   "id": "bbfda090-a027-43da-acd5-8f931f890459",
   "metadata": {},
   "outputs": [
    {
     "data": {
      "text/html": [
       "<div>\n",
       "<style scoped>\n",
       "    .dataframe tbody tr th:only-of-type {\n",
       "        vertical-align: middle;\n",
       "    }\n",
       "\n",
       "    .dataframe tbody tr th {\n",
       "        vertical-align: top;\n",
       "    }\n",
       "\n",
       "    .dataframe thead th {\n",
       "        text-align: right;\n",
       "    }\n",
       "</style>\n",
       "<table border=\"1\" class=\"dataframe\">\n",
       "  <thead>\n",
       "    <tr style=\"text-align: right;\">\n",
       "      <th></th>\n",
       "      <th>Start Date</th>\n",
       "      <th>Salary</th>\n",
       "    </tr>\n",
       "  </thead>\n",
       "  <tbody>\n",
       "    <tr>\n",
       "      <th>0</th>\n",
       "      <td>1993-08-06</td>\n",
       "      <td>NaN</td>\n",
       "    </tr>\n",
       "    <tr>\n",
       "      <th>1</th>\n",
       "      <td>1996-03-31</td>\n",
       "      <td>61933.0</td>\n",
       "    </tr>\n",
       "    <tr>\n",
       "      <th>2</th>\n",
       "      <td>NaT</td>\n",
       "      <td>130590.0</td>\n",
       "    </tr>\n",
       "    <tr>\n",
       "      <th>3</th>\n",
       "      <td>2005-03-04</td>\n",
       "      <td>138705.0</td>\n",
       "    </tr>\n",
       "    <tr>\n",
       "      <th>4</th>\n",
       "      <td>1998-01-24</td>\n",
       "      <td>101004.0</td>\n",
       "    </tr>\n",
       "    <tr>\n",
       "      <th>...</th>\n",
       "      <td>...</td>\n",
       "      <td>...</td>\n",
       "    </tr>\n",
       "    <tr>\n",
       "      <th>996</th>\n",
       "      <td>1984-01-31</td>\n",
       "      <td>42392.0</td>\n",
       "    </tr>\n",
       "    <tr>\n",
       "      <th>997</th>\n",
       "      <td>2013-05-20</td>\n",
       "      <td>96914.0</td>\n",
       "    </tr>\n",
       "    <tr>\n",
       "      <th>998</th>\n",
       "      <td>2013-04-20</td>\n",
       "      <td>60500.0</td>\n",
       "    </tr>\n",
       "    <tr>\n",
       "      <th>999</th>\n",
       "      <td>2012-05-15</td>\n",
       "      <td>129949.0</td>\n",
       "    </tr>\n",
       "    <tr>\n",
       "      <th>1000</th>\n",
       "      <td>NaT</td>\n",
       "      <td>NaN</td>\n",
       "    </tr>\n",
       "  </tbody>\n",
       "</table>\n",
       "<p>1001 rows × 2 columns</p>\n",
       "</div>"
      ],
      "text/plain": [
       "     Start Date    Salary\n",
       "0    1993-08-06       NaN\n",
       "1    1996-03-31   61933.0\n",
       "2           NaT  130590.0\n",
       "3    2005-03-04  138705.0\n",
       "4    1998-01-24  101004.0\n",
       "...         ...       ...\n",
       "996  1984-01-31   42392.0\n",
       "997  2013-05-20   96914.0\n",
       "998  2013-04-20   60500.0\n",
       "999  2012-05-15  129949.0\n",
       "1000        NaT       NaN\n",
       "\n",
       "[1001 rows x 2 columns]"
      ]
     },
     "execution_count": 10,
     "metadata": {},
     "output_type": "execute_result"
    }
   ],
   "source": [
    "df.select_dtypes(exclude='object')"
   ]
  },
  {
   "cell_type": "markdown",
   "id": "5b0f1611-e5c4-48dc-a93e-316a05d0f39a",
   "metadata": {},
   "source": [
    "<h1>entekhabe sotun</h1>"
   ]
  },
  {
   "cell_type": "markdown",
   "id": "1a8bd978-20b4-4d8a-851e-8169f53dac89",
   "metadata": {},
   "source": [
    "<ul>\n",
    "    <li>ba accessor [] baraie iek ia chand sotun</li>\n",
    "    <li>ba . notation agar string bedun fasele bashe an ham baraie iek sotun</li>\n",
    "    <li> be select_dtypes baraie dashtan ia nadashtane iek ia chand noe dtypes</li>\n",
    "</ul>"
   ]
  },
  {
   "cell_type": "code",
   "execution_count": null,
   "id": "79e76463-c18c-4848-b5c6-5ab0aa17849f",
   "metadata": {},
   "outputs": [],
   "source": []
  },
  {
   "cell_type": "markdown",
   "id": "f9fc2085-1564-4837-91ae-90801811bac7",
   "metadata": {},
   "source": [
    "<h1>entekhabe satr</h1>"
   ]
  },
  {
   "cell_type": "markdown",
   "id": "e24d19fb-a5e5-411b-9705-d9466e9d5c75",
   "metadata": {},
   "source": [
    "<ul>\n",
    "    <li>accessor .loc[index] baraie iek satr ia .loc[[index1, ..., ...]] baraie chand satr</li>\n",
    "    <li>.iloc[shomare satr</li>\n",
    "    <li>.iloc[[shomareie1, shomareie2]]</li>\n",
    "    <li>slicing be .iloc[:] shamele entehaiy nemishavad</li>\n",
    "    <li>slicing be .loc[index1:index2] shamele entehaiy mishavad</li>\n",
    "    <li>head va tail</li>\n",
    "</ul>"
   ]
  },
  {
   "cell_type": "code",
   "execution_count": 11,
   "id": "ca7615d0-bf45-4e56-ada5-a00e3a9589a1",
   "metadata": {},
   "outputs": [
    {
     "data": {
      "text/html": [
       "<div>\n",
       "<style scoped>\n",
       "    .dataframe tbody tr th:only-of-type {\n",
       "        vertical-align: middle;\n",
       "    }\n",
       "\n",
       "    .dataframe tbody tr th {\n",
       "        vertical-align: top;\n",
       "    }\n",
       "\n",
       "    .dataframe thead th {\n",
       "        text-align: right;\n",
       "    }\n",
       "</style>\n",
       "<table border=\"1\" class=\"dataframe\">\n",
       "  <thead>\n",
       "    <tr style=\"text-align: right;\">\n",
       "      <th></th>\n",
       "      <th>First Name</th>\n",
       "      <th>Gender</th>\n",
       "      <th>Start Date</th>\n",
       "      <th>Salary</th>\n",
       "      <th>Mgmt</th>\n",
       "      <th>Team</th>\n",
       "    </tr>\n",
       "  </thead>\n",
       "  <tbody>\n",
       "    <tr>\n",
       "      <th>996</th>\n",
       "      <td>Phillip</td>\n",
       "      <td>Male</td>\n",
       "      <td>1984-01-31</td>\n",
       "      <td>42392.0</td>\n",
       "      <td>False</td>\n",
       "      <td>Finance</td>\n",
       "    </tr>\n",
       "    <tr>\n",
       "      <th>997</th>\n",
       "      <td>Russell</td>\n",
       "      <td>Male</td>\n",
       "      <td>2013-05-20</td>\n",
       "      <td>96914.0</td>\n",
       "      <td>False</td>\n",
       "      <td>Product</td>\n",
       "    </tr>\n",
       "    <tr>\n",
       "      <th>998</th>\n",
       "      <td>Larry</td>\n",
       "      <td>Male</td>\n",
       "      <td>2013-04-20</td>\n",
       "      <td>60500.0</td>\n",
       "      <td>False</td>\n",
       "      <td>Business Dev</td>\n",
       "    </tr>\n",
       "    <tr>\n",
       "      <th>999</th>\n",
       "      <td>Albert</td>\n",
       "      <td>Male</td>\n",
       "      <td>2012-05-15</td>\n",
       "      <td>129949.0</td>\n",
       "      <td>True</td>\n",
       "      <td>Sales</td>\n",
       "    </tr>\n",
       "    <tr>\n",
       "      <th>1000</th>\n",
       "      <td>NaN</td>\n",
       "      <td>NaN</td>\n",
       "      <td>NaT</td>\n",
       "      <td>NaN</td>\n",
       "      <td>NaN</td>\n",
       "      <td>NaN</td>\n",
       "    </tr>\n",
       "  </tbody>\n",
       "</table>\n",
       "</div>"
      ],
      "text/plain": [
       "     First Name Gender Start Date    Salary   Mgmt          Team\n",
       "996     Phillip   Male 1984-01-31   42392.0  False       Finance\n",
       "997     Russell   Male 2013-05-20   96914.0  False       Product\n",
       "998       Larry   Male 2013-04-20   60500.0  False  Business Dev\n",
       "999      Albert   Male 2012-05-15  129949.0   True         Sales\n",
       "1000        NaN    NaN        NaT       NaN    NaN           NaN"
      ]
     },
     "execution_count": 11,
     "metadata": {},
     "output_type": "execute_result"
    }
   ],
   "source": [
    "# 5 taie akhar\n",
    "df.iloc[-5:]"
   ]
  },
  {
   "cell_type": "code",
   "execution_count": 13,
   "id": "a8c7f43f-6853-4f46-8566-318d0ff4fce6",
   "metadata": {},
   "outputs": [
    {
     "data": {
      "text/html": [
       "<div>\n",
       "<style scoped>\n",
       "    .dataframe tbody tr th:only-of-type {\n",
       "        vertical-align: middle;\n",
       "    }\n",
       "\n",
       "    .dataframe tbody tr th {\n",
       "        vertical-align: top;\n",
       "    }\n",
       "\n",
       "    .dataframe thead th {\n",
       "        text-align: right;\n",
       "    }\n",
       "</style>\n",
       "<table border=\"1\" class=\"dataframe\">\n",
       "  <thead>\n",
       "    <tr style=\"text-align: right;\">\n",
       "      <th></th>\n",
       "      <th>First Name</th>\n",
       "      <th>Gender</th>\n",
       "      <th>Start Date</th>\n",
       "      <th>Salary</th>\n",
       "      <th>Mgmt</th>\n",
       "      <th>Team</th>\n",
       "    </tr>\n",
       "  </thead>\n",
       "  <tbody>\n",
       "    <tr>\n",
       "      <th>0</th>\n",
       "      <td>Douglas</td>\n",
       "      <td>Male</td>\n",
       "      <td>1993-08-06</td>\n",
       "      <td>NaN</td>\n",
       "      <td>True</td>\n",
       "      <td>Marketing</td>\n",
       "    </tr>\n",
       "    <tr>\n",
       "      <th>1</th>\n",
       "      <td>Thomas</td>\n",
       "      <td>Male</td>\n",
       "      <td>1996-03-31</td>\n",
       "      <td>61933.0</td>\n",
       "      <td>True</td>\n",
       "      <td>NaN</td>\n",
       "    </tr>\n",
       "    <tr>\n",
       "      <th>2</th>\n",
       "      <td>Maria</td>\n",
       "      <td>Female</td>\n",
       "      <td>NaT</td>\n",
       "      <td>130590.0</td>\n",
       "      <td>False</td>\n",
       "      <td>Finance</td>\n",
       "    </tr>\n",
       "    <tr>\n",
       "      <th>3</th>\n",
       "      <td>Jerry</td>\n",
       "      <td>NaN</td>\n",
       "      <td>2005-03-04</td>\n",
       "      <td>138705.0</td>\n",
       "      <td>True</td>\n",
       "      <td>Finance</td>\n",
       "    </tr>\n",
       "    <tr>\n",
       "      <th>4</th>\n",
       "      <td>Larry</td>\n",
       "      <td>Male</td>\n",
       "      <td>1998-01-24</td>\n",
       "      <td>101004.0</td>\n",
       "      <td>True</td>\n",
       "      <td>IT</td>\n",
       "    </tr>\n",
       "  </tbody>\n",
       "</table>\n",
       "</div>"
      ],
      "text/plain": [
       "  First Name  Gender Start Date    Salary   Mgmt       Team\n",
       "0    Douglas    Male 1993-08-06       NaN   True  Marketing\n",
       "1     Thomas    Male 1996-03-31   61933.0   True        NaN\n",
       "2      Maria  Female        NaT  130590.0  False    Finance\n",
       "3      Jerry     NaN 2005-03-04  138705.0   True    Finance\n",
       "4      Larry    Male 1998-01-24  101004.0   True         IT"
      ]
     },
     "execution_count": 13,
     "metadata": {},
     "output_type": "execute_result"
    }
   ],
   "source": [
    "#  5 taie aval\n",
    "df.iloc[:5]"
   ]
  },
  {
   "cell_type": "code",
   "execution_count": null,
   "id": "10f04d06-bac1-4ed2-9231-fae37402008b",
   "metadata": {},
   "outputs": [],
   "source": []
  },
  {
   "cell_type": "markdown",
   "id": "80fa70f4-3195-4e80-9eed-bb153d537343",
   "metadata": {},
   "source": [
    "<h1>dastresi be iek celul</h1>"
   ]
  },
  {
   "cell_type": "markdown",
   "id": "aab27b8f-c3ef-4bcb-8809-3f35b1d3d8a4",
   "metadata": {},
   "source": [
    "<ul>\n",
    "    <li>satr[sotun]</li>\n",
    "    <li>df.loc[index, sotun]</li>\n",
    "    <li>df.at[index, sotun] mamulan saritar az loc vali faratar az iek celul nadare</li>\n",
    "    <li>df.iloc[shomare satr, shomare_sotun]</li>\n",
    "    <li>df.iat[shomare satr, shomare_sotun] mamulan saritar az iloc vali baz ham baraie bishtar az iek celul nemishe</li>\n",
    "    <li>sotun.loc[index]</li>\n",
    "    <li>sotun.at[index]</li>\n",
    "    <li>sotun.iloc[shomare satr]</li>\n",
    "    <li>sotun.iat[shomare satr]</li>\n",
    "</ul>"
   ]
  },
  {
   "cell_type": "code",
   "execution_count": 17,
   "id": "2610736f-9825-4ae0-9a1b-9188f29c7225",
   "metadata": {},
   "outputs": [
    {
     "data": {
      "text/plain": [
       "np.float64(148.0)"
      ]
     },
     "execution_count": 17,
     "metadata": {},
     "output_type": "execute_result"
    }
   ],
   "source": [
    "#  satr[sotun]\n",
    "df = pd.read_csv('movies.csv', index_col='name')\n",
    "satr = df.loc['Inception']\n",
    "celul = satr['runtime']\n",
    "celul"
   ]
  },
  {
   "cell_type": "code",
   "execution_count": 18,
   "id": "e5ba6e18-f7c6-4691-9f5f-011b413fc616",
   "metadata": {},
   "outputs": [
    {
     "data": {
      "text/plain": [
       "np.float64(148.0)"
      ]
     },
     "execution_count": 18,
     "metadata": {},
     "output_type": "execute_result"
    }
   ],
   "source": [
    "# df.loc[index, sotun]\n",
    "celul = df.loc['Inception', 'runtime']\n",
    "celul"
   ]
  },
  {
   "cell_type": "code",
   "execution_count": 25,
   "id": "efd04892-178d-4fe4-9a79-8b8416f5e7e4",
   "metadata": {},
   "outputs": [
    {
     "data": {
      "text/plain": [
       "np.float64(146.0)"
      ]
     },
     "execution_count": 25,
     "metadata": {},
     "output_type": "execute_result"
    }
   ],
   "source": [
    "# df.iloc[shomare satr, shomare_sotun]\n",
    "df.iloc[0, 14]"
   ]
  },
  {
   "cell_type": "code",
   "execution_count": 29,
   "id": "0f886f05-6b77-4581-bd76-af4ab2ab469f",
   "metadata": {},
   "outputs": [
    {
     "name": "stdout",
     "output_type": "stream",
     "text": [
      "335 μs ± 15.5 μs per loop (mean ± std. dev. of 7 runs, 1,000 loops each)\n"
     ]
    }
   ],
   "source": [
    "%timeit df.loc['Inception', 'runtime']"
   ]
  },
  {
   "cell_type": "code",
   "execution_count": 30,
   "id": "be787db5-cdcb-44e7-90b5-e2c964850af2",
   "metadata": {},
   "outputs": [
    {
     "name": "stdout",
     "output_type": "stream",
     "text": [
      "328 μs ± 22.1 μs per loop (mean ± std. dev. of 7 runs, 1,000 loops each)\n"
     ]
    }
   ],
   "source": [
    "%timeit df.at['Inception', 'runtime']"
   ]
  },
  {
   "cell_type": "markdown",
   "id": "babb5c03-3566-4ac6-8026-b949aaae7335",
   "metadata": {},
   "source": [
    "<h1>dastresi be chand celul</h1>"
   ]
  },
  {
   "cell_type": "markdown",
   "id": "c748f311-62a4-4f87-8551-373fe82c076c",
   "metadata": {},
   "source": [
    "<ul>\n",
    "    <li>sater[[sotun1, sotun2, ...]]</li>\n",
    "    <li>df.loc[index, [sotun1, sotun2, ...]]</li>\n",
    "    <li>df.iloc[0,[1,2]]</li>\n",
    "</ul>"
   ]
  },
  {
   "cell_type": "code",
   "execution_count": 21,
   "id": "e55b942e-7e8b-4208-86c9-6728e50f9387",
   "metadata": {},
   "outputs": [
    {
     "data": {
      "text/plain": [
       "runtime          148.0\n",
       "budget     160000000.0\n",
       "Name: Inception, dtype: object"
      ]
     },
     "execution_count": 21,
     "metadata": {},
     "output_type": "execute_result"
    }
   ],
   "source": [
    "satr[['runtime', 'budget']]"
   ]
  },
  {
   "cell_type": "code",
   "execution_count": 22,
   "id": "7ade7e30-cfb9-4d75-8796-72961f03982c",
   "metadata": {},
   "outputs": [
    {
     "data": {
      "text/plain": [
       "runtime          148.0\n",
       "budget     160000000.0\n",
       "Name: Inception, dtype: object"
      ]
     },
     "execution_count": 22,
     "metadata": {},
     "output_type": "execute_result"
    }
   ],
   "source": [
    "df.loc['Inception', ['runtime', 'budget']]"
   ]
  },
  {
   "cell_type": "code",
   "execution_count": 26,
   "id": "aca9aaba-5054-43db-ba4b-165e92bd2a92",
   "metadata": {},
   "outputs": [
    {
     "data": {
      "text/plain": [
       "genre    Drama\n",
       "year      1980\n",
       "Name: The Shining, dtype: object"
      ]
     },
     "execution_count": 26,
     "metadata": {},
     "output_type": "execute_result"
    }
   ],
   "source": [
    "df.iloc[0,[1,2]]"
   ]
  },
  {
   "cell_type": "markdown",
   "id": "37af8d51-056d-4382-adcf-3eb231bebb79",
   "metadata": {},
   "source": [
    "<h1>entekhab chand celul az chand satr</h1>"
   ]
  },
  {
   "cell_type": "code",
   "execution_count": 23,
   "id": "577a30ee-9513-4d1b-b488-d1f2714373d0",
   "metadata": {},
   "outputs": [
    {
     "data": {
      "text/html": [
       "<div>\n",
       "<style scoped>\n",
       "    .dataframe tbody tr th:only-of-type {\n",
       "        vertical-align: middle;\n",
       "    }\n",
       "\n",
       "    .dataframe tbody tr th {\n",
       "        vertical-align: top;\n",
       "    }\n",
       "\n",
       "    .dataframe thead th {\n",
       "        text-align: right;\n",
       "    }\n",
       "</style>\n",
       "<table border=\"1\" class=\"dataframe\">\n",
       "  <thead>\n",
       "    <tr style=\"text-align: right;\">\n",
       "      <th></th>\n",
       "      <th>runtime</th>\n",
       "      <th>budget</th>\n",
       "    </tr>\n",
       "    <tr>\n",
       "      <th>name</th>\n",
       "      <th></th>\n",
       "      <th></th>\n",
       "    </tr>\n",
       "  </thead>\n",
       "  <tbody>\n",
       "    <tr>\n",
       "      <th>The Shining</th>\n",
       "      <td>146.0</td>\n",
       "      <td>19000000.0</td>\n",
       "    </tr>\n",
       "    <tr>\n",
       "      <th>The Blue Lagoon</th>\n",
       "      <td>104.0</td>\n",
       "      <td>4500000.0</td>\n",
       "    </tr>\n",
       "    <tr>\n",
       "      <th>Star Wars: Episode V - The Empire Strikes Back</th>\n",
       "      <td>124.0</td>\n",
       "      <td>18000000.0</td>\n",
       "    </tr>\n",
       "  </tbody>\n",
       "</table>\n",
       "</div>"
      ],
      "text/plain": [
       "                                                runtime      budget\n",
       "name                                                               \n",
       "The Shining                                       146.0  19000000.0\n",
       "The Blue Lagoon                                   104.0   4500000.0\n",
       "Star Wars: Episode V - The Empire Strikes Back    124.0  18000000.0"
      ]
     },
     "execution_count": 23,
     "metadata": {},
     "output_type": "execute_result"
    }
   ],
   "source": [
    "chand_sater = df.iloc[:3]\n",
    "chand_sater[['runtime','budget']]"
   ]
  },
  {
   "cell_type": "code",
   "execution_count": 24,
   "id": "16a727fb-e86c-4624-96dd-9ca9162fde12",
   "metadata": {},
   "outputs": [
    {
     "data": {
      "text/html": [
       "<div>\n",
       "<style scoped>\n",
       "    .dataframe tbody tr th:only-of-type {\n",
       "        vertical-align: middle;\n",
       "    }\n",
       "\n",
       "    .dataframe tbody tr th {\n",
       "        vertical-align: top;\n",
       "    }\n",
       "\n",
       "    .dataframe thead th {\n",
       "        text-align: right;\n",
       "    }\n",
       "</style>\n",
       "<table border=\"1\" class=\"dataframe\">\n",
       "  <thead>\n",
       "    <tr style=\"text-align: right;\">\n",
       "      <th></th>\n",
       "      <th>runtime</th>\n",
       "      <th>budget</th>\n",
       "    </tr>\n",
       "    <tr>\n",
       "      <th>name</th>\n",
       "      <th></th>\n",
       "      <th></th>\n",
       "    </tr>\n",
       "  </thead>\n",
       "  <tbody>\n",
       "    <tr>\n",
       "      <th>Inception</th>\n",
       "      <td>148.0</td>\n",
       "      <td>160000000.0</td>\n",
       "    </tr>\n",
       "    <tr>\n",
       "      <th>The Shining</th>\n",
       "      <td>146.0</td>\n",
       "      <td>19000000.0</td>\n",
       "    </tr>\n",
       "  </tbody>\n",
       "</table>\n",
       "</div>"
      ],
      "text/plain": [
       "             runtime       budget\n",
       "name                             \n",
       "Inception      148.0  160000000.0\n",
       "The Shining    146.0   19000000.0"
      ]
     },
     "execution_count": 24,
     "metadata": {},
     "output_type": "execute_result"
    }
   ],
   "source": [
    "df.loc[['Inception', 'The Shining'],['runtime','budget']]"
   ]
  },
  {
   "cell_type": "code",
   "execution_count": 27,
   "id": "331230d6-0b63-43c7-b3f5-699477a257b2",
   "metadata": {},
   "outputs": [
    {
     "data": {
      "text/html": [
       "<div>\n",
       "<style scoped>\n",
       "    .dataframe tbody tr th:only-of-type {\n",
       "        vertical-align: middle;\n",
       "    }\n",
       "\n",
       "    .dataframe tbody tr th {\n",
       "        vertical-align: top;\n",
       "    }\n",
       "\n",
       "    .dataframe thead th {\n",
       "        text-align: right;\n",
       "    }\n",
       "</style>\n",
       "<table border=\"1\" class=\"dataframe\">\n",
       "  <thead>\n",
       "    <tr style=\"text-align: right;\">\n",
       "      <th></th>\n",
       "      <th>genre</th>\n",
       "      <th>year</th>\n",
       "    </tr>\n",
       "    <tr>\n",
       "      <th>name</th>\n",
       "      <th></th>\n",
       "      <th></th>\n",
       "    </tr>\n",
       "  </thead>\n",
       "  <tbody>\n",
       "    <tr>\n",
       "      <th>The Shining</th>\n",
       "      <td>Drama</td>\n",
       "      <td>1980</td>\n",
       "    </tr>\n",
       "    <tr>\n",
       "      <th>The Blue Lagoon</th>\n",
       "      <td>Adventure</td>\n",
       "      <td>1980</td>\n",
       "    </tr>\n",
       "  </tbody>\n",
       "</table>\n",
       "</div>"
      ],
      "text/plain": [
       "                     genre  year\n",
       "name                            \n",
       "The Shining          Drama  1980\n",
       "The Blue Lagoon  Adventure  1980"
      ]
     },
     "execution_count": 27,
     "metadata": {},
     "output_type": "execute_result"
    }
   ],
   "source": [
    "df.iloc[[0,1],[1,2]]"
   ]
  },
  {
   "cell_type": "code",
   "execution_count": 28,
   "id": "514ac266-15d1-43fe-aa22-30f43de1e001",
   "metadata": {},
   "outputs": [
    {
     "data": {
      "text/html": [
       "<div>\n",
       "<style scoped>\n",
       "    .dataframe tbody tr th:only-of-type {\n",
       "        vertical-align: middle;\n",
       "    }\n",
       "\n",
       "    .dataframe tbody tr th {\n",
       "        vertical-align: top;\n",
       "    }\n",
       "\n",
       "    .dataframe thead th {\n",
       "        text-align: right;\n",
       "    }\n",
       "</style>\n",
       "<table border=\"1\" class=\"dataframe\">\n",
       "  <thead>\n",
       "    <tr style=\"text-align: right;\">\n",
       "      <th></th>\n",
       "      <th>genre</th>\n",
       "      <th>year</th>\n",
       "    </tr>\n",
       "    <tr>\n",
       "      <th>name</th>\n",
       "      <th></th>\n",
       "      <th></th>\n",
       "    </tr>\n",
       "  </thead>\n",
       "  <tbody>\n",
       "    <tr>\n",
       "      <th>The Shining</th>\n",
       "      <td>Drama</td>\n",
       "      <td>1980</td>\n",
       "    </tr>\n",
       "    <tr>\n",
       "      <th>The Blue Lagoon</th>\n",
       "      <td>Adventure</td>\n",
       "      <td>1980</td>\n",
       "    </tr>\n",
       "  </tbody>\n",
       "</table>\n",
       "</div>"
      ],
      "text/plain": [
       "                     genre  year\n",
       "name                            \n",
       "The Shining          Drama  1980\n",
       "The Blue Lagoon  Adventure  1980"
      ]
     },
     "execution_count": 28,
     "metadata": {},
     "output_type": "execute_result"
    }
   ],
   "source": [
    "the_shining = 0\n",
    "year = 2\n",
    "df.iloc[[the_shining, 1],[1, year]]"
   ]
  },
  {
   "cell_type": "markdown",
   "id": "5e20ca95-59e0-4d45-b5af-661cf252c92e",
   "metadata": {},
   "source": [
    "<h1>df.columns</h1>"
   ]
  },
  {
   "cell_type": "code",
   "execution_count": 32,
   "id": "f41092f9-ee38-4c82-b315-2e15843c3f7a",
   "metadata": {},
   "outputs": [
    {
     "data": {
      "text/plain": [
       "Index(['rating', 'genre', 'year', 'release_date', 'release_country', 'score',\n",
       "       'votes', 'director', 'writer', 'star', 'country', 'budget', 'gross',\n",
       "       'company', 'runtime'],\n",
       "      dtype='object')"
      ]
     },
     "execution_count": 32,
     "metadata": {},
     "output_type": "execute_result"
    }
   ],
   "source": [
    "df.columns"
   ]
  },
  {
   "cell_type": "markdown",
   "id": "b19ecda3-6ff8-4aec-9a03-dfa25d54e46f",
   "metadata": {},
   "source": [
    "<h1>avaz karabe name iek sotun</h1>"
   ]
  },
  {
   "cell_type": "markdown",
   "id": "14109783-fc2c-4966-8510-2a83152cfd63",
   "metadata": {},
   "source": [
    "<ul>\n",
    "    <li>df.columns = list jadid az hamie sotun ha</li>\n",
    "    <li>df.rename({esme ghadimi : esme jadid, ...})</li>\n",
    "</ul>"
   ]
  },
  {
   "cell_type": "code",
   "execution_count": null,
   "id": "e5d0e208-b523-4934-8bd1-6c255157aef6",
   "metadata": {},
   "outputs": [],
   "source": []
  },
  {
   "cell_type": "code",
   "execution_count": null,
   "id": "7873fcf4-330e-46b5-913c-fc25a35375cc",
   "metadata": {},
   "outputs": [],
   "source": []
  },
  {
   "cell_type": "markdown",
   "id": "d28c5636-5bb1-4a10-b5b1-619cb39c15ff",
   "metadata": {},
   "source": [
    "<h1>behinesazi</h1> "
   ]
  },
  {
   "cell_type": "raw",
   "id": "163b6024-34da-440f-aead-b63ea3c88852",
   "metadata": {},
   "source": [
    "1- aval df.info() ro mizanim o negah mikonim keaia dtype sotunha monaseb hast. maslan year nabaiad float64 bashe baiad int64 bashe\n",
    "df[sotun] = df[sotun].astype('int64')\n",
    "\n",
    "2-magahadir gosaste ro be jaie string(object) bokonim category. injuri hafaezeie kamtar migire va sorate pardazesh ro bala mibare\n",
    "df[sotun].value_counts() va\n",
    "df[sotun].nunique()\n",
    "shenakht khubi be ma mide az gosaste bodan dade\n",
    "age tasmim be taghir dtype gereftim:\n",
    "df[sotun] = df[sotun].astype('category')\n",
    "\n",
    "3-baraie tarikhha hatman parse_date anjam shavad. ham hafezeie kamtar ham be emkanat bishtar dastresi peida mikonim\n",
    "\n",
    "4-baraie dade haie ke umdae true/false ro be surat string zakhire karde mishe bool kar ke hajme kamtari begire"
   ]
  },
  {
   "cell_type": "code",
   "execution_count": 36,
   "id": "66e20dbf-bff7-4e77-8f02-abf1e050c17b",
   "metadata": {},
   "outputs": [
    {
     "name": "stdout",
     "output_type": "stream",
     "text": [
      "<class 'pandas.core.frame.DataFrame'>\n",
      "RangeIndex: 435578 entries, 0 to 435577\n",
      "Data columns (total 5 columns):\n",
      " #   Column        Non-Null Count   Dtype \n",
      "---  ------        --------------   ----- \n",
      " 0   Manufacturer  435578 non-null  object\n",
      " 1   Year          435578 non-null  int64 \n",
      " 2   Fuel          432985 non-null  object\n",
      " 3   Transmission  432402 non-null  object\n",
      " 4   Price         435578 non-null  int64 \n",
      "dtypes: int64(2), object(3)\n",
      "memory usage: 16.6+ MB\n"
     ]
    }
   ],
   "source": [
    "df = pd.read_csv('used_cars.csv')\n",
    "df.info()"
   ]
  },
  {
   "cell_type": "code",
   "execution_count": 38,
   "id": "ee84f6d8-dda2-4da8-a3f4-aa243a0727b6",
   "metadata": {},
   "outputs": [
    {
     "data": {
      "text/plain": [
       "Fuel\n",
       "Gas         382716\n",
       "Diesel       33347\n",
       "Other        12331\n",
       "Hybrid        3812\n",
       "Electric       779\n",
       "Name: count, dtype: int64"
      ]
     },
     "execution_count": 38,
     "metadata": {},
     "output_type": "execute_result"
    }
   ],
   "source": [
    "\n",
    "df['Fuel'].value_counts()"
   ]
  },
  {
   "cell_type": "code",
   "execution_count": 39,
   "id": "7c4b23d7-98b7-4550-ba9c-7ccef64c42f5",
   "metadata": {},
   "outputs": [],
   "source": [
    "# 2: be kamtar shodane hafezeie masrafi dar entehaie info tavajoh kon\n",
    "df['Fuel'] = df['Fuel'].astype('category')"
   ]
  },
  {
   "cell_type": "code",
   "execution_count": 40,
   "id": "6c78b06a-5467-4707-b0cf-e5e8c035f5ce",
   "metadata": {},
   "outputs": [
    {
     "name": "stdout",
     "output_type": "stream",
     "text": [
      "<class 'pandas.core.frame.DataFrame'>\n",
      "RangeIndex: 435578 entries, 0 to 435577\n",
      "Data columns (total 5 columns):\n",
      " #   Column        Non-Null Count   Dtype   \n",
      "---  ------        --------------   -----   \n",
      " 0   Manufacturer  435578 non-null  object  \n",
      " 1   Year          435578 non-null  int64   \n",
      " 2   Fuel          432985 non-null  category\n",
      " 3   Transmission  432402 non-null  object  \n",
      " 4   Price         435578 non-null  int64   \n",
      "dtypes: category(1), int64(2), object(2)\n",
      "memory usage: 13.7+ MB\n"
     ]
    }
   ],
   "source": [
    "df.info()"
   ]
  },
  {
   "cell_type": "code",
   "execution_count": 42,
   "id": "1d814e6c-a2cf-4120-889a-f4d3214b46d5",
   "metadata": {},
   "outputs": [
    {
     "data": {
      "text/plain": [
       "Transmission\n",
       "Automatic    390824\n",
       "Other         20967\n",
       "Manual        20611\n",
       "Name: count, dtype: int64"
      ]
     },
     "execution_count": 42,
     "metadata": {},
     "output_type": "execute_result"
    }
   ],
   "source": [
    "df['Transmission'].value_counts()"
   ]
  },
  {
   "cell_type": "code",
   "execution_count": 44,
   "id": "959da9e4-56f0-4226-8314-05cf7dbac96b",
   "metadata": {},
   "outputs": [],
   "source": [
    "#2\n",
    "df['Transmission'] = df['Transmission'].astype('category')"
   ]
  },
  {
   "cell_type": "code",
   "execution_count": 45,
   "id": "7566a1c4-aa58-4867-bb97-56609bfff945",
   "metadata": {},
   "outputs": [
    {
     "name": "stdout",
     "output_type": "stream",
     "text": [
      "<class 'pandas.core.frame.DataFrame'>\n",
      "RangeIndex: 435578 entries, 0 to 435577\n",
      "Data columns (total 5 columns):\n",
      " #   Column        Non-Null Count   Dtype   \n",
      "---  ------        --------------   -----   \n",
      " 0   Manufacturer  435578 non-null  object  \n",
      " 1   Year          435578 non-null  int64   \n",
      " 2   Fuel          432985 non-null  category\n",
      " 3   Transmission  432402 non-null  category\n",
      " 4   Price         435578 non-null  int64   \n",
      "dtypes: category(2), int64(2), object(1)\n",
      "memory usage: 10.8+ MB\n"
     ]
    }
   ],
   "source": [
    "df.info()"
   ]
  },
  {
   "cell_type": "code",
   "execution_count": 47,
   "id": "4b16cabb-fbcf-43c9-8cd1-e805ce531e9a",
   "metadata": {},
   "outputs": [
    {
     "data": {
      "text/plain": [
       "41"
      ]
     },
     "execution_count": 47,
     "metadata": {},
     "output_type": "execute_result"
    }
   ],
   "source": [
    "df['Manufacturer'].nunique()"
   ]
  },
  {
   "cell_type": "code",
   "execution_count": 48,
   "id": "de5e05d4-eb1d-4fd1-8921-a478bfc2071a",
   "metadata": {},
   "outputs": [],
   "source": [
    "df['Manufacturer'] = df['Manufacturer'].astype('category')"
   ]
  },
  {
   "cell_type": "code",
   "execution_count": 49,
   "id": "e19d5ce9-4a2c-49ea-a8ad-b6c57d6ad193",
   "metadata": {},
   "outputs": [
    {
     "name": "stdout",
     "output_type": "stream",
     "text": [
      "<class 'pandas.core.frame.DataFrame'>\n",
      "RangeIndex: 435578 entries, 0 to 435577\n",
      "Data columns (total 5 columns):\n",
      " #   Column        Non-Null Count   Dtype   \n",
      "---  ------        --------------   -----   \n",
      " 0   Manufacturer  435578 non-null  category\n",
      " 1   Year          435578 non-null  int64   \n",
      " 2   Fuel          432985 non-null  category\n",
      " 3   Transmission  432402 non-null  category\n",
      " 4   Price         435578 non-null  int64   \n",
      "dtypes: category(3), int64(2)\n",
      "memory usage: 7.9 MB\n"
     ]
    }
   ],
   "source": [
    "df.info()"
   ]
  },
  {
   "cell_type": "code",
   "execution_count": 66,
   "id": "70554b84-56d6-43b1-b648-bf9db478f3d3",
   "metadata": {},
   "outputs": [
    {
     "name": "stdout",
     "output_type": "stream",
     "text": [
      "<class 'pandas.core.frame.DataFrame'>\n",
      "RangeIndex: 1001 entries, 0 to 1000\n",
      "Data columns (total 6 columns):\n",
      " #   Column      Non-Null Count  Dtype  \n",
      "---  ------      --------------  -----  \n",
      " 0   First Name  933 non-null    object \n",
      " 1   Gender      854 non-null    object \n",
      " 2   Start Date  999 non-null    object \n",
      " 3   Salary      999 non-null    float64\n",
      " 4   Mgmt        933 non-null    object \n",
      " 5   Team        957 non-null    object \n",
      "dtypes: float64(1), object(5)\n",
      "memory usage: 47.1+ KB\n"
     ]
    }
   ],
   "source": [
    "df2= pd.read_csv('employees.csv')\n",
    "df2.info()"
   ]
  },
  {
   "cell_type": "code",
   "execution_count": 67,
   "id": "2e7a3326-baa6-4491-9204-55f780940e37",
   "metadata": {},
   "outputs": [
    {
     "name": "stdout",
     "output_type": "stream",
     "text": [
      "<class 'pandas.core.frame.DataFrame'>\n",
      "RangeIndex: 1001 entries, 0 to 1000\n",
      "Data columns (total 6 columns):\n",
      " #   Column      Non-Null Count  Dtype  \n",
      "---  ------      --------------  -----  \n",
      " 0   First Name  933 non-null    object \n",
      " 1   Gender      854 non-null    object \n",
      " 2   Start Date  999 non-null    object \n",
      " 3   Salary      999 non-null    float64\n",
      " 4   Mgmt        1001 non-null   bool   \n",
      " 5   Team        957 non-null    object \n",
      "dtypes: bool(1), float64(1), object(4)\n",
      "memory usage: 40.2+ KB\n"
     ]
    }
   ],
   "source": [
    "df2['Mgmt'] = df2['Mgmt'].astype('bool')\n",
    "df2.info()"
   ]
  },
  {
   "cell_type": "code",
   "execution_count": null,
   "id": "86aadfcb-b56b-47e4-82d5-83ba6e02a0a7",
   "metadata": {},
   "outputs": [],
   "source": []
  },
  {
   "cell_type": "markdown",
   "id": "b0e44ca4-ff76-4844-83a7-ab9927f53993",
   "metadata": {},
   "source": [
    "<h1>filter satrha</h1>"
   ]
  },
  {
   "cell_type": "raw",
   "id": "890aa864-8866-4a89-bb56-65e4abda6f72",
   "metadata": {},
   "source": [
    "1- ghablan be mabhas filter kardan ba logical indexing pardakhte shode\n",
    "\n",
    "2 va 3 hame hamun logical indexing hastand\n",
    "\n",
    "2-df.iloc[[False, True, ...]] baiad tedad booleanha daghighan mosavi len(df) bashe\n",
    "\n",
    "3- df[[False, True, ...]] baiad tedad booleanha daghighan mosavi len(df) bashe"
   ]
  },
  {
   "cell_type": "code",
   "execution_count": 50,
   "id": "57cce3cf-96a3-46b3-971f-9bfb2c9c268d",
   "metadata": {},
   "outputs": [],
   "source": [
    "df = pd.read_csv('nba.csv')"
   ]
  },
  {
   "cell_type": "code",
   "execution_count": 51,
   "id": "6bf102e0-f5a2-470e-a510-0253151ae139",
   "metadata": {},
   "outputs": [
    {
     "name": "stdout",
     "output_type": "stream",
     "text": [
      "<class 'pandas.core.frame.DataFrame'>\n",
      "RangeIndex: 450 entries, 0 to 449\n",
      "Data columns (total 5 columns):\n",
      " #   Column    Non-Null Count  Dtype \n",
      "---  ------    --------------  ----- \n",
      " 0   Name      450 non-null    object\n",
      " 1   Team      450 non-null    object\n",
      " 2   Position  450 non-null    object\n",
      " 3   Birthday  450 non-null    object\n",
      " 4   Salary    450 non-null    int64 \n",
      "dtypes: int64(1), object(4)\n",
      "memory usage: 17.7+ KB\n"
     ]
    }
   ],
   "source": [
    "df.info()"
   ]
  },
  {
   "cell_type": "code",
   "execution_count": 53,
   "id": "f05ef61b-8773-42bb-908d-f173f1f70909",
   "metadata": {},
   "outputs": [
    {
     "data": {
      "text/plain": [
       "(39415.809, 8110006.0]      314\n",
       "(8110006.0, 16140444.0]      62\n",
       "(24170882.0, 32201320.0]     29\n",
       "(16140444.0, 24170882.0]     28\n",
       "(32201320.0, 40231758.0]     17\n",
       "Name: count, dtype: int64"
      ]
     },
     "execution_count": 53,
     "metadata": {},
     "output_type": "execute_result"
    }
   ],
   "source": [
    "df['Salary'].value_counts(bins=5)"
   ]
  },
  {
   "cell_type": "code",
   "execution_count": 54,
   "id": "c415783a-d436-47f9-90dd-7457b7bd8d31",
   "metadata": {},
   "outputs": [
    {
     "data": {
      "text/html": [
       "<div>\n",
       "<style scoped>\n",
       "    .dataframe tbody tr th:only-of-type {\n",
       "        vertical-align: middle;\n",
       "    }\n",
       "\n",
       "    .dataframe tbody tr th {\n",
       "        vertical-align: top;\n",
       "    }\n",
       "\n",
       "    .dataframe thead th {\n",
       "        text-align: right;\n",
       "    }\n",
       "</style>\n",
       "<table border=\"1\" class=\"dataframe\">\n",
       "  <thead>\n",
       "    <tr style=\"text-align: right;\">\n",
       "      <th></th>\n",
       "      <th>Name</th>\n",
       "      <th>Team</th>\n",
       "      <th>Position</th>\n",
       "      <th>Birthday</th>\n",
       "      <th>Salary</th>\n",
       "    </tr>\n",
       "  </thead>\n",
       "  <tbody>\n",
       "    <tr>\n",
       "      <th>38</th>\n",
       "      <td>Chris Paul</td>\n",
       "      <td>Oklahoma City Thunder</td>\n",
       "      <td>PG</td>\n",
       "      <td>5/6/85</td>\n",
       "      <td>38506482</td>\n",
       "    </tr>\n",
       "    <tr>\n",
       "      <th>95</th>\n",
       "      <td>Kevin Durant</td>\n",
       "      <td>Brooklyn Nets</td>\n",
       "      <td>PF</td>\n",
       "      <td>9/29/88</td>\n",
       "      <td>37199000</td>\n",
       "    </tr>\n",
       "    <tr>\n",
       "      <th>179</th>\n",
       "      <td>Jimmy Butler</td>\n",
       "      <td>Miami Heat</td>\n",
       "      <td>SF</td>\n",
       "      <td>9/14/89</td>\n",
       "      <td>32742000</td>\n",
       "    </tr>\n",
       "    <tr>\n",
       "      <th>199</th>\n",
       "      <td>Gordon Hayward</td>\n",
       "      <td>Boston Celtics</td>\n",
       "      <td>PF</td>\n",
       "      <td>3/23/90</td>\n",
       "      <td>32700690</td>\n",
       "    </tr>\n",
       "    <tr>\n",
       "      <th>205</th>\n",
       "      <td>Stephen Curry</td>\n",
       "      <td>Golden State Warriors</td>\n",
       "      <td>PG</td>\n",
       "      <td>3/14/88</td>\n",
       "      <td>40231758</td>\n",
       "    </tr>\n",
       "    <tr>\n",
       "      <th>214</th>\n",
       "      <td>Klay Thompson</td>\n",
       "      <td>Golden State Warriors</td>\n",
       "      <td>SG</td>\n",
       "      <td>2/8/90</td>\n",
       "      <td>32742000</td>\n",
       "    </tr>\n",
       "    <tr>\n",
       "      <th>219</th>\n",
       "      <td>Russell Westbrook</td>\n",
       "      <td>Houston Rockets</td>\n",
       "      <td>PG</td>\n",
       "      <td>11/12/88</td>\n",
       "      <td>38506482</td>\n",
       "    </tr>\n",
       "    <tr>\n",
       "      <th>251</th>\n",
       "      <td>John Wall</td>\n",
       "      <td>Washington Wizards</td>\n",
       "      <td>PG</td>\n",
       "      <td>9/6/90</td>\n",
       "      <td>38199000</td>\n",
       "    </tr>\n",
       "    <tr>\n",
       "      <th>264</th>\n",
       "      <td>James Harden</td>\n",
       "      <td>Houston Rockets</td>\n",
       "      <td>PG</td>\n",
       "      <td>8/26/89</td>\n",
       "      <td>38199000</td>\n",
       "    </tr>\n",
       "    <tr>\n",
       "      <th>307</th>\n",
       "      <td>Kawhi Leonard</td>\n",
       "      <td>Los Angeles Clippers</td>\n",
       "      <td>SF</td>\n",
       "      <td>6/29/91</td>\n",
       "      <td>32742000</td>\n",
       "    </tr>\n",
       "    <tr>\n",
       "      <th>317</th>\n",
       "      <td>Blake Griffin</td>\n",
       "      <td>Detroit Pistons</td>\n",
       "      <td>PF</td>\n",
       "      <td>3/16/89</td>\n",
       "      <td>34449964</td>\n",
       "    </tr>\n",
       "    <tr>\n",
       "      <th>323</th>\n",
       "      <td>Kyle Lowry</td>\n",
       "      <td>Toronto Raptors</td>\n",
       "      <td>PG</td>\n",
       "      <td>3/25/86</td>\n",
       "      <td>33296296</td>\n",
       "    </tr>\n",
       "    <tr>\n",
       "      <th>337</th>\n",
       "      <td>Kemba Walker</td>\n",
       "      <td>Boston Celtics</td>\n",
       "      <td>PG</td>\n",
       "      <td>5/8/90</td>\n",
       "      <td>32742000</td>\n",
       "    </tr>\n",
       "    <tr>\n",
       "      <th>345</th>\n",
       "      <td>Mike Conley</td>\n",
       "      <td>Utah Jazz</td>\n",
       "      <td>PG</td>\n",
       "      <td>10/11/87</td>\n",
       "      <td>32511623</td>\n",
       "    </tr>\n",
       "    <tr>\n",
       "      <th>397</th>\n",
       "      <td>Paul George</td>\n",
       "      <td>Los Angeles Clippers</td>\n",
       "      <td>SF</td>\n",
       "      <td>5/2/90</td>\n",
       "      <td>33005556</td>\n",
       "    </tr>\n",
       "    <tr>\n",
       "      <th>408</th>\n",
       "      <td>LeBron James</td>\n",
       "      <td>Los Angeles Lakers</td>\n",
       "      <td>PF</td>\n",
       "      <td>12/30/84</td>\n",
       "      <td>37436858</td>\n",
       "    </tr>\n",
       "    <tr>\n",
       "      <th>424</th>\n",
       "      <td>Tobias Harris</td>\n",
       "      <td>Philadelphia 76ers</td>\n",
       "      <td>PF</td>\n",
       "      <td>7/15/92</td>\n",
       "      <td>32742000</td>\n",
       "    </tr>\n",
       "  </tbody>\n",
       "</table>\n",
       "</div>"
      ],
      "text/plain": [
       "                  Name                   Team Position  Birthday    Salary\n",
       "38          Chris Paul  Oklahoma City Thunder       PG    5/6/85  38506482\n",
       "95        Kevin Durant          Brooklyn Nets       PF   9/29/88  37199000\n",
       "179       Jimmy Butler             Miami Heat       SF   9/14/89  32742000\n",
       "199     Gordon Hayward         Boston Celtics       PF   3/23/90  32700690\n",
       "205      Stephen Curry  Golden State Warriors       PG   3/14/88  40231758\n",
       "214      Klay Thompson  Golden State Warriors       SG    2/8/90  32742000\n",
       "219  Russell Westbrook        Houston Rockets       PG  11/12/88  38506482\n",
       "251          John Wall     Washington Wizards       PG    9/6/90  38199000\n",
       "264       James Harden        Houston Rockets       PG   8/26/89  38199000\n",
       "307      Kawhi Leonard   Los Angeles Clippers       SF   6/29/91  32742000\n",
       "317      Blake Griffin        Detroit Pistons       PF   3/16/89  34449964\n",
       "323         Kyle Lowry        Toronto Raptors       PG   3/25/86  33296296\n",
       "337       Kemba Walker         Boston Celtics       PG    5/8/90  32742000\n",
       "345        Mike Conley              Utah Jazz       PG  10/11/87  32511623\n",
       "397        Paul George   Los Angeles Clippers       SF    5/2/90  33005556\n",
       "408       LeBron James     Los Angeles Lakers       PF  12/30/84  37436858\n",
       "424      Tobias Harris     Philadelphia 76ers       PF   7/15/92  32742000"
      ]
     },
     "execution_count": 54,
     "metadata": {},
     "output_type": "execute_result"
    }
   ],
   "source": [
    "high_salary = df['Salary'] > 32201320.0\n",
    "df[high_salary]"
   ]
  },
  {
   "cell_type": "code",
   "execution_count": 55,
   "id": "49e4c3bc-3bd0-4e08-8b48-cd155b4f1e3d",
   "metadata": {},
   "outputs": [
    {
     "data": {
      "text/plain": [
       "Name        17\n",
       "Team        17\n",
       "Position    17\n",
       "Birthday    17\n",
       "Salary      17\n",
       "dtype: int64"
      ]
     },
     "execution_count": 55,
     "metadata": {},
     "output_type": "execute_result"
    }
   ],
   "source": [
    "df[high_salary].count()"
   ]
  },
  {
   "cell_type": "code",
   "execution_count": 59,
   "id": "e72bdd8a-484e-4661-a204-4a641f14ae69",
   "metadata": {},
   "outputs": [],
   "source": [
    "# hata bad az category karan ham baz ham moghaieseie\n",
    "# string javabgu hast\n",
    "df['Position'] = df['Position'].astype('category')"
   ]
  },
  {
   "cell_type": "code",
   "execution_count": 60,
   "id": "de8d7f47-9c72-4607-861e-14f20dfb85ac",
   "metadata": {},
   "outputs": [
    {
     "data": {
      "text/html": [
       "<div>\n",
       "<style scoped>\n",
       "    .dataframe tbody tr th:only-of-type {\n",
       "        vertical-align: middle;\n",
       "    }\n",
       "\n",
       "    .dataframe tbody tr th {\n",
       "        vertical-align: top;\n",
       "    }\n",
       "\n",
       "    .dataframe thead th {\n",
       "        text-align: right;\n",
       "    }\n",
       "</style>\n",
       "<table border=\"1\" class=\"dataframe\">\n",
       "  <thead>\n",
       "    <tr style=\"text-align: right;\">\n",
       "      <th></th>\n",
       "      <th>Name</th>\n",
       "      <th>Team</th>\n",
       "      <th>Position</th>\n",
       "      <th>Birthday</th>\n",
       "      <th>Salary</th>\n",
       "    </tr>\n",
       "  </thead>\n",
       "  <tbody>\n",
       "    <tr>\n",
       "      <th>1</th>\n",
       "      <td>Christian Wood</td>\n",
       "      <td>Detroit Pistons</td>\n",
       "      <td>PF</td>\n",
       "      <td>9/27/95</td>\n",
       "      <td>1645357</td>\n",
       "    </tr>\n",
       "    <tr>\n",
       "      <th>2</th>\n",
       "      <td>PJ Washington</td>\n",
       "      <td>Charlotte Hornets</td>\n",
       "      <td>PF</td>\n",
       "      <td>8/23/98</td>\n",
       "      <td>3831840</td>\n",
       "    </tr>\n",
       "    <tr>\n",
       "      <th>5</th>\n",
       "      <td>Draymond Green</td>\n",
       "      <td>Golden State Warriors</td>\n",
       "      <td>PF</td>\n",
       "      <td>3/4/90</td>\n",
       "      <td>18539130</td>\n",
       "    </tr>\n",
       "    <tr>\n",
       "      <th>15</th>\n",
       "      <td>JaMychal Green</td>\n",
       "      <td>Los Angeles Clippers</td>\n",
       "      <td>PF</td>\n",
       "      <td>6/21/90</td>\n",
       "      <td>4767000</td>\n",
       "    </tr>\n",
       "    <tr>\n",
       "      <th>18</th>\n",
       "      <td>Chris Boucher</td>\n",
       "      <td>Toronto Raptors</td>\n",
       "      <td>PF</td>\n",
       "      <td>1/11/93</td>\n",
       "      <td>1588231</td>\n",
       "    </tr>\n",
       "    <tr>\n",
       "      <th>...</th>\n",
       "      <td>...</td>\n",
       "      <td>...</td>\n",
       "      <td>...</td>\n",
       "      <td>...</td>\n",
       "      <td>...</td>\n",
       "    </tr>\n",
       "    <tr>\n",
       "      <th>425</th>\n",
       "      <td>Semi Ojeleye</td>\n",
       "      <td>Boston Celtics</td>\n",
       "      <td>PF</td>\n",
       "      <td>12/5/94</td>\n",
       "      <td>1618520</td>\n",
       "    </tr>\n",
       "    <tr>\n",
       "      <th>427</th>\n",
       "      <td>Brandon Ingram</td>\n",
       "      <td>New Orleans Pelicans</td>\n",
       "      <td>PF</td>\n",
       "      <td>9/2/97</td>\n",
       "      <td>7265485</td>\n",
       "    </tr>\n",
       "    <tr>\n",
       "      <th>429</th>\n",
       "      <td>Dorian Finney-Smith</td>\n",
       "      <td>Dallas Mavericks</td>\n",
       "      <td>PF</td>\n",
       "      <td>5/4/93</td>\n",
       "      <td>4000000</td>\n",
       "    </tr>\n",
       "    <tr>\n",
       "      <th>440</th>\n",
       "      <td>Jared Dudley</td>\n",
       "      <td>Los Angeles Lakers</td>\n",
       "      <td>PF</td>\n",
       "      <td>7/10/85</td>\n",
       "      <td>2564753</td>\n",
       "    </tr>\n",
       "    <tr>\n",
       "      <th>446</th>\n",
       "      <td>Harry Giles</td>\n",
       "      <td>Sacramento Kings</td>\n",
       "      <td>PF</td>\n",
       "      <td>4/22/98</td>\n",
       "      <td>2578800</td>\n",
       "    </tr>\n",
       "  </tbody>\n",
       "</table>\n",
       "<p>96 rows × 5 columns</p>\n",
       "</div>"
      ],
      "text/plain": [
       "                    Name                   Team Position Birthday    Salary\n",
       "1         Christian Wood        Detroit Pistons       PF  9/27/95   1645357\n",
       "2          PJ Washington      Charlotte Hornets       PF  8/23/98   3831840\n",
       "5         Draymond Green  Golden State Warriors       PF   3/4/90  18539130\n",
       "15        JaMychal Green   Los Angeles Clippers       PF  6/21/90   4767000\n",
       "18         Chris Boucher        Toronto Raptors       PF  1/11/93   1588231\n",
       "..                   ...                    ...      ...      ...       ...\n",
       "425         Semi Ojeleye         Boston Celtics       PF  12/5/94   1618520\n",
       "427       Brandon Ingram   New Orleans Pelicans       PF   9/2/97   7265485\n",
       "429  Dorian Finney-Smith       Dallas Mavericks       PF   5/4/93   4000000\n",
       "440         Jared Dudley     Los Angeles Lakers       PF  7/10/85   2564753\n",
       "446          Harry Giles       Sacramento Kings       PF  4/22/98   2578800\n",
       "\n",
       "[96 rows x 5 columns]"
      ]
     },
     "execution_count": 60,
     "metadata": {},
     "output_type": "execute_result"
    }
   ],
   "source": [
    "df[df['Position'] == 'PF']"
   ]
  },
  {
   "cell_type": "code",
   "execution_count": 64,
   "id": "c91ca017-c418-4a07-94b9-e1522bc37bdb",
   "metadata": {},
   "outputs": [
    {
     "data": {
      "text/plain": [
       "[False,\n",
       " True,\n",
       " True,\n",
       " False,\n",
       " False,\n",
       " True,\n",
       " False,\n",
       " False,\n",
       " False,\n",
       " False,\n",
       " False,\n",
       " False,\n",
       " False,\n",
       " False,\n",
       " False,\n",
       " True,\n",
       " False,\n",
       " False,\n",
       " True,\n",
       " True,\n",
       " False,\n",
       " True,\n",
       " False,\n",
       " False,\n",
       " False,\n",
       " True,\n",
       " False,\n",
       " False,\n",
       " False,\n",
       " False,\n",
       " True,\n",
       " False,\n",
       " True,\n",
       " False,\n",
       " False,\n",
       " False,\n",
       " False,\n",
       " True,\n",
       " False,\n",
       " False,\n",
       " False,\n",
       " False,\n",
       " False,\n",
       " False,\n",
       " True,\n",
       " False,\n",
       " False,\n",
       " True,\n",
       " False,\n",
       " False,\n",
       " False,\n",
       " False,\n",
       " True,\n",
       " False,\n",
       " False,\n",
       " False,\n",
       " False,\n",
       " False,\n",
       " False,\n",
       " False,\n",
       " False,\n",
       " False,\n",
       " False,\n",
       " False,\n",
       " False,\n",
       " True,\n",
       " True,\n",
       " False,\n",
       " True,\n",
       " False,\n",
       " False,\n",
       " False,\n",
       " False,\n",
       " False,\n",
       " False,\n",
       " False,\n",
       " False,\n",
       " False,\n",
       " False,\n",
       " True,\n",
       " False,\n",
       " False,\n",
       " False,\n",
       " False,\n",
       " True,\n",
       " True,\n",
       " False,\n",
       " False,\n",
       " True,\n",
       " False,\n",
       " True,\n",
       " False,\n",
       " False,\n",
       " False,\n",
       " True,\n",
       " True,\n",
       " False,\n",
       " True,\n",
       " True,\n",
       " False,\n",
       " False,\n",
       " False,\n",
       " False,\n",
       " False,\n",
       " False,\n",
       " False,\n",
       " False,\n",
       " False,\n",
       " True,\n",
       " False,\n",
       " True,\n",
       " False,\n",
       " False,\n",
       " False,\n",
       " False,\n",
       " False,\n",
       " True,\n",
       " False,\n",
       " True,\n",
       " False,\n",
       " False,\n",
       " True,\n",
       " False,\n",
       " True,\n",
       " False,\n",
       " False,\n",
       " False,\n",
       " False,\n",
       " False,\n",
       " False,\n",
       " False,\n",
       " False,\n",
       " False,\n",
       " False,\n",
       " False,\n",
       " False,\n",
       " False,\n",
       " False,\n",
       " False,\n",
       " False,\n",
       " False,\n",
       " False,\n",
       " False,\n",
       " False,\n",
       " False,\n",
       " False,\n",
       " False,\n",
       " False,\n",
       " False,\n",
       " False,\n",
       " False,\n",
       " False,\n",
       " False,\n",
       " False,\n",
       " False,\n",
       " False,\n",
       " False,\n",
       " True,\n",
       " False,\n",
       " False,\n",
       " False,\n",
       " False,\n",
       " False,\n",
       " True,\n",
       " False,\n",
       " True,\n",
       " True,\n",
       " False,\n",
       " False,\n",
       " False,\n",
       " False,\n",
       " False,\n",
       " False,\n",
       " False,\n",
       " False,\n",
       " False,\n",
       " False,\n",
       " True,\n",
       " False,\n",
       " False,\n",
       " False,\n",
       " False,\n",
       " False,\n",
       " False,\n",
       " False,\n",
       " False,\n",
       " False,\n",
       " False,\n",
       " False,\n",
       " False,\n",
       " True,\n",
       " False,\n",
       " False,\n",
       " True,\n",
       " False,\n",
       " False,\n",
       " False,\n",
       " False,\n",
       " False,\n",
       " True,\n",
       " False,\n",
       " False,\n",
       " False,\n",
       " True,\n",
       " False,\n",
       " False,\n",
       " True,\n",
       " False,\n",
       " False,\n",
       " False,\n",
       " False,\n",
       " False,\n",
       " False,\n",
       " False,\n",
       " False,\n",
       " False,\n",
       " False,\n",
       " False,\n",
       " False,\n",
       " False,\n",
       " False,\n",
       " False,\n",
       " True,\n",
       " True,\n",
       " False,\n",
       " False,\n",
       " True,\n",
       " False,\n",
       " False,\n",
       " True,\n",
       " False,\n",
       " True,\n",
       " True,\n",
       " True,\n",
       " True,\n",
       " False,\n",
       " False,\n",
       " True,\n",
       " False,\n",
       " False,\n",
       " False,\n",
       " False,\n",
       " False,\n",
       " True,\n",
       " False,\n",
       " False,\n",
       " False,\n",
       " False,\n",
       " False,\n",
       " True,\n",
       " False,\n",
       " False,\n",
       " False,\n",
       " True,\n",
       " False,\n",
       " False,\n",
       " False,\n",
       " False,\n",
       " True,\n",
       " False,\n",
       " True,\n",
       " False,\n",
       " True,\n",
       " True,\n",
       " False,\n",
       " False,\n",
       " False,\n",
       " True,\n",
       " False,\n",
       " True,\n",
       " True,\n",
       " False,\n",
       " False,\n",
       " False,\n",
       " False,\n",
       " False,\n",
       " False,\n",
       " False,\n",
       " True,\n",
       " True,\n",
       " True,\n",
       " False,\n",
       " False,\n",
       " False,\n",
       " False,\n",
       " False,\n",
       " False,\n",
       " False,\n",
       " False,\n",
       " False,\n",
       " False,\n",
       " False,\n",
       " False,\n",
       " False,\n",
       " False,\n",
       " True,\n",
       " False,\n",
       " False,\n",
       " False,\n",
       " True,\n",
       " True,\n",
       " False,\n",
       " False,\n",
       " False,\n",
       " False,\n",
       " False,\n",
       " False,\n",
       " False,\n",
       " False,\n",
       " False,\n",
       " False,\n",
       " False,\n",
       " False,\n",
       " False,\n",
       " False,\n",
       " False,\n",
       " False,\n",
       " True,\n",
       " False,\n",
       " False,\n",
       " True,\n",
       " False,\n",
       " False,\n",
       " False,\n",
       " False,\n",
       " False,\n",
       " True,\n",
       " True,\n",
       " True,\n",
       " False,\n",
       " False,\n",
       " False,\n",
       " False,\n",
       " False,\n",
       " False,\n",
       " False,\n",
       " False,\n",
       " False,\n",
       " False,\n",
       " True,\n",
       " False,\n",
       " True,\n",
       " True,\n",
       " False,\n",
       " False,\n",
       " False,\n",
       " False,\n",
       " False,\n",
       " True,\n",
       " False,\n",
       " False,\n",
       " False,\n",
       " False,\n",
       " False,\n",
       " False,\n",
       " False,\n",
       " False,\n",
       " False,\n",
       " False,\n",
       " False,\n",
       " False,\n",
       " False,\n",
       " False,\n",
       " False,\n",
       " False,\n",
       " False,\n",
       " False,\n",
       " False,\n",
       " False,\n",
       " False,\n",
       " False,\n",
       " False,\n",
       " False,\n",
       " False,\n",
       " False,\n",
       " False,\n",
       " False,\n",
       " False,\n",
       " True,\n",
       " False,\n",
       " False,\n",
       " False,\n",
       " False,\n",
       " False,\n",
       " False,\n",
       " False,\n",
       " False,\n",
       " False,\n",
       " True,\n",
       " False,\n",
       " True,\n",
       " False,\n",
       " False,\n",
       " True,\n",
       " False,\n",
       " False,\n",
       " True,\n",
       " False,\n",
       " True,\n",
       " False,\n",
       " False,\n",
       " True,\n",
       " True,\n",
       " False,\n",
       " True,\n",
       " False,\n",
       " False,\n",
       " True,\n",
       " True,\n",
       " False,\n",
       " False,\n",
       " False,\n",
       " False,\n",
       " True,\n",
       " False,\n",
       " False,\n",
       " False,\n",
       " False,\n",
       " False,\n",
       " False,\n",
       " False,\n",
       " False,\n",
       " True,\n",
       " True,\n",
       " True,\n",
       " True,\n",
       " False,\n",
       " True,\n",
       " False,\n",
       " True,\n",
       " False,\n",
       " False,\n",
       " False,\n",
       " False,\n",
       " False,\n",
       " False,\n",
       " False,\n",
       " False,\n",
       " False,\n",
       " False,\n",
       " True,\n",
       " False,\n",
       " False,\n",
       " False,\n",
       " False,\n",
       " False,\n",
       " True,\n",
       " False,\n",
       " False,\n",
       " False]"
      ]
     },
     "execution_count": 64,
     "metadata": {},
     "output_type": "execute_result"
    }
   ],
   "source": [
    "# logical index , iek series havi True/False hast pas\n",
    "# ba list() mishe azash ie list sakht\n",
    "list(df['Position'] == 'PF')"
   ]
  },
  {
   "cell_type": "code",
   "execution_count": 65,
   "id": "067e1ef7-e3e9-4940-93c9-84e4883ce907",
   "metadata": {},
   "outputs": [
    {
     "data": {
      "text/plain": [
       "pandas.core.series.Series"
      ]
     },
     "execution_count": 65,
     "metadata": {},
     "output_type": "execute_result"
    }
   ],
   "source": [
    "type(df['Position'] == 'PF')"
   ]
  },
  {
   "cell_type": "code",
   "execution_count": 75,
   "id": "e79bf90c-0058-4124-9884-f4541c552403",
   "metadata": {},
   "outputs": [
    {
     "data": {
      "text/plain": [
       "dtype('bool')"
      ]
     },
     "execution_count": 75,
     "metadata": {},
     "output_type": "execute_result"
    }
   ],
   "source": [
    "# age ie sutun bool bashe mishe bejaie df[df[sotun] == True]\n",
    "# goft df[df[sotun]] va baraie not az ~\n",
    "df2['Mgmt'].dtype"
   ]
  },
  {
   "cell_type": "code",
   "execution_count": 70,
   "id": "6424e31b-0ac5-41c8-97ed-bfe47e15d22b",
   "metadata": {},
   "outputs": [
    {
     "data": {
      "text/html": [
       "<div>\n",
       "<style scoped>\n",
       "    .dataframe tbody tr th:only-of-type {\n",
       "        vertical-align: middle;\n",
       "    }\n",
       "\n",
       "    .dataframe tbody tr th {\n",
       "        vertical-align: top;\n",
       "    }\n",
       "\n",
       "    .dataframe thead th {\n",
       "        text-align: right;\n",
       "    }\n",
       "</style>\n",
       "<table border=\"1\" class=\"dataframe\">\n",
       "  <thead>\n",
       "    <tr style=\"text-align: right;\">\n",
       "      <th></th>\n",
       "      <th>First Name</th>\n",
       "      <th>Gender</th>\n",
       "      <th>Start Date</th>\n",
       "      <th>Salary</th>\n",
       "      <th>Mgmt</th>\n",
       "      <th>Team</th>\n",
       "    </tr>\n",
       "  </thead>\n",
       "  <tbody>\n",
       "    <tr>\n",
       "      <th>0</th>\n",
       "      <td>Douglas</td>\n",
       "      <td>Male</td>\n",
       "      <td>8/6/93</td>\n",
       "      <td>NaN</td>\n",
       "      <td>True</td>\n",
       "      <td>Marketing</td>\n",
       "    </tr>\n",
       "    <tr>\n",
       "      <th>1</th>\n",
       "      <td>Thomas</td>\n",
       "      <td>Male</td>\n",
       "      <td>3/31/96</td>\n",
       "      <td>61933.0</td>\n",
       "      <td>True</td>\n",
       "      <td>NaN</td>\n",
       "    </tr>\n",
       "    <tr>\n",
       "      <th>3</th>\n",
       "      <td>Jerry</td>\n",
       "      <td>NaN</td>\n",
       "      <td>3/4/05</td>\n",
       "      <td>138705.0</td>\n",
       "      <td>True</td>\n",
       "      <td>Finance</td>\n",
       "    </tr>\n",
       "    <tr>\n",
       "      <th>4</th>\n",
       "      <td>Larry</td>\n",
       "      <td>Male</td>\n",
       "      <td>1/24/98</td>\n",
       "      <td>101004.0</td>\n",
       "      <td>True</td>\n",
       "      <td>IT</td>\n",
       "    </tr>\n",
       "    <tr>\n",
       "      <th>6</th>\n",
       "      <td>Ruby</td>\n",
       "      <td>Female</td>\n",
       "      <td>8/17/87</td>\n",
       "      <td>65476.0</td>\n",
       "      <td>True</td>\n",
       "      <td>Product</td>\n",
       "    </tr>\n",
       "    <tr>\n",
       "      <th>...</th>\n",
       "      <td>...</td>\n",
       "      <td>...</td>\n",
       "      <td>...</td>\n",
       "      <td>...</td>\n",
       "      <td>...</td>\n",
       "      <td>...</td>\n",
       "    </tr>\n",
       "    <tr>\n",
       "      <th>992</th>\n",
       "      <td>Anthony</td>\n",
       "      <td>Male</td>\n",
       "      <td>10/16/11</td>\n",
       "      <td>112769.0</td>\n",
       "      <td>True</td>\n",
       "      <td>Finance</td>\n",
       "    </tr>\n",
       "    <tr>\n",
       "      <th>993</th>\n",
       "      <td>Tina</td>\n",
       "      <td>Female</td>\n",
       "      <td>5/15/97</td>\n",
       "      <td>56450.0</td>\n",
       "      <td>True</td>\n",
       "      <td>Engineering</td>\n",
       "    </tr>\n",
       "    <tr>\n",
       "      <th>994</th>\n",
       "      <td>George</td>\n",
       "      <td>Male</td>\n",
       "      <td>6/21/13</td>\n",
       "      <td>98874.0</td>\n",
       "      <td>True</td>\n",
       "      <td>Marketing</td>\n",
       "    </tr>\n",
       "    <tr>\n",
       "      <th>999</th>\n",
       "      <td>Albert</td>\n",
       "      <td>Male</td>\n",
       "      <td>5/15/12</td>\n",
       "      <td>129949.0</td>\n",
       "      <td>True</td>\n",
       "      <td>Sales</td>\n",
       "    </tr>\n",
       "    <tr>\n",
       "      <th>1000</th>\n",
       "      <td>NaN</td>\n",
       "      <td>NaN</td>\n",
       "      <td>NaN</td>\n",
       "      <td>NaN</td>\n",
       "      <td>True</td>\n",
       "      <td>NaN</td>\n",
       "    </tr>\n",
       "  </tbody>\n",
       "</table>\n",
       "<p>536 rows × 6 columns</p>\n",
       "</div>"
      ],
      "text/plain": [
       "     First Name  Gender Start Date    Salary  Mgmt         Team\n",
       "0       Douglas    Male     8/6/93       NaN  True    Marketing\n",
       "1        Thomas    Male    3/31/96   61933.0  True          NaN\n",
       "3         Jerry     NaN     3/4/05  138705.0  True      Finance\n",
       "4         Larry    Male    1/24/98  101004.0  True           IT\n",
       "6          Ruby  Female    8/17/87   65476.0  True      Product\n",
       "...         ...     ...        ...       ...   ...          ...\n",
       "992     Anthony    Male   10/16/11  112769.0  True      Finance\n",
       "993        Tina  Female    5/15/97   56450.0  True  Engineering\n",
       "994      George    Male    6/21/13   98874.0  True    Marketing\n",
       "999      Albert    Male    5/15/12  129949.0  True        Sales\n",
       "1000        NaN     NaN        NaN       NaN  True          NaN\n",
       "\n",
       "[536 rows x 6 columns]"
      ]
     },
     "execution_count": 70,
     "metadata": {},
     "output_type": "execute_result"
    }
   ],
   "source": [
    "df2[df2['Mgmt']]"
   ]
  },
  {
   "cell_type": "code",
   "execution_count": 77,
   "id": "2a20e880-068b-449e-a431-9ca309b34ec1",
   "metadata": {},
   "outputs": [
    {
     "data": {
      "text/html": [
       "<div>\n",
       "<style scoped>\n",
       "    .dataframe tbody tr th:only-of-type {\n",
       "        vertical-align: middle;\n",
       "    }\n",
       "\n",
       "    .dataframe tbody tr th {\n",
       "        vertical-align: top;\n",
       "    }\n",
       "\n",
       "    .dataframe thead th {\n",
       "        text-align: right;\n",
       "    }\n",
       "</style>\n",
       "<table border=\"1\" class=\"dataframe\">\n",
       "  <thead>\n",
       "    <tr style=\"text-align: right;\">\n",
       "      <th></th>\n",
       "      <th>First Name</th>\n",
       "      <th>Gender</th>\n",
       "      <th>Start Date</th>\n",
       "      <th>Salary</th>\n",
       "      <th>Mgmt</th>\n",
       "      <th>Team</th>\n",
       "    </tr>\n",
       "  </thead>\n",
       "  <tbody>\n",
       "    <tr>\n",
       "      <th>2</th>\n",
       "      <td>Maria</td>\n",
       "      <td>Female</td>\n",
       "      <td>NaN</td>\n",
       "      <td>130590.0</td>\n",
       "      <td>False</td>\n",
       "      <td>Finance</td>\n",
       "    </tr>\n",
       "    <tr>\n",
       "      <th>5</th>\n",
       "      <td>Dennis</td>\n",
       "      <td>Male</td>\n",
       "      <td>4/18/87</td>\n",
       "      <td>115163.0</td>\n",
       "      <td>False</td>\n",
       "      <td>Legal</td>\n",
       "    </tr>\n",
       "    <tr>\n",
       "      <th>13</th>\n",
       "      <td>Gary</td>\n",
       "      <td>Male</td>\n",
       "      <td>1/27/08</td>\n",
       "      <td>109831.0</td>\n",
       "      <td>False</td>\n",
       "      <td>Sales</td>\n",
       "    </tr>\n",
       "    <tr>\n",
       "      <th>15</th>\n",
       "      <td>Lillian</td>\n",
       "      <td>Female</td>\n",
       "      <td>6/5/16</td>\n",
       "      <td>59414.0</td>\n",
       "      <td>False</td>\n",
       "      <td>Product</td>\n",
       "    </tr>\n",
       "    <tr>\n",
       "      <th>16</th>\n",
       "      <td>Jeremy</td>\n",
       "      <td>Male</td>\n",
       "      <td>9/21/10</td>\n",
       "      <td>90370.0</td>\n",
       "      <td>False</td>\n",
       "      <td>HR</td>\n",
       "    </tr>\n",
       "    <tr>\n",
       "      <th>...</th>\n",
       "      <td>...</td>\n",
       "      <td>...</td>\n",
       "      <td>...</td>\n",
       "      <td>...</td>\n",
       "      <td>...</td>\n",
       "      <td>...</td>\n",
       "    </tr>\n",
       "    <tr>\n",
       "      <th>989</th>\n",
       "      <td>Justin</td>\n",
       "      <td>NaN</td>\n",
       "      <td>2/10/91</td>\n",
       "      <td>38344.0</td>\n",
       "      <td>False</td>\n",
       "      <td>Legal</td>\n",
       "    </tr>\n",
       "    <tr>\n",
       "      <th>995</th>\n",
       "      <td>Henry</td>\n",
       "      <td>NaN</td>\n",
       "      <td>11/23/14</td>\n",
       "      <td>132483.0</td>\n",
       "      <td>False</td>\n",
       "      <td>Distribution</td>\n",
       "    </tr>\n",
       "    <tr>\n",
       "      <th>996</th>\n",
       "      <td>Phillip</td>\n",
       "      <td>Male</td>\n",
       "      <td>1/31/84</td>\n",
       "      <td>42392.0</td>\n",
       "      <td>False</td>\n",
       "      <td>Finance</td>\n",
       "    </tr>\n",
       "    <tr>\n",
       "      <th>997</th>\n",
       "      <td>Russell</td>\n",
       "      <td>Male</td>\n",
       "      <td>5/20/13</td>\n",
       "      <td>96914.0</td>\n",
       "      <td>False</td>\n",
       "      <td>Product</td>\n",
       "    </tr>\n",
       "    <tr>\n",
       "      <th>998</th>\n",
       "      <td>Larry</td>\n",
       "      <td>Male</td>\n",
       "      <td>4/20/13</td>\n",
       "      <td>60500.0</td>\n",
       "      <td>False</td>\n",
       "      <td>Business Dev</td>\n",
       "    </tr>\n",
       "  </tbody>\n",
       "</table>\n",
       "<p>465 rows × 6 columns</p>\n",
       "</div>"
      ],
      "text/plain": [
       "    First Name  Gender Start Date    Salary   Mgmt          Team\n",
       "2        Maria  Female        NaN  130590.0  False       Finance\n",
       "5       Dennis    Male    4/18/87  115163.0  False         Legal\n",
       "13        Gary    Male    1/27/08  109831.0  False         Sales\n",
       "15     Lillian  Female     6/5/16   59414.0  False       Product\n",
       "16      Jeremy    Male    9/21/10   90370.0  False            HR\n",
       "..         ...     ...        ...       ...    ...           ...\n",
       "989     Justin     NaN    2/10/91   38344.0  False         Legal\n",
       "995      Henry     NaN   11/23/14  132483.0  False  Distribution\n",
       "996    Phillip    Male    1/31/84   42392.0  False       Finance\n",
       "997    Russell    Male    5/20/13   96914.0  False       Product\n",
       "998      Larry    Male    4/20/13   60500.0  False  Business Dev\n",
       "\n",
       "[465 rows x 6 columns]"
      ]
     },
     "execution_count": 77,
     "metadata": {},
     "output_type": "execute_result"
    }
   ],
   "source": [
    "df2[~df2['Mgmt']]"
   ]
  },
  {
   "cell_type": "code",
   "execution_count": null,
   "id": "97f17212-0991-48b8-8c02-d65ff643c918",
   "metadata": {},
   "outputs": [],
   "source": []
  },
  {
   "cell_type": "code",
   "execution_count": null,
   "id": "8ffc7db7-3e3b-4522-8575-db9f442604e6",
   "metadata": {},
   "outputs": [],
   "source": []
  },
  {
   "cell_type": "markdown",
   "id": "dc8302f0-efc0-4f50-b14b-5e8d38910ee0",
   "metadata": {},
   "source": [
    "<h1>amaliat ruie logical index</h1>"
   ]
  },
  {
   "cell_type": "raw",
   "id": "9ecfd906-9922-447a-bafe-708f20eaaa0d",
   "metadata": {},
   "source": [
    " & : and\n",
    " | : or\n",
    " ~ : not\n",
    "\n",
    "sotun.between(7, 8) shamele har do mishe. tush adad,tarikh, bar mabnaie horufe alefba. ie jour bejaie and\n",
    "\n",
    "sotun.isin([value1, value2, ...]) be jaie or baraie maghadire gosaste. mishe ie list az option dorost kard. sotun.isin(option)\n",
    "\n",
    "sotun.isnull() /sotun.notnull()\n",
    "sotun.isna() /sotun.notna() "
   ]
  },
  {
   "cell_type": "code",
   "execution_count": 78,
   "id": "b6091ffc-1ee3-4a46-bbc7-4643dbc86b48",
   "metadata": {},
   "outputs": [
    {
     "name": "stdout",
     "output_type": "stream",
     "text": [
      "<class 'pandas.core.frame.DataFrame'>\n",
      "RangeIndex: 450 entries, 0 to 449\n",
      "Data columns (total 5 columns):\n",
      " #   Column    Non-Null Count  Dtype   \n",
      "---  ------    --------------  -----   \n",
      " 0   Name      450 non-null    object  \n",
      " 1   Team      450 non-null    object  \n",
      " 2   Position  450 non-null    category\n",
      " 3   Birthday  450 non-null    object  \n",
      " 4   Salary    450 non-null    int64   \n",
      "dtypes: category(1), int64(1), object(3)\n",
      "memory usage: 15.0+ KB\n"
     ]
    }
   ],
   "source": [
    "df.info()"
   ]
  },
  {
   "cell_type": "code",
   "execution_count": 80,
   "id": "532ad1a5-7870-4c60-bed9-a8358010fbc3",
   "metadata": {},
   "outputs": [
    {
     "data": {
      "text/html": [
       "<div>\n",
       "<style scoped>\n",
       "    .dataframe tbody tr th:only-of-type {\n",
       "        vertical-align: middle;\n",
       "    }\n",
       "\n",
       "    .dataframe tbody tr th {\n",
       "        vertical-align: top;\n",
       "    }\n",
       "\n",
       "    .dataframe thead th {\n",
       "        text-align: right;\n",
       "    }\n",
       "</style>\n",
       "<table border=\"1\" class=\"dataframe\">\n",
       "  <thead>\n",
       "    <tr style=\"text-align: right;\">\n",
       "      <th></th>\n",
       "      <th>Name</th>\n",
       "      <th>Team</th>\n",
       "      <th>Position</th>\n",
       "      <th>Birthday</th>\n",
       "      <th>Salary</th>\n",
       "    </tr>\n",
       "  </thead>\n",
       "  <tbody>\n",
       "  </tbody>\n",
       "</table>\n",
       "</div>"
      ],
      "text/plain": [
       "Empty DataFrame\n",
       "Columns: [Name, Team, Position, Birthday, Salary]\n",
       "Index: []"
      ]
     },
     "execution_count": 80,
     "metadata": {},
     "output_type": "execute_result"
    }
   ],
   "source": [
    "df[df.Name.between('a','b')]"
   ]
  },
  {
   "cell_type": "code",
   "execution_count": 85,
   "id": "6dd46225-c061-4567-9182-5600adf2c8a4",
   "metadata": {},
   "outputs": [
    {
     "data": {
      "text/html": [
       "<div>\n",
       "<style scoped>\n",
       "    .dataframe tbody tr th:only-of-type {\n",
       "        vertical-align: middle;\n",
       "    }\n",
       "\n",
       "    .dataframe tbody tr th {\n",
       "        vertical-align: top;\n",
       "    }\n",
       "\n",
       "    .dataframe thead th {\n",
       "        text-align: right;\n",
       "    }\n",
       "</style>\n",
       "<table border=\"1\" class=\"dataframe\">\n",
       "  <thead>\n",
       "    <tr style=\"text-align: right;\">\n",
       "      <th></th>\n",
       "      <th>Name</th>\n",
       "      <th>Team</th>\n",
       "      <th>Position</th>\n",
       "      <th>Birthday</th>\n",
       "      <th>Salary</th>\n",
       "    </tr>\n",
       "  </thead>\n",
       "  <tbody>\n",
       "    <tr>\n",
       "      <th>11</th>\n",
       "      <td>Alex Caruso</td>\n",
       "      <td>Los Angeles Lakers</td>\n",
       "      <td>PG</td>\n",
       "      <td>2/28/94</td>\n",
       "      <td>2750000</td>\n",
       "    </tr>\n",
       "    <tr>\n",
       "      <th>14</th>\n",
       "      <td>Alec Burks</td>\n",
       "      <td>Golden State Warriors</td>\n",
       "      <td>SG</td>\n",
       "      <td>7/20/91</td>\n",
       "      <td>2320044</td>\n",
       "    </tr>\n",
       "    <tr>\n",
       "      <th>52</th>\n",
       "      <td>Aaron Gordon</td>\n",
       "      <td>Orlando Magic</td>\n",
       "      <td>PF</td>\n",
       "      <td>9/16/95</td>\n",
       "      <td>19863636</td>\n",
       "    </tr>\n",
       "    <tr>\n",
       "      <th>81</th>\n",
       "      <td>Adam Mokoka</td>\n",
       "      <td>Chicago Bulls</td>\n",
       "      <td>G</td>\n",
       "      <td>7/18/98</td>\n",
       "      <td>79568</td>\n",
       "    </tr>\n",
       "    <tr>\n",
       "      <th>101</th>\n",
       "      <td>Aaron Holiday</td>\n",
       "      <td>Indiana Pacers</td>\n",
       "      <td>PG</td>\n",
       "      <td>9/30/96</td>\n",
       "      <td>2239200</td>\n",
       "    </tr>\n",
       "    <tr>\n",
       "      <th>109</th>\n",
       "      <td>Anthony Davis</td>\n",
       "      <td>Los Angeles Lakers</td>\n",
       "      <td>C</td>\n",
       "      <td>3/11/93</td>\n",
       "      <td>27093019</td>\n",
       "    </tr>\n",
       "    <tr>\n",
       "      <th>142</th>\n",
       "      <td>Alfonzo McKinnie</td>\n",
       "      <td>Cleveland Cavaliers</td>\n",
       "      <td>SF</td>\n",
       "      <td>9/17/92</td>\n",
       "      <td>1588231</td>\n",
       "    </tr>\n",
       "    <tr>\n",
       "      <th>167</th>\n",
       "      <td>Allen Crabbe</td>\n",
       "      <td>Atlanta Hawks</td>\n",
       "      <td>SG</td>\n",
       "      <td>4/9/92</td>\n",
       "      <td>18500000</td>\n",
       "    </tr>\n",
       "    <tr>\n",
       "      <th>170</th>\n",
       "      <td>Avery Bradley</td>\n",
       "      <td>Los Angeles Lakers</td>\n",
       "      <td>PG</td>\n",
       "      <td>11/26/90</td>\n",
       "      <td>6767000</td>\n",
       "    </tr>\n",
       "    <tr>\n",
       "      <th>193</th>\n",
       "      <td>Amile Jefferson</td>\n",
       "      <td>Orlando Magic</td>\n",
       "      <td>PF</td>\n",
       "      <td>5/7/93</td>\n",
       "      <td>1339515</td>\n",
       "    </tr>\n",
       "    <tr>\n",
       "      <th>208</th>\n",
       "      <td>Anfernee Simons</td>\n",
       "      <td>Portland Trail Blazers</td>\n",
       "      <td>SG</td>\n",
       "      <td>6/8/99</td>\n",
       "      <td>2149560</td>\n",
       "    </tr>\n",
       "    <tr>\n",
       "      <th>217</th>\n",
       "      <td>Andre Drummond</td>\n",
       "      <td>Detroit Pistons</td>\n",
       "      <td>C</td>\n",
       "      <td>8/10/93</td>\n",
       "      <td>27093018</td>\n",
       "    </tr>\n",
       "    <tr>\n",
       "      <th>227</th>\n",
       "      <td>Amir Coffey</td>\n",
       "      <td>Los Angeles Clippers</td>\n",
       "      <td>G</td>\n",
       "      <td>6/17/97</td>\n",
       "      <td>79568</td>\n",
       "    </tr>\n",
       "    <tr>\n",
       "      <th>235</th>\n",
       "      <td>Al Horford</td>\n",
       "      <td>Philadelphia 76ers</td>\n",
       "      <td>C</td>\n",
       "      <td>6/3/86</td>\n",
       "      <td>28000000</td>\n",
       "    </tr>\n",
       "    <tr>\n",
       "      <th>253</th>\n",
       "      <td>Alize Johnson</td>\n",
       "      <td>Indiana Pacers</td>\n",
       "      <td>PF</td>\n",
       "      <td>4/22/96</td>\n",
       "      <td>1416852</td>\n",
       "    </tr>\n",
       "    <tr>\n",
       "      <th>254</th>\n",
       "      <td>Andrew Wiggins</td>\n",
       "      <td>Minnesota Timberwolves</td>\n",
       "      <td>SF</td>\n",
       "      <td>2/23/95</td>\n",
       "      <td>27504630</td>\n",
       "    </tr>\n",
       "    <tr>\n",
       "      <th>263</th>\n",
       "      <td>Al-Farouq Aminu</td>\n",
       "      <td>Orlando Magic</td>\n",
       "      <td>PF</td>\n",
       "      <td>9/21/90</td>\n",
       "      <td>9258000</td>\n",
       "    </tr>\n",
       "    <tr>\n",
       "      <th>282</th>\n",
       "      <td>Andre Roberson</td>\n",
       "      <td>Oklahoma City Thunder</td>\n",
       "      <td>SF</td>\n",
       "      <td>12/4/91</td>\n",
       "      <td>10740740</td>\n",
       "    </tr>\n",
       "    <tr>\n",
       "      <th>329</th>\n",
       "      <td>Allonzo Trier</td>\n",
       "      <td>New York Knicks</td>\n",
       "      <td>PG</td>\n",
       "      <td>1/17/96</td>\n",
       "      <td>3551100</td>\n",
       "    </tr>\n",
       "    <tr>\n",
       "      <th>333</th>\n",
       "      <td>Antonius Cleveland</td>\n",
       "      <td>Dallas Mavericks</td>\n",
       "      <td>SG</td>\n",
       "      <td>2/2/94</td>\n",
       "      <td>79568</td>\n",
       "    </tr>\n",
       "    <tr>\n",
       "      <th>336</th>\n",
       "      <td>Aron Baynes</td>\n",
       "      <td>Phoenix Suns</td>\n",
       "      <td>C</td>\n",
       "      <td>12/9/86</td>\n",
       "      <td>5453280</td>\n",
       "    </tr>\n",
       "    <tr>\n",
       "      <th>341</th>\n",
       "      <td>Anthony Tolliver</td>\n",
       "      <td>Portland Trail Blazers</td>\n",
       "      <td>PF</td>\n",
       "      <td>6/1/85</td>\n",
       "      <td>2564753</td>\n",
       "    </tr>\n",
       "    <tr>\n",
       "      <th>359</th>\n",
       "      <td>Alex Len</td>\n",
       "      <td>Atlanta Hawks</td>\n",
       "      <td>C</td>\n",
       "      <td>6/16/93</td>\n",
       "      <td>4160000</td>\n",
       "    </tr>\n",
       "    <tr>\n",
       "      <th>399</th>\n",
       "      <td>Admiral Schofield</td>\n",
       "      <td>Washington Wizards</td>\n",
       "      <td>SF</td>\n",
       "      <td>3/30/97</td>\n",
       "      <td>1000000</td>\n",
       "    </tr>\n",
       "    <tr>\n",
       "      <th>415</th>\n",
       "      <td>Andre Iguodala</td>\n",
       "      <td>Memphis Grizzlies</td>\n",
       "      <td>SF</td>\n",
       "      <td>1/28/84</td>\n",
       "      <td>17185185</td>\n",
       "    </tr>\n",
       "    <tr>\n",
       "      <th>437</th>\n",
       "      <td>Abdel Nader</td>\n",
       "      <td>Oklahoma City Thunder</td>\n",
       "      <td>SF</td>\n",
       "      <td>9/25/93</td>\n",
       "      <td>1618520</td>\n",
       "    </tr>\n",
       "    <tr>\n",
       "      <th>445</th>\n",
       "      <td>Austin Rivers</td>\n",
       "      <td>Houston Rockets</td>\n",
       "      <td>PG</td>\n",
       "      <td>8/1/92</td>\n",
       "      <td>2174310</td>\n",
       "    </tr>\n",
       "  </tbody>\n",
       "</table>\n",
       "</div>"
      ],
      "text/plain": [
       "                   Name                    Team Position  Birthday    Salary\n",
       "11          Alex Caruso      Los Angeles Lakers       PG   2/28/94   2750000\n",
       "14           Alec Burks   Golden State Warriors       SG   7/20/91   2320044\n",
       "52         Aaron Gordon           Orlando Magic       PF   9/16/95  19863636\n",
       "81          Adam Mokoka           Chicago Bulls        G   7/18/98     79568\n",
       "101       Aaron Holiday          Indiana Pacers       PG   9/30/96   2239200\n",
       "109       Anthony Davis      Los Angeles Lakers        C   3/11/93  27093019\n",
       "142    Alfonzo McKinnie     Cleveland Cavaliers       SF   9/17/92   1588231\n",
       "167        Allen Crabbe           Atlanta Hawks       SG    4/9/92  18500000\n",
       "170       Avery Bradley      Los Angeles Lakers       PG  11/26/90   6767000\n",
       "193     Amile Jefferson           Orlando Magic       PF    5/7/93   1339515\n",
       "208     Anfernee Simons  Portland Trail Blazers       SG    6/8/99   2149560\n",
       "217      Andre Drummond         Detroit Pistons        C   8/10/93  27093018\n",
       "227         Amir Coffey    Los Angeles Clippers        G   6/17/97     79568\n",
       "235          Al Horford      Philadelphia 76ers        C    6/3/86  28000000\n",
       "253       Alize Johnson          Indiana Pacers       PF   4/22/96   1416852\n",
       "254      Andrew Wiggins  Minnesota Timberwolves       SF   2/23/95  27504630\n",
       "263     Al-Farouq Aminu           Orlando Magic       PF   9/21/90   9258000\n",
       "282      Andre Roberson   Oklahoma City Thunder       SF   12/4/91  10740740\n",
       "329       Allonzo Trier         New York Knicks       PG   1/17/96   3551100\n",
       "333  Antonius Cleveland        Dallas Mavericks       SG    2/2/94     79568\n",
       "336         Aron Baynes            Phoenix Suns        C   12/9/86   5453280\n",
       "341    Anthony Tolliver  Portland Trail Blazers       PF    6/1/85   2564753\n",
       "359            Alex Len           Atlanta Hawks        C   6/16/93   4160000\n",
       "399   Admiral Schofield      Washington Wizards       SF   3/30/97   1000000\n",
       "415      Andre Iguodala       Memphis Grizzlies       SF   1/28/84  17185185\n",
       "437         Abdel Nader   Oklahoma City Thunder       SF   9/25/93   1618520\n",
       "445       Austin Rivers         Houston Rockets       PG    8/1/92   2174310"
      ]
     },
     "execution_count": 85,
     "metadata": {},
     "output_type": "execute_result"
    }
   ],
   "source": [
    "df[df.Name.between('a','b') | df.Name.between('A','B')]"
   ]
  },
  {
   "cell_type": "code",
   "execution_count": null,
   "id": "744fde85-f084-464f-b9a1-583099707f9f",
   "metadata": {},
   "outputs": [],
   "source": []
  },
  {
   "cell_type": "code",
   "execution_count": null,
   "id": "90df1def-2f80-43cb-a898-920a23a63d54",
   "metadata": {},
   "outputs": [],
   "source": []
  },
  {
   "cell_type": "code",
   "execution_count": null,
   "id": "1308b90f-9c60-4f6f-ad54-0b7946590724",
   "metadata": {},
   "outputs": [],
   "source": []
  },
  {
   "cell_type": "markdown",
   "id": "35fe7fd5-ea06-43c2-9e98-06dc526ee864",
   "metadata": {},
   "source": [
    "<h1>how to work with missing values</h1>"
   ]
  },
  {
   "cell_type": "markdown",
   "id": "48afdd60-36f3-4df1-b289-6b405bceb3b1",
   "metadata": {},
   "source": [
    "<p>\n",
    "    1- peida kardan:<br>\n",
    "    df.info(), tedad entries ro be ma mide. hala miaim in ro ba tedad not null har sotun moghaiese mikonim\n",
    "</p>\n",
    "<p>\n",
    "    2-didan:<br>\n",
    "    har sotuni ke kamtar az entries not null dasht <br>\n",
    "    <code>df[df[sotun].isna()]</code> ia <code>df[df[sotun].isnull()]</code>\n",
    "    <ul>\n",
    "        <li>df[sotun1].isna() | df[sotun2].isna()<br>kol na ha ro midde\n",
    "    </li>\n",
    "        <li>df[sotun1].isna() & df[sotun2].isna()<br>age har do sotun mohem bashan shaid baid hazf beshan\n",
    "    </li>\n",
    "    </ul>\n",
    "    \n",
    "</p>\n",
    "<p>\n",
    "    2-darman:<br>\n",
    "</p>\n",
    "<ul>\n",
    "    <li>hazf:<br>\n",
    "    - df.dropna(how='all') -> faghat radifi ke hamash na bashe hazf mishe<br>\n",
    "    - df.dropna() / df.dropna(how='any') -> ie sotun ham na bashe un radif ro hazf mikone<br>\n",
    "    - df.dropna(how='all', subset= [sotun1, sotun2]) -> faghat radifi ke hameie sotunhaie moshakhas shode un na bashe hazf mishe<br>\n",
    "    - df.dropna(thresh=n) -> faghat radifi ke kamtar az n sotun un por bashe hazf mishe<br>\n",
    "    - df.dropna(thresh=n, subset= [sotun1, sotun2]) -> faghat radifi ke dar miane sotunhaie moshakhas shode un kamtar az n ta por bashe hazf mishe\n",
    "    </li>\n",
    "    <li>por kardan unha:<br>\n",
    "        - sotun.fillna(value) -> ghaedatan in behtare chon value sotun be sotun fargh mikone<br>\n",
    "        - df.fillna(value)</li>\n",
    "</ul>"
   ]
  },
  {
   "cell_type": "code",
   "execution_count": 1,
   "id": "099b36e4-1c20-46a3-8881-c658410f3d06",
   "metadata": {},
   "outputs": [],
   "source": [
    "import pandas as pd\n",
    "df = pd.read_csv('used_cars.csv')"
   ]
  },
  {
   "cell_type": "code",
   "execution_count": 2,
   "id": "e98ed7e5-ee04-467b-9558-5d1fda64a477",
   "metadata": {},
   "outputs": [
    {
     "name": "stdout",
     "output_type": "stream",
     "text": [
      "<class 'pandas.core.frame.DataFrame'>\n",
      "RangeIndex: 435578 entries, 0 to 435577\n",
      "Data columns (total 5 columns):\n",
      " #   Column        Non-Null Count   Dtype \n",
      "---  ------        --------------   ----- \n",
      " 0   Manufacturer  435578 non-null  object\n",
      " 1   Year          435578 non-null  int64 \n",
      " 2   Fuel          432985 non-null  object\n",
      " 3   Transmission  432402 non-null  object\n",
      " 4   Price         435578 non-null  int64 \n",
      "dtypes: int64(2), object(3)\n",
      "memory usage: 16.6+ MB\n"
     ]
    }
   ],
   "source": [
    "df.info()"
   ]
  },
  {
   "cell_type": "code",
   "execution_count": 7,
   "id": "57faee0c-0727-4c6a-84c5-a0ee141944ce",
   "metadata": {},
   "outputs": [],
   "source": [
    "na_found = df['Fuel'].isna() | df['Transmission'].isna()\n",
    "two_na = df['Fuel'].isna() & df['Transmission'].isna()"
   ]
  },
  {
   "cell_type": "code",
   "execution_count": 14,
   "id": "3b292f75-0115-4b15-8160-1353e38919c0",
   "metadata": {},
   "outputs": [
    {
     "data": {
      "text/plain": [
       "5667"
      ]
     },
     "execution_count": 14,
     "metadata": {},
     "output_type": "execute_result"
    }
   ],
   "source": [
    "sum(list(na_found))"
   ]
  },
  {
   "cell_type": "code",
   "execution_count": 13,
   "id": "2e89b769-27b9-44ce-9452-a94ba7c490e4",
   "metadata": {},
   "outputs": [
    {
     "data": {
      "text/plain": [
       "102"
      ]
     },
     "execution_count": 13,
     "metadata": {},
     "output_type": "execute_result"
    }
   ],
   "source": [
    "sum(list(two_na))"
   ]
  },
  {
   "cell_type": "code",
   "execution_count": null,
   "id": "3306eeba-c280-404a-b525-2bd84cd6f024",
   "metadata": {},
   "outputs": [],
   "source": []
  },
  {
   "cell_type": "code",
   "execution_count": null,
   "id": "4b8943d7-943c-4eb7-8bd4-654603013a15",
   "metadata": {},
   "outputs": [],
   "source": []
  },
  {
   "cell_type": "markdown",
   "id": "964cd0a6-92a0-4552-8bc8-3b719678413d",
   "metadata": {},
   "source": [
    "<h1>how to work with repeated values</h1>"
   ]
  },
  {
   "cell_type": "raw",
   "id": "3ef2179e-89f7-442e-b3a6-9b58d5806a0f",
   "metadata": {},
   "source": [
    "in iany ma mikhaim avalin ia akharin item az iek meghdar gosaste ro barasi konim iany\n",
    "\n",
    "iek meghdari hast mesle team, gosaste ast(mkarketing-accounting-...)\n",
    "va tartib mana dare tu enteries maslan kole dadeha bar mabnaie zamane estekhdam ia hoghugh moratab shodan"
   ]
  },
  {
   "cell_type": "raw",
   "id": "e8bba586-d03d-4b5c-a6b8-f4a377e22504",
   "metadata": {},
   "source": [
    "ghabl az har chiz baiad kari konim ke tartib entries iek manaiy dashte bashe"
   ]
  },
  {
   "cell_type": "raw",
   "id": "80040f58-5484-4e52-bb7d-e48ff8a35cea",
   "metadata": {},
   "source": [
    "sotun.duplicated() / sotun.duplicated(keep = 'first')  ie logical index hast ke avalin morede ie value ro False mide, badi ha ro True\n",
    "\n",
    "~sotun.duplicated() ham tabiatan iek logical index hast ke avalin morede iek value ro True mide"
   ]
  },
  {
   "cell_type": "raw",
   "id": "008768f8-461b-468b-b496-602312b4ec84",
   "metadata": {},
   "source": [
    "sotun.duplicated(keep = 'last')  ie logical index hast ke akharin morede ie value ro False mide, ghabli ha ro True\n",
    "\n",
    "~sotun.duplicated(keep = 'last') ham tabiatan iek logical index hast ke akharin morede iek value ro True mide"
   ]
  },
  {
   "cell_type": "code",
   "execution_count": 55,
   "id": "dc450422-d415-466f-83ba-57dcb352172a",
   "metadata": {},
   "outputs": [],
   "source": [
    "df = df = pd.read_csv('employees.csv', index_col='First Name', parse_dates=['Start Date'], date_format='%m/%d/%y')"
   ]
  },
  {
   "cell_type": "code",
   "execution_count": 56,
   "id": "da3d4134-08bc-4112-8ca6-f139d7b178dd",
   "metadata": {},
   "outputs": [],
   "source": [
    "# ba in eghdam kari mikonim ke tartib enteries ie manaiy dashte bashe\n",
    "df.sort_values(by='Start Date', inplace=True)"
   ]
  },
  {
   "cell_type": "code",
   "execution_count": 62,
   "id": "d84635bb-0c09-40f1-a630-042d12d9599e",
   "metadata": {},
   "outputs": [
    {
     "data": {
      "text/plain": [
       "True"
      ]
     },
     "execution_count": 62,
     "metadata": {},
     "output_type": "execute_result"
    }
   ],
   "source": [
    "teami_ke_ghablan_ozvi_az_un_ro_didim =df['Team'].duplicated()\n",
    "all(list(df['Team'].duplicated() ==\n",
    "         df['Team'].duplicated(keep='first')))"
   ]
  },
  {
   "cell_type": "code",
   "execution_count": 58,
   "id": "802675fb-2e35-4d13-b0ce-07a63c7308e0",
   "metadata": {},
   "outputs": [],
   "source": [
    "avalin_ozve_har_team = ~teami_ke_ghablan_ozvi_az_un_ro_didim"
   ]
  },
  {
   "cell_type": "code",
   "execution_count": 59,
   "id": "d69492b2-fca2-4863-b7e1-4af93edf8ea3",
   "metadata": {},
   "outputs": [
    {
     "data": {
      "text/html": [
       "<div>\n",
       "<style scoped>\n",
       "    .dataframe tbody tr th:only-of-type {\n",
       "        vertical-align: middle;\n",
       "    }\n",
       "\n",
       "    .dataframe tbody tr th {\n",
       "        vertical-align: top;\n",
       "    }\n",
       "\n",
       "    .dataframe thead th {\n",
       "        text-align: right;\n",
       "    }\n",
       "</style>\n",
       "<table border=\"1\" class=\"dataframe\">\n",
       "  <thead>\n",
       "    <tr style=\"text-align: right;\">\n",
       "      <th></th>\n",
       "      <th>Gender</th>\n",
       "      <th>Start Date</th>\n",
       "      <th>Salary</th>\n",
       "      <th>Mgmt</th>\n",
       "      <th>Team</th>\n",
       "    </tr>\n",
       "    <tr>\n",
       "      <th>First Name</th>\n",
       "      <th></th>\n",
       "      <th></th>\n",
       "      <th></th>\n",
       "      <th></th>\n",
       "      <th></th>\n",
       "    </tr>\n",
       "  </thead>\n",
       "  <tbody>\n",
       "    <tr>\n",
       "      <th>Joe</th>\n",
       "      <td>Male</td>\n",
       "      <td>1980-01-19</td>\n",
       "      <td>119667.0</td>\n",
       "      <td>True</td>\n",
       "      <td>Finance</td>\n",
       "    </tr>\n",
       "    <tr>\n",
       "      <th>Chris</th>\n",
       "      <td>NaN</td>\n",
       "      <td>1980-01-24</td>\n",
       "      <td>113590.0</td>\n",
       "      <td>False</td>\n",
       "      <td>Sales</td>\n",
       "    </tr>\n",
       "    <tr>\n",
       "      <th>Ruby</th>\n",
       "      <td>Female</td>\n",
       "      <td>1980-01-28</td>\n",
       "      <td>142868.0</td>\n",
       "      <td>False</td>\n",
       "      <td>Marketing</td>\n",
       "    </tr>\n",
       "    <tr>\n",
       "      <th>Fred</th>\n",
       "      <td>Male</td>\n",
       "      <td>1980-02-20</td>\n",
       "      <td>74129.0</td>\n",
       "      <td>False</td>\n",
       "      <td>Product</td>\n",
       "    </tr>\n",
       "    <tr>\n",
       "      <th>Julie</th>\n",
       "      <td>Female</td>\n",
       "      <td>1980-03-08</td>\n",
       "      <td>145357.0</td>\n",
       "      <td>False</td>\n",
       "      <td>Engineering</td>\n",
       "    </tr>\n",
       "    <tr>\n",
       "      <th>Steven</th>\n",
       "      <td>Male</td>\n",
       "      <td>1980-03-30</td>\n",
       "      <td>35095.0</td>\n",
       "      <td>True</td>\n",
       "      <td>IT</td>\n",
       "    </tr>\n",
       "    <tr>\n",
       "      <th>NaN</th>\n",
       "      <td>Female</td>\n",
       "      <td>1980-04-01</td>\n",
       "      <td>48141.0</td>\n",
       "      <td>NaN</td>\n",
       "      <td>NaN</td>\n",
       "    </tr>\n",
       "    <tr>\n",
       "      <th>Cynthia</th>\n",
       "      <td>Female</td>\n",
       "      <td>1980-05-23</td>\n",
       "      <td>78226.0</td>\n",
       "      <td>False</td>\n",
       "      <td>HR</td>\n",
       "    </tr>\n",
       "    <tr>\n",
       "      <th>Ruth</th>\n",
       "      <td>Female</td>\n",
       "      <td>1980-09-02</td>\n",
       "      <td>59678.0</td>\n",
       "      <td>False</td>\n",
       "      <td>Distribution</td>\n",
       "    </tr>\n",
       "    <tr>\n",
       "      <th>Jesse</th>\n",
       "      <td>Male</td>\n",
       "      <td>1981-03-02</td>\n",
       "      <td>79582.0</td>\n",
       "      <td>False</td>\n",
       "      <td>Legal</td>\n",
       "    </tr>\n",
       "    <tr>\n",
       "      <th>Kevin</th>\n",
       "      <td>Male</td>\n",
       "      <td>1981-06-23</td>\n",
       "      <td>134598.0</td>\n",
       "      <td>False</td>\n",
       "      <td>Business Dev</td>\n",
       "    </tr>\n",
       "  </tbody>\n",
       "</table>\n",
       "</div>"
      ],
      "text/plain": [
       "            Gender Start Date    Salary   Mgmt          Team\n",
       "First Name                                                  \n",
       "Joe           Male 1980-01-19  119667.0   True       Finance\n",
       "Chris          NaN 1980-01-24  113590.0  False         Sales\n",
       "Ruby        Female 1980-01-28  142868.0  False     Marketing\n",
       "Fred          Male 1980-02-20   74129.0  False       Product\n",
       "Julie       Female 1980-03-08  145357.0  False   Engineering\n",
       "Steven        Male 1980-03-30   35095.0   True            IT\n",
       "NaN         Female 1980-04-01   48141.0    NaN           NaN\n",
       "Cynthia     Female 1980-05-23   78226.0  False            HR\n",
       "Ruth        Female 1980-09-02   59678.0  False  Distribution\n",
       "Jesse         Male 1981-03-02   79582.0  False         Legal\n",
       "Kevin         Male 1981-06-23  134598.0  False  Business Dev"
      ]
     },
     "execution_count": 59,
     "metadata": {},
     "output_type": "execute_result"
    }
   ],
   "source": [
    "# ghadimi taring ozve har team\n",
    "df[avalin_ozve_har_team]"
   ]
  },
  {
   "cell_type": "raw",
   "id": "a0caf361-81d5-4e3a-b367-4ace86f22ea4",
   "metadata": {},
   "source": [
    "hala age jadidtarin ozve iek team ro bekhaim\n",
    "ham mitonim sort ro taghir bedim\n",
    "hame mitunim az keep='last' estefade konim"
   ]
  },
  {
   "cell_type": "code",
   "execution_count": null,
   "id": "f4678e5b-cc49-4b85-853b-f3497b732bd6",
   "metadata": {},
   "outputs": [],
   "source": []
  },
  {
   "cell_type": "markdown",
   "id": "2492b6fa-b11f-4050-81f5-1f0a038fdb04",
   "metadata": {},
   "source": [
    "<h1>how to delete repeated values</h1>"
   ]
  },
  {
   "cell_type": "code",
   "execution_count": 65,
   "id": "c4f040a0-7ee4-408d-a622-3f8dbd6c0960",
   "metadata": {},
   "outputs": [
    {
     "data": {
      "text/html": [
       "<div>\n",
       "<style scoped>\n",
       "    .dataframe tbody tr th:only-of-type {\n",
       "        vertical-align: middle;\n",
       "    }\n",
       "\n",
       "    .dataframe tbody tr th {\n",
       "        vertical-align: top;\n",
       "    }\n",
       "\n",
       "    .dataframe thead th {\n",
       "        text-align: right;\n",
       "    }\n",
       "</style>\n",
       "<table border=\"1\" class=\"dataframe\">\n",
       "  <thead>\n",
       "    <tr style=\"text-align: right;\">\n",
       "      <th></th>\n",
       "      <th>Gender</th>\n",
       "      <th>Start Date</th>\n",
       "      <th>Salary</th>\n",
       "      <th>Mgmt</th>\n",
       "      <th>Team</th>\n",
       "    </tr>\n",
       "    <tr>\n",
       "      <th>First Name</th>\n",
       "      <th></th>\n",
       "      <th></th>\n",
       "      <th></th>\n",
       "      <th></th>\n",
       "      <th></th>\n",
       "    </tr>\n",
       "  </thead>\n",
       "  <tbody>\n",
       "    <tr>\n",
       "      <th>NaN</th>\n",
       "      <td>NaN</td>\n",
       "      <td>2011-12-17</td>\n",
       "      <td>41126.0</td>\n",
       "      <td>NaN</td>\n",
       "      <td>Sales</td>\n",
       "    </tr>\n",
       "    <tr>\n",
       "      <th>Patricia</th>\n",
       "      <td>Female</td>\n",
       "      <td>2012-12-06</td>\n",
       "      <td>114079.0</td>\n",
       "      <td>True</td>\n",
       "      <td>IT</td>\n",
       "    </tr>\n",
       "    <tr>\n",
       "      <th>Arthur</th>\n",
       "      <td>Male</td>\n",
       "      <td>2013-12-05</td>\n",
       "      <td>86615.0</td>\n",
       "      <td>True</td>\n",
       "      <td>Business Dev</td>\n",
       "    </tr>\n",
       "    <tr>\n",
       "      <th>Ronald</th>\n",
       "      <td>Male</td>\n",
       "      <td>2014-04-30</td>\n",
       "      <td>121068.0</td>\n",
       "      <td>True</td>\n",
       "      <td>Product</td>\n",
       "    </tr>\n",
       "    <tr>\n",
       "      <th>Frances</th>\n",
       "      <td>Female</td>\n",
       "      <td>2014-05-16</td>\n",
       "      <td>35884.0</td>\n",
       "      <td>False</td>\n",
       "      <td>Sales</td>\n",
       "    </tr>\n",
       "    <tr>\n",
       "      <th>Jesse</th>\n",
       "      <td>NaN</td>\n",
       "      <td>2014-07-16</td>\n",
       "      <td>98811.0</td>\n",
       "      <td>False</td>\n",
       "      <td>Legal</td>\n",
       "    </tr>\n",
       "    <tr>\n",
       "      <th>NaN</th>\n",
       "      <td>Female</td>\n",
       "      <td>2014-08-17</td>\n",
       "      <td>86230.0</td>\n",
       "      <td>NaN</td>\n",
       "      <td>Distribution</td>\n",
       "    </tr>\n",
       "    <tr>\n",
       "      <th>Henry</th>\n",
       "      <td>NaN</td>\n",
       "      <td>2014-11-23</td>\n",
       "      <td>132483.0</td>\n",
       "      <td>False</td>\n",
       "      <td>Distribution</td>\n",
       "    </tr>\n",
       "    <tr>\n",
       "      <th>Brenda</th>\n",
       "      <td>Female</td>\n",
       "      <td>2015-01-18</td>\n",
       "      <td>73749.0</td>\n",
       "      <td>False</td>\n",
       "      <td>Business Dev</td>\n",
       "    </tr>\n",
       "    <tr>\n",
       "      <th>Jessica</th>\n",
       "      <td>NaN</td>\n",
       "      <td>2015-03-07</td>\n",
       "      <td>121160.0</td>\n",
       "      <td>False</td>\n",
       "      <td>IT</td>\n",
       "    </tr>\n",
       "    <tr>\n",
       "      <th>Jennifer</th>\n",
       "      <td>Female</td>\n",
       "      <td>2015-03-31</td>\n",
       "      <td>132084.0</td>\n",
       "      <td>True</td>\n",
       "      <td>Engineering</td>\n",
       "    </tr>\n",
       "    <tr>\n",
       "      <th>Stephen</th>\n",
       "      <td>Male</td>\n",
       "      <td>2015-05-09</td>\n",
       "      <td>141958.0</td>\n",
       "      <td>True</td>\n",
       "      <td>Legal</td>\n",
       "    </tr>\n",
       "    <tr>\n",
       "      <th>Rose</th>\n",
       "      <td>Female</td>\n",
       "      <td>2015-05-28</td>\n",
       "      <td>149903.0</td>\n",
       "      <td>False</td>\n",
       "      <td>HR</td>\n",
       "    </tr>\n",
       "    <tr>\n",
       "      <th>Christine</th>\n",
       "      <td>NaN</td>\n",
       "      <td>2015-06-28</td>\n",
       "      <td>66582.0</td>\n",
       "      <td>True</td>\n",
       "      <td>Business Dev</td>\n",
       "    </tr>\n",
       "    <tr>\n",
       "      <th>Irene</th>\n",
       "      <td>NaN</td>\n",
       "      <td>2015-07-14</td>\n",
       "      <td>100863.0</td>\n",
       "      <td>True</td>\n",
       "      <td>Finance</td>\n",
       "    </tr>\n",
       "    <tr>\n",
       "      <th>Harry</th>\n",
       "      <td>Male</td>\n",
       "      <td>2015-10-01</td>\n",
       "      <td>64579.0</td>\n",
       "      <td>True</td>\n",
       "      <td>Sales</td>\n",
       "    </tr>\n",
       "    <tr>\n",
       "      <th>NaN</th>\n",
       "      <td>Male</td>\n",
       "      <td>2015-11-24</td>\n",
       "      <td>145329.0</td>\n",
       "      <td>NaN</td>\n",
       "      <td>Finance</td>\n",
       "    </tr>\n",
       "    <tr>\n",
       "      <th>Alice</th>\n",
       "      <td>Female</td>\n",
       "      <td>2016-01-21</td>\n",
       "      <td>117787.0</td>\n",
       "      <td>False</td>\n",
       "      <td>NaN</td>\n",
       "    </tr>\n",
       "    <tr>\n",
       "      <th>Teresa</th>\n",
       "      <td>NaN</td>\n",
       "      <td>2016-01-28</td>\n",
       "      <td>140013.0</td>\n",
       "      <td>True</td>\n",
       "      <td>Engineering</td>\n",
       "    </tr>\n",
       "    <tr>\n",
       "      <th>Martin</th>\n",
       "      <td>Male</td>\n",
       "      <td>2016-02-25</td>\n",
       "      <td>61117.0</td>\n",
       "      <td>False</td>\n",
       "      <td>IT</td>\n",
       "    </tr>\n",
       "    <tr>\n",
       "      <th>Johnny</th>\n",
       "      <td>Male</td>\n",
       "      <td>2016-02-26</td>\n",
       "      <td>76394.0</td>\n",
       "      <td>True</td>\n",
       "      <td>Marketing</td>\n",
       "    </tr>\n",
       "    <tr>\n",
       "      <th>Daniel</th>\n",
       "      <td>Male</td>\n",
       "      <td>2016-02-29</td>\n",
       "      <td>77287.0</td>\n",
       "      <td>True</td>\n",
       "      <td>NaN</td>\n",
       "    </tr>\n",
       "    <tr>\n",
       "      <th>Thomas</th>\n",
       "      <td>Male</td>\n",
       "      <td>2016-03-12</td>\n",
       "      <td>105681.0</td>\n",
       "      <td>False</td>\n",
       "      <td>Engineering</td>\n",
       "    </tr>\n",
       "    <tr>\n",
       "      <th>Janice</th>\n",
       "      <td>Female</td>\n",
       "      <td>2016-03-12</td>\n",
       "      <td>51082.0</td>\n",
       "      <td>False</td>\n",
       "      <td>Legal</td>\n",
       "    </tr>\n",
       "    <tr>\n",
       "      <th>Todd</th>\n",
       "      <td>Male</td>\n",
       "      <td>2016-03-16</td>\n",
       "      <td>134408.0</td>\n",
       "      <td>True</td>\n",
       "      <td>HR</td>\n",
       "    </tr>\n",
       "    <tr>\n",
       "      <th>Kathleen</th>\n",
       "      <td>NaN</td>\n",
       "      <td>2016-05-09</td>\n",
       "      <td>119735.0</td>\n",
       "      <td>False</td>\n",
       "      <td>Product</td>\n",
       "    </tr>\n",
       "    <tr>\n",
       "      <th>Lillian</th>\n",
       "      <td>NaN</td>\n",
       "      <td>2016-05-12</td>\n",
       "      <td>64164.0</td>\n",
       "      <td>False</td>\n",
       "      <td>HR</td>\n",
       "    </tr>\n",
       "    <tr>\n",
       "      <th>NaN</th>\n",
       "      <td>Male</td>\n",
       "      <td>2016-05-24</td>\n",
       "      <td>76409.0</td>\n",
       "      <td>NaN</td>\n",
       "      <td>Distribution</td>\n",
       "    </tr>\n",
       "    <tr>\n",
       "      <th>Lillian</th>\n",
       "      <td>Female</td>\n",
       "      <td>2016-06-05</td>\n",
       "      <td>59414.0</td>\n",
       "      <td>False</td>\n",
       "      <td>Product</td>\n",
       "    </tr>\n",
       "    <tr>\n",
       "      <th>Tina</th>\n",
       "      <td>Female</td>\n",
       "      <td>2016-06-16</td>\n",
       "      <td>100705.0</td>\n",
       "      <td>True</td>\n",
       "      <td>Marketing</td>\n",
       "    </tr>\n",
       "    <tr>\n",
       "      <th>Terry</th>\n",
       "      <td>NaN</td>\n",
       "      <td>2016-07-15</td>\n",
       "      <td>140002.0</td>\n",
       "      <td>True</td>\n",
       "      <td>Marketing</td>\n",
       "    </tr>\n",
       "    <tr>\n",
       "      <th>Maria</th>\n",
       "      <td>Female</td>\n",
       "      <td>NaT</td>\n",
       "      <td>130590.0</td>\n",
       "      <td>False</td>\n",
       "      <td>Finance</td>\n",
       "    </tr>\n",
       "    <tr>\n",
       "      <th>NaN</th>\n",
       "      <td>NaN</td>\n",
       "      <td>NaT</td>\n",
       "      <td>NaN</td>\n",
       "      <td>NaN</td>\n",
       "      <td>NaN</td>\n",
       "    </tr>\n",
       "  </tbody>\n",
       "</table>\n",
       "</div>"
      ],
      "text/plain": [
       "            Gender Start Date    Salary   Mgmt          Team\n",
       "First Name                                                  \n",
       "NaN            NaN 2011-12-17   41126.0    NaN         Sales\n",
       "Patricia    Female 2012-12-06  114079.0   True            IT\n",
       "Arthur        Male 2013-12-05   86615.0   True  Business Dev\n",
       "Ronald        Male 2014-04-30  121068.0   True       Product\n",
       "Frances     Female 2014-05-16   35884.0  False         Sales\n",
       "Jesse          NaN 2014-07-16   98811.0  False         Legal\n",
       "NaN         Female 2014-08-17   86230.0    NaN  Distribution\n",
       "Henry          NaN 2014-11-23  132483.0  False  Distribution\n",
       "Brenda      Female 2015-01-18   73749.0  False  Business Dev\n",
       "Jessica        NaN 2015-03-07  121160.0  False            IT\n",
       "Jennifer    Female 2015-03-31  132084.0   True   Engineering\n",
       "Stephen       Male 2015-05-09  141958.0   True         Legal\n",
       "Rose        Female 2015-05-28  149903.0  False            HR\n",
       "Christine      NaN 2015-06-28   66582.0   True  Business Dev\n",
       "Irene          NaN 2015-07-14  100863.0   True       Finance\n",
       "Harry         Male 2015-10-01   64579.0   True         Sales\n",
       "NaN           Male 2015-11-24  145329.0    NaN       Finance\n",
       "Alice       Female 2016-01-21  117787.0  False           NaN\n",
       "Teresa         NaN 2016-01-28  140013.0   True   Engineering\n",
       "Martin        Male 2016-02-25   61117.0  False            IT\n",
       "Johnny        Male 2016-02-26   76394.0   True     Marketing\n",
       "Daniel        Male 2016-02-29   77287.0   True           NaN\n",
       "Thomas        Male 2016-03-12  105681.0  False   Engineering\n",
       "Janice      Female 2016-03-12   51082.0  False         Legal\n",
       "Todd          Male 2016-03-16  134408.0   True            HR\n",
       "Kathleen       NaN 2016-05-09  119735.0  False       Product\n",
       "Lillian        NaN 2016-05-12   64164.0  False            HR\n",
       "NaN           Male 2016-05-24   76409.0    NaN  Distribution\n",
       "Lillian     Female 2016-06-05   59414.0  False       Product\n",
       "Tina        Female 2016-06-16  100705.0   True     Marketing\n",
       "Terry          NaN 2016-07-15  140002.0   True     Marketing\n",
       "Maria       Female        NaT  130590.0  False       Finance\n",
       "NaN            NaN        NaT       NaN    NaN           NaN"
      ]
     },
     "execution_count": 65,
     "metadata": {},
     "output_type": "execute_result"
    }
   ],
   "source": [
    "df.drop_duplicates(keep='last', subset=['Team', 'Gender']) # jadidtarin mard va jadidtarin zan har team (akharin)\n",
    "# ro negah midare va baghi ro hazf mikone\n",
    "\n",
    "# df.drop_duplicates() keep='first', subset=[hameie sotunha]\n",
    "\n",
    "# NaN ham iek value mojaza dide mishe\n",
    "\n",
    "# keep=False iany age tekrarie hich kodumesh ro negah nadar"
   ]
  },
  {
   "cell_type": "code",
   "execution_count": 78,
   "id": "cf976a92-2b80-417f-8317-0957dd0950e8",
   "metadata": {},
   "outputs": [
    {
     "data": {
      "text/html": [
       "<div>\n",
       "<style scoped>\n",
       "    .dataframe tbody tr th:only-of-type {\n",
       "        vertical-align: middle;\n",
       "    }\n",
       "\n",
       "    .dataframe tbody tr th {\n",
       "        vertical-align: top;\n",
       "    }\n",
       "\n",
       "    .dataframe thead th {\n",
       "        text-align: right;\n",
       "    }\n",
       "</style>\n",
       "<table border=\"1\" class=\"dataframe\">\n",
       "  <thead>\n",
       "    <tr style=\"text-align: right;\">\n",
       "      <th></th>\n",
       "      <th>index</th>\n",
       "      <th>First Name</th>\n",
       "      <th>Gender</th>\n",
       "      <th>Start Date</th>\n",
       "      <th>Salary</th>\n",
       "      <th>Mgmt</th>\n",
       "      <th>Team</th>\n",
       "    </tr>\n",
       "  </thead>\n",
       "  <tbody>\n",
       "    <tr>\n",
       "      <th>114</th>\n",
       "      <td>114</td>\n",
       "      <td>Eugene</td>\n",
       "      <td>Male</td>\n",
       "      <td>1984-05-24</td>\n",
       "      <td>81077.0</td>\n",
       "      <td>False</td>\n",
       "      <td>Sales</td>\n",
       "    </tr>\n",
       "    <tr>\n",
       "      <th>128</th>\n",
       "      <td>128</td>\n",
       "      <td>Tammy</td>\n",
       "      <td>Female</td>\n",
       "      <td>1984-11-11</td>\n",
       "      <td>132839.0</td>\n",
       "      <td>True</td>\n",
       "      <td>IT</td>\n",
       "    </tr>\n",
       "    <tr>\n",
       "      <th>183</th>\n",
       "      <td>183</td>\n",
       "      <td>Dennis</td>\n",
       "      <td>Male</td>\n",
       "      <td>1987-04-18</td>\n",
       "      <td>115163.0</td>\n",
       "      <td>False</td>\n",
       "      <td>Legal</td>\n",
       "    </tr>\n",
       "    <tr>\n",
       "      <th>334</th>\n",
       "      <td>334</td>\n",
       "      <td>Jean</td>\n",
       "      <td>Female</td>\n",
       "      <td>1993-12-18</td>\n",
       "      <td>119082.0</td>\n",
       "      <td>False</td>\n",
       "      <td>Business Dev</td>\n",
       "    </tr>\n",
       "    <tr>\n",
       "      <th>406</th>\n",
       "      <td>406</td>\n",
       "      <td>Carol</td>\n",
       "      <td>Female</td>\n",
       "      <td>1996-03-19</td>\n",
       "      <td>57783.0</td>\n",
       "      <td>False</td>\n",
       "      <td>Finance</td>\n",
       "    </tr>\n",
       "    <tr>\n",
       "      <th>607</th>\n",
       "      <td>607</td>\n",
       "      <td>Keith</td>\n",
       "      <td>Male</td>\n",
       "      <td>2003-02-12</td>\n",
       "      <td>120672.0</td>\n",
       "      <td>False</td>\n",
       "      <td>Legal</td>\n",
       "    </tr>\n",
       "    <tr>\n",
       "      <th>688</th>\n",
       "      <td>688</td>\n",
       "      <td>Angela</td>\n",
       "      <td>Female</td>\n",
       "      <td>2005-11-22</td>\n",
       "      <td>95570.0</td>\n",
       "      <td>True</td>\n",
       "      <td>Engineering</td>\n",
       "    </tr>\n",
       "    <tr>\n",
       "      <th>728</th>\n",
       "      <td>728</td>\n",
       "      <td>Brian</td>\n",
       "      <td>Male</td>\n",
       "      <td>2007-04-07</td>\n",
       "      <td>93901.0</td>\n",
       "      <td>True</td>\n",
       "      <td>Legal</td>\n",
       "    </tr>\n",
       "    <tr>\n",
       "      <th>817</th>\n",
       "      <td>817</td>\n",
       "      <td>David</td>\n",
       "      <td>Male</td>\n",
       "      <td>2009-12-05</td>\n",
       "      <td>92242.0</td>\n",
       "      <td>False</td>\n",
       "      <td>Legal</td>\n",
       "    </tr>\n",
       "  </tbody>\n",
       "</table>\n",
       "</div>"
      ],
      "text/plain": [
       "     index First Name  Gender Start Date    Salary   Mgmt          Team\n",
       "114    114     Eugene    Male 1984-05-24   81077.0  False         Sales\n",
       "128    128      Tammy  Female 1984-11-11  132839.0   True            IT\n",
       "183    183     Dennis    Male 1987-04-18  115163.0  False         Legal\n",
       "334    334       Jean  Female 1993-12-18  119082.0  False  Business Dev\n",
       "406    406      Carol  Female 1996-03-19   57783.0  False       Finance\n",
       "607    607      Keith    Male 2003-02-12  120672.0  False         Legal\n",
       "688    688     Angela  Female 2005-11-22   95570.0   True   Engineering\n",
       "728    728      Brian    Male 2007-04-07   93901.0   True         Legal\n",
       "817    817      David    Male 2009-12-05   92242.0  False         Legal"
      ]
     },
     "execution_count": 78,
     "metadata": {},
     "output_type": "execute_result"
    }
   ],
   "source": [
    "df.reset_index(inplace=True) #aval First Name ro biarim jozve sotun value\n",
    "\n",
    "# afradi ke tuie sherkat esme khas daran\n",
    "df.drop_duplicates(keep=False, subset=['First Name'])"
   ]
  },
  {
   "cell_type": "code",
   "execution_count": null,
   "id": "ad432cee-ae7a-42c6-b0f7-4389fbabb381",
   "metadata": {},
   "outputs": [],
   "source": []
  },
  {
   "cell_type": "markdown",
   "id": "bdcaba72-75d6-4374-8632-25f0ee1c6607",
   "metadata": {},
   "source": [
    "<h1>import matplotlib </h1>"
   ]
  },
  {
   "cell_type": "code",
   "execution_count": 90,
   "id": "ceab9c9c-c776-4b6a-b38f-88987ca349a9",
   "metadata": {},
   "outputs": [],
   "source": [
    "import matplotlib.pyplot as plt"
   ]
  },
  {
   "cell_type": "code",
   "execution_count": 84,
   "id": "e4343901-1e67-49a8-b7cc-d30c7a476ad8",
   "metadata": {},
   "outputs": [],
   "source": [
    "%matplotlib inline\n",
    "#faghat dar notebook niaz hast"
   ]
  },
  {
   "cell_type": "code",
   "execution_count": null,
   "id": "2724d01f-e957-4b5c-9f83-2e1585acd727",
   "metadata": {},
   "outputs": [],
   "source": []
  },
  {
   "cell_type": "code",
   "execution_count": null,
   "id": "db464a59-daee-496f-906f-cbd8397401e2",
   "metadata": {},
   "outputs": [],
   "source": []
  },
  {
   "cell_type": "markdown",
   "id": "d80f6eab-e03d-4459-9d54-f208dafcc79d",
   "metadata": {},
   "source": [
    "<h1> date_format</h1>"
   ]
  },
  {
   "cell_type": "code",
   "execution_count": 16,
   "id": "0855aaa6-e26f-4514-920f-3dafd6132fe9",
   "metadata": {},
   "outputs": [],
   "source": [
    "df = pd.read_csv('btc-usd.csv',\n",
    "                 parse_dates=['Date'],\n",
    "                 date_format='%Y-%m-%d')\n",
    "# 2025-01-15"
   ]
  },
  {
   "cell_type": "raw",
   "id": "6913f098-b349-4c9c-a476-7a496de35092",
   "metadata": {},
   "source": [
    "\n",
    "%y baraie sale do raghami"
   ]
  },
  {
   "cell_type": "code",
   "execution_count": null,
   "id": "de3500bd-6549-436d-bc67-b07f7cbd1feb",
   "metadata": {},
   "outputs": [],
   "source": []
  },
  {
   "cell_type": "markdown",
   "id": "c3689862-8436-499a-8ef3-384018193262",
   "metadata": {},
   "source": [
    "<h1> avalin nemudar</h1>"
   ]
  },
  {
   "cell_type": "code",
   "execution_count": 98,
   "id": "87e5437f-0caa-4066-85cc-facfdbd41d1b",
   "metadata": {},
   "outputs": [],
   "source": [
    "# x = np.linspace(0,10, 100) #100 noghte be surat ndarray avali 0 akhari 100"
   ]
  },
  {
   "cell_type": "code",
   "execution_count": 93,
   "id": "aacb69a2-094b-47f3-877c-5824d5065da6",
   "metadata": {},
   "outputs": [],
   "source": [
    "# y =np.sin(x)"
   ]
  },
  {
   "cell_type": "code",
   "execution_count": 101,
   "id": "1e27b57c-1d8f-4c95-8c31-f2a2f47f3388",
   "metadata": {},
   "outputs": [],
   "source": [
    "x = [1, 2, 3]\n",
    "y = [2, 4, 6]"
   ]
  },
  {
   "cell_type": "code",
   "execution_count": 102,
   "id": "774e452b-b0fd-4a7f-b7e3-0fa7cc68b437",
   "metadata": {},
   "outputs": [
    {
     "data": {
      "text/plain": [
       "[<matplotlib.lines.Line2D at 0x7f02c6a6cdd0>]"
      ]
     },
     "execution_count": 102,
     "metadata": {},
     "output_type": "execute_result"
    },
    {
     "data": {
      "image/png": "[encoded data removed]",
      "text/plain": [
       "<Figure size 640x480 with 1 Axes>"
      ]
     },
     "metadata": {},
     "output_type": "display_data"
    }
   ],
   "source": [
    "plt.plot(x,y)"
   ]
  },
  {
   "cell_type": "code",
   "execution_count": null,
   "id": "8214b56b-c359-4e0c-ac09-7649e87486ea",
   "metadata": {},
   "outputs": [],
   "source": []
  },
  {
   "cell_type": "markdown",
   "id": "7fa47fd4-98d9-465a-86a9-6b8a069f720c",
   "metadata": {},
   "source": [
    "<h1>plot dataframe</h1>"
   ]
  },
  {
   "cell_type": "markdown",
   "id": "4b037929-ec2e-4363-9edc-410b7acbcc5d",
   "metadata": {},
   "source": [
    "1-<code>sotun.plot()</code><br>\n",
    "2-<code>(operation on sotunha).plot()</code><br>\n",
    "3-<code>df.plot()</code><br>\n",
    "4-<code>df.plot(y=sotun)</code><br>\n",
    "5-<code>df.plot(y=list of sotunha)</code>\n",
    "6-<code>series.plot()</code><br>\n",
    "\n",
    "ta alan x=index bude\n",
    "\n",
    "7-<code>df.plot(x= sotun1, y=sotun1)</code><br>"
   ]
  },
  {
   "cell_type": "code",
   "execution_count": 1,
   "id": "9218b626-9456-4fc5-97a2-fcb60d432649",
   "metadata": {},
   "outputs": [],
   "source": [
    "import matplotlib.pyplot as plt"
   ]
  },
  {
   "cell_type": "code",
   "execution_count": 2,
   "id": "416ec0db-1a29-478d-963a-47e6a5063a2f",
   "metadata": {},
   "outputs": [],
   "source": [
    "%matplotlib inline"
   ]
  },
  {
   "cell_type": "code",
   "execution_count": 4,
   "id": "d0023bc6-c0af-4bbf-ba41-ba49af3fc760",
   "metadata": {},
   "outputs": [],
   "source": [
    "import pandas as pd"
   ]
  },
  {
   "cell_type": "code",
   "execution_count": 17,
   "id": "b0943372-501c-41d2-aabd-18bb409bd735",
   "metadata": {},
   "outputs": [],
   "source": [
    "df = pd.read_csv('btc-usd.csv', index_col='Date',\n",
    "                 parse_dates=['Date'], date_format='%Y-%m-%d')"
   ]
  },
  {
   "cell_type": "code",
   "execution_count": 8,
   "id": "c567945a-5146-4ff3-860e-9ded1046e2ff",
   "metadata": {},
   "outputs": [
    {
     "data": {
      "text/plain": [
       "<Axes: xlabel='Date'>"
      ]
     },
     "execution_count": 8,
     "metadata": {},
     "output_type": "execute_result"
    },
    {
     "data": {
      "image/png": "[encoded data removed]",
      "text/plain": [
       "<Figure size 640x480 with 1 Axes>"
      ]
     },
     "metadata": {},
     "output_type": "display_data"
    }
   ],
   "source": [
    "# 1\n",
    "df['Close'].plot()"
   ]
  },
  {
   "cell_type": "code",
   "execution_count": 9,
   "id": "b168aa12-69e5-4165-93cc-c3138e1aab49",
   "metadata": {},
   "outputs": [
    {
     "data": {
      "text/plain": [
       "<Axes: xlabel='Date'>"
      ]
     },
     "execution_count": 9,
     "metadata": {},
     "output_type": "execute_result"
    },
    {
     "data": {
      "image/png": "[encoded data removed]",
      "text/plain": [
       "<Figure size 640x480 with 1 Axes>"
      ]
     },
     "metadata": {},
     "output_type": "display_data"
    }
   ],
   "source": [
    "# 2\n",
    "(df['Close'] - df['Open']).plot()"
   ]
  },
  {
   "cell_type": "code",
   "execution_count": 10,
   "id": "e7e62b2b-28fa-4241-bd97-bcc5e6e1fd15",
   "metadata": {},
   "outputs": [
    {
     "data": {
      "text/plain": [
       "<Axes: xlabel='Date'>"
      ]
     },
     "execution_count": 10,
     "metadata": {},
     "output_type": "execute_result"
    },
    {
     "data": {
      "image/png": "[encoded data removed]",
      "text/plain": [
       "<Figure size 640x480 with 1 Axes>"
      ]
     },
     "metadata": {},
     "output_type": "display_data"
    }
   ],
   "source": [
    "df.plot()"
   ]
  },
  {
   "cell_type": "code",
   "execution_count": 14,
   "id": "d770c468-aaf7-41fd-b408-e0f5be171b2d",
   "metadata": {},
   "outputs": [
    {
     "data": {
      "text/plain": [
       "<Axes: xlabel='Date'>"
      ]
     },
     "execution_count": 14,
     "metadata": {},
     "output_type": "execute_result"
    },
    {
     "data": {
      "image/png": "[encoded data removed]",
      "text/plain": [
       "<Figure size 640x480 with 1 Axes>"
      ]
     },
     "metadata": {},
     "output_type": "display_data"
    }
   ],
   "source": [
    "# 5\n",
    "df.plot(y=['Open', 'Close'])"
   ]
  },
  {
   "cell_type": "markdown",
   "id": "b74b96d6-3b51-4ff7-9f8b-d939fe504302",
   "metadata": {},
   "source": [
    "<h1>plot kind param</h1>"
   ]
  },
  {
   "cell_type": "raw",
   "id": "fde87401-19b0-456d-8802-46eba0e82f4b",
   "metadata": {},
   "source": [
    ".plot(kind='bar')\n",
    "barh\n",
    "pie"
   ]
  },
  {
   "cell_type": "markdown",
   "id": "c1e912e3-0871-40ba-84e7-d26167b40dac",
   "metadata": {},
   "source": [
    "<h1> plot legend param</h1>"
   ]
  },
  {
   "cell_type": "raw",
   "id": "494aca1e-bea9-40aa-b9f9-b9b1ddaa05b3",
   "metadata": {},
   "source": [
    "manzur un rahnamie plot hast ke masaln felan rang marbut be chi hast\n",
    "be surat pish farz True hast vali mishe False kard"
   ]
  },
  {
   "cell_type": "code",
   "execution_count": 21,
   "id": "c2057790-9bc7-4e3c-9ec4-e07c65e22956",
   "metadata": {},
   "outputs": [
    {
     "data": {
      "text/plain": [
       "<Axes: xlabel='Date'>"
      ]
     },
     "execution_count": 21,
     "metadata": {},
     "output_type": "execute_result"
    },
    {
     "data": {
      "image/png": "[encoded data removed]",
      "text/plain": [
       "<Figure size 640x480 with 1 Axes>"
      ]
     },
     "metadata": {},
     "output_type": "display_data"
    }
   ],
   "source": [
    "df.plot(y='Open', legend=False)"
   ]
  },
  {
   "cell_type": "code",
   "execution_count": 22,
   "id": "770e538c-f308-4e01-8f37-97c031c08856",
   "metadata": {},
   "outputs": [
    {
     "data": {
      "text/plain": [
       "<Axes: xlabel='Date'>"
      ]
     },
     "execution_count": 22,
     "metadata": {},
     "output_type": "execute_result"
    },
    {
     "data": {
      "image/png": "[encoded data removed]",
      "text/plain": [
       "<Figure size 640x480 with 1 Axes>"
      ]
     },
     "metadata": {},
     "output_type": "display_data"
    }
   ],
   "source": [
    "df.plot(y='Open')"
   ]
  },
  {
   "cell_type": "code",
   "execution_count": null,
   "id": "ece87062-a494-4776-80b9-7f52f0103ebd",
   "metadata": {},
   "outputs": [],
   "source": []
  },
  {
   "cell_type": "markdown",
   "id": "d328493a-4324-484a-aadb-a3f0d637df77",
   "metadata": {},
   "source": [
    "<h1>create an excel file with DataFrame</h1>"
   ]
  },
  {
   "cell_type": "code",
   "execution_count": 19,
   "id": "6a57fc68-0391-4b07-a801-cff194c57710",
   "metadata": {},
   "outputs": [],
   "source": [
    "dic = {\n",
    "    'c1' : ['r1c1','r2c1'],\n",
    "    'c2' : ['r1c2','r2c2']\n",
    "}"
   ]
  },
  {
   "cell_type": "code",
   "execution_count": 20,
   "id": "bca6478d-7b17-4972-94f2-7ca85fb82cfd",
   "metadata": {},
   "outputs": [],
   "source": [
    "import pandas as pd"
   ]
  },
  {
   "cell_type": "code",
   "execution_count": 21,
   "id": "d020d87e-0219-4e30-ae22-58596c804705",
   "metadata": {},
   "outputs": [],
   "source": [
    "df = pd.DataFrame(dic, index=['r1', 'r2'])"
   ]
  },
  {
   "cell_type": "code",
   "execution_count": 22,
   "id": "f0cfad1b-ba36-4636-872f-19823772665e",
   "metadata": {},
   "outputs": [
    {
     "data": {
      "text/html": [
       "<div>\n",
       "<style scoped>\n",
       "    .dataframe tbody tr th:only-of-type {\n",
       "        vertical-align: middle;\n",
       "    }\n",
       "\n",
       "    .dataframe tbody tr th {\n",
       "        vertical-align: top;\n",
       "    }\n",
       "\n",
       "    .dataframe thead th {\n",
       "        text-align: right;\n",
       "    }\n",
       "</style>\n",
       "<table border=\"1\" class=\"dataframe\">\n",
       "  <thead>\n",
       "    <tr style=\"text-align: right;\">\n",
       "      <th></th>\n",
       "      <th>c1</th>\n",
       "      <th>c2</th>\n",
       "    </tr>\n",
       "  </thead>\n",
       "  <tbody>\n",
       "    <tr>\n",
       "      <th>r1</th>\n",
       "      <td>r1c1</td>\n",
       "      <td>r1c2</td>\n",
       "    </tr>\n",
       "    <tr>\n",
       "      <th>r2</th>\n",
       "      <td>r2c1</td>\n",
       "      <td>r2c2</td>\n",
       "    </tr>\n",
       "  </tbody>\n",
       "</table>\n",
       "</div>"
      ],
      "text/plain": [
       "      c1    c2\n",
       "r1  r1c1  r1c2\n",
       "r2  r2c1  r2c2"
      ]
     },
     "execution_count": 22,
     "metadata": {},
     "output_type": "execute_result"
    }
   ],
   "source": [
    "df"
   ]
  },
  {
   "cell_type": "code",
   "execution_count": 23,
   "id": "ce9335d9-9db1-4f00-9b69-bbd8ed9bbf22",
   "metadata": {},
   "outputs": [],
   "source": [
    "file = 'new.xlsx'"
   ]
  },
  {
   "cell_type": "code",
   "execution_count": 24,
   "id": "5825ddf8-b6a9-4a53-989c-21c9ed7721d7",
   "metadata": {},
   "outputs": [],
   "source": [
    "df.to_excel(file)"
   ]
  },
  {
   "cell_type": "code",
   "execution_count": null,
   "id": "b887135a-a723-4b88-a43d-5f15a095eb4c",
   "metadata": {},
   "outputs": [],
   "source": []
  },
  {
   "cell_type": "code",
   "execution_count": null,
   "id": "0a613913-8cbc-4f47-9d4b-a22001e69619",
   "metadata": {},
   "outputs": [],
   "source": []
  }
 ],
 "metadata": {
  "kernelspec": {
   "display_name": "Python 3 (ipykernel)",
   "language": "python",
   "name": "python3"
  },
  "language_info": {
   "codemirror_mode": {
    "name": "ipython",
    "version": 3
   },
   "file_extension": ".py",
   "mimetype": "text/x-python",
   "name": "python",
   "nbconvert_exporter": "python",
   "pygments_lexer": "ipython3",
   "version": "3.12.9"
  }
 },
 "nbformat": 4,
 "nbformat_minor": 5
}
